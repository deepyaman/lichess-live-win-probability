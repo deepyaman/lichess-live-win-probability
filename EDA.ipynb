{
 "cells": [
  {
   "cell_type": "code",
   "execution_count": 1,
   "id": "e12d7a99-eee8-4d51-b144-d053147e30ce",
   "metadata": {},
   "outputs": [],
   "source": [
    "import ibis\n",
    "from ibis import _\n",
    "\n",
    "ibis.options.interactive = True"
   ]
  },
  {
   "cell_type": "code",
   "execution_count": 2,
   "id": "292b63ac-716e-4a50-929f-d0282508de9b",
   "metadata": {
    "scrolled": true
   },
   "outputs": [
    {
     "data": {
      "text/html": [
       "<pre style=\"white-space:pre;overflow-x:auto;line-height:normal;font-family:Menlo,'DejaVu Sans Mono',consolas,'Courier New',monospace\">┏━━━━━━━━━━━━━━━━━━━┳━━━━━━━━━━━━━━━━━━━━━━━━━━━━━━┳━━━━━━━━━━━━┳━━━━━━━━┳━━━━━━━━━━━━┳━━━━━━━━━━━━━┳━━━━━━━━━┳━━━━━━━━━━━━┳━━━━━━━━━━┳━━━━━━━━━━━┳━━━━━━━━━━━┳━━━━━━━━━━━━━━━━━━━┳━━━━━━━━━━━━━━━━━━━┳━━━━━━━━━━━━━┳━━━━━━━━━━━━━┳━━━━━━━━┳━━━━━━━━━━━━━━━━━━━━━━━━━━━━━━━━━━━━━━━━━━━━━━━━━━━━━━━━━━━━━━━━┳━━━━━━━━━━━━━━┳━━━━━━━━━━━━━┳━━━━━━━━━━┳━━━━━━━━━━━━━━━━┓\n",
       "┃<span style=\"font-weight: bold\"> event             </span>┃<span style=\"font-weight: bold\"> site                         </span>┃<span style=\"font-weight: bold\"> date       </span>┃<span style=\"font-weight: bold\"> round  </span>┃<span style=\"font-weight: bold\"> white      </span>┃<span style=\"font-weight: bold\"> black       </span>┃<span style=\"font-weight: bold\"> result  </span>┃<span style=\"font-weight: bold\"> utc_date   </span>┃<span style=\"font-weight: bold\"> utc_time </span>┃<span style=\"font-weight: bold\"> white_elo </span>┃<span style=\"font-weight: bold\"> black_elo </span>┃<span style=\"font-weight: bold\"> white_rating_diff </span>┃<span style=\"font-weight: bold\"> black_rating_diff </span>┃<span style=\"font-weight: bold\"> white_title </span>┃<span style=\"font-weight: bold\"> black_title </span>┃<span style=\"font-weight: bold\"> eco    </span>┃<span style=\"font-weight: bold\"> opening                                                        </span>┃<span style=\"font-weight: bold\"> time_control </span>┃<span style=\"font-weight: bold\"> termination </span>┃<span style=\"font-weight: bold\"> move_ply </span>┃<span style=\"font-weight: bold\"> move_comment   </span>┃\n",
       "┡━━━━━━━━━━━━━━━━━━━╇━━━━━━━━━━━━━━━━━━━━━━━━━━━━━━╇━━━━━━━━━━━━╇━━━━━━━━╇━━━━━━━━━━━━╇━━━━━━━━━━━━━╇━━━━━━━━━╇━━━━━━━━━━━━╇━━━━━━━━━━╇━━━━━━━━━━━╇━━━━━━━━━━━╇━━━━━━━━━━━━━━━━━━━╇━━━━━━━━━━━━━━━━━━━╇━━━━━━━━━━━━━╇━━━━━━━━━━━━━╇━━━━━━━━╇━━━━━━━━━━━━━━━━━━━━━━━━━━━━━━━━━━━━━━━━━━━━━━━━━━━━━━━━━━━━━━━━╇━━━━━━━━━━━━━━╇━━━━━━━━━━━━━╇━━━━━━━━━━╇━━━━━━━━━━━━━━━━┩\n",
       "│ <span style=\"color: #7f7f7f; text-decoration-color: #7f7f7f\">string</span>            │ <span style=\"color: #7f7f7f; text-decoration-color: #7f7f7f\">string</span>                       │ <span style=\"color: #7f7f7f; text-decoration-color: #7f7f7f\">string</span>     │ <span style=\"color: #7f7f7f; text-decoration-color: #7f7f7f\">string</span> │ <span style=\"color: #7f7f7f; text-decoration-color: #7f7f7f\">string</span>     │ <span style=\"color: #7f7f7f; text-decoration-color: #7f7f7f\">string</span>      │ <span style=\"color: #7f7f7f; text-decoration-color: #7f7f7f\">string</span>  │ <span style=\"color: #7f7f7f; text-decoration-color: #7f7f7f\">string</span>     │ <span style=\"color: #7f7f7f; text-decoration-color: #7f7f7f\">string</span>   │ <span style=\"color: #7f7f7f; text-decoration-color: #7f7f7f\">string</span>    │ <span style=\"color: #7f7f7f; text-decoration-color: #7f7f7f\">string</span>    │ <span style=\"color: #7f7f7f; text-decoration-color: #7f7f7f\">string</span>            │ <span style=\"color: #7f7f7f; text-decoration-color: #7f7f7f\">string</span>            │ <span style=\"color: #7f7f7f; text-decoration-color: #7f7f7f\">string</span>      │ <span style=\"color: #7f7f7f; text-decoration-color: #7f7f7f\">string</span>      │ <span style=\"color: #7f7f7f; text-decoration-color: #7f7f7f\">string</span> │ <span style=\"color: #7f7f7f; text-decoration-color: #7f7f7f\">string</span>                                                         │ <span style=\"color: #7f7f7f; text-decoration-color: #7f7f7f\">string</span>       │ <span style=\"color: #7f7f7f; text-decoration-color: #7f7f7f\">string</span>      │ <span style=\"color: #7f7f7f; text-decoration-color: #7f7f7f\">int64</span>    │ <span style=\"color: #7f7f7f; text-decoration-color: #7f7f7f\">string</span>         │\n",
       "├───────────────────┼──────────────────────────────┼────────────┼────────┼────────────┼─────────────┼─────────┼────────────┼──────────┼───────────┼───────────┼───────────────────┼───────────────────┼─────────────┼─────────────┼────────┼────────────────────────────────────────────────────────────────┼──────────────┼─────────────┼──────────┼────────────────┤\n",
       "│ <span style=\"color: #008000; text-decoration-color: #008000\">Rated Bullet game</span> │ <a href=\"https://lichess.org/qjWLfHje\" target=\"_blank\"><span style=\"color: #008000; text-decoration-color: #008000\">https://lichess.org/qjWLfHje</span></a> │ <span style=\"color: #008000; text-decoration-color: #008000\">2024.06.01</span> │ <span style=\"color: #008000; text-decoration-color: #008000\">-     </span> │ <span style=\"color: #008000; text-decoration-color: #008000\">simple-bot</span> │ <span style=\"color: #008000; text-decoration-color: #008000\">simplexitor</span> │ <span style=\"color: #008000; text-decoration-color: #008000\">1/2-1/2</span> │ <span style=\"color: #008000; text-decoration-color: #008000\">2024.06.01</span> │ <span style=\"color: #008000; text-decoration-color: #008000\">00:00:00</span> │ <span style=\"color: #008000; text-decoration-color: #008000\">1872     </span> │ <span style=\"color: #008000; text-decoration-color: #008000\">1744     </span> │ <span style=\"color: #008000; text-decoration-color: #008000\">-2               </span> │ <span style=\"color: #008000; text-decoration-color: #008000\">+2               </span> │ <span style=\"color: #008000; text-decoration-color: #008000\">BOT        </span> │ <span style=\"color: #008000; text-decoration-color: #008000\">BOT        </span> │ <span style=\"color: #008000; text-decoration-color: #008000\">A15   </span> │ <span style=\"color: #008000; text-decoration-color: #008000\">English Opening: Anglo-Indian Defense, King's Knight Variation</span> │ <span style=\"color: #008000; text-decoration-color: #008000\">60+1        </span> │ <span style=\"color: #008000; text-decoration-color: #008000\">Normal     </span> │        <span style=\"color: #008080; text-decoration-color: #008080; font-weight: bold\">1</span> │ <span style=\"color: #008000; text-decoration-color: #008000\">[%clk 0:01:00]</span> │\n",
       "│ <span style=\"color: #008000; text-decoration-color: #008000\">Rated Bullet game</span> │ <a href=\"https://lichess.org/qjWLfHje\" target=\"_blank\"><span style=\"color: #008000; text-decoration-color: #008000\">https://lichess.org/qjWLfHje</span></a> │ <span style=\"color: #008000; text-decoration-color: #008000\">2024.06.01</span> │ <span style=\"color: #008000; text-decoration-color: #008000\">-     </span> │ <span style=\"color: #008000; text-decoration-color: #008000\">simple-bot</span> │ <span style=\"color: #008000; text-decoration-color: #008000\">simplexitor</span> │ <span style=\"color: #008000; text-decoration-color: #008000\">1/2-1/2</span> │ <span style=\"color: #008000; text-decoration-color: #008000\">2024.06.01</span> │ <span style=\"color: #008000; text-decoration-color: #008000\">00:00:00</span> │ <span style=\"color: #008000; text-decoration-color: #008000\">1872     </span> │ <span style=\"color: #008000; text-decoration-color: #008000\">1744     </span> │ <span style=\"color: #008000; text-decoration-color: #008000\">-2               </span> │ <span style=\"color: #008000; text-decoration-color: #008000\">+2               </span> │ <span style=\"color: #008000; text-decoration-color: #008000\">BOT        </span> │ <span style=\"color: #008000; text-decoration-color: #008000\">BOT        </span> │ <span style=\"color: #008000; text-decoration-color: #008000\">A15   </span> │ <span style=\"color: #008000; text-decoration-color: #008000\">English Opening: Anglo-Indian Defense, King's Knight Variation</span> │ <span style=\"color: #008000; text-decoration-color: #008000\">60+1        </span> │ <span style=\"color: #008000; text-decoration-color: #008000\">Normal     </span> │        <span style=\"color: #008080; text-decoration-color: #008080; font-weight: bold\">2</span> │ <span style=\"color: #008000; text-decoration-color: #008000\">[%clk 0:01:00]</span> │\n",
       "│ <span style=\"color: #008000; text-decoration-color: #008000\">Rated Bullet game</span> │ <a href=\"https://lichess.org/qjWLfHje\" target=\"_blank\"><span style=\"color: #008000; text-decoration-color: #008000\">https://lichess.org/qjWLfHje</span></a> │ <span style=\"color: #008000; text-decoration-color: #008000\">2024.06.01</span> │ <span style=\"color: #008000; text-decoration-color: #008000\">-     </span> │ <span style=\"color: #008000; text-decoration-color: #008000\">simple-bot</span> │ <span style=\"color: #008000; text-decoration-color: #008000\">simplexitor</span> │ <span style=\"color: #008000; text-decoration-color: #008000\">1/2-1/2</span> │ <span style=\"color: #008000; text-decoration-color: #008000\">2024.06.01</span> │ <span style=\"color: #008000; text-decoration-color: #008000\">00:00:00</span> │ <span style=\"color: #008000; text-decoration-color: #008000\">1872     </span> │ <span style=\"color: #008000; text-decoration-color: #008000\">1744     </span> │ <span style=\"color: #008000; text-decoration-color: #008000\">-2               </span> │ <span style=\"color: #008000; text-decoration-color: #008000\">+2               </span> │ <span style=\"color: #008000; text-decoration-color: #008000\">BOT        </span> │ <span style=\"color: #008000; text-decoration-color: #008000\">BOT        </span> │ <span style=\"color: #008000; text-decoration-color: #008000\">A15   </span> │ <span style=\"color: #008000; text-decoration-color: #008000\">English Opening: Anglo-Indian Defense, King's Knight Variation</span> │ <span style=\"color: #008000; text-decoration-color: #008000\">60+1        </span> │ <span style=\"color: #008000; text-decoration-color: #008000\">Normal     </span> │        <span style=\"color: #008080; text-decoration-color: #008080; font-weight: bold\">3</span> │ <span style=\"color: #008000; text-decoration-color: #008000\">[%clk 0:01:00]</span> │\n",
       "│ <span style=\"color: #008000; text-decoration-color: #008000\">Rated Bullet game</span> │ <a href=\"https://lichess.org/qjWLfHje\" target=\"_blank\"><span style=\"color: #008000; text-decoration-color: #008000\">https://lichess.org/qjWLfHje</span></a> │ <span style=\"color: #008000; text-decoration-color: #008000\">2024.06.01</span> │ <span style=\"color: #008000; text-decoration-color: #008000\">-     </span> │ <span style=\"color: #008000; text-decoration-color: #008000\">simple-bot</span> │ <span style=\"color: #008000; text-decoration-color: #008000\">simplexitor</span> │ <span style=\"color: #008000; text-decoration-color: #008000\">1/2-1/2</span> │ <span style=\"color: #008000; text-decoration-color: #008000\">2024.06.01</span> │ <span style=\"color: #008000; text-decoration-color: #008000\">00:00:00</span> │ <span style=\"color: #008000; text-decoration-color: #008000\">1872     </span> │ <span style=\"color: #008000; text-decoration-color: #008000\">1744     </span> │ <span style=\"color: #008000; text-decoration-color: #008000\">-2               </span> │ <span style=\"color: #008000; text-decoration-color: #008000\">+2               </span> │ <span style=\"color: #008000; text-decoration-color: #008000\">BOT        </span> │ <span style=\"color: #008000; text-decoration-color: #008000\">BOT        </span> │ <span style=\"color: #008000; text-decoration-color: #008000\">A15   </span> │ <span style=\"color: #008000; text-decoration-color: #008000\">English Opening: Anglo-Indian Defense, King's Knight Variation</span> │ <span style=\"color: #008000; text-decoration-color: #008000\">60+1        </span> │ <span style=\"color: #008000; text-decoration-color: #008000\">Normal     </span> │        <span style=\"color: #008080; text-decoration-color: #008080; font-weight: bold\">4</span> │ <span style=\"color: #008000; text-decoration-color: #008000\">[%clk 0:00:59]</span> │\n",
       "│ <span style=\"color: #008000; text-decoration-color: #008000\">Rated Bullet game</span> │ <a href=\"https://lichess.org/qjWLfHje\" target=\"_blank\"><span style=\"color: #008000; text-decoration-color: #008000\">https://lichess.org/qjWLfHje</span></a> │ <span style=\"color: #008000; text-decoration-color: #008000\">2024.06.01</span> │ <span style=\"color: #008000; text-decoration-color: #008000\">-     </span> │ <span style=\"color: #008000; text-decoration-color: #008000\">simple-bot</span> │ <span style=\"color: #008000; text-decoration-color: #008000\">simplexitor</span> │ <span style=\"color: #008000; text-decoration-color: #008000\">1/2-1/2</span> │ <span style=\"color: #008000; text-decoration-color: #008000\">2024.06.01</span> │ <span style=\"color: #008000; text-decoration-color: #008000\">00:00:00</span> │ <span style=\"color: #008000; text-decoration-color: #008000\">1872     </span> │ <span style=\"color: #008000; text-decoration-color: #008000\">1744     </span> │ <span style=\"color: #008000; text-decoration-color: #008000\">-2               </span> │ <span style=\"color: #008000; text-decoration-color: #008000\">+2               </span> │ <span style=\"color: #008000; text-decoration-color: #008000\">BOT        </span> │ <span style=\"color: #008000; text-decoration-color: #008000\">BOT        </span> │ <span style=\"color: #008000; text-decoration-color: #008000\">A15   </span> │ <span style=\"color: #008000; text-decoration-color: #008000\">English Opening: Anglo-Indian Defense, King's Knight Variation</span> │ <span style=\"color: #008000; text-decoration-color: #008000\">60+1        </span> │ <span style=\"color: #008000; text-decoration-color: #008000\">Normal     </span> │        <span style=\"color: #008080; text-decoration-color: #008080; font-weight: bold\">5</span> │ <span style=\"color: #008000; text-decoration-color: #008000\">[%clk 0:00:59]</span> │\n",
       "│ <span style=\"color: #008000; text-decoration-color: #008000\">Rated Bullet game</span> │ <a href=\"https://lichess.org/qjWLfHje\" target=\"_blank\"><span style=\"color: #008000; text-decoration-color: #008000\">https://lichess.org/qjWLfHje</span></a> │ <span style=\"color: #008000; text-decoration-color: #008000\">2024.06.01</span> │ <span style=\"color: #008000; text-decoration-color: #008000\">-     </span> │ <span style=\"color: #008000; text-decoration-color: #008000\">simple-bot</span> │ <span style=\"color: #008000; text-decoration-color: #008000\">simplexitor</span> │ <span style=\"color: #008000; text-decoration-color: #008000\">1/2-1/2</span> │ <span style=\"color: #008000; text-decoration-color: #008000\">2024.06.01</span> │ <span style=\"color: #008000; text-decoration-color: #008000\">00:00:00</span> │ <span style=\"color: #008000; text-decoration-color: #008000\">1872     </span> │ <span style=\"color: #008000; text-decoration-color: #008000\">1744     </span> │ <span style=\"color: #008000; text-decoration-color: #008000\">-2               </span> │ <span style=\"color: #008000; text-decoration-color: #008000\">+2               </span> │ <span style=\"color: #008000; text-decoration-color: #008000\">BOT        </span> │ <span style=\"color: #008000; text-decoration-color: #008000\">BOT        </span> │ <span style=\"color: #008000; text-decoration-color: #008000\">A15   </span> │ <span style=\"color: #008000; text-decoration-color: #008000\">English Opening: Anglo-Indian Defense, King's Knight Variation</span> │ <span style=\"color: #008000; text-decoration-color: #008000\">60+1        </span> │ <span style=\"color: #008000; text-decoration-color: #008000\">Normal     </span> │        <span style=\"color: #008080; text-decoration-color: #008080; font-weight: bold\">6</span> │ <span style=\"color: #008000; text-decoration-color: #008000\">[%clk 0:00:58]</span> │\n",
       "│ <span style=\"color: #008000; text-decoration-color: #008000\">Rated Bullet game</span> │ <a href=\"https://lichess.org/qjWLfHje\" target=\"_blank\"><span style=\"color: #008000; text-decoration-color: #008000\">https://lichess.org/qjWLfHje</span></a> │ <span style=\"color: #008000; text-decoration-color: #008000\">2024.06.01</span> │ <span style=\"color: #008000; text-decoration-color: #008000\">-     </span> │ <span style=\"color: #008000; text-decoration-color: #008000\">simple-bot</span> │ <span style=\"color: #008000; text-decoration-color: #008000\">simplexitor</span> │ <span style=\"color: #008000; text-decoration-color: #008000\">1/2-1/2</span> │ <span style=\"color: #008000; text-decoration-color: #008000\">2024.06.01</span> │ <span style=\"color: #008000; text-decoration-color: #008000\">00:00:00</span> │ <span style=\"color: #008000; text-decoration-color: #008000\">1872     </span> │ <span style=\"color: #008000; text-decoration-color: #008000\">1744     </span> │ <span style=\"color: #008000; text-decoration-color: #008000\">-2               </span> │ <span style=\"color: #008000; text-decoration-color: #008000\">+2               </span> │ <span style=\"color: #008000; text-decoration-color: #008000\">BOT        </span> │ <span style=\"color: #008000; text-decoration-color: #008000\">BOT        </span> │ <span style=\"color: #008000; text-decoration-color: #008000\">A15   </span> │ <span style=\"color: #008000; text-decoration-color: #008000\">English Opening: Anglo-Indian Defense, King's Knight Variation</span> │ <span style=\"color: #008000; text-decoration-color: #008000\">60+1        </span> │ <span style=\"color: #008000; text-decoration-color: #008000\">Normal     </span> │        <span style=\"color: #008080; text-decoration-color: #008080; font-weight: bold\">7</span> │ <span style=\"color: #008000; text-decoration-color: #008000\">[%clk 0:00:58]</span> │\n",
       "│ <span style=\"color: #008000; text-decoration-color: #008000\">Rated Bullet game</span> │ <a href=\"https://lichess.org/qjWLfHje\" target=\"_blank\"><span style=\"color: #008000; text-decoration-color: #008000\">https://lichess.org/qjWLfHje</span></a> │ <span style=\"color: #008000; text-decoration-color: #008000\">2024.06.01</span> │ <span style=\"color: #008000; text-decoration-color: #008000\">-     </span> │ <span style=\"color: #008000; text-decoration-color: #008000\">simple-bot</span> │ <span style=\"color: #008000; text-decoration-color: #008000\">simplexitor</span> │ <span style=\"color: #008000; text-decoration-color: #008000\">1/2-1/2</span> │ <span style=\"color: #008000; text-decoration-color: #008000\">2024.06.01</span> │ <span style=\"color: #008000; text-decoration-color: #008000\">00:00:00</span> │ <span style=\"color: #008000; text-decoration-color: #008000\">1872     </span> │ <span style=\"color: #008000; text-decoration-color: #008000\">1744     </span> │ <span style=\"color: #008000; text-decoration-color: #008000\">-2               </span> │ <span style=\"color: #008000; text-decoration-color: #008000\">+2               </span> │ <span style=\"color: #008000; text-decoration-color: #008000\">BOT        </span> │ <span style=\"color: #008000; text-decoration-color: #008000\">BOT        </span> │ <span style=\"color: #008000; text-decoration-color: #008000\">A15   </span> │ <span style=\"color: #008000; text-decoration-color: #008000\">English Opening: Anglo-Indian Defense, King's Knight Variation</span> │ <span style=\"color: #008000; text-decoration-color: #008000\">60+1        </span> │ <span style=\"color: #008000; text-decoration-color: #008000\">Normal     </span> │        <span style=\"color: #008080; text-decoration-color: #008080; font-weight: bold\">8</span> │ <span style=\"color: #008000; text-decoration-color: #008000\">[%clk 0:00:57]</span> │\n",
       "│ <span style=\"color: #008000; text-decoration-color: #008000\">Rated Bullet game</span> │ <a href=\"https://lichess.org/qjWLfHje\" target=\"_blank\"><span style=\"color: #008000; text-decoration-color: #008000\">https://lichess.org/qjWLfHje</span></a> │ <span style=\"color: #008000; text-decoration-color: #008000\">2024.06.01</span> │ <span style=\"color: #008000; text-decoration-color: #008000\">-     </span> │ <span style=\"color: #008000; text-decoration-color: #008000\">simple-bot</span> │ <span style=\"color: #008000; text-decoration-color: #008000\">simplexitor</span> │ <span style=\"color: #008000; text-decoration-color: #008000\">1/2-1/2</span> │ <span style=\"color: #008000; text-decoration-color: #008000\">2024.06.01</span> │ <span style=\"color: #008000; text-decoration-color: #008000\">00:00:00</span> │ <span style=\"color: #008000; text-decoration-color: #008000\">1872     </span> │ <span style=\"color: #008000; text-decoration-color: #008000\">1744     </span> │ <span style=\"color: #008000; text-decoration-color: #008000\">-2               </span> │ <span style=\"color: #008000; text-decoration-color: #008000\">+2               </span> │ <span style=\"color: #008000; text-decoration-color: #008000\">BOT        </span> │ <span style=\"color: #008000; text-decoration-color: #008000\">BOT        </span> │ <span style=\"color: #008000; text-decoration-color: #008000\">A15   </span> │ <span style=\"color: #008000; text-decoration-color: #008000\">English Opening: Anglo-Indian Defense, King's Knight Variation</span> │ <span style=\"color: #008000; text-decoration-color: #008000\">60+1        </span> │ <span style=\"color: #008000; text-decoration-color: #008000\">Normal     </span> │        <span style=\"color: #008080; text-decoration-color: #008080; font-weight: bold\">9</span> │ <span style=\"color: #008000; text-decoration-color: #008000\">[%clk 0:00:57]</span> │\n",
       "│ <span style=\"color: #008000; text-decoration-color: #008000\">Rated Bullet game</span> │ <a href=\"https://lichess.org/qjWLfHje\" target=\"_blank\"><span style=\"color: #008000; text-decoration-color: #008000\">https://lichess.org/qjWLfHje</span></a> │ <span style=\"color: #008000; text-decoration-color: #008000\">2024.06.01</span> │ <span style=\"color: #008000; text-decoration-color: #008000\">-     </span> │ <span style=\"color: #008000; text-decoration-color: #008000\">simple-bot</span> │ <span style=\"color: #008000; text-decoration-color: #008000\">simplexitor</span> │ <span style=\"color: #008000; text-decoration-color: #008000\">1/2-1/2</span> │ <span style=\"color: #008000; text-decoration-color: #008000\">2024.06.01</span> │ <span style=\"color: #008000; text-decoration-color: #008000\">00:00:00</span> │ <span style=\"color: #008000; text-decoration-color: #008000\">1872     </span> │ <span style=\"color: #008000; text-decoration-color: #008000\">1744     </span> │ <span style=\"color: #008000; text-decoration-color: #008000\">-2               </span> │ <span style=\"color: #008000; text-decoration-color: #008000\">+2               </span> │ <span style=\"color: #008000; text-decoration-color: #008000\">BOT        </span> │ <span style=\"color: #008000; text-decoration-color: #008000\">BOT        </span> │ <span style=\"color: #008000; text-decoration-color: #008000\">A15   </span> │ <span style=\"color: #008000; text-decoration-color: #008000\">English Opening: Anglo-Indian Defense, King's Knight Variation</span> │ <span style=\"color: #008000; text-decoration-color: #008000\">60+1        </span> │ <span style=\"color: #008000; text-decoration-color: #008000\">Normal     </span> │       <span style=\"color: #008080; text-decoration-color: #008080; font-weight: bold\">10</span> │ <span style=\"color: #008000; text-decoration-color: #008000\">[%clk 0:00:56]</span> │\n",
       "│ <span style=\"color: #7f7f7f; text-decoration-color: #7f7f7f\">…</span>                 │ <span style=\"color: #7f7f7f; text-decoration-color: #7f7f7f\">…</span>                            │ <span style=\"color: #7f7f7f; text-decoration-color: #7f7f7f\">…</span>          │ <span style=\"color: #7f7f7f; text-decoration-color: #7f7f7f\">…</span>      │ <span style=\"color: #7f7f7f; text-decoration-color: #7f7f7f\">…</span>          │ <span style=\"color: #7f7f7f; text-decoration-color: #7f7f7f\">…</span>           │ <span style=\"color: #7f7f7f; text-decoration-color: #7f7f7f\">…</span>       │ <span style=\"color: #7f7f7f; text-decoration-color: #7f7f7f\">…</span>          │ <span style=\"color: #7f7f7f; text-decoration-color: #7f7f7f\">…</span>        │ <span style=\"color: #7f7f7f; text-decoration-color: #7f7f7f\">…</span>         │ <span style=\"color: #7f7f7f; text-decoration-color: #7f7f7f\">…</span>         │ <span style=\"color: #7f7f7f; text-decoration-color: #7f7f7f\">…</span>                 │ <span style=\"color: #7f7f7f; text-decoration-color: #7f7f7f\">…</span>                 │ <span style=\"color: #7f7f7f; text-decoration-color: #7f7f7f\">…</span>           │ <span style=\"color: #7f7f7f; text-decoration-color: #7f7f7f\">…</span>           │ <span style=\"color: #7f7f7f; text-decoration-color: #7f7f7f\">…</span>      │ <span style=\"color: #7f7f7f; text-decoration-color: #7f7f7f\">…</span>                                                              │ <span style=\"color: #7f7f7f; text-decoration-color: #7f7f7f\">…</span>            │ <span style=\"color: #7f7f7f; text-decoration-color: #7f7f7f\">…</span>           │        <span style=\"color: #7f7f7f; text-decoration-color: #7f7f7f\">…</span> │ <span style=\"color: #7f7f7f; text-decoration-color: #7f7f7f\">…</span>              │\n",
       "└───────────────────┴──────────────────────────────┴────────────┴────────┴────────────┴─────────────┴─────────┴────────────┴──────────┴───────────┴───────────┴───────────────────┴───────────────────┴─────────────┴─────────────┴────────┴────────────────────────────────────────────────────────────────┴──────────────┴─────────────┴──────────┴────────────────┘\n",
       "</pre>\n"
      ],
      "text/plain": [
       "┏━━━━━━━━━━━━━━━━━━━┳━━━━━━━━━━━━━━━━━━━━━━━━━━━━━━┳━━━━━━━━━━━━┳━━━━━━━━┳━━━━━━━━━━━━┳━━━━━━━━━━━━━┳━━━━━━━━━┳━━━━━━━━━━━━┳━━━━━━━━━━┳━━━━━━━━━━━┳━━━━━━━━━━━┳━━━━━━━━━━━━━━━━━━━┳━━━━━━━━━━━━━━━━━━━┳━━━━━━━━━━━━━┳━━━━━━━━━━━━━┳━━━━━━━━┳━━━━━━━━━━━━━━━━━━━━━━━━━━━━━━━━━━━━━━━━━━━━━━━━━━━━━━━━━━━━━━━━┳━━━━━━━━━━━━━━┳━━━━━━━━━━━━━┳━━━━━━━━━━┳━━━━━━━━━━━━━━━━┓\n",
       "┃\u001b[1m \u001b[0m\u001b[1mevent\u001b[0m\u001b[1m            \u001b[0m\u001b[1m \u001b[0m┃\u001b[1m \u001b[0m\u001b[1msite\u001b[0m\u001b[1m                        \u001b[0m\u001b[1m \u001b[0m┃\u001b[1m \u001b[0m\u001b[1mdate\u001b[0m\u001b[1m      \u001b[0m\u001b[1m \u001b[0m┃\u001b[1m \u001b[0m\u001b[1mround\u001b[0m\u001b[1m \u001b[0m\u001b[1m \u001b[0m┃\u001b[1m \u001b[0m\u001b[1mwhite\u001b[0m\u001b[1m     \u001b[0m\u001b[1m \u001b[0m┃\u001b[1m \u001b[0m\u001b[1mblack\u001b[0m\u001b[1m      \u001b[0m\u001b[1m \u001b[0m┃\u001b[1m \u001b[0m\u001b[1mresult\u001b[0m\u001b[1m \u001b[0m\u001b[1m \u001b[0m┃\u001b[1m \u001b[0m\u001b[1mutc_date\u001b[0m\u001b[1m  \u001b[0m\u001b[1m \u001b[0m┃\u001b[1m \u001b[0m\u001b[1mutc_time\u001b[0m\u001b[1m \u001b[0m┃\u001b[1m \u001b[0m\u001b[1mwhite_elo\u001b[0m\u001b[1m \u001b[0m┃\u001b[1m \u001b[0m\u001b[1mblack_elo\u001b[0m\u001b[1m \u001b[0m┃\u001b[1m \u001b[0m\u001b[1mwhite_rating_diff\u001b[0m\u001b[1m \u001b[0m┃\u001b[1m \u001b[0m\u001b[1mblack_rating_diff\u001b[0m\u001b[1m \u001b[0m┃\u001b[1m \u001b[0m\u001b[1mwhite_title\u001b[0m\u001b[1m \u001b[0m┃\u001b[1m \u001b[0m\u001b[1mblack_title\u001b[0m\u001b[1m \u001b[0m┃\u001b[1m \u001b[0m\u001b[1meco\u001b[0m\u001b[1m   \u001b[0m\u001b[1m \u001b[0m┃\u001b[1m \u001b[0m\u001b[1mopening\u001b[0m\u001b[1m                                                       \u001b[0m\u001b[1m \u001b[0m┃\u001b[1m \u001b[0m\u001b[1mtime_control\u001b[0m\u001b[1m \u001b[0m┃\u001b[1m \u001b[0m\u001b[1mtermination\u001b[0m\u001b[1m \u001b[0m┃\u001b[1m \u001b[0m\u001b[1mmove_ply\u001b[0m\u001b[1m \u001b[0m┃\u001b[1m \u001b[0m\u001b[1mmove_comment\u001b[0m\u001b[1m  \u001b[0m\u001b[1m \u001b[0m┃\n",
       "┡━━━━━━━━━━━━━━━━━━━╇━━━━━━━━━━━━━━━━━━━━━━━━━━━━━━╇━━━━━━━━━━━━╇━━━━━━━━╇━━━━━━━━━━━━╇━━━━━━━━━━━━━╇━━━━━━━━━╇━━━━━━━━━━━━╇━━━━━━━━━━╇━━━━━━━━━━━╇━━━━━━━━━━━╇━━━━━━━━━━━━━━━━━━━╇━━━━━━━━━━━━━━━━━━━╇━━━━━━━━━━━━━╇━━━━━━━━━━━━━╇━━━━━━━━╇━━━━━━━━━━━━━━━━━━━━━━━━━━━━━━━━━━━━━━━━━━━━━━━━━━━━━━━━━━━━━━━━╇━━━━━━━━━━━━━━╇━━━━━━━━━━━━━╇━━━━━━━━━━╇━━━━━━━━━━━━━━━━┩\n",
       "│ \u001b[2mstring\u001b[0m            │ \u001b[2mstring\u001b[0m                       │ \u001b[2mstring\u001b[0m     │ \u001b[2mstring\u001b[0m │ \u001b[2mstring\u001b[0m     │ \u001b[2mstring\u001b[0m      │ \u001b[2mstring\u001b[0m  │ \u001b[2mstring\u001b[0m     │ \u001b[2mstring\u001b[0m   │ \u001b[2mstring\u001b[0m    │ \u001b[2mstring\u001b[0m    │ \u001b[2mstring\u001b[0m            │ \u001b[2mstring\u001b[0m            │ \u001b[2mstring\u001b[0m      │ \u001b[2mstring\u001b[0m      │ \u001b[2mstring\u001b[0m │ \u001b[2mstring\u001b[0m                                                         │ \u001b[2mstring\u001b[0m       │ \u001b[2mstring\u001b[0m      │ \u001b[2mint64\u001b[0m    │ \u001b[2mstring\u001b[0m         │\n",
       "├───────────────────┼──────────────────────────────┼────────────┼────────┼────────────┼─────────────┼─────────┼────────────┼──────────┼───────────┼───────────┼───────────────────┼───────────────────┼─────────────┼─────────────┼────────┼────────────────────────────────────────────────────────────────┼──────────────┼─────────────┼──────────┼────────────────┤\n",
       "│ \u001b[32mRated Bullet game\u001b[0m │ \u001b]8;id=152342;https://lichess.org/qjWLfHje\u001b\\\u001b[32mhttps://lichess.org/qjWLfHje\u001b[0m\u001b]8;;\u001b\\ │ \u001b[32m2024.06.01\u001b[0m │ \u001b[32m-     \u001b[0m │ \u001b[32msimple-bot\u001b[0m │ \u001b[32msimplexitor\u001b[0m │ \u001b[32m1/2-1/2\u001b[0m │ \u001b[32m2024.06.01\u001b[0m │ \u001b[32m00:00:00\u001b[0m │ \u001b[32m1872     \u001b[0m │ \u001b[32m1744     \u001b[0m │ \u001b[32m-2               \u001b[0m │ \u001b[32m+2               \u001b[0m │ \u001b[32mBOT        \u001b[0m │ \u001b[32mBOT        \u001b[0m │ \u001b[32mA15   \u001b[0m │ \u001b[32mEnglish Opening: Anglo-Indian Defense, King's Knight Variation\u001b[0m │ \u001b[32m60+1        \u001b[0m │ \u001b[32mNormal     \u001b[0m │        \u001b[1;36m1\u001b[0m │ \u001b[32m[%clk 0:01:00]\u001b[0m │\n",
       "│ \u001b[32mRated Bullet game\u001b[0m │ \u001b]8;id=991133;https://lichess.org/qjWLfHje\u001b\\\u001b[32mhttps://lichess.org/qjWLfHje\u001b[0m\u001b]8;;\u001b\\ │ \u001b[32m2024.06.01\u001b[0m │ \u001b[32m-     \u001b[0m │ \u001b[32msimple-bot\u001b[0m │ \u001b[32msimplexitor\u001b[0m │ \u001b[32m1/2-1/2\u001b[0m │ \u001b[32m2024.06.01\u001b[0m │ \u001b[32m00:00:00\u001b[0m │ \u001b[32m1872     \u001b[0m │ \u001b[32m1744     \u001b[0m │ \u001b[32m-2               \u001b[0m │ \u001b[32m+2               \u001b[0m │ \u001b[32mBOT        \u001b[0m │ \u001b[32mBOT        \u001b[0m │ \u001b[32mA15   \u001b[0m │ \u001b[32mEnglish Opening: Anglo-Indian Defense, King's Knight Variation\u001b[0m │ \u001b[32m60+1        \u001b[0m │ \u001b[32mNormal     \u001b[0m │        \u001b[1;36m2\u001b[0m │ \u001b[32m[%clk 0:01:00]\u001b[0m │\n",
       "│ \u001b[32mRated Bullet game\u001b[0m │ \u001b]8;id=935616;https://lichess.org/qjWLfHje\u001b\\\u001b[32mhttps://lichess.org/qjWLfHje\u001b[0m\u001b]8;;\u001b\\ │ \u001b[32m2024.06.01\u001b[0m │ \u001b[32m-     \u001b[0m │ \u001b[32msimple-bot\u001b[0m │ \u001b[32msimplexitor\u001b[0m │ \u001b[32m1/2-1/2\u001b[0m │ \u001b[32m2024.06.01\u001b[0m │ \u001b[32m00:00:00\u001b[0m │ \u001b[32m1872     \u001b[0m │ \u001b[32m1744     \u001b[0m │ \u001b[32m-2               \u001b[0m │ \u001b[32m+2               \u001b[0m │ \u001b[32mBOT        \u001b[0m │ \u001b[32mBOT        \u001b[0m │ \u001b[32mA15   \u001b[0m │ \u001b[32mEnglish Opening: Anglo-Indian Defense, King's Knight Variation\u001b[0m │ \u001b[32m60+1        \u001b[0m │ \u001b[32mNormal     \u001b[0m │        \u001b[1;36m3\u001b[0m │ \u001b[32m[%clk 0:01:00]\u001b[0m │\n",
       "│ \u001b[32mRated Bullet game\u001b[0m │ \u001b]8;id=365470;https://lichess.org/qjWLfHje\u001b\\\u001b[32mhttps://lichess.org/qjWLfHje\u001b[0m\u001b]8;;\u001b\\ │ \u001b[32m2024.06.01\u001b[0m │ \u001b[32m-     \u001b[0m │ \u001b[32msimple-bot\u001b[0m │ \u001b[32msimplexitor\u001b[0m │ \u001b[32m1/2-1/2\u001b[0m │ \u001b[32m2024.06.01\u001b[0m │ \u001b[32m00:00:00\u001b[0m │ \u001b[32m1872     \u001b[0m │ \u001b[32m1744     \u001b[0m │ \u001b[32m-2               \u001b[0m │ \u001b[32m+2               \u001b[0m │ \u001b[32mBOT        \u001b[0m │ \u001b[32mBOT        \u001b[0m │ \u001b[32mA15   \u001b[0m │ \u001b[32mEnglish Opening: Anglo-Indian Defense, King's Knight Variation\u001b[0m │ \u001b[32m60+1        \u001b[0m │ \u001b[32mNormal     \u001b[0m │        \u001b[1;36m4\u001b[0m │ \u001b[32m[%clk 0:00:59]\u001b[0m │\n",
       "│ \u001b[32mRated Bullet game\u001b[0m │ \u001b]8;id=324025;https://lichess.org/qjWLfHje\u001b\\\u001b[32mhttps://lichess.org/qjWLfHje\u001b[0m\u001b]8;;\u001b\\ │ \u001b[32m2024.06.01\u001b[0m │ \u001b[32m-     \u001b[0m │ \u001b[32msimple-bot\u001b[0m │ \u001b[32msimplexitor\u001b[0m │ \u001b[32m1/2-1/2\u001b[0m │ \u001b[32m2024.06.01\u001b[0m │ \u001b[32m00:00:00\u001b[0m │ \u001b[32m1872     \u001b[0m │ \u001b[32m1744     \u001b[0m │ \u001b[32m-2               \u001b[0m │ \u001b[32m+2               \u001b[0m │ \u001b[32mBOT        \u001b[0m │ \u001b[32mBOT        \u001b[0m │ \u001b[32mA15   \u001b[0m │ \u001b[32mEnglish Opening: Anglo-Indian Defense, King's Knight Variation\u001b[0m │ \u001b[32m60+1        \u001b[0m │ \u001b[32mNormal     \u001b[0m │        \u001b[1;36m5\u001b[0m │ \u001b[32m[%clk 0:00:59]\u001b[0m │\n",
       "│ \u001b[32mRated Bullet game\u001b[0m │ \u001b]8;id=605560;https://lichess.org/qjWLfHje\u001b\\\u001b[32mhttps://lichess.org/qjWLfHje\u001b[0m\u001b]8;;\u001b\\ │ \u001b[32m2024.06.01\u001b[0m │ \u001b[32m-     \u001b[0m │ \u001b[32msimple-bot\u001b[0m │ \u001b[32msimplexitor\u001b[0m │ \u001b[32m1/2-1/2\u001b[0m │ \u001b[32m2024.06.01\u001b[0m │ \u001b[32m00:00:00\u001b[0m │ \u001b[32m1872     \u001b[0m │ \u001b[32m1744     \u001b[0m │ \u001b[32m-2               \u001b[0m │ \u001b[32m+2               \u001b[0m │ \u001b[32mBOT        \u001b[0m │ \u001b[32mBOT        \u001b[0m │ \u001b[32mA15   \u001b[0m │ \u001b[32mEnglish Opening: Anglo-Indian Defense, King's Knight Variation\u001b[0m │ \u001b[32m60+1        \u001b[0m │ \u001b[32mNormal     \u001b[0m │        \u001b[1;36m6\u001b[0m │ \u001b[32m[%clk 0:00:58]\u001b[0m │\n",
       "│ \u001b[32mRated Bullet game\u001b[0m │ \u001b]8;id=605329;https://lichess.org/qjWLfHje\u001b\\\u001b[32mhttps://lichess.org/qjWLfHje\u001b[0m\u001b]8;;\u001b\\ │ \u001b[32m2024.06.01\u001b[0m │ \u001b[32m-     \u001b[0m │ \u001b[32msimple-bot\u001b[0m │ \u001b[32msimplexitor\u001b[0m │ \u001b[32m1/2-1/2\u001b[0m │ \u001b[32m2024.06.01\u001b[0m │ \u001b[32m00:00:00\u001b[0m │ \u001b[32m1872     \u001b[0m │ \u001b[32m1744     \u001b[0m │ \u001b[32m-2               \u001b[0m │ \u001b[32m+2               \u001b[0m │ \u001b[32mBOT        \u001b[0m │ \u001b[32mBOT        \u001b[0m │ \u001b[32mA15   \u001b[0m │ \u001b[32mEnglish Opening: Anglo-Indian Defense, King's Knight Variation\u001b[0m │ \u001b[32m60+1        \u001b[0m │ \u001b[32mNormal     \u001b[0m │        \u001b[1;36m7\u001b[0m │ \u001b[32m[%clk 0:00:58]\u001b[0m │\n",
       "│ \u001b[32mRated Bullet game\u001b[0m │ \u001b]8;id=97762;https://lichess.org/qjWLfHje\u001b\\\u001b[32mhttps://lichess.org/qjWLfHje\u001b[0m\u001b]8;;\u001b\\ │ \u001b[32m2024.06.01\u001b[0m │ \u001b[32m-     \u001b[0m │ \u001b[32msimple-bot\u001b[0m │ \u001b[32msimplexitor\u001b[0m │ \u001b[32m1/2-1/2\u001b[0m │ \u001b[32m2024.06.01\u001b[0m │ \u001b[32m00:00:00\u001b[0m │ \u001b[32m1872     \u001b[0m │ \u001b[32m1744     \u001b[0m │ \u001b[32m-2               \u001b[0m │ \u001b[32m+2               \u001b[0m │ \u001b[32mBOT        \u001b[0m │ \u001b[32mBOT        \u001b[0m │ \u001b[32mA15   \u001b[0m │ \u001b[32mEnglish Opening: Anglo-Indian Defense, King's Knight Variation\u001b[0m │ \u001b[32m60+1        \u001b[0m │ \u001b[32mNormal     \u001b[0m │        \u001b[1;36m8\u001b[0m │ \u001b[32m[%clk 0:00:57]\u001b[0m │\n",
       "│ \u001b[32mRated Bullet game\u001b[0m │ \u001b]8;id=848638;https://lichess.org/qjWLfHje\u001b\\\u001b[32mhttps://lichess.org/qjWLfHje\u001b[0m\u001b]8;;\u001b\\ │ \u001b[32m2024.06.01\u001b[0m │ \u001b[32m-     \u001b[0m │ \u001b[32msimple-bot\u001b[0m │ \u001b[32msimplexitor\u001b[0m │ \u001b[32m1/2-1/2\u001b[0m │ \u001b[32m2024.06.01\u001b[0m │ \u001b[32m00:00:00\u001b[0m │ \u001b[32m1872     \u001b[0m │ \u001b[32m1744     \u001b[0m │ \u001b[32m-2               \u001b[0m │ \u001b[32m+2               \u001b[0m │ \u001b[32mBOT        \u001b[0m │ \u001b[32mBOT        \u001b[0m │ \u001b[32mA15   \u001b[0m │ \u001b[32mEnglish Opening: Anglo-Indian Defense, King's Knight Variation\u001b[0m │ \u001b[32m60+1        \u001b[0m │ \u001b[32mNormal     \u001b[0m │        \u001b[1;36m9\u001b[0m │ \u001b[32m[%clk 0:00:57]\u001b[0m │\n",
       "│ \u001b[32mRated Bullet game\u001b[0m │ \u001b]8;id=504480;https://lichess.org/qjWLfHje\u001b\\\u001b[32mhttps://lichess.org/qjWLfHje\u001b[0m\u001b]8;;\u001b\\ │ \u001b[32m2024.06.01\u001b[0m │ \u001b[32m-     \u001b[0m │ \u001b[32msimple-bot\u001b[0m │ \u001b[32msimplexitor\u001b[0m │ \u001b[32m1/2-1/2\u001b[0m │ \u001b[32m2024.06.01\u001b[0m │ \u001b[32m00:00:00\u001b[0m │ \u001b[32m1872     \u001b[0m │ \u001b[32m1744     \u001b[0m │ \u001b[32m-2               \u001b[0m │ \u001b[32m+2               \u001b[0m │ \u001b[32mBOT        \u001b[0m │ \u001b[32mBOT        \u001b[0m │ \u001b[32mA15   \u001b[0m │ \u001b[32mEnglish Opening: Anglo-Indian Defense, King's Knight Variation\u001b[0m │ \u001b[32m60+1        \u001b[0m │ \u001b[32mNormal     \u001b[0m │       \u001b[1;36m10\u001b[0m │ \u001b[32m[%clk 0:00:56]\u001b[0m │\n",
       "│ \u001b[2m…\u001b[0m                 │ \u001b[2m…\u001b[0m                            │ \u001b[2m…\u001b[0m          │ \u001b[2m…\u001b[0m      │ \u001b[2m…\u001b[0m          │ \u001b[2m…\u001b[0m           │ \u001b[2m…\u001b[0m       │ \u001b[2m…\u001b[0m          │ \u001b[2m…\u001b[0m        │ \u001b[2m…\u001b[0m         │ \u001b[2m…\u001b[0m         │ \u001b[2m…\u001b[0m                 │ \u001b[2m…\u001b[0m                 │ \u001b[2m…\u001b[0m           │ \u001b[2m…\u001b[0m           │ \u001b[2m…\u001b[0m      │ \u001b[2m…\u001b[0m                                                              │ \u001b[2m…\u001b[0m            │ \u001b[2m…\u001b[0m           │        \u001b[2m…\u001b[0m │ \u001b[2m…\u001b[0m              │\n",
       "└───────────────────┴──────────────────────────────┴────────────┴────────┴────────────┴─────────────┴─────────┴────────────┴──────────┴───────────┴───────────┴───────────────────┴───────────────────┴─────────────┴─────────────┴────────┴────────────────────────────────────────────────────────────────┴──────────────┴─────────────┴──────────┴────────────────┘"
      ]
     },
     "execution_count": 2,
     "metadata": {},
     "output_type": "execute_result"
    }
   ],
   "source": [
    "moves = ibis.read_parquet(\"data/lichess/moves/*.parquet\")\n",
    "moves"
   ]
  },
  {
   "cell_type": "markdown",
   "id": "41bf0264-fef3-4fec-91d5-b2008d98542d",
   "metadata": {},
   "source": [
    "While the official count states 89,342,529 games, we don't include games with 0 moves. In the first 100,000 games in the file, there were 305 games with 0 moves (0.305%), so the dropout rate of 0.197% here seems reasonable (I wouldn't be surprised if there are more \"fake\" games starting at midnight, but I haven't verified this)."
   ]
  },
  {
   "cell_type": "code",
   "execution_count": 3,
   "id": "a3cb2650-7c90-4a64-81a3-36bf3e612027",
   "metadata": {},
   "outputs": [
    {
     "name": "stdout",
     "output_type": "stream",
     "text": [
      "CPU times: user 2min 27s, sys: 12.4 s, total: 2min 39s\n",
      "Wall time: 30.3 s\n"
     ]
    },
    {
     "data": {
      "text/plain": [
       "89166466"
      ]
     },
     "execution_count": 3,
     "metadata": {},
     "output_type": "execute_result"
    }
   ],
   "source": [
    "%%time\n",
    "moves.site.nunique().to_pyarrow().as_py()"
   ]
  },
  {
   "cell_type": "markdown",
   "id": "07b31b18-d231-4c80-b836-528338f105d2",
   "metadata": {},
   "source": [
    "The average game is shorter than I expected; I expected the [average game to be around 40 moves](https://chess.stackexchange.com/questions/2506/what-is-the-average-length-of-a-game-of-chess)."
   ]
  },
  {
   "cell_type": "code",
   "execution_count": 4,
   "id": "344faf72-02f5-44fa-b081-0d2d0c8c532a",
   "metadata": {},
   "outputs": [
    {
     "name": "stdout",
     "output_type": "stream",
     "text": [
      "CPU times: user 2min 52s, sys: 14.1 s, total: 3min 6s\n",
      "Wall time: 42.4 s\n"
     ]
    },
    {
     "data": {
      "text/plain": [
       "33.30006908090313"
      ]
     },
     "execution_count": 4,
     "metadata": {},
     "output_type": "execute_result"
    }
   ],
   "source": [
    "%%time\n",
    "moves.group_by(moves.site).agg(\n",
    "    move_count=_.count()\n",
    ").move_count.mean().to_pyarrow().as_py() / 2"
   ]
  },
  {
   "cell_type": "markdown",
   "id": "2e23e49c-7d89-4287-8840-08438fc28fb5",
   "metadata": {},
   "source": [
    "On a side note, it looks like somebody played a 300-move game."
   ]
  },
  {
   "cell_type": "code",
   "execution_count": 5,
   "id": "f9e71a37-c7cd-40a6-ba07-86ef957475a0",
   "metadata": {},
   "outputs": [
    {
     "name": "stdout",
     "output_type": "stream",
     "text": [
      "CPU times: user 2min 55s, sys: 14 s, total: 3min 9s\n",
      "Wall time: 38.2 s\n"
     ]
    },
    {
     "data": {
      "text/plain": [
       "300.5"
      ]
     },
     "execution_count": 5,
     "metadata": {},
     "output_type": "execute_result"
    }
   ],
   "source": [
    "%%time\n",
    "moves.group_by(moves.site).agg(\n",
    "    move_count=_.count()\n",
    ").move_count.max().to_pyarrow().as_py() / 2"
   ]
  },
  {
   "cell_type": "markdown",
   "id": "bb2d8a1d-7878-4d9a-bcad-4833d812c197",
   "metadata": {},
   "source": [
    "My first hypothesis was that \"abandoned\" games were bringing down the average. (From experience, I know that games are aborted if either player doesn't make their first move in time.)"
   ]
  },
  {
   "cell_type": "code",
   "execution_count": 6,
   "id": "336f51eb-57af-4580-9881-40f611994641",
   "metadata": {},
   "outputs": [
    {
     "name": "stdout",
     "output_type": "stream",
     "text": [
      "CPU times: user 1min 23s, sys: 2.36 s, total: 1min 25s\n",
      "Wall time: 12.8 s\n"
     ]
    },
    {
     "data": {
      "text/html": [
       "<pre style=\"white-space:pre;overflow-x:auto;line-height:normal;font-family:Menlo,'DejaVu Sans Mono',consolas,'Courier New',monospace\">┏━━━━━━━━━━━━━━━━━━┳━━━━━━━━━━━━━━━━━━━┓\n",
       "┃<span style=\"font-weight: bold\"> termination      </span>┃<span style=\"font-weight: bold\"> termination_count </span>┃\n",
       "┡━━━━━━━━━━━━━━━━━━╇━━━━━━━━━━━━━━━━━━━┩\n",
       "│ <span style=\"color: #7f7f7f; text-decoration-color: #7f7f7f\">string</span>           │ <span style=\"color: #7f7f7f; text-decoration-color: #7f7f7f\">int64</span>             │\n",
       "├──────────────────┼───────────────────┤\n",
       "│ <span style=\"color: #008000; text-decoration-color: #008000\">Unterminated    </span> │             <span style=\"color: #008080; text-decoration-color: #008080; font-weight: bold\">14472</span> │\n",
       "│ <span style=\"color: #008000; text-decoration-color: #008000\">Abandoned       </span> │            <span style=\"color: #008080; text-decoration-color: #008080; font-weight: bold\">109772</span> │\n",
       "│ <span style=\"color: #008000; text-decoration-color: #008000\">Time forfeit    </span> │          <span style=\"color: #008080; text-decoration-color: #008080; font-weight: bold\">29430808</span> │\n",
       "│ <span style=\"color: #008000; text-decoration-color: #008000\">Normal          </span> │          <span style=\"color: #008080; text-decoration-color: #008080; font-weight: bold\">59608505</span> │\n",
       "│ <span style=\"color: #008000; text-decoration-color: #008000\">Rules infraction</span> │              <span style=\"color: #008080; text-decoration-color: #008080; font-weight: bold\">2909</span> │\n",
       "└──────────────────┴───────────────────┘\n",
       "</pre>\n"
      ],
      "text/plain": [
       "┏━━━━━━━━━━━━━━━━━━┳━━━━━━━━━━━━━━━━━━━┓\n",
       "┃\u001b[1m \u001b[0m\u001b[1mtermination\u001b[0m\u001b[1m     \u001b[0m\u001b[1m \u001b[0m┃\u001b[1m \u001b[0m\u001b[1mtermination_count\u001b[0m\u001b[1m \u001b[0m┃\n",
       "┡━━━━━━━━━━━━━━━━━━╇━━━━━━━━━━━━━━━━━━━┩\n",
       "│ \u001b[2mstring\u001b[0m           │ \u001b[2mint64\u001b[0m             │\n",
       "├──────────────────┼───────────────────┤\n",
       "│ \u001b[32mUnterminated    \u001b[0m │             \u001b[1;36m14472\u001b[0m │\n",
       "│ \u001b[32mAbandoned       \u001b[0m │            \u001b[1;36m109772\u001b[0m │\n",
       "│ \u001b[32mTime forfeit    \u001b[0m │          \u001b[1;36m29430808\u001b[0m │\n",
       "│ \u001b[32mNormal          \u001b[0m │          \u001b[1;36m59608505\u001b[0m │\n",
       "│ \u001b[32mRules infraction\u001b[0m │              \u001b[1;36m2909\u001b[0m │\n",
       "└──────────────────┴───────────────────┘\n"
      ]
     },
     "execution_count": 6,
     "metadata": {},
     "output_type": "execute_result"
    }
   ],
   "source": [
    "%%time\n",
    "games = moves[moves.move_ply == 1]\n",
    "games.termination.value_counts().preview()"
   ]
  },
  {
   "cell_type": "markdown",
   "id": "def72592-7a3a-4195-8cef-0bb8f9999e68",
   "metadata": {},
   "source": [
    "While we should likely limit ourselves to games that ended normally (including those where a player ran out of time), we still haven't found our answer as to why games are shorter than expected."
   ]
  },
  {
   "cell_type": "code",
   "execution_count": 7,
   "id": "b4f89091-b9d7-4e51-9661-f89788b2e53e",
   "metadata": {},
   "outputs": [
    {
     "name": "stdout",
     "output_type": "stream",
     "text": [
      "CPU times: user 3min 36s, sys: 18.7 s, total: 3min 55s\n",
      "Wall time: 1min 15s\n"
     ]
    },
    {
     "data": {
      "text/html": [
       "<pre style=\"white-space:pre;overflow-x:auto;line-height:normal;font-family:Menlo,'DejaVu Sans Mono',consolas,'Courier New',monospace\">┏━━━━━━━━━━━━━━━━━━┳━━━━━━━━━━━━━━━━━━━━┓\n",
       "┃<span style=\"font-weight: bold\"> termination      </span>┃<span style=\"font-weight: bold\"> average_move_count </span>┃\n",
       "┡━━━━━━━━━━━━━━━━━━╇━━━━━━━━━━━━━━━━━━━━┩\n",
       "│ <span style=\"color: #7f7f7f; text-decoration-color: #7f7f7f\">string</span>           │ <span style=\"color: #7f7f7f; text-decoration-color: #7f7f7f\">float64</span>            │\n",
       "├──────────────────┼────────────────────┤\n",
       "│ <span style=\"color: #008000; text-decoration-color: #008000\">Time forfeit    </span> │          <span style=\"color: #008080; text-decoration-color: #008080; font-weight: bold\">37.096200</span> │\n",
       "│ <span style=\"color: #008000; text-decoration-color: #008000\">Unterminated    </span> │          <span style=\"color: #008080; text-decoration-color: #008080; font-weight: bold\">17.231032</span> │\n",
       "│ <span style=\"color: #008000; text-decoration-color: #008000\">Normal          </span> │          <span style=\"color: #008080; text-decoration-color: #008080; font-weight: bold\">31.490851</span> │\n",
       "│ <span style=\"color: #008000; text-decoration-color: #008000\">Rules infraction</span> │          <span style=\"color: #008080; text-decoration-color: #008080; font-weight: bold\">12.079065</span> │\n",
       "│ <span style=\"color: #008000; text-decoration-color: #008000\">Abandoned       </span> │           <span style=\"color: #008080; text-decoration-color: #008080; font-weight: bold\">0.649095</span> │\n",
       "└──────────────────┴────────────────────┘\n",
       "</pre>\n"
      ],
      "text/plain": [
       "┏━━━━━━━━━━━━━━━━━━┳━━━━━━━━━━━━━━━━━━━━┓\n",
       "┃\u001b[1m \u001b[0m\u001b[1mtermination\u001b[0m\u001b[1m     \u001b[0m\u001b[1m \u001b[0m┃\u001b[1m \u001b[0m\u001b[1maverage_move_count\u001b[0m\u001b[1m \u001b[0m┃\n",
       "┡━━━━━━━━━━━━━━━━━━╇━━━━━━━━━━━━━━━━━━━━┩\n",
       "│ \u001b[2mstring\u001b[0m           │ \u001b[2mfloat64\u001b[0m            │\n",
       "├──────────────────┼────────────────────┤\n",
       "│ \u001b[32mTime forfeit    \u001b[0m │          \u001b[1;36m37.096200\u001b[0m │\n",
       "│ \u001b[32mUnterminated    \u001b[0m │          \u001b[1;36m17.231032\u001b[0m │\n",
       "│ \u001b[32mNormal          \u001b[0m │          \u001b[1;36m31.490851\u001b[0m │\n",
       "│ \u001b[32mRules infraction\u001b[0m │          \u001b[1;36m12.079065\u001b[0m │\n",
       "│ \u001b[32mAbandoned       \u001b[0m │           \u001b[1;36m0.649095\u001b[0m │\n",
       "└──────────────────┴────────────────────┘\n"
      ]
     },
     "execution_count": 7,
     "metadata": {},
     "output_type": "execute_result"
    }
   ],
   "source": [
    "%%time\n",
    "moves.group_by(moves.site).agg(\n",
    "    move_count=_.count(), termination=_.termination.arbitrary()\n",
    ").group_by(\"termination\").agg(average_move_count=_.move_count.mean() / 2).preview()"
   ]
  },
  {
   "cell_type": "markdown",
   "id": "4a502cde-c46c-469c-9c7c-17fe1328982c",
   "metadata": {},
   "source": [
    "Next, let's explore the time control distribution. We adapt the [`parse_time_control`](https://python-chess.readthedocs.io/en/latest/_modules/chess/pgn.html#skip_game) logic to native Ibis code, as calling the function in a UDF would be prohibitively slow[^1]."
   ]
  },
  {
   "cell_type": "code",
   "execution_count": 8,
   "id": "4c02cc0a-fae9-4bb3-a273-105231f8a719",
   "metadata": {},
   "outputs": [
    {
     "name": "stdout",
     "output_type": "stream",
     "text": [
      "CPU times: user 2min 26s, sys: 3.23 s, total: 2min 30s\n",
      "Wall time: 22.4 s\n"
     ]
    },
    {
     "data": {
      "text/html": [
       "<pre style=\"white-space:pre;overflow-x:auto;line-height:normal;font-family:Menlo,'DejaVu Sans Mono',consolas,'Courier New',monospace\">┏━━━━━━━━━━━━━━━━━━━┳━━━━━━━━━━━━━━━━━━━━━━━━━┓\n",
       "┃<span style=\"font-weight: bold\"> time_control_type </span>┃<span style=\"font-weight: bold\"> time_control_type_count </span>┃\n",
       "┡━━━━━━━━━━━━━━━━━━━╇━━━━━━━━━━━━━━━━━━━━━━━━━┩\n",
       "│ <span style=\"color: #7f7f7f; text-decoration-color: #7f7f7f\">string</span>            │ <span style=\"color: #7f7f7f; text-decoration-color: #7f7f7f\">int64</span>                   │\n",
       "├───────────────────┼─────────────────────────┤\n",
       "│ <span style=\"color: #008000; text-decoration-color: #008000\">BULLET           </span> │                <span style=\"color: #008080; text-decoration-color: #008080; font-weight: bold\">27246758</span> │\n",
       "│ <span style=\"color: #008000; text-decoration-color: #008000\">UNLIMITED        </span> │                   <span style=\"color: #008080; text-decoration-color: #008080; font-weight: bold\">79076</span> │\n",
       "│ <span style=\"color: #008000; text-decoration-color: #008000\">RAPID            </span> │                 <span style=\"color: #008080; text-decoration-color: #008080; font-weight: bold\">3526013</span> │\n",
       "│ <span style=\"color: #008000; text-decoration-color: #008000\">BLITZ            </span> │                <span style=\"color: #008080; text-decoration-color: #008080; font-weight: bold\">58277252</span> │\n",
       "│ <span style=\"color: #008000; text-decoration-color: #008000\">STANDARD         </span> │                   <span style=\"color: #008080; text-decoration-color: #008080; font-weight: bold\">37367</span> │\n",
       "└───────────────────┴─────────────────────────┘\n",
       "</pre>\n"
      ],
      "text/plain": [
       "┏━━━━━━━━━━━━━━━━━━━┳━━━━━━━━━━━━━━━━━━━━━━━━━┓\n",
       "┃\u001b[1m \u001b[0m\u001b[1mtime_control_type\u001b[0m\u001b[1m \u001b[0m┃\u001b[1m \u001b[0m\u001b[1mtime_control_type_count\u001b[0m\u001b[1m \u001b[0m┃\n",
       "┡━━━━━━━━━━━━━━━━━━━╇━━━━━━━━━━━━━━━━━━━━━━━━━┩\n",
       "│ \u001b[2mstring\u001b[0m            │ \u001b[2mint64\u001b[0m                   │\n",
       "├───────────────────┼─────────────────────────┤\n",
       "│ \u001b[32mBULLET           \u001b[0m │                \u001b[1;36m27246758\u001b[0m │\n",
       "│ \u001b[32mUNLIMITED        \u001b[0m │                   \u001b[1;36m79076\u001b[0m │\n",
       "│ \u001b[32mRAPID            \u001b[0m │                 \u001b[1;36m3526013\u001b[0m │\n",
       "│ \u001b[32mBLITZ            \u001b[0m │                \u001b[1;36m58277252\u001b[0m │\n",
       "│ \u001b[32mSTANDARD         \u001b[0m │                   \u001b[1;36m37367\u001b[0m │\n",
       "└───────────────────┴─────────────────────────┘\n"
      ]
     },
     "execution_count": 8,
     "metadata": {},
     "output_type": "execute_result"
    }
   ],
   "source": [
    "%%time\n",
    "import ibis.expr.types as ir\n",
    "\n",
    "\n",
    "def parse_time_control(time_control: ir.StringColumn) -> dict[str, ir.Column]:\n",
    "    index = time_control.find(\"+\")\n",
    "    base_time = time_control.substr(0, index).try_cast(int)\n",
    "    increment = time_control.substr(index + 1).try_cast(int)\n",
    "\n",
    "    time_control_type = (\n",
    "        ibis.case()\n",
    "        .when(time_control.isnull() | time_control.startswith(\"?\"), \"UNKNOWN\")\n",
    "        .when(time_control.startswith(\"-\"), \"UNLIMITED\")\n",
    "        .when(base_time + 60 * increment < 3 * 60, \"BULLET\")\n",
    "        .when(base_time + 60 * increment < 15 * 60, \"BLITZ\")\n",
    "        .when(base_time + 60 * increment < 60 * 60, \"RAPID\")\n",
    "        .else_(\"STANDARD\")\n",
    "        .end()\n",
    "    )\n",
    "\n",
    "    return {\n",
    "        \"time_control_base_time\": base_time,\n",
    "        \"time_control_increment\": increment,\n",
    "        \"time_control_type\": time_control_type,\n",
    "    }\n",
    "\n",
    "\n",
    "games_with_parsed_time_control = games.mutate(**parse_time_control(games.time_control))\n",
    "games_with_parsed_time_control.time_control_type.value_counts().preview()"
   ]
  },
  {
   "cell_type": "markdown",
   "id": "7a7c53ca-66c2-4fb2-9438-5ab07b161edd",
   "metadata": {},
   "source": [
    "Note that the time control type is not determined using the same logic Lichess uses (e.g. `3+0` is considered Blitz, not Bullet, by most online chess servers, including Lichess).\n",
    "\n",
    "As a sanity check, let's compare the null count for `time_control_base_time` and `time_control_increment` with the number of Unlimited games."
   ]
  },
  {
   "cell_type": "code",
   "execution_count": 9,
   "id": "472cd74f-6782-4a6e-bac1-97edf6ab3dd4",
   "metadata": {},
   "outputs": [
    {
     "name": "stdout",
     "output_type": "stream",
     "text": [
      "CPU times: user 1min 30s, sys: 2.59 s, total: 1min 33s\n",
      "Wall time: 14.3 s\n"
     ]
    },
    {
     "data": {
      "text/plain": [
       "79076"
      ]
     },
     "execution_count": 9,
     "metadata": {},
     "output_type": "execute_result"
    }
   ],
   "source": [
    "%%time\n",
    "games_with_parsed_time_control[\n",
    "    _.time_control_base_time.isnull()\n",
    "].count().to_pyarrow().as_py()"
   ]
  },
  {
   "cell_type": "code",
   "execution_count": 10,
   "id": "2722ea74-d326-4119-8229-9b84eb6d1590",
   "metadata": {},
   "outputs": [
    {
     "name": "stdout",
     "output_type": "stream",
     "text": [
      "CPU times: user 1min 35s, sys: 2.39 s, total: 1min 37s\n",
      "Wall time: 14.7 s\n"
     ]
    },
    {
     "data": {
      "text/plain": [
       "79076"
      ]
     },
     "execution_count": 10,
     "metadata": {},
     "output_type": "execute_result"
    }
   ],
   "source": [
    "%%time\n",
    "games_with_parsed_time_control[\n",
    "    _.time_control_increment.isnull()\n",
    "].count().to_pyarrow().as_py()"
   ]
  },
  {
   "cell_type": "markdown",
   "id": "80cf92fc-30fa-46c9-ac0c-83ab96318abb",
   "metadata": {},
   "source": [
    "It doesn't seem like longer time controls result in longer games; in fact, it's almost the opposite. Maybe this has something to do with the fact that stronger players generally play shorter time controls online."
   ]
  },
  {
   "cell_type": "code",
   "execution_count": 11,
   "id": "329a3e6d-cf6c-4171-997f-2f8952ea9b76",
   "metadata": {},
   "outputs": [
    {
     "name": "stdout",
     "output_type": "stream",
     "text": [
      "CPU times: user 7min 12s, sys: 9min 57s, total: 17min 9s\n",
      "Wall time: 18min 11s\n"
     ]
    },
    {
     "data": {
      "text/html": [
       "<pre style=\"white-space:pre;overflow-x:auto;line-height:normal;font-family:Menlo,'DejaVu Sans Mono',consolas,'Courier New',monospace\">┏━━━━━━━━━━━━━━━━━━━┳━━━━━━━━━━━━━━━━━━┳━━━━━━━━━━┳━━━━━━━━━━━━━━━━━━━━┓\n",
       "┃<span style=\"font-weight: bold\"> time_control_type </span>┃<span style=\"font-weight: bold\"> termination      </span>┃<span style=\"font-weight: bold\"> count    </span>┃<span style=\"font-weight: bold\"> average_move_count </span>┃\n",
       "┡━━━━━━━━━━━━━━━━━━━╇━━━━━━━━━━━━━━━━━━╇━━━━━━━━━━╇━━━━━━━━━━━━━━━━━━━━┩\n",
       "│ <span style=\"color: #7f7f7f; text-decoration-color: #7f7f7f\">string</span>            │ <span style=\"color: #7f7f7f; text-decoration-color: #7f7f7f\">string</span>           │ <span style=\"color: #7f7f7f; text-decoration-color: #7f7f7f\">int64</span>    │ <span style=\"color: #7f7f7f; text-decoration-color: #7f7f7f\">float64</span>            │\n",
       "├───────────────────┼──────────────────┼──────────┼────────────────────┤\n",
       "│ <span style=\"color: #008000; text-decoration-color: #008000\">BLITZ            </span> │ <span style=\"color: #008000; text-decoration-color: #008000\">Abandoned       </span> │    <span style=\"color: #008080; text-decoration-color: #008080; font-weight: bold\">81558</span> │           <span style=\"color: #008080; text-decoration-color: #008080; font-weight: bold\">0.660928</span> │\n",
       "│ <span style=\"color: #008000; text-decoration-color: #008000\">BLITZ            </span> │ <span style=\"color: #008000; text-decoration-color: #008000\">Normal          </span> │ <span style=\"color: #008080; text-decoration-color: #008080; font-weight: bold\">44605551</span> │          <span style=\"color: #008080; text-decoration-color: #008080; font-weight: bold\">32.302616</span> │\n",
       "│ <span style=\"color: #008000; text-decoration-color: #008000\">BLITZ            </span> │ <span style=\"color: #008000; text-decoration-color: #008000\">Rules infraction</span> │     <span style=\"color: #008080; text-decoration-color: #008080; font-weight: bold\">1815</span> │          <span style=\"color: #008080; text-decoration-color: #008080; font-weight: bold\">11.239669</span> │\n",
       "│ <span style=\"color: #008000; text-decoration-color: #008000\">BLITZ            </span> │ <span style=\"color: #008000; text-decoration-color: #008000\">Time forfeit    </span> │ <span style=\"color: #008080; text-decoration-color: #008080; font-weight: bold\">13588328</span> │          <span style=\"color: #008080; text-decoration-color: #008080; font-weight: bold\">38.755687</span> │\n",
       "│ <span style=\"color: #008000; text-decoration-color: #008000\">BULLET           </span> │ <span style=\"color: #008000; text-decoration-color: #008000\">Abandoned       </span> │    <span style=\"color: #008080; text-decoration-color: #008080; font-weight: bold\">23508</span> │           <span style=\"color: #008080; text-decoration-color: #008080; font-weight: bold\">0.601263</span> │\n",
       "│ <span style=\"color: #008000; text-decoration-color: #008000\">BULLET           </span> │ <span style=\"color: #008000; text-decoration-color: #008000\">Normal          </span> │ <span style=\"color: #008080; text-decoration-color: #008080; font-weight: bold\">11769972</span> │          <span style=\"color: #008080; text-decoration-color: #008080; font-weight: bold\">28.195978</span> │\n",
       "│ <span style=\"color: #008000; text-decoration-color: #008000\">BULLET           </span> │ <span style=\"color: #008000; text-decoration-color: #008000\">Rules infraction</span> │       <span style=\"color: #008080; text-decoration-color: #008080; font-weight: bold\">22</span> │           <span style=\"color: #008080; text-decoration-color: #008080; font-weight: bold\">9.295455</span> │\n",
       "│ <span style=\"color: #008000; text-decoration-color: #008000\">BULLET           </span> │ <span style=\"color: #008000; text-decoration-color: #008000\">Time forfeit    </span> │ <span style=\"color: #008080; text-decoration-color: #008080; font-weight: bold\">15453256</span> │          <span style=\"color: #008080; text-decoration-color: #008080; font-weight: bold\">35.907746</span> │\n",
       "│ <span style=\"color: #008000; text-decoration-color: #008000\">RAPID            </span> │ <span style=\"color: #008000; text-decoration-color: #008000\">Abandoned       </span> │     <span style=\"color: #008080; text-decoration-color: #008080; font-weight: bold\">3798</span> │           <span style=\"color: #008080; text-decoration-color: #008080; font-weight: bold\">0.714982</span> │\n",
       "│ <span style=\"color: #008000; text-decoration-color: #008000\">RAPID            </span> │ <span style=\"color: #008000; text-decoration-color: #008000\">Normal          </span> │  <span style=\"color: #008080; text-decoration-color: #008080; font-weight: bold\">3154164</span> │          <span style=\"color: #008080; text-decoration-color: #008080; font-weight: bold\">32.358064</span> │\n",
       "│ <span style=\"color: #008000; text-decoration-color: #008000\">RAPID            </span> │ <span style=\"color: #008000; text-decoration-color: #008000\">Rules infraction</span> │      <span style=\"color: #008080; text-decoration-color: #008080; font-weight: bold\">934</span> │          <span style=\"color: #008080; text-decoration-color: #008080; font-weight: bold\">13.432548</span> │\n",
       "│ <span style=\"color: #008000; text-decoration-color: #008000\">RAPID            </span> │ <span style=\"color: #008000; text-decoration-color: #008000\">Time forfeit    </span> │   <span style=\"color: #008080; text-decoration-color: #008080; font-weight: bold\">367117</span> │          <span style=\"color: #008080; text-decoration-color: #008080; font-weight: bold\">27.351633</span> │\n",
       "│ <span style=\"color: #008000; text-decoration-color: #008000\">STANDARD         </span> │ <span style=\"color: #008000; text-decoration-color: #008000\">Abandoned       </span> │       <span style=\"color: #008080; text-decoration-color: #008080; font-weight: bold\">86</span> │           <span style=\"color: #008080; text-decoration-color: #008080; font-weight: bold\">1.017442</span> │\n",
       "│ <span style=\"color: #008000; text-decoration-color: #008000\">STANDARD         </span> │ <span style=\"color: #008000; text-decoration-color: #008000\">Normal          </span> │    <span style=\"color: #008080; text-decoration-color: #008080; font-weight: bold\">33445</span> │          <span style=\"color: #008080; text-decoration-color: #008080; font-weight: bold\">30.091927</span> │\n",
       "│ <span style=\"color: #008000; text-decoration-color: #008000\">STANDARD         </span> │ <span style=\"color: #008000; text-decoration-color: #008000\">Rules infraction</span> │       <span style=\"color: #008080; text-decoration-color: #008080; font-weight: bold\">36</span> │          <span style=\"color: #008080; text-decoration-color: #008080; font-weight: bold\">12.555556</span> │\n",
       "│ <span style=\"color: #008000; text-decoration-color: #008000\">STANDARD         </span> │ <span style=\"color: #008000; text-decoration-color: #008000\">Time forfeit    </span> │     <span style=\"color: #008080; text-decoration-color: #008080; font-weight: bold\">3800</span> │          <span style=\"color: #008080; text-decoration-color: #008080; font-weight: bold\">18.772237</span> │\n",
       "│ <span style=\"color: #008000; text-decoration-color: #008000\">UNLIMITED        </span> │ <span style=\"color: #008000; text-decoration-color: #008000\">Abandoned       </span> │      <span style=\"color: #008080; text-decoration-color: #008080; font-weight: bold\">822</span> │           <span style=\"color: #008080; text-decoration-color: #008080; font-weight: bold\">0.500000</span> │\n",
       "│ <span style=\"color: #008000; text-decoration-color: #008000\">UNLIMITED        </span> │ <span style=\"color: #008000; text-decoration-color: #008000\">Normal          </span> │    <span style=\"color: #008080; text-decoration-color: #008080; font-weight: bold\">45373</span> │          <span style=\"color: #008080; text-decoration-color: #008080; font-weight: bold\">28.907698</span> │\n",
       "│ <span style=\"color: #008000; text-decoration-color: #008000\">UNLIMITED        </span> │ <span style=\"color: #008000; text-decoration-color: #008000\">Rules infraction</span> │      <span style=\"color: #008080; text-decoration-color: #008080; font-weight: bold\">102</span> │          <span style=\"color: #008080; text-decoration-color: #008080; font-weight: bold\">15.053922</span> │\n",
       "│ <span style=\"color: #008000; text-decoration-color: #008000\">UNLIMITED        </span> │ <span style=\"color: #008000; text-decoration-color: #008000\">Time forfeit    </span> │    <span style=\"color: #008080; text-decoration-color: #008080; font-weight: bold\">18307</span> │           <span style=\"color: #008080; text-decoration-color: #008080; font-weight: bold\">7.755886</span> │\n",
       "│ <span style=\"color: #008000; text-decoration-color: #008000\">UNLIMITED        </span> │ <span style=\"color: #008000; text-decoration-color: #008000\">Unterminated    </span> │    <span style=\"color: #008080; text-decoration-color: #008080; font-weight: bold\">14472</span> │          <span style=\"color: #008080; text-decoration-color: #008080; font-weight: bold\">17.231032</span> │\n",
       "└───────────────────┴──────────────────┴──────────┴────────────────────┘\n",
       "</pre>\n"
      ],
      "text/plain": [
       "┏━━━━━━━━━━━━━━━━━━━┳━━━━━━━━━━━━━━━━━━┳━━━━━━━━━━┳━━━━━━━━━━━━━━━━━━━━┓\n",
       "┃\u001b[1m \u001b[0m\u001b[1mtime_control_type\u001b[0m\u001b[1m \u001b[0m┃\u001b[1m \u001b[0m\u001b[1mtermination\u001b[0m\u001b[1m     \u001b[0m\u001b[1m \u001b[0m┃\u001b[1m \u001b[0m\u001b[1mcount\u001b[0m\u001b[1m   \u001b[0m\u001b[1m \u001b[0m┃\u001b[1m \u001b[0m\u001b[1maverage_move_count\u001b[0m\u001b[1m \u001b[0m┃\n",
       "┡━━━━━━━━━━━━━━━━━━━╇━━━━━━━━━━━━━━━━━━╇━━━━━━━━━━╇━━━━━━━━━━━━━━━━━━━━┩\n",
       "│ \u001b[2mstring\u001b[0m            │ \u001b[2mstring\u001b[0m           │ \u001b[2mint64\u001b[0m    │ \u001b[2mfloat64\u001b[0m            │\n",
       "├───────────────────┼──────────────────┼──────────┼────────────────────┤\n",
       "│ \u001b[32mBLITZ            \u001b[0m │ \u001b[32mAbandoned       \u001b[0m │    \u001b[1;36m81558\u001b[0m │           \u001b[1;36m0.660928\u001b[0m │\n",
       "│ \u001b[32mBLITZ            \u001b[0m │ \u001b[32mNormal          \u001b[0m │ \u001b[1;36m44605551\u001b[0m │          \u001b[1;36m32.302616\u001b[0m │\n",
       "│ \u001b[32mBLITZ            \u001b[0m │ \u001b[32mRules infraction\u001b[0m │     \u001b[1;36m1815\u001b[0m │          \u001b[1;36m11.239669\u001b[0m │\n",
       "│ \u001b[32mBLITZ            \u001b[0m │ \u001b[32mTime forfeit    \u001b[0m │ \u001b[1;36m13588328\u001b[0m │          \u001b[1;36m38.755687\u001b[0m │\n",
       "│ \u001b[32mBULLET           \u001b[0m │ \u001b[32mAbandoned       \u001b[0m │    \u001b[1;36m23508\u001b[0m │           \u001b[1;36m0.601263\u001b[0m │\n",
       "│ \u001b[32mBULLET           \u001b[0m │ \u001b[32mNormal          \u001b[0m │ \u001b[1;36m11769972\u001b[0m │          \u001b[1;36m28.195978\u001b[0m │\n",
       "│ \u001b[32mBULLET           \u001b[0m │ \u001b[32mRules infraction\u001b[0m │       \u001b[1;36m22\u001b[0m │           \u001b[1;36m9.295455\u001b[0m │\n",
       "│ \u001b[32mBULLET           \u001b[0m │ \u001b[32mTime forfeit    \u001b[0m │ \u001b[1;36m15453256\u001b[0m │          \u001b[1;36m35.907746\u001b[0m │\n",
       "│ \u001b[32mRAPID            \u001b[0m │ \u001b[32mAbandoned       \u001b[0m │     \u001b[1;36m3798\u001b[0m │           \u001b[1;36m0.714982\u001b[0m │\n",
       "│ \u001b[32mRAPID            \u001b[0m │ \u001b[32mNormal          \u001b[0m │  \u001b[1;36m3154164\u001b[0m │          \u001b[1;36m32.358064\u001b[0m │\n",
       "│ \u001b[32mRAPID            \u001b[0m │ \u001b[32mRules infraction\u001b[0m │      \u001b[1;36m934\u001b[0m │          \u001b[1;36m13.432548\u001b[0m │\n",
       "│ \u001b[32mRAPID            \u001b[0m │ \u001b[32mTime forfeit    \u001b[0m │   \u001b[1;36m367117\u001b[0m │          \u001b[1;36m27.351633\u001b[0m │\n",
       "│ \u001b[32mSTANDARD         \u001b[0m │ \u001b[32mAbandoned       \u001b[0m │       \u001b[1;36m86\u001b[0m │           \u001b[1;36m1.017442\u001b[0m │\n",
       "│ \u001b[32mSTANDARD         \u001b[0m │ \u001b[32mNormal          \u001b[0m │    \u001b[1;36m33445\u001b[0m │          \u001b[1;36m30.091927\u001b[0m │\n",
       "│ \u001b[32mSTANDARD         \u001b[0m │ \u001b[32mRules infraction\u001b[0m │       \u001b[1;36m36\u001b[0m │          \u001b[1;36m12.555556\u001b[0m │\n",
       "│ \u001b[32mSTANDARD         \u001b[0m │ \u001b[32mTime forfeit    \u001b[0m │     \u001b[1;36m3800\u001b[0m │          \u001b[1;36m18.772237\u001b[0m │\n",
       "│ \u001b[32mUNLIMITED        \u001b[0m │ \u001b[32mAbandoned       \u001b[0m │      \u001b[1;36m822\u001b[0m │           \u001b[1;36m0.500000\u001b[0m │\n",
       "│ \u001b[32mUNLIMITED        \u001b[0m │ \u001b[32mNormal          \u001b[0m │    \u001b[1;36m45373\u001b[0m │          \u001b[1;36m28.907698\u001b[0m │\n",
       "│ \u001b[32mUNLIMITED        \u001b[0m │ \u001b[32mRules infraction\u001b[0m │      \u001b[1;36m102\u001b[0m │          \u001b[1;36m15.053922\u001b[0m │\n",
       "│ \u001b[32mUNLIMITED        \u001b[0m │ \u001b[32mTime forfeit    \u001b[0m │    \u001b[1;36m18307\u001b[0m │           \u001b[1;36m7.755886\u001b[0m │\n",
       "│ \u001b[32mUNLIMITED        \u001b[0m │ \u001b[32mUnterminated    \u001b[0m │    \u001b[1;36m14472\u001b[0m │          \u001b[1;36m17.231032\u001b[0m │\n",
       "└───────────────────┴──────────────────┴──────────┴────────────────────┘\n"
      ]
     },
     "execution_count": 11,
     "metadata": {},
     "output_type": "execute_result"
    }
   ],
   "source": [
    "%%time\n",
    "games_with_parsed_time_control.join(\n",
    "    moves.group_by(moves.site).agg(move_count=_.count()), \"site\"\n",
    ").group_by([\"time_control_type\", \"termination\"]).agg(\n",
    "    count=_.count(), average_move_count=_.move_count.mean() / 2\n",
    ").order_by(\n",
    "    [\"time_control_type\", \"termination\"]\n",
    ").preview(\n",
    "    max_rows=25\n",
    ")"
   ]
  },
  {
   "cell_type": "code",
   "execution_count": 12,
   "id": "30d891a1-1b36-4cbc-bf5c-0e7893e4a102",
   "metadata": {},
   "outputs": [
    {
     "name": "stdout",
     "output_type": "stream",
     "text": [
      "CPU times: user 25min 9s, sys: 28.6 s, total: 25min 38s\n",
      "Wall time: 4min 2s\n"
     ]
    },
    {
     "data": {
      "text/html": [
       "<pre style=\"white-space:pre;overflow-x:auto;line-height:normal;font-family:Menlo,'DejaVu Sans Mono',consolas,'Courier New',monospace\">┏━━━━━━━━━━━━━━━━━━━┳━━━━━━━━━━━━━━━━━━┳━━━━━━━━━━┳━━━━━━━━━━━━━━━━━━━━┓\n",
       "┃<span style=\"font-weight: bold\"> time_control_type </span>┃<span style=\"font-weight: bold\"> termination      </span>┃<span style=\"font-weight: bold\"> count    </span>┃<span style=\"font-weight: bold\"> average_move_count </span>┃\n",
       "┡━━━━━━━━━━━━━━━━━━━╇━━━━━━━━━━━━━━━━━━╇━━━━━━━━━━╇━━━━━━━━━━━━━━━━━━━━┩\n",
       "│ <span style=\"color: #7f7f7f; text-decoration-color: #7f7f7f\">string</span>            │ <span style=\"color: #7f7f7f; text-decoration-color: #7f7f7f\">string</span>           │ <span style=\"color: #7f7f7f; text-decoration-color: #7f7f7f\">int64</span>    │ <span style=\"color: #7f7f7f; text-decoration-color: #7f7f7f\">float64</span>            │\n",
       "├───────────────────┼──────────────────┼──────────┼────────────────────┤\n",
       "│ <span style=\"color: #008000; text-decoration-color: #008000\">BLITZ            </span> │ <span style=\"color: #008000; text-decoration-color: #008000\">Abandoned       </span> │    <span style=\"color: #008080; text-decoration-color: #008080; font-weight: bold\">81558</span> │           <span style=\"color: #008080; text-decoration-color: #008080; font-weight: bold\">0.660928</span> │\n",
       "│ <span style=\"color: #008000; text-decoration-color: #008000\">BLITZ            </span> │ <span style=\"color: #008000; text-decoration-color: #008000\">Normal          </span> │ <span style=\"color: #008080; text-decoration-color: #008080; font-weight: bold\">44605551</span> │          <span style=\"color: #008080; text-decoration-color: #008080; font-weight: bold\">32.302616</span> │\n",
       "│ <span style=\"color: #008000; text-decoration-color: #008000\">BLITZ            </span> │ <span style=\"color: #008000; text-decoration-color: #008000\">Rules infraction</span> │     <span style=\"color: #008080; text-decoration-color: #008080; font-weight: bold\">1815</span> │          <span style=\"color: #008080; text-decoration-color: #008080; font-weight: bold\">11.239669</span> │\n",
       "│ <span style=\"color: #008000; text-decoration-color: #008000\">BLITZ            </span> │ <span style=\"color: #008000; text-decoration-color: #008000\">Time forfeit    </span> │ <span style=\"color: #008080; text-decoration-color: #008080; font-weight: bold\">13588328</span> │          <span style=\"color: #008080; text-decoration-color: #008080; font-weight: bold\">38.755687</span> │\n",
       "│ <span style=\"color: #008000; text-decoration-color: #008000\">BULLET           </span> │ <span style=\"color: #008000; text-decoration-color: #008000\">Abandoned       </span> │    <span style=\"color: #008080; text-decoration-color: #008080; font-weight: bold\">23508</span> │           <span style=\"color: #008080; text-decoration-color: #008080; font-weight: bold\">0.601263</span> │\n",
       "│ <span style=\"color: #008000; text-decoration-color: #008000\">BULLET           </span> │ <span style=\"color: #008000; text-decoration-color: #008000\">Normal          </span> │ <span style=\"color: #008080; text-decoration-color: #008080; font-weight: bold\">11769972</span> │          <span style=\"color: #008080; text-decoration-color: #008080; font-weight: bold\">28.195978</span> │\n",
       "│ <span style=\"color: #008000; text-decoration-color: #008000\">BULLET           </span> │ <span style=\"color: #008000; text-decoration-color: #008000\">Rules infraction</span> │       <span style=\"color: #008080; text-decoration-color: #008080; font-weight: bold\">22</span> │           <span style=\"color: #008080; text-decoration-color: #008080; font-weight: bold\">9.295455</span> │\n",
       "│ <span style=\"color: #008000; text-decoration-color: #008000\">BULLET           </span> │ <span style=\"color: #008000; text-decoration-color: #008000\">Time forfeit    </span> │ <span style=\"color: #008080; text-decoration-color: #008080; font-weight: bold\">15453256</span> │          <span style=\"color: #008080; text-decoration-color: #008080; font-weight: bold\">35.907746</span> │\n",
       "│ <span style=\"color: #008000; text-decoration-color: #008000\">RAPID            </span> │ <span style=\"color: #008000; text-decoration-color: #008000\">Abandoned       </span> │     <span style=\"color: #008080; text-decoration-color: #008080; font-weight: bold\">3798</span> │           <span style=\"color: #008080; text-decoration-color: #008080; font-weight: bold\">0.714982</span> │\n",
       "│ <span style=\"color: #008000; text-decoration-color: #008000\">RAPID            </span> │ <span style=\"color: #008000; text-decoration-color: #008000\">Normal          </span> │  <span style=\"color: #008080; text-decoration-color: #008080; font-weight: bold\">3154164</span> │          <span style=\"color: #008080; text-decoration-color: #008080; font-weight: bold\">32.358064</span> │\n",
       "│ <span style=\"color: #008000; text-decoration-color: #008000\">RAPID            </span> │ <span style=\"color: #008000; text-decoration-color: #008000\">Rules infraction</span> │      <span style=\"color: #008080; text-decoration-color: #008080; font-weight: bold\">934</span> │          <span style=\"color: #008080; text-decoration-color: #008080; font-weight: bold\">13.432548</span> │\n",
       "│ <span style=\"color: #008000; text-decoration-color: #008000\">RAPID            </span> │ <span style=\"color: #008000; text-decoration-color: #008000\">Time forfeit    </span> │   <span style=\"color: #008080; text-decoration-color: #008080; font-weight: bold\">367117</span> │          <span style=\"color: #008080; text-decoration-color: #008080; font-weight: bold\">27.351633</span> │\n",
       "│ <span style=\"color: #008000; text-decoration-color: #008000\">STANDARD         </span> │ <span style=\"color: #008000; text-decoration-color: #008000\">Abandoned       </span> │       <span style=\"color: #008080; text-decoration-color: #008080; font-weight: bold\">86</span> │           <span style=\"color: #008080; text-decoration-color: #008080; font-weight: bold\">1.017442</span> │\n",
       "│ <span style=\"color: #008000; text-decoration-color: #008000\">STANDARD         </span> │ <span style=\"color: #008000; text-decoration-color: #008000\">Normal          </span> │    <span style=\"color: #008080; text-decoration-color: #008080; font-weight: bold\">33445</span> │          <span style=\"color: #008080; text-decoration-color: #008080; font-weight: bold\">30.091927</span> │\n",
       "│ <span style=\"color: #008000; text-decoration-color: #008000\">STANDARD         </span> │ <span style=\"color: #008000; text-decoration-color: #008000\">Rules infraction</span> │       <span style=\"color: #008080; text-decoration-color: #008080; font-weight: bold\">36</span> │          <span style=\"color: #008080; text-decoration-color: #008080; font-weight: bold\">12.555556</span> │\n",
       "│ <span style=\"color: #008000; text-decoration-color: #008000\">STANDARD         </span> │ <span style=\"color: #008000; text-decoration-color: #008000\">Time forfeit    </span> │     <span style=\"color: #008080; text-decoration-color: #008080; font-weight: bold\">3800</span> │          <span style=\"color: #008080; text-decoration-color: #008080; font-weight: bold\">18.772237</span> │\n",
       "│ <span style=\"color: #008000; text-decoration-color: #008000\">UNLIMITED        </span> │ <span style=\"color: #008000; text-decoration-color: #008000\">Abandoned       </span> │      <span style=\"color: #008080; text-decoration-color: #008080; font-weight: bold\">822</span> │           <span style=\"color: #008080; text-decoration-color: #008080; font-weight: bold\">0.500000</span> │\n",
       "│ <span style=\"color: #008000; text-decoration-color: #008000\">UNLIMITED        </span> │ <span style=\"color: #008000; text-decoration-color: #008000\">Normal          </span> │    <span style=\"color: #008080; text-decoration-color: #008080; font-weight: bold\">45373</span> │          <span style=\"color: #008080; text-decoration-color: #008080; font-weight: bold\">28.907698</span> │\n",
       "│ <span style=\"color: #008000; text-decoration-color: #008000\">UNLIMITED        </span> │ <span style=\"color: #008000; text-decoration-color: #008000\">Rules infraction</span> │      <span style=\"color: #008080; text-decoration-color: #008080; font-weight: bold\">102</span> │          <span style=\"color: #008080; text-decoration-color: #008080; font-weight: bold\">15.053922</span> │\n",
       "│ <span style=\"color: #008000; text-decoration-color: #008000\">UNLIMITED        </span> │ <span style=\"color: #008000; text-decoration-color: #008000\">Time forfeit    </span> │    <span style=\"color: #008080; text-decoration-color: #008080; font-weight: bold\">18307</span> │           <span style=\"color: #008080; text-decoration-color: #008080; font-weight: bold\">7.755886</span> │\n",
       "│ <span style=\"color: #008000; text-decoration-color: #008000\">UNLIMITED        </span> │ <span style=\"color: #008000; text-decoration-color: #008000\">Unterminated    </span> │    <span style=\"color: #008080; text-decoration-color: #008080; font-weight: bold\">14472</span> │          <span style=\"color: #008080; text-decoration-color: #008080; font-weight: bold\">17.231032</span> │\n",
       "└───────────────────┴──────────────────┴──────────┴────────────────────┘\n",
       "</pre>\n"
      ],
      "text/plain": [
       "┏━━━━━━━━━━━━━━━━━━━┳━━━━━━━━━━━━━━━━━━┳━━━━━━━━━━┳━━━━━━━━━━━━━━━━━━━━┓\n",
       "┃\u001b[1m \u001b[0m\u001b[1mtime_control_type\u001b[0m\u001b[1m \u001b[0m┃\u001b[1m \u001b[0m\u001b[1mtermination\u001b[0m\u001b[1m     \u001b[0m\u001b[1m \u001b[0m┃\u001b[1m \u001b[0m\u001b[1mcount\u001b[0m\u001b[1m   \u001b[0m\u001b[1m \u001b[0m┃\u001b[1m \u001b[0m\u001b[1maverage_move_count\u001b[0m\u001b[1m \u001b[0m┃\n",
       "┡━━━━━━━━━━━━━━━━━━━╇━━━━━━━━━━━━━━━━━━╇━━━━━━━━━━╇━━━━━━━━━━━━━━━━━━━━┩\n",
       "│ \u001b[2mstring\u001b[0m            │ \u001b[2mstring\u001b[0m           │ \u001b[2mint64\u001b[0m    │ \u001b[2mfloat64\u001b[0m            │\n",
       "├───────────────────┼──────────────────┼──────────┼────────────────────┤\n",
       "│ \u001b[32mBLITZ            \u001b[0m │ \u001b[32mAbandoned       \u001b[0m │    \u001b[1;36m81558\u001b[0m │           \u001b[1;36m0.660928\u001b[0m │\n",
       "│ \u001b[32mBLITZ            \u001b[0m │ \u001b[32mNormal          \u001b[0m │ \u001b[1;36m44605551\u001b[0m │          \u001b[1;36m32.302616\u001b[0m │\n",
       "│ \u001b[32mBLITZ            \u001b[0m │ \u001b[32mRules infraction\u001b[0m │     \u001b[1;36m1815\u001b[0m │          \u001b[1;36m11.239669\u001b[0m │\n",
       "│ \u001b[32mBLITZ            \u001b[0m │ \u001b[32mTime forfeit    \u001b[0m │ \u001b[1;36m13588328\u001b[0m │          \u001b[1;36m38.755687\u001b[0m │\n",
       "│ \u001b[32mBULLET           \u001b[0m │ \u001b[32mAbandoned       \u001b[0m │    \u001b[1;36m23508\u001b[0m │           \u001b[1;36m0.601263\u001b[0m │\n",
       "│ \u001b[32mBULLET           \u001b[0m │ \u001b[32mNormal          \u001b[0m │ \u001b[1;36m11769972\u001b[0m │          \u001b[1;36m28.195978\u001b[0m │\n",
       "│ \u001b[32mBULLET           \u001b[0m │ \u001b[32mRules infraction\u001b[0m │       \u001b[1;36m22\u001b[0m │           \u001b[1;36m9.295455\u001b[0m │\n",
       "│ \u001b[32mBULLET           \u001b[0m │ \u001b[32mTime forfeit    \u001b[0m │ \u001b[1;36m15453256\u001b[0m │          \u001b[1;36m35.907746\u001b[0m │\n",
       "│ \u001b[32mRAPID            \u001b[0m │ \u001b[32mAbandoned       \u001b[0m │     \u001b[1;36m3798\u001b[0m │           \u001b[1;36m0.714982\u001b[0m │\n",
       "│ \u001b[32mRAPID            \u001b[0m │ \u001b[32mNormal          \u001b[0m │  \u001b[1;36m3154164\u001b[0m │          \u001b[1;36m32.358064\u001b[0m │\n",
       "│ \u001b[32mRAPID            \u001b[0m │ \u001b[32mRules infraction\u001b[0m │      \u001b[1;36m934\u001b[0m │          \u001b[1;36m13.432548\u001b[0m │\n",
       "│ \u001b[32mRAPID            \u001b[0m │ \u001b[32mTime forfeit    \u001b[0m │   \u001b[1;36m367117\u001b[0m │          \u001b[1;36m27.351633\u001b[0m │\n",
       "│ \u001b[32mSTANDARD         \u001b[0m │ \u001b[32mAbandoned       \u001b[0m │       \u001b[1;36m86\u001b[0m │           \u001b[1;36m1.017442\u001b[0m │\n",
       "│ \u001b[32mSTANDARD         \u001b[0m │ \u001b[32mNormal          \u001b[0m │    \u001b[1;36m33445\u001b[0m │          \u001b[1;36m30.091927\u001b[0m │\n",
       "│ \u001b[32mSTANDARD         \u001b[0m │ \u001b[32mRules infraction\u001b[0m │       \u001b[1;36m36\u001b[0m │          \u001b[1;36m12.555556\u001b[0m │\n",
       "│ \u001b[32mSTANDARD         \u001b[0m │ \u001b[32mTime forfeit    \u001b[0m │     \u001b[1;36m3800\u001b[0m │          \u001b[1;36m18.772237\u001b[0m │\n",
       "│ \u001b[32mUNLIMITED        \u001b[0m │ \u001b[32mAbandoned       \u001b[0m │      \u001b[1;36m822\u001b[0m │           \u001b[1;36m0.500000\u001b[0m │\n",
       "│ \u001b[32mUNLIMITED        \u001b[0m │ \u001b[32mNormal          \u001b[0m │    \u001b[1;36m45373\u001b[0m │          \u001b[1;36m28.907698\u001b[0m │\n",
       "│ \u001b[32mUNLIMITED        \u001b[0m │ \u001b[32mRules infraction\u001b[0m │      \u001b[1;36m102\u001b[0m │          \u001b[1;36m15.053922\u001b[0m │\n",
       "│ \u001b[32mUNLIMITED        \u001b[0m │ \u001b[32mTime forfeit    \u001b[0m │    \u001b[1;36m18307\u001b[0m │           \u001b[1;36m7.755886\u001b[0m │\n",
       "│ \u001b[32mUNLIMITED        \u001b[0m │ \u001b[32mUnterminated    \u001b[0m │    \u001b[1;36m14472\u001b[0m │          \u001b[1;36m17.231032\u001b[0m │\n",
       "└───────────────────┴──────────────────┴──────────┴────────────────────┘\n"
      ]
     },
     "execution_count": 12,
     "metadata": {},
     "output_type": "execute_result"
    }
   ],
   "source": [
    "%%time\n",
    "moves_with_parsed_time_control = moves.mutate(**parse_time_control(moves.time_control))\n",
    "moves_with_parsed_time_control.group_by(moves_with_parsed_time_control.site).agg(\n",
    "    move_count=_.count(),\n",
    "    time_control_type=_.time_control_type.arbitrary(),\n",
    "    termination=_.termination.arbitrary(),\n",
    ").group_by([\"time_control_type\", \"termination\"]).agg(\n",
    "    count=_.count(), average_move_count=_.move_count.mean() / 2\n",
    ").order_by(\n",
    "    [\"time_control_type\", \"termination\"]\n",
    ").preview(\n",
    "    max_rows=25\n",
    ")"
   ]
  },
  {
   "cell_type": "markdown",
   "id": "a72d67f5-c65f-47c3-a29b-9e15146f0de1",
   "metadata": {},
   "source": [
    "The most common value for both `white_elo` and `black_elo` is `1500`, because that's the starting Lichess rating. It's probably worth excluding it, or treating it separately, for most purposes."
   ]
  },
  {
   "cell_type": "code",
   "execution_count": 13,
   "id": "3b4e80b6-e689-4441-a7b0-9f85fd5f2197",
   "metadata": {},
   "outputs": [
    {
     "name": "stdout",
     "output_type": "stream",
     "text": [
      "CPU times: user 3min 5s, sys: 6.5 s, total: 3min 12s\n",
      "Wall time: 28 s\n"
     ]
    },
    {
     "data": {
      "text/html": [
       "<pre style=\"white-space:pre;overflow-x:auto;line-height:normal;font-family:Menlo,'DejaVu Sans Mono',consolas,'Courier New',monospace\">┏━━━━━━━━━━━┳━━━━━━━┳━━━━━━━━┳━━━━━━━━━━┳━━━━━━━┳━━━━━━━━┳━━━━━━━━┓\n",
       "┃<span style=\"font-weight: bold\"> name      </span>┃<span style=\"font-weight: bold\"> pos   </span>┃<span style=\"font-weight: bold\"> type   </span>┃<span style=\"font-weight: bold\"> count    </span>┃<span style=\"font-weight: bold\"> nulls </span>┃<span style=\"font-weight: bold\"> unique </span>┃<span style=\"font-weight: bold\"> mode   </span>┃\n",
       "┡━━━━━━━━━━━╇━━━━━━━╇━━━━━━━━╇━━━━━━━━━━╇━━━━━━━╇━━━━━━━━╇━━━━━━━━┩\n",
       "│ <span style=\"color: #7f7f7f; text-decoration-color: #7f7f7f\">string</span>    │ <span style=\"color: #7f7f7f; text-decoration-color: #7f7f7f\">int16</span> │ <span style=\"color: #7f7f7f; text-decoration-color: #7f7f7f\">string</span> │ <span style=\"color: #7f7f7f; text-decoration-color: #7f7f7f\">int64</span>    │ <span style=\"color: #7f7f7f; text-decoration-color: #7f7f7f\">int64</span> │ <span style=\"color: #7f7f7f; text-decoration-color: #7f7f7f\">int64</span>  │ <span style=\"color: #7f7f7f; text-decoration-color: #7f7f7f\">string</span> │\n",
       "├───────────┼───────┼────────┼──────────┼───────┼────────┼────────┤\n",
       "│ <span style=\"color: #008000; text-decoration-color: #008000\">white_elo</span> │     <span style=\"color: #008080; text-decoration-color: #008080; font-weight: bold\">0</span> │ <span style=\"color: #008000; text-decoration-color: #008000\">string</span> │ <span style=\"color: #008080; text-decoration-color: #008080; font-weight: bold\">89166466</span> │     <span style=\"color: #008080; text-decoration-color: #008080; font-weight: bold\">0</span> │   <span style=\"color: #008080; text-decoration-color: #008080; font-weight: bold\">3075</span> │ <span style=\"color: #008000; text-decoration-color: #008000\">1500  </span> │\n",
       "│ <span style=\"color: #008000; text-decoration-color: #008000\">black_elo</span> │     <span style=\"color: #008080; text-decoration-color: #008080; font-weight: bold\">1</span> │ <span style=\"color: #008000; text-decoration-color: #008000\">string</span> │ <span style=\"color: #008080; text-decoration-color: #008080; font-weight: bold\">89166466</span> │     <span style=\"color: #008080; text-decoration-color: #008080; font-weight: bold\">0</span> │   <span style=\"color: #008080; text-decoration-color: #008080; font-weight: bold\">2974</span> │ <span style=\"color: #008000; text-decoration-color: #008000\">1500  </span> │\n",
       "└───────────┴───────┴────────┴──────────┴───────┴────────┴────────┘\n",
       "</pre>\n"
      ],
      "text/plain": [
       "┏━━━━━━━━━━━┳━━━━━━━┳━━━━━━━━┳━━━━━━━━━━┳━━━━━━━┳━━━━━━━━┳━━━━━━━━┓\n",
       "┃\u001b[1m \u001b[0m\u001b[1mname\u001b[0m\u001b[1m     \u001b[0m\u001b[1m \u001b[0m┃\u001b[1m \u001b[0m\u001b[1mpos\u001b[0m\u001b[1m  \u001b[0m\u001b[1m \u001b[0m┃\u001b[1m \u001b[0m\u001b[1mtype\u001b[0m\u001b[1m  \u001b[0m\u001b[1m \u001b[0m┃\u001b[1m \u001b[0m\u001b[1mcount\u001b[0m\u001b[1m   \u001b[0m\u001b[1m \u001b[0m┃\u001b[1m \u001b[0m\u001b[1mnulls\u001b[0m\u001b[1m \u001b[0m┃\u001b[1m \u001b[0m\u001b[1munique\u001b[0m\u001b[1m \u001b[0m┃\u001b[1m \u001b[0m\u001b[1mmode\u001b[0m\u001b[1m  \u001b[0m\u001b[1m \u001b[0m┃\n",
       "┡━━━━━━━━━━━╇━━━━━━━╇━━━━━━━━╇━━━━━━━━━━╇━━━━━━━╇━━━━━━━━╇━━━━━━━━┩\n",
       "│ \u001b[2mstring\u001b[0m    │ \u001b[2mint16\u001b[0m │ \u001b[2mstring\u001b[0m │ \u001b[2mint64\u001b[0m    │ \u001b[2mint64\u001b[0m │ \u001b[2mint64\u001b[0m  │ \u001b[2mstring\u001b[0m │\n",
       "├───────────┼───────┼────────┼──────────┼───────┼────────┼────────┤\n",
       "│ \u001b[32mwhite_elo\u001b[0m │     \u001b[1;36m0\u001b[0m │ \u001b[32mstring\u001b[0m │ \u001b[1;36m89166466\u001b[0m │     \u001b[1;36m0\u001b[0m │   \u001b[1;36m3075\u001b[0m │ \u001b[32m1500  \u001b[0m │\n",
       "│ \u001b[32mblack_elo\u001b[0m │     \u001b[1;36m1\u001b[0m │ \u001b[32mstring\u001b[0m │ \u001b[1;36m89166466\u001b[0m │     \u001b[1;36m0\u001b[0m │   \u001b[1;36m2974\u001b[0m │ \u001b[32m1500  \u001b[0m │\n",
       "└───────────┴───────┴────────┴──────────┴───────┴────────┴────────┘\n"
      ]
     },
     "execution_count": 13,
     "metadata": {},
     "output_type": "execute_result"
    }
   ],
   "source": [
    "%%time\n",
    "games[\"white_elo\", \"black_elo\"].describe().preview()"
   ]
  },
  {
   "cell_type": "markdown",
   "id": "705f85b6-b844-4603-9c05-a27601f04c72",
   "metadata": {},
   "source": [
    "It also looks like Lichess has a minimum Elo rating of `400`; some online sleuthing shows that this bar may have been lowered over the years."
   ]
  },
  {
   "cell_type": "code",
   "execution_count": 14,
   "id": "fe105e75-3fc1-401e-a18f-68ee1e965992",
   "metadata": {},
   "outputs": [
    {
     "name": "stdout",
     "output_type": "stream",
     "text": [
      "CPU times: user 3min 29s, sys: 12.6 s, total: 3min 41s\n",
      "Wall time: 39.6 s\n"
     ]
    },
    {
     "data": {
      "text/html": [
       "<pre style=\"white-space:pre;overflow-x:auto;line-height:normal;font-family:Menlo,'DejaVu Sans Mono',consolas,'Courier New',monospace\">┏━━━━━━━━━┳━━━━━┳━━━━━━━┳━━━━━━━━┳━━━━━━┳━━━━━━┳━━━━━━━━━━━━┳━━━━━━━━━━┳━━━━━━━━┳━━━━━━━┳━━━━━━━━┳━━━━━━━┳━━━━━━━━┓\n",
       "┃<span style=\"font-weight: bold\"> name    </span>┃<span style=\"font-weight: bold\"> pos </span>┃<span style=\"font-weight: bold\"> type  </span>┃<span style=\"font-weight: bold\"> count  </span>┃<span style=\"font-weight: bold\"> nul… </span>┃<span style=\"font-weight: bold\"> uni… </span>┃<span style=\"font-weight: bold\"> mean       </span>┃<span style=\"font-weight: bold\"> std      </span>┃<span style=\"font-weight: bold\"> min    </span>┃<span style=\"font-weight: bold\"> p25   </span>┃<span style=\"font-weight: bold\"> p50    </span>┃<span style=\"font-weight: bold\"> p75   </span>┃<span style=\"font-weight: bold\"> max    </span>┃\n",
       "┡━━━━━━━━━╇━━━━━╇━━━━━━━╇━━━━━━━━╇━━━━━━╇━━━━━━╇━━━━━━━━━━━━╇━━━━━━━━━━╇━━━━━━━━╇━━━━━━━╇━━━━━━━━╇━━━━━━━╇━━━━━━━━┩\n",
       "│ <span style=\"color: #7f7f7f; text-decoration-color: #7f7f7f\">string</span>  │ <span style=\"color: #7f7f7f; text-decoration-color: #7f7f7f\">in…</span> │ <span style=\"color: #7f7f7f; text-decoration-color: #7f7f7f\">stri…</span> │ <span style=\"color: #7f7f7f; text-decoration-color: #7f7f7f\">int64</span>  │ <span style=\"color: #7f7f7f; text-decoration-color: #7f7f7f\">int…</span> │ <span style=\"color: #7f7f7f; text-decoration-color: #7f7f7f\">int…</span> │ <span style=\"color: #7f7f7f; text-decoration-color: #7f7f7f\">float64</span>    │ <span style=\"color: #7f7f7f; text-decoration-color: #7f7f7f\">float64</span>  │ <span style=\"color: #7f7f7f; text-decoration-color: #7f7f7f\">float…</span> │ <span style=\"color: #7f7f7f; text-decoration-color: #7f7f7f\">floa…</span> │ <span style=\"color: #7f7f7f; text-decoration-color: #7f7f7f\">float…</span> │ <span style=\"color: #7f7f7f; text-decoration-color: #7f7f7f\">floa…</span> │ <span style=\"color: #7f7f7f; text-decoration-color: #7f7f7f\">float…</span> │\n",
       "├─────────┼─────┼───────┼────────┼──────┼──────┼────────────┼──────────┼────────┼───────┼────────┼───────┼────────┤\n",
       "│ <span style=\"color: #008000; text-decoration-color: #008000\">white_…</span> │   <span style=\"color: #008080; text-decoration-color: #008080; font-weight: bold\">0</span> │ <span style=\"color: #008000; text-decoration-color: #008000\">int64</span> │ <span style=\"color: #008080; text-decoration-color: #008080; font-weight: bold\">89166…</span> │    <span style=\"color: #008080; text-decoration-color: #008080; font-weight: bold\">0</span> │ <span style=\"color: #008080; text-decoration-color: #008080; font-weight: bold\">3075</span> │ <span style=\"color: #008080; text-decoration-color: #008080; font-weight: bold\">1653.8320…</span> │ <span style=\"color: #008080; text-decoration-color: #008080; font-weight: bold\">387.843…</span> │  <span style=\"color: #008080; text-decoration-color: #008080; font-weight: bold\">400.0</span> │ <span style=\"color: #008080; text-decoration-color: #008080; font-weight: bold\">1385…</span> │ <span style=\"color: #008080; text-decoration-color: #008080; font-weight: bold\">1667.0</span> │ <span style=\"color: #008080; text-decoration-color: #008080; font-weight: bold\">1925…</span> │ <span style=\"color: #008080; text-decoration-color: #008080; font-weight: bold\">3612.0</span> │\n",
       "│ <span style=\"color: #008000; text-decoration-color: #008000\">black_…</span> │   <span style=\"color: #008080; text-decoration-color: #008080; font-weight: bold\">1</span> │ <span style=\"color: #008000; text-decoration-color: #008000\">int64</span> │ <span style=\"color: #008080; text-decoration-color: #008080; font-weight: bold\">89166…</span> │    <span style=\"color: #008080; text-decoration-color: #008080; font-weight: bold\">0</span> │ <span style=\"color: #008080; text-decoration-color: #008080; font-weight: bold\">2974</span> │ <span style=\"color: #008080; text-decoration-color: #008080; font-weight: bold\">1653.6534…</span> │ <span style=\"color: #008080; text-decoration-color: #008080; font-weight: bold\">387.973…</span> │  <span style=\"color: #008080; text-decoration-color: #008080; font-weight: bold\">400.0</span> │ <span style=\"color: #008080; text-decoration-color: #008080; font-weight: bold\">1384…</span> │ <span style=\"color: #008080; text-decoration-color: #008080; font-weight: bold\">1667.0</span> │ <span style=\"color: #008080; text-decoration-color: #008080; font-weight: bold\">1925…</span> │ <span style=\"color: #008080; text-decoration-color: #008080; font-weight: bold\">3591.0</span> │\n",
       "└─────────┴─────┴───────┴────────┴──────┴──────┴────────────┴──────────┴────────┴───────┴────────┴───────┴────────┘\n",
       "</pre>\n"
      ],
      "text/plain": [
       "┏━━━━━━━━━┳━━━━━┳━━━━━━━┳━━━━━━━━┳━━━━━━┳━━━━━━┳━━━━━━━━━━━━┳━━━━━━━━━━┳━━━━━━━━┳━━━━━━━┳━━━━━━━━┳━━━━━━━┳━━━━━━━━┓\n",
       "┃\u001b[1m \u001b[0m\u001b[1mname\u001b[0m\u001b[1m   \u001b[0m\u001b[1m \u001b[0m┃\u001b[1m \u001b[0m\u001b[1mpos\u001b[0m\u001b[1m \u001b[0m┃\u001b[1m \u001b[0m\u001b[1mtype\u001b[0m\u001b[1m \u001b[0m\u001b[1m \u001b[0m┃\u001b[1m \u001b[0m\u001b[1mcount\u001b[0m\u001b[1m \u001b[0m\u001b[1m \u001b[0m┃\u001b[1m \u001b[0m\u001b[1mnul…\u001b[0m\u001b[1m \u001b[0m┃\u001b[1m \u001b[0m\u001b[1muni…\u001b[0m\u001b[1m \u001b[0m┃\u001b[1m \u001b[0m\u001b[1mmean\u001b[0m\u001b[1m      \u001b[0m\u001b[1m \u001b[0m┃\u001b[1m \u001b[0m\u001b[1mstd\u001b[0m\u001b[1m     \u001b[0m\u001b[1m \u001b[0m┃\u001b[1m \u001b[0m\u001b[1mmin\u001b[0m\u001b[1m   \u001b[0m\u001b[1m \u001b[0m┃\u001b[1m \u001b[0m\u001b[1mp25\u001b[0m\u001b[1m  \u001b[0m\u001b[1m \u001b[0m┃\u001b[1m \u001b[0m\u001b[1mp50\u001b[0m\u001b[1m   \u001b[0m\u001b[1m \u001b[0m┃\u001b[1m \u001b[0m\u001b[1mp75\u001b[0m\u001b[1m  \u001b[0m\u001b[1m \u001b[0m┃\u001b[1m \u001b[0m\u001b[1mmax\u001b[0m\u001b[1m   \u001b[0m\u001b[1m \u001b[0m┃\n",
       "┡━━━━━━━━━╇━━━━━╇━━━━━━━╇━━━━━━━━╇━━━━━━╇━━━━━━╇━━━━━━━━━━━━╇━━━━━━━━━━╇━━━━━━━━╇━━━━━━━╇━━━━━━━━╇━━━━━━━╇━━━━━━━━┩\n",
       "│ \u001b[2mstring\u001b[0m  │ \u001b[2min…\u001b[0m │ \u001b[2mstri…\u001b[0m │ \u001b[2mint64\u001b[0m  │ \u001b[2mint…\u001b[0m │ \u001b[2mint…\u001b[0m │ \u001b[2mfloat64\u001b[0m    │ \u001b[2mfloat64\u001b[0m  │ \u001b[2mfloat…\u001b[0m │ \u001b[2mfloa…\u001b[0m │ \u001b[2mfloat…\u001b[0m │ \u001b[2mfloa…\u001b[0m │ \u001b[2mfloat…\u001b[0m │\n",
       "├─────────┼─────┼───────┼────────┼──────┼──────┼────────────┼──────────┼────────┼───────┼────────┼───────┼────────┤\n",
       "│ \u001b[32mwhite_…\u001b[0m │   \u001b[1;36m0\u001b[0m │ \u001b[32mint64\u001b[0m │ \u001b[1;36m89166…\u001b[0m │    \u001b[1;36m0\u001b[0m │ \u001b[1;36m3075\u001b[0m │ \u001b[1;36m1653.8320…\u001b[0m │ \u001b[1;36m387.843…\u001b[0m │  \u001b[1;36m400.0\u001b[0m │ \u001b[1;36m1385…\u001b[0m │ \u001b[1;36m1667.0\u001b[0m │ \u001b[1;36m1925…\u001b[0m │ \u001b[1;36m3612.0\u001b[0m │\n",
       "│ \u001b[32mblack_…\u001b[0m │   \u001b[1;36m1\u001b[0m │ \u001b[32mint64\u001b[0m │ \u001b[1;36m89166…\u001b[0m │    \u001b[1;36m0\u001b[0m │ \u001b[1;36m2974\u001b[0m │ \u001b[1;36m1653.6534…\u001b[0m │ \u001b[1;36m387.973…\u001b[0m │  \u001b[1;36m400.0\u001b[0m │ \u001b[1;36m1384…\u001b[0m │ \u001b[1;36m1667.0\u001b[0m │ \u001b[1;36m1925…\u001b[0m │ \u001b[1;36m3591.0\u001b[0m │\n",
       "└─────────┴─────┴───────┴────────┴──────┴──────┴────────────┴──────────┴────────┴───────┴────────┴───────┴────────┘\n"
      ]
     },
     "execution_count": 14,
     "metadata": {},
     "output_type": "execute_result"
    }
   ],
   "source": [
    "%%time\n",
    "elo_columns = [\"white_elo\", \"black_elo\"]\n",
    "games[elo_columns].cast(dict.fromkeys(elo_columns, int)).describe().preview()"
   ]
  },
  {
   "cell_type": "markdown",
   "id": "cd542a7a-e831-4dd1-b15f-536e143c86cf",
   "metadata": {},
   "source": [
    "It does seem that the average game gets progressively longer as we rise through the ranks. This may be the high-level answer we were looking for."
   ]
  },
  {
   "cell_type": "code",
   "execution_count": 15,
   "id": "1d08fdf8-634d-4c68-9665-972b9ec7d9ff",
   "metadata": {},
   "outputs": [
    {
     "name": "stdout",
     "output_type": "stream",
     "text": [
      "CPU times: user 14min 46s, sys: 26.7 s, total: 15min 12s\n",
      "Wall time: 2min 44s\n"
     ]
    },
    {
     "data": {
      "text/html": [
       "<pre style=\"white-space:pre;overflow-x:auto;line-height:normal;font-family:Menlo,'DejaVu Sans Mono',consolas,'Courier New',monospace\">┏━━━━━━━━━━━━━┳━━━━━━━━━━━━━━━━━━┳━━━━━━━━━━┳━━━━━━━━━━━━━━━━━━━━┓\n",
       "┃<span style=\"font-weight: bold\"> elo_bracket </span>┃<span style=\"font-weight: bold\"> termination      </span>┃<span style=\"font-weight: bold\"> count    </span>┃<span style=\"font-weight: bold\"> average_move_count </span>┃\n",
       "┡━━━━━━━━━━━━━╇━━━━━━━━━━━━━━━━━━╇━━━━━━━━━━╇━━━━━━━━━━━━━━━━━━━━┩\n",
       "│ <span style=\"color: #7f7f7f; text-decoration-color: #7f7f7f\">string</span>      │ <span style=\"color: #7f7f7f; text-decoration-color: #7f7f7f\">string</span>           │ <span style=\"color: #7f7f7f; text-decoration-color: #7f7f7f\">int64</span>    │ <span style=\"color: #7f7f7f; text-decoration-color: #7f7f7f\">float64</span>            │\n",
       "├─────────────┼──────────────────┼──────────┼────────────────────┤\n",
       "│ <span style=\"color: #008000; text-decoration-color: #008000\">-0499      </span> │ <span style=\"color: #008000; text-decoration-color: #008000\">Abandoned       </span> │      <span style=\"color: #008080; text-decoration-color: #008080; font-weight: bold\">201</span> │           <span style=\"color: #008080; text-decoration-color: #008080; font-weight: bold\">0.519900</span> │\n",
       "│ <span style=\"color: #008000; text-decoration-color: #008000\">-0499      </span> │ <span style=\"color: #008000; text-decoration-color: #008000\">Normal          </span> │    <span style=\"color: #008080; text-decoration-color: #008080; font-weight: bold\">17192</span> │          <span style=\"color: #008080; text-decoration-color: #008080; font-weight: bold\">25.399226</span> │\n",
       "│ <span style=\"color: #008000; text-decoration-color: #008000\">-0499      </span> │ <span style=\"color: #008000; text-decoration-color: #008000\">Rules infraction</span> │        <span style=\"color: #008080; text-decoration-color: #008080; font-weight: bold\">6</span> │           <span style=\"color: #008080; text-decoration-color: #008080; font-weight: bold\">7.666667</span> │\n",
       "│ <span style=\"color: #008000; text-decoration-color: #008000\">-0499      </span> │ <span style=\"color: #008000; text-decoration-color: #008000\">Time forfeit    </span> │     <span style=\"color: #008080; text-decoration-color: #008080; font-weight: bold\">7271</span> │          <span style=\"color: #008080; text-decoration-color: #008080; font-weight: bold\">21.199147</span> │\n",
       "│ <span style=\"color: #008000; text-decoration-color: #008000\">0500-0999  </span> │ <span style=\"color: #008000; text-decoration-color: #008000\">Abandoned       </span> │     <span style=\"color: #008080; text-decoration-color: #008080; font-weight: bold\">7003</span> │           <span style=\"color: #008080; text-decoration-color: #008080; font-weight: bold\">0.619235</span> │\n",
       "│ <span style=\"color: #008000; text-decoration-color: #008000\">0500-0999  </span> │ <span style=\"color: #008000; text-decoration-color: #008000\">Normal          </span> │  <span style=\"color: #008080; text-decoration-color: #008080; font-weight: bold\">2969918</span> │          <span style=\"color: #008080; text-decoration-color: #008080; font-weight: bold\">26.215259</span> │\n",
       "│ <span style=\"color: #008000; text-decoration-color: #008000\">0500-0999  </span> │ <span style=\"color: #008000; text-decoration-color: #008000\">Rules infraction</span> │      <span style=\"color: #008080; text-decoration-color: #008080; font-weight: bold\">295</span> │          <span style=\"color: #008080; text-decoration-color: #008080; font-weight: bold\">10.364407</span> │\n",
       "│ <span style=\"color: #008000; text-decoration-color: #008000\">0500-0999  </span> │ <span style=\"color: #008000; text-decoration-color: #008000\">Time forfeit    </span> │  <span style=\"color: #008080; text-decoration-color: #008080; font-weight: bold\">1463014</span> │          <span style=\"color: #008080; text-decoration-color: #008080; font-weight: bold\">26.477060</span> │\n",
       "│ <span style=\"color: #008000; text-decoration-color: #008000\">0500-0999  </span> │ <span style=\"color: #008000; text-decoration-color: #008000\">Unterminated    </span> │       <span style=\"color: #008080; text-decoration-color: #008080; font-weight: bold\">15</span> │           <span style=\"color: #008080; text-decoration-color: #008080; font-weight: bold\">7.566667</span> │\n",
       "│ <span style=\"color: #008000; text-decoration-color: #008000\">1000-1499  </span> │ <span style=\"color: #008000; text-decoration-color: #008000\">Abandoned       </span> │    <span style=\"color: #008080; text-decoration-color: #008080; font-weight: bold\">29776</span> │           <span style=\"color: #008080; text-decoration-color: #008080; font-weight: bold\">0.640617</span> │\n",
       "│ <span style=\"color: #008000; text-decoration-color: #008000\">1000-1499  </span> │ <span style=\"color: #008000; text-decoration-color: #008000\">Normal          </span> │ <span style=\"color: #008080; text-decoration-color: #008080; font-weight: bold\">17674320</span> │          <span style=\"color: #008080; text-decoration-color: #008080; font-weight: bold\">29.615599</span> │\n",
       "│ <span style=\"color: #008000; text-decoration-color: #008000\">1000-1499  </span> │ <span style=\"color: #008000; text-decoration-color: #008000\">Rules infraction</span> │     <span style=\"color: #008080; text-decoration-color: #008080; font-weight: bold\">1080</span> │          <span style=\"color: #008080; text-decoration-color: #008080; font-weight: bold\">11.641204</span> │\n",
       "│ <span style=\"color: #008000; text-decoration-color: #008000\">1000-1499  </span> │ <span style=\"color: #008000; text-decoration-color: #008000\">Time forfeit    </span> │  <span style=\"color: #008080; text-decoration-color: #008080; font-weight: bold\">8175853</span> │          <span style=\"color: #008080; text-decoration-color: #008080; font-weight: bold\">32.559713</span> │\n",
       "│ <span style=\"color: #008000; text-decoration-color: #008000\">1000-1499  </span> │ <span style=\"color: #008000; text-decoration-color: #008000\">Unterminated    </span> │      <span style=\"color: #008080; text-decoration-color: #008080; font-weight: bold\">923</span> │          <span style=\"color: #008080; text-decoration-color: #008080; font-weight: bold\">13.337486</span> │\n",
       "│ <span style=\"color: #008000; text-decoration-color: #008000\">1500-1999  </span> │ <span style=\"color: #008000; text-decoration-color: #008000\">Abandoned       </span> │    <span style=\"color: #008080; text-decoration-color: #008080; font-weight: bold\">54906</span> │           <span style=\"color: #008080; text-decoration-color: #008080; font-weight: bold\">0.643928</span> │\n",
       "│ <span style=\"color: #008000; text-decoration-color: #008000\">1500-1999  </span> │ <span style=\"color: #008000; text-decoration-color: #008000\">Normal          </span> │ <span style=\"color: #008080; text-decoration-color: #008080; font-weight: bold\">27874037</span> │          <span style=\"color: #008080; text-decoration-color: #008080; font-weight: bold\">32.307252</span> │\n",
       "│ <span style=\"color: #008000; text-decoration-color: #008000\">1500-1999  </span> │ <span style=\"color: #008000; text-decoration-color: #008000\">Rules infraction</span> │      <span style=\"color: #008080; text-decoration-color: #008080; font-weight: bold\">935</span> │          <span style=\"color: #008080; text-decoration-color: #008080; font-weight: bold\">13.454011</span> │\n",
       "│ <span style=\"color: #008000; text-decoration-color: #008000\">1500-1999  </span> │ <span style=\"color: #008000; text-decoration-color: #008000\">Time forfeit    </span> │ <span style=\"color: #008080; text-decoration-color: #008080; font-weight: bold\">13471173</span> │          <span style=\"color: #008080; text-decoration-color: #008080; font-weight: bold\">38.344237</span> │\n",
       "│ <span style=\"color: #008000; text-decoration-color: #008000\">1500-1999  </span> │ <span style=\"color: #008000; text-decoration-color: #008000\">Unterminated    </span> │     <span style=\"color: #008080; text-decoration-color: #008080; font-weight: bold\">7496</span> │          <span style=\"color: #008080; text-decoration-color: #008080; font-weight: bold\">18.396612</span> │\n",
       "│ <span style=\"color: #008000; text-decoration-color: #008000\">2000-2499  </span> │ <span style=\"color: #008000; text-decoration-color: #008000\">Abandoned       </span> │    <span style=\"color: #008080; text-decoration-color: #008080; font-weight: bold\">15834</span> │           <span style=\"color: #008080; text-decoration-color: #008080; font-weight: bold\">0.681224</span> │\n",
       "│ <span style=\"color: #008000; text-decoration-color: #008000\">2000-2499  </span> │ <span style=\"color: #008000; text-decoration-color: #008000\">Normal          </span> │  <span style=\"color: #008080; text-decoration-color: #008080; font-weight: bold\">9940655</span> │          <span style=\"color: #008080; text-decoration-color: #008080; font-weight: bold\">33.837046</span> │\n",
       "│ <span style=\"color: #008000; text-decoration-color: #008000\">2000-2499  </span> │ <span style=\"color: #008000; text-decoration-color: #008000\">Rules infraction</span> │      <span style=\"color: #008080; text-decoration-color: #008080; font-weight: bold\">238</span> │          <span style=\"color: #008080; text-decoration-color: #008080; font-weight: bold\">13.315126</span> │\n",
       "│ <span style=\"color: #008000; text-decoration-color: #008000\">2000-2499  </span> │ <span style=\"color: #008000; text-decoration-color: #008000\">Time forfeit    </span> │  <span style=\"color: #008080; text-decoration-color: #008080; font-weight: bold\">5767211</span> │          <span style=\"color: #008080; text-decoration-color: #008080; font-weight: bold\">42.811897</span> │\n",
       "│ <span style=\"color: #008000; text-decoration-color: #008000\">2000-2499  </span> │ <span style=\"color: #008000; text-decoration-color: #008000\">Unterminated    </span> │     <span style=\"color: #008080; text-decoration-color: #008080; font-weight: bold\">4153</span> │          <span style=\"color: #008080; text-decoration-color: #008080; font-weight: bold\">19.174573</span> │\n",
       "│ <span style=\"color: #008000; text-decoration-color: #008000\">2500-2999  </span> │ <span style=\"color: #008000; text-decoration-color: #008000\">Abandoned       </span> │      <span style=\"color: #008080; text-decoration-color: #008080; font-weight: bold\">354</span> │           <span style=\"color: #008080; text-decoration-color: #008080; font-weight: bold\">0.877119</span> │\n",
       "│ <span style=\"color: #008000; text-decoration-color: #008000\">2500-2999  </span> │ <span style=\"color: #008000; text-decoration-color: #008000\">Normal          </span> │   <span style=\"color: #008080; text-decoration-color: #008080; font-weight: bold\">689039</span> │          <span style=\"color: #008080; text-decoration-color: #008080; font-weight: bold\">36.761726</span> │\n",
       "│ <span style=\"color: #008000; text-decoration-color: #008000\">2500-2999  </span> │ <span style=\"color: #008000; text-decoration-color: #008000\">Rules infraction</span> │       <span style=\"color: #008080; text-decoration-color: #008080; font-weight: bold\">12</span> │          <span style=\"color: #008080; text-decoration-color: #008080; font-weight: bold\">10.791667</span> │\n",
       "│ <span style=\"color: #008000; text-decoration-color: #008000\">2500-2999  </span> │ <span style=\"color: #008000; text-decoration-color: #008000\">Time forfeit    </span> │   <span style=\"color: #008080; text-decoration-color: #008080; font-weight: bold\">358549</span> │          <span style=\"color: #008080; text-decoration-color: #008080; font-weight: bold\">50.493369</span> │\n",
       "│ <span style=\"color: #008000; text-decoration-color: #008000\">2500-2999  </span> │ <span style=\"color: #008000; text-decoration-color: #008000\">Unterminated    </span> │      <span style=\"color: #008080; text-decoration-color: #008080; font-weight: bold\">200</span> │          <span style=\"color: #008080; text-decoration-color: #008080; font-weight: bold\">16.617500</span> │\n",
       "│ <span style=\"color: #008000; text-decoration-color: #008000\">3000-3499  </span> │ <span style=\"color: #008000; text-decoration-color: #008000\">Abandoned       </span> │        <span style=\"color: #008080; text-decoration-color: #008080; font-weight: bold\">8</span> │          <span style=\"color: #008080; text-decoration-color: #008080; font-weight: bold\">34.937500</span> │\n",
       "│ <span style=\"color: #008000; text-decoration-color: #008000\">3000-3499  </span> │ <span style=\"color: #008000; text-decoration-color: #008000\">Normal          </span> │    <span style=\"color: #008080; text-decoration-color: #008080; font-weight: bold\">28176</span> │          <span style=\"color: #008080; text-decoration-color: #008080; font-weight: bold\">51.353900</span> │\n",
       "│ <span style=\"color: #008000; text-decoration-color: #008000\">3000-3499  </span> │ <span style=\"color: #008000; text-decoration-color: #008000\">Time forfeit    </span> │     <span style=\"color: #008080; text-decoration-color: #008080; font-weight: bold\">5779</span> │          <span style=\"color: #008080; text-decoration-color: #008080; font-weight: bold\">59.922045</span> │\n",
       "│ <span style=\"color: #008000; text-decoration-color: #008000\">3000-3499  </span> │ <span style=\"color: #008000; text-decoration-color: #008000\">Unterminated    </span> │        <span style=\"color: #008080; text-decoration-color: #008080; font-weight: bold\">7</span> │           <span style=\"color: #008080; text-decoration-color: #008080; font-weight: bold\">3.428571</span> │\n",
       "│ <span style=\"color: #008000; text-decoration-color: #008000\">3500+      </span> │ <span style=\"color: #008000; text-decoration-color: #008000\">Normal          </span> │        <span style=\"color: #008080; text-decoration-color: #008080; font-weight: bold\">2</span> │          <span style=\"color: #008080; text-decoration-color: #008080; font-weight: bold\">14.000000</span> │\n",
       "│ <span style=\"color: #008000; text-decoration-color: #008000\">3500+      </span> │ <span style=\"color: #008000; text-decoration-color: #008000\">Time forfeit    </span> │        <span style=\"color: #008080; text-decoration-color: #008080; font-weight: bold\">3</span> │           <span style=\"color: #008080; text-decoration-color: #008080; font-weight: bold\">8.500000</span> │\n",
       "└─────────────┴──────────────────┴──────────┴────────────────────┘\n",
       "</pre>\n"
      ],
      "text/plain": [
       "┏━━━━━━━━━━━━━┳━━━━━━━━━━━━━━━━━━┳━━━━━━━━━━┳━━━━━━━━━━━━━━━━━━━━┓\n",
       "┃\u001b[1m \u001b[0m\u001b[1melo_bracket\u001b[0m\u001b[1m \u001b[0m┃\u001b[1m \u001b[0m\u001b[1mtermination\u001b[0m\u001b[1m     \u001b[0m\u001b[1m \u001b[0m┃\u001b[1m \u001b[0m\u001b[1mcount\u001b[0m\u001b[1m   \u001b[0m\u001b[1m \u001b[0m┃\u001b[1m \u001b[0m\u001b[1maverage_move_count\u001b[0m\u001b[1m \u001b[0m┃\n",
       "┡━━━━━━━━━━━━━╇━━━━━━━━━━━━━━━━━━╇━━━━━━━━━━╇━━━━━━━━━━━━━━━━━━━━┩\n",
       "│ \u001b[2mstring\u001b[0m      │ \u001b[2mstring\u001b[0m           │ \u001b[2mint64\u001b[0m    │ \u001b[2mfloat64\u001b[0m            │\n",
       "├─────────────┼──────────────────┼──────────┼────────────────────┤\n",
       "│ \u001b[32m-0499      \u001b[0m │ \u001b[32mAbandoned       \u001b[0m │      \u001b[1;36m201\u001b[0m │           \u001b[1;36m0.519900\u001b[0m │\n",
       "│ \u001b[32m-0499      \u001b[0m │ \u001b[32mNormal          \u001b[0m │    \u001b[1;36m17192\u001b[0m │          \u001b[1;36m25.399226\u001b[0m │\n",
       "│ \u001b[32m-0499      \u001b[0m │ \u001b[32mRules infraction\u001b[0m │        \u001b[1;36m6\u001b[0m │           \u001b[1;36m7.666667\u001b[0m │\n",
       "│ \u001b[32m-0499      \u001b[0m │ \u001b[32mTime forfeit    \u001b[0m │     \u001b[1;36m7271\u001b[0m │          \u001b[1;36m21.199147\u001b[0m │\n",
       "│ \u001b[32m0500-0999  \u001b[0m │ \u001b[32mAbandoned       \u001b[0m │     \u001b[1;36m7003\u001b[0m │           \u001b[1;36m0.619235\u001b[0m │\n",
       "│ \u001b[32m0500-0999  \u001b[0m │ \u001b[32mNormal          \u001b[0m │  \u001b[1;36m2969918\u001b[0m │          \u001b[1;36m26.215259\u001b[0m │\n",
       "│ \u001b[32m0500-0999  \u001b[0m │ \u001b[32mRules infraction\u001b[0m │      \u001b[1;36m295\u001b[0m │          \u001b[1;36m10.364407\u001b[0m │\n",
       "│ \u001b[32m0500-0999  \u001b[0m │ \u001b[32mTime forfeit    \u001b[0m │  \u001b[1;36m1463014\u001b[0m │          \u001b[1;36m26.477060\u001b[0m │\n",
       "│ \u001b[32m0500-0999  \u001b[0m │ \u001b[32mUnterminated    \u001b[0m │       \u001b[1;36m15\u001b[0m │           \u001b[1;36m7.566667\u001b[0m │\n",
       "│ \u001b[32m1000-1499  \u001b[0m │ \u001b[32mAbandoned       \u001b[0m │    \u001b[1;36m29776\u001b[0m │           \u001b[1;36m0.640617\u001b[0m │\n",
       "│ \u001b[32m1000-1499  \u001b[0m │ \u001b[32mNormal          \u001b[0m │ \u001b[1;36m17674320\u001b[0m │          \u001b[1;36m29.615599\u001b[0m │\n",
       "│ \u001b[32m1000-1499  \u001b[0m │ \u001b[32mRules infraction\u001b[0m │     \u001b[1;36m1080\u001b[0m │          \u001b[1;36m11.641204\u001b[0m │\n",
       "│ \u001b[32m1000-1499  \u001b[0m │ \u001b[32mTime forfeit    \u001b[0m │  \u001b[1;36m8175853\u001b[0m │          \u001b[1;36m32.559713\u001b[0m │\n",
       "│ \u001b[32m1000-1499  \u001b[0m │ \u001b[32mUnterminated    \u001b[0m │      \u001b[1;36m923\u001b[0m │          \u001b[1;36m13.337486\u001b[0m │\n",
       "│ \u001b[32m1500-1999  \u001b[0m │ \u001b[32mAbandoned       \u001b[0m │    \u001b[1;36m54906\u001b[0m │           \u001b[1;36m0.643928\u001b[0m │\n",
       "│ \u001b[32m1500-1999  \u001b[0m │ \u001b[32mNormal          \u001b[0m │ \u001b[1;36m27874037\u001b[0m │          \u001b[1;36m32.307252\u001b[0m │\n",
       "│ \u001b[32m1500-1999  \u001b[0m │ \u001b[32mRules infraction\u001b[0m │      \u001b[1;36m935\u001b[0m │          \u001b[1;36m13.454011\u001b[0m │\n",
       "│ \u001b[32m1500-1999  \u001b[0m │ \u001b[32mTime forfeit    \u001b[0m │ \u001b[1;36m13471173\u001b[0m │          \u001b[1;36m38.344237\u001b[0m │\n",
       "│ \u001b[32m1500-1999  \u001b[0m │ \u001b[32mUnterminated    \u001b[0m │     \u001b[1;36m7496\u001b[0m │          \u001b[1;36m18.396612\u001b[0m │\n",
       "│ \u001b[32m2000-2499  \u001b[0m │ \u001b[32mAbandoned       \u001b[0m │    \u001b[1;36m15834\u001b[0m │           \u001b[1;36m0.681224\u001b[0m │\n",
       "│ \u001b[32m2000-2499  \u001b[0m │ \u001b[32mNormal          \u001b[0m │  \u001b[1;36m9940655\u001b[0m │          \u001b[1;36m33.837046\u001b[0m │\n",
       "│ \u001b[32m2000-2499  \u001b[0m │ \u001b[32mRules infraction\u001b[0m │      \u001b[1;36m238\u001b[0m │          \u001b[1;36m13.315126\u001b[0m │\n",
       "│ \u001b[32m2000-2499  \u001b[0m │ \u001b[32mTime forfeit    \u001b[0m │  \u001b[1;36m5767211\u001b[0m │          \u001b[1;36m42.811897\u001b[0m │\n",
       "│ \u001b[32m2000-2499  \u001b[0m │ \u001b[32mUnterminated    \u001b[0m │     \u001b[1;36m4153\u001b[0m │          \u001b[1;36m19.174573\u001b[0m │\n",
       "│ \u001b[32m2500-2999  \u001b[0m │ \u001b[32mAbandoned       \u001b[0m │      \u001b[1;36m354\u001b[0m │           \u001b[1;36m0.877119\u001b[0m │\n",
       "│ \u001b[32m2500-2999  \u001b[0m │ \u001b[32mNormal          \u001b[0m │   \u001b[1;36m689039\u001b[0m │          \u001b[1;36m36.761726\u001b[0m │\n",
       "│ \u001b[32m2500-2999  \u001b[0m │ \u001b[32mRules infraction\u001b[0m │       \u001b[1;36m12\u001b[0m │          \u001b[1;36m10.791667\u001b[0m │\n",
       "│ \u001b[32m2500-2999  \u001b[0m │ \u001b[32mTime forfeit    \u001b[0m │   \u001b[1;36m358549\u001b[0m │          \u001b[1;36m50.493369\u001b[0m │\n",
       "│ \u001b[32m2500-2999  \u001b[0m │ \u001b[32mUnterminated    \u001b[0m │      \u001b[1;36m200\u001b[0m │          \u001b[1;36m16.617500\u001b[0m │\n",
       "│ \u001b[32m3000-3499  \u001b[0m │ \u001b[32mAbandoned       \u001b[0m │        \u001b[1;36m8\u001b[0m │          \u001b[1;36m34.937500\u001b[0m │\n",
       "│ \u001b[32m3000-3499  \u001b[0m │ \u001b[32mNormal          \u001b[0m │    \u001b[1;36m28176\u001b[0m │          \u001b[1;36m51.353900\u001b[0m │\n",
       "│ \u001b[32m3000-3499  \u001b[0m │ \u001b[32mTime forfeit    \u001b[0m │     \u001b[1;36m5779\u001b[0m │          \u001b[1;36m59.922045\u001b[0m │\n",
       "│ \u001b[32m3000-3499  \u001b[0m │ \u001b[32mUnterminated    \u001b[0m │        \u001b[1;36m7\u001b[0m │           \u001b[1;36m3.428571\u001b[0m │\n",
       "│ \u001b[32m3500+      \u001b[0m │ \u001b[32mNormal          \u001b[0m │        \u001b[1;36m2\u001b[0m │          \u001b[1;36m14.000000\u001b[0m │\n",
       "│ \u001b[32m3500+      \u001b[0m │ \u001b[32mTime forfeit    \u001b[0m │        \u001b[1;36m3\u001b[0m │           \u001b[1;36m8.500000\u001b[0m │\n",
       "└─────────────┴──────────────────┴──────────┴────────────────────┘\n"
      ]
     },
     "execution_count": 15,
     "metadata": {},
     "output_type": "execute_result"
    }
   ],
   "source": [
    "%%time\n",
    "moves_with_elo_bracket = moves.cast(dict.fromkeys(elo_columns, int)).mutate(\n",
    "    elo_bracket=ibis.case()\n",
    "    .when(_.white_elo < 500, \"-0499\")\n",
    "    .when((500 <= _.white_elo) & (_.white_elo < 1000), \"0500-0999\")\n",
    "    .when((1000 <= _.white_elo) & (_.white_elo < 1500), \"1000-1499\")\n",
    "    .when((1500 <= _.white_elo) & (_.white_elo < 2000), \"1500-1999\")\n",
    "    .when((2000 <= _.white_elo) & (_.white_elo < 2500), \"2000-2499\")\n",
    "    .when((2500 <= _.white_elo) & (_.white_elo < 3000), \"2500-2999\")\n",
    "    .when((3000 <= _.white_elo) & (_.white_elo < 3500), \"3000-3499\")\n",
    "    .when(3500 <= _.white_elo, \"3500+\")\n",
    "    .end()\n",
    ")\n",
    "moves_with_elo_bracket[(_.white_elo != 1500) & (_.black_elo != 1500)].group_by(\n",
    "    _.site\n",
    ").agg(\n",
    "    move_count=_.count(),\n",
    "    elo_bracket=_.elo_bracket.arbitrary(),\n",
    "    termination=_.termination.arbitrary(),\n",
    ").group_by(\n",
    "    [\"elo_bracket\", \"termination\"]\n",
    ").agg(\n",
    "    count=_.count(), average_move_count=_.move_count.mean() / 2\n",
    ").order_by(\n",
    "    [\"elo_bracket\", \"termination\"]\n",
    ").preview(\n",
    "    max_rows=40\n",
    ")"
   ]
  },
  {
   "cell_type": "markdown",
   "id": "1a489260-6db8-4bef-94e8-6acdf1c96730",
   "metadata": {},
   "source": [
    "I was initially surprised that not all moves had clock annotations."
   ]
  },
  {
   "cell_type": "code",
   "execution_count": 16,
   "id": "2edacc38-142f-43d1-9283-18c758c3bf2c",
   "metadata": {},
   "outputs": [
    {
     "name": "stdout",
     "output_type": "stream",
     "text": [
      "CPU times: user 4min 24s, sys: 20.3 s, total: 4min 45s\n",
      "Wall time: 43.8 s\n"
     ]
    },
    {
     "data": {
      "text/html": [
       "<pre style=\"white-space:pre;overflow-x:auto;line-height:normal;font-family:Menlo,'DejaVu Sans Mono',consolas,'Courier New',monospace\">┏━━━━━━━━━━━━━━━━━━━━━━━━━━━━━━━━━━━━━━━┳━━━━━━━━━━━━━━━━━━━━━━━━━━━━━━━━━━━━━━━━━━━━━┓\n",
       "┃<span style=\"font-weight: bold\"> StringContains(move_comment, '[%clk') </span>┃<span style=\"font-weight: bold\"> StringContains(move_comment, '[%clk')_count </span>┃\n",
       "┡━━━━━━━━━━━━━━━━━━━━━━━━━━━━━━━━━━━━━━━╇━━━━━━━━━━━━━━━━━━━━━━━━━━━━━━━━━━━━━━━━━━━━━┩\n",
       "│ <span style=\"color: #7f7f7f; text-decoration-color: #7f7f7f\">boolean</span>                               │ <span style=\"color: #7f7f7f; text-decoration-color: #7f7f7f\">int64</span>                                       │\n",
       "├───────────────────────────────────────┼─────────────────────────────────────────────┤\n",
       "│ False                                 │                                     <span style=\"color: #008080; text-decoration-color: #008080; font-weight: bold\">3409860</span> │\n",
       "│ True                                  │                                  <span style=\"color: #008080; text-decoration-color: #008080; font-weight: bold\">5935089095</span> │\n",
       "└───────────────────────────────────────┴─────────────────────────────────────────────┘\n",
       "</pre>\n"
      ],
      "text/plain": [
       "┏━━━━━━━━━━━━━━━━━━━━━━━━━━━━━━━━━━━━━━━┳━━━━━━━━━━━━━━━━━━━━━━━━━━━━━━━━━━━━━━━━━━━━━┓\n",
       "┃\u001b[1m \u001b[0m\u001b[1mStringContains(move_comment, '[%clk')\u001b[0m\u001b[1m \u001b[0m┃\u001b[1m \u001b[0m\u001b[1mStringContains(move_comment, '[%clk')_count\u001b[0m\u001b[1m \u001b[0m┃\n",
       "┡━━━━━━━━━━━━━━━━━━━━━━━━━━━━━━━━━━━━━━━╇━━━━━━━━━━━━━━━━━━━━━━━━━━━━━━━━━━━━━━━━━━━━━┩\n",
       "│ \u001b[2mboolean\u001b[0m                               │ \u001b[2mint64\u001b[0m                                       │\n",
       "├───────────────────────────────────────┼─────────────────────────────────────────────┤\n",
       "│ False                                 │                                     \u001b[1;36m3409860\u001b[0m │\n",
       "│ True                                  │                                  \u001b[1;36m5935089095\u001b[0m │\n",
       "└───────────────────────────────────────┴─────────────────────────────────────────────┘\n"
      ]
     },
     "execution_count": 16,
     "metadata": {},
     "output_type": "execute_result"
    }
   ],
   "source": [
    "%%time\n",
    "moves.move_comment.contains(\"[%clk\").value_counts().preview()"
   ]
  },
  {
   "cell_type": "markdown",
   "id": "d8635d5e-0031-4af0-b830-6c95f65f81eb",
   "metadata": {},
   "source": [
    "A quick investigation shows that clock annotations are present if and only if the time control is Unlimited, which makes sense."
   ]
  },
  {
   "cell_type": "code",
   "execution_count": 17,
   "id": "d5b6b7f6-07cf-4aaa-acbb-24a8b74d6b62",
   "metadata": {},
   "outputs": [
    {
     "name": "stdout",
     "output_type": "stream",
     "text": [
      "CPU times: user 29min 43s, sys: 23.9 s, total: 30min 7s\n",
      "Wall time: 4min 5s\n"
     ]
    },
    {
     "data": {
      "text/html": [
       "<pre style=\"white-space:pre;overflow-x:auto;line-height:normal;font-family:Menlo,'DejaVu Sans Mono',consolas,'Courier New',monospace\">┏━━━━━━━━━━━┳━━━━━━━━━━━━━━━━━━━┳━━━━━━━━━━━━━┓\n",
       "┃<span style=\"font-weight: bold\"> has_clock </span>┃<span style=\"font-weight: bold\"> time_control_type </span>┃<span style=\"font-weight: bold\"> CountStar() </span>┃\n",
       "┡━━━━━━━━━━━╇━━━━━━━━━━━━━━━━━━━╇━━━━━━━━━━━━━┩\n",
       "│ <span style=\"color: #7f7f7f; text-decoration-color: #7f7f7f\">boolean</span>   │ <span style=\"color: #7f7f7f; text-decoration-color: #7f7f7f\">string</span>            │ <span style=\"color: #7f7f7f; text-decoration-color: #7f7f7f\">int64</span>       │\n",
       "├───────────┼───────────────────┼─────────────┤\n",
       "│ False     │ <span style=\"color: #008000; text-decoration-color: #008000\">UNLIMITED        </span> │     <span style=\"color: #008080; text-decoration-color: #008080; font-weight: bold\">3409860</span> │\n",
       "│ True      │ <span style=\"color: #008000; text-decoration-color: #008000\">BLITZ            </span> │  <span style=\"color: #008080; text-decoration-color: #008080; font-weight: bold\">3935150595</span> │\n",
       "│ True      │ <span style=\"color: #008000; text-decoration-color: #008000\">BULLET           </span> │  <span style=\"color: #008080; text-decoration-color: #008080; font-weight: bold\">1773543598</span> │\n",
       "│ True      │ <span style=\"color: #008000; text-decoration-color: #008000\">RAPID            </span> │   <span style=\"color: #008080; text-decoration-color: #008080; font-weight: bold\">224238305</span> │\n",
       "│ True      │ <span style=\"color: #008000; text-decoration-color: #008000\">STANDARD         </span> │     <span style=\"color: #008080; text-decoration-color: #008080; font-weight: bold\">2156597</span> │\n",
       "└───────────┴───────────────────┴─────────────┘\n",
       "</pre>\n"
      ],
      "text/plain": [
       "┏━━━━━━━━━━━┳━━━━━━━━━━━━━━━━━━━┳━━━━━━━━━━━━━┓\n",
       "┃\u001b[1m \u001b[0m\u001b[1mhas_clock\u001b[0m\u001b[1m \u001b[0m┃\u001b[1m \u001b[0m\u001b[1mtime_control_type\u001b[0m\u001b[1m \u001b[0m┃\u001b[1m \u001b[0m\u001b[1mCountStar()\u001b[0m\u001b[1m \u001b[0m┃\n",
       "┡━━━━━━━━━━━╇━━━━━━━━━━━━━━━━━━━╇━━━━━━━━━━━━━┩\n",
       "│ \u001b[2mboolean\u001b[0m   │ \u001b[2mstring\u001b[0m            │ \u001b[2mint64\u001b[0m       │\n",
       "├───────────┼───────────────────┼─────────────┤\n",
       "│ False     │ \u001b[32mUNLIMITED        \u001b[0m │     \u001b[1;36m3409860\u001b[0m │\n",
       "│ True      │ \u001b[32mBLITZ            \u001b[0m │  \u001b[1;36m3935150595\u001b[0m │\n",
       "│ True      │ \u001b[32mBULLET           \u001b[0m │  \u001b[1;36m1773543598\u001b[0m │\n",
       "│ True      │ \u001b[32mRAPID            \u001b[0m │   \u001b[1;36m224238305\u001b[0m │\n",
       "│ True      │ \u001b[32mSTANDARD         \u001b[0m │     \u001b[1;36m2156597\u001b[0m │\n",
       "└───────────┴───────────────────┴─────────────┘\n"
      ]
     },
     "execution_count": 17,
     "metadata": {},
     "output_type": "execute_result"
    }
   ],
   "source": [
    "%%time\n",
    "moves_with_parsed_time_control.mutate(\n",
    "    has_clock=_.move_comment.contains(\"[%clk\")\n",
    ").group_by([\"has_clock\", \"time_control_type\"]).count().order_by(\n",
    "    [\"has_clock\", \"time_control_type\"]\n",
    ").preview()"
   ]
  },
  {
   "cell_type": "code",
   "execution_count": null,
   "id": "9f0ccc98-c9ff-48ac-bc2f-741d56d30867",
   "metadata": {},
   "outputs": [],
   "source": []
  },
  {
   "cell_type": "code",
   "execution_count": 18,
   "id": "d9380944-5cc5-4497-b00b-748ec5a082cf",
   "metadata": {},
   "outputs": [
    {
     "name": "stdout",
     "output_type": "stream",
     "text": [
      "CPU times: user 92.4 ms, sys: 26.2 ms, total: 119 ms\n",
      "Wall time: 144 ms\n"
     ]
    },
    {
     "data": {
      "text/html": [
       "<pre style=\"white-space:pre;overflow-x:auto;line-height:normal;font-family:Menlo,'DejaVu Sans Mono',consolas,'Courier New',monospace\">┏━━━━━━━━━━━━━━━━━━━━━━━━━━━━━━┳━━━━━━━━━━━━━━━━┳━━━━━━━━┓\n",
       "┃<span style=\"font-weight: bold\"> site                         </span>┃<span style=\"font-weight: bold\"> move_comment   </span>┃<span style=\"font-weight: bold\"> clock  </span>┃\n",
       "┡━━━━━━━━━━━━━━━━━━━━━━━━━━━━━━╇━━━━━━━━━━━━━━━━╇━━━━━━━━┩\n",
       "│ <span style=\"color: #7f7f7f; text-decoration-color: #7f7f7f\">string</span>                       │ <span style=\"color: #7f7f7f; text-decoration-color: #7f7f7f\">string</span>         │ <span style=\"color: #7f7f7f; text-decoration-color: #7f7f7f\">string</span> │\n",
       "├──────────────────────────────┼────────────────┼────────┤\n",
       "│ <a href=\"https://lichess.org/qjWLfHje\" target=\"_blank\"><span style=\"color: #008000; text-decoration-color: #008000\">https://lichess.org/qjWLfHje</span></a> │ <span style=\"color: #008000; text-decoration-color: #008000\">[%clk 0:01:00]</span> │ <span style=\"color: #008000; text-decoration-color: #008000\">00    </span> │\n",
       "│ <a href=\"https://lichess.org/qjWLfHje\" target=\"_blank\"><span style=\"color: #008000; text-decoration-color: #008000\">https://lichess.org/qjWLfHje</span></a> │ <span style=\"color: #008000; text-decoration-color: #008000\">[%clk 0:01:00]</span> │ <span style=\"color: #008000; text-decoration-color: #008000\">00    </span> │\n",
       "│ <a href=\"https://lichess.org/qjWLfHje\" target=\"_blank\"><span style=\"color: #008000; text-decoration-color: #008000\">https://lichess.org/qjWLfHje</span></a> │ <span style=\"color: #008000; text-decoration-color: #008000\">[%clk 0:01:00]</span> │ <span style=\"color: #008000; text-decoration-color: #008000\">00    </span> │\n",
       "│ <a href=\"https://lichess.org/qjWLfHje\" target=\"_blank\"><span style=\"color: #008000; text-decoration-color: #008000\">https://lichess.org/qjWLfHje</span></a> │ <span style=\"color: #008000; text-decoration-color: #008000\">[%clk 0:00:59]</span> │ <span style=\"color: #008000; text-decoration-color: #008000\">59    </span> │\n",
       "│ <a href=\"https://lichess.org/qjWLfHje\" target=\"_blank\"><span style=\"color: #008000; text-decoration-color: #008000\">https://lichess.org/qjWLfHje</span></a> │ <span style=\"color: #008000; text-decoration-color: #008000\">[%clk 0:00:59]</span> │ <span style=\"color: #008000; text-decoration-color: #008000\">59    </span> │\n",
       "│ <a href=\"https://lichess.org/qjWLfHje\" target=\"_blank\"><span style=\"color: #008000; text-decoration-color: #008000\">https://lichess.org/qjWLfHje</span></a> │ <span style=\"color: #008000; text-decoration-color: #008000\">[%clk 0:00:58]</span> │ <span style=\"color: #008000; text-decoration-color: #008000\">58    </span> │\n",
       "│ <a href=\"https://lichess.org/qjWLfHje\" target=\"_blank\"><span style=\"color: #008000; text-decoration-color: #008000\">https://lichess.org/qjWLfHje</span></a> │ <span style=\"color: #008000; text-decoration-color: #008000\">[%clk 0:00:58]</span> │ <span style=\"color: #008000; text-decoration-color: #008000\">58    </span> │\n",
       "│ <a href=\"https://lichess.org/qjWLfHje\" target=\"_blank\"><span style=\"color: #008000; text-decoration-color: #008000\">https://lichess.org/qjWLfHje</span></a> │ <span style=\"color: #008000; text-decoration-color: #008000\">[%clk 0:00:57]</span> │ <span style=\"color: #008000; text-decoration-color: #008000\">57    </span> │\n",
       "│ <a href=\"https://lichess.org/qjWLfHje\" target=\"_blank\"><span style=\"color: #008000; text-decoration-color: #008000\">https://lichess.org/qjWLfHje</span></a> │ <span style=\"color: #008000; text-decoration-color: #008000\">[%clk 0:00:57]</span> │ <span style=\"color: #008000; text-decoration-color: #008000\">57    </span> │\n",
       "│ <a href=\"https://lichess.org/qjWLfHje\" target=\"_blank\"><span style=\"color: #008000; text-decoration-color: #008000\">https://lichess.org/qjWLfHje</span></a> │ <span style=\"color: #008000; text-decoration-color: #008000\">[%clk 0:00:56]</span> │ <span style=\"color: #008000; text-decoration-color: #008000\">56    </span> │\n",
       "│ <span style=\"color: #7f7f7f; text-decoration-color: #7f7f7f\">…</span>                            │ <span style=\"color: #7f7f7f; text-decoration-color: #7f7f7f\">…</span>              │ <span style=\"color: #7f7f7f; text-decoration-color: #7f7f7f\">…</span>      │\n",
       "└──────────────────────────────┴────────────────┴────────┘\n",
       "</pre>\n"
      ],
      "text/plain": [
       "┏━━━━━━━━━━━━━━━━━━━━━━━━━━━━━━┳━━━━━━━━━━━━━━━━┳━━━━━━━━┓\n",
       "┃\u001b[1m \u001b[0m\u001b[1msite\u001b[0m\u001b[1m                        \u001b[0m\u001b[1m \u001b[0m┃\u001b[1m \u001b[0m\u001b[1mmove_comment\u001b[0m\u001b[1m  \u001b[0m\u001b[1m \u001b[0m┃\u001b[1m \u001b[0m\u001b[1mclock\u001b[0m\u001b[1m \u001b[0m\u001b[1m \u001b[0m┃\n",
       "┡━━━━━━━━━━━━━━━━━━━━━━━━━━━━━━╇━━━━━━━━━━━━━━━━╇━━━━━━━━┩\n",
       "│ \u001b[2mstring\u001b[0m                       │ \u001b[2mstring\u001b[0m         │ \u001b[2mstring\u001b[0m │\n",
       "├──────────────────────────────┼────────────────┼────────┤\n",
       "│ \u001b]8;id=428607;https://lichess.org/qjWLfHje\u001b\\\u001b[32mhttps://lichess.org/qjWLfHje\u001b[0m\u001b]8;;\u001b\\ │ \u001b[32m[%clk 0:01:00]\u001b[0m │ \u001b[32m00    \u001b[0m │\n",
       "│ \u001b]8;id=371379;https://lichess.org/qjWLfHje\u001b\\\u001b[32mhttps://lichess.org/qjWLfHje\u001b[0m\u001b]8;;\u001b\\ │ \u001b[32m[%clk 0:01:00]\u001b[0m │ \u001b[32m00    \u001b[0m │\n",
       "│ \u001b]8;id=576490;https://lichess.org/qjWLfHje\u001b\\\u001b[32mhttps://lichess.org/qjWLfHje\u001b[0m\u001b]8;;\u001b\\ │ \u001b[32m[%clk 0:01:00]\u001b[0m │ \u001b[32m00    \u001b[0m │\n",
       "│ \u001b]8;id=786990;https://lichess.org/qjWLfHje\u001b\\\u001b[32mhttps://lichess.org/qjWLfHje\u001b[0m\u001b]8;;\u001b\\ │ \u001b[32m[%clk 0:00:59]\u001b[0m │ \u001b[32m59    \u001b[0m │\n",
       "│ \u001b]8;id=375124;https://lichess.org/qjWLfHje\u001b\\\u001b[32mhttps://lichess.org/qjWLfHje\u001b[0m\u001b]8;;\u001b\\ │ \u001b[32m[%clk 0:00:59]\u001b[0m │ \u001b[32m59    \u001b[0m │\n",
       "│ \u001b]8;id=989392;https://lichess.org/qjWLfHje\u001b\\\u001b[32mhttps://lichess.org/qjWLfHje\u001b[0m\u001b]8;;\u001b\\ │ \u001b[32m[%clk 0:00:58]\u001b[0m │ \u001b[32m58    \u001b[0m │\n",
       "│ \u001b]8;id=119249;https://lichess.org/qjWLfHje\u001b\\\u001b[32mhttps://lichess.org/qjWLfHje\u001b[0m\u001b]8;;\u001b\\ │ \u001b[32m[%clk 0:00:58]\u001b[0m │ \u001b[32m58    \u001b[0m │\n",
       "│ \u001b]8;id=281184;https://lichess.org/qjWLfHje\u001b\\\u001b[32mhttps://lichess.org/qjWLfHje\u001b[0m\u001b]8;;\u001b\\ │ \u001b[32m[%clk 0:00:57]\u001b[0m │ \u001b[32m57    \u001b[0m │\n",
       "│ \u001b]8;id=149416;https://lichess.org/qjWLfHje\u001b\\\u001b[32mhttps://lichess.org/qjWLfHje\u001b[0m\u001b]8;;\u001b\\ │ \u001b[32m[%clk 0:00:57]\u001b[0m │ \u001b[32m57    \u001b[0m │\n",
       "│ \u001b]8;id=26062;https://lichess.org/qjWLfHje\u001b\\\u001b[32mhttps://lichess.org/qjWLfHje\u001b[0m\u001b]8;;\u001b\\ │ \u001b[32m[%clk 0:00:56]\u001b[0m │ \u001b[32m56    \u001b[0m │\n",
       "│ \u001b[2m…\u001b[0m                            │ \u001b[2m…\u001b[0m              │ \u001b[2m…\u001b[0m      │\n",
       "└──────────────────────────────┴────────────────┴────────┘\n"
      ]
     },
     "execution_count": 18,
     "metadata": {},
     "output_type": "execute_result"
    }
   ],
   "source": [
    "%%time\n",
    "from chess.pgn import CLOCK_REGEX\n",
    "\n",
    "moves_with_parsed_time_control[_.time_control_type != \"UNLIMITED\"].mutate(clock=_.move_comment.re_extract(r\"\"\"(?P<prefix>\\s?)\\[%clk\\s(?P<hours>\\d+):(?P<minutes>\\d+):(?P<seconds>\\d+(?:\\.\\d*)?)\\](?P<suffix>\\s?)\"\"\",4))[\"site\", \"move_comment\", \"clock\"].preview()"
   ]
  },
  {
   "cell_type": "code",
   "execution_count": 19,
   "id": "38638fac-7feb-4262-ae3e-128074b98c6f",
   "metadata": {},
   "outputs": [
    {
     "name": "stdout",
     "output_type": "stream",
     "text": [
      "CPU times: user 1h 35min 7s, sys: 29.4 s, total: 1h 35min 36s\n",
      "Wall time: 12min 25s\n"
     ]
    },
    {
     "data": {
      "text/html": [
       "<pre style=\"white-space:pre;overflow-x:auto;line-height:normal;font-family:Menlo,'DejaVu Sans Mono',consolas,'Courier New',monospace\">┏━━━━━━━━━━━━━━━┳━━━━━━━━━━━━━━━━━━━━━┓\n",
       "┃<span style=\"font-weight: bold\"> IsNull(clock) </span>┃<span style=\"font-weight: bold\"> IsNull(clock)_count </span>┃\n",
       "┡━━━━━━━━━━━━━━━╇━━━━━━━━━━━━━━━━━━━━━┩\n",
       "│ <span style=\"color: #7f7f7f; text-decoration-color: #7f7f7f\">boolean</span>       │ <span style=\"color: #7f7f7f; text-decoration-color: #7f7f7f\">int64</span>               │\n",
       "├───────────────┼─────────────────────┤\n",
       "│ False         │          <span style=\"color: #008080; text-decoration-color: #008080; font-weight: bold\">5935089095</span> │\n",
       "└───────────────┴─────────────────────┘\n",
       "</pre>\n"
      ],
      "text/plain": [
       "┏━━━━━━━━━━━━━━━┳━━━━━━━━━━━━━━━━━━━━━┓\n",
       "┃\u001b[1m \u001b[0m\u001b[1mIsNull(clock)\u001b[0m\u001b[1m \u001b[0m┃\u001b[1m \u001b[0m\u001b[1mIsNull(clock)_count\u001b[0m\u001b[1m \u001b[0m┃\n",
       "┡━━━━━━━━━━━━━━━╇━━━━━━━━━━━━━━━━━━━━━┩\n",
       "│ \u001b[2mboolean\u001b[0m       │ \u001b[2mint64\u001b[0m               │\n",
       "├───────────────┼─────────────────────┤\n",
       "│ False         │          \u001b[1;36m5935089095\u001b[0m │\n",
       "└───────────────┴─────────────────────┘\n"
      ]
     },
     "execution_count": 19,
     "metadata": {},
     "output_type": "execute_result"
    }
   ],
   "source": [
    "%%time\n",
    "moves_with_clock = (\n",
    "    moves_with_parsed_time_control[_.time_control_type != \"UNLIMITED\"]\n",
    "    .alias(\"timed_games\")\n",
    "    .sql(\n",
    "        f\"\"\"\n",
    "        SELECT\n",
    "          site,\n",
    "          move_comment,\n",
    "          REGEXP_EXTRACT(\n",
    "            move_comment,\n",
    "            '{CLOCK_REGEX.pattern}',\n",
    "            ['prefix', 'hours', 'minutes', 'seconds', 'suffix']\n",
    "          ) AS clock\n",
    "        FROM timed_games\n",
    "        \"\"\"\n",
    "    )\n",
    ")\n",
    "moves_with_clock.unpack(\"clock\").mutate(\n",
    "    clock=_.hours.cast(int) * 3600 + _.minutes.cast(int) * 60 + _.seconds.cast(float)\n",
    ").clock.isnull().value_counts().preview()"
   ]
  },
  {
   "cell_type": "code",
   "execution_count": 20,
   "id": "09df9dc4-0fa7-4963-9b0e-9c71ba3fa330",
   "metadata": {},
   "outputs": [
    {
     "name": "stdout",
     "output_type": "stream",
     "text": [
      "CPU times: user 1min 2s, sys: 26.9 s, total: 1min 29s\n",
      "Wall time: 2min\n"
     ]
    },
    {
     "data": {
      "text/html": [
       "<pre style=\"white-space:pre;overflow-x:auto;line-height:normal;font-family:Menlo,'DejaVu Sans Mono',consolas,'Courier New',monospace\">┏━━━━━━━━━━━━━━┳━━━━━━━━━┳━━━━━━━━━━━━━━━━━━━━━━━━━━━━━━━━━━━━━━━━━━━━━┳━━━━━━━━━┓\n",
       "┃<span style=\"font-weight: bold\"> move_ply_bin </span>┃<span style=\"font-weight: bold\"> elo_bin </span>┃<span style=\"font-weight: bold\"> Mean(Divide(move_time, time_control_etime)) </span>┃<span style=\"font-weight: bold\"> count   </span>┃\n",
       "┡━━━━━━━━━━━━━━╇━━━━━━━━━╇━━━━━━━━━━━━━━━━━━━━━━━━━━━━━━━━━━━━━━━━━━━━━╇━━━━━━━━━┩\n",
       "│ <span style=\"color: #7f7f7f; text-decoration-color: #7f7f7f\">int64</span>        │ <span style=\"color: #7f7f7f; text-decoration-color: #7f7f7f\">int64</span>   │ <span style=\"color: #7f7f7f; text-decoration-color: #7f7f7f\">float64</span>                                     │ <span style=\"color: #7f7f7f; text-decoration-color: #7f7f7f\">int64</span>   │\n",
       "├──────────────┼─────────┼─────────────────────────────────────────────┼─────────┤\n",
       "│            <span style=\"color: #008080; text-decoration-color: #008080; font-weight: bold\">0</span> │       <span style=\"color: #008080; text-decoration-color: #008080; font-weight: bold\">0</span> │                                    <span style=\"color: #008080; text-decoration-color: #008080; font-weight: bold\">0.021766</span> │    <span style=\"color: #008080; text-decoration-color: #008080; font-weight: bold\">4463</span> │\n",
       "│            <span style=\"color: #008080; text-decoration-color: #008080; font-weight: bold\">0</span> │     <span style=\"color: #008080; text-decoration-color: #008080; font-weight: bold\">500</span> │                                    <span style=\"color: #008080; text-decoration-color: #008080; font-weight: bold\">0.021081</span> │  <span style=\"color: #008080; text-decoration-color: #008080; font-weight: bold\">709717</span> │\n",
       "│            <span style=\"color: #008080; text-decoration-color: #008080; font-weight: bold\">0</span> │    <span style=\"color: #008080; text-decoration-color: #008080; font-weight: bold\">1000</span> │                                    <span style=\"color: #008080; text-decoration-color: #008080; font-weight: bold\">0.015775</span> │ <span style=\"color: #008080; text-decoration-color: #008080; font-weight: bold\">4102112</span> │\n",
       "│            <span style=\"color: #008080; text-decoration-color: #008080; font-weight: bold\">0</span> │    <span style=\"color: #008080; text-decoration-color: #008080; font-weight: bold\">1500</span> │                                    <span style=\"color: #008080; text-decoration-color: #008080; font-weight: bold\">0.012761</span> │ <span style=\"color: #008080; text-decoration-color: #008080; font-weight: bold\">6687011</span> │\n",
       "│            <span style=\"color: #008080; text-decoration-color: #008080; font-weight: bold\">0</span> │    <span style=\"color: #008080; text-decoration-color: #008080; font-weight: bold\">2000</span> │                                    <span style=\"color: #008080; text-decoration-color: #008080; font-weight: bold\">0.011964</span> │ <span style=\"color: #008080; text-decoration-color: #008080; font-weight: bold\">2485005</span> │\n",
       "│            <span style=\"color: #008080; text-decoration-color: #008080; font-weight: bold\">0</span> │    <span style=\"color: #008080; text-decoration-color: #008080; font-weight: bold\">2500</span> │                                    <span style=\"color: #008080; text-decoration-color: #008080; font-weight: bold\">0.011088</span> │  <span style=\"color: #008080; text-decoration-color: #008080; font-weight: bold\">151119</span> │\n",
       "│            <span style=\"color: #008080; text-decoration-color: #008080; font-weight: bold\">0</span> │    <span style=\"color: #008080; text-decoration-color: #008080; font-weight: bold\">3000</span> │                                    <span style=\"color: #008080; text-decoration-color: #008080; font-weight: bold\">0.013900</span> │    <span style=\"color: #008080; text-decoration-color: #008080; font-weight: bold\">6342</span> │\n",
       "│           <span style=\"color: #008080; text-decoration-color: #008080; font-weight: bold\">10</span> │       <span style=\"color: #008080; text-decoration-color: #008080; font-weight: bold\">0</span> │                                    <span style=\"color: #008080; text-decoration-color: #008080; font-weight: bold\">0.024518</span> │    <span style=\"color: #008080; text-decoration-color: #008080; font-weight: bold\">3377</span> │\n",
       "│           <span style=\"color: #008080; text-decoration-color: #008080; font-weight: bold\">10</span> │     <span style=\"color: #008080; text-decoration-color: #008080; font-weight: bold\">500</span> │                                    <span style=\"color: #008080; text-decoration-color: #008080; font-weight: bold\">0.032906</span> │  <span style=\"color: #008080; text-decoration-color: #008080; font-weight: bold\">605484</span> │\n",
       "│           <span style=\"color: #008080; text-decoration-color: #008080; font-weight: bold\">10</span> │    <span style=\"color: #008080; text-decoration-color: #008080; font-weight: bold\">1000</span> │                                    <span style=\"color: #008080; text-decoration-color: #008080; font-weight: bold\">0.031189</span> │ <span style=\"color: #008080; text-decoration-color: #008080; font-weight: bold\">3834818</span> │\n",
       "│           <span style=\"color: #008080; text-decoration-color: #008080; font-weight: bold\">10</span> │    <span style=\"color: #008080; text-decoration-color: #008080; font-weight: bold\">1500</span> │                                    <span style=\"color: #008080; text-decoration-color: #008080; font-weight: bold\">0.029596</span> │ <span style=\"color: #008080; text-decoration-color: #008080; font-weight: bold\">6561283</span> │\n",
       "│           <span style=\"color: #008080; text-decoration-color: #008080; font-weight: bold\">10</span> │    <span style=\"color: #008080; text-decoration-color: #008080; font-weight: bold\">2000</span> │                                    <span style=\"color: #008080; text-decoration-color: #008080; font-weight: bold\">0.030286</span> │ <span style=\"color: #008080; text-decoration-color: #008080; font-weight: bold\">2502133</span> │\n",
       "│           <span style=\"color: #008080; text-decoration-color: #008080; font-weight: bold\">10</span> │    <span style=\"color: #008080; text-decoration-color: #008080; font-weight: bold\">2500</span> │                                    <span style=\"color: #008080; text-decoration-color: #008080; font-weight: bold\">0.029677</span> │  <span style=\"color: #008080; text-decoration-color: #008080; font-weight: bold\">153838</span> │\n",
       "│           <span style=\"color: #008080; text-decoration-color: #008080; font-weight: bold\">10</span> │    <span style=\"color: #008080; text-decoration-color: #008080; font-weight: bold\">3000</span> │                                    <span style=\"color: #008080; text-decoration-color: #008080; font-weight: bold\">0.080148</span> │    <span style=\"color: #008080; text-decoration-color: #008080; font-weight: bold\">6562</span> │\n",
       "│           <span style=\"color: #008080; text-decoration-color: #008080; font-weight: bold\">20</span> │       <span style=\"color: #008080; text-decoration-color: #008080; font-weight: bold\">0</span> │                                    <span style=\"color: #008080; text-decoration-color: #008080; font-weight: bold\">0.019532</span> │    <span style=\"color: #008080; text-decoration-color: #008080; font-weight: bold\">1918</span> │\n",
       "│           <span style=\"color: #008080; text-decoration-color: #008080; font-weight: bold\">20</span> │     <span style=\"color: #008080; text-decoration-color: #008080; font-weight: bold\">500</span> │                                    <span style=\"color: #008080; text-decoration-color: #008080; font-weight: bold\">0.025373</span> │  <span style=\"color: #008080; text-decoration-color: #008080; font-weight: bold\">374377</span> │\n",
       "│           <span style=\"color: #008080; text-decoration-color: #008080; font-weight: bold\">20</span> │    <span style=\"color: #008080; text-decoration-color: #008080; font-weight: bold\">1000</span> │                                    <span style=\"color: #008080; text-decoration-color: #008080; font-weight: bold\">0.028225</span> │ <span style=\"color: #008080; text-decoration-color: #008080; font-weight: bold\">2737882</span> │\n",
       "│           <span style=\"color: #008080; text-decoration-color: #008080; font-weight: bold\">20</span> │    <span style=\"color: #008080; text-decoration-color: #008080; font-weight: bold\">1500</span> │                                    <span style=\"color: #008080; text-decoration-color: #008080; font-weight: bold\">0.029885</span> │ <span style=\"color: #008080; text-decoration-color: #008080; font-weight: bold\">5173711</span> │\n",
       "│           <span style=\"color: #008080; text-decoration-color: #008080; font-weight: bold\">20</span> │    <span style=\"color: #008080; text-decoration-color: #008080; font-weight: bold\">2000</span> │                                    <span style=\"color: #008080; text-decoration-color: #008080; font-weight: bold\">0.031677</span> │ <span style=\"color: #008080; text-decoration-color: #008080; font-weight: bold\">2098380</span> │\n",
       "│           <span style=\"color: #008080; text-decoration-color: #008080; font-weight: bold\">20</span> │    <span style=\"color: #008080; text-decoration-color: #008080; font-weight: bold\">2500</span> │                                    <span style=\"color: #008080; text-decoration-color: #008080; font-weight: bold\">0.031938</span> │  <span style=\"color: #008080; text-decoration-color: #008080; font-weight: bold\">133776</span> │\n",
       "│           <span style=\"color: #008080; text-decoration-color: #008080; font-weight: bold\">20</span> │    <span style=\"color: #008080; text-decoration-color: #008080; font-weight: bold\">3000</span> │                                    <span style=\"color: #008080; text-decoration-color: #008080; font-weight: bold\">0.088315</span> │    <span style=\"color: #008080; text-decoration-color: #008080; font-weight: bold\">6002</span> │\n",
       "│           <span style=\"color: #008080; text-decoration-color: #008080; font-weight: bold\">30</span> │       <span style=\"color: #008080; text-decoration-color: #008080; font-weight: bold\">0</span> │                                    <span style=\"color: #008080; text-decoration-color: #008080; font-weight: bold\">0.014659</span> │    <span style=\"color: #008080; text-decoration-color: #008080; font-weight: bold\">1122</span> │\n",
       "│           <span style=\"color: #008080; text-decoration-color: #008080; font-weight: bold\">30</span> │     <span style=\"color: #008080; text-decoration-color: #008080; font-weight: bold\">500</span> │                                    <span style=\"color: #008080; text-decoration-color: #008080; font-weight: bold\">0.016240</span> │  <span style=\"color: #008080; text-decoration-color: #008080; font-weight: bold\">184942</span> │\n",
       "│           <span style=\"color: #008080; text-decoration-color: #008080; font-weight: bold\">30</span> │    <span style=\"color: #008080; text-decoration-color: #008080; font-weight: bold\">1000</span> │                                    <span style=\"color: #008080; text-decoration-color: #008080; font-weight: bold\">0.018725</span> │ <span style=\"color: #008080; text-decoration-color: #008080; font-weight: bold\">1452872</span> │\n",
       "│           <span style=\"color: #008080; text-decoration-color: #008080; font-weight: bold\">30</span> │    <span style=\"color: #008080; text-decoration-color: #008080; font-weight: bold\">1500</span> │                                    <span style=\"color: #008080; text-decoration-color: #008080; font-weight: bold\">0.020186</span> │ <span style=\"color: #008080; text-decoration-color: #008080; font-weight: bold\">3110436</span> │\n",
       "│           <span style=\"color: #008080; text-decoration-color: #008080; font-weight: bold\">30</span> │    <span style=\"color: #008080; text-decoration-color: #008080; font-weight: bold\">2000</span> │                                    <span style=\"color: #008080; text-decoration-color: #008080; font-weight: bold\">0.021048</span> │ <span style=\"color: #008080; text-decoration-color: #008080; font-weight: bold\">1398750</span> │\n",
       "│           <span style=\"color: #008080; text-decoration-color: #008080; font-weight: bold\">30</span> │    <span style=\"color: #008080; text-decoration-color: #008080; font-weight: bold\">2500</span> │                                    <span style=\"color: #008080; text-decoration-color: #008080; font-weight: bold\">0.021956</span> │   <span style=\"color: #008080; text-decoration-color: #008080; font-weight: bold\">98583</span> │\n",
       "│           <span style=\"color: #008080; text-decoration-color: #008080; font-weight: bold\">30</span> │    <span style=\"color: #008080; text-decoration-color: #008080; font-weight: bold\">3000</span> │                                    <span style=\"color: #008080; text-decoration-color: #008080; font-weight: bold\">0.077452</span> │    <span style=\"color: #008080; text-decoration-color: #008080; font-weight: bold\">5039</span> │\n",
       "│           <span style=\"color: #008080; text-decoration-color: #008080; font-weight: bold\">40</span> │       <span style=\"color: #008080; text-decoration-color: #008080; font-weight: bold\">0</span> │                                    <span style=\"color: #008080; text-decoration-color: #008080; font-weight: bold\">0.010556</span> │     <span style=\"color: #008080; text-decoration-color: #008080; font-weight: bold\">557</span> │\n",
       "│           <span style=\"color: #008080; text-decoration-color: #008080; font-weight: bold\">40</span> │     <span style=\"color: #008080; text-decoration-color: #008080; font-weight: bold\">500</span> │                                    <span style=\"color: #008080; text-decoration-color: #008080; font-weight: bold\">0.011256</span> │   <span style=\"color: #008080; text-decoration-color: #008080; font-weight: bold\">89213</span> │\n",
       "│           <span style=\"color: #008080; text-decoration-color: #008080; font-weight: bold\">40</span> │    <span style=\"color: #008080; text-decoration-color: #008080; font-weight: bold\">1000</span> │                                    <span style=\"color: #008080; text-decoration-color: #008080; font-weight: bold\">0.012625</span> │  <span style=\"color: #008080; text-decoration-color: #008080; font-weight: bold\">697613</span> │\n",
       "│           <span style=\"color: #008080; text-decoration-color: #008080; font-weight: bold\">40</span> │    <span style=\"color: #008080; text-decoration-color: #008080; font-weight: bold\">1500</span> │                                    <span style=\"color: #008080; text-decoration-color: #008080; font-weight: bold\">0.013136</span> │ <span style=\"color: #008080; text-decoration-color: #008080; font-weight: bold\">1553595</span> │\n",
       "│           <span style=\"color: #008080; text-decoration-color: #008080; font-weight: bold\">40</span> │    <span style=\"color: #008080; text-decoration-color: #008080; font-weight: bold\">2000</span> │                                    <span style=\"color: #008080; text-decoration-color: #008080; font-weight: bold\">0.013053</span> │  <span style=\"color: #008080; text-decoration-color: #008080; font-weight: bold\">750073</span> │\n",
       "│           <span style=\"color: #008080; text-decoration-color: #008080; font-weight: bold\">40</span> │    <span style=\"color: #008080; text-decoration-color: #008080; font-weight: bold\">2500</span> │                                    <span style=\"color: #008080; text-decoration-color: #008080; font-weight: bold\">0.014468</span> │   <span style=\"color: #008080; text-decoration-color: #008080; font-weight: bold\">63858</span> │\n",
       "│           <span style=\"color: #008080; text-decoration-color: #008080; font-weight: bold\">40</span> │    <span style=\"color: #008080; text-decoration-color: #008080; font-weight: bold\">3000</span> │                                    <span style=\"color: #008080; text-decoration-color: #008080; font-weight: bold\">0.083733</span> │    <span style=\"color: #008080; text-decoration-color: #008080; font-weight: bold\">3851</span> │\n",
       "│           <span style=\"color: #008080; text-decoration-color: #008080; font-weight: bold\">50</span> │       <span style=\"color: #008080; text-decoration-color: #008080; font-weight: bold\">0</span> │                                    <span style=\"color: #008080; text-decoration-color: #008080; font-weight: bold\">0.007194</span> │     <span style=\"color: #008080; text-decoration-color: #008080; font-weight: bold\">271</span> │\n",
       "│           <span style=\"color: #008080; text-decoration-color: #008080; font-weight: bold\">50</span> │     <span style=\"color: #008080; text-decoration-color: #008080; font-weight: bold\">500</span> │                                    <span style=\"color: #008080; text-decoration-color: #008080; font-weight: bold\">0.009156</span> │   <span style=\"color: #008080; text-decoration-color: #008080; font-weight: bold\">40919</span> │\n",
       "│           <span style=\"color: #008080; text-decoration-color: #008080; font-weight: bold\">50</span> │    <span style=\"color: #008080; text-decoration-color: #008080; font-weight: bold\">1000</span> │                                    <span style=\"color: #008080; text-decoration-color: #008080; font-weight: bold\">0.009833</span> │  <span style=\"color: #008080; text-decoration-color: #008080; font-weight: bold\">319436</span> │\n",
       "│           <span style=\"color: #008080; text-decoration-color: #008080; font-weight: bold\">50</span> │    <span style=\"color: #008080; text-decoration-color: #008080; font-weight: bold\">1500</span> │                                    <span style=\"color: #008080; text-decoration-color: #008080; font-weight: bold\">0.009902</span> │  <span style=\"color: #008080; text-decoration-color: #008080; font-weight: bold\">700389</span> │\n",
       "│           <span style=\"color: #008080; text-decoration-color: #008080; font-weight: bold\">50</span> │    <span style=\"color: #008080; text-decoration-color: #008080; font-weight: bold\">2000</span> │                                    <span style=\"color: #008080; text-decoration-color: #008080; font-weight: bold\">0.009708</span> │  <span style=\"color: #008080; text-decoration-color: #008080; font-weight: bold\">336116</span> │\n",
       "│           <span style=\"color: #008080; text-decoration-color: #008080; font-weight: bold\">50</span> │    <span style=\"color: #008080; text-decoration-color: #008080; font-weight: bold\">2500</span> │                                    <span style=\"color: #008080; text-decoration-color: #008080; font-weight: bold\">0.011638</span> │   <span style=\"color: #008080; text-decoration-color: #008080; font-weight: bold\">33885</span> │\n",
       "│           <span style=\"color: #008080; text-decoration-color: #008080; font-weight: bold\">50</span> │    <span style=\"color: #008080; text-decoration-color: #008080; font-weight: bold\">3000</span> │                                    <span style=\"color: #008080; text-decoration-color: #008080; font-weight: bold\">0.086059</span> │    <span style=\"color: #008080; text-decoration-color: #008080; font-weight: bold\">2667</span> │\n",
       "│           <span style=\"color: #008080; text-decoration-color: #008080; font-weight: bold\">60</span> │       <span style=\"color: #008080; text-decoration-color: #008080; font-weight: bold\">0</span> │                                    <span style=\"color: #008080; text-decoration-color: #008080; font-weight: bold\">0.004666</span> │      <span style=\"color: #008080; text-decoration-color: #008080; font-weight: bold\">62</span> │\n",
       "│           <span style=\"color: #008080; text-decoration-color: #008080; font-weight: bold\">60</span> │     <span style=\"color: #008080; text-decoration-color: #008080; font-weight: bold\">500</span> │                                    <span style=\"color: #008080; text-decoration-color: #008080; font-weight: bold\">0.007085</span> │   <span style=\"color: #008080; text-decoration-color: #008080; font-weight: bold\">16052</span> │\n",
       "│           <span style=\"color: #008080; text-decoration-color: #008080; font-weight: bold\">60</span> │    <span style=\"color: #008080; text-decoration-color: #008080; font-weight: bold\">1000</span> │                                    <span style=\"color: #008080; text-decoration-color: #008080; font-weight: bold\">0.008927</span> │  <span style=\"color: #008080; text-decoration-color: #008080; font-weight: bold\">124138</span> │\n",
       "│           <span style=\"color: #008080; text-decoration-color: #008080; font-weight: bold\">60</span> │    <span style=\"color: #008080; text-decoration-color: #008080; font-weight: bold\">1500</span> │                                    <span style=\"color: #008080; text-decoration-color: #008080; font-weight: bold\">0.008485</span> │  <span style=\"color: #008080; text-decoration-color: #008080; font-weight: bold\">269967</span> │\n",
       "│           <span style=\"color: #008080; text-decoration-color: #008080; font-weight: bold\">60</span> │    <span style=\"color: #008080; text-decoration-color: #008080; font-weight: bold\">2000</span> │                                    <span style=\"color: #008080; text-decoration-color: #008080; font-weight: bold\">0.007580</span> │  <span style=\"color: #008080; text-decoration-color: #008080; font-weight: bold\">122171</span> │\n",
       "│           <span style=\"color: #008080; text-decoration-color: #008080; font-weight: bold\">60</span> │    <span style=\"color: #008080; text-decoration-color: #008080; font-weight: bold\">2500</span> │                                    <span style=\"color: #008080; text-decoration-color: #008080; font-weight: bold\">0.012132</span> │   <span style=\"color: #008080; text-decoration-color: #008080; font-weight: bold\">14219</span> │\n",
       "│           <span style=\"color: #008080; text-decoration-color: #008080; font-weight: bold\">60</span> │    <span style=\"color: #008080; text-decoration-color: #008080; font-weight: bold\">3000</span> │                                    <span style=\"color: #008080; text-decoration-color: #008080; font-weight: bold\">0.074383</span> │    <span style=\"color: #008080; text-decoration-color: #008080; font-weight: bold\">1668</span> │\n",
       "│           <span style=\"color: #008080; text-decoration-color: #008080; font-weight: bold\">70</span> │       <span style=\"color: #008080; text-decoration-color: #008080; font-weight: bold\">0</span> │                                    <span style=\"color: #008080; text-decoration-color: #008080; font-weight: bold\">0.004511</span> │      <span style=\"color: #008080; text-decoration-color: #008080; font-weight: bold\">15</span> │\n",
       "│           <span style=\"color: #008080; text-decoration-color: #008080; font-weight: bold\">70</span> │     <span style=\"color: #008080; text-decoration-color: #008080; font-weight: bold\">500</span> │                                    <span style=\"color: #008080; text-decoration-color: #008080; font-weight: bold\">0.006439</span> │    <span style=\"color: #008080; text-decoration-color: #008080; font-weight: bold\">5413</span> │\n",
       "│           <span style=\"color: #008080; text-decoration-color: #008080; font-weight: bold\">70</span> │    <span style=\"color: #008080; text-decoration-color: #008080; font-weight: bold\">1000</span> │                                    <span style=\"color: #008080; text-decoration-color: #008080; font-weight: bold\">0.009077</span> │   <span style=\"color: #008080; text-decoration-color: #008080; font-weight: bold\">41059</span> │\n",
       "│           <span style=\"color: #008080; text-decoration-color: #008080; font-weight: bold\">70</span> │    <span style=\"color: #008080; text-decoration-color: #008080; font-weight: bold\">1500</span> │                                    <span style=\"color: #008080; text-decoration-color: #008080; font-weight: bold\">0.007753</span> │   <span style=\"color: #008080; text-decoration-color: #008080; font-weight: bold\">88060</span> │\n",
       "│           <span style=\"color: #008080; text-decoration-color: #008080; font-weight: bold\">70</span> │    <span style=\"color: #008080; text-decoration-color: #008080; font-weight: bold\">2000</span> │                                    <span style=\"color: #008080; text-decoration-color: #008080; font-weight: bold\">0.008503</span> │   <span style=\"color: #008080; text-decoration-color: #008080; font-weight: bold\">37588</span> │\n",
       "│           <span style=\"color: #008080; text-decoration-color: #008080; font-weight: bold\">70</span> │    <span style=\"color: #008080; text-decoration-color: #008080; font-weight: bold\">2500</span> │                                    <span style=\"color: #008080; text-decoration-color: #008080; font-weight: bold\">0.015711</span> │    <span style=\"color: #008080; text-decoration-color: #008080; font-weight: bold\">4617</span> │\n",
       "│           <span style=\"color: #008080; text-decoration-color: #008080; font-weight: bold\">70</span> │    <span style=\"color: #008080; text-decoration-color: #008080; font-weight: bold\">3000</span> │                                    <span style=\"color: #008080; text-decoration-color: #008080; font-weight: bold\">0.069006</span> │    <span style=\"color: #008080; text-decoration-color: #008080; font-weight: bold\">1006</span> │\n",
       "│           <span style=\"color: #008080; text-decoration-color: #008080; font-weight: bold\">80</span> │       <span style=\"color: #008080; text-decoration-color: #008080; font-weight: bold\">0</span> │                                    <span style=\"color: #008080; text-decoration-color: #008080; font-weight: bold\">0.008667</span> │       <span style=\"color: #008080; text-decoration-color: #008080; font-weight: bold\">5</span> │\n",
       "│           <span style=\"color: #008080; text-decoration-color: #008080; font-weight: bold\">80</span> │     <span style=\"color: #008080; text-decoration-color: #008080; font-weight: bold\">500</span> │                                    <span style=\"color: #008080; text-decoration-color: #008080; font-weight: bold\">0.005520</span> │    <span style=\"color: #008080; text-decoration-color: #008080; font-weight: bold\">1759</span> │\n",
       "│           <span style=\"color: #008080; text-decoration-color: #008080; font-weight: bold\">80</span> │    <span style=\"color: #008080; text-decoration-color: #008080; font-weight: bold\">1000</span> │                                    <span style=\"color: #008080; text-decoration-color: #008080; font-weight: bold\">0.011469</span> │   <span style=\"color: #008080; text-decoration-color: #008080; font-weight: bold\">13396</span> │\n",
       "│           <span style=\"color: #008080; text-decoration-color: #008080; font-weight: bold\">80</span> │    <span style=\"color: #008080; text-decoration-color: #008080; font-weight: bold\">1500</span> │                                    <span style=\"color: #008080; text-decoration-color: #008080; font-weight: bold\">0.007315</span> │   <span style=\"color: #008080; text-decoration-color: #008080; font-weight: bold\">26911</span> │\n",
       "│           <span style=\"color: #008080; text-decoration-color: #008080; font-weight: bold\">80</span> │    <span style=\"color: #008080; text-decoration-color: #008080; font-weight: bold\">2000</span> │                                    <span style=\"color: #008080; text-decoration-color: #008080; font-weight: bold\">0.008369</span> │   <span style=\"color: #008080; text-decoration-color: #008080; font-weight: bold\">11576</span> │\n",
       "│           <span style=\"color: #008080; text-decoration-color: #008080; font-weight: bold\">80</span> │    <span style=\"color: #008080; text-decoration-color: #008080; font-weight: bold\">2500</span> │                                    <span style=\"color: #008080; text-decoration-color: #008080; font-weight: bold\">0.031064</span> │    <span style=\"color: #008080; text-decoration-color: #008080; font-weight: bold\">1687</span> │\n",
       "│           <span style=\"color: #008080; text-decoration-color: #008080; font-weight: bold\">80</span> │    <span style=\"color: #008080; text-decoration-color: #008080; font-weight: bold\">3000</span> │                                    <span style=\"color: #008080; text-decoration-color: #008080; font-weight: bold\">0.062717</span> │     <span style=\"color: #008080; text-decoration-color: #008080; font-weight: bold\">637</span> │\n",
       "│           <span style=\"color: #008080; text-decoration-color: #008080; font-weight: bold\">90</span> │     <span style=\"color: #008080; text-decoration-color: #008080; font-weight: bold\">500</span> │                                    <span style=\"color: #008080; text-decoration-color: #008080; font-weight: bold\">0.006292</span> │     <span style=\"color: #008080; text-decoration-color: #008080; font-weight: bold\">514</span> │\n",
       "│           <span style=\"color: #008080; text-decoration-color: #008080; font-weight: bold\">90</span> │    <span style=\"color: #008080; text-decoration-color: #008080; font-weight: bold\">1000</span> │                                    <span style=\"color: #008080; text-decoration-color: #008080; font-weight: bold\">0.012250</span> │    <span style=\"color: #008080; text-decoration-color: #008080; font-weight: bold\">4653</span> │\n",
       "│           <span style=\"color: #008080; text-decoration-color: #008080; font-weight: bold\">90</span> │    <span style=\"color: #008080; text-decoration-color: #008080; font-weight: bold\">1500</span> │                                    <span style=\"color: #008080; text-decoration-color: #008080; font-weight: bold\">0.006908</span> │    <span style=\"color: #008080; text-decoration-color: #008080; font-weight: bold\">8567</span> │\n",
       "│           <span style=\"color: #008080; text-decoration-color: #008080; font-weight: bold\">90</span> │    <span style=\"color: #008080; text-decoration-color: #008080; font-weight: bold\">2000</span> │                                    <span style=\"color: #008080; text-decoration-color: #008080; font-weight: bold\">0.008273</span> │    <span style=\"color: #008080; text-decoration-color: #008080; font-weight: bold\">4034</span> │\n",
       "│           <span style=\"color: #008080; text-decoration-color: #008080; font-weight: bold\">90</span> │    <span style=\"color: #008080; text-decoration-color: #008080; font-weight: bold\">2500</span> │                                    <span style=\"color: #008080; text-decoration-color: #008080; font-weight: bold\">0.050354</span> │     <span style=\"color: #008080; text-decoration-color: #008080; font-weight: bold\">875</span> │\n",
       "│           <span style=\"color: #008080; text-decoration-color: #008080; font-weight: bold\">90</span> │    <span style=\"color: #008080; text-decoration-color: #008080; font-weight: bold\">3000</span> │                                    <span style=\"color: #008080; text-decoration-color: #008080; font-weight: bold\">0.060051</span> │     <span style=\"color: #008080; text-decoration-color: #008080; font-weight: bold\">459</span> │\n",
       "│          <span style=\"color: #008080; text-decoration-color: #008080; font-weight: bold\">100</span> │     <span style=\"color: #008080; text-decoration-color: #008080; font-weight: bold\">500</span> │                                    <span style=\"color: #008080; text-decoration-color: #008080; font-weight: bold\">0.006443</span> │     <span style=\"color: #008080; text-decoration-color: #008080; font-weight: bold\">180</span> │\n",
       "│          <span style=\"color: #008080; text-decoration-color: #008080; font-weight: bold\">100</span> │    <span style=\"color: #008080; text-decoration-color: #008080; font-weight: bold\">1000</span> │                                    <span style=\"color: #008080; text-decoration-color: #008080; font-weight: bold\">0.006096</span> │    <span style=\"color: #008080; text-decoration-color: #008080; font-weight: bold\">1695</span> │\n",
       "│          <span style=\"color: #008080; text-decoration-color: #008080; font-weight: bold\">100</span> │    <span style=\"color: #008080; text-decoration-color: #008080; font-weight: bold\">1500</span> │                                    <span style=\"color: #008080; text-decoration-color: #008080; font-weight: bold\">0.006930</span> │    <span style=\"color: #008080; text-decoration-color: #008080; font-weight: bold\">2931</span> │\n",
       "│          <span style=\"color: #008080; text-decoration-color: #008080; font-weight: bold\">100</span> │    <span style=\"color: #008080; text-decoration-color: #008080; font-weight: bold\">2000</span> │                                    <span style=\"color: #008080; text-decoration-color: #008080; font-weight: bold\">0.009712</span> │    <span style=\"color: #008080; text-decoration-color: #008080; font-weight: bold\">1811</span> │\n",
       "│          <span style=\"color: #008080; text-decoration-color: #008080; font-weight: bold\">100</span> │    <span style=\"color: #008080; text-decoration-color: #008080; font-weight: bold\">2500</span> │                                    <span style=\"color: #008080; text-decoration-color: #008080; font-weight: bold\">0.026257</span> │     <span style=\"color: #008080; text-decoration-color: #008080; font-weight: bold\">509</span> │\n",
       "│          <span style=\"color: #008080; text-decoration-color: #008080; font-weight: bold\">100</span> │    <span style=\"color: #008080; text-decoration-color: #008080; font-weight: bold\">3000</span> │                                    <span style=\"color: #008080; text-decoration-color: #008080; font-weight: bold\">0.081342</span> │     <span style=\"color: #008080; text-decoration-color: #008080; font-weight: bold\">312</span> │\n",
       "│          <span style=\"color: #008080; text-decoration-color: #008080; font-weight: bold\">110</span> │     <span style=\"color: #008080; text-decoration-color: #008080; font-weight: bold\">500</span> │                                    <span style=\"color: #008080; text-decoration-color: #008080; font-weight: bold\">0.004270</span> │      <span style=\"color: #008080; text-decoration-color: #008080; font-weight: bold\">80</span> │\n",
       "│          <span style=\"color: #008080; text-decoration-color: #008080; font-weight: bold\">110</span> │    <span style=\"color: #008080; text-decoration-color: #008080; font-weight: bold\">1000</span> │                                    <span style=\"color: #008080; text-decoration-color: #008080; font-weight: bold\">0.007125</span> │     <span style=\"color: #008080; text-decoration-color: #008080; font-weight: bold\">640</span> │\n",
       "│          <span style=\"color: #008080; text-decoration-color: #008080; font-weight: bold\">110</span> │    <span style=\"color: #008080; text-decoration-color: #008080; font-weight: bold\">1500</span> │                                    <span style=\"color: #008080; text-decoration-color: #008080; font-weight: bold\">0.007049</span> │    <span style=\"color: #008080; text-decoration-color: #008080; font-weight: bold\">1238</span> │\n",
       "│          <span style=\"color: #008080; text-decoration-color: #008080; font-weight: bold\">110</span> │    <span style=\"color: #008080; text-decoration-color: #008080; font-weight: bold\">2000</span> │                                    <span style=\"color: #008080; text-decoration-color: #008080; font-weight: bold\">0.013063</span> │     <span style=\"color: #008080; text-decoration-color: #008080; font-weight: bold\">924</span> │\n",
       "│          <span style=\"color: #008080; text-decoration-color: #008080; font-weight: bold\">110</span> │    <span style=\"color: #008080; text-decoration-color: #008080; font-weight: bold\">2500</span> │                                    <span style=\"color: #008080; text-decoration-color: #008080; font-weight: bold\">0.025909</span> │     <span style=\"color: #008080; text-decoration-color: #008080; font-weight: bold\">316</span> │\n",
       "│          <span style=\"color: #008080; text-decoration-color: #008080; font-weight: bold\">110</span> │    <span style=\"color: #008080; text-decoration-color: #008080; font-weight: bold\">3000</span> │                                    <span style=\"color: #008080; text-decoration-color: #008080; font-weight: bold\">0.024526</span> │     <span style=\"color: #008080; text-decoration-color: #008080; font-weight: bold\">145</span> │\n",
       "│          <span style=\"color: #008080; text-decoration-color: #008080; font-weight: bold\">120</span> │     <span style=\"color: #008080; text-decoration-color: #008080; font-weight: bold\">500</span> │                                    <span style=\"color: #008080; text-decoration-color: #008080; font-weight: bold\">0.006195</span> │      <span style=\"color: #008080; text-decoration-color: #008080; font-weight: bold\">13</span> │\n",
       "│          <span style=\"color: #008080; text-decoration-color: #008080; font-weight: bold\">120</span> │    <span style=\"color: #008080; text-decoration-color: #008080; font-weight: bold\">1000</span> │                                    <span style=\"color: #008080; text-decoration-color: #008080; font-weight: bold\">0.006656</span> │     <span style=\"color: #008080; text-decoration-color: #008080; font-weight: bold\">191</span> │\n",
       "│          <span style=\"color: #008080; text-decoration-color: #008080; font-weight: bold\">120</span> │    <span style=\"color: #008080; text-decoration-color: #008080; font-weight: bold\">1500</span> │                                    <span style=\"color: #008080; text-decoration-color: #008080; font-weight: bold\">0.007345</span> │     <span style=\"color: #008080; text-decoration-color: #008080; font-weight: bold\">511</span> │\n",
       "│          <span style=\"color: #008080; text-decoration-color: #008080; font-weight: bold\">120</span> │    <span style=\"color: #008080; text-decoration-color: #008080; font-weight: bold\">2000</span> │                                    <span style=\"color: #008080; text-decoration-color: #008080; font-weight: bold\">0.013458</span> │     <span style=\"color: #008080; text-decoration-color: #008080; font-weight: bold\">572</span> │\n",
       "│          <span style=\"color: #008080; text-decoration-color: #008080; font-weight: bold\">120</span> │    <span style=\"color: #008080; text-decoration-color: #008080; font-weight: bold\">2500</span> │                                    <span style=\"color: #008080; text-decoration-color: #008080; font-weight: bold\">0.007827</span> │     <span style=\"color: #008080; text-decoration-color: #008080; font-weight: bold\">223</span> │\n",
       "│          <span style=\"color: #008080; text-decoration-color: #008080; font-weight: bold\">120</span> │    <span style=\"color: #008080; text-decoration-color: #008080; font-weight: bold\">3000</span> │                                    <span style=\"color: #008080; text-decoration-color: #008080; font-weight: bold\">0.001879</span> │     <span style=\"color: #008080; text-decoration-color: #008080; font-weight: bold\">102</span> │\n",
       "│          <span style=\"color: #008080; text-decoration-color: #008080; font-weight: bold\">130</span> │     <span style=\"color: #008080; text-decoration-color: #008080; font-weight: bold\">500</span> │                                    <span style=\"color: #008080; text-decoration-color: #008080; font-weight: bold\">0.010478</span> │      <span style=\"color: #008080; text-decoration-color: #008080; font-weight: bold\">10</span> │\n",
       "│          <span style=\"color: #008080; text-decoration-color: #008080; font-weight: bold\">130</span> │    <span style=\"color: #008080; text-decoration-color: #008080; font-weight: bold\">1000</span> │                                    <span style=\"color: #008080; text-decoration-color: #008080; font-weight: bold\">0.006673</span> │      <span style=\"color: #008080; text-decoration-color: #008080; font-weight: bold\">46</span> │\n",
       "│          <span style=\"color: #008080; text-decoration-color: #008080; font-weight: bold\">130</span> │    <span style=\"color: #008080; text-decoration-color: #008080; font-weight: bold\">1500</span> │                                    <span style=\"color: #008080; text-decoration-color: #008080; font-weight: bold\">0.008392</span> │     <span style=\"color: #008080; text-decoration-color: #008080; font-weight: bold\">207</span> │\n",
       "│          <span style=\"color: #008080; text-decoration-color: #008080; font-weight: bold\">130</span> │    <span style=\"color: #008080; text-decoration-color: #008080; font-weight: bold\">2000</span> │                                    <span style=\"color: #008080; text-decoration-color: #008080; font-weight: bold\">0.009832</span> │     <span style=\"color: #008080; text-decoration-color: #008080; font-weight: bold\">416</span> │\n",
       "│          <span style=\"color: #008080; text-decoration-color: #008080; font-weight: bold\">130</span> │    <span style=\"color: #008080; text-decoration-color: #008080; font-weight: bold\">2500</span> │                                    <span style=\"color: #008080; text-decoration-color: #008080; font-weight: bold\">0.008333</span> │     <span style=\"color: #008080; text-decoration-color: #008080; font-weight: bold\">190</span> │\n",
       "│          <span style=\"color: #008080; text-decoration-color: #008080; font-weight: bold\">130</span> │    <span style=\"color: #008080; text-decoration-color: #008080; font-weight: bold\">3000</span> │                                    <span style=\"color: #008080; text-decoration-color: #008080; font-weight: bold\">0.002239</span> │      <span style=\"color: #008080; text-decoration-color: #008080; font-weight: bold\">89</span> │\n",
       "│          <span style=\"color: #008080; text-decoration-color: #008080; font-weight: bold\">140</span> │     <span style=\"color: #008080; text-decoration-color: #008080; font-weight: bold\">500</span> │                                    <span style=\"color: #008080; text-decoration-color: #008080; font-weight: bold\">0.008272</span> │       <span style=\"color: #008080; text-decoration-color: #008080; font-weight: bold\">8</span> │\n",
       "│          <span style=\"color: #008080; text-decoration-color: #008080; font-weight: bold\">140</span> │    <span style=\"color: #008080; text-decoration-color: #008080; font-weight: bold\">1000</span> │                                    <span style=\"color: #008080; text-decoration-color: #008080; font-weight: bold\">0.006656</span> │      <span style=\"color: #008080; text-decoration-color: #008080; font-weight: bold\">29</span> │\n",
       "│          <span style=\"color: #008080; text-decoration-color: #008080; font-weight: bold\">140</span> │    <span style=\"color: #008080; text-decoration-color: #008080; font-weight: bold\">1500</span> │                                    <span style=\"color: #008080; text-decoration-color: #008080; font-weight: bold\">0.007338</span> │     <span style=\"color: #008080; text-decoration-color: #008080; font-weight: bold\">113</span> │\n",
       "│          <span style=\"color: #008080; text-decoration-color: #008080; font-weight: bold\">140</span> │    <span style=\"color: #008080; text-decoration-color: #008080; font-weight: bold\">2000</span> │                                    <span style=\"color: #008080; text-decoration-color: #008080; font-weight: bold\">0.009252</span> │     <span style=\"color: #008080; text-decoration-color: #008080; font-weight: bold\">302</span> │\n",
       "│          <span style=\"color: #008080; text-decoration-color: #008080; font-weight: bold\">140</span> │    <span style=\"color: #008080; text-decoration-color: #008080; font-weight: bold\">2500</span> │                                    <span style=\"color: #008080; text-decoration-color: #008080; font-weight: bold\">0.012337</span> │     <span style=\"color: #008080; text-decoration-color: #008080; font-weight: bold\">141</span> │\n",
       "│          <span style=\"color: #008080; text-decoration-color: #008080; font-weight: bold\">140</span> │    <span style=\"color: #008080; text-decoration-color: #008080; font-weight: bold\">3000</span> │                                    <span style=\"color: #008080; text-decoration-color: #008080; font-weight: bold\">0.001752</span> │      <span style=\"color: #008080; text-decoration-color: #008080; font-weight: bold\">65</span> │\n",
       "│          <span style=\"color: #008080; text-decoration-color: #008080; font-weight: bold\">150</span> │    <span style=\"color: #008080; text-decoration-color: #008080; font-weight: bold\">1000</span> │                                    <span style=\"color: #008080; text-decoration-color: #008080; font-weight: bold\">0.005515</span> │       <span style=\"color: #008080; text-decoration-color: #008080; font-weight: bold\">2</span> │\n",
       "│          <span style=\"color: #008080; text-decoration-color: #008080; font-weight: bold\">150</span> │    <span style=\"color: #008080; text-decoration-color: #008080; font-weight: bold\">1500</span> │                                    <span style=\"color: #008080; text-decoration-color: #008080; font-weight: bold\">0.007320</span> │      <span style=\"color: #008080; text-decoration-color: #008080; font-weight: bold\">50</span> │\n",
       "│          <span style=\"color: #008080; text-decoration-color: #008080; font-weight: bold\">150</span> │    <span style=\"color: #008080; text-decoration-color: #008080; font-weight: bold\">2000</span> │                                    <span style=\"color: #008080; text-decoration-color: #008080; font-weight: bold\">0.007756</span> │     <span style=\"color: #008080; text-decoration-color: #008080; font-weight: bold\">199</span> │\n",
       "│          <span style=\"color: #008080; text-decoration-color: #008080; font-weight: bold\">150</span> │    <span style=\"color: #008080; text-decoration-color: #008080; font-weight: bold\">2500</span> │                                    <span style=\"color: #008080; text-decoration-color: #008080; font-weight: bold\">0.011502</span> │     <span style=\"color: #008080; text-decoration-color: #008080; font-weight: bold\">115</span> │\n",
       "│          <span style=\"color: #008080; text-decoration-color: #008080; font-weight: bold\">150</span> │    <span style=\"color: #008080; text-decoration-color: #008080; font-weight: bold\">3000</span> │                                    <span style=\"color: #008080; text-decoration-color: #008080; font-weight: bold\">0.001389</span> │      <span style=\"color: #008080; text-decoration-color: #008080; font-weight: bold\">16</span> │\n",
       "│          <span style=\"color: #008080; text-decoration-color: #008080; font-weight: bold\">160</span> │    <span style=\"color: #008080; text-decoration-color: #008080; font-weight: bold\">1500</span> │                                    <span style=\"color: #008080; text-decoration-color: #008080; font-weight: bold\">0.011764</span> │      <span style=\"color: #008080; text-decoration-color: #008080; font-weight: bold\">40</span> │\n",
       "│          <span style=\"color: #008080; text-decoration-color: #008080; font-weight: bold\">160</span> │    <span style=\"color: #008080; text-decoration-color: #008080; font-weight: bold\">2000</span> │                                    <span style=\"color: #008080; text-decoration-color: #008080; font-weight: bold\">0.008951</span> │     <span style=\"color: #008080; text-decoration-color: #008080; font-weight: bold\">122</span> │\n",
       "│          <span style=\"color: #008080; text-decoration-color: #008080; font-weight: bold\">160</span> │    <span style=\"color: #008080; text-decoration-color: #008080; font-weight: bold\">2500</span> │                                    <span style=\"color: #008080; text-decoration-color: #008080; font-weight: bold\">0.002558</span> │      <span style=\"color: #008080; text-decoration-color: #008080; font-weight: bold\">59</span> │\n",
       "│          <span style=\"color: #008080; text-decoration-color: #008080; font-weight: bold\">170</span> │    <span style=\"color: #008080; text-decoration-color: #008080; font-weight: bold\">1500</span> │                                    <span style=\"color: #008080; text-decoration-color: #008080; font-weight: bold\">0.011094</span> │      <span style=\"color: #008080; text-decoration-color: #008080; font-weight: bold\">30</span> │\n",
       "│          <span style=\"color: #008080; text-decoration-color: #008080; font-weight: bold\">170</span> │    <span style=\"color: #008080; text-decoration-color: #008080; font-weight: bold\">2000</span> │                                    <span style=\"color: #008080; text-decoration-color: #008080; font-weight: bold\">0.011783</span> │      <span style=\"color: #008080; text-decoration-color: #008080; font-weight: bold\">81</span> │\n",
       "│          <span style=\"color: #008080; text-decoration-color: #008080; font-weight: bold\">170</span> │    <span style=\"color: #008080; text-decoration-color: #008080; font-weight: bold\">2500</span> │                                    <span style=\"color: #008080; text-decoration-color: #008080; font-weight: bold\">0.002486</span> │      <span style=\"color: #008080; text-decoration-color: #008080; font-weight: bold\">36</span> │\n",
       "│          <span style=\"color: #008080; text-decoration-color: #008080; font-weight: bold\">180</span> │    <span style=\"color: #008080; text-decoration-color: #008080; font-weight: bold\">1500</span> │                                    <span style=\"color: #008080; text-decoration-color: #008080; font-weight: bold\">0.010734</span> │      <span style=\"color: #008080; text-decoration-color: #008080; font-weight: bold\">30</span> │\n",
       "│          <span style=\"color: #008080; text-decoration-color: #008080; font-weight: bold\">180</span> │    <span style=\"color: #008080; text-decoration-color: #008080; font-weight: bold\">2000</span> │                                    <span style=\"color: #008080; text-decoration-color: #008080; font-weight: bold\">0.012176</span> │      <span style=\"color: #008080; text-decoration-color: #008080; font-weight: bold\">66</span> │\n",
       "│          <span style=\"color: #008080; text-decoration-color: #008080; font-weight: bold\">180</span> │    <span style=\"color: #008080; text-decoration-color: #008080; font-weight: bold\">2500</span> │                                    <span style=\"color: #008080; text-decoration-color: #008080; font-weight: bold\">0.004151</span> │      <span style=\"color: #008080; text-decoration-color: #008080; font-weight: bold\">20</span> │\n",
       "│          <span style=\"color: #008080; text-decoration-color: #008080; font-weight: bold\">190</span> │    <span style=\"color: #008080; text-decoration-color: #008080; font-weight: bold\">1500</span> │                                    <span style=\"color: #008080; text-decoration-color: #008080; font-weight: bold\">0.012734</span> │      <span style=\"color: #008080; text-decoration-color: #008080; font-weight: bold\">30</span> │\n",
       "│          <span style=\"color: #008080; text-decoration-color: #008080; font-weight: bold\">190</span> │    <span style=\"color: #008080; text-decoration-color: #008080; font-weight: bold\">2000</span> │                                    <span style=\"color: #008080; text-decoration-color: #008080; font-weight: bold\">0.010001</span> │      <span style=\"color: #008080; text-decoration-color: #008080; font-weight: bold\">50</span> │\n",
       "│          <span style=\"color: #008080; text-decoration-color: #008080; font-weight: bold\">190</span> │    <span style=\"color: #008080; text-decoration-color: #008080; font-weight: bold\">2500</span> │                                    <span style=\"color: #008080; text-decoration-color: #008080; font-weight: bold\">0.004151</span> │      <span style=\"color: #008080; text-decoration-color: #008080; font-weight: bold\">20</span> │\n",
       "│          <span style=\"color: #008080; text-decoration-color: #008080; font-weight: bold\">200</span> │    <span style=\"color: #008080; text-decoration-color: #008080; font-weight: bold\">1500</span> │                                    <span style=\"color: #008080; text-decoration-color: #008080; font-weight: bold\">0.011276</span> │      <span style=\"color: #008080; text-decoration-color: #008080; font-weight: bold\">30</span> │\n",
       "│          <span style=\"color: #008080; text-decoration-color: #008080; font-weight: bold\">200</span> │    <span style=\"color: #008080; text-decoration-color: #008080; font-weight: bold\">2000</span> │                                    <span style=\"color: #008080; text-decoration-color: #008080; font-weight: bold\">0.008795</span> │      <span style=\"color: #008080; text-decoration-color: #008080; font-weight: bold\">35</span> │\n",
       "│          <span style=\"color: #008080; text-decoration-color: #008080; font-weight: bold\">200</span> │    <span style=\"color: #008080; text-decoration-color: #008080; font-weight: bold\">2500</span> │                                    <span style=\"color: #008080; text-decoration-color: #008080; font-weight: bold\">0.004059</span> │      <span style=\"color: #008080; text-decoration-color: #008080; font-weight: bold\">15</span> │\n",
       "│          <span style=\"color: #008080; text-decoration-color: #008080; font-weight: bold\">210</span> │    <span style=\"color: #008080; text-decoration-color: #008080; font-weight: bold\">1500</span> │                                    <span style=\"color: #008080; text-decoration-color: #008080; font-weight: bold\">0.011640</span> │      <span style=\"color: #008080; text-decoration-color: #008080; font-weight: bold\">30</span> │\n",
       "│            <span style=\"color: #7f7f7f; text-decoration-color: #7f7f7f\">…</span> │       <span style=\"color: #7f7f7f; text-decoration-color: #7f7f7f\">…</span> │                                           <span style=\"color: #7f7f7f; text-decoration-color: #7f7f7f\">…</span> │       <span style=\"color: #7f7f7f; text-decoration-color: #7f7f7f\">…</span> │\n",
       "└──────────────┴─────────┴─────────────────────────────────────────────┴─────────┘\n",
       "</pre>\n"
      ],
      "text/plain": [
       "┏━━━━━━━━━━━━━━┳━━━━━━━━━┳━━━━━━━━━━━━━━━━━━━━━━━━━━━━━━━━━━━━━━━━━━━━━┳━━━━━━━━━┓\n",
       "┃\u001b[1m \u001b[0m\u001b[1mmove_ply_bin\u001b[0m\u001b[1m \u001b[0m┃\u001b[1m \u001b[0m\u001b[1melo_bin\u001b[0m\u001b[1m \u001b[0m┃\u001b[1m \u001b[0m\u001b[1mMean(Divide(move_time, time_control_etime))\u001b[0m\u001b[1m \u001b[0m┃\u001b[1m \u001b[0m\u001b[1mcount\u001b[0m\u001b[1m  \u001b[0m\u001b[1m \u001b[0m┃\n",
       "┡━━━━━━━━━━━━━━╇━━━━━━━━━╇━━━━━━━━━━━━━━━━━━━━━━━━━━━━━━━━━━━━━━━━━━━━━╇━━━━━━━━━┩\n",
       "│ \u001b[2mint64\u001b[0m        │ \u001b[2mint64\u001b[0m   │ \u001b[2mfloat64\u001b[0m                                     │ \u001b[2mint64\u001b[0m   │\n",
       "├──────────────┼─────────┼─────────────────────────────────────────────┼─────────┤\n",
       "│            \u001b[1;36m0\u001b[0m │       \u001b[1;36m0\u001b[0m │                                    \u001b[1;36m0.021766\u001b[0m │    \u001b[1;36m4463\u001b[0m │\n",
       "│            \u001b[1;36m0\u001b[0m │     \u001b[1;36m500\u001b[0m │                                    \u001b[1;36m0.021081\u001b[0m │  \u001b[1;36m709717\u001b[0m │\n",
       "│            \u001b[1;36m0\u001b[0m │    \u001b[1;36m1000\u001b[0m │                                    \u001b[1;36m0.015775\u001b[0m │ \u001b[1;36m4102112\u001b[0m │\n",
       "│            \u001b[1;36m0\u001b[0m │    \u001b[1;36m1500\u001b[0m │                                    \u001b[1;36m0.012761\u001b[0m │ \u001b[1;36m6687011\u001b[0m │\n",
       "│            \u001b[1;36m0\u001b[0m │    \u001b[1;36m2000\u001b[0m │                                    \u001b[1;36m0.011964\u001b[0m │ \u001b[1;36m2485005\u001b[0m │\n",
       "│            \u001b[1;36m0\u001b[0m │    \u001b[1;36m2500\u001b[0m │                                    \u001b[1;36m0.011088\u001b[0m │  \u001b[1;36m151119\u001b[0m │\n",
       "│            \u001b[1;36m0\u001b[0m │    \u001b[1;36m3000\u001b[0m │                                    \u001b[1;36m0.013900\u001b[0m │    \u001b[1;36m6342\u001b[0m │\n",
       "│           \u001b[1;36m10\u001b[0m │       \u001b[1;36m0\u001b[0m │                                    \u001b[1;36m0.024518\u001b[0m │    \u001b[1;36m3377\u001b[0m │\n",
       "│           \u001b[1;36m10\u001b[0m │     \u001b[1;36m500\u001b[0m │                                    \u001b[1;36m0.032906\u001b[0m │  \u001b[1;36m605484\u001b[0m │\n",
       "│           \u001b[1;36m10\u001b[0m │    \u001b[1;36m1000\u001b[0m │                                    \u001b[1;36m0.031189\u001b[0m │ \u001b[1;36m3834818\u001b[0m │\n",
       "│           \u001b[1;36m10\u001b[0m │    \u001b[1;36m1500\u001b[0m │                                    \u001b[1;36m0.029596\u001b[0m │ \u001b[1;36m6561283\u001b[0m │\n",
       "│           \u001b[1;36m10\u001b[0m │    \u001b[1;36m2000\u001b[0m │                                    \u001b[1;36m0.030286\u001b[0m │ \u001b[1;36m2502133\u001b[0m │\n",
       "│           \u001b[1;36m10\u001b[0m │    \u001b[1;36m2500\u001b[0m │                                    \u001b[1;36m0.029677\u001b[0m │  \u001b[1;36m153838\u001b[0m │\n",
       "│           \u001b[1;36m10\u001b[0m │    \u001b[1;36m3000\u001b[0m │                                    \u001b[1;36m0.080148\u001b[0m │    \u001b[1;36m6562\u001b[0m │\n",
       "│           \u001b[1;36m20\u001b[0m │       \u001b[1;36m0\u001b[0m │                                    \u001b[1;36m0.019532\u001b[0m │    \u001b[1;36m1918\u001b[0m │\n",
       "│           \u001b[1;36m20\u001b[0m │     \u001b[1;36m500\u001b[0m │                                    \u001b[1;36m0.025373\u001b[0m │  \u001b[1;36m374377\u001b[0m │\n",
       "│           \u001b[1;36m20\u001b[0m │    \u001b[1;36m1000\u001b[0m │                                    \u001b[1;36m0.028225\u001b[0m │ \u001b[1;36m2737882\u001b[0m │\n",
       "│           \u001b[1;36m20\u001b[0m │    \u001b[1;36m1500\u001b[0m │                                    \u001b[1;36m0.029885\u001b[0m │ \u001b[1;36m5173711\u001b[0m │\n",
       "│           \u001b[1;36m20\u001b[0m │    \u001b[1;36m2000\u001b[0m │                                    \u001b[1;36m0.031677\u001b[0m │ \u001b[1;36m2098380\u001b[0m │\n",
       "│           \u001b[1;36m20\u001b[0m │    \u001b[1;36m2500\u001b[0m │                                    \u001b[1;36m0.031938\u001b[0m │  \u001b[1;36m133776\u001b[0m │\n",
       "│           \u001b[1;36m20\u001b[0m │    \u001b[1;36m3000\u001b[0m │                                    \u001b[1;36m0.088315\u001b[0m │    \u001b[1;36m6002\u001b[0m │\n",
       "│           \u001b[1;36m30\u001b[0m │       \u001b[1;36m0\u001b[0m │                                    \u001b[1;36m0.014659\u001b[0m │    \u001b[1;36m1122\u001b[0m │\n",
       "│           \u001b[1;36m30\u001b[0m │     \u001b[1;36m500\u001b[0m │                                    \u001b[1;36m0.016240\u001b[0m │  \u001b[1;36m184942\u001b[0m │\n",
       "│           \u001b[1;36m30\u001b[0m │    \u001b[1;36m1000\u001b[0m │                                    \u001b[1;36m0.018725\u001b[0m │ \u001b[1;36m1452872\u001b[0m │\n",
       "│           \u001b[1;36m30\u001b[0m │    \u001b[1;36m1500\u001b[0m │                                    \u001b[1;36m0.020186\u001b[0m │ \u001b[1;36m3110436\u001b[0m │\n",
       "│           \u001b[1;36m30\u001b[0m │    \u001b[1;36m2000\u001b[0m │                                    \u001b[1;36m0.021048\u001b[0m │ \u001b[1;36m1398750\u001b[0m │\n",
       "│           \u001b[1;36m30\u001b[0m │    \u001b[1;36m2500\u001b[0m │                                    \u001b[1;36m0.021956\u001b[0m │   \u001b[1;36m98583\u001b[0m │\n",
       "│           \u001b[1;36m30\u001b[0m │    \u001b[1;36m3000\u001b[0m │                                    \u001b[1;36m0.077452\u001b[0m │    \u001b[1;36m5039\u001b[0m │\n",
       "│           \u001b[1;36m40\u001b[0m │       \u001b[1;36m0\u001b[0m │                                    \u001b[1;36m0.010556\u001b[0m │     \u001b[1;36m557\u001b[0m │\n",
       "│           \u001b[1;36m40\u001b[0m │     \u001b[1;36m500\u001b[0m │                                    \u001b[1;36m0.011256\u001b[0m │   \u001b[1;36m89213\u001b[0m │\n",
       "│           \u001b[1;36m40\u001b[0m │    \u001b[1;36m1000\u001b[0m │                                    \u001b[1;36m0.012625\u001b[0m │  \u001b[1;36m697613\u001b[0m │\n",
       "│           \u001b[1;36m40\u001b[0m │    \u001b[1;36m1500\u001b[0m │                                    \u001b[1;36m0.013136\u001b[0m │ \u001b[1;36m1553595\u001b[0m │\n",
       "│           \u001b[1;36m40\u001b[0m │    \u001b[1;36m2000\u001b[0m │                                    \u001b[1;36m0.013053\u001b[0m │  \u001b[1;36m750073\u001b[0m │\n",
       "│           \u001b[1;36m40\u001b[0m │    \u001b[1;36m2500\u001b[0m │                                    \u001b[1;36m0.014468\u001b[0m │   \u001b[1;36m63858\u001b[0m │\n",
       "│           \u001b[1;36m40\u001b[0m │    \u001b[1;36m3000\u001b[0m │                                    \u001b[1;36m0.083733\u001b[0m │    \u001b[1;36m3851\u001b[0m │\n",
       "│           \u001b[1;36m50\u001b[0m │       \u001b[1;36m0\u001b[0m │                                    \u001b[1;36m0.007194\u001b[0m │     \u001b[1;36m271\u001b[0m │\n",
       "│           \u001b[1;36m50\u001b[0m │     \u001b[1;36m500\u001b[0m │                                    \u001b[1;36m0.009156\u001b[0m │   \u001b[1;36m40919\u001b[0m │\n",
       "│           \u001b[1;36m50\u001b[0m │    \u001b[1;36m1000\u001b[0m │                                    \u001b[1;36m0.009833\u001b[0m │  \u001b[1;36m319436\u001b[0m │\n",
       "│           \u001b[1;36m50\u001b[0m │    \u001b[1;36m1500\u001b[0m │                                    \u001b[1;36m0.009902\u001b[0m │  \u001b[1;36m700389\u001b[0m │\n",
       "│           \u001b[1;36m50\u001b[0m │    \u001b[1;36m2000\u001b[0m │                                    \u001b[1;36m0.009708\u001b[0m │  \u001b[1;36m336116\u001b[0m │\n",
       "│           \u001b[1;36m50\u001b[0m │    \u001b[1;36m2500\u001b[0m │                                    \u001b[1;36m0.011638\u001b[0m │   \u001b[1;36m33885\u001b[0m │\n",
       "│           \u001b[1;36m50\u001b[0m │    \u001b[1;36m3000\u001b[0m │                                    \u001b[1;36m0.086059\u001b[0m │    \u001b[1;36m2667\u001b[0m │\n",
       "│           \u001b[1;36m60\u001b[0m │       \u001b[1;36m0\u001b[0m │                                    \u001b[1;36m0.004666\u001b[0m │      \u001b[1;36m62\u001b[0m │\n",
       "│           \u001b[1;36m60\u001b[0m │     \u001b[1;36m500\u001b[0m │                                    \u001b[1;36m0.007085\u001b[0m │   \u001b[1;36m16052\u001b[0m │\n",
       "│           \u001b[1;36m60\u001b[0m │    \u001b[1;36m1000\u001b[0m │                                    \u001b[1;36m0.008927\u001b[0m │  \u001b[1;36m124138\u001b[0m │\n",
       "│           \u001b[1;36m60\u001b[0m │    \u001b[1;36m1500\u001b[0m │                                    \u001b[1;36m0.008485\u001b[0m │  \u001b[1;36m269967\u001b[0m │\n",
       "│           \u001b[1;36m60\u001b[0m │    \u001b[1;36m2000\u001b[0m │                                    \u001b[1;36m0.007580\u001b[0m │  \u001b[1;36m122171\u001b[0m │\n",
       "│           \u001b[1;36m60\u001b[0m │    \u001b[1;36m2500\u001b[0m │                                    \u001b[1;36m0.012132\u001b[0m │   \u001b[1;36m14219\u001b[0m │\n",
       "│           \u001b[1;36m60\u001b[0m │    \u001b[1;36m3000\u001b[0m │                                    \u001b[1;36m0.074383\u001b[0m │    \u001b[1;36m1668\u001b[0m │\n",
       "│           \u001b[1;36m70\u001b[0m │       \u001b[1;36m0\u001b[0m │                                    \u001b[1;36m0.004511\u001b[0m │      \u001b[1;36m15\u001b[0m │\n",
       "│           \u001b[1;36m70\u001b[0m │     \u001b[1;36m500\u001b[0m │                                    \u001b[1;36m0.006439\u001b[0m │    \u001b[1;36m5413\u001b[0m │\n",
       "│           \u001b[1;36m70\u001b[0m │    \u001b[1;36m1000\u001b[0m │                                    \u001b[1;36m0.009077\u001b[0m │   \u001b[1;36m41059\u001b[0m │\n",
       "│           \u001b[1;36m70\u001b[0m │    \u001b[1;36m1500\u001b[0m │                                    \u001b[1;36m0.007753\u001b[0m │   \u001b[1;36m88060\u001b[0m │\n",
       "│           \u001b[1;36m70\u001b[0m │    \u001b[1;36m2000\u001b[0m │                                    \u001b[1;36m0.008503\u001b[0m │   \u001b[1;36m37588\u001b[0m │\n",
       "│           \u001b[1;36m70\u001b[0m │    \u001b[1;36m2500\u001b[0m │                                    \u001b[1;36m0.015711\u001b[0m │    \u001b[1;36m4617\u001b[0m │\n",
       "│           \u001b[1;36m70\u001b[0m │    \u001b[1;36m3000\u001b[0m │                                    \u001b[1;36m0.069006\u001b[0m │    \u001b[1;36m1006\u001b[0m │\n",
       "│           \u001b[1;36m80\u001b[0m │       \u001b[1;36m0\u001b[0m │                                    \u001b[1;36m0.008667\u001b[0m │       \u001b[1;36m5\u001b[0m │\n",
       "│           \u001b[1;36m80\u001b[0m │     \u001b[1;36m500\u001b[0m │                                    \u001b[1;36m0.005520\u001b[0m │    \u001b[1;36m1759\u001b[0m │\n",
       "│           \u001b[1;36m80\u001b[0m │    \u001b[1;36m1000\u001b[0m │                                    \u001b[1;36m0.011469\u001b[0m │   \u001b[1;36m13396\u001b[0m │\n",
       "│           \u001b[1;36m80\u001b[0m │    \u001b[1;36m1500\u001b[0m │                                    \u001b[1;36m0.007315\u001b[0m │   \u001b[1;36m26911\u001b[0m │\n",
       "│           \u001b[1;36m80\u001b[0m │    \u001b[1;36m2000\u001b[0m │                                    \u001b[1;36m0.008369\u001b[0m │   \u001b[1;36m11576\u001b[0m │\n",
       "│           \u001b[1;36m80\u001b[0m │    \u001b[1;36m2500\u001b[0m │                                    \u001b[1;36m0.031064\u001b[0m │    \u001b[1;36m1687\u001b[0m │\n",
       "│           \u001b[1;36m80\u001b[0m │    \u001b[1;36m3000\u001b[0m │                                    \u001b[1;36m0.062717\u001b[0m │     \u001b[1;36m637\u001b[0m │\n",
       "│           \u001b[1;36m90\u001b[0m │     \u001b[1;36m500\u001b[0m │                                    \u001b[1;36m0.006292\u001b[0m │     \u001b[1;36m514\u001b[0m │\n",
       "│           \u001b[1;36m90\u001b[0m │    \u001b[1;36m1000\u001b[0m │                                    \u001b[1;36m0.012250\u001b[0m │    \u001b[1;36m4653\u001b[0m │\n",
       "│           \u001b[1;36m90\u001b[0m │    \u001b[1;36m1500\u001b[0m │                                    \u001b[1;36m0.006908\u001b[0m │    \u001b[1;36m8567\u001b[0m │\n",
       "│           \u001b[1;36m90\u001b[0m │    \u001b[1;36m2000\u001b[0m │                                    \u001b[1;36m0.008273\u001b[0m │    \u001b[1;36m4034\u001b[0m │\n",
       "│           \u001b[1;36m90\u001b[0m │    \u001b[1;36m2500\u001b[0m │                                    \u001b[1;36m0.050354\u001b[0m │     \u001b[1;36m875\u001b[0m │\n",
       "│           \u001b[1;36m90\u001b[0m │    \u001b[1;36m3000\u001b[0m │                                    \u001b[1;36m0.060051\u001b[0m │     \u001b[1;36m459\u001b[0m │\n",
       "│          \u001b[1;36m100\u001b[0m │     \u001b[1;36m500\u001b[0m │                                    \u001b[1;36m0.006443\u001b[0m │     \u001b[1;36m180\u001b[0m │\n",
       "│          \u001b[1;36m100\u001b[0m │    \u001b[1;36m1000\u001b[0m │                                    \u001b[1;36m0.006096\u001b[0m │    \u001b[1;36m1695\u001b[0m │\n",
       "│          \u001b[1;36m100\u001b[0m │    \u001b[1;36m1500\u001b[0m │                                    \u001b[1;36m0.006930\u001b[0m │    \u001b[1;36m2931\u001b[0m │\n",
       "│          \u001b[1;36m100\u001b[0m │    \u001b[1;36m2000\u001b[0m │                                    \u001b[1;36m0.009712\u001b[0m │    \u001b[1;36m1811\u001b[0m │\n",
       "│          \u001b[1;36m100\u001b[0m │    \u001b[1;36m2500\u001b[0m │                                    \u001b[1;36m0.026257\u001b[0m │     \u001b[1;36m509\u001b[0m │\n",
       "│          \u001b[1;36m100\u001b[0m │    \u001b[1;36m3000\u001b[0m │                                    \u001b[1;36m0.081342\u001b[0m │     \u001b[1;36m312\u001b[0m │\n",
       "│          \u001b[1;36m110\u001b[0m │     \u001b[1;36m500\u001b[0m │                                    \u001b[1;36m0.004270\u001b[0m │      \u001b[1;36m80\u001b[0m │\n",
       "│          \u001b[1;36m110\u001b[0m │    \u001b[1;36m1000\u001b[0m │                                    \u001b[1;36m0.007125\u001b[0m │     \u001b[1;36m640\u001b[0m │\n",
       "│          \u001b[1;36m110\u001b[0m │    \u001b[1;36m1500\u001b[0m │                                    \u001b[1;36m0.007049\u001b[0m │    \u001b[1;36m1238\u001b[0m │\n",
       "│          \u001b[1;36m110\u001b[0m │    \u001b[1;36m2000\u001b[0m │                                    \u001b[1;36m0.013063\u001b[0m │     \u001b[1;36m924\u001b[0m │\n",
       "│          \u001b[1;36m110\u001b[0m │    \u001b[1;36m2500\u001b[0m │                                    \u001b[1;36m0.025909\u001b[0m │     \u001b[1;36m316\u001b[0m │\n",
       "│          \u001b[1;36m110\u001b[0m │    \u001b[1;36m3000\u001b[0m │                                    \u001b[1;36m0.024526\u001b[0m │     \u001b[1;36m145\u001b[0m │\n",
       "│          \u001b[1;36m120\u001b[0m │     \u001b[1;36m500\u001b[0m │                                    \u001b[1;36m0.006195\u001b[0m │      \u001b[1;36m13\u001b[0m │\n",
       "│          \u001b[1;36m120\u001b[0m │    \u001b[1;36m1000\u001b[0m │                                    \u001b[1;36m0.006656\u001b[0m │     \u001b[1;36m191\u001b[0m │\n",
       "│          \u001b[1;36m120\u001b[0m │    \u001b[1;36m1500\u001b[0m │                                    \u001b[1;36m0.007345\u001b[0m │     \u001b[1;36m511\u001b[0m │\n",
       "│          \u001b[1;36m120\u001b[0m │    \u001b[1;36m2000\u001b[0m │                                    \u001b[1;36m0.013458\u001b[0m │     \u001b[1;36m572\u001b[0m │\n",
       "│          \u001b[1;36m120\u001b[0m │    \u001b[1;36m2500\u001b[0m │                                    \u001b[1;36m0.007827\u001b[0m │     \u001b[1;36m223\u001b[0m │\n",
       "│          \u001b[1;36m120\u001b[0m │    \u001b[1;36m3000\u001b[0m │                                    \u001b[1;36m0.001879\u001b[0m │     \u001b[1;36m102\u001b[0m │\n",
       "│          \u001b[1;36m130\u001b[0m │     \u001b[1;36m500\u001b[0m │                                    \u001b[1;36m0.010478\u001b[0m │      \u001b[1;36m10\u001b[0m │\n",
       "│          \u001b[1;36m130\u001b[0m │    \u001b[1;36m1000\u001b[0m │                                    \u001b[1;36m0.006673\u001b[0m │      \u001b[1;36m46\u001b[0m │\n",
       "│          \u001b[1;36m130\u001b[0m │    \u001b[1;36m1500\u001b[0m │                                    \u001b[1;36m0.008392\u001b[0m │     \u001b[1;36m207\u001b[0m │\n",
       "│          \u001b[1;36m130\u001b[0m │    \u001b[1;36m2000\u001b[0m │                                    \u001b[1;36m0.009832\u001b[0m │     \u001b[1;36m416\u001b[0m │\n",
       "│          \u001b[1;36m130\u001b[0m │    \u001b[1;36m2500\u001b[0m │                                    \u001b[1;36m0.008333\u001b[0m │     \u001b[1;36m190\u001b[0m │\n",
       "│          \u001b[1;36m130\u001b[0m │    \u001b[1;36m3000\u001b[0m │                                    \u001b[1;36m0.002239\u001b[0m │      \u001b[1;36m89\u001b[0m │\n",
       "│          \u001b[1;36m140\u001b[0m │     \u001b[1;36m500\u001b[0m │                                    \u001b[1;36m0.008272\u001b[0m │       \u001b[1;36m8\u001b[0m │\n",
       "│          \u001b[1;36m140\u001b[0m │    \u001b[1;36m1000\u001b[0m │                                    \u001b[1;36m0.006656\u001b[0m │      \u001b[1;36m29\u001b[0m │\n",
       "│          \u001b[1;36m140\u001b[0m │    \u001b[1;36m1500\u001b[0m │                                    \u001b[1;36m0.007338\u001b[0m │     \u001b[1;36m113\u001b[0m │\n",
       "│          \u001b[1;36m140\u001b[0m │    \u001b[1;36m2000\u001b[0m │                                    \u001b[1;36m0.009252\u001b[0m │     \u001b[1;36m302\u001b[0m │\n",
       "│          \u001b[1;36m140\u001b[0m │    \u001b[1;36m2500\u001b[0m │                                    \u001b[1;36m0.012337\u001b[0m │     \u001b[1;36m141\u001b[0m │\n",
       "│          \u001b[1;36m140\u001b[0m │    \u001b[1;36m3000\u001b[0m │                                    \u001b[1;36m0.001752\u001b[0m │      \u001b[1;36m65\u001b[0m │\n",
       "│          \u001b[1;36m150\u001b[0m │    \u001b[1;36m1000\u001b[0m │                                    \u001b[1;36m0.005515\u001b[0m │       \u001b[1;36m2\u001b[0m │\n",
       "│          \u001b[1;36m150\u001b[0m │    \u001b[1;36m1500\u001b[0m │                                    \u001b[1;36m0.007320\u001b[0m │      \u001b[1;36m50\u001b[0m │\n",
       "│          \u001b[1;36m150\u001b[0m │    \u001b[1;36m2000\u001b[0m │                                    \u001b[1;36m0.007756\u001b[0m │     \u001b[1;36m199\u001b[0m │\n",
       "│          \u001b[1;36m150\u001b[0m │    \u001b[1;36m2500\u001b[0m │                                    \u001b[1;36m0.011502\u001b[0m │     \u001b[1;36m115\u001b[0m │\n",
       "│          \u001b[1;36m150\u001b[0m │    \u001b[1;36m3000\u001b[0m │                                    \u001b[1;36m0.001389\u001b[0m │      \u001b[1;36m16\u001b[0m │\n",
       "│          \u001b[1;36m160\u001b[0m │    \u001b[1;36m1500\u001b[0m │                                    \u001b[1;36m0.011764\u001b[0m │      \u001b[1;36m40\u001b[0m │\n",
       "│          \u001b[1;36m160\u001b[0m │    \u001b[1;36m2000\u001b[0m │                                    \u001b[1;36m0.008951\u001b[0m │     \u001b[1;36m122\u001b[0m │\n",
       "│          \u001b[1;36m160\u001b[0m │    \u001b[1;36m2500\u001b[0m │                                    \u001b[1;36m0.002558\u001b[0m │      \u001b[1;36m59\u001b[0m │\n",
       "│          \u001b[1;36m170\u001b[0m │    \u001b[1;36m1500\u001b[0m │                                    \u001b[1;36m0.011094\u001b[0m │      \u001b[1;36m30\u001b[0m │\n",
       "│          \u001b[1;36m170\u001b[0m │    \u001b[1;36m2000\u001b[0m │                                    \u001b[1;36m0.011783\u001b[0m │      \u001b[1;36m81\u001b[0m │\n",
       "│          \u001b[1;36m170\u001b[0m │    \u001b[1;36m2500\u001b[0m │                                    \u001b[1;36m0.002486\u001b[0m │      \u001b[1;36m36\u001b[0m │\n",
       "│          \u001b[1;36m180\u001b[0m │    \u001b[1;36m1500\u001b[0m │                                    \u001b[1;36m0.010734\u001b[0m │      \u001b[1;36m30\u001b[0m │\n",
       "│          \u001b[1;36m180\u001b[0m │    \u001b[1;36m2000\u001b[0m │                                    \u001b[1;36m0.012176\u001b[0m │      \u001b[1;36m66\u001b[0m │\n",
       "│          \u001b[1;36m180\u001b[0m │    \u001b[1;36m2500\u001b[0m │                                    \u001b[1;36m0.004151\u001b[0m │      \u001b[1;36m20\u001b[0m │\n",
       "│          \u001b[1;36m190\u001b[0m │    \u001b[1;36m1500\u001b[0m │                                    \u001b[1;36m0.012734\u001b[0m │      \u001b[1;36m30\u001b[0m │\n",
       "│          \u001b[1;36m190\u001b[0m │    \u001b[1;36m2000\u001b[0m │                                    \u001b[1;36m0.010001\u001b[0m │      \u001b[1;36m50\u001b[0m │\n",
       "│          \u001b[1;36m190\u001b[0m │    \u001b[1;36m2500\u001b[0m │                                    \u001b[1;36m0.004151\u001b[0m │      \u001b[1;36m20\u001b[0m │\n",
       "│          \u001b[1;36m200\u001b[0m │    \u001b[1;36m1500\u001b[0m │                                    \u001b[1;36m0.011276\u001b[0m │      \u001b[1;36m30\u001b[0m │\n",
       "│          \u001b[1;36m200\u001b[0m │    \u001b[1;36m2000\u001b[0m │                                    \u001b[1;36m0.008795\u001b[0m │      \u001b[1;36m35\u001b[0m │\n",
       "│          \u001b[1;36m200\u001b[0m │    \u001b[1;36m2500\u001b[0m │                                    \u001b[1;36m0.004059\u001b[0m │      \u001b[1;36m15\u001b[0m │\n",
       "│          \u001b[1;36m210\u001b[0m │    \u001b[1;36m1500\u001b[0m │                                    \u001b[1;36m0.011640\u001b[0m │      \u001b[1;36m30\u001b[0m │\n",
       "│            \u001b[2m…\u001b[0m │       \u001b[2m…\u001b[0m │                                           \u001b[2m…\u001b[0m │       \u001b[2m…\u001b[0m │\n",
       "└──────────────┴─────────┴─────────────────────────────────────────────┴─────────┘\n"
      ]
     },
     "execution_count": 20,
     "metadata": {},
     "output_type": "execute_result"
    }
   ],
   "source": [
    "%%time\n",
    "moves_with_clock = (\n",
    "    moves_with_parsed_time_control[_.time_control_type != \"UNLIMITED\"]\n",
    "    .alias(\"timed_games\")\n",
    "    .sql(\n",
    "        f\"\"\"\n",
    "        SELECT\n",
    "          site,\n",
    "          white_elo,\n",
    "          black_elo,\n",
    "          time_control_base_time,\n",
    "          time_control_increment,\n",
    "          move_ply,\n",
    "          REGEXP_EXTRACT(\n",
    "            move_comment,\n",
    "            '{CLOCK_REGEX.pattern}',\n",
    "            ['prefix', 'hours', 'minutes', 'seconds', 'suffix']\n",
    "          ) AS clock\n",
    "        FROM timed_games\n",
    "        LIMIT 50000000\n",
    "        \"\"\"\n",
    "    )\n",
    ")\n",
    "moves_with_clock.unpack(\"clock\").mutate(\n",
    "    clock=_.hours.cast(int) * 3600 + _.minutes.cast(int) * 60 + _.seconds.cast(float)\n",
    ").mutate(elo=ibis.ifelse(_.move_ply % 2 != 0, _.white_elo, _.black_elo)).group_by(\n",
    "    \"site\"\n",
    ").order_by(\n",
    "    _.move_ply\n",
    ").mutate(\n",
    "    move_time=_.clock.lag(\n",
    "        offset=2, default=_.time_control_base_time - _.time_control_increment\n",
    "    )\n",
    "    - _.clock\n",
    "    + _.time_control_increment\n",
    ").mutate(\n",
    "    time_control_etime=_.time_control_base_time + _.time_control_increment * 2 / 3,\n",
    "    move_ply_bin=_.move_ply // 20 * 10,\n",
    "    elo_bin=_.elo.cast(int) // 500 * 500,\n",
    ").group_by(\n",
    "    [\"move_ply_bin\", \"elo_bin\"]\n",
    ").agg(\n",
    "    (_.move_time / _.time_control_etime).mean(), count=_.count()\n",
    ").order_by(\n",
    "    [\"move_ply_bin\", \"elo_bin\"]\n",
    ").preview(\n",
    "    max_rows=120\n",
    ")"
   ]
  },
  {
   "cell_type": "code",
   "execution_count": 21,
   "id": "9bb88a65-3af8-450b-9bc1-e309deb29e0e",
   "metadata": {},
   "outputs": [
    {
     "name": "stdout",
     "output_type": "stream",
     "text": [
      "CPU times: user 4min 35s, sys: 17.9 s, total: 4min 53s\n",
      "Wall time: 48 s\n"
     ]
    },
    {
     "data": {
      "text/html": [
       "<pre style=\"white-space:pre;overflow-x:auto;line-height:normal;font-family:Menlo,'DejaVu Sans Mono',consolas,'Courier New',monospace\">┏━━━━━━━━━━━━━━━━━━━━━━━━━━━━━━━━━━━━━━━━┳━━━━━━━━━━━━━━━━━━━━━━━━━━━━━━━━━━━━━━━━━━━━━━┓\n",
       "┃<span style=\"font-weight: bold\"> StringContains(move_comment, '[%eval') </span>┃<span style=\"font-weight: bold\"> StringContains(move_comment, '[%eval')_count </span>┃\n",
       "┡━━━━━━━━━━━━━━━━━━━━━━━━━━━━━━━━━━━━━━━━╇━━━━━━━━━━━━━━━━━━━━━━━━━━━━━━━━━━━━━━━━━━━━━━┩\n",
       "│ <span style=\"color: #7f7f7f; text-decoration-color: #7f7f7f\">boolean</span>                                │ <span style=\"color: #7f7f7f; text-decoration-color: #7f7f7f\">int64</span>                                        │\n",
       "├────────────────────────────────────────┼──────────────────────────────────────────────┤\n",
       "│ True                                   │                                    <span style=\"color: #008080; text-decoration-color: #008080; font-weight: bold\">532636670</span> │\n",
       "│ False                                  │                                   <span style=\"color: #008080; text-decoration-color: #008080; font-weight: bold\">5405862285</span> │\n",
       "└────────────────────────────────────────┴──────────────────────────────────────────────┘\n",
       "</pre>\n"
      ],
      "text/plain": [
       "┏━━━━━━━━━━━━━━━━━━━━━━━━━━━━━━━━━━━━━━━━┳━━━━━━━━━━━━━━━━━━━━━━━━━━━━━━━━━━━━━━━━━━━━━━┓\n",
       "┃\u001b[1m \u001b[0m\u001b[1mStringContains(move_comment, '[%eval')\u001b[0m\u001b[1m \u001b[0m┃\u001b[1m \u001b[0m\u001b[1mStringContains(move_comment, '[%eval')_count\u001b[0m\u001b[1m \u001b[0m┃\n",
       "┡━━━━━━━━━━━━━━━━━━━━━━━━━━━━━━━━━━━━━━━━╇━━━━━━━━━━━━━━━━━━━━━━━━━━━━━━━━━━━━━━━━━━━━━━┩\n",
       "│ \u001b[2mboolean\u001b[0m                                │ \u001b[2mint64\u001b[0m                                        │\n",
       "├────────────────────────────────────────┼──────────────────────────────────────────────┤\n",
       "│ True                                   │                                    \u001b[1;36m532636670\u001b[0m │\n",
       "│ False                                  │                                   \u001b[1;36m5405862285\u001b[0m │\n",
       "└────────────────────────────────────────┴──────────────────────────────────────────────┘\n"
      ]
     },
     "execution_count": 21,
     "metadata": {},
     "output_type": "execute_result"
    }
   ],
   "source": [
    "%%time\n",
    "moves.move_comment.contains(\"[%eval\").value_counts().preview()"
   ]
  },
  {
   "cell_type": "markdown",
   "id": "5f12bad4-b346-456f-8d0f-8a5a1830b0bd",
   "metadata": {},
   "source": [
    "81,011,995 of the 89,342,529 games don't have evaluations; over 9% of the games having evaluations is better than the [6% advertised](https://database.lichess.org/#notes), although I imagine the number of games with evaluations has increased over time.\n",
    "\n",
    "Furthermore, 5,759,094 (6.45%) have evaluations for every move."
   ]
  },
  {
   "cell_type": "code",
   "execution_count": 22,
   "id": "91e9f515-60c6-4a3e-a406-fdd7b4286d04",
   "metadata": {},
   "outputs": [
    {
     "name": "stdout",
     "output_type": "stream",
     "text": [
      "CPU times: user 7min, sys: 27.3 s, total: 7min 28s\n",
      "Wall time: 1min 35s\n"
     ]
    },
    {
     "data": {
      "text/html": [
       "<pre style=\"white-space:pre;overflow-x:auto;line-height:normal;font-family:Menlo,'DejaVu Sans Mono',consolas,'Courier New',monospace\">┏━━━━━━━━━━━━━━━━━━┳━━━━━━━━━━━━━━━━━━━━━━━━┓\n",
       "┃<span style=\"font-weight: bold\"> percent_has_eval </span>┃<span style=\"font-weight: bold\"> percent_has_eval_count </span>┃\n",
       "┡━━━━━━━━━━━━━━━━━━╇━━━━━━━━━━━━━━━━━━━━━━━━┩\n",
       "│ <span style=\"color: #7f7f7f; text-decoration-color: #7f7f7f\">float64</span>          │ <span style=\"color: #7f7f7f; text-decoration-color: #7f7f7f\">int64</span>                  │\n",
       "├──────────────────┼────────────────────────┤\n",
       "│         <span style=\"color: #008080; text-decoration-color: #008080; font-weight: bold\">0.000000</span> │               <span style=\"color: #008080; text-decoration-color: #008080; font-weight: bold\">81011995</span> │\n",
       "│         <span style=\"color: #008080; text-decoration-color: #008080; font-weight: bold\">1.000000</span> │                <span style=\"color: #008080; text-decoration-color: #008080; font-weight: bold\">5759094</span> │\n",
       "│         <span style=\"color: #008080; text-decoration-color: #008080; font-weight: bold\">0.980392</span> │                  <span style=\"color: #008080; text-decoration-color: #008080; font-weight: bold\">49637</span> │\n",
       "│         <span style=\"color: #008080; text-decoration-color: #008080; font-weight: bold\">0.981132</span> │                  <span style=\"color: #008080; text-decoration-color: #008080; font-weight: bold\">49415</span> │\n",
       "│         <span style=\"color: #008080; text-decoration-color: #008080; font-weight: bold\">0.979592</span> │                  <span style=\"color: #008080; text-decoration-color: #008080; font-weight: bold\">49399</span> │\n",
       "│         <span style=\"color: #008080; text-decoration-color: #008080; font-weight: bold\">0.978723</span> │                  <span style=\"color: #008080; text-decoration-color: #008080; font-weight: bold\">48931</span> │\n",
       "│         <span style=\"color: #008080; text-decoration-color: #008080; font-weight: bold\">0.981818</span> │                  <span style=\"color: #008080; text-decoration-color: #008080; font-weight: bold\">48535</span> │\n",
       "│         <span style=\"color: #008080; text-decoration-color: #008080; font-weight: bold\">0.977778</span> │                  <span style=\"color: #008080; text-decoration-color: #008080; font-weight: bold\">47728</span> │\n",
       "│         <span style=\"color: #008080; text-decoration-color: #008080; font-weight: bold\">0.982456</span> │                  <span style=\"color: #008080; text-decoration-color: #008080; font-weight: bold\">47178</span> │\n",
       "│         <span style=\"color: #008080; text-decoration-color: #008080; font-weight: bold\">0.976744</span> │                  <span style=\"color: #008080; text-decoration-color: #008080; font-weight: bold\">46337</span> │\n",
       "│                <span style=\"color: #7f7f7f; text-decoration-color: #7f7f7f\">…</span> │                      <span style=\"color: #7f7f7f; text-decoration-color: #7f7f7f\">…</span> │\n",
       "└──────────────────┴────────────────────────┘\n",
       "</pre>\n"
      ],
      "text/plain": [
       "┏━━━━━━━━━━━━━━━━━━┳━━━━━━━━━━━━━━━━━━━━━━━━┓\n",
       "┃\u001b[1m \u001b[0m\u001b[1mpercent_has_eval\u001b[0m\u001b[1m \u001b[0m┃\u001b[1m \u001b[0m\u001b[1mpercent_has_eval_count\u001b[0m\u001b[1m \u001b[0m┃\n",
       "┡━━━━━━━━━━━━━━━━━━╇━━━━━━━━━━━━━━━━━━━━━━━━┩\n",
       "│ \u001b[2mfloat64\u001b[0m          │ \u001b[2mint64\u001b[0m                  │\n",
       "├──────────────────┼────────────────────────┤\n",
       "│         \u001b[1;36m0.000000\u001b[0m │               \u001b[1;36m81011995\u001b[0m │\n",
       "│         \u001b[1;36m1.000000\u001b[0m │                \u001b[1;36m5759094\u001b[0m │\n",
       "│         \u001b[1;36m0.980392\u001b[0m │                  \u001b[1;36m49637\u001b[0m │\n",
       "│         \u001b[1;36m0.981132\u001b[0m │                  \u001b[1;36m49415\u001b[0m │\n",
       "│         \u001b[1;36m0.979592\u001b[0m │                  \u001b[1;36m49399\u001b[0m │\n",
       "│         \u001b[1;36m0.978723\u001b[0m │                  \u001b[1;36m48931\u001b[0m │\n",
       "│         \u001b[1;36m0.981818\u001b[0m │                  \u001b[1;36m48535\u001b[0m │\n",
       "│         \u001b[1;36m0.977778\u001b[0m │                  \u001b[1;36m47728\u001b[0m │\n",
       "│         \u001b[1;36m0.982456\u001b[0m │                  \u001b[1;36m47178\u001b[0m │\n",
       "│         \u001b[1;36m0.976744\u001b[0m │                  \u001b[1;36m46337\u001b[0m │\n",
       "│                \u001b[2m…\u001b[0m │                      \u001b[2m…\u001b[0m │\n",
       "└──────────────────┴────────────────────────┘\n"
      ]
     },
     "execution_count": 22,
     "metadata": {},
     "output_type": "execute_result"
    }
   ],
   "source": [
    "%%time\n",
    "moves.mutate(has_eval=_.move_comment.contains(\"[%eval\")).group_by(_.site).agg(\n",
    "    percent_has_eval=_.has_eval.mean()\n",
    ").percent_has_eval.value_counts().order_by(\n",
    "    ibis.desc(\"percent_has_eval_count\")\n",
    ").preview()"
   ]
  },
  {
   "cell_type": "code",
   "execution_count": 23,
   "id": "e93d72d4-c34c-4368-b373-e497bd0e34fe",
   "metadata": {},
   "outputs": [
    {
     "name": "stdout",
     "output_type": "stream",
     "text": [
      "CPU times: user 7min 1s, sys: 21.1 s, total: 7min 22s\n",
      "Wall time: 1min 36s\n"
     ]
    },
    {
     "data": {
      "text/html": [
       "<pre style=\"white-space:pre;overflow-x:auto;line-height:normal;font-family:Menlo,'DejaVu Sans Mono',consolas,'Courier New',monospace\">┏━━━━━━━━━━━━━━━━━━━━━━━━━━━━━━┳━━━━━━━━━━━━━━━━━━┓\n",
       "┃<span style=\"font-weight: bold\"> site                         </span>┃<span style=\"font-weight: bold\"> percent_has_eval </span>┃\n",
       "┡━━━━━━━━━━━━━━━━━━━━━━━━━━━━━━╇━━━━━━━━━━━━━━━━━━┩\n",
       "│ <span style=\"color: #7f7f7f; text-decoration-color: #7f7f7f\">string</span>                       │ <span style=\"color: #7f7f7f; text-decoration-color: #7f7f7f\">float64</span>          │\n",
       "├──────────────────────────────┼──────────────────┤\n",
       "│ <a href=\"https://lichess.org/TWtiFbym\" target=\"_blank\"><span style=\"color: #008000; text-decoration-color: #008000\">https://lichess.org/TWtiFbym</span></a> │         <span style=\"color: #008080; text-decoration-color: #008080; font-weight: bold\">0.993548</span> │\n",
       "│ <a href=\"https://lichess.org/bjFTyYMk\" target=\"_blank\"><span style=\"color: #008000; text-decoration-color: #008000\">https://lichess.org/bjFTyYMk</span></a> │         <span style=\"color: #008080; text-decoration-color: #008080; font-weight: bold\">0.975610</span> │\n",
       "│ <a href=\"https://lichess.org/ZL2QKwJt\" target=\"_blank\"><span style=\"color: #008000; text-decoration-color: #008000\">https://lichess.org/ZL2QKwJt</span></a> │         <span style=\"color: #008080; text-decoration-color: #008080; font-weight: bold\">0.986486</span> │\n",
       "│ <a href=\"https://lichess.org/xfMV1Hve\" target=\"_blank\"><span style=\"color: #008000; text-decoration-color: #008000\">https://lichess.org/xfMV1Hve</span></a> │         <span style=\"color: #008080; text-decoration-color: #008080; font-weight: bold\">0.990654</span> │\n",
       "│ <a href=\"https://lichess.org/9edrw7Ch\" target=\"_blank\"><span style=\"color: #008000; text-decoration-color: #008000\">https://lichess.org/9edrw7Ch</span></a> │         <span style=\"color: #008080; text-decoration-color: #008080; font-weight: bold\">0.977273</span> │\n",
       "│ <a href=\"https://lichess.org/wLbGXpBw\" target=\"_blank\"><span style=\"color: #008000; text-decoration-color: #008000\">https://lichess.org/wLbGXpBw</span></a> │         <span style=\"color: #008080; text-decoration-color: #008080; font-weight: bold\">0.987500</span> │\n",
       "│ <a href=\"https://lichess.org/mZsJ5owz\" target=\"_blank\"><span style=\"color: #008000; text-decoration-color: #008000\">https://lichess.org/mZsJ5owz</span></a> │         <span style=\"color: #008080; text-decoration-color: #008080; font-weight: bold\">0.983607</span> │\n",
       "│ <a href=\"https://lichess.org/jPPxun9Q\" target=\"_blank\"><span style=\"color: #008000; text-decoration-color: #008000\">https://lichess.org/jPPxun9Q</span></a> │         <span style=\"color: #008080; text-decoration-color: #008080; font-weight: bold\">0.982143</span> │\n",
       "│ <a href=\"https://lichess.org/LOEefTSd\" target=\"_blank\"><span style=\"color: #008000; text-decoration-color: #008000\">https://lichess.org/LOEefTSd</span></a> │         <span style=\"color: #008080; text-decoration-color: #008080; font-weight: bold\">0.983333</span> │\n",
       "│ <a href=\"https://lichess.org/Fu1KgEp4\" target=\"_blank\"><span style=\"color: #008000; text-decoration-color: #008000\">https://lichess.org/Fu1KgEp4</span></a> │         <span style=\"color: #008080; text-decoration-color: #008080; font-weight: bold\">0.985294</span> │\n",
       "│ <span style=\"color: #7f7f7f; text-decoration-color: #7f7f7f\">…</span>                            │                <span style=\"color: #7f7f7f; text-decoration-color: #7f7f7f\">…</span> │\n",
       "└──────────────────────────────┴──────────────────┘\n",
       "</pre>\n"
      ],
      "text/plain": [
       "┏━━━━━━━━━━━━━━━━━━━━━━━━━━━━━━┳━━━━━━━━━━━━━━━━━━┓\n",
       "┃\u001b[1m \u001b[0m\u001b[1msite\u001b[0m\u001b[1m                        \u001b[0m\u001b[1m \u001b[0m┃\u001b[1m \u001b[0m\u001b[1mpercent_has_eval\u001b[0m\u001b[1m \u001b[0m┃\n",
       "┡━━━━━━━━━━━━━━━━━━━━━━━━━━━━━━╇━━━━━━━━━━━━━━━━━━┩\n",
       "│ \u001b[2mstring\u001b[0m                       │ \u001b[2mfloat64\u001b[0m          │\n",
       "├──────────────────────────────┼──────────────────┤\n",
       "│ \u001b]8;id=675343;https://lichess.org/TWtiFbym\u001b\\\u001b[32mhttps://lichess.org/TWtiFbym\u001b[0m\u001b]8;;\u001b\\ │         \u001b[1;36m0.993548\u001b[0m │\n",
       "│ \u001b]8;id=839472;https://lichess.org/bjFTyYMk\u001b\\\u001b[32mhttps://lichess.org/bjFTyYMk\u001b[0m\u001b]8;;\u001b\\ │         \u001b[1;36m0.975610\u001b[0m │\n",
       "│ \u001b]8;id=40191;https://lichess.org/ZL2QKwJt\u001b\\\u001b[32mhttps://lichess.org/ZL2QKwJt\u001b[0m\u001b]8;;\u001b\\ │         \u001b[1;36m0.986486\u001b[0m │\n",
       "│ \u001b]8;id=410127;https://lichess.org/xfMV1Hve\u001b\\\u001b[32mhttps://lichess.org/xfMV1Hve\u001b[0m\u001b]8;;\u001b\\ │         \u001b[1;36m0.990654\u001b[0m │\n",
       "│ \u001b]8;id=880320;https://lichess.org/9edrw7Ch\u001b\\\u001b[32mhttps://lichess.org/9edrw7Ch\u001b[0m\u001b]8;;\u001b\\ │         \u001b[1;36m0.977273\u001b[0m │\n",
       "│ \u001b]8;id=132977;https://lichess.org/wLbGXpBw\u001b\\\u001b[32mhttps://lichess.org/wLbGXpBw\u001b[0m\u001b]8;;\u001b\\ │         \u001b[1;36m0.987500\u001b[0m │\n",
       "│ \u001b]8;id=206476;https://lichess.org/mZsJ5owz\u001b\\\u001b[32mhttps://lichess.org/mZsJ5owz\u001b[0m\u001b]8;;\u001b\\ │         \u001b[1;36m0.983607\u001b[0m │\n",
       "│ \u001b]8;id=552804;https://lichess.org/jPPxun9Q\u001b\\\u001b[32mhttps://lichess.org/jPPxun9Q\u001b[0m\u001b]8;;\u001b\\ │         \u001b[1;36m0.982143\u001b[0m │\n",
       "│ \u001b]8;id=61585;https://lichess.org/LOEefTSd\u001b\\\u001b[32mhttps://lichess.org/LOEefTSd\u001b[0m\u001b]8;;\u001b\\ │         \u001b[1;36m0.983333\u001b[0m │\n",
       "│ \u001b]8;id=769013;https://lichess.org/Fu1KgEp4\u001b\\\u001b[32mhttps://lichess.org/Fu1KgEp4\u001b[0m\u001b]8;;\u001b\\ │         \u001b[1;36m0.985294\u001b[0m │\n",
       "│ \u001b[2m…\u001b[0m                            │                \u001b[2m…\u001b[0m │\n",
       "└──────────────────────────────┴──────────────────┘\n"
      ]
     },
     "execution_count": 23,
     "metadata": {},
     "output_type": "execute_result"
    }
   ],
   "source": [
    "%%time\n",
    "moves.mutate(has_eval=_.move_comment.contains(\"[%eval\")).group_by(_.site).agg(\n",
    "    percent_has_eval=_.has_eval.mean()\n",
    ")[(0 < _.percent_has_eval) & (_.percent_has_eval < 1)].preview()"
   ]
  },
  {
   "cell_type": "code",
   "execution_count": 24,
   "id": "91ece948-40fe-4394-9c45-47229bee4674",
   "metadata": {},
   "outputs": [
    {
     "data": {
      "text/html": [
       "<pre style=\"white-space:pre;overflow-x:auto;line-height:normal;font-family:Menlo,'DejaVu Sans Mono',consolas,'Courier New',monospace\">┏━━━━━━━━━━━━━━━━━━━┳━━━━━━━━━━━━━━━━━━━━━━━━━━━━━━┳━━━━━━━━━━━━┳━━━━━━━━┳━━━━━━━━━━━━━━┳━━━━━━━━━━━━━━━┳━━━━━━━━┳━━━━━━━━━━━━┳━━━━━━━━━━┳━━━━━━━━━━━┳━━━━━━━━━━━┳━━━━━━━━━━━━━━━━━━━┳━━━━━━━━━━━━━━━━━━━┳━━━━━━━━━━━━━┳━━━━━━━━━━━━━┳━━━━━━━━┳━━━━━━━━━━━━━━━━━━━━━━┳━━━━━━━━━━━━━━┳━━━━━━━━━━━━━┳━━━━━━━━━━┳━━━━━━━━━━━━━━━━━━━━━━━━━━━━━━┓\n",
       "┃<span style=\"font-weight: bold\"> event             </span>┃<span style=\"font-weight: bold\"> site                         </span>┃<span style=\"font-weight: bold\"> date       </span>┃<span style=\"font-weight: bold\"> round  </span>┃<span style=\"font-weight: bold\"> white        </span>┃<span style=\"font-weight: bold\"> black         </span>┃<span style=\"font-weight: bold\"> result </span>┃<span style=\"font-weight: bold\"> utc_date   </span>┃<span style=\"font-weight: bold\"> utc_time </span>┃<span style=\"font-weight: bold\"> white_elo </span>┃<span style=\"font-weight: bold\"> black_elo </span>┃<span style=\"font-weight: bold\"> white_rating_diff </span>┃<span style=\"font-weight: bold\"> black_rating_diff </span>┃<span style=\"font-weight: bold\"> white_title </span>┃<span style=\"font-weight: bold\"> black_title </span>┃<span style=\"font-weight: bold\"> eco    </span>┃<span style=\"font-weight: bold\"> opening              </span>┃<span style=\"font-weight: bold\"> time_control </span>┃<span style=\"font-weight: bold\"> termination </span>┃<span style=\"font-weight: bold\"> move_ply </span>┃<span style=\"font-weight: bold\"> move_comment                 </span>┃\n",
       "┡━━━━━━━━━━━━━━━━━━━╇━━━━━━━━━━━━━━━━━━━━━━━━━━━━━━╇━━━━━━━━━━━━╇━━━━━━━━╇━━━━━━━━━━━━━━╇━━━━━━━━━━━━━━━╇━━━━━━━━╇━━━━━━━━━━━━╇━━━━━━━━━━╇━━━━━━━━━━━╇━━━━━━━━━━━╇━━━━━━━━━━━━━━━━━━━╇━━━━━━━━━━━━━━━━━━━╇━━━━━━━━━━━━━╇━━━━━━━━━━━━━╇━━━━━━━━╇━━━━━━━━━━━━━━━━━━━━━━╇━━━━━━━━━━━━━━╇━━━━━━━━━━━━━╇━━━━━━━━━━╇━━━━━━━━━━━━━━━━━━━━━━━━━━━━━━┩\n",
       "│ <span style=\"color: #7f7f7f; text-decoration-color: #7f7f7f\">string</span>            │ <span style=\"color: #7f7f7f; text-decoration-color: #7f7f7f\">string</span>                       │ <span style=\"color: #7f7f7f; text-decoration-color: #7f7f7f\">string</span>     │ <span style=\"color: #7f7f7f; text-decoration-color: #7f7f7f\">string</span> │ <span style=\"color: #7f7f7f; text-decoration-color: #7f7f7f\">string</span>       │ <span style=\"color: #7f7f7f; text-decoration-color: #7f7f7f\">string</span>        │ <span style=\"color: #7f7f7f; text-decoration-color: #7f7f7f\">string</span> │ <span style=\"color: #7f7f7f; text-decoration-color: #7f7f7f\">string</span>     │ <span style=\"color: #7f7f7f; text-decoration-color: #7f7f7f\">string</span>   │ <span style=\"color: #7f7f7f; text-decoration-color: #7f7f7f\">string</span>    │ <span style=\"color: #7f7f7f; text-decoration-color: #7f7f7f\">string</span>    │ <span style=\"color: #7f7f7f; text-decoration-color: #7f7f7f\">string</span>            │ <span style=\"color: #7f7f7f; text-decoration-color: #7f7f7f\">string</span>            │ <span style=\"color: #7f7f7f; text-decoration-color: #7f7f7f\">string</span>      │ <span style=\"color: #7f7f7f; text-decoration-color: #7f7f7f\">string</span>      │ <span style=\"color: #7f7f7f; text-decoration-color: #7f7f7f\">string</span> │ <span style=\"color: #7f7f7f; text-decoration-color: #7f7f7f\">string</span>               │ <span style=\"color: #7f7f7f; text-decoration-color: #7f7f7f\">string</span>       │ <span style=\"color: #7f7f7f; text-decoration-color: #7f7f7f\">string</span>      │ <span style=\"color: #7f7f7f; text-decoration-color: #7f7f7f\">int64</span>    │ <span style=\"color: #7f7f7f; text-decoration-color: #7f7f7f\">string</span>                       │\n",
       "├───────────────────┼──────────────────────────────┼────────────┼────────┼──────────────┼───────────────┼────────┼────────────┼──────────┼───────────┼───────────┼───────────────────┼───────────────────┼─────────────┼─────────────┼────────┼──────────────────────┼──────────────┼─────────────┼──────────┼──────────────────────────────┤\n",
       "│ <span style=\"color: #008000; text-decoration-color: #008000\">Rated Bullet game</span> │ <a href=\"https://lichess.org/vyEI6vG7\" target=\"_blank\"><span style=\"color: #008000; text-decoration-color: #008000\">https://lichess.org/vyEI6vG7</span></a> │ <span style=\"color: #008000; text-decoration-color: #008000\">2024.06.01</span> │ <span style=\"color: #008000; text-decoration-color: #008000\">-     </span> │ <span style=\"color: #008000; text-decoration-color: #008000\">Danielsoto12</span> │ <span style=\"color: #008000; text-decoration-color: #008000\">GasconWarrior</span> │ <span style=\"color: #008000; text-decoration-color: #008000\">1-0   </span> │ <span style=\"color: #008000; text-decoration-color: #008000\">2024.06.01</span> │ <span style=\"color: #008000; text-decoration-color: #008000\">00:01:21</span> │ <span style=\"color: #008000; text-decoration-color: #008000\">799      </span> │ <span style=\"color: #008000; text-decoration-color: #008000\">886      </span> │ <span style=\"color: #008000; text-decoration-color: #008000\">+22              </span> │ <span style=\"color: #008000; text-decoration-color: #008000\">-7               </span> │ <span style=\"color: #7f7f7f; text-decoration-color: #7f7f7f\">NULL</span>        │ <span style=\"color: #7f7f7f; text-decoration-color: #7f7f7f\">NULL</span>        │ <span style=\"color: #008000; text-decoration-color: #008000\">B01   </span> │ <span style=\"color: #008000; text-decoration-color: #008000\">Scandinavian Defense</span> │ <span style=\"color: #008000; text-decoration-color: #008000\">60+0        </span> │ <span style=\"color: #008000; text-decoration-color: #008000\">Normal     </span> │        <span style=\"color: #008080; text-decoration-color: #008080; font-weight: bold\">1</span> │ <span style=\"color: #008000; text-decoration-color: #008000\">[%eval 0.15] [%clk 0:01:00] </span> │\n",
       "│ <span style=\"color: #008000; text-decoration-color: #008000\">Rated Bullet game</span> │ <a href=\"https://lichess.org/vyEI6vG7\" target=\"_blank\"><span style=\"color: #008000; text-decoration-color: #008000\">https://lichess.org/vyEI6vG7</span></a> │ <span style=\"color: #008000; text-decoration-color: #008000\">2024.06.01</span> │ <span style=\"color: #008000; text-decoration-color: #008000\">-     </span> │ <span style=\"color: #008000; text-decoration-color: #008000\">Danielsoto12</span> │ <span style=\"color: #008000; text-decoration-color: #008000\">GasconWarrior</span> │ <span style=\"color: #008000; text-decoration-color: #008000\">1-0   </span> │ <span style=\"color: #008000; text-decoration-color: #008000\">2024.06.01</span> │ <span style=\"color: #008000; text-decoration-color: #008000\">00:01:21</span> │ <span style=\"color: #008000; text-decoration-color: #008000\">799      </span> │ <span style=\"color: #008000; text-decoration-color: #008000\">886      </span> │ <span style=\"color: #008000; text-decoration-color: #008000\">+22              </span> │ <span style=\"color: #008000; text-decoration-color: #008000\">-7               </span> │ <span style=\"color: #7f7f7f; text-decoration-color: #7f7f7f\">NULL</span>        │ <span style=\"color: #7f7f7f; text-decoration-color: #7f7f7f\">NULL</span>        │ <span style=\"color: #008000; text-decoration-color: #008000\">B01   </span> │ <span style=\"color: #008000; text-decoration-color: #008000\">Scandinavian Defense</span> │ <span style=\"color: #008000; text-decoration-color: #008000\">60+0        </span> │ <span style=\"color: #008000; text-decoration-color: #008000\">Normal     </span> │        <span style=\"color: #008080; text-decoration-color: #008080; font-weight: bold\">2</span> │ <span style=\"color: #008000; text-decoration-color: #008000\">[%eval 0.53] [%clk 0:01:00] </span> │\n",
       "│ <span style=\"color: #008000; text-decoration-color: #008000\">Rated Bullet game</span> │ <a href=\"https://lichess.org/vyEI6vG7\" target=\"_blank\"><span style=\"color: #008000; text-decoration-color: #008000\">https://lichess.org/vyEI6vG7</span></a> │ <span style=\"color: #008000; text-decoration-color: #008000\">2024.06.01</span> │ <span style=\"color: #008000; text-decoration-color: #008000\">-     </span> │ <span style=\"color: #008000; text-decoration-color: #008000\">Danielsoto12</span> │ <span style=\"color: #008000; text-decoration-color: #008000\">GasconWarrior</span> │ <span style=\"color: #008000; text-decoration-color: #008000\">1-0   </span> │ <span style=\"color: #008000; text-decoration-color: #008000\">2024.06.01</span> │ <span style=\"color: #008000; text-decoration-color: #008000\">00:01:21</span> │ <span style=\"color: #008000; text-decoration-color: #008000\">799      </span> │ <span style=\"color: #008000; text-decoration-color: #008000\">886      </span> │ <span style=\"color: #008000; text-decoration-color: #008000\">+22              </span> │ <span style=\"color: #008000; text-decoration-color: #008000\">-7               </span> │ <span style=\"color: #7f7f7f; text-decoration-color: #7f7f7f\">NULL</span>        │ <span style=\"color: #7f7f7f; text-decoration-color: #7f7f7f\">NULL</span>        │ <span style=\"color: #008000; text-decoration-color: #008000\">B01   </span> │ <span style=\"color: #008000; text-decoration-color: #008000\">Scandinavian Defense</span> │ <span style=\"color: #008000; text-decoration-color: #008000\">60+0        </span> │ <span style=\"color: #008000; text-decoration-color: #008000\">Normal     </span> │        <span style=\"color: #008080; text-decoration-color: #008080; font-weight: bold\">3</span> │ <span style=\"color: #008000; text-decoration-color: #008000\">[%eval -0.96] [%clk 0:00:56]</span> │\n",
       "│ <span style=\"color: #008000; text-decoration-color: #008000\">Rated Bullet game</span> │ <a href=\"https://lichess.org/vyEI6vG7\" target=\"_blank\"><span style=\"color: #008000; text-decoration-color: #008000\">https://lichess.org/vyEI6vG7</span></a> │ <span style=\"color: #008000; text-decoration-color: #008000\">2024.06.01</span> │ <span style=\"color: #008000; text-decoration-color: #008000\">-     </span> │ <span style=\"color: #008000; text-decoration-color: #008000\">Danielsoto12</span> │ <span style=\"color: #008000; text-decoration-color: #008000\">GasconWarrior</span> │ <span style=\"color: #008000; text-decoration-color: #008000\">1-0   </span> │ <span style=\"color: #008000; text-decoration-color: #008000\">2024.06.01</span> │ <span style=\"color: #008000; text-decoration-color: #008000\">00:01:21</span> │ <span style=\"color: #008000; text-decoration-color: #008000\">799      </span> │ <span style=\"color: #008000; text-decoration-color: #008000\">886      </span> │ <span style=\"color: #008000; text-decoration-color: #008000\">+22              </span> │ <span style=\"color: #008000; text-decoration-color: #008000\">-7               </span> │ <span style=\"color: #7f7f7f; text-decoration-color: #7f7f7f\">NULL</span>        │ <span style=\"color: #7f7f7f; text-decoration-color: #7f7f7f\">NULL</span>        │ <span style=\"color: #008000; text-decoration-color: #008000\">B01   </span> │ <span style=\"color: #008000; text-decoration-color: #008000\">Scandinavian Defense</span> │ <span style=\"color: #008000; text-decoration-color: #008000\">60+0        </span> │ <span style=\"color: #008000; text-decoration-color: #008000\">Normal     </span> │        <span style=\"color: #008080; text-decoration-color: #008080; font-weight: bold\">4</span> │ <span style=\"color: #008000; text-decoration-color: #008000\">[%eval -0.98] [%clk 0:00:58]</span> │\n",
       "│ <span style=\"color: #008000; text-decoration-color: #008000\">Rated Bullet game</span> │ <a href=\"https://lichess.org/vyEI6vG7\" target=\"_blank\"><span style=\"color: #008000; text-decoration-color: #008000\">https://lichess.org/vyEI6vG7</span></a> │ <span style=\"color: #008000; text-decoration-color: #008000\">2024.06.01</span> │ <span style=\"color: #008000; text-decoration-color: #008000\">-     </span> │ <span style=\"color: #008000; text-decoration-color: #008000\">Danielsoto12</span> │ <span style=\"color: #008000; text-decoration-color: #008000\">GasconWarrior</span> │ <span style=\"color: #008000; text-decoration-color: #008000\">1-0   </span> │ <span style=\"color: #008000; text-decoration-color: #008000\">2024.06.01</span> │ <span style=\"color: #008000; text-decoration-color: #008000\">00:01:21</span> │ <span style=\"color: #008000; text-decoration-color: #008000\">799      </span> │ <span style=\"color: #008000; text-decoration-color: #008000\">886      </span> │ <span style=\"color: #008000; text-decoration-color: #008000\">+22              </span> │ <span style=\"color: #008000; text-decoration-color: #008000\">-7               </span> │ <span style=\"color: #7f7f7f; text-decoration-color: #7f7f7f\">NULL</span>        │ <span style=\"color: #7f7f7f; text-decoration-color: #7f7f7f\">NULL</span>        │ <span style=\"color: #008000; text-decoration-color: #008000\">B01   </span> │ <span style=\"color: #008000; text-decoration-color: #008000\">Scandinavian Defense</span> │ <span style=\"color: #008000; text-decoration-color: #008000\">60+0        </span> │ <span style=\"color: #008000; text-decoration-color: #008000\">Normal     </span> │        <span style=\"color: #008080; text-decoration-color: #008080; font-weight: bold\">5</span> │ <span style=\"color: #008000; text-decoration-color: #008000\">[%eval -1.12] [%clk 0:00:55]</span> │\n",
       "│ <span style=\"color: #008000; text-decoration-color: #008000\">Rated Bullet game</span> │ <a href=\"https://lichess.org/vyEI6vG7\" target=\"_blank\"><span style=\"color: #008000; text-decoration-color: #008000\">https://lichess.org/vyEI6vG7</span></a> │ <span style=\"color: #008000; text-decoration-color: #008000\">2024.06.01</span> │ <span style=\"color: #008000; text-decoration-color: #008000\">-     </span> │ <span style=\"color: #008000; text-decoration-color: #008000\">Danielsoto12</span> │ <span style=\"color: #008000; text-decoration-color: #008000\">GasconWarrior</span> │ <span style=\"color: #008000; text-decoration-color: #008000\">1-0   </span> │ <span style=\"color: #008000; text-decoration-color: #008000\">2024.06.01</span> │ <span style=\"color: #008000; text-decoration-color: #008000\">00:01:21</span> │ <span style=\"color: #008000; text-decoration-color: #008000\">799      </span> │ <span style=\"color: #008000; text-decoration-color: #008000\">886      </span> │ <span style=\"color: #008000; text-decoration-color: #008000\">+22              </span> │ <span style=\"color: #008000; text-decoration-color: #008000\">-7               </span> │ <span style=\"color: #7f7f7f; text-decoration-color: #7f7f7f\">NULL</span>        │ <span style=\"color: #7f7f7f; text-decoration-color: #7f7f7f\">NULL</span>        │ <span style=\"color: #008000; text-decoration-color: #008000\">B01   </span> │ <span style=\"color: #008000; text-decoration-color: #008000\">Scandinavian Defense</span> │ <span style=\"color: #008000; text-decoration-color: #008000\">60+0        </span> │ <span style=\"color: #008000; text-decoration-color: #008000\">Normal     </span> │        <span style=\"color: #008080; text-decoration-color: #008080; font-weight: bold\">6</span> │ <span style=\"color: #008000; text-decoration-color: #008000\">[%eval -0.79] [%clk 0:00:57]</span> │\n",
       "│ <span style=\"color: #008000; text-decoration-color: #008000\">Rated Bullet game</span> │ <a href=\"https://lichess.org/vyEI6vG7\" target=\"_blank\"><span style=\"color: #008000; text-decoration-color: #008000\">https://lichess.org/vyEI6vG7</span></a> │ <span style=\"color: #008000; text-decoration-color: #008000\">2024.06.01</span> │ <span style=\"color: #008000; text-decoration-color: #008000\">-     </span> │ <span style=\"color: #008000; text-decoration-color: #008000\">Danielsoto12</span> │ <span style=\"color: #008000; text-decoration-color: #008000\">GasconWarrior</span> │ <span style=\"color: #008000; text-decoration-color: #008000\">1-0   </span> │ <span style=\"color: #008000; text-decoration-color: #008000\">2024.06.01</span> │ <span style=\"color: #008000; text-decoration-color: #008000\">00:01:21</span> │ <span style=\"color: #008000; text-decoration-color: #008000\">799      </span> │ <span style=\"color: #008000; text-decoration-color: #008000\">886      </span> │ <span style=\"color: #008000; text-decoration-color: #008000\">+22              </span> │ <span style=\"color: #008000; text-decoration-color: #008000\">-7               </span> │ <span style=\"color: #7f7f7f; text-decoration-color: #7f7f7f\">NULL</span>        │ <span style=\"color: #7f7f7f; text-decoration-color: #7f7f7f\">NULL</span>        │ <span style=\"color: #008000; text-decoration-color: #008000\">B01   </span> │ <span style=\"color: #008000; text-decoration-color: #008000\">Scandinavian Defense</span> │ <span style=\"color: #008000; text-decoration-color: #008000\">60+0        </span> │ <span style=\"color: #008000; text-decoration-color: #008000\">Normal     </span> │        <span style=\"color: #008080; text-decoration-color: #008080; font-weight: bold\">7</span> │ <span style=\"color: #008000; text-decoration-color: #008000\">[%eval -1.48] [%clk 0:00:53]</span> │\n",
       "│ <span style=\"color: #008000; text-decoration-color: #008000\">Rated Bullet game</span> │ <a href=\"https://lichess.org/vyEI6vG7\" target=\"_blank\"><span style=\"color: #008000; text-decoration-color: #008000\">https://lichess.org/vyEI6vG7</span></a> │ <span style=\"color: #008000; text-decoration-color: #008000\">2024.06.01</span> │ <span style=\"color: #008000; text-decoration-color: #008000\">-     </span> │ <span style=\"color: #008000; text-decoration-color: #008000\">Danielsoto12</span> │ <span style=\"color: #008000; text-decoration-color: #008000\">GasconWarrior</span> │ <span style=\"color: #008000; text-decoration-color: #008000\">1-0   </span> │ <span style=\"color: #008000; text-decoration-color: #008000\">2024.06.01</span> │ <span style=\"color: #008000; text-decoration-color: #008000\">00:01:21</span> │ <span style=\"color: #008000; text-decoration-color: #008000\">799      </span> │ <span style=\"color: #008000; text-decoration-color: #008000\">886      </span> │ <span style=\"color: #008000; text-decoration-color: #008000\">+22              </span> │ <span style=\"color: #008000; text-decoration-color: #008000\">-7               </span> │ <span style=\"color: #7f7f7f; text-decoration-color: #7f7f7f\">NULL</span>        │ <span style=\"color: #7f7f7f; text-decoration-color: #7f7f7f\">NULL</span>        │ <span style=\"color: #008000; text-decoration-color: #008000\">B01   </span> │ <span style=\"color: #008000; text-decoration-color: #008000\">Scandinavian Defense</span> │ <span style=\"color: #008000; text-decoration-color: #008000\">60+0        </span> │ <span style=\"color: #008000; text-decoration-color: #008000\">Normal     </span> │        <span style=\"color: #008080; text-decoration-color: #008080; font-weight: bold\">8</span> │ <span style=\"color: #008000; text-decoration-color: #008000\">[%eval -0.33] [%clk 0:00:50]</span> │\n",
       "│ <span style=\"color: #008000; text-decoration-color: #008000\">Rated Bullet game</span> │ <a href=\"https://lichess.org/vyEI6vG7\" target=\"_blank\"><span style=\"color: #008000; text-decoration-color: #008000\">https://lichess.org/vyEI6vG7</span></a> │ <span style=\"color: #008000; text-decoration-color: #008000\">2024.06.01</span> │ <span style=\"color: #008000; text-decoration-color: #008000\">-     </span> │ <span style=\"color: #008000; text-decoration-color: #008000\">Danielsoto12</span> │ <span style=\"color: #008000; text-decoration-color: #008000\">GasconWarrior</span> │ <span style=\"color: #008000; text-decoration-color: #008000\">1-0   </span> │ <span style=\"color: #008000; text-decoration-color: #008000\">2024.06.01</span> │ <span style=\"color: #008000; text-decoration-color: #008000\">00:01:21</span> │ <span style=\"color: #008000; text-decoration-color: #008000\">799      </span> │ <span style=\"color: #008000; text-decoration-color: #008000\">886      </span> │ <span style=\"color: #008000; text-decoration-color: #008000\">+22              </span> │ <span style=\"color: #008000; text-decoration-color: #008000\">-7               </span> │ <span style=\"color: #7f7f7f; text-decoration-color: #7f7f7f\">NULL</span>        │ <span style=\"color: #7f7f7f; text-decoration-color: #7f7f7f\">NULL</span>        │ <span style=\"color: #008000; text-decoration-color: #008000\">B01   </span> │ <span style=\"color: #008000; text-decoration-color: #008000\">Scandinavian Defense</span> │ <span style=\"color: #008000; text-decoration-color: #008000\">60+0        </span> │ <span style=\"color: #008000; text-decoration-color: #008000\">Normal     </span> │        <span style=\"color: #008080; text-decoration-color: #008080; font-weight: bold\">9</span> │ <span style=\"color: #008000; text-decoration-color: #008000\">[%eval -0.32] [%clk 0:00:49]</span> │\n",
       "│ <span style=\"color: #008000; text-decoration-color: #008000\">Rated Bullet game</span> │ <a href=\"https://lichess.org/vyEI6vG7\" target=\"_blank\"><span style=\"color: #008000; text-decoration-color: #008000\">https://lichess.org/vyEI6vG7</span></a> │ <span style=\"color: #008000; text-decoration-color: #008000\">2024.06.01</span> │ <span style=\"color: #008000; text-decoration-color: #008000\">-     </span> │ <span style=\"color: #008000; text-decoration-color: #008000\">Danielsoto12</span> │ <span style=\"color: #008000; text-decoration-color: #008000\">GasconWarrior</span> │ <span style=\"color: #008000; text-decoration-color: #008000\">1-0   </span> │ <span style=\"color: #008000; text-decoration-color: #008000\">2024.06.01</span> │ <span style=\"color: #008000; text-decoration-color: #008000\">00:01:21</span> │ <span style=\"color: #008000; text-decoration-color: #008000\">799      </span> │ <span style=\"color: #008000; text-decoration-color: #008000\">886      </span> │ <span style=\"color: #008000; text-decoration-color: #008000\">+22              </span> │ <span style=\"color: #008000; text-decoration-color: #008000\">-7               </span> │ <span style=\"color: #7f7f7f; text-decoration-color: #7f7f7f\">NULL</span>        │ <span style=\"color: #7f7f7f; text-decoration-color: #7f7f7f\">NULL</span>        │ <span style=\"color: #008000; text-decoration-color: #008000\">B01   </span> │ <span style=\"color: #008000; text-decoration-color: #008000\">Scandinavian Defense</span> │ <span style=\"color: #008000; text-decoration-color: #008000\">60+0        </span> │ <span style=\"color: #008000; text-decoration-color: #008000\">Normal     </span> │       <span style=\"color: #008080; text-decoration-color: #008080; font-weight: bold\">10</span> │ <span style=\"color: #008000; text-decoration-color: #008000\">[%eval 5.34] [%clk 0:00:49] </span> │\n",
       "│ <span style=\"color: #7f7f7f; text-decoration-color: #7f7f7f\">…</span>                 │ <span style=\"color: #7f7f7f; text-decoration-color: #7f7f7f\">…</span>                            │ <span style=\"color: #7f7f7f; text-decoration-color: #7f7f7f\">…</span>          │ <span style=\"color: #7f7f7f; text-decoration-color: #7f7f7f\">…</span>      │ <span style=\"color: #7f7f7f; text-decoration-color: #7f7f7f\">…</span>            │ <span style=\"color: #7f7f7f; text-decoration-color: #7f7f7f\">…</span>             │ <span style=\"color: #7f7f7f; text-decoration-color: #7f7f7f\">…</span>      │ <span style=\"color: #7f7f7f; text-decoration-color: #7f7f7f\">…</span>          │ <span style=\"color: #7f7f7f; text-decoration-color: #7f7f7f\">…</span>        │ <span style=\"color: #7f7f7f; text-decoration-color: #7f7f7f\">…</span>         │ <span style=\"color: #7f7f7f; text-decoration-color: #7f7f7f\">…</span>         │ <span style=\"color: #7f7f7f; text-decoration-color: #7f7f7f\">…</span>                 │ <span style=\"color: #7f7f7f; text-decoration-color: #7f7f7f\">…</span>                 │ <span style=\"color: #7f7f7f; text-decoration-color: #7f7f7f\">…</span>           │ <span style=\"color: #7f7f7f; text-decoration-color: #7f7f7f\">…</span>           │ <span style=\"color: #7f7f7f; text-decoration-color: #7f7f7f\">…</span>      │ <span style=\"color: #7f7f7f; text-decoration-color: #7f7f7f\">…</span>                    │ <span style=\"color: #7f7f7f; text-decoration-color: #7f7f7f\">…</span>            │ <span style=\"color: #7f7f7f; text-decoration-color: #7f7f7f\">…</span>           │        <span style=\"color: #7f7f7f; text-decoration-color: #7f7f7f\">…</span> │ <span style=\"color: #7f7f7f; text-decoration-color: #7f7f7f\">…</span>                            │\n",
       "└───────────────────┴──────────────────────────────┴────────────┴────────┴──────────────┴───────────────┴────────┴────────────┴──────────┴───────────┴───────────┴───────────────────┴───────────────────┴─────────────┴─────────────┴────────┴──────────────────────┴──────────────┴─────────────┴──────────┴──────────────────────────────┘\n",
       "</pre>\n"
      ],
      "text/plain": [
       "┏━━━━━━━━━━━━━━━━━━━┳━━━━━━━━━━━━━━━━━━━━━━━━━━━━━━┳━━━━━━━━━━━━┳━━━━━━━━┳━━━━━━━━━━━━━━┳━━━━━━━━━━━━━━━┳━━━━━━━━┳━━━━━━━━━━━━┳━━━━━━━━━━┳━━━━━━━━━━━┳━━━━━━━━━━━┳━━━━━━━━━━━━━━━━━━━┳━━━━━━━━━━━━━━━━━━━┳━━━━━━━━━━━━━┳━━━━━━━━━━━━━┳━━━━━━━━┳━━━━━━━━━━━━━━━━━━━━━━┳━━━━━━━━━━━━━━┳━━━━━━━━━━━━━┳━━━━━━━━━━┳━━━━━━━━━━━━━━━━━━━━━━━━━━━━━━┓\n",
       "┃\u001b[1m \u001b[0m\u001b[1mevent\u001b[0m\u001b[1m            \u001b[0m\u001b[1m \u001b[0m┃\u001b[1m \u001b[0m\u001b[1msite\u001b[0m\u001b[1m                        \u001b[0m\u001b[1m \u001b[0m┃\u001b[1m \u001b[0m\u001b[1mdate\u001b[0m\u001b[1m      \u001b[0m\u001b[1m \u001b[0m┃\u001b[1m \u001b[0m\u001b[1mround\u001b[0m\u001b[1m \u001b[0m\u001b[1m \u001b[0m┃\u001b[1m \u001b[0m\u001b[1mwhite\u001b[0m\u001b[1m       \u001b[0m\u001b[1m \u001b[0m┃\u001b[1m \u001b[0m\u001b[1mblack\u001b[0m\u001b[1m        \u001b[0m\u001b[1m \u001b[0m┃\u001b[1m \u001b[0m\u001b[1mresult\u001b[0m\u001b[1m \u001b[0m┃\u001b[1m \u001b[0m\u001b[1mutc_date\u001b[0m\u001b[1m  \u001b[0m\u001b[1m \u001b[0m┃\u001b[1m \u001b[0m\u001b[1mutc_time\u001b[0m\u001b[1m \u001b[0m┃\u001b[1m \u001b[0m\u001b[1mwhite_elo\u001b[0m\u001b[1m \u001b[0m┃\u001b[1m \u001b[0m\u001b[1mblack_elo\u001b[0m\u001b[1m \u001b[0m┃\u001b[1m \u001b[0m\u001b[1mwhite_rating_diff\u001b[0m\u001b[1m \u001b[0m┃\u001b[1m \u001b[0m\u001b[1mblack_rating_diff\u001b[0m\u001b[1m \u001b[0m┃\u001b[1m \u001b[0m\u001b[1mwhite_title\u001b[0m\u001b[1m \u001b[0m┃\u001b[1m \u001b[0m\u001b[1mblack_title\u001b[0m\u001b[1m \u001b[0m┃\u001b[1m \u001b[0m\u001b[1meco\u001b[0m\u001b[1m   \u001b[0m\u001b[1m \u001b[0m┃\u001b[1m \u001b[0m\u001b[1mopening\u001b[0m\u001b[1m             \u001b[0m\u001b[1m \u001b[0m┃\u001b[1m \u001b[0m\u001b[1mtime_control\u001b[0m\u001b[1m \u001b[0m┃\u001b[1m \u001b[0m\u001b[1mtermination\u001b[0m\u001b[1m \u001b[0m┃\u001b[1m \u001b[0m\u001b[1mmove_ply\u001b[0m\u001b[1m \u001b[0m┃\u001b[1m \u001b[0m\u001b[1mmove_comment\u001b[0m\u001b[1m                \u001b[0m\u001b[1m \u001b[0m┃\n",
       "┡━━━━━━━━━━━━━━━━━━━╇━━━━━━━━━━━━━━━━━━━━━━━━━━━━━━╇━━━━━━━━━━━━╇━━━━━━━━╇━━━━━━━━━━━━━━╇━━━━━━━━━━━━━━━╇━━━━━━━━╇━━━━━━━━━━━━╇━━━━━━━━━━╇━━━━━━━━━━━╇━━━━━━━━━━━╇━━━━━━━━━━━━━━━━━━━╇━━━━━━━━━━━━━━━━━━━╇━━━━━━━━━━━━━╇━━━━━━━━━━━━━╇━━━━━━━━╇━━━━━━━━━━━━━━━━━━━━━━╇━━━━━━━━━━━━━━╇━━━━━━━━━━━━━╇━━━━━━━━━━╇━━━━━━━━━━━━━━━━━━━━━━━━━━━━━━┩\n",
       "│ \u001b[2mstring\u001b[0m            │ \u001b[2mstring\u001b[0m                       │ \u001b[2mstring\u001b[0m     │ \u001b[2mstring\u001b[0m │ \u001b[2mstring\u001b[0m       │ \u001b[2mstring\u001b[0m        │ \u001b[2mstring\u001b[0m │ \u001b[2mstring\u001b[0m     │ \u001b[2mstring\u001b[0m   │ \u001b[2mstring\u001b[0m    │ \u001b[2mstring\u001b[0m    │ \u001b[2mstring\u001b[0m            │ \u001b[2mstring\u001b[0m            │ \u001b[2mstring\u001b[0m      │ \u001b[2mstring\u001b[0m      │ \u001b[2mstring\u001b[0m │ \u001b[2mstring\u001b[0m               │ \u001b[2mstring\u001b[0m       │ \u001b[2mstring\u001b[0m      │ \u001b[2mint64\u001b[0m    │ \u001b[2mstring\u001b[0m                       │\n",
       "├───────────────────┼──────────────────────────────┼────────────┼────────┼──────────────┼───────────────┼────────┼────────────┼──────────┼───────────┼───────────┼───────────────────┼───────────────────┼─────────────┼─────────────┼────────┼──────────────────────┼──────────────┼─────────────┼──────────┼──────────────────────────────┤\n",
       "│ \u001b[32mRated Bullet game\u001b[0m │ \u001b]8;id=518263;https://lichess.org/vyEI6vG7\u001b\\\u001b[32mhttps://lichess.org/vyEI6vG7\u001b[0m\u001b]8;;\u001b\\ │ \u001b[32m2024.06.01\u001b[0m │ \u001b[32m-     \u001b[0m │ \u001b[32mDanielsoto12\u001b[0m │ \u001b[32mGasconWarrior\u001b[0m │ \u001b[32m1-0   \u001b[0m │ \u001b[32m2024.06.01\u001b[0m │ \u001b[32m00:01:21\u001b[0m │ \u001b[32m799      \u001b[0m │ \u001b[32m886      \u001b[0m │ \u001b[32m+22              \u001b[0m │ \u001b[32m-7               \u001b[0m │ \u001b[2mNULL\u001b[0m        │ \u001b[2mNULL\u001b[0m        │ \u001b[32mB01   \u001b[0m │ \u001b[32mScandinavian Defense\u001b[0m │ \u001b[32m60+0        \u001b[0m │ \u001b[32mNormal     \u001b[0m │        \u001b[1;36m1\u001b[0m │ \u001b[32m[%eval 0.15] [%clk 0:01:00] \u001b[0m │\n",
       "│ \u001b[32mRated Bullet game\u001b[0m │ \u001b]8;id=999015;https://lichess.org/vyEI6vG7\u001b\\\u001b[32mhttps://lichess.org/vyEI6vG7\u001b[0m\u001b]8;;\u001b\\ │ \u001b[32m2024.06.01\u001b[0m │ \u001b[32m-     \u001b[0m │ \u001b[32mDanielsoto12\u001b[0m │ \u001b[32mGasconWarrior\u001b[0m │ \u001b[32m1-0   \u001b[0m │ \u001b[32m2024.06.01\u001b[0m │ \u001b[32m00:01:21\u001b[0m │ \u001b[32m799      \u001b[0m │ \u001b[32m886      \u001b[0m │ \u001b[32m+22              \u001b[0m │ \u001b[32m-7               \u001b[0m │ \u001b[2mNULL\u001b[0m        │ \u001b[2mNULL\u001b[0m        │ \u001b[32mB01   \u001b[0m │ \u001b[32mScandinavian Defense\u001b[0m │ \u001b[32m60+0        \u001b[0m │ \u001b[32mNormal     \u001b[0m │        \u001b[1;36m2\u001b[0m │ \u001b[32m[%eval 0.53] [%clk 0:01:00] \u001b[0m │\n",
       "│ \u001b[32mRated Bullet game\u001b[0m │ \u001b]8;id=932344;https://lichess.org/vyEI6vG7\u001b\\\u001b[32mhttps://lichess.org/vyEI6vG7\u001b[0m\u001b]8;;\u001b\\ │ \u001b[32m2024.06.01\u001b[0m │ \u001b[32m-     \u001b[0m │ \u001b[32mDanielsoto12\u001b[0m │ \u001b[32mGasconWarrior\u001b[0m │ \u001b[32m1-0   \u001b[0m │ \u001b[32m2024.06.01\u001b[0m │ \u001b[32m00:01:21\u001b[0m │ \u001b[32m799      \u001b[0m │ \u001b[32m886      \u001b[0m │ \u001b[32m+22              \u001b[0m │ \u001b[32m-7               \u001b[0m │ \u001b[2mNULL\u001b[0m        │ \u001b[2mNULL\u001b[0m        │ \u001b[32mB01   \u001b[0m │ \u001b[32mScandinavian Defense\u001b[0m │ \u001b[32m60+0        \u001b[0m │ \u001b[32mNormal     \u001b[0m │        \u001b[1;36m3\u001b[0m │ \u001b[32m[%eval -0.96] [%clk 0:00:56]\u001b[0m │\n",
       "│ \u001b[32mRated Bullet game\u001b[0m │ \u001b]8;id=79353;https://lichess.org/vyEI6vG7\u001b\\\u001b[32mhttps://lichess.org/vyEI6vG7\u001b[0m\u001b]8;;\u001b\\ │ \u001b[32m2024.06.01\u001b[0m │ \u001b[32m-     \u001b[0m │ \u001b[32mDanielsoto12\u001b[0m │ \u001b[32mGasconWarrior\u001b[0m │ \u001b[32m1-0   \u001b[0m │ \u001b[32m2024.06.01\u001b[0m │ \u001b[32m00:01:21\u001b[0m │ \u001b[32m799      \u001b[0m │ \u001b[32m886      \u001b[0m │ \u001b[32m+22              \u001b[0m │ \u001b[32m-7               \u001b[0m │ \u001b[2mNULL\u001b[0m        │ \u001b[2mNULL\u001b[0m        │ \u001b[32mB01   \u001b[0m │ \u001b[32mScandinavian Defense\u001b[0m │ \u001b[32m60+0        \u001b[0m │ \u001b[32mNormal     \u001b[0m │        \u001b[1;36m4\u001b[0m │ \u001b[32m[%eval -0.98] [%clk 0:00:58]\u001b[0m │\n",
       "│ \u001b[32mRated Bullet game\u001b[0m │ \u001b]8;id=987391;https://lichess.org/vyEI6vG7\u001b\\\u001b[32mhttps://lichess.org/vyEI6vG7\u001b[0m\u001b]8;;\u001b\\ │ \u001b[32m2024.06.01\u001b[0m │ \u001b[32m-     \u001b[0m │ \u001b[32mDanielsoto12\u001b[0m │ \u001b[32mGasconWarrior\u001b[0m │ \u001b[32m1-0   \u001b[0m │ \u001b[32m2024.06.01\u001b[0m │ \u001b[32m00:01:21\u001b[0m │ \u001b[32m799      \u001b[0m │ \u001b[32m886      \u001b[0m │ \u001b[32m+22              \u001b[0m │ \u001b[32m-7               \u001b[0m │ \u001b[2mNULL\u001b[0m        │ \u001b[2mNULL\u001b[0m        │ \u001b[32mB01   \u001b[0m │ \u001b[32mScandinavian Defense\u001b[0m │ \u001b[32m60+0        \u001b[0m │ \u001b[32mNormal     \u001b[0m │        \u001b[1;36m5\u001b[0m │ \u001b[32m[%eval -1.12] [%clk 0:00:55]\u001b[0m │\n",
       "│ \u001b[32mRated Bullet game\u001b[0m │ \u001b]8;id=40342;https://lichess.org/vyEI6vG7\u001b\\\u001b[32mhttps://lichess.org/vyEI6vG7\u001b[0m\u001b]8;;\u001b\\ │ \u001b[32m2024.06.01\u001b[0m │ \u001b[32m-     \u001b[0m │ \u001b[32mDanielsoto12\u001b[0m │ \u001b[32mGasconWarrior\u001b[0m │ \u001b[32m1-0   \u001b[0m │ \u001b[32m2024.06.01\u001b[0m │ \u001b[32m00:01:21\u001b[0m │ \u001b[32m799      \u001b[0m │ \u001b[32m886      \u001b[0m │ \u001b[32m+22              \u001b[0m │ \u001b[32m-7               \u001b[0m │ \u001b[2mNULL\u001b[0m        │ \u001b[2mNULL\u001b[0m        │ \u001b[32mB01   \u001b[0m │ \u001b[32mScandinavian Defense\u001b[0m │ \u001b[32m60+0        \u001b[0m │ \u001b[32mNormal     \u001b[0m │        \u001b[1;36m6\u001b[0m │ \u001b[32m[%eval -0.79] [%clk 0:00:57]\u001b[0m │\n",
       "│ \u001b[32mRated Bullet game\u001b[0m │ \u001b]8;id=716940;https://lichess.org/vyEI6vG7\u001b\\\u001b[32mhttps://lichess.org/vyEI6vG7\u001b[0m\u001b]8;;\u001b\\ │ \u001b[32m2024.06.01\u001b[0m │ \u001b[32m-     \u001b[0m │ \u001b[32mDanielsoto12\u001b[0m │ \u001b[32mGasconWarrior\u001b[0m │ \u001b[32m1-0   \u001b[0m │ \u001b[32m2024.06.01\u001b[0m │ \u001b[32m00:01:21\u001b[0m │ \u001b[32m799      \u001b[0m │ \u001b[32m886      \u001b[0m │ \u001b[32m+22              \u001b[0m │ \u001b[32m-7               \u001b[0m │ \u001b[2mNULL\u001b[0m        │ \u001b[2mNULL\u001b[0m        │ \u001b[32mB01   \u001b[0m │ \u001b[32mScandinavian Defense\u001b[0m │ \u001b[32m60+0        \u001b[0m │ \u001b[32mNormal     \u001b[0m │        \u001b[1;36m7\u001b[0m │ \u001b[32m[%eval -1.48] [%clk 0:00:53]\u001b[0m │\n",
       "│ \u001b[32mRated Bullet game\u001b[0m │ \u001b]8;id=158965;https://lichess.org/vyEI6vG7\u001b\\\u001b[32mhttps://lichess.org/vyEI6vG7\u001b[0m\u001b]8;;\u001b\\ │ \u001b[32m2024.06.01\u001b[0m │ \u001b[32m-     \u001b[0m │ \u001b[32mDanielsoto12\u001b[0m │ \u001b[32mGasconWarrior\u001b[0m │ \u001b[32m1-0   \u001b[0m │ \u001b[32m2024.06.01\u001b[0m │ \u001b[32m00:01:21\u001b[0m │ \u001b[32m799      \u001b[0m │ \u001b[32m886      \u001b[0m │ \u001b[32m+22              \u001b[0m │ \u001b[32m-7               \u001b[0m │ \u001b[2mNULL\u001b[0m        │ \u001b[2mNULL\u001b[0m        │ \u001b[32mB01   \u001b[0m │ \u001b[32mScandinavian Defense\u001b[0m │ \u001b[32m60+0        \u001b[0m │ \u001b[32mNormal     \u001b[0m │        \u001b[1;36m8\u001b[0m │ \u001b[32m[%eval -0.33] [%clk 0:00:50]\u001b[0m │\n",
       "│ \u001b[32mRated Bullet game\u001b[0m │ \u001b]8;id=460193;https://lichess.org/vyEI6vG7\u001b\\\u001b[32mhttps://lichess.org/vyEI6vG7\u001b[0m\u001b]8;;\u001b\\ │ \u001b[32m2024.06.01\u001b[0m │ \u001b[32m-     \u001b[0m │ \u001b[32mDanielsoto12\u001b[0m │ \u001b[32mGasconWarrior\u001b[0m │ \u001b[32m1-0   \u001b[0m │ \u001b[32m2024.06.01\u001b[0m │ \u001b[32m00:01:21\u001b[0m │ \u001b[32m799      \u001b[0m │ \u001b[32m886      \u001b[0m │ \u001b[32m+22              \u001b[0m │ \u001b[32m-7               \u001b[0m │ \u001b[2mNULL\u001b[0m        │ \u001b[2mNULL\u001b[0m        │ \u001b[32mB01   \u001b[0m │ \u001b[32mScandinavian Defense\u001b[0m │ \u001b[32m60+0        \u001b[0m │ \u001b[32mNormal     \u001b[0m │        \u001b[1;36m9\u001b[0m │ \u001b[32m[%eval -0.32] [%clk 0:00:49]\u001b[0m │\n",
       "│ \u001b[32mRated Bullet game\u001b[0m │ \u001b]8;id=49886;https://lichess.org/vyEI6vG7\u001b\\\u001b[32mhttps://lichess.org/vyEI6vG7\u001b[0m\u001b]8;;\u001b\\ │ \u001b[32m2024.06.01\u001b[0m │ \u001b[32m-     \u001b[0m │ \u001b[32mDanielsoto12\u001b[0m │ \u001b[32mGasconWarrior\u001b[0m │ \u001b[32m1-0   \u001b[0m │ \u001b[32m2024.06.01\u001b[0m │ \u001b[32m00:01:21\u001b[0m │ \u001b[32m799      \u001b[0m │ \u001b[32m886      \u001b[0m │ \u001b[32m+22              \u001b[0m │ \u001b[32m-7               \u001b[0m │ \u001b[2mNULL\u001b[0m        │ \u001b[2mNULL\u001b[0m        │ \u001b[32mB01   \u001b[0m │ \u001b[32mScandinavian Defense\u001b[0m │ \u001b[32m60+0        \u001b[0m │ \u001b[32mNormal     \u001b[0m │       \u001b[1;36m10\u001b[0m │ \u001b[32m[%eval 5.34] [%clk 0:00:49] \u001b[0m │\n",
       "│ \u001b[2m…\u001b[0m                 │ \u001b[2m…\u001b[0m                            │ \u001b[2m…\u001b[0m          │ \u001b[2m…\u001b[0m      │ \u001b[2m…\u001b[0m            │ \u001b[2m…\u001b[0m             │ \u001b[2m…\u001b[0m      │ \u001b[2m…\u001b[0m          │ \u001b[2m…\u001b[0m        │ \u001b[2m…\u001b[0m         │ \u001b[2m…\u001b[0m         │ \u001b[2m…\u001b[0m                 │ \u001b[2m…\u001b[0m                 │ \u001b[2m…\u001b[0m           │ \u001b[2m…\u001b[0m           │ \u001b[2m…\u001b[0m      │ \u001b[2m…\u001b[0m                    │ \u001b[2m…\u001b[0m            │ \u001b[2m…\u001b[0m           │        \u001b[2m…\u001b[0m │ \u001b[2m…\u001b[0m                            │\n",
       "└───────────────────┴──────────────────────────────┴────────────┴────────┴──────────────┴───────────────┴────────┴────────────┴──────────┴───────────┴───────────┴───────────────────┴───────────────────┴─────────────┴─────────────┴────────┴──────────────────────┴──────────────┴─────────────┴──────────┴──────────────────────────────┘"
      ]
     },
     "execution_count": 24,
     "metadata": {},
     "output_type": "execute_result"
    }
   ],
   "source": [
    "moves[moves.site == \"https://lichess.org/vyEI6vG7\"]"
   ]
  },
  {
   "cell_type": "code",
   "execution_count": 25,
   "id": "9c60cd3b-fcee-4def-8f9d-8b171cffb613",
   "metadata": {},
   "outputs": [
    {
     "data": {
      "text/html": [
       "<pre style=\"white-space:pre;overflow-x:auto;line-height:normal;font-family:Menlo,'DejaVu Sans Mono',consolas,'Courier New',monospace\">┏━━━━━━━━━━━━━━━━━━━┳━━━━━━━━━━━━━━━━━━━━━━━━━━━━━━┳━━━━━━━━━━━━┳━━━━━━━━┳━━━━━━━━━━━━━━┳━━━━━━━━━━━━━━━┳━━━━━━━━┳━━━━━━━━━━━━┳━━━━━━━━━━┳━━━━━━━━━━━┳━━━━━━━━━━━┳━━━━━━━━━━━━━━━━━━━┳━━━━━━━━━━━━━━━━━━━┳━━━━━━━━━━━━━┳━━━━━━━━━━━━━┳━━━━━━━━┳━━━━━━━━━━━━━━━━━━━━━━┳━━━━━━━━━━━━━━┳━━━━━━━━━━━━━┳━━━━━━━━━━┳━━━━━━━━━━━━━━━━━━━━━━━━━━━━━┓\n",
       "┃<span style=\"font-weight: bold\"> event             </span>┃<span style=\"font-weight: bold\"> site                         </span>┃<span style=\"font-weight: bold\"> date       </span>┃<span style=\"font-weight: bold\"> round  </span>┃<span style=\"font-weight: bold\"> white        </span>┃<span style=\"font-weight: bold\"> black         </span>┃<span style=\"font-weight: bold\"> result </span>┃<span style=\"font-weight: bold\"> utc_date   </span>┃<span style=\"font-weight: bold\"> utc_time </span>┃<span style=\"font-weight: bold\"> white_elo </span>┃<span style=\"font-weight: bold\"> black_elo </span>┃<span style=\"font-weight: bold\"> white_rating_diff </span>┃<span style=\"font-weight: bold\"> black_rating_diff </span>┃<span style=\"font-weight: bold\"> white_title </span>┃<span style=\"font-weight: bold\"> black_title </span>┃<span style=\"font-weight: bold\"> eco    </span>┃<span style=\"font-weight: bold\"> opening              </span>┃<span style=\"font-weight: bold\"> time_control </span>┃<span style=\"font-weight: bold\"> termination </span>┃<span style=\"font-weight: bold\"> move_ply </span>┃<span style=\"font-weight: bold\"> move_comment                </span>┃\n",
       "┡━━━━━━━━━━━━━━━━━━━╇━━━━━━━━━━━━━━━━━━━━━━━━━━━━━━╇━━━━━━━━━━━━╇━━━━━━━━╇━━━━━━━━━━━━━━╇━━━━━━━━━━━━━━━╇━━━━━━━━╇━━━━━━━━━━━━╇━━━━━━━━━━╇━━━━━━━━━━━╇━━━━━━━━━━━╇━━━━━━━━━━━━━━━━━━━╇━━━━━━━━━━━━━━━━━━━╇━━━━━━━━━━━━━╇━━━━━━━━━━━━━╇━━━━━━━━╇━━━━━━━━━━━━━━━━━━━━━━╇━━━━━━━━━━━━━━╇━━━━━━━━━━━━━╇━━━━━━━━━━╇━━━━━━━━━━━━━━━━━━━━━━━━━━━━━┩\n",
       "│ <span style=\"color: #7f7f7f; text-decoration-color: #7f7f7f\">string</span>            │ <span style=\"color: #7f7f7f; text-decoration-color: #7f7f7f\">string</span>                       │ <span style=\"color: #7f7f7f; text-decoration-color: #7f7f7f\">string</span>     │ <span style=\"color: #7f7f7f; text-decoration-color: #7f7f7f\">string</span> │ <span style=\"color: #7f7f7f; text-decoration-color: #7f7f7f\">string</span>       │ <span style=\"color: #7f7f7f; text-decoration-color: #7f7f7f\">string</span>        │ <span style=\"color: #7f7f7f; text-decoration-color: #7f7f7f\">string</span> │ <span style=\"color: #7f7f7f; text-decoration-color: #7f7f7f\">string</span>     │ <span style=\"color: #7f7f7f; text-decoration-color: #7f7f7f\">string</span>   │ <span style=\"color: #7f7f7f; text-decoration-color: #7f7f7f\">string</span>    │ <span style=\"color: #7f7f7f; text-decoration-color: #7f7f7f\">string</span>    │ <span style=\"color: #7f7f7f; text-decoration-color: #7f7f7f\">string</span>            │ <span style=\"color: #7f7f7f; text-decoration-color: #7f7f7f\">string</span>            │ <span style=\"color: #7f7f7f; text-decoration-color: #7f7f7f\">string</span>      │ <span style=\"color: #7f7f7f; text-decoration-color: #7f7f7f\">string</span>      │ <span style=\"color: #7f7f7f; text-decoration-color: #7f7f7f\">string</span> │ <span style=\"color: #7f7f7f; text-decoration-color: #7f7f7f\">string</span>               │ <span style=\"color: #7f7f7f; text-decoration-color: #7f7f7f\">string</span>       │ <span style=\"color: #7f7f7f; text-decoration-color: #7f7f7f\">string</span>      │ <span style=\"color: #7f7f7f; text-decoration-color: #7f7f7f\">int64</span>    │ <span style=\"color: #7f7f7f; text-decoration-color: #7f7f7f\">string</span>                      │\n",
       "├───────────────────┼──────────────────────────────┼────────────┼────────┼──────────────┼───────────────┼────────┼────────────┼──────────┼───────────┼───────────┼───────────────────┼───────────────────┼─────────────┼─────────────┼────────┼──────────────────────┼──────────────┼─────────────┼──────────┼─────────────────────────────┤\n",
       "│ <span style=\"color: #008000; text-decoration-color: #008000\">Rated Bullet game</span> │ <a href=\"https://lichess.org/vyEI6vG7\" target=\"_blank\"><span style=\"color: #008000; text-decoration-color: #008000\">https://lichess.org/vyEI6vG7</span></a> │ <span style=\"color: #008000; text-decoration-color: #008000\">2024.06.01</span> │ <span style=\"color: #008000; text-decoration-color: #008000\">-     </span> │ <span style=\"color: #008000; text-decoration-color: #008000\">Danielsoto12</span> │ <span style=\"color: #008000; text-decoration-color: #008000\">GasconWarrior</span> │ <span style=\"color: #008000; text-decoration-color: #008000\">1-0   </span> │ <span style=\"color: #008000; text-decoration-color: #008000\">2024.06.01</span> │ <span style=\"color: #008000; text-decoration-color: #008000\">00:01:21</span> │ <span style=\"color: #008000; text-decoration-color: #008000\">799      </span> │ <span style=\"color: #008000; text-decoration-color: #008000\">886      </span> │ <span style=\"color: #008000; text-decoration-color: #008000\">+22              </span> │ <span style=\"color: #008000; text-decoration-color: #008000\">-7               </span> │ <span style=\"color: #7f7f7f; text-decoration-color: #7f7f7f\">NULL</span>        │ <span style=\"color: #7f7f7f; text-decoration-color: #7f7f7f\">NULL</span>        │ <span style=\"color: #008000; text-decoration-color: #008000\">B01   </span> │ <span style=\"color: #008000; text-decoration-color: #008000\">Scandinavian Defense</span> │ <span style=\"color: #008000; text-decoration-color: #008000\">60+0        </span> │ <span style=\"color: #008000; text-decoration-color: #008000\">Normal     </span> │       <span style=\"color: #008080; text-decoration-color: #008080; font-weight: bold\">11</span> │ <span style=\"color: #008000; text-decoration-color: #008000\">[%eval 4.44] [%clk 0:00:47]</span> │\n",
       "│ <span style=\"color: #008000; text-decoration-color: #008000\">Rated Bullet game</span> │ <a href=\"https://lichess.org/vyEI6vG7\" target=\"_blank\"><span style=\"color: #008000; text-decoration-color: #008000\">https://lichess.org/vyEI6vG7</span></a> │ <span style=\"color: #008000; text-decoration-color: #008000\">2024.06.01</span> │ <span style=\"color: #008000; text-decoration-color: #008000\">-     </span> │ <span style=\"color: #008000; text-decoration-color: #008000\">Danielsoto12</span> │ <span style=\"color: #008000; text-decoration-color: #008000\">GasconWarrior</span> │ <span style=\"color: #008000; text-decoration-color: #008000\">1-0   </span> │ <span style=\"color: #008000; text-decoration-color: #008000\">2024.06.01</span> │ <span style=\"color: #008000; text-decoration-color: #008000\">00:01:21</span> │ <span style=\"color: #008000; text-decoration-color: #008000\">799      </span> │ <span style=\"color: #008000; text-decoration-color: #008000\">886      </span> │ <span style=\"color: #008000; text-decoration-color: #008000\">+22              </span> │ <span style=\"color: #008000; text-decoration-color: #008000\">-7               </span> │ <span style=\"color: #7f7f7f; text-decoration-color: #7f7f7f\">NULL</span>        │ <span style=\"color: #7f7f7f; text-decoration-color: #7f7f7f\">NULL</span>        │ <span style=\"color: #008000; text-decoration-color: #008000\">B01   </span> │ <span style=\"color: #008000; text-decoration-color: #008000\">Scandinavian Defense</span> │ <span style=\"color: #008000; text-decoration-color: #008000\">60+0        </span> │ <span style=\"color: #008000; text-decoration-color: #008000\">Normal     </span> │       <span style=\"color: #008080; text-decoration-color: #008080; font-weight: bold\">12</span> │ <span style=\"color: #008000; text-decoration-color: #008000\">[%eval 4.71] [%clk 0:00:48]</span> │\n",
       "│ <span style=\"color: #008000; text-decoration-color: #008000\">Rated Bullet game</span> │ <a href=\"https://lichess.org/vyEI6vG7\" target=\"_blank\"><span style=\"color: #008000; text-decoration-color: #008000\">https://lichess.org/vyEI6vG7</span></a> │ <span style=\"color: #008000; text-decoration-color: #008000\">2024.06.01</span> │ <span style=\"color: #008000; text-decoration-color: #008000\">-     </span> │ <span style=\"color: #008000; text-decoration-color: #008000\">Danielsoto12</span> │ <span style=\"color: #008000; text-decoration-color: #008000\">GasconWarrior</span> │ <span style=\"color: #008000; text-decoration-color: #008000\">1-0   </span> │ <span style=\"color: #008000; text-decoration-color: #008000\">2024.06.01</span> │ <span style=\"color: #008000; text-decoration-color: #008000\">00:01:21</span> │ <span style=\"color: #008000; text-decoration-color: #008000\">799      </span> │ <span style=\"color: #008000; text-decoration-color: #008000\">886      </span> │ <span style=\"color: #008000; text-decoration-color: #008000\">+22              </span> │ <span style=\"color: #008000; text-decoration-color: #008000\">-7               </span> │ <span style=\"color: #7f7f7f; text-decoration-color: #7f7f7f\">NULL</span>        │ <span style=\"color: #7f7f7f; text-decoration-color: #7f7f7f\">NULL</span>        │ <span style=\"color: #008000; text-decoration-color: #008000\">B01   </span> │ <span style=\"color: #008000; text-decoration-color: #008000\">Scandinavian Defense</span> │ <span style=\"color: #008000; text-decoration-color: #008000\">60+0        </span> │ <span style=\"color: #008000; text-decoration-color: #008000\">Normal     </span> │       <span style=\"color: #008080; text-decoration-color: #008080; font-weight: bold\">13</span> │ <span style=\"color: #008000; text-decoration-color: #008000\">[%eval 3.78] [%clk 0:00:44]</span> │\n",
       "│ <span style=\"color: #008000; text-decoration-color: #008000\">Rated Bullet game</span> │ <a href=\"https://lichess.org/vyEI6vG7\" target=\"_blank\"><span style=\"color: #008000; text-decoration-color: #008000\">https://lichess.org/vyEI6vG7</span></a> │ <span style=\"color: #008000; text-decoration-color: #008000\">2024.06.01</span> │ <span style=\"color: #008000; text-decoration-color: #008000\">-     </span> │ <span style=\"color: #008000; text-decoration-color: #008000\">Danielsoto12</span> │ <span style=\"color: #008000; text-decoration-color: #008000\">GasconWarrior</span> │ <span style=\"color: #008000; text-decoration-color: #008000\">1-0   </span> │ <span style=\"color: #008000; text-decoration-color: #008000\">2024.06.01</span> │ <span style=\"color: #008000; text-decoration-color: #008000\">00:01:21</span> │ <span style=\"color: #008000; text-decoration-color: #008000\">799      </span> │ <span style=\"color: #008000; text-decoration-color: #008000\">886      </span> │ <span style=\"color: #008000; text-decoration-color: #008000\">+22              </span> │ <span style=\"color: #008000; text-decoration-color: #008000\">-7               </span> │ <span style=\"color: #7f7f7f; text-decoration-color: #7f7f7f\">NULL</span>        │ <span style=\"color: #7f7f7f; text-decoration-color: #7f7f7f\">NULL</span>        │ <span style=\"color: #008000; text-decoration-color: #008000\">B01   </span> │ <span style=\"color: #008000; text-decoration-color: #008000\">Scandinavian Defense</span> │ <span style=\"color: #008000; text-decoration-color: #008000\">60+0        </span> │ <span style=\"color: #008000; text-decoration-color: #008000\">Normal     </span> │       <span style=\"color: #008080; text-decoration-color: #008080; font-weight: bold\">14</span> │ <span style=\"color: #008000; text-decoration-color: #008000\">[%eval 4.85] [%clk 0:00:46]</span> │\n",
       "│ <span style=\"color: #008000; text-decoration-color: #008000\">Rated Bullet game</span> │ <a href=\"https://lichess.org/vyEI6vG7\" target=\"_blank\"><span style=\"color: #008000; text-decoration-color: #008000\">https://lichess.org/vyEI6vG7</span></a> │ <span style=\"color: #008000; text-decoration-color: #008000\">2024.06.01</span> │ <span style=\"color: #008000; text-decoration-color: #008000\">-     </span> │ <span style=\"color: #008000; text-decoration-color: #008000\">Danielsoto12</span> │ <span style=\"color: #008000; text-decoration-color: #008000\">GasconWarrior</span> │ <span style=\"color: #008000; text-decoration-color: #008000\">1-0   </span> │ <span style=\"color: #008000; text-decoration-color: #008000\">2024.06.01</span> │ <span style=\"color: #008000; text-decoration-color: #008000\">00:01:21</span> │ <span style=\"color: #008000; text-decoration-color: #008000\">799      </span> │ <span style=\"color: #008000; text-decoration-color: #008000\">886      </span> │ <span style=\"color: #008000; text-decoration-color: #008000\">+22              </span> │ <span style=\"color: #008000; text-decoration-color: #008000\">-7               </span> │ <span style=\"color: #7f7f7f; text-decoration-color: #7f7f7f\">NULL</span>        │ <span style=\"color: #7f7f7f; text-decoration-color: #7f7f7f\">NULL</span>        │ <span style=\"color: #008000; text-decoration-color: #008000\">B01   </span> │ <span style=\"color: #008000; text-decoration-color: #008000\">Scandinavian Defense</span> │ <span style=\"color: #008000; text-decoration-color: #008000\">60+0        </span> │ <span style=\"color: #008000; text-decoration-color: #008000\">Normal     </span> │       <span style=\"color: #008080; text-decoration-color: #008080; font-weight: bold\">15</span> │ <span style=\"color: #008000; text-decoration-color: #008000\">[%eval 4.59] [%clk 0:00:41]</span> │\n",
       "│ <span style=\"color: #008000; text-decoration-color: #008000\">Rated Bullet game</span> │ <a href=\"https://lichess.org/vyEI6vG7\" target=\"_blank\"><span style=\"color: #008000; text-decoration-color: #008000\">https://lichess.org/vyEI6vG7</span></a> │ <span style=\"color: #008000; text-decoration-color: #008000\">2024.06.01</span> │ <span style=\"color: #008000; text-decoration-color: #008000\">-     </span> │ <span style=\"color: #008000; text-decoration-color: #008000\">Danielsoto12</span> │ <span style=\"color: #008000; text-decoration-color: #008000\">GasconWarrior</span> │ <span style=\"color: #008000; text-decoration-color: #008000\">1-0   </span> │ <span style=\"color: #008000; text-decoration-color: #008000\">2024.06.01</span> │ <span style=\"color: #008000; text-decoration-color: #008000\">00:01:21</span> │ <span style=\"color: #008000; text-decoration-color: #008000\">799      </span> │ <span style=\"color: #008000; text-decoration-color: #008000\">886      </span> │ <span style=\"color: #008000; text-decoration-color: #008000\">+22              </span> │ <span style=\"color: #008000; text-decoration-color: #008000\">-7               </span> │ <span style=\"color: #7f7f7f; text-decoration-color: #7f7f7f\">NULL</span>        │ <span style=\"color: #7f7f7f; text-decoration-color: #7f7f7f\">NULL</span>        │ <span style=\"color: #008000; text-decoration-color: #008000\">B01   </span> │ <span style=\"color: #008000; text-decoration-color: #008000\">Scandinavian Defense</span> │ <span style=\"color: #008000; text-decoration-color: #008000\">60+0        </span> │ <span style=\"color: #008000; text-decoration-color: #008000\">Normal     </span> │       <span style=\"color: #008080; text-decoration-color: #008080; font-weight: bold\">16</span> │ <span style=\"color: #008000; text-decoration-color: #008000\">[%eval 4.6] [%clk 0:00:44] </span> │\n",
       "│ <span style=\"color: #008000; text-decoration-color: #008000\">Rated Bullet game</span> │ <a href=\"https://lichess.org/vyEI6vG7\" target=\"_blank\"><span style=\"color: #008000; text-decoration-color: #008000\">https://lichess.org/vyEI6vG7</span></a> │ <span style=\"color: #008000; text-decoration-color: #008000\">2024.06.01</span> │ <span style=\"color: #008000; text-decoration-color: #008000\">-     </span> │ <span style=\"color: #008000; text-decoration-color: #008000\">Danielsoto12</span> │ <span style=\"color: #008000; text-decoration-color: #008000\">GasconWarrior</span> │ <span style=\"color: #008000; text-decoration-color: #008000\">1-0   </span> │ <span style=\"color: #008000; text-decoration-color: #008000\">2024.06.01</span> │ <span style=\"color: #008000; text-decoration-color: #008000\">00:01:21</span> │ <span style=\"color: #008000; text-decoration-color: #008000\">799      </span> │ <span style=\"color: #008000; text-decoration-color: #008000\">886      </span> │ <span style=\"color: #008000; text-decoration-color: #008000\">+22              </span> │ <span style=\"color: #008000; text-decoration-color: #008000\">-7               </span> │ <span style=\"color: #7f7f7f; text-decoration-color: #7f7f7f\">NULL</span>        │ <span style=\"color: #7f7f7f; text-decoration-color: #7f7f7f\">NULL</span>        │ <span style=\"color: #008000; text-decoration-color: #008000\">B01   </span> │ <span style=\"color: #008000; text-decoration-color: #008000\">Scandinavian Defense</span> │ <span style=\"color: #008000; text-decoration-color: #008000\">60+0        </span> │ <span style=\"color: #008000; text-decoration-color: #008000\">Normal     </span> │       <span style=\"color: #008080; text-decoration-color: #008080; font-weight: bold\">17</span> │ <span style=\"color: #008000; text-decoration-color: #008000\">[%eval 4.5] [%clk 0:00:34] </span> │\n",
       "│ <span style=\"color: #008000; text-decoration-color: #008000\">Rated Bullet game</span> │ <a href=\"https://lichess.org/vyEI6vG7\" target=\"_blank\"><span style=\"color: #008000; text-decoration-color: #008000\">https://lichess.org/vyEI6vG7</span></a> │ <span style=\"color: #008000; text-decoration-color: #008000\">2024.06.01</span> │ <span style=\"color: #008000; text-decoration-color: #008000\">-     </span> │ <span style=\"color: #008000; text-decoration-color: #008000\">Danielsoto12</span> │ <span style=\"color: #008000; text-decoration-color: #008000\">GasconWarrior</span> │ <span style=\"color: #008000; text-decoration-color: #008000\">1-0   </span> │ <span style=\"color: #008000; text-decoration-color: #008000\">2024.06.01</span> │ <span style=\"color: #008000; text-decoration-color: #008000\">00:01:21</span> │ <span style=\"color: #008000; text-decoration-color: #008000\">799      </span> │ <span style=\"color: #008000; text-decoration-color: #008000\">886      </span> │ <span style=\"color: #008000; text-decoration-color: #008000\">+22              </span> │ <span style=\"color: #008000; text-decoration-color: #008000\">-7               </span> │ <span style=\"color: #7f7f7f; text-decoration-color: #7f7f7f\">NULL</span>        │ <span style=\"color: #7f7f7f; text-decoration-color: #7f7f7f\">NULL</span>        │ <span style=\"color: #008000; text-decoration-color: #008000\">B01   </span> │ <span style=\"color: #008000; text-decoration-color: #008000\">Scandinavian Defense</span> │ <span style=\"color: #008000; text-decoration-color: #008000\">60+0        </span> │ <span style=\"color: #008000; text-decoration-color: #008000\">Normal     </span> │       <span style=\"color: #008080; text-decoration-color: #008080; font-weight: bold\">18</span> │ <span style=\"color: #008000; text-decoration-color: #008000\">[%eval 5.26] [%clk 0:00:40]</span> │\n",
       "│ <span style=\"color: #008000; text-decoration-color: #008000\">Rated Bullet game</span> │ <a href=\"https://lichess.org/vyEI6vG7\" target=\"_blank\"><span style=\"color: #008000; text-decoration-color: #008000\">https://lichess.org/vyEI6vG7</span></a> │ <span style=\"color: #008000; text-decoration-color: #008000\">2024.06.01</span> │ <span style=\"color: #008000; text-decoration-color: #008000\">-     </span> │ <span style=\"color: #008000; text-decoration-color: #008000\">Danielsoto12</span> │ <span style=\"color: #008000; text-decoration-color: #008000\">GasconWarrior</span> │ <span style=\"color: #008000; text-decoration-color: #008000\">1-0   </span> │ <span style=\"color: #008000; text-decoration-color: #008000\">2024.06.01</span> │ <span style=\"color: #008000; text-decoration-color: #008000\">00:01:21</span> │ <span style=\"color: #008000; text-decoration-color: #008000\">799      </span> │ <span style=\"color: #008000; text-decoration-color: #008000\">886      </span> │ <span style=\"color: #008000; text-decoration-color: #008000\">+22              </span> │ <span style=\"color: #008000; text-decoration-color: #008000\">-7               </span> │ <span style=\"color: #7f7f7f; text-decoration-color: #7f7f7f\">NULL</span>        │ <span style=\"color: #7f7f7f; text-decoration-color: #7f7f7f\">NULL</span>        │ <span style=\"color: #008000; text-decoration-color: #008000\">B01   </span> │ <span style=\"color: #008000; text-decoration-color: #008000\">Scandinavian Defense</span> │ <span style=\"color: #008000; text-decoration-color: #008000\">60+0        </span> │ <span style=\"color: #008000; text-decoration-color: #008000\">Normal     </span> │       <span style=\"color: #008080; text-decoration-color: #008080; font-weight: bold\">19</span> │ <span style=\"color: #008000; text-decoration-color: #008000\">[%eval 4.69] [%clk 0:00:31]</span> │\n",
       "│ <span style=\"color: #008000; text-decoration-color: #008000\">Rated Bullet game</span> │ <a href=\"https://lichess.org/vyEI6vG7\" target=\"_blank\"><span style=\"color: #008000; text-decoration-color: #008000\">https://lichess.org/vyEI6vG7</span></a> │ <span style=\"color: #008000; text-decoration-color: #008000\">2024.06.01</span> │ <span style=\"color: #008000; text-decoration-color: #008000\">-     </span> │ <span style=\"color: #008000; text-decoration-color: #008000\">Danielsoto12</span> │ <span style=\"color: #008000; text-decoration-color: #008000\">GasconWarrior</span> │ <span style=\"color: #008000; text-decoration-color: #008000\">1-0   </span> │ <span style=\"color: #008000; text-decoration-color: #008000\">2024.06.01</span> │ <span style=\"color: #008000; text-decoration-color: #008000\">00:01:21</span> │ <span style=\"color: #008000; text-decoration-color: #008000\">799      </span> │ <span style=\"color: #008000; text-decoration-color: #008000\">886      </span> │ <span style=\"color: #008000; text-decoration-color: #008000\">+22              </span> │ <span style=\"color: #008000; text-decoration-color: #008000\">-7               </span> │ <span style=\"color: #7f7f7f; text-decoration-color: #7f7f7f\">NULL</span>        │ <span style=\"color: #7f7f7f; text-decoration-color: #7f7f7f\">NULL</span>        │ <span style=\"color: #008000; text-decoration-color: #008000\">B01   </span> │ <span style=\"color: #008000; text-decoration-color: #008000\">Scandinavian Defense</span> │ <span style=\"color: #008000; text-decoration-color: #008000\">60+0        </span> │ <span style=\"color: #008000; text-decoration-color: #008000\">Normal     </span> │       <span style=\"color: #008080; text-decoration-color: #008080; font-weight: bold\">20</span> │ <span style=\"color: #008000; text-decoration-color: #008000\">[%eval 4.88] [%clk 0:00:39]</span> │\n",
       "│ <span style=\"color: #7f7f7f; text-decoration-color: #7f7f7f\">…</span>                 │ <span style=\"color: #7f7f7f; text-decoration-color: #7f7f7f\">…</span>                            │ <span style=\"color: #7f7f7f; text-decoration-color: #7f7f7f\">…</span>          │ <span style=\"color: #7f7f7f; text-decoration-color: #7f7f7f\">…</span>      │ <span style=\"color: #7f7f7f; text-decoration-color: #7f7f7f\">…</span>            │ <span style=\"color: #7f7f7f; text-decoration-color: #7f7f7f\">…</span>             │ <span style=\"color: #7f7f7f; text-decoration-color: #7f7f7f\">…</span>      │ <span style=\"color: #7f7f7f; text-decoration-color: #7f7f7f\">…</span>          │ <span style=\"color: #7f7f7f; text-decoration-color: #7f7f7f\">…</span>        │ <span style=\"color: #7f7f7f; text-decoration-color: #7f7f7f\">…</span>         │ <span style=\"color: #7f7f7f; text-decoration-color: #7f7f7f\">…</span>         │ <span style=\"color: #7f7f7f; text-decoration-color: #7f7f7f\">…</span>                 │ <span style=\"color: #7f7f7f; text-decoration-color: #7f7f7f\">…</span>                 │ <span style=\"color: #7f7f7f; text-decoration-color: #7f7f7f\">…</span>           │ <span style=\"color: #7f7f7f; text-decoration-color: #7f7f7f\">…</span>           │ <span style=\"color: #7f7f7f; text-decoration-color: #7f7f7f\">…</span>      │ <span style=\"color: #7f7f7f; text-decoration-color: #7f7f7f\">…</span>                    │ <span style=\"color: #7f7f7f; text-decoration-color: #7f7f7f\">…</span>            │ <span style=\"color: #7f7f7f; text-decoration-color: #7f7f7f\">…</span>           │        <span style=\"color: #7f7f7f; text-decoration-color: #7f7f7f\">…</span> │ <span style=\"color: #7f7f7f; text-decoration-color: #7f7f7f\">…</span>                           │\n",
       "└───────────────────┴──────────────────────────────┴────────────┴────────┴──────────────┴───────────────┴────────┴────────────┴──────────┴───────────┴───────────┴───────────────────┴───────────────────┴─────────────┴─────────────┴────────┴──────────────────────┴──────────────┴─────────────┴──────────┴─────────────────────────────┘\n",
       "</pre>\n"
      ],
      "text/plain": [
       "┏━━━━━━━━━━━━━━━━━━━┳━━━━━━━━━━━━━━━━━━━━━━━━━━━━━━┳━━━━━━━━━━━━┳━━━━━━━━┳━━━━━━━━━━━━━━┳━━━━━━━━━━━━━━━┳━━━━━━━━┳━━━━━━━━━━━━┳━━━━━━━━━━┳━━━━━━━━━━━┳━━━━━━━━━━━┳━━━━━━━━━━━━━━━━━━━┳━━━━━━━━━━━━━━━━━━━┳━━━━━━━━━━━━━┳━━━━━━━━━━━━━┳━━━━━━━━┳━━━━━━━━━━━━━━━━━━━━━━┳━━━━━━━━━━━━━━┳━━━━━━━━━━━━━┳━━━━━━━━━━┳━━━━━━━━━━━━━━━━━━━━━━━━━━━━━┓\n",
       "┃\u001b[1m \u001b[0m\u001b[1mevent\u001b[0m\u001b[1m            \u001b[0m\u001b[1m \u001b[0m┃\u001b[1m \u001b[0m\u001b[1msite\u001b[0m\u001b[1m                        \u001b[0m\u001b[1m \u001b[0m┃\u001b[1m \u001b[0m\u001b[1mdate\u001b[0m\u001b[1m      \u001b[0m\u001b[1m \u001b[0m┃\u001b[1m \u001b[0m\u001b[1mround\u001b[0m\u001b[1m \u001b[0m\u001b[1m \u001b[0m┃\u001b[1m \u001b[0m\u001b[1mwhite\u001b[0m\u001b[1m       \u001b[0m\u001b[1m \u001b[0m┃\u001b[1m \u001b[0m\u001b[1mblack\u001b[0m\u001b[1m        \u001b[0m\u001b[1m \u001b[0m┃\u001b[1m \u001b[0m\u001b[1mresult\u001b[0m\u001b[1m \u001b[0m┃\u001b[1m \u001b[0m\u001b[1mutc_date\u001b[0m\u001b[1m  \u001b[0m\u001b[1m \u001b[0m┃\u001b[1m \u001b[0m\u001b[1mutc_time\u001b[0m\u001b[1m \u001b[0m┃\u001b[1m \u001b[0m\u001b[1mwhite_elo\u001b[0m\u001b[1m \u001b[0m┃\u001b[1m \u001b[0m\u001b[1mblack_elo\u001b[0m\u001b[1m \u001b[0m┃\u001b[1m \u001b[0m\u001b[1mwhite_rating_diff\u001b[0m\u001b[1m \u001b[0m┃\u001b[1m \u001b[0m\u001b[1mblack_rating_diff\u001b[0m\u001b[1m \u001b[0m┃\u001b[1m \u001b[0m\u001b[1mwhite_title\u001b[0m\u001b[1m \u001b[0m┃\u001b[1m \u001b[0m\u001b[1mblack_title\u001b[0m\u001b[1m \u001b[0m┃\u001b[1m \u001b[0m\u001b[1meco\u001b[0m\u001b[1m   \u001b[0m\u001b[1m \u001b[0m┃\u001b[1m \u001b[0m\u001b[1mopening\u001b[0m\u001b[1m             \u001b[0m\u001b[1m \u001b[0m┃\u001b[1m \u001b[0m\u001b[1mtime_control\u001b[0m\u001b[1m \u001b[0m┃\u001b[1m \u001b[0m\u001b[1mtermination\u001b[0m\u001b[1m \u001b[0m┃\u001b[1m \u001b[0m\u001b[1mmove_ply\u001b[0m\u001b[1m \u001b[0m┃\u001b[1m \u001b[0m\u001b[1mmove_comment\u001b[0m\u001b[1m               \u001b[0m\u001b[1m \u001b[0m┃\n",
       "┡━━━━━━━━━━━━━━━━━━━╇━━━━━━━━━━━━━━━━━━━━━━━━━━━━━━╇━━━━━━━━━━━━╇━━━━━━━━╇━━━━━━━━━━━━━━╇━━━━━━━━━━━━━━━╇━━━━━━━━╇━━━━━━━━━━━━╇━━━━━━━━━━╇━━━━━━━━━━━╇━━━━━━━━━━━╇━━━━━━━━━━━━━━━━━━━╇━━━━━━━━━━━━━━━━━━━╇━━━━━━━━━━━━━╇━━━━━━━━━━━━━╇━━━━━━━━╇━━━━━━━━━━━━━━━━━━━━━━╇━━━━━━━━━━━━━━╇━━━━━━━━━━━━━╇━━━━━━━━━━╇━━━━━━━━━━━━━━━━━━━━━━━━━━━━━┩\n",
       "│ \u001b[2mstring\u001b[0m            │ \u001b[2mstring\u001b[0m                       │ \u001b[2mstring\u001b[0m     │ \u001b[2mstring\u001b[0m │ \u001b[2mstring\u001b[0m       │ \u001b[2mstring\u001b[0m        │ \u001b[2mstring\u001b[0m │ \u001b[2mstring\u001b[0m     │ \u001b[2mstring\u001b[0m   │ \u001b[2mstring\u001b[0m    │ \u001b[2mstring\u001b[0m    │ \u001b[2mstring\u001b[0m            │ \u001b[2mstring\u001b[0m            │ \u001b[2mstring\u001b[0m      │ \u001b[2mstring\u001b[0m      │ \u001b[2mstring\u001b[0m │ \u001b[2mstring\u001b[0m               │ \u001b[2mstring\u001b[0m       │ \u001b[2mstring\u001b[0m      │ \u001b[2mint64\u001b[0m    │ \u001b[2mstring\u001b[0m                      │\n",
       "├───────────────────┼──────────────────────────────┼────────────┼────────┼──────────────┼───────────────┼────────┼────────────┼──────────┼───────────┼───────────┼───────────────────┼───────────────────┼─────────────┼─────────────┼────────┼──────────────────────┼──────────────┼─────────────┼──────────┼─────────────────────────────┤\n",
       "│ \u001b[32mRated Bullet game\u001b[0m │ \u001b]8;id=638588;https://lichess.org/vyEI6vG7\u001b\\\u001b[32mhttps://lichess.org/vyEI6vG7\u001b[0m\u001b]8;;\u001b\\ │ \u001b[32m2024.06.01\u001b[0m │ \u001b[32m-     \u001b[0m │ \u001b[32mDanielsoto12\u001b[0m │ \u001b[32mGasconWarrior\u001b[0m │ \u001b[32m1-0   \u001b[0m │ \u001b[32m2024.06.01\u001b[0m │ \u001b[32m00:01:21\u001b[0m │ \u001b[32m799      \u001b[0m │ \u001b[32m886      \u001b[0m │ \u001b[32m+22              \u001b[0m │ \u001b[32m-7               \u001b[0m │ \u001b[2mNULL\u001b[0m        │ \u001b[2mNULL\u001b[0m        │ \u001b[32mB01   \u001b[0m │ \u001b[32mScandinavian Defense\u001b[0m │ \u001b[32m60+0        \u001b[0m │ \u001b[32mNormal     \u001b[0m │       \u001b[1;36m11\u001b[0m │ \u001b[32m[%eval 4.44] [%clk 0:00:47]\u001b[0m │\n",
       "│ \u001b[32mRated Bullet game\u001b[0m │ \u001b]8;id=856524;https://lichess.org/vyEI6vG7\u001b\\\u001b[32mhttps://lichess.org/vyEI6vG7\u001b[0m\u001b]8;;\u001b\\ │ \u001b[32m2024.06.01\u001b[0m │ \u001b[32m-     \u001b[0m │ \u001b[32mDanielsoto12\u001b[0m │ \u001b[32mGasconWarrior\u001b[0m │ \u001b[32m1-0   \u001b[0m │ \u001b[32m2024.06.01\u001b[0m │ \u001b[32m00:01:21\u001b[0m │ \u001b[32m799      \u001b[0m │ \u001b[32m886      \u001b[0m │ \u001b[32m+22              \u001b[0m │ \u001b[32m-7               \u001b[0m │ \u001b[2mNULL\u001b[0m        │ \u001b[2mNULL\u001b[0m        │ \u001b[32mB01   \u001b[0m │ \u001b[32mScandinavian Defense\u001b[0m │ \u001b[32m60+0        \u001b[0m │ \u001b[32mNormal     \u001b[0m │       \u001b[1;36m12\u001b[0m │ \u001b[32m[%eval 4.71] [%clk 0:00:48]\u001b[0m │\n",
       "│ \u001b[32mRated Bullet game\u001b[0m │ \u001b]8;id=761718;https://lichess.org/vyEI6vG7\u001b\\\u001b[32mhttps://lichess.org/vyEI6vG7\u001b[0m\u001b]8;;\u001b\\ │ \u001b[32m2024.06.01\u001b[0m │ \u001b[32m-     \u001b[0m │ \u001b[32mDanielsoto12\u001b[0m │ \u001b[32mGasconWarrior\u001b[0m │ \u001b[32m1-0   \u001b[0m │ \u001b[32m2024.06.01\u001b[0m │ \u001b[32m00:01:21\u001b[0m │ \u001b[32m799      \u001b[0m │ \u001b[32m886      \u001b[0m │ \u001b[32m+22              \u001b[0m │ \u001b[32m-7               \u001b[0m │ \u001b[2mNULL\u001b[0m        │ \u001b[2mNULL\u001b[0m        │ \u001b[32mB01   \u001b[0m │ \u001b[32mScandinavian Defense\u001b[0m │ \u001b[32m60+0        \u001b[0m │ \u001b[32mNormal     \u001b[0m │       \u001b[1;36m13\u001b[0m │ \u001b[32m[%eval 3.78] [%clk 0:00:44]\u001b[0m │\n",
       "│ \u001b[32mRated Bullet game\u001b[0m │ \u001b]8;id=583733;https://lichess.org/vyEI6vG7\u001b\\\u001b[32mhttps://lichess.org/vyEI6vG7\u001b[0m\u001b]8;;\u001b\\ │ \u001b[32m2024.06.01\u001b[0m │ \u001b[32m-     \u001b[0m │ \u001b[32mDanielsoto12\u001b[0m │ \u001b[32mGasconWarrior\u001b[0m │ \u001b[32m1-0   \u001b[0m │ \u001b[32m2024.06.01\u001b[0m │ \u001b[32m00:01:21\u001b[0m │ \u001b[32m799      \u001b[0m │ \u001b[32m886      \u001b[0m │ \u001b[32m+22              \u001b[0m │ \u001b[32m-7               \u001b[0m │ \u001b[2mNULL\u001b[0m        │ \u001b[2mNULL\u001b[0m        │ \u001b[32mB01   \u001b[0m │ \u001b[32mScandinavian Defense\u001b[0m │ \u001b[32m60+0        \u001b[0m │ \u001b[32mNormal     \u001b[0m │       \u001b[1;36m14\u001b[0m │ \u001b[32m[%eval 4.85] [%clk 0:00:46]\u001b[0m │\n",
       "│ \u001b[32mRated Bullet game\u001b[0m │ \u001b]8;id=180603;https://lichess.org/vyEI6vG7\u001b\\\u001b[32mhttps://lichess.org/vyEI6vG7\u001b[0m\u001b]8;;\u001b\\ │ \u001b[32m2024.06.01\u001b[0m │ \u001b[32m-     \u001b[0m │ \u001b[32mDanielsoto12\u001b[0m │ \u001b[32mGasconWarrior\u001b[0m │ \u001b[32m1-0   \u001b[0m │ \u001b[32m2024.06.01\u001b[0m │ \u001b[32m00:01:21\u001b[0m │ \u001b[32m799      \u001b[0m │ \u001b[32m886      \u001b[0m │ \u001b[32m+22              \u001b[0m │ \u001b[32m-7               \u001b[0m │ \u001b[2mNULL\u001b[0m        │ \u001b[2mNULL\u001b[0m        │ \u001b[32mB01   \u001b[0m │ \u001b[32mScandinavian Defense\u001b[0m │ \u001b[32m60+0        \u001b[0m │ \u001b[32mNormal     \u001b[0m │       \u001b[1;36m15\u001b[0m │ \u001b[32m[%eval 4.59] [%clk 0:00:41]\u001b[0m │\n",
       "│ \u001b[32mRated Bullet game\u001b[0m │ \u001b]8;id=479668;https://lichess.org/vyEI6vG7\u001b\\\u001b[32mhttps://lichess.org/vyEI6vG7\u001b[0m\u001b]8;;\u001b\\ │ \u001b[32m2024.06.01\u001b[0m │ \u001b[32m-     \u001b[0m │ \u001b[32mDanielsoto12\u001b[0m │ \u001b[32mGasconWarrior\u001b[0m │ \u001b[32m1-0   \u001b[0m │ \u001b[32m2024.06.01\u001b[0m │ \u001b[32m00:01:21\u001b[0m │ \u001b[32m799      \u001b[0m │ \u001b[32m886      \u001b[0m │ \u001b[32m+22              \u001b[0m │ \u001b[32m-7               \u001b[0m │ \u001b[2mNULL\u001b[0m        │ \u001b[2mNULL\u001b[0m        │ \u001b[32mB01   \u001b[0m │ \u001b[32mScandinavian Defense\u001b[0m │ \u001b[32m60+0        \u001b[0m │ \u001b[32mNormal     \u001b[0m │       \u001b[1;36m16\u001b[0m │ \u001b[32m[%eval 4.6] [%clk 0:00:44] \u001b[0m │\n",
       "│ \u001b[32mRated Bullet game\u001b[0m │ \u001b]8;id=206710;https://lichess.org/vyEI6vG7\u001b\\\u001b[32mhttps://lichess.org/vyEI6vG7\u001b[0m\u001b]8;;\u001b\\ │ \u001b[32m2024.06.01\u001b[0m │ \u001b[32m-     \u001b[0m │ \u001b[32mDanielsoto12\u001b[0m │ \u001b[32mGasconWarrior\u001b[0m │ \u001b[32m1-0   \u001b[0m │ \u001b[32m2024.06.01\u001b[0m │ \u001b[32m00:01:21\u001b[0m │ \u001b[32m799      \u001b[0m │ \u001b[32m886      \u001b[0m │ \u001b[32m+22              \u001b[0m │ \u001b[32m-7               \u001b[0m │ \u001b[2mNULL\u001b[0m        │ \u001b[2mNULL\u001b[0m        │ \u001b[32mB01   \u001b[0m │ \u001b[32mScandinavian Defense\u001b[0m │ \u001b[32m60+0        \u001b[0m │ \u001b[32mNormal     \u001b[0m │       \u001b[1;36m17\u001b[0m │ \u001b[32m[%eval 4.5] [%clk 0:00:34] \u001b[0m │\n",
       "│ \u001b[32mRated Bullet game\u001b[0m │ \u001b]8;id=700475;https://lichess.org/vyEI6vG7\u001b\\\u001b[32mhttps://lichess.org/vyEI6vG7\u001b[0m\u001b]8;;\u001b\\ │ \u001b[32m2024.06.01\u001b[0m │ \u001b[32m-     \u001b[0m │ \u001b[32mDanielsoto12\u001b[0m │ \u001b[32mGasconWarrior\u001b[0m │ \u001b[32m1-0   \u001b[0m │ \u001b[32m2024.06.01\u001b[0m │ \u001b[32m00:01:21\u001b[0m │ \u001b[32m799      \u001b[0m │ \u001b[32m886      \u001b[0m │ \u001b[32m+22              \u001b[0m │ \u001b[32m-7               \u001b[0m │ \u001b[2mNULL\u001b[0m        │ \u001b[2mNULL\u001b[0m        │ \u001b[32mB01   \u001b[0m │ \u001b[32mScandinavian Defense\u001b[0m │ \u001b[32m60+0        \u001b[0m │ \u001b[32mNormal     \u001b[0m │       \u001b[1;36m18\u001b[0m │ \u001b[32m[%eval 5.26] [%clk 0:00:40]\u001b[0m │\n",
       "│ \u001b[32mRated Bullet game\u001b[0m │ \u001b]8;id=639007;https://lichess.org/vyEI6vG7\u001b\\\u001b[32mhttps://lichess.org/vyEI6vG7\u001b[0m\u001b]8;;\u001b\\ │ \u001b[32m2024.06.01\u001b[0m │ \u001b[32m-     \u001b[0m │ \u001b[32mDanielsoto12\u001b[0m │ \u001b[32mGasconWarrior\u001b[0m │ \u001b[32m1-0   \u001b[0m │ \u001b[32m2024.06.01\u001b[0m │ \u001b[32m00:01:21\u001b[0m │ \u001b[32m799      \u001b[0m │ \u001b[32m886      \u001b[0m │ \u001b[32m+22              \u001b[0m │ \u001b[32m-7               \u001b[0m │ \u001b[2mNULL\u001b[0m        │ \u001b[2mNULL\u001b[0m        │ \u001b[32mB01   \u001b[0m │ \u001b[32mScandinavian Defense\u001b[0m │ \u001b[32m60+0        \u001b[0m │ \u001b[32mNormal     \u001b[0m │       \u001b[1;36m19\u001b[0m │ \u001b[32m[%eval 4.69] [%clk 0:00:31]\u001b[0m │\n",
       "│ \u001b[32mRated Bullet game\u001b[0m │ \u001b]8;id=454735;https://lichess.org/vyEI6vG7\u001b\\\u001b[32mhttps://lichess.org/vyEI6vG7\u001b[0m\u001b]8;;\u001b\\ │ \u001b[32m2024.06.01\u001b[0m │ \u001b[32m-     \u001b[0m │ \u001b[32mDanielsoto12\u001b[0m │ \u001b[32mGasconWarrior\u001b[0m │ \u001b[32m1-0   \u001b[0m │ \u001b[32m2024.06.01\u001b[0m │ \u001b[32m00:01:21\u001b[0m │ \u001b[32m799      \u001b[0m │ \u001b[32m886      \u001b[0m │ \u001b[32m+22              \u001b[0m │ \u001b[32m-7               \u001b[0m │ \u001b[2mNULL\u001b[0m        │ \u001b[2mNULL\u001b[0m        │ \u001b[32mB01   \u001b[0m │ \u001b[32mScandinavian Defense\u001b[0m │ \u001b[32m60+0        \u001b[0m │ \u001b[32mNormal     \u001b[0m │       \u001b[1;36m20\u001b[0m │ \u001b[32m[%eval 4.88] [%clk 0:00:39]\u001b[0m │\n",
       "│ \u001b[2m…\u001b[0m                 │ \u001b[2m…\u001b[0m                            │ \u001b[2m…\u001b[0m          │ \u001b[2m…\u001b[0m      │ \u001b[2m…\u001b[0m            │ \u001b[2m…\u001b[0m             │ \u001b[2m…\u001b[0m      │ \u001b[2m…\u001b[0m          │ \u001b[2m…\u001b[0m        │ \u001b[2m…\u001b[0m         │ \u001b[2m…\u001b[0m         │ \u001b[2m…\u001b[0m                 │ \u001b[2m…\u001b[0m                 │ \u001b[2m…\u001b[0m           │ \u001b[2m…\u001b[0m           │ \u001b[2m…\u001b[0m      │ \u001b[2m…\u001b[0m                    │ \u001b[2m…\u001b[0m            │ \u001b[2m…\u001b[0m           │        \u001b[2m…\u001b[0m │ \u001b[2m…\u001b[0m                           │\n",
       "└───────────────────┴──────────────────────────────┴────────────┴────────┴──────────────┴───────────────┴────────┴────────────┴──────────┴───────────┴───────────┴───────────────────┴───────────────────┴─────────────┴─────────────┴────────┴──────────────────────┴──────────────┴─────────────┴──────────┴─────────────────────────────┘"
      ]
     },
     "execution_count": 25,
     "metadata": {},
     "output_type": "execute_result"
    }
   ],
   "source": [
    "moves[(moves.site == \"https://lichess.org/vyEI6vG7\") & (moves.move_ply > 10)]"
   ]
  },
  {
   "cell_type": "code",
   "execution_count": 26,
   "id": "7f4c91bb-f785-4a6d-a4c0-49a8dbace378",
   "metadata": {},
   "outputs": [
    {
     "data": {
      "text/html": [
       "<pre style=\"white-space:pre;overflow-x:auto;line-height:normal;font-family:Menlo,'DejaVu Sans Mono',consolas,'Courier New',monospace\">┏━━━━━━━━━━━━━━━━━━━┳━━━━━━━━━━━━━━━━━━━━━━━━━━━━━━┳━━━━━━━━━━━━┳━━━━━━━━┳━━━━━━━━━━━━━━┳━━━━━━━━━━━━━━━┳━━━━━━━━┳━━━━━━━━━━━━┳━━━━━━━━━━┳━━━━━━━━━━━┳━━━━━━━━━━━┳━━━━━━━━━━━━━━━━━━━┳━━━━━━━━━━━━━━━━━━━┳━━━━━━━━━━━━━┳━━━━━━━━━━━━━┳━━━━━━━━┳━━━━━━━━━━━━━━━━━━━━━━┳━━━━━━━━━━━━━━┳━━━━━━━━━━━━━┳━━━━━━━━━━┳━━━━━━━━━━━━━━━━━━━━━━━━━━━━━━┓\n",
       "┃<span style=\"font-weight: bold\"> event             </span>┃<span style=\"font-weight: bold\"> site                         </span>┃<span style=\"font-weight: bold\"> date       </span>┃<span style=\"font-weight: bold\"> round  </span>┃<span style=\"font-weight: bold\"> white        </span>┃<span style=\"font-weight: bold\"> black         </span>┃<span style=\"font-weight: bold\"> result </span>┃<span style=\"font-weight: bold\"> utc_date   </span>┃<span style=\"font-weight: bold\"> utc_time </span>┃<span style=\"font-weight: bold\"> white_elo </span>┃<span style=\"font-weight: bold\"> black_elo </span>┃<span style=\"font-weight: bold\"> white_rating_diff </span>┃<span style=\"font-weight: bold\"> black_rating_diff </span>┃<span style=\"font-weight: bold\"> white_title </span>┃<span style=\"font-weight: bold\"> black_title </span>┃<span style=\"font-weight: bold\"> eco    </span>┃<span style=\"font-weight: bold\"> opening              </span>┃<span style=\"font-weight: bold\"> time_control </span>┃<span style=\"font-weight: bold\"> termination </span>┃<span style=\"font-weight: bold\"> move_ply </span>┃<span style=\"font-weight: bold\"> move_comment                 </span>┃\n",
       "┡━━━━━━━━━━━━━━━━━━━╇━━━━━━━━━━━━━━━━━━━━━━━━━━━━━━╇━━━━━━━━━━━━╇━━━━━━━━╇━━━━━━━━━━━━━━╇━━━━━━━━━━━━━━━╇━━━━━━━━╇━━━━━━━━━━━━╇━━━━━━━━━━╇━━━━━━━━━━━╇━━━━━━━━━━━╇━━━━━━━━━━━━━━━━━━━╇━━━━━━━━━━━━━━━━━━━╇━━━━━━━━━━━━━╇━━━━━━━━━━━━━╇━━━━━━━━╇━━━━━━━━━━━━━━━━━━━━━━╇━━━━━━━━━━━━━━╇━━━━━━━━━━━━━╇━━━━━━━━━━╇━━━━━━━━━━━━━━━━━━━━━━━━━━━━━━┩\n",
       "│ <span style=\"color: #7f7f7f; text-decoration-color: #7f7f7f\">string</span>            │ <span style=\"color: #7f7f7f; text-decoration-color: #7f7f7f\">string</span>                       │ <span style=\"color: #7f7f7f; text-decoration-color: #7f7f7f\">string</span>     │ <span style=\"color: #7f7f7f; text-decoration-color: #7f7f7f\">string</span> │ <span style=\"color: #7f7f7f; text-decoration-color: #7f7f7f\">string</span>       │ <span style=\"color: #7f7f7f; text-decoration-color: #7f7f7f\">string</span>        │ <span style=\"color: #7f7f7f; text-decoration-color: #7f7f7f\">string</span> │ <span style=\"color: #7f7f7f; text-decoration-color: #7f7f7f\">string</span>     │ <span style=\"color: #7f7f7f; text-decoration-color: #7f7f7f\">string</span>   │ <span style=\"color: #7f7f7f; text-decoration-color: #7f7f7f\">string</span>    │ <span style=\"color: #7f7f7f; text-decoration-color: #7f7f7f\">string</span>    │ <span style=\"color: #7f7f7f; text-decoration-color: #7f7f7f\">string</span>            │ <span style=\"color: #7f7f7f; text-decoration-color: #7f7f7f\">string</span>            │ <span style=\"color: #7f7f7f; text-decoration-color: #7f7f7f\">string</span>      │ <span style=\"color: #7f7f7f; text-decoration-color: #7f7f7f\">string</span>      │ <span style=\"color: #7f7f7f; text-decoration-color: #7f7f7f\">string</span> │ <span style=\"color: #7f7f7f; text-decoration-color: #7f7f7f\">string</span>               │ <span style=\"color: #7f7f7f; text-decoration-color: #7f7f7f\">string</span>       │ <span style=\"color: #7f7f7f; text-decoration-color: #7f7f7f\">string</span>      │ <span style=\"color: #7f7f7f; text-decoration-color: #7f7f7f\">int64</span>    │ <span style=\"color: #7f7f7f; text-decoration-color: #7f7f7f\">string</span>                       │\n",
       "├───────────────────┼──────────────────────────────┼────────────┼────────┼──────────────┼───────────────┼────────┼────────────┼──────────┼───────────┼───────────┼───────────────────┼───────────────────┼─────────────┼─────────────┼────────┼──────────────────────┼──────────────┼─────────────┼──────────┼──────────────────────────────┤\n",
       "│ <span style=\"color: #008000; text-decoration-color: #008000\">Rated Bullet game</span> │ <a href=\"https://lichess.org/vyEI6vG7\" target=\"_blank\"><span style=\"color: #008000; text-decoration-color: #008000\">https://lichess.org/vyEI6vG7</span></a> │ <span style=\"color: #008000; text-decoration-color: #008000\">2024.06.01</span> │ <span style=\"color: #008000; text-decoration-color: #008000\">-     </span> │ <span style=\"color: #008000; text-decoration-color: #008000\">Danielsoto12</span> │ <span style=\"color: #008000; text-decoration-color: #008000\">GasconWarrior</span> │ <span style=\"color: #008000; text-decoration-color: #008000\">1-0   </span> │ <span style=\"color: #008000; text-decoration-color: #008000\">2024.06.01</span> │ <span style=\"color: #008000; text-decoration-color: #008000\">00:01:21</span> │ <span style=\"color: #008000; text-decoration-color: #008000\">799      </span> │ <span style=\"color: #008000; text-decoration-color: #008000\">886      </span> │ <span style=\"color: #008000; text-decoration-color: #008000\">+22              </span> │ <span style=\"color: #008000; text-decoration-color: #008000\">-7               </span> │ <span style=\"color: #7f7f7f; text-decoration-color: #7f7f7f\">NULL</span>        │ <span style=\"color: #7f7f7f; text-decoration-color: #7f7f7f\">NULL</span>        │ <span style=\"color: #008000; text-decoration-color: #008000\">B01   </span> │ <span style=\"color: #008000; text-decoration-color: #008000\">Scandinavian Defense</span> │ <span style=\"color: #008000; text-decoration-color: #008000\">60+0        </span> │ <span style=\"color: #008000; text-decoration-color: #008000\">Normal     </span> │       <span style=\"color: #008080; text-decoration-color: #008080; font-weight: bold\">21</span> │ <span style=\"color: #008000; text-decoration-color: #008000\">[%eval 4.66] [%clk 0:00:22] </span> │\n",
       "│ <span style=\"color: #008000; text-decoration-color: #008000\">Rated Bullet game</span> │ <a href=\"https://lichess.org/vyEI6vG7\" target=\"_blank\"><span style=\"color: #008000; text-decoration-color: #008000\">https://lichess.org/vyEI6vG7</span></a> │ <span style=\"color: #008000; text-decoration-color: #008000\">2024.06.01</span> │ <span style=\"color: #008000; text-decoration-color: #008000\">-     </span> │ <span style=\"color: #008000; text-decoration-color: #008000\">Danielsoto12</span> │ <span style=\"color: #008000; text-decoration-color: #008000\">GasconWarrior</span> │ <span style=\"color: #008000; text-decoration-color: #008000\">1-0   </span> │ <span style=\"color: #008000; text-decoration-color: #008000\">2024.06.01</span> │ <span style=\"color: #008000; text-decoration-color: #008000\">00:01:21</span> │ <span style=\"color: #008000; text-decoration-color: #008000\">799      </span> │ <span style=\"color: #008000; text-decoration-color: #008000\">886      </span> │ <span style=\"color: #008000; text-decoration-color: #008000\">+22              </span> │ <span style=\"color: #008000; text-decoration-color: #008000\">-7               </span> │ <span style=\"color: #7f7f7f; text-decoration-color: #7f7f7f\">NULL</span>        │ <span style=\"color: #7f7f7f; text-decoration-color: #7f7f7f\">NULL</span>        │ <span style=\"color: #008000; text-decoration-color: #008000\">B01   </span> │ <span style=\"color: #008000; text-decoration-color: #008000\">Scandinavian Defense</span> │ <span style=\"color: #008000; text-decoration-color: #008000\">60+0        </span> │ <span style=\"color: #008000; text-decoration-color: #008000\">Normal     </span> │       <span style=\"color: #008080; text-decoration-color: #008080; font-weight: bold\">22</span> │ <span style=\"color: #008000; text-decoration-color: #008000\">[%eval 4.62] [%clk 0:00:34] </span> │\n",
       "│ <span style=\"color: #008000; text-decoration-color: #008000\">Rated Bullet game</span> │ <a href=\"https://lichess.org/vyEI6vG7\" target=\"_blank\"><span style=\"color: #008000; text-decoration-color: #008000\">https://lichess.org/vyEI6vG7</span></a> │ <span style=\"color: #008000; text-decoration-color: #008000\">2024.06.01</span> │ <span style=\"color: #008000; text-decoration-color: #008000\">-     </span> │ <span style=\"color: #008000; text-decoration-color: #008000\">Danielsoto12</span> │ <span style=\"color: #008000; text-decoration-color: #008000\">GasconWarrior</span> │ <span style=\"color: #008000; text-decoration-color: #008000\">1-0   </span> │ <span style=\"color: #008000; text-decoration-color: #008000\">2024.06.01</span> │ <span style=\"color: #008000; text-decoration-color: #008000\">00:01:21</span> │ <span style=\"color: #008000; text-decoration-color: #008000\">799      </span> │ <span style=\"color: #008000; text-decoration-color: #008000\">886      </span> │ <span style=\"color: #008000; text-decoration-color: #008000\">+22              </span> │ <span style=\"color: #008000; text-decoration-color: #008000\">-7               </span> │ <span style=\"color: #7f7f7f; text-decoration-color: #7f7f7f\">NULL</span>        │ <span style=\"color: #7f7f7f; text-decoration-color: #7f7f7f\">NULL</span>        │ <span style=\"color: #008000; text-decoration-color: #008000\">B01   </span> │ <span style=\"color: #008000; text-decoration-color: #008000\">Scandinavian Defense</span> │ <span style=\"color: #008000; text-decoration-color: #008000\">60+0        </span> │ <span style=\"color: #008000; text-decoration-color: #008000\">Normal     </span> │       <span style=\"color: #008080; text-decoration-color: #008080; font-weight: bold\">23</span> │ <span style=\"color: #008000; text-decoration-color: #008000\">[%eval 4.62] [%clk 0:00:19] </span> │\n",
       "│ <span style=\"color: #008000; text-decoration-color: #008000\">Rated Bullet game</span> │ <a href=\"https://lichess.org/vyEI6vG7\" target=\"_blank\"><span style=\"color: #008000; text-decoration-color: #008000\">https://lichess.org/vyEI6vG7</span></a> │ <span style=\"color: #008000; text-decoration-color: #008000\">2024.06.01</span> │ <span style=\"color: #008000; text-decoration-color: #008000\">-     </span> │ <span style=\"color: #008000; text-decoration-color: #008000\">Danielsoto12</span> │ <span style=\"color: #008000; text-decoration-color: #008000\">GasconWarrior</span> │ <span style=\"color: #008000; text-decoration-color: #008000\">1-0   </span> │ <span style=\"color: #008000; text-decoration-color: #008000\">2024.06.01</span> │ <span style=\"color: #008000; text-decoration-color: #008000\">00:01:21</span> │ <span style=\"color: #008000; text-decoration-color: #008000\">799      </span> │ <span style=\"color: #008000; text-decoration-color: #008000\">886      </span> │ <span style=\"color: #008000; text-decoration-color: #008000\">+22              </span> │ <span style=\"color: #008000; text-decoration-color: #008000\">-7               </span> │ <span style=\"color: #7f7f7f; text-decoration-color: #7f7f7f\">NULL</span>        │ <span style=\"color: #7f7f7f; text-decoration-color: #7f7f7f\">NULL</span>        │ <span style=\"color: #008000; text-decoration-color: #008000\">B01   </span> │ <span style=\"color: #008000; text-decoration-color: #008000\">Scandinavian Defense</span> │ <span style=\"color: #008000; text-decoration-color: #008000\">60+0        </span> │ <span style=\"color: #008000; text-decoration-color: #008000\">Normal     </span> │       <span style=\"color: #008080; text-decoration-color: #008080; font-weight: bold\">24</span> │ <span style=\"color: #008000; text-decoration-color: #008000\">[%eval 4.71] [%clk 0:00:30] </span> │\n",
       "│ <span style=\"color: #008000; text-decoration-color: #008000\">Rated Bullet game</span> │ <a href=\"https://lichess.org/vyEI6vG7\" target=\"_blank\"><span style=\"color: #008000; text-decoration-color: #008000\">https://lichess.org/vyEI6vG7</span></a> │ <span style=\"color: #008000; text-decoration-color: #008000\">2024.06.01</span> │ <span style=\"color: #008000; text-decoration-color: #008000\">-     </span> │ <span style=\"color: #008000; text-decoration-color: #008000\">Danielsoto12</span> │ <span style=\"color: #008000; text-decoration-color: #008000\">GasconWarrior</span> │ <span style=\"color: #008000; text-decoration-color: #008000\">1-0   </span> │ <span style=\"color: #008000; text-decoration-color: #008000\">2024.06.01</span> │ <span style=\"color: #008000; text-decoration-color: #008000\">00:01:21</span> │ <span style=\"color: #008000; text-decoration-color: #008000\">799      </span> │ <span style=\"color: #008000; text-decoration-color: #008000\">886      </span> │ <span style=\"color: #008000; text-decoration-color: #008000\">+22              </span> │ <span style=\"color: #008000; text-decoration-color: #008000\">-7               </span> │ <span style=\"color: #7f7f7f; text-decoration-color: #7f7f7f\">NULL</span>        │ <span style=\"color: #7f7f7f; text-decoration-color: #7f7f7f\">NULL</span>        │ <span style=\"color: #008000; text-decoration-color: #008000\">B01   </span> │ <span style=\"color: #008000; text-decoration-color: #008000\">Scandinavian Defense</span> │ <span style=\"color: #008000; text-decoration-color: #008000\">60+0        </span> │ <span style=\"color: #008000; text-decoration-color: #008000\">Normal     </span> │       <span style=\"color: #008080; text-decoration-color: #008080; font-weight: bold\">25</span> │ <span style=\"color: #008000; text-decoration-color: #008000\">[%eval 4.03] [%clk 0:00:09] </span> │\n",
       "│ <span style=\"color: #008000; text-decoration-color: #008000\">Rated Bullet game</span> │ <a href=\"https://lichess.org/vyEI6vG7\" target=\"_blank\"><span style=\"color: #008000; text-decoration-color: #008000\">https://lichess.org/vyEI6vG7</span></a> │ <span style=\"color: #008000; text-decoration-color: #008000\">2024.06.01</span> │ <span style=\"color: #008000; text-decoration-color: #008000\">-     </span> │ <span style=\"color: #008000; text-decoration-color: #008000\">Danielsoto12</span> │ <span style=\"color: #008000; text-decoration-color: #008000\">GasconWarrior</span> │ <span style=\"color: #008000; text-decoration-color: #008000\">1-0   </span> │ <span style=\"color: #008000; text-decoration-color: #008000\">2024.06.01</span> │ <span style=\"color: #008000; text-decoration-color: #008000\">00:01:21</span> │ <span style=\"color: #008000; text-decoration-color: #008000\">799      </span> │ <span style=\"color: #008000; text-decoration-color: #008000\">886      </span> │ <span style=\"color: #008000; text-decoration-color: #008000\">+22              </span> │ <span style=\"color: #008000; text-decoration-color: #008000\">-7               </span> │ <span style=\"color: #7f7f7f; text-decoration-color: #7f7f7f\">NULL</span>        │ <span style=\"color: #7f7f7f; text-decoration-color: #7f7f7f\">NULL</span>        │ <span style=\"color: #008000; text-decoration-color: #008000\">B01   </span> │ <span style=\"color: #008000; text-decoration-color: #008000\">Scandinavian Defense</span> │ <span style=\"color: #008000; text-decoration-color: #008000\">60+0        </span> │ <span style=\"color: #008000; text-decoration-color: #008000\">Normal     </span> │       <span style=\"color: #008080; text-decoration-color: #008080; font-weight: bold\">26</span> │ <span style=\"color: #008000; text-decoration-color: #008000\">[%eval 4.16] [%clk 0:00:26] </span> │\n",
       "│ <span style=\"color: #008000; text-decoration-color: #008000\">Rated Bullet game</span> │ <a href=\"https://lichess.org/vyEI6vG7\" target=\"_blank\"><span style=\"color: #008000; text-decoration-color: #008000\">https://lichess.org/vyEI6vG7</span></a> │ <span style=\"color: #008000; text-decoration-color: #008000\">2024.06.01</span> │ <span style=\"color: #008000; text-decoration-color: #008000\">-     </span> │ <span style=\"color: #008000; text-decoration-color: #008000\">Danielsoto12</span> │ <span style=\"color: #008000; text-decoration-color: #008000\">GasconWarrior</span> │ <span style=\"color: #008000; text-decoration-color: #008000\">1-0   </span> │ <span style=\"color: #008000; text-decoration-color: #008000\">2024.06.01</span> │ <span style=\"color: #008000; text-decoration-color: #008000\">00:01:21</span> │ <span style=\"color: #008000; text-decoration-color: #008000\">799      </span> │ <span style=\"color: #008000; text-decoration-color: #008000\">886      </span> │ <span style=\"color: #008000; text-decoration-color: #008000\">+22              </span> │ <span style=\"color: #008000; text-decoration-color: #008000\">-7               </span> │ <span style=\"color: #7f7f7f; text-decoration-color: #7f7f7f\">NULL</span>        │ <span style=\"color: #7f7f7f; text-decoration-color: #7f7f7f\">NULL</span>        │ <span style=\"color: #008000; text-decoration-color: #008000\">B01   </span> │ <span style=\"color: #008000; text-decoration-color: #008000\">Scandinavian Defense</span> │ <span style=\"color: #008000; text-decoration-color: #008000\">60+0        </span> │ <span style=\"color: #008000; text-decoration-color: #008000\">Normal     </span> │       <span style=\"color: #008080; text-decoration-color: #008080; font-weight: bold\">27</span> │ <span style=\"color: #008000; text-decoration-color: #008000\">[%eval 4.15] [%clk 0:00:09] </span> │\n",
       "│ <span style=\"color: #008000; text-decoration-color: #008000\">Rated Bullet game</span> │ <a href=\"https://lichess.org/vyEI6vG7\" target=\"_blank\"><span style=\"color: #008000; text-decoration-color: #008000\">https://lichess.org/vyEI6vG7</span></a> │ <span style=\"color: #008000; text-decoration-color: #008000\">2024.06.01</span> │ <span style=\"color: #008000; text-decoration-color: #008000\">-     </span> │ <span style=\"color: #008000; text-decoration-color: #008000\">Danielsoto12</span> │ <span style=\"color: #008000; text-decoration-color: #008000\">GasconWarrior</span> │ <span style=\"color: #008000; text-decoration-color: #008000\">1-0   </span> │ <span style=\"color: #008000; text-decoration-color: #008000\">2024.06.01</span> │ <span style=\"color: #008000; text-decoration-color: #008000\">00:01:21</span> │ <span style=\"color: #008000; text-decoration-color: #008000\">799      </span> │ <span style=\"color: #008000; text-decoration-color: #008000\">886      </span> │ <span style=\"color: #008000; text-decoration-color: #008000\">+22              </span> │ <span style=\"color: #008000; text-decoration-color: #008000\">-7               </span> │ <span style=\"color: #7f7f7f; text-decoration-color: #7f7f7f\">NULL</span>        │ <span style=\"color: #7f7f7f; text-decoration-color: #7f7f7f\">NULL</span>        │ <span style=\"color: #008000; text-decoration-color: #008000\">B01   </span> │ <span style=\"color: #008000; text-decoration-color: #008000\">Scandinavian Defense</span> │ <span style=\"color: #008000; text-decoration-color: #008000\">60+0        </span> │ <span style=\"color: #008000; text-decoration-color: #008000\">Normal     </span> │       <span style=\"color: #008080; text-decoration-color: #008080; font-weight: bold\">28</span> │ <span style=\"color: #008000; text-decoration-color: #008000\">[%eval 4.16] [%clk 0:00:24] </span> │\n",
       "│ <span style=\"color: #008000; text-decoration-color: #008000\">Rated Bullet game</span> │ <a href=\"https://lichess.org/vyEI6vG7\" target=\"_blank\"><span style=\"color: #008000; text-decoration-color: #008000\">https://lichess.org/vyEI6vG7</span></a> │ <span style=\"color: #008000; text-decoration-color: #008000\">2024.06.01</span> │ <span style=\"color: #008000; text-decoration-color: #008000\">-     </span> │ <span style=\"color: #008000; text-decoration-color: #008000\">Danielsoto12</span> │ <span style=\"color: #008000; text-decoration-color: #008000\">GasconWarrior</span> │ <span style=\"color: #008000; text-decoration-color: #008000\">1-0   </span> │ <span style=\"color: #008000; text-decoration-color: #008000\">2024.06.01</span> │ <span style=\"color: #008000; text-decoration-color: #008000\">00:01:21</span> │ <span style=\"color: #008000; text-decoration-color: #008000\">799      </span> │ <span style=\"color: #008000; text-decoration-color: #008000\">886      </span> │ <span style=\"color: #008000; text-decoration-color: #008000\">+22              </span> │ <span style=\"color: #008000; text-decoration-color: #008000\">-7               </span> │ <span style=\"color: #7f7f7f; text-decoration-color: #7f7f7f\">NULL</span>        │ <span style=\"color: #7f7f7f; text-decoration-color: #7f7f7f\">NULL</span>        │ <span style=\"color: #008000; text-decoration-color: #008000\">B01   </span> │ <span style=\"color: #008000; text-decoration-color: #008000\">Scandinavian Defense</span> │ <span style=\"color: #008000; text-decoration-color: #008000\">60+0        </span> │ <span style=\"color: #008000; text-decoration-color: #008000\">Normal     </span> │       <span style=\"color: #008080; text-decoration-color: #008080; font-weight: bold\">29</span> │ <span style=\"color: #008000; text-decoration-color: #008000\">[%eval -1.63] [%clk 0:00:06]</span> │\n",
       "│ <span style=\"color: #008000; text-decoration-color: #008000\">Rated Bullet game</span> │ <a href=\"https://lichess.org/vyEI6vG7\" target=\"_blank\"><span style=\"color: #008000; text-decoration-color: #008000\">https://lichess.org/vyEI6vG7</span></a> │ <span style=\"color: #008000; text-decoration-color: #008000\">2024.06.01</span> │ <span style=\"color: #008000; text-decoration-color: #008000\">-     </span> │ <span style=\"color: #008000; text-decoration-color: #008000\">Danielsoto12</span> │ <span style=\"color: #008000; text-decoration-color: #008000\">GasconWarrior</span> │ <span style=\"color: #008000; text-decoration-color: #008000\">1-0   </span> │ <span style=\"color: #008000; text-decoration-color: #008000\">2024.06.01</span> │ <span style=\"color: #008000; text-decoration-color: #008000\">00:01:21</span> │ <span style=\"color: #008000; text-decoration-color: #008000\">799      </span> │ <span style=\"color: #008000; text-decoration-color: #008000\">886      </span> │ <span style=\"color: #008000; text-decoration-color: #008000\">+22              </span> │ <span style=\"color: #008000; text-decoration-color: #008000\">-7               </span> │ <span style=\"color: #7f7f7f; text-decoration-color: #7f7f7f\">NULL</span>        │ <span style=\"color: #7f7f7f; text-decoration-color: #7f7f7f\">NULL</span>        │ <span style=\"color: #008000; text-decoration-color: #008000\">B01   </span> │ <span style=\"color: #008000; text-decoration-color: #008000\">Scandinavian Defense</span> │ <span style=\"color: #008000; text-decoration-color: #008000\">60+0        </span> │ <span style=\"color: #008000; text-decoration-color: #008000\">Normal     </span> │       <span style=\"color: #008080; text-decoration-color: #008080; font-weight: bold\">30</span> │ <span style=\"color: #008000; text-decoration-color: #008000\">[%eval 4.14] [%clk 0:00:23] </span> │\n",
       "│ <span style=\"color: #7f7f7f; text-decoration-color: #7f7f7f\">…</span>                 │ <span style=\"color: #7f7f7f; text-decoration-color: #7f7f7f\">…</span>                            │ <span style=\"color: #7f7f7f; text-decoration-color: #7f7f7f\">…</span>          │ <span style=\"color: #7f7f7f; text-decoration-color: #7f7f7f\">…</span>      │ <span style=\"color: #7f7f7f; text-decoration-color: #7f7f7f\">…</span>            │ <span style=\"color: #7f7f7f; text-decoration-color: #7f7f7f\">…</span>             │ <span style=\"color: #7f7f7f; text-decoration-color: #7f7f7f\">…</span>      │ <span style=\"color: #7f7f7f; text-decoration-color: #7f7f7f\">…</span>          │ <span style=\"color: #7f7f7f; text-decoration-color: #7f7f7f\">…</span>        │ <span style=\"color: #7f7f7f; text-decoration-color: #7f7f7f\">…</span>         │ <span style=\"color: #7f7f7f; text-decoration-color: #7f7f7f\">…</span>         │ <span style=\"color: #7f7f7f; text-decoration-color: #7f7f7f\">…</span>                 │ <span style=\"color: #7f7f7f; text-decoration-color: #7f7f7f\">…</span>                 │ <span style=\"color: #7f7f7f; text-decoration-color: #7f7f7f\">…</span>           │ <span style=\"color: #7f7f7f; text-decoration-color: #7f7f7f\">…</span>           │ <span style=\"color: #7f7f7f; text-decoration-color: #7f7f7f\">…</span>      │ <span style=\"color: #7f7f7f; text-decoration-color: #7f7f7f\">…</span>                    │ <span style=\"color: #7f7f7f; text-decoration-color: #7f7f7f\">…</span>            │ <span style=\"color: #7f7f7f; text-decoration-color: #7f7f7f\">…</span>           │        <span style=\"color: #7f7f7f; text-decoration-color: #7f7f7f\">…</span> │ <span style=\"color: #7f7f7f; text-decoration-color: #7f7f7f\">…</span>                            │\n",
       "└───────────────────┴──────────────────────────────┴────────────┴────────┴──────────────┴───────────────┴────────┴────────────┴──────────┴───────────┴───────────┴───────────────────┴───────────────────┴─────────────┴─────────────┴────────┴──────────────────────┴──────────────┴─────────────┴──────────┴──────────────────────────────┘\n",
       "</pre>\n"
      ],
      "text/plain": [
       "┏━━━━━━━━━━━━━━━━━━━┳━━━━━━━━━━━━━━━━━━━━━━━━━━━━━━┳━━━━━━━━━━━━┳━━━━━━━━┳━━━━━━━━━━━━━━┳━━━━━━━━━━━━━━━┳━━━━━━━━┳━━━━━━━━━━━━┳━━━━━━━━━━┳━━━━━━━━━━━┳━━━━━━━━━━━┳━━━━━━━━━━━━━━━━━━━┳━━━━━━━━━━━━━━━━━━━┳━━━━━━━━━━━━━┳━━━━━━━━━━━━━┳━━━━━━━━┳━━━━━━━━━━━━━━━━━━━━━━┳━━━━━━━━━━━━━━┳━━━━━━━━━━━━━┳━━━━━━━━━━┳━━━━━━━━━━━━━━━━━━━━━━━━━━━━━━┓\n",
       "┃\u001b[1m \u001b[0m\u001b[1mevent\u001b[0m\u001b[1m            \u001b[0m\u001b[1m \u001b[0m┃\u001b[1m \u001b[0m\u001b[1msite\u001b[0m\u001b[1m                        \u001b[0m\u001b[1m \u001b[0m┃\u001b[1m \u001b[0m\u001b[1mdate\u001b[0m\u001b[1m      \u001b[0m\u001b[1m \u001b[0m┃\u001b[1m \u001b[0m\u001b[1mround\u001b[0m\u001b[1m \u001b[0m\u001b[1m \u001b[0m┃\u001b[1m \u001b[0m\u001b[1mwhite\u001b[0m\u001b[1m       \u001b[0m\u001b[1m \u001b[0m┃\u001b[1m \u001b[0m\u001b[1mblack\u001b[0m\u001b[1m        \u001b[0m\u001b[1m \u001b[0m┃\u001b[1m \u001b[0m\u001b[1mresult\u001b[0m\u001b[1m \u001b[0m┃\u001b[1m \u001b[0m\u001b[1mutc_date\u001b[0m\u001b[1m  \u001b[0m\u001b[1m \u001b[0m┃\u001b[1m \u001b[0m\u001b[1mutc_time\u001b[0m\u001b[1m \u001b[0m┃\u001b[1m \u001b[0m\u001b[1mwhite_elo\u001b[0m\u001b[1m \u001b[0m┃\u001b[1m \u001b[0m\u001b[1mblack_elo\u001b[0m\u001b[1m \u001b[0m┃\u001b[1m \u001b[0m\u001b[1mwhite_rating_diff\u001b[0m\u001b[1m \u001b[0m┃\u001b[1m \u001b[0m\u001b[1mblack_rating_diff\u001b[0m\u001b[1m \u001b[0m┃\u001b[1m \u001b[0m\u001b[1mwhite_title\u001b[0m\u001b[1m \u001b[0m┃\u001b[1m \u001b[0m\u001b[1mblack_title\u001b[0m\u001b[1m \u001b[0m┃\u001b[1m \u001b[0m\u001b[1meco\u001b[0m\u001b[1m   \u001b[0m\u001b[1m \u001b[0m┃\u001b[1m \u001b[0m\u001b[1mopening\u001b[0m\u001b[1m             \u001b[0m\u001b[1m \u001b[0m┃\u001b[1m \u001b[0m\u001b[1mtime_control\u001b[0m\u001b[1m \u001b[0m┃\u001b[1m \u001b[0m\u001b[1mtermination\u001b[0m\u001b[1m \u001b[0m┃\u001b[1m \u001b[0m\u001b[1mmove_ply\u001b[0m\u001b[1m \u001b[0m┃\u001b[1m \u001b[0m\u001b[1mmove_comment\u001b[0m\u001b[1m                \u001b[0m\u001b[1m \u001b[0m┃\n",
       "┡━━━━━━━━━━━━━━━━━━━╇━━━━━━━━━━━━━━━━━━━━━━━━━━━━━━╇━━━━━━━━━━━━╇━━━━━━━━╇━━━━━━━━━━━━━━╇━━━━━━━━━━━━━━━╇━━━━━━━━╇━━━━━━━━━━━━╇━━━━━━━━━━╇━━━━━━━━━━━╇━━━━━━━━━━━╇━━━━━━━━━━━━━━━━━━━╇━━━━━━━━━━━━━━━━━━━╇━━━━━━━━━━━━━╇━━━━━━━━━━━━━╇━━━━━━━━╇━━━━━━━━━━━━━━━━━━━━━━╇━━━━━━━━━━━━━━╇━━━━━━━━━━━━━╇━━━━━━━━━━╇━━━━━━━━━━━━━━━━━━━━━━━━━━━━━━┩\n",
       "│ \u001b[2mstring\u001b[0m            │ \u001b[2mstring\u001b[0m                       │ \u001b[2mstring\u001b[0m     │ \u001b[2mstring\u001b[0m │ \u001b[2mstring\u001b[0m       │ \u001b[2mstring\u001b[0m        │ \u001b[2mstring\u001b[0m │ \u001b[2mstring\u001b[0m     │ \u001b[2mstring\u001b[0m   │ \u001b[2mstring\u001b[0m    │ \u001b[2mstring\u001b[0m    │ \u001b[2mstring\u001b[0m            │ \u001b[2mstring\u001b[0m            │ \u001b[2mstring\u001b[0m      │ \u001b[2mstring\u001b[0m      │ \u001b[2mstring\u001b[0m │ \u001b[2mstring\u001b[0m               │ \u001b[2mstring\u001b[0m       │ \u001b[2mstring\u001b[0m      │ \u001b[2mint64\u001b[0m    │ \u001b[2mstring\u001b[0m                       │\n",
       "├───────────────────┼──────────────────────────────┼────────────┼────────┼──────────────┼───────────────┼────────┼────────────┼──────────┼───────────┼───────────┼───────────────────┼───────────────────┼─────────────┼─────────────┼────────┼──────────────────────┼──────────────┼─────────────┼──────────┼──────────────────────────────┤\n",
       "│ \u001b[32mRated Bullet game\u001b[0m │ \u001b]8;id=933337;https://lichess.org/vyEI6vG7\u001b\\\u001b[32mhttps://lichess.org/vyEI6vG7\u001b[0m\u001b]8;;\u001b\\ │ \u001b[32m2024.06.01\u001b[0m │ \u001b[32m-     \u001b[0m │ \u001b[32mDanielsoto12\u001b[0m │ \u001b[32mGasconWarrior\u001b[0m │ \u001b[32m1-0   \u001b[0m │ \u001b[32m2024.06.01\u001b[0m │ \u001b[32m00:01:21\u001b[0m │ \u001b[32m799      \u001b[0m │ \u001b[32m886      \u001b[0m │ \u001b[32m+22              \u001b[0m │ \u001b[32m-7               \u001b[0m │ \u001b[2mNULL\u001b[0m        │ \u001b[2mNULL\u001b[0m        │ \u001b[32mB01   \u001b[0m │ \u001b[32mScandinavian Defense\u001b[0m │ \u001b[32m60+0        \u001b[0m │ \u001b[32mNormal     \u001b[0m │       \u001b[1;36m21\u001b[0m │ \u001b[32m[%eval 4.66] [%clk 0:00:22] \u001b[0m │\n",
       "│ \u001b[32mRated Bullet game\u001b[0m │ \u001b]8;id=916711;https://lichess.org/vyEI6vG7\u001b\\\u001b[32mhttps://lichess.org/vyEI6vG7\u001b[0m\u001b]8;;\u001b\\ │ \u001b[32m2024.06.01\u001b[0m │ \u001b[32m-     \u001b[0m │ \u001b[32mDanielsoto12\u001b[0m │ \u001b[32mGasconWarrior\u001b[0m │ \u001b[32m1-0   \u001b[0m │ \u001b[32m2024.06.01\u001b[0m │ \u001b[32m00:01:21\u001b[0m │ \u001b[32m799      \u001b[0m │ \u001b[32m886      \u001b[0m │ \u001b[32m+22              \u001b[0m │ \u001b[32m-7               \u001b[0m │ \u001b[2mNULL\u001b[0m        │ \u001b[2mNULL\u001b[0m        │ \u001b[32mB01   \u001b[0m │ \u001b[32mScandinavian Defense\u001b[0m │ \u001b[32m60+0        \u001b[0m │ \u001b[32mNormal     \u001b[0m │       \u001b[1;36m22\u001b[0m │ \u001b[32m[%eval 4.62] [%clk 0:00:34] \u001b[0m │\n",
       "│ \u001b[32mRated Bullet game\u001b[0m │ \u001b]8;id=616668;https://lichess.org/vyEI6vG7\u001b\\\u001b[32mhttps://lichess.org/vyEI6vG7\u001b[0m\u001b]8;;\u001b\\ │ \u001b[32m2024.06.01\u001b[0m │ \u001b[32m-     \u001b[0m │ \u001b[32mDanielsoto12\u001b[0m │ \u001b[32mGasconWarrior\u001b[0m │ \u001b[32m1-0   \u001b[0m │ \u001b[32m2024.06.01\u001b[0m │ \u001b[32m00:01:21\u001b[0m │ \u001b[32m799      \u001b[0m │ \u001b[32m886      \u001b[0m │ \u001b[32m+22              \u001b[0m │ \u001b[32m-7               \u001b[0m │ \u001b[2mNULL\u001b[0m        │ \u001b[2mNULL\u001b[0m        │ \u001b[32mB01   \u001b[0m │ \u001b[32mScandinavian Defense\u001b[0m │ \u001b[32m60+0        \u001b[0m │ \u001b[32mNormal     \u001b[0m │       \u001b[1;36m23\u001b[0m │ \u001b[32m[%eval 4.62] [%clk 0:00:19] \u001b[0m │\n",
       "│ \u001b[32mRated Bullet game\u001b[0m │ \u001b]8;id=977547;https://lichess.org/vyEI6vG7\u001b\\\u001b[32mhttps://lichess.org/vyEI6vG7\u001b[0m\u001b]8;;\u001b\\ │ \u001b[32m2024.06.01\u001b[0m │ \u001b[32m-     \u001b[0m │ \u001b[32mDanielsoto12\u001b[0m │ \u001b[32mGasconWarrior\u001b[0m │ \u001b[32m1-0   \u001b[0m │ \u001b[32m2024.06.01\u001b[0m │ \u001b[32m00:01:21\u001b[0m │ \u001b[32m799      \u001b[0m │ \u001b[32m886      \u001b[0m │ \u001b[32m+22              \u001b[0m │ \u001b[32m-7               \u001b[0m │ \u001b[2mNULL\u001b[0m        │ \u001b[2mNULL\u001b[0m        │ \u001b[32mB01   \u001b[0m │ \u001b[32mScandinavian Defense\u001b[0m │ \u001b[32m60+0        \u001b[0m │ \u001b[32mNormal     \u001b[0m │       \u001b[1;36m24\u001b[0m │ \u001b[32m[%eval 4.71] [%clk 0:00:30] \u001b[0m │\n",
       "│ \u001b[32mRated Bullet game\u001b[0m │ \u001b]8;id=837562;https://lichess.org/vyEI6vG7\u001b\\\u001b[32mhttps://lichess.org/vyEI6vG7\u001b[0m\u001b]8;;\u001b\\ │ \u001b[32m2024.06.01\u001b[0m │ \u001b[32m-     \u001b[0m │ \u001b[32mDanielsoto12\u001b[0m │ \u001b[32mGasconWarrior\u001b[0m │ \u001b[32m1-0   \u001b[0m │ \u001b[32m2024.06.01\u001b[0m │ \u001b[32m00:01:21\u001b[0m │ \u001b[32m799      \u001b[0m │ \u001b[32m886      \u001b[0m │ \u001b[32m+22              \u001b[0m │ \u001b[32m-7               \u001b[0m │ \u001b[2mNULL\u001b[0m        │ \u001b[2mNULL\u001b[0m        │ \u001b[32mB01   \u001b[0m │ \u001b[32mScandinavian Defense\u001b[0m │ \u001b[32m60+0        \u001b[0m │ \u001b[32mNormal     \u001b[0m │       \u001b[1;36m25\u001b[0m │ \u001b[32m[%eval 4.03] [%clk 0:00:09] \u001b[0m │\n",
       "│ \u001b[32mRated Bullet game\u001b[0m │ \u001b]8;id=669978;https://lichess.org/vyEI6vG7\u001b\\\u001b[32mhttps://lichess.org/vyEI6vG7\u001b[0m\u001b]8;;\u001b\\ │ \u001b[32m2024.06.01\u001b[0m │ \u001b[32m-     \u001b[0m │ \u001b[32mDanielsoto12\u001b[0m │ \u001b[32mGasconWarrior\u001b[0m │ \u001b[32m1-0   \u001b[0m │ \u001b[32m2024.06.01\u001b[0m │ \u001b[32m00:01:21\u001b[0m │ \u001b[32m799      \u001b[0m │ \u001b[32m886      \u001b[0m │ \u001b[32m+22              \u001b[0m │ \u001b[32m-7               \u001b[0m │ \u001b[2mNULL\u001b[0m        │ \u001b[2mNULL\u001b[0m        │ \u001b[32mB01   \u001b[0m │ \u001b[32mScandinavian Defense\u001b[0m │ \u001b[32m60+0        \u001b[0m │ \u001b[32mNormal     \u001b[0m │       \u001b[1;36m26\u001b[0m │ \u001b[32m[%eval 4.16] [%clk 0:00:26] \u001b[0m │\n",
       "│ \u001b[32mRated Bullet game\u001b[0m │ \u001b]8;id=725645;https://lichess.org/vyEI6vG7\u001b\\\u001b[32mhttps://lichess.org/vyEI6vG7\u001b[0m\u001b]8;;\u001b\\ │ \u001b[32m2024.06.01\u001b[0m │ \u001b[32m-     \u001b[0m │ \u001b[32mDanielsoto12\u001b[0m │ \u001b[32mGasconWarrior\u001b[0m │ \u001b[32m1-0   \u001b[0m │ \u001b[32m2024.06.01\u001b[0m │ \u001b[32m00:01:21\u001b[0m │ \u001b[32m799      \u001b[0m │ \u001b[32m886      \u001b[0m │ \u001b[32m+22              \u001b[0m │ \u001b[32m-7               \u001b[0m │ \u001b[2mNULL\u001b[0m        │ \u001b[2mNULL\u001b[0m        │ \u001b[32mB01   \u001b[0m │ \u001b[32mScandinavian Defense\u001b[0m │ \u001b[32m60+0        \u001b[0m │ \u001b[32mNormal     \u001b[0m │       \u001b[1;36m27\u001b[0m │ \u001b[32m[%eval 4.15] [%clk 0:00:09] \u001b[0m │\n",
       "│ \u001b[32mRated Bullet game\u001b[0m │ \u001b]8;id=137474;https://lichess.org/vyEI6vG7\u001b\\\u001b[32mhttps://lichess.org/vyEI6vG7\u001b[0m\u001b]8;;\u001b\\ │ \u001b[32m2024.06.01\u001b[0m │ \u001b[32m-     \u001b[0m │ \u001b[32mDanielsoto12\u001b[0m │ \u001b[32mGasconWarrior\u001b[0m │ \u001b[32m1-0   \u001b[0m │ \u001b[32m2024.06.01\u001b[0m │ \u001b[32m00:01:21\u001b[0m │ \u001b[32m799      \u001b[0m │ \u001b[32m886      \u001b[0m │ \u001b[32m+22              \u001b[0m │ \u001b[32m-7               \u001b[0m │ \u001b[2mNULL\u001b[0m        │ \u001b[2mNULL\u001b[0m        │ \u001b[32mB01   \u001b[0m │ \u001b[32mScandinavian Defense\u001b[0m │ \u001b[32m60+0        \u001b[0m │ \u001b[32mNormal     \u001b[0m │       \u001b[1;36m28\u001b[0m │ \u001b[32m[%eval 4.16] [%clk 0:00:24] \u001b[0m │\n",
       "│ \u001b[32mRated Bullet game\u001b[0m │ \u001b]8;id=345692;https://lichess.org/vyEI6vG7\u001b\\\u001b[32mhttps://lichess.org/vyEI6vG7\u001b[0m\u001b]8;;\u001b\\ │ \u001b[32m2024.06.01\u001b[0m │ \u001b[32m-     \u001b[0m │ \u001b[32mDanielsoto12\u001b[0m │ \u001b[32mGasconWarrior\u001b[0m │ \u001b[32m1-0   \u001b[0m │ \u001b[32m2024.06.01\u001b[0m │ \u001b[32m00:01:21\u001b[0m │ \u001b[32m799      \u001b[0m │ \u001b[32m886      \u001b[0m │ \u001b[32m+22              \u001b[0m │ \u001b[32m-7               \u001b[0m │ \u001b[2mNULL\u001b[0m        │ \u001b[2mNULL\u001b[0m        │ \u001b[32mB01   \u001b[0m │ \u001b[32mScandinavian Defense\u001b[0m │ \u001b[32m60+0        \u001b[0m │ \u001b[32mNormal     \u001b[0m │       \u001b[1;36m29\u001b[0m │ \u001b[32m[%eval -1.63] [%clk 0:00:06]\u001b[0m │\n",
       "│ \u001b[32mRated Bullet game\u001b[0m │ \u001b]8;id=942795;https://lichess.org/vyEI6vG7\u001b\\\u001b[32mhttps://lichess.org/vyEI6vG7\u001b[0m\u001b]8;;\u001b\\ │ \u001b[32m2024.06.01\u001b[0m │ \u001b[32m-     \u001b[0m │ \u001b[32mDanielsoto12\u001b[0m │ \u001b[32mGasconWarrior\u001b[0m │ \u001b[32m1-0   \u001b[0m │ \u001b[32m2024.06.01\u001b[0m │ \u001b[32m00:01:21\u001b[0m │ \u001b[32m799      \u001b[0m │ \u001b[32m886      \u001b[0m │ \u001b[32m+22              \u001b[0m │ \u001b[32m-7               \u001b[0m │ \u001b[2mNULL\u001b[0m        │ \u001b[2mNULL\u001b[0m        │ \u001b[32mB01   \u001b[0m │ \u001b[32mScandinavian Defense\u001b[0m │ \u001b[32m60+0        \u001b[0m │ \u001b[32mNormal     \u001b[0m │       \u001b[1;36m30\u001b[0m │ \u001b[32m[%eval 4.14] [%clk 0:00:23] \u001b[0m │\n",
       "│ \u001b[2m…\u001b[0m                 │ \u001b[2m…\u001b[0m                            │ \u001b[2m…\u001b[0m          │ \u001b[2m…\u001b[0m      │ \u001b[2m…\u001b[0m            │ \u001b[2m…\u001b[0m             │ \u001b[2m…\u001b[0m      │ \u001b[2m…\u001b[0m          │ \u001b[2m…\u001b[0m        │ \u001b[2m…\u001b[0m         │ \u001b[2m…\u001b[0m         │ \u001b[2m…\u001b[0m                 │ \u001b[2m…\u001b[0m                 │ \u001b[2m…\u001b[0m           │ \u001b[2m…\u001b[0m           │ \u001b[2m…\u001b[0m      │ \u001b[2m…\u001b[0m                    │ \u001b[2m…\u001b[0m            │ \u001b[2m…\u001b[0m           │        \u001b[2m…\u001b[0m │ \u001b[2m…\u001b[0m                            │\n",
       "└───────────────────┴──────────────────────────────┴────────────┴────────┴──────────────┴───────────────┴────────┴────────────┴──────────┴───────────┴───────────┴───────────────────┴───────────────────┴─────────────┴─────────────┴────────┴──────────────────────┴──────────────┴─────────────┴──────────┴──────────────────────────────┘"
      ]
     },
     "execution_count": 26,
     "metadata": {},
     "output_type": "execute_result"
    }
   ],
   "source": [
    "moves[(moves.site == \"https://lichess.org/vyEI6vG7\") & (moves.move_ply > 20)]"
   ]
  },
  {
   "cell_type": "markdown",
   "id": "82e12b33-8ebf-405c-ad7c-6712f42ac469",
   "metadata": {},
   "source": [
    "Taking [this game](https://lichess.org/vyEI6vG7) as an example, we understand that the evaluation reflects the position _after_ the move. This also explains why the final move doesn't have an evaluation—there's nothing to evaluate after mate."
   ]
  },
  {
   "cell_type": "code",
   "execution_count": 27,
   "id": "fb9fafab-8f91-492c-8e8f-7173ecd886a2",
   "metadata": {},
   "outputs": [
    {
     "data": {
      "text/html": [
       "<pre style=\"white-space:pre;overflow-x:auto;line-height:normal;font-family:Menlo,'DejaVu Sans Mono',consolas,'Courier New',monospace\">┏━━━━━━━━━━━━━━━━━━━┳━━━━━━━━━━━━━━━━━━━━━━━━━━━━━━┳━━━━━━━━━━━━┳━━━━━━━━┳━━━━━━━━━━━━━━┳━━━━━━━━━━━━━━━┳━━━━━━━━┳━━━━━━━━━━━━┳━━━━━━━━━━┳━━━━━━━━━━━┳━━━━━━━━━━━┳━━━━━━━━━━━━━━━━━━━┳━━━━━━━━━━━━━━━━━━━┳━━━━━━━━━━━━━┳━━━━━━━━━━━━━┳━━━━━━━━┳━━━━━━━━━━━━━━━━━━━━━━┳━━━━━━━━━━━━━━┳━━━━━━━━━━━━━┳━━━━━━━━━━┳━━━━━━━━━━━━━━━━━━━━━━━━━━━━━━┓\n",
       "┃<span style=\"font-weight: bold\"> event             </span>┃<span style=\"font-weight: bold\"> site                         </span>┃<span style=\"font-weight: bold\"> date       </span>┃<span style=\"font-weight: bold\"> round  </span>┃<span style=\"font-weight: bold\"> white        </span>┃<span style=\"font-weight: bold\"> black         </span>┃<span style=\"font-weight: bold\"> result </span>┃<span style=\"font-weight: bold\"> utc_date   </span>┃<span style=\"font-weight: bold\"> utc_time </span>┃<span style=\"font-weight: bold\"> white_elo </span>┃<span style=\"font-weight: bold\"> black_elo </span>┃<span style=\"font-weight: bold\"> white_rating_diff </span>┃<span style=\"font-weight: bold\"> black_rating_diff </span>┃<span style=\"font-weight: bold\"> white_title </span>┃<span style=\"font-weight: bold\"> black_title </span>┃<span style=\"font-weight: bold\"> eco    </span>┃<span style=\"font-weight: bold\"> opening              </span>┃<span style=\"font-weight: bold\"> time_control </span>┃<span style=\"font-weight: bold\"> termination </span>┃<span style=\"font-weight: bold\"> move_ply </span>┃<span style=\"font-weight: bold\"> move_comment                 </span>┃\n",
       "┡━━━━━━━━━━━━━━━━━━━╇━━━━━━━━━━━━━━━━━━━━━━━━━━━━━━╇━━━━━━━━━━━━╇━━━━━━━━╇━━━━━━━━━━━━━━╇━━━━━━━━━━━━━━━╇━━━━━━━━╇━━━━━━━━━━━━╇━━━━━━━━━━╇━━━━━━━━━━━╇━━━━━━━━━━━╇━━━━━━━━━━━━━━━━━━━╇━━━━━━━━━━━━━━━━━━━╇━━━━━━━━━━━━━╇━━━━━━━━━━━━━╇━━━━━━━━╇━━━━━━━━━━━━━━━━━━━━━━╇━━━━━━━━━━━━━━╇━━━━━━━━━━━━━╇━━━━━━━━━━╇━━━━━━━━━━━━━━━━━━━━━━━━━━━━━━┩\n",
       "│ <span style=\"color: #7f7f7f; text-decoration-color: #7f7f7f\">string</span>            │ <span style=\"color: #7f7f7f; text-decoration-color: #7f7f7f\">string</span>                       │ <span style=\"color: #7f7f7f; text-decoration-color: #7f7f7f\">string</span>     │ <span style=\"color: #7f7f7f; text-decoration-color: #7f7f7f\">string</span> │ <span style=\"color: #7f7f7f; text-decoration-color: #7f7f7f\">string</span>       │ <span style=\"color: #7f7f7f; text-decoration-color: #7f7f7f\">string</span>        │ <span style=\"color: #7f7f7f; text-decoration-color: #7f7f7f\">string</span> │ <span style=\"color: #7f7f7f; text-decoration-color: #7f7f7f\">string</span>     │ <span style=\"color: #7f7f7f; text-decoration-color: #7f7f7f\">string</span>   │ <span style=\"color: #7f7f7f; text-decoration-color: #7f7f7f\">string</span>    │ <span style=\"color: #7f7f7f; text-decoration-color: #7f7f7f\">string</span>    │ <span style=\"color: #7f7f7f; text-decoration-color: #7f7f7f\">string</span>            │ <span style=\"color: #7f7f7f; text-decoration-color: #7f7f7f\">string</span>            │ <span style=\"color: #7f7f7f; text-decoration-color: #7f7f7f\">string</span>      │ <span style=\"color: #7f7f7f; text-decoration-color: #7f7f7f\">string</span>      │ <span style=\"color: #7f7f7f; text-decoration-color: #7f7f7f\">string</span> │ <span style=\"color: #7f7f7f; text-decoration-color: #7f7f7f\">string</span>               │ <span style=\"color: #7f7f7f; text-decoration-color: #7f7f7f\">string</span>       │ <span style=\"color: #7f7f7f; text-decoration-color: #7f7f7f\">string</span>      │ <span style=\"color: #7f7f7f; text-decoration-color: #7f7f7f\">int64</span>    │ <span style=\"color: #7f7f7f; text-decoration-color: #7f7f7f\">string</span>                       │\n",
       "├───────────────────┼──────────────────────────────┼────────────┼────────┼──────────────┼───────────────┼────────┼────────────┼──────────┼───────────┼───────────┼───────────────────┼───────────────────┼─────────────┼─────────────┼────────┼──────────────────────┼──────────────┼─────────────┼──────────┼──────────────────────────────┤\n",
       "│ <span style=\"color: #008000; text-decoration-color: #008000\">Rated Bullet game</span> │ <a href=\"https://lichess.org/vyEI6vG7\" target=\"_blank\"><span style=\"color: #008000; text-decoration-color: #008000\">https://lichess.org/vyEI6vG7</span></a> │ <span style=\"color: #008000; text-decoration-color: #008000\">2024.06.01</span> │ <span style=\"color: #008000; text-decoration-color: #008000\">-     </span> │ <span style=\"color: #008000; text-decoration-color: #008000\">Danielsoto12</span> │ <span style=\"color: #008000; text-decoration-color: #008000\">GasconWarrior</span> │ <span style=\"color: #008000; text-decoration-color: #008000\">1-0   </span> │ <span style=\"color: #008000; text-decoration-color: #008000\">2024.06.01</span> │ <span style=\"color: #008000; text-decoration-color: #008000\">00:01:21</span> │ <span style=\"color: #008000; text-decoration-color: #008000\">799      </span> │ <span style=\"color: #008000; text-decoration-color: #008000\">886      </span> │ <span style=\"color: #008000; text-decoration-color: #008000\">+22              </span> │ <span style=\"color: #008000; text-decoration-color: #008000\">-7               </span> │ <span style=\"color: #7f7f7f; text-decoration-color: #7f7f7f\">NULL</span>        │ <span style=\"color: #7f7f7f; text-decoration-color: #7f7f7f\">NULL</span>        │ <span style=\"color: #008000; text-decoration-color: #008000\">B01   </span> │ <span style=\"color: #008000; text-decoration-color: #008000\">Scandinavian Defense</span> │ <span style=\"color: #008000; text-decoration-color: #008000\">60+0        </span> │ <span style=\"color: #008000; text-decoration-color: #008000\">Normal     </span> │       <span style=\"color: #008080; text-decoration-color: #008080; font-weight: bold\">31</span> │ <span style=\"color: #008000; text-decoration-color: #008000\">[%eval 3.57] [%clk 0:00:05] </span> │\n",
       "│ <span style=\"color: #008000; text-decoration-color: #008000\">Rated Bullet game</span> │ <a href=\"https://lichess.org/vyEI6vG7\" target=\"_blank\"><span style=\"color: #008000; text-decoration-color: #008000\">https://lichess.org/vyEI6vG7</span></a> │ <span style=\"color: #008000; text-decoration-color: #008000\">2024.06.01</span> │ <span style=\"color: #008000; text-decoration-color: #008000\">-     </span> │ <span style=\"color: #008000; text-decoration-color: #008000\">Danielsoto12</span> │ <span style=\"color: #008000; text-decoration-color: #008000\">GasconWarrior</span> │ <span style=\"color: #008000; text-decoration-color: #008000\">1-0   </span> │ <span style=\"color: #008000; text-decoration-color: #008000\">2024.06.01</span> │ <span style=\"color: #008000; text-decoration-color: #008000\">00:01:21</span> │ <span style=\"color: #008000; text-decoration-color: #008000\">799      </span> │ <span style=\"color: #008000; text-decoration-color: #008000\">886      </span> │ <span style=\"color: #008000; text-decoration-color: #008000\">+22              </span> │ <span style=\"color: #008000; text-decoration-color: #008000\">-7               </span> │ <span style=\"color: #7f7f7f; text-decoration-color: #7f7f7f\">NULL</span>        │ <span style=\"color: #7f7f7f; text-decoration-color: #7f7f7f\">NULL</span>        │ <span style=\"color: #008000; text-decoration-color: #008000\">B01   </span> │ <span style=\"color: #008000; text-decoration-color: #008000\">Scandinavian Defense</span> │ <span style=\"color: #008000; text-decoration-color: #008000\">60+0        </span> │ <span style=\"color: #008000; text-decoration-color: #008000\">Normal     </span> │       <span style=\"color: #008080; text-decoration-color: #008080; font-weight: bold\">32</span> │ <span style=\"color: #008000; text-decoration-color: #008000\">[%eval 5.24] [%clk 0:00:15] </span> │\n",
       "│ <span style=\"color: #008000; text-decoration-color: #008000\">Rated Bullet game</span> │ <a href=\"https://lichess.org/vyEI6vG7\" target=\"_blank\"><span style=\"color: #008000; text-decoration-color: #008000\">https://lichess.org/vyEI6vG7</span></a> │ <span style=\"color: #008000; text-decoration-color: #008000\">2024.06.01</span> │ <span style=\"color: #008000; text-decoration-color: #008000\">-     </span> │ <span style=\"color: #008000; text-decoration-color: #008000\">Danielsoto12</span> │ <span style=\"color: #008000; text-decoration-color: #008000\">GasconWarrior</span> │ <span style=\"color: #008000; text-decoration-color: #008000\">1-0   </span> │ <span style=\"color: #008000; text-decoration-color: #008000\">2024.06.01</span> │ <span style=\"color: #008000; text-decoration-color: #008000\">00:01:21</span> │ <span style=\"color: #008000; text-decoration-color: #008000\">799      </span> │ <span style=\"color: #008000; text-decoration-color: #008000\">886      </span> │ <span style=\"color: #008000; text-decoration-color: #008000\">+22              </span> │ <span style=\"color: #008000; text-decoration-color: #008000\">-7               </span> │ <span style=\"color: #7f7f7f; text-decoration-color: #7f7f7f\">NULL</span>        │ <span style=\"color: #7f7f7f; text-decoration-color: #7f7f7f\">NULL</span>        │ <span style=\"color: #008000; text-decoration-color: #008000\">B01   </span> │ <span style=\"color: #008000; text-decoration-color: #008000\">Scandinavian Defense</span> │ <span style=\"color: #008000; text-decoration-color: #008000\">60+0        </span> │ <span style=\"color: #008000; text-decoration-color: #008000\">Normal     </span> │       <span style=\"color: #008080; text-decoration-color: #008080; font-weight: bold\">33</span> │ <span style=\"color: #008000; text-decoration-color: #008000\">[%eval 0.4] [%clk 0:00:05]  </span> │\n",
       "│ <span style=\"color: #008000; text-decoration-color: #008000\">Rated Bullet game</span> │ <a href=\"https://lichess.org/vyEI6vG7\" target=\"_blank\"><span style=\"color: #008000; text-decoration-color: #008000\">https://lichess.org/vyEI6vG7</span></a> │ <span style=\"color: #008000; text-decoration-color: #008000\">2024.06.01</span> │ <span style=\"color: #008000; text-decoration-color: #008000\">-     </span> │ <span style=\"color: #008000; text-decoration-color: #008000\">Danielsoto12</span> │ <span style=\"color: #008000; text-decoration-color: #008000\">GasconWarrior</span> │ <span style=\"color: #008000; text-decoration-color: #008000\">1-0   </span> │ <span style=\"color: #008000; text-decoration-color: #008000\">2024.06.01</span> │ <span style=\"color: #008000; text-decoration-color: #008000\">00:01:21</span> │ <span style=\"color: #008000; text-decoration-color: #008000\">799      </span> │ <span style=\"color: #008000; text-decoration-color: #008000\">886      </span> │ <span style=\"color: #008000; text-decoration-color: #008000\">+22              </span> │ <span style=\"color: #008000; text-decoration-color: #008000\">-7               </span> │ <span style=\"color: #7f7f7f; text-decoration-color: #7f7f7f\">NULL</span>        │ <span style=\"color: #7f7f7f; text-decoration-color: #7f7f7f\">NULL</span>        │ <span style=\"color: #008000; text-decoration-color: #008000\">B01   </span> │ <span style=\"color: #008000; text-decoration-color: #008000\">Scandinavian Defense</span> │ <span style=\"color: #008000; text-decoration-color: #008000\">60+0        </span> │ <span style=\"color: #008000; text-decoration-color: #008000\">Normal     </span> │       <span style=\"color: #008080; text-decoration-color: #008080; font-weight: bold\">34</span> │ <span style=\"color: #008000; text-decoration-color: #008000\">[%eval 3.28] [%clk 0:00:13] </span> │\n",
       "│ <span style=\"color: #008000; text-decoration-color: #008000\">Rated Bullet game</span> │ <a href=\"https://lichess.org/vyEI6vG7\" target=\"_blank\"><span style=\"color: #008000; text-decoration-color: #008000\">https://lichess.org/vyEI6vG7</span></a> │ <span style=\"color: #008000; text-decoration-color: #008000\">2024.06.01</span> │ <span style=\"color: #008000; text-decoration-color: #008000\">-     </span> │ <span style=\"color: #008000; text-decoration-color: #008000\">Danielsoto12</span> │ <span style=\"color: #008000; text-decoration-color: #008000\">GasconWarrior</span> │ <span style=\"color: #008000; text-decoration-color: #008000\">1-0   </span> │ <span style=\"color: #008000; text-decoration-color: #008000\">2024.06.01</span> │ <span style=\"color: #008000; text-decoration-color: #008000\">00:01:21</span> │ <span style=\"color: #008000; text-decoration-color: #008000\">799      </span> │ <span style=\"color: #008000; text-decoration-color: #008000\">886      </span> │ <span style=\"color: #008000; text-decoration-color: #008000\">+22              </span> │ <span style=\"color: #008000; text-decoration-color: #008000\">-7               </span> │ <span style=\"color: #7f7f7f; text-decoration-color: #7f7f7f\">NULL</span>        │ <span style=\"color: #7f7f7f; text-decoration-color: #7f7f7f\">NULL</span>        │ <span style=\"color: #008000; text-decoration-color: #008000\">B01   </span> │ <span style=\"color: #008000; text-decoration-color: #008000\">Scandinavian Defense</span> │ <span style=\"color: #008000; text-decoration-color: #008000\">60+0        </span> │ <span style=\"color: #008000; text-decoration-color: #008000\">Normal     </span> │       <span style=\"color: #008080; text-decoration-color: #008080; font-weight: bold\">35</span> │ <span style=\"color: #008000; text-decoration-color: #008000\">[%eval -2.27] [%clk 0:00:05]</span> │\n",
       "│ <span style=\"color: #008000; text-decoration-color: #008000\">Rated Bullet game</span> │ <a href=\"https://lichess.org/vyEI6vG7\" target=\"_blank\"><span style=\"color: #008000; text-decoration-color: #008000\">https://lichess.org/vyEI6vG7</span></a> │ <span style=\"color: #008000; text-decoration-color: #008000\">2024.06.01</span> │ <span style=\"color: #008000; text-decoration-color: #008000\">-     </span> │ <span style=\"color: #008000; text-decoration-color: #008000\">Danielsoto12</span> │ <span style=\"color: #008000; text-decoration-color: #008000\">GasconWarrior</span> │ <span style=\"color: #008000; text-decoration-color: #008000\">1-0   </span> │ <span style=\"color: #008000; text-decoration-color: #008000\">2024.06.01</span> │ <span style=\"color: #008000; text-decoration-color: #008000\">00:01:21</span> │ <span style=\"color: #008000; text-decoration-color: #008000\">799      </span> │ <span style=\"color: #008000; text-decoration-color: #008000\">886      </span> │ <span style=\"color: #008000; text-decoration-color: #008000\">+22              </span> │ <span style=\"color: #008000; text-decoration-color: #008000\">-7               </span> │ <span style=\"color: #7f7f7f; text-decoration-color: #7f7f7f\">NULL</span>        │ <span style=\"color: #7f7f7f; text-decoration-color: #7f7f7f\">NULL</span>        │ <span style=\"color: #008000; text-decoration-color: #008000\">B01   </span> │ <span style=\"color: #008000; text-decoration-color: #008000\">Scandinavian Defense</span> │ <span style=\"color: #008000; text-decoration-color: #008000\">60+0        </span> │ <span style=\"color: #008000; text-decoration-color: #008000\">Normal     </span> │       <span style=\"color: #008080; text-decoration-color: #008080; font-weight: bold\">36</span> │ <span style=\"color: #008000; text-decoration-color: #008000\">[%eval #2] [%clk 0:00:11]   </span> │\n",
       "│ <span style=\"color: #008000; text-decoration-color: #008000\">Rated Bullet game</span> │ <a href=\"https://lichess.org/vyEI6vG7\" target=\"_blank\"><span style=\"color: #008000; text-decoration-color: #008000\">https://lichess.org/vyEI6vG7</span></a> │ <span style=\"color: #008000; text-decoration-color: #008000\">2024.06.01</span> │ <span style=\"color: #008000; text-decoration-color: #008000\">-     </span> │ <span style=\"color: #008000; text-decoration-color: #008000\">Danielsoto12</span> │ <span style=\"color: #008000; text-decoration-color: #008000\">GasconWarrior</span> │ <span style=\"color: #008000; text-decoration-color: #008000\">1-0   </span> │ <span style=\"color: #008000; text-decoration-color: #008000\">2024.06.01</span> │ <span style=\"color: #008000; text-decoration-color: #008000\">00:01:21</span> │ <span style=\"color: #008000; text-decoration-color: #008000\">799      </span> │ <span style=\"color: #008000; text-decoration-color: #008000\">886      </span> │ <span style=\"color: #008000; text-decoration-color: #008000\">+22              </span> │ <span style=\"color: #008000; text-decoration-color: #008000\">-7               </span> │ <span style=\"color: #7f7f7f; text-decoration-color: #7f7f7f\">NULL</span>        │ <span style=\"color: #7f7f7f; text-decoration-color: #7f7f7f\">NULL</span>        │ <span style=\"color: #008000; text-decoration-color: #008000\">B01   </span> │ <span style=\"color: #008000; text-decoration-color: #008000\">Scandinavian Defense</span> │ <span style=\"color: #008000; text-decoration-color: #008000\">60+0        </span> │ <span style=\"color: #008000; text-decoration-color: #008000\">Normal     </span> │       <span style=\"color: #008080; text-decoration-color: #008080; font-weight: bold\">37</span> │ <span style=\"color: #008000; text-decoration-color: #008000\">[%eval #1] [%clk 0:00:02]   </span> │\n",
       "│ <span style=\"color: #008000; text-decoration-color: #008000\">Rated Bullet game</span> │ <a href=\"https://lichess.org/vyEI6vG7\" target=\"_blank\"><span style=\"color: #008000; text-decoration-color: #008000\">https://lichess.org/vyEI6vG7</span></a> │ <span style=\"color: #008000; text-decoration-color: #008000\">2024.06.01</span> │ <span style=\"color: #008000; text-decoration-color: #008000\">-     </span> │ <span style=\"color: #008000; text-decoration-color: #008000\">Danielsoto12</span> │ <span style=\"color: #008000; text-decoration-color: #008000\">GasconWarrior</span> │ <span style=\"color: #008000; text-decoration-color: #008000\">1-0   </span> │ <span style=\"color: #008000; text-decoration-color: #008000\">2024.06.01</span> │ <span style=\"color: #008000; text-decoration-color: #008000\">00:01:21</span> │ <span style=\"color: #008000; text-decoration-color: #008000\">799      </span> │ <span style=\"color: #008000; text-decoration-color: #008000\">886      </span> │ <span style=\"color: #008000; text-decoration-color: #008000\">+22              </span> │ <span style=\"color: #008000; text-decoration-color: #008000\">-7               </span> │ <span style=\"color: #7f7f7f; text-decoration-color: #7f7f7f\">NULL</span>        │ <span style=\"color: #7f7f7f; text-decoration-color: #7f7f7f\">NULL</span>        │ <span style=\"color: #008000; text-decoration-color: #008000\">B01   </span> │ <span style=\"color: #008000; text-decoration-color: #008000\">Scandinavian Defense</span> │ <span style=\"color: #008000; text-decoration-color: #008000\">60+0        </span> │ <span style=\"color: #008000; text-decoration-color: #008000\">Normal     </span> │       <span style=\"color: #008080; text-decoration-color: #008080; font-weight: bold\">38</span> │ <span style=\"color: #008000; text-decoration-color: #008000\">[%eval #1] [%clk 0:00:05]   </span> │\n",
       "│ <span style=\"color: #008000; text-decoration-color: #008000\">Rated Bullet game</span> │ <a href=\"https://lichess.org/vyEI6vG7\" target=\"_blank\"><span style=\"color: #008000; text-decoration-color: #008000\">https://lichess.org/vyEI6vG7</span></a> │ <span style=\"color: #008000; text-decoration-color: #008000\">2024.06.01</span> │ <span style=\"color: #008000; text-decoration-color: #008000\">-     </span> │ <span style=\"color: #008000; text-decoration-color: #008000\">Danielsoto12</span> │ <span style=\"color: #008000; text-decoration-color: #008000\">GasconWarrior</span> │ <span style=\"color: #008000; text-decoration-color: #008000\">1-0   </span> │ <span style=\"color: #008000; text-decoration-color: #008000\">2024.06.01</span> │ <span style=\"color: #008000; text-decoration-color: #008000\">00:01:21</span> │ <span style=\"color: #008000; text-decoration-color: #008000\">799      </span> │ <span style=\"color: #008000; text-decoration-color: #008000\">886      </span> │ <span style=\"color: #008000; text-decoration-color: #008000\">+22              </span> │ <span style=\"color: #008000; text-decoration-color: #008000\">-7               </span> │ <span style=\"color: #7f7f7f; text-decoration-color: #7f7f7f\">NULL</span>        │ <span style=\"color: #7f7f7f; text-decoration-color: #7f7f7f\">NULL</span>        │ <span style=\"color: #008000; text-decoration-color: #008000\">B01   </span> │ <span style=\"color: #008000; text-decoration-color: #008000\">Scandinavian Defense</span> │ <span style=\"color: #008000; text-decoration-color: #008000\">60+0        </span> │ <span style=\"color: #008000; text-decoration-color: #008000\">Normal     </span> │       <span style=\"color: #008080; text-decoration-color: #008080; font-weight: bold\">39</span> │ <span style=\"color: #008000; text-decoration-color: #008000\">[%clk 0:00:01]              </span> │\n",
       "└───────────────────┴──────────────────────────────┴────────────┴────────┴──────────────┴───────────────┴────────┴────────────┴──────────┴───────────┴───────────┴───────────────────┴───────────────────┴─────────────┴─────────────┴────────┴──────────────────────┴──────────────┴─────────────┴──────────┴──────────────────────────────┘\n",
       "</pre>\n"
      ],
      "text/plain": [
       "┏━━━━━━━━━━━━━━━━━━━┳━━━━━━━━━━━━━━━━━━━━━━━━━━━━━━┳━━━━━━━━━━━━┳━━━━━━━━┳━━━━━━━━━━━━━━┳━━━━━━━━━━━━━━━┳━━━━━━━━┳━━━━━━━━━━━━┳━━━━━━━━━━┳━━━━━━━━━━━┳━━━━━━━━━━━┳━━━━━━━━━━━━━━━━━━━┳━━━━━━━━━━━━━━━━━━━┳━━━━━━━━━━━━━┳━━━━━━━━━━━━━┳━━━━━━━━┳━━━━━━━━━━━━━━━━━━━━━━┳━━━━━━━━━━━━━━┳━━━━━━━━━━━━━┳━━━━━━━━━━┳━━━━━━━━━━━━━━━━━━━━━━━━━━━━━━┓\n",
       "┃\u001b[1m \u001b[0m\u001b[1mevent\u001b[0m\u001b[1m            \u001b[0m\u001b[1m \u001b[0m┃\u001b[1m \u001b[0m\u001b[1msite\u001b[0m\u001b[1m                        \u001b[0m\u001b[1m \u001b[0m┃\u001b[1m \u001b[0m\u001b[1mdate\u001b[0m\u001b[1m      \u001b[0m\u001b[1m \u001b[0m┃\u001b[1m \u001b[0m\u001b[1mround\u001b[0m\u001b[1m \u001b[0m\u001b[1m \u001b[0m┃\u001b[1m \u001b[0m\u001b[1mwhite\u001b[0m\u001b[1m       \u001b[0m\u001b[1m \u001b[0m┃\u001b[1m \u001b[0m\u001b[1mblack\u001b[0m\u001b[1m        \u001b[0m\u001b[1m \u001b[0m┃\u001b[1m \u001b[0m\u001b[1mresult\u001b[0m\u001b[1m \u001b[0m┃\u001b[1m \u001b[0m\u001b[1mutc_date\u001b[0m\u001b[1m  \u001b[0m\u001b[1m \u001b[0m┃\u001b[1m \u001b[0m\u001b[1mutc_time\u001b[0m\u001b[1m \u001b[0m┃\u001b[1m \u001b[0m\u001b[1mwhite_elo\u001b[0m\u001b[1m \u001b[0m┃\u001b[1m \u001b[0m\u001b[1mblack_elo\u001b[0m\u001b[1m \u001b[0m┃\u001b[1m \u001b[0m\u001b[1mwhite_rating_diff\u001b[0m\u001b[1m \u001b[0m┃\u001b[1m \u001b[0m\u001b[1mblack_rating_diff\u001b[0m\u001b[1m \u001b[0m┃\u001b[1m \u001b[0m\u001b[1mwhite_title\u001b[0m\u001b[1m \u001b[0m┃\u001b[1m \u001b[0m\u001b[1mblack_title\u001b[0m\u001b[1m \u001b[0m┃\u001b[1m \u001b[0m\u001b[1meco\u001b[0m\u001b[1m   \u001b[0m\u001b[1m \u001b[0m┃\u001b[1m \u001b[0m\u001b[1mopening\u001b[0m\u001b[1m             \u001b[0m\u001b[1m \u001b[0m┃\u001b[1m \u001b[0m\u001b[1mtime_control\u001b[0m\u001b[1m \u001b[0m┃\u001b[1m \u001b[0m\u001b[1mtermination\u001b[0m\u001b[1m \u001b[0m┃\u001b[1m \u001b[0m\u001b[1mmove_ply\u001b[0m\u001b[1m \u001b[0m┃\u001b[1m \u001b[0m\u001b[1mmove_comment\u001b[0m\u001b[1m                \u001b[0m\u001b[1m \u001b[0m┃\n",
       "┡━━━━━━━━━━━━━━━━━━━╇━━━━━━━━━━━━━━━━━━━━━━━━━━━━━━╇━━━━━━━━━━━━╇━━━━━━━━╇━━━━━━━━━━━━━━╇━━━━━━━━━━━━━━━╇━━━━━━━━╇━━━━━━━━━━━━╇━━━━━━━━━━╇━━━━━━━━━━━╇━━━━━━━━━━━╇━━━━━━━━━━━━━━━━━━━╇━━━━━━━━━━━━━━━━━━━╇━━━━━━━━━━━━━╇━━━━━━━━━━━━━╇━━━━━━━━╇━━━━━━━━━━━━━━━━━━━━━━╇━━━━━━━━━━━━━━╇━━━━━━━━━━━━━╇━━━━━━━━━━╇━━━━━━━━━━━━━━━━━━━━━━━━━━━━━━┩\n",
       "│ \u001b[2mstring\u001b[0m            │ \u001b[2mstring\u001b[0m                       │ \u001b[2mstring\u001b[0m     │ \u001b[2mstring\u001b[0m │ \u001b[2mstring\u001b[0m       │ \u001b[2mstring\u001b[0m        │ \u001b[2mstring\u001b[0m │ \u001b[2mstring\u001b[0m     │ \u001b[2mstring\u001b[0m   │ \u001b[2mstring\u001b[0m    │ \u001b[2mstring\u001b[0m    │ \u001b[2mstring\u001b[0m            │ \u001b[2mstring\u001b[0m            │ \u001b[2mstring\u001b[0m      │ \u001b[2mstring\u001b[0m      │ \u001b[2mstring\u001b[0m │ \u001b[2mstring\u001b[0m               │ \u001b[2mstring\u001b[0m       │ \u001b[2mstring\u001b[0m      │ \u001b[2mint64\u001b[0m    │ \u001b[2mstring\u001b[0m                       │\n",
       "├───────────────────┼──────────────────────────────┼────────────┼────────┼──────────────┼───────────────┼────────┼────────────┼──────────┼───────────┼───────────┼───────────────────┼───────────────────┼─────────────┼─────────────┼────────┼──────────────────────┼──────────────┼─────────────┼──────────┼──────────────────────────────┤\n",
       "│ \u001b[32mRated Bullet game\u001b[0m │ \u001b]8;id=905382;https://lichess.org/vyEI6vG7\u001b\\\u001b[32mhttps://lichess.org/vyEI6vG7\u001b[0m\u001b]8;;\u001b\\ │ \u001b[32m2024.06.01\u001b[0m │ \u001b[32m-     \u001b[0m │ \u001b[32mDanielsoto12\u001b[0m │ \u001b[32mGasconWarrior\u001b[0m │ \u001b[32m1-0   \u001b[0m │ \u001b[32m2024.06.01\u001b[0m │ \u001b[32m00:01:21\u001b[0m │ \u001b[32m799      \u001b[0m │ \u001b[32m886      \u001b[0m │ \u001b[32m+22              \u001b[0m │ \u001b[32m-7               \u001b[0m │ \u001b[2mNULL\u001b[0m        │ \u001b[2mNULL\u001b[0m        │ \u001b[32mB01   \u001b[0m │ \u001b[32mScandinavian Defense\u001b[0m │ \u001b[32m60+0        \u001b[0m │ \u001b[32mNormal     \u001b[0m │       \u001b[1;36m31\u001b[0m │ \u001b[32m[%eval 3.57] [%clk 0:00:05] \u001b[0m │\n",
       "│ \u001b[32mRated Bullet game\u001b[0m │ \u001b]8;id=96992;https://lichess.org/vyEI6vG7\u001b\\\u001b[32mhttps://lichess.org/vyEI6vG7\u001b[0m\u001b]8;;\u001b\\ │ \u001b[32m2024.06.01\u001b[0m │ \u001b[32m-     \u001b[0m │ \u001b[32mDanielsoto12\u001b[0m │ \u001b[32mGasconWarrior\u001b[0m │ \u001b[32m1-0   \u001b[0m │ \u001b[32m2024.06.01\u001b[0m │ \u001b[32m00:01:21\u001b[0m │ \u001b[32m799      \u001b[0m │ \u001b[32m886      \u001b[0m │ \u001b[32m+22              \u001b[0m │ \u001b[32m-7               \u001b[0m │ \u001b[2mNULL\u001b[0m        │ \u001b[2mNULL\u001b[0m        │ \u001b[32mB01   \u001b[0m │ \u001b[32mScandinavian Defense\u001b[0m │ \u001b[32m60+0        \u001b[0m │ \u001b[32mNormal     \u001b[0m │       \u001b[1;36m32\u001b[0m │ \u001b[32m[%eval 5.24] [%clk 0:00:15] \u001b[0m │\n",
       "│ \u001b[32mRated Bullet game\u001b[0m │ \u001b]8;id=60863;https://lichess.org/vyEI6vG7\u001b\\\u001b[32mhttps://lichess.org/vyEI6vG7\u001b[0m\u001b]8;;\u001b\\ │ \u001b[32m2024.06.01\u001b[0m │ \u001b[32m-     \u001b[0m │ \u001b[32mDanielsoto12\u001b[0m │ \u001b[32mGasconWarrior\u001b[0m │ \u001b[32m1-0   \u001b[0m │ \u001b[32m2024.06.01\u001b[0m │ \u001b[32m00:01:21\u001b[0m │ \u001b[32m799      \u001b[0m │ \u001b[32m886      \u001b[0m │ \u001b[32m+22              \u001b[0m │ \u001b[32m-7               \u001b[0m │ \u001b[2mNULL\u001b[0m        │ \u001b[2mNULL\u001b[0m        │ \u001b[32mB01   \u001b[0m │ \u001b[32mScandinavian Defense\u001b[0m │ \u001b[32m60+0        \u001b[0m │ \u001b[32mNormal     \u001b[0m │       \u001b[1;36m33\u001b[0m │ \u001b[32m[%eval 0.4] [%clk 0:00:05]  \u001b[0m │\n",
       "│ \u001b[32mRated Bullet game\u001b[0m │ \u001b]8;id=370022;https://lichess.org/vyEI6vG7\u001b\\\u001b[32mhttps://lichess.org/vyEI6vG7\u001b[0m\u001b]8;;\u001b\\ │ \u001b[32m2024.06.01\u001b[0m │ \u001b[32m-     \u001b[0m │ \u001b[32mDanielsoto12\u001b[0m │ \u001b[32mGasconWarrior\u001b[0m │ \u001b[32m1-0   \u001b[0m │ \u001b[32m2024.06.01\u001b[0m │ \u001b[32m00:01:21\u001b[0m │ \u001b[32m799      \u001b[0m │ \u001b[32m886      \u001b[0m │ \u001b[32m+22              \u001b[0m │ \u001b[32m-7               \u001b[0m │ \u001b[2mNULL\u001b[0m        │ \u001b[2mNULL\u001b[0m        │ \u001b[32mB01   \u001b[0m │ \u001b[32mScandinavian Defense\u001b[0m │ \u001b[32m60+0        \u001b[0m │ \u001b[32mNormal     \u001b[0m │       \u001b[1;36m34\u001b[0m │ \u001b[32m[%eval 3.28] [%clk 0:00:13] \u001b[0m │\n",
       "│ \u001b[32mRated Bullet game\u001b[0m │ \u001b]8;id=442163;https://lichess.org/vyEI6vG7\u001b\\\u001b[32mhttps://lichess.org/vyEI6vG7\u001b[0m\u001b]8;;\u001b\\ │ \u001b[32m2024.06.01\u001b[0m │ \u001b[32m-     \u001b[0m │ \u001b[32mDanielsoto12\u001b[0m │ \u001b[32mGasconWarrior\u001b[0m │ \u001b[32m1-0   \u001b[0m │ \u001b[32m2024.06.01\u001b[0m │ \u001b[32m00:01:21\u001b[0m │ \u001b[32m799      \u001b[0m │ \u001b[32m886      \u001b[0m │ \u001b[32m+22              \u001b[0m │ \u001b[32m-7               \u001b[0m │ \u001b[2mNULL\u001b[0m        │ \u001b[2mNULL\u001b[0m        │ \u001b[32mB01   \u001b[0m │ \u001b[32mScandinavian Defense\u001b[0m │ \u001b[32m60+0        \u001b[0m │ \u001b[32mNormal     \u001b[0m │       \u001b[1;36m35\u001b[0m │ \u001b[32m[%eval -2.27] [%clk 0:00:05]\u001b[0m │\n",
       "│ \u001b[32mRated Bullet game\u001b[0m │ \u001b]8;id=559869;https://lichess.org/vyEI6vG7\u001b\\\u001b[32mhttps://lichess.org/vyEI6vG7\u001b[0m\u001b]8;;\u001b\\ │ \u001b[32m2024.06.01\u001b[0m │ \u001b[32m-     \u001b[0m │ \u001b[32mDanielsoto12\u001b[0m │ \u001b[32mGasconWarrior\u001b[0m │ \u001b[32m1-0   \u001b[0m │ \u001b[32m2024.06.01\u001b[0m │ \u001b[32m00:01:21\u001b[0m │ \u001b[32m799      \u001b[0m │ \u001b[32m886      \u001b[0m │ \u001b[32m+22              \u001b[0m │ \u001b[32m-7               \u001b[0m │ \u001b[2mNULL\u001b[0m        │ \u001b[2mNULL\u001b[0m        │ \u001b[32mB01   \u001b[0m │ \u001b[32mScandinavian Defense\u001b[0m │ \u001b[32m60+0        \u001b[0m │ \u001b[32mNormal     \u001b[0m │       \u001b[1;36m36\u001b[0m │ \u001b[32m[%eval #2] [%clk 0:00:11]   \u001b[0m │\n",
       "│ \u001b[32mRated Bullet game\u001b[0m │ \u001b]8;id=835492;https://lichess.org/vyEI6vG7\u001b\\\u001b[32mhttps://lichess.org/vyEI6vG7\u001b[0m\u001b]8;;\u001b\\ │ \u001b[32m2024.06.01\u001b[0m │ \u001b[32m-     \u001b[0m │ \u001b[32mDanielsoto12\u001b[0m │ \u001b[32mGasconWarrior\u001b[0m │ \u001b[32m1-0   \u001b[0m │ \u001b[32m2024.06.01\u001b[0m │ \u001b[32m00:01:21\u001b[0m │ \u001b[32m799      \u001b[0m │ \u001b[32m886      \u001b[0m │ \u001b[32m+22              \u001b[0m │ \u001b[32m-7               \u001b[0m │ \u001b[2mNULL\u001b[0m        │ \u001b[2mNULL\u001b[0m        │ \u001b[32mB01   \u001b[0m │ \u001b[32mScandinavian Defense\u001b[0m │ \u001b[32m60+0        \u001b[0m │ \u001b[32mNormal     \u001b[0m │       \u001b[1;36m37\u001b[0m │ \u001b[32m[%eval #1] [%clk 0:00:02]   \u001b[0m │\n",
       "│ \u001b[32mRated Bullet game\u001b[0m │ \u001b]8;id=733354;https://lichess.org/vyEI6vG7\u001b\\\u001b[32mhttps://lichess.org/vyEI6vG7\u001b[0m\u001b]8;;\u001b\\ │ \u001b[32m2024.06.01\u001b[0m │ \u001b[32m-     \u001b[0m │ \u001b[32mDanielsoto12\u001b[0m │ \u001b[32mGasconWarrior\u001b[0m │ \u001b[32m1-0   \u001b[0m │ \u001b[32m2024.06.01\u001b[0m │ \u001b[32m00:01:21\u001b[0m │ \u001b[32m799      \u001b[0m │ \u001b[32m886      \u001b[0m │ \u001b[32m+22              \u001b[0m │ \u001b[32m-7               \u001b[0m │ \u001b[2mNULL\u001b[0m        │ \u001b[2mNULL\u001b[0m        │ \u001b[32mB01   \u001b[0m │ \u001b[32mScandinavian Defense\u001b[0m │ \u001b[32m60+0        \u001b[0m │ \u001b[32mNormal     \u001b[0m │       \u001b[1;36m38\u001b[0m │ \u001b[32m[%eval #1] [%clk 0:00:05]   \u001b[0m │\n",
       "│ \u001b[32mRated Bullet game\u001b[0m │ \u001b]8;id=571002;https://lichess.org/vyEI6vG7\u001b\\\u001b[32mhttps://lichess.org/vyEI6vG7\u001b[0m\u001b]8;;\u001b\\ │ \u001b[32m2024.06.01\u001b[0m │ \u001b[32m-     \u001b[0m │ \u001b[32mDanielsoto12\u001b[0m │ \u001b[32mGasconWarrior\u001b[0m │ \u001b[32m1-0   \u001b[0m │ \u001b[32m2024.06.01\u001b[0m │ \u001b[32m00:01:21\u001b[0m │ \u001b[32m799      \u001b[0m │ \u001b[32m886      \u001b[0m │ \u001b[32m+22              \u001b[0m │ \u001b[32m-7               \u001b[0m │ \u001b[2mNULL\u001b[0m        │ \u001b[2mNULL\u001b[0m        │ \u001b[32mB01   \u001b[0m │ \u001b[32mScandinavian Defense\u001b[0m │ \u001b[32m60+0        \u001b[0m │ \u001b[32mNormal     \u001b[0m │       \u001b[1;36m39\u001b[0m │ \u001b[32m[%clk 0:00:01]              \u001b[0m │\n",
       "└───────────────────┴──────────────────────────────┴────────────┴────────┴──────────────┴───────────────┴────────┴────────────┴──────────┴───────────┴───────────┴───────────────────┴───────────────────┴─────────────┴─────────────┴────────┴──────────────────────┴──────────────┴─────────────┴──────────┴──────────────────────────────┘"
      ]
     },
     "execution_count": 27,
     "metadata": {},
     "output_type": "execute_result"
    }
   ],
   "source": [
    "moves[(moves.site == \"https://lichess.org/vyEI6vG7\") & (moves.move_ply > 30)]"
   ]
  },
  {
   "cell_type": "markdown",
   "id": "e9fa537c-90b0-4647-8f93-eed6322cb277",
   "metadata": {},
   "source": [
    "Just under 0.2% of games have evaluations but are missing them on more than one (likely the final) move; this seems like something we can safely ignore."
   ]
  },
  {
   "cell_type": "code",
   "execution_count": 28,
   "id": "52ef2fd9-dbc1-4307-b970-6decc685336a",
   "metadata": {},
   "outputs": [
    {
     "name": "stdout",
     "output_type": "stream",
     "text": [
      "CPU times: user 8min 14s, sys: 32.2 s, total: 8min 47s\n",
      "Wall time: 2min 9s\n"
     ]
    },
    {
     "data": {
      "text/html": [
       "<pre style=\"white-space:pre;overflow-x:auto;line-height:normal;font-family:Menlo,'DejaVu Sans Mono',consolas,'Courier New',monospace\">┏━━━━━━━━━━━━━━━━━━━┳━━━━━━━━━━━━━━━━━━━━━━━━━┓\n",
       "┃<span style=\"font-weight: bold\"> has_no_eval_count </span>┃<span style=\"font-weight: bold\"> has_no_eval_count_count </span>┃\n",
       "┡━━━━━━━━━━━━━━━━━━━╇━━━━━━━━━━━━━━━━━━━━━━━━━┩\n",
       "│ <span style=\"color: #7f7f7f; text-decoration-color: #7f7f7f\">int64</span>             │ <span style=\"color: #7f7f7f; text-decoration-color: #7f7f7f\">int64</span>                   │\n",
       "├───────────────────┼─────────────────────────┤\n",
       "│                <span style=\"color: #008080; text-decoration-color: #008080; font-weight: bold\">-1</span> │                <span style=\"color: #008080; text-decoration-color: #008080; font-weight: bold\">81011995</span> │\n",
       "│                 <span style=\"color: #008080; text-decoration-color: #008080; font-weight: bold\">0</span> │                 <span style=\"color: #008080; text-decoration-color: #008080; font-weight: bold\">5759094</span> │\n",
       "│                 <span style=\"color: #008080; text-decoration-color: #008080; font-weight: bold\">1</span> │                 <span style=\"color: #008080; text-decoration-color: #008080; font-weight: bold\">2395050</span> │\n",
       "│                 <span style=\"color: #008080; text-decoration-color: #008080; font-weight: bold\">2</span> │                     <span style=\"color: #008080; text-decoration-color: #008080; font-weight: bold\">122</span> │\n",
       "│                 <span style=\"color: #008080; text-decoration-color: #008080; font-weight: bold\">3</span> │                      <span style=\"color: #008080; text-decoration-color: #008080; font-weight: bold\">49</span> │\n",
       "│                 <span style=\"color: #008080; text-decoration-color: #008080; font-weight: bold\">4</span> │                      <span style=\"color: #008080; text-decoration-color: #008080; font-weight: bold\">14</span> │\n",
       "│                 <span style=\"color: #008080; text-decoration-color: #008080; font-weight: bold\">5</span> │                      <span style=\"color: #008080; text-decoration-color: #008080; font-weight: bold\">12</span> │\n",
       "│                 <span style=\"color: #008080; text-decoration-color: #008080; font-weight: bold\">7</span> │                       <span style=\"color: #008080; text-decoration-color: #008080; font-weight: bold\">4</span> │\n",
       "│                 <span style=\"color: #008080; text-decoration-color: #008080; font-weight: bold\">8</span> │                       <span style=\"color: #008080; text-decoration-color: #008080; font-weight: bold\">1</span> │\n",
       "│                 <span style=\"color: #008080; text-decoration-color: #008080; font-weight: bold\">9</span> │                       <span style=\"color: #008080; text-decoration-color: #008080; font-weight: bold\">2</span> │\n",
       "│                 <span style=\"color: #7f7f7f; text-decoration-color: #7f7f7f\">…</span> │                       <span style=\"color: #7f7f7f; text-decoration-color: #7f7f7f\">…</span> │\n",
       "└───────────────────┴─────────────────────────┘\n",
       "</pre>\n"
      ],
      "text/plain": [
       "┏━━━━━━━━━━━━━━━━━━━┳━━━━━━━━━━━━━━━━━━━━━━━━━┓\n",
       "┃\u001b[1m \u001b[0m\u001b[1mhas_no_eval_count\u001b[0m\u001b[1m \u001b[0m┃\u001b[1m \u001b[0m\u001b[1mhas_no_eval_count_count\u001b[0m\u001b[1m \u001b[0m┃\n",
       "┡━━━━━━━━━━━━━━━━━━━╇━━━━━━━━━━━━━━━━━━━━━━━━━┩\n",
       "│ \u001b[2mint64\u001b[0m             │ \u001b[2mint64\u001b[0m                   │\n",
       "├───────────────────┼─────────────────────────┤\n",
       "│                \u001b[1;36m-1\u001b[0m │                \u001b[1;36m81011995\u001b[0m │\n",
       "│                 \u001b[1;36m0\u001b[0m │                 \u001b[1;36m5759094\u001b[0m │\n",
       "│                 \u001b[1;36m1\u001b[0m │                 \u001b[1;36m2395050\u001b[0m │\n",
       "│                 \u001b[1;36m2\u001b[0m │                     \u001b[1;36m122\u001b[0m │\n",
       "│                 \u001b[1;36m3\u001b[0m │                      \u001b[1;36m49\u001b[0m │\n",
       "│                 \u001b[1;36m4\u001b[0m │                      \u001b[1;36m14\u001b[0m │\n",
       "│                 \u001b[1;36m5\u001b[0m │                      \u001b[1;36m12\u001b[0m │\n",
       "│                 \u001b[1;36m7\u001b[0m │                       \u001b[1;36m4\u001b[0m │\n",
       "│                 \u001b[1;36m8\u001b[0m │                       \u001b[1;36m1\u001b[0m │\n",
       "│                 \u001b[1;36m9\u001b[0m │                       \u001b[1;36m2\u001b[0m │\n",
       "│                 \u001b[2m…\u001b[0m │                       \u001b[2m…\u001b[0m │\n",
       "└───────────────────┴─────────────────────────┘\n"
      ]
     },
     "execution_count": 28,
     "metadata": {},
     "output_type": "execute_result"
    }
   ],
   "source": [
    "%%time\n",
    "moves.mutate(has_eval=_.move_comment.contains(\"[%eval\")).group_by(_.site).agg(\n",
    "    percent_has_eval=_.has_eval.mean(),\n",
    "    has_no_eval_count=_.count() - _.has_eval.sum(),\n",
    ").mutate(\n",
    "    has_no_eval_count=ibis.ifelse(_.percent_has_eval == 0, -1, _.has_no_eval_count)\n",
    ").has_no_eval_count.value_counts().order_by(\n",
    "    \"has_no_eval_count\"\n",
    ").preview()"
   ]
  },
  {
   "cell_type": "code",
   "execution_count": 29,
   "id": "4062de11-0be0-40f2-9d1e-c94b551c30ae",
   "metadata": {},
   "outputs": [
    {
     "name": "stdout",
     "output_type": "stream",
     "text": [
      "CPU times: user 7min 40s, sys: 31.9 s, total: 8min 11s\n",
      "Wall time: 2min 4s\n"
     ]
    },
    {
     "data": {
      "text/plain": [
       "8154144"
      ]
     },
     "execution_count": 29,
     "metadata": {},
     "output_type": "execute_result"
    }
   ],
   "source": [
    "%%time\n",
    "games_with_evals = (\n",
    "    moves.mutate(has_eval=_.move_comment.contains(\"[%eval\"))\n",
    "    .group_by(_.site)\n",
    "    .agg(\n",
    "        percent_has_eval=_.has_eval.mean(),\n",
    "        has_no_eval_count=_.count() - _.has_eval.sum(),\n",
    "    )\n",
    "    .mutate(\n",
    "        has_no_eval_count=ibis.ifelse(_.percent_has_eval == 0, -1, _.has_no_eval_count)\n",
    "    )[_.has_no_eval_count.between(0, 1)]\n",
    ")\n",
    "games_with_evals.count().to_pyarrow().as_py()"
   ]
  },
  {
   "cell_type": "code",
   "execution_count": 30,
   "id": "73ddacee-377c-4ff2-801a-afd2cd24511b",
   "metadata": {},
   "outputs": [
    {
     "name": "stdout",
     "output_type": "stream",
     "text": [
      "CPU times: user 10min 54s, sys: 34.7 s, total: 11min 29s\n",
      "Wall time: 2min 24s\n"
     ]
    },
    {
     "data": {
      "text/plain": [
       "8154144"
      ]
     },
     "execution_count": 30,
     "metadata": {},
     "output_type": "execute_result"
    }
   ],
   "source": [
    "%%time\n",
    "moves_with_evals = games_with_evals[[\"site\"]].join(moves, \"site\")\n",
    "moves_with_evals.site.nunique().to_pyarrow().as_py()"
   ]
  },
  {
   "cell_type": "code",
   "execution_count": 31,
   "id": "98522b01-4abc-4503-ab2e-b35e213153a2",
   "metadata": {},
   "outputs": [
    {
     "name": "stdout",
     "output_type": "stream",
     "text": [
      "CPU times: user 38min 43s, sys: 1min 15s, total: 39min 59s\n",
      "Wall time: 6min 19s\n"
     ]
    }
   ],
   "source": [
    "%%time\n",
    "moves_with_evals.to_parquet(\"moves_with_evals.parquet\")"
   ]
  },
  {
   "cell_type": "markdown",
   "id": "e341e7bb-0c39-4033-a004-41d2e2551fb2",
   "metadata": {},
   "source": [
    "For the remainder of this notebook, we'll focus on just the games with evaluations."
   ]
  },
  {
   "cell_type": "code",
   "execution_count": 32,
   "id": "6f183d2f-b579-4563-babb-e421b2fcfe9e",
   "metadata": {},
   "outputs": [
    {
     "data": {
      "text/html": [
       "<pre style=\"white-space:pre;overflow-x:auto;line-height:normal;font-family:Menlo,'DejaVu Sans Mono',consolas,'Courier New',monospace\">┏━━━━━━━━━━━━━━━━━━━━━━━━━━━━━━┳━━━━━━━━━━━━━━━━━━┳━━━━━━━━━━━━┳━━━━━━━━┳━━━━━━━━━━━━━━┳━━━━━━━━━━━━┳━━━━━━━━┳━━━━━━━━━━━━┳━━━━━━━━━━┳━━━━━━━━━━━┳━━━━━━━━━━━┳━━━━━━━━━━━━━━━━━━━┳━━━━━━━━━━━━━━━━━━━┳━━━━━━━━━━━━━┳━━━━━━━━━━━━━┳━━━━━━━━┳━━━━━━━━━━━━━━━━━━━━━━┳━━━━━━━━━━━━━━┳━━━━━━━━━━━━━┳━━━━━━━━━━┳━━━━━━━━━━━━━━━━━━━━━━━━━━━━━━┓\n",
       "┃<span style=\"font-weight: bold\"> site                         </span>┃<span style=\"font-weight: bold\"> event            </span>┃<span style=\"font-weight: bold\"> date       </span>┃<span style=\"font-weight: bold\"> round  </span>┃<span style=\"font-weight: bold\"> white        </span>┃<span style=\"font-weight: bold\"> black      </span>┃<span style=\"font-weight: bold\"> result </span>┃<span style=\"font-weight: bold\"> utc_date   </span>┃<span style=\"font-weight: bold\"> utc_time </span>┃<span style=\"font-weight: bold\"> white_elo </span>┃<span style=\"font-weight: bold\"> black_elo </span>┃<span style=\"font-weight: bold\"> white_rating_diff </span>┃<span style=\"font-weight: bold\"> black_rating_diff </span>┃<span style=\"font-weight: bold\"> white_title </span>┃<span style=\"font-weight: bold\"> black_title </span>┃<span style=\"font-weight: bold\"> eco    </span>┃<span style=\"font-weight: bold\"> opening              </span>┃<span style=\"font-weight: bold\"> time_control </span>┃<span style=\"font-weight: bold\"> termination </span>┃<span style=\"font-weight: bold\"> move_ply </span>┃<span style=\"font-weight: bold\"> move_comment                 </span>┃\n",
       "┡━━━━━━━━━━━━━━━━━━━━━━━━━━━━━━╇━━━━━━━━━━━━━━━━━━╇━━━━━━━━━━━━╇━━━━━━━━╇━━━━━━━━━━━━━━╇━━━━━━━━━━━━╇━━━━━━━━╇━━━━━━━━━━━━╇━━━━━━━━━━╇━━━━━━━━━━━╇━━━━━━━━━━━╇━━━━━━━━━━━━━━━━━━━╇━━━━━━━━━━━━━━━━━━━╇━━━━━━━━━━━━━╇━━━━━━━━━━━━━╇━━━━━━━━╇━━━━━━━━━━━━━━━━━━━━━━╇━━━━━━━━━━━━━━╇━━━━━━━━━━━━━╇━━━━━━━━━━╇━━━━━━━━━━━━━━━━━━━━━━━━━━━━━━┩\n",
       "│ <span style=\"color: #7f7f7f; text-decoration-color: #7f7f7f\">string</span>                       │ <span style=\"color: #7f7f7f; text-decoration-color: #7f7f7f\">string</span>           │ <span style=\"color: #7f7f7f; text-decoration-color: #7f7f7f\">string</span>     │ <span style=\"color: #7f7f7f; text-decoration-color: #7f7f7f\">string</span> │ <span style=\"color: #7f7f7f; text-decoration-color: #7f7f7f\">string</span>       │ <span style=\"color: #7f7f7f; text-decoration-color: #7f7f7f\">string</span>     │ <span style=\"color: #7f7f7f; text-decoration-color: #7f7f7f\">string</span> │ <span style=\"color: #7f7f7f; text-decoration-color: #7f7f7f\">string</span>     │ <span style=\"color: #7f7f7f; text-decoration-color: #7f7f7f\">string</span>   │ <span style=\"color: #7f7f7f; text-decoration-color: #7f7f7f\">string</span>    │ <span style=\"color: #7f7f7f; text-decoration-color: #7f7f7f\">string</span>    │ <span style=\"color: #7f7f7f; text-decoration-color: #7f7f7f\">string</span>            │ <span style=\"color: #7f7f7f; text-decoration-color: #7f7f7f\">string</span>            │ <span style=\"color: #7f7f7f; text-decoration-color: #7f7f7f\">string</span>      │ <span style=\"color: #7f7f7f; text-decoration-color: #7f7f7f\">string</span>      │ <span style=\"color: #7f7f7f; text-decoration-color: #7f7f7f\">string</span> │ <span style=\"color: #7f7f7f; text-decoration-color: #7f7f7f\">string</span>               │ <span style=\"color: #7f7f7f; text-decoration-color: #7f7f7f\">string</span>       │ <span style=\"color: #7f7f7f; text-decoration-color: #7f7f7f\">string</span>      │ <span style=\"color: #7f7f7f; text-decoration-color: #7f7f7f\">int64</span>    │ <span style=\"color: #7f7f7f; text-decoration-color: #7f7f7f\">string</span>                       │\n",
       "├──────────────────────────────┼──────────────────┼────────────┼────────┼──────────────┼────────────┼────────┼────────────┼──────────┼───────────┼───────────┼───────────────────┼───────────────────┼─────────────┼─────────────┼────────┼──────────────────────┼──────────────┼─────────────┼──────────┼──────────────────────────────┤\n",
       "│ <a href=\"https://lichess.org/mgY17wbf\" target=\"_blank\"><span style=\"color: #008000; text-decoration-color: #008000\">https://lichess.org/mgY17wbf</span></a> │ <span style=\"color: #008000; text-decoration-color: #008000\">Rated Blitz game</span> │ <span style=\"color: #008000; text-decoration-color: #008000\">2024.06.01</span> │ <span style=\"color: #008000; text-decoration-color: #008000\">-     </span> │ <span style=\"color: #008000; text-decoration-color: #008000\">jjuwubanmwen</span> │ <span style=\"color: #008000; text-decoration-color: #008000\">upthegills</span> │ <span style=\"color: #008000; text-decoration-color: #008000\">1-0   </span> │ <span style=\"color: #008000; text-decoration-color: #008000\">2024.06.01</span> │ <span style=\"color: #008000; text-decoration-color: #008000\">00:36:42</span> │ <span style=\"color: #008000; text-decoration-color: #008000\">1508     </span> │ <span style=\"color: #008000; text-decoration-color: #008000\">1392     </span> │ <span style=\"color: #008000; text-decoration-color: #008000\">+9               </span> │ <span style=\"color: #008000; text-decoration-color: #008000\">-4               </span> │ <span style=\"color: #7f7f7f; text-decoration-color: #7f7f7f\">NULL</span>        │ <span style=\"color: #7f7f7f; text-decoration-color: #7f7f7f\">NULL</span>        │ <span style=\"color: #008000; text-decoration-color: #008000\">A00   </span> │ <span style=\"color: #008000; text-decoration-color: #008000\">Van't Kruijs Opening</span> │ <span style=\"color: #008000; text-decoration-color: #008000\">180+0       </span> │ <span style=\"color: #008000; text-decoration-color: #008000\">Normal     </span> │        <span style=\"color: #008080; text-decoration-color: #008080; font-weight: bold\">1</span> │ <span style=\"color: #008000; text-decoration-color: #008000\">[%eval 0.03] [%clk 0:03:00] </span> │\n",
       "│ <a href=\"https://lichess.org/mgY17wbf\" target=\"_blank\"><span style=\"color: #008000; text-decoration-color: #008000\">https://lichess.org/mgY17wbf</span></a> │ <span style=\"color: #008000; text-decoration-color: #008000\">Rated Blitz game</span> │ <span style=\"color: #008000; text-decoration-color: #008000\">2024.06.01</span> │ <span style=\"color: #008000; text-decoration-color: #008000\">-     </span> │ <span style=\"color: #008000; text-decoration-color: #008000\">jjuwubanmwen</span> │ <span style=\"color: #008000; text-decoration-color: #008000\">upthegills</span> │ <span style=\"color: #008000; text-decoration-color: #008000\">1-0   </span> │ <span style=\"color: #008000; text-decoration-color: #008000\">2024.06.01</span> │ <span style=\"color: #008000; text-decoration-color: #008000\">00:36:42</span> │ <span style=\"color: #008000; text-decoration-color: #008000\">1508     </span> │ <span style=\"color: #008000; text-decoration-color: #008000\">1392     </span> │ <span style=\"color: #008000; text-decoration-color: #008000\">+9               </span> │ <span style=\"color: #008000; text-decoration-color: #008000\">-4               </span> │ <span style=\"color: #7f7f7f; text-decoration-color: #7f7f7f\">NULL</span>        │ <span style=\"color: #7f7f7f; text-decoration-color: #7f7f7f\">NULL</span>        │ <span style=\"color: #008000; text-decoration-color: #008000\">A00   </span> │ <span style=\"color: #008000; text-decoration-color: #008000\">Van't Kruijs Opening</span> │ <span style=\"color: #008000; text-decoration-color: #008000\">180+0       </span> │ <span style=\"color: #008000; text-decoration-color: #008000\">Normal     </span> │        <span style=\"color: #008080; text-decoration-color: #008080; font-weight: bold\">2</span> │ <span style=\"color: #008000; text-decoration-color: #008000\">[%eval 0.21] [%clk 0:03:00] </span> │\n",
       "│ <a href=\"https://lichess.org/mgY17wbf\" target=\"_blank\"><span style=\"color: #008000; text-decoration-color: #008000\">https://lichess.org/mgY17wbf</span></a> │ <span style=\"color: #008000; text-decoration-color: #008000\">Rated Blitz game</span> │ <span style=\"color: #008000; text-decoration-color: #008000\">2024.06.01</span> │ <span style=\"color: #008000; text-decoration-color: #008000\">-     </span> │ <span style=\"color: #008000; text-decoration-color: #008000\">jjuwubanmwen</span> │ <span style=\"color: #008000; text-decoration-color: #008000\">upthegills</span> │ <span style=\"color: #008000; text-decoration-color: #008000\">1-0   </span> │ <span style=\"color: #008000; text-decoration-color: #008000\">2024.06.01</span> │ <span style=\"color: #008000; text-decoration-color: #008000\">00:36:42</span> │ <span style=\"color: #008000; text-decoration-color: #008000\">1508     </span> │ <span style=\"color: #008000; text-decoration-color: #008000\">1392     </span> │ <span style=\"color: #008000; text-decoration-color: #008000\">+9               </span> │ <span style=\"color: #008000; text-decoration-color: #008000\">-4               </span> │ <span style=\"color: #7f7f7f; text-decoration-color: #7f7f7f\">NULL</span>        │ <span style=\"color: #7f7f7f; text-decoration-color: #7f7f7f\">NULL</span>        │ <span style=\"color: #008000; text-decoration-color: #008000\">A00   </span> │ <span style=\"color: #008000; text-decoration-color: #008000\">Van't Kruijs Opening</span> │ <span style=\"color: #008000; text-decoration-color: #008000\">180+0       </span> │ <span style=\"color: #008000; text-decoration-color: #008000\">Normal     </span> │        <span style=\"color: #008080; text-decoration-color: #008080; font-weight: bold\">3</span> │ <span style=\"color: #008000; text-decoration-color: #008000\">[%eval -0.44] [%clk 0:02:59]</span> │\n",
       "│ <a href=\"https://lichess.org/mgY17wbf\" target=\"_blank\"><span style=\"color: #008000; text-decoration-color: #008000\">https://lichess.org/mgY17wbf</span></a> │ <span style=\"color: #008000; text-decoration-color: #008000\">Rated Blitz game</span> │ <span style=\"color: #008000; text-decoration-color: #008000\">2024.06.01</span> │ <span style=\"color: #008000; text-decoration-color: #008000\">-     </span> │ <span style=\"color: #008000; text-decoration-color: #008000\">jjuwubanmwen</span> │ <span style=\"color: #008000; text-decoration-color: #008000\">upthegills</span> │ <span style=\"color: #008000; text-decoration-color: #008000\">1-0   </span> │ <span style=\"color: #008000; text-decoration-color: #008000\">2024.06.01</span> │ <span style=\"color: #008000; text-decoration-color: #008000\">00:36:42</span> │ <span style=\"color: #008000; text-decoration-color: #008000\">1508     </span> │ <span style=\"color: #008000; text-decoration-color: #008000\">1392     </span> │ <span style=\"color: #008000; text-decoration-color: #008000\">+9               </span> │ <span style=\"color: #008000; text-decoration-color: #008000\">-4               </span> │ <span style=\"color: #7f7f7f; text-decoration-color: #7f7f7f\">NULL</span>        │ <span style=\"color: #7f7f7f; text-decoration-color: #7f7f7f\">NULL</span>        │ <span style=\"color: #008000; text-decoration-color: #008000\">A00   </span> │ <span style=\"color: #008000; text-decoration-color: #008000\">Van't Kruijs Opening</span> │ <span style=\"color: #008000; text-decoration-color: #008000\">180+0       </span> │ <span style=\"color: #008000; text-decoration-color: #008000\">Normal     </span> │        <span style=\"color: #008080; text-decoration-color: #008080; font-weight: bold\">4</span> │ <span style=\"color: #008000; text-decoration-color: #008000\">[%eval 0.09] [%clk 0:03:00] </span> │\n",
       "│ <a href=\"https://lichess.org/mgY17wbf\" target=\"_blank\"><span style=\"color: #008000; text-decoration-color: #008000\">https://lichess.org/mgY17wbf</span></a> │ <span style=\"color: #008000; text-decoration-color: #008000\">Rated Blitz game</span> │ <span style=\"color: #008000; text-decoration-color: #008000\">2024.06.01</span> │ <span style=\"color: #008000; text-decoration-color: #008000\">-     </span> │ <span style=\"color: #008000; text-decoration-color: #008000\">jjuwubanmwen</span> │ <span style=\"color: #008000; text-decoration-color: #008000\">upthegills</span> │ <span style=\"color: #008000; text-decoration-color: #008000\">1-0   </span> │ <span style=\"color: #008000; text-decoration-color: #008000\">2024.06.01</span> │ <span style=\"color: #008000; text-decoration-color: #008000\">00:36:42</span> │ <span style=\"color: #008000; text-decoration-color: #008000\">1508     </span> │ <span style=\"color: #008000; text-decoration-color: #008000\">1392     </span> │ <span style=\"color: #008000; text-decoration-color: #008000\">+9               </span> │ <span style=\"color: #008000; text-decoration-color: #008000\">-4               </span> │ <span style=\"color: #7f7f7f; text-decoration-color: #7f7f7f\">NULL</span>        │ <span style=\"color: #7f7f7f; text-decoration-color: #7f7f7f\">NULL</span>        │ <span style=\"color: #008000; text-decoration-color: #008000\">A00   </span> │ <span style=\"color: #008000; text-decoration-color: #008000\">Van't Kruijs Opening</span> │ <span style=\"color: #008000; text-decoration-color: #008000\">180+0       </span> │ <span style=\"color: #008000; text-decoration-color: #008000\">Normal     </span> │        <span style=\"color: #008080; text-decoration-color: #008080; font-weight: bold\">5</span> │ <span style=\"color: #008000; text-decoration-color: #008000\">[%eval -0.05] [%clk 0:02:57]</span> │\n",
       "│ <a href=\"https://lichess.org/mgY17wbf\" target=\"_blank\"><span style=\"color: #008000; text-decoration-color: #008000\">https://lichess.org/mgY17wbf</span></a> │ <span style=\"color: #008000; text-decoration-color: #008000\">Rated Blitz game</span> │ <span style=\"color: #008000; text-decoration-color: #008000\">2024.06.01</span> │ <span style=\"color: #008000; text-decoration-color: #008000\">-     </span> │ <span style=\"color: #008000; text-decoration-color: #008000\">jjuwubanmwen</span> │ <span style=\"color: #008000; text-decoration-color: #008000\">upthegills</span> │ <span style=\"color: #008000; text-decoration-color: #008000\">1-0   </span> │ <span style=\"color: #008000; text-decoration-color: #008000\">2024.06.01</span> │ <span style=\"color: #008000; text-decoration-color: #008000\">00:36:42</span> │ <span style=\"color: #008000; text-decoration-color: #008000\">1508     </span> │ <span style=\"color: #008000; text-decoration-color: #008000\">1392     </span> │ <span style=\"color: #008000; text-decoration-color: #008000\">+9               </span> │ <span style=\"color: #008000; text-decoration-color: #008000\">-4               </span> │ <span style=\"color: #7f7f7f; text-decoration-color: #7f7f7f\">NULL</span>        │ <span style=\"color: #7f7f7f; text-decoration-color: #7f7f7f\">NULL</span>        │ <span style=\"color: #008000; text-decoration-color: #008000\">A00   </span> │ <span style=\"color: #008000; text-decoration-color: #008000\">Van't Kruijs Opening</span> │ <span style=\"color: #008000; text-decoration-color: #008000\">180+0       </span> │ <span style=\"color: #008000; text-decoration-color: #008000\">Normal     </span> │        <span style=\"color: #008080; text-decoration-color: #008080; font-weight: bold\">6</span> │ <span style=\"color: #008000; text-decoration-color: #008000\">[%eval 0.18] [%clk 0:02:59] </span> │\n",
       "│ <a href=\"https://lichess.org/mgY17wbf\" target=\"_blank\"><span style=\"color: #008000; text-decoration-color: #008000\">https://lichess.org/mgY17wbf</span></a> │ <span style=\"color: #008000; text-decoration-color: #008000\">Rated Blitz game</span> │ <span style=\"color: #008000; text-decoration-color: #008000\">2024.06.01</span> │ <span style=\"color: #008000; text-decoration-color: #008000\">-     </span> │ <span style=\"color: #008000; text-decoration-color: #008000\">jjuwubanmwen</span> │ <span style=\"color: #008000; text-decoration-color: #008000\">upthegills</span> │ <span style=\"color: #008000; text-decoration-color: #008000\">1-0   </span> │ <span style=\"color: #008000; text-decoration-color: #008000\">2024.06.01</span> │ <span style=\"color: #008000; text-decoration-color: #008000\">00:36:42</span> │ <span style=\"color: #008000; text-decoration-color: #008000\">1508     </span> │ <span style=\"color: #008000; text-decoration-color: #008000\">1392     </span> │ <span style=\"color: #008000; text-decoration-color: #008000\">+9               </span> │ <span style=\"color: #008000; text-decoration-color: #008000\">-4               </span> │ <span style=\"color: #7f7f7f; text-decoration-color: #7f7f7f\">NULL</span>        │ <span style=\"color: #7f7f7f; text-decoration-color: #7f7f7f\">NULL</span>        │ <span style=\"color: #008000; text-decoration-color: #008000\">A00   </span> │ <span style=\"color: #008000; text-decoration-color: #008000\">Van't Kruijs Opening</span> │ <span style=\"color: #008000; text-decoration-color: #008000\">180+0       </span> │ <span style=\"color: #008000; text-decoration-color: #008000\">Normal     </span> │        <span style=\"color: #008080; text-decoration-color: #008080; font-weight: bold\">7</span> │ <span style=\"color: #008000; text-decoration-color: #008000\">[%eval -0.23] [%clk 0:02:55]</span> │\n",
       "│ <a href=\"https://lichess.org/mgY17wbf\" target=\"_blank\"><span style=\"color: #008000; text-decoration-color: #008000\">https://lichess.org/mgY17wbf</span></a> │ <span style=\"color: #008000; text-decoration-color: #008000\">Rated Blitz game</span> │ <span style=\"color: #008000; text-decoration-color: #008000\">2024.06.01</span> │ <span style=\"color: #008000; text-decoration-color: #008000\">-     </span> │ <span style=\"color: #008000; text-decoration-color: #008000\">jjuwubanmwen</span> │ <span style=\"color: #008000; text-decoration-color: #008000\">upthegills</span> │ <span style=\"color: #008000; text-decoration-color: #008000\">1-0   </span> │ <span style=\"color: #008000; text-decoration-color: #008000\">2024.06.01</span> │ <span style=\"color: #008000; text-decoration-color: #008000\">00:36:42</span> │ <span style=\"color: #008000; text-decoration-color: #008000\">1508     </span> │ <span style=\"color: #008000; text-decoration-color: #008000\">1392     </span> │ <span style=\"color: #008000; text-decoration-color: #008000\">+9               </span> │ <span style=\"color: #008000; text-decoration-color: #008000\">-4               </span> │ <span style=\"color: #7f7f7f; text-decoration-color: #7f7f7f\">NULL</span>        │ <span style=\"color: #7f7f7f; text-decoration-color: #7f7f7f\">NULL</span>        │ <span style=\"color: #008000; text-decoration-color: #008000\">A00   </span> │ <span style=\"color: #008000; text-decoration-color: #008000\">Van't Kruijs Opening</span> │ <span style=\"color: #008000; text-decoration-color: #008000\">180+0       </span> │ <span style=\"color: #008000; text-decoration-color: #008000\">Normal     </span> │        <span style=\"color: #008080; text-decoration-color: #008080; font-weight: bold\">8</span> │ <span style=\"color: #008000; text-decoration-color: #008000\">[%eval -0.14] [%clk 0:02:57]</span> │\n",
       "│ <a href=\"https://lichess.org/mgY17wbf\" target=\"_blank\"><span style=\"color: #008000; text-decoration-color: #008000\">https://lichess.org/mgY17wbf</span></a> │ <span style=\"color: #008000; text-decoration-color: #008000\">Rated Blitz game</span> │ <span style=\"color: #008000; text-decoration-color: #008000\">2024.06.01</span> │ <span style=\"color: #008000; text-decoration-color: #008000\">-     </span> │ <span style=\"color: #008000; text-decoration-color: #008000\">jjuwubanmwen</span> │ <span style=\"color: #008000; text-decoration-color: #008000\">upthegills</span> │ <span style=\"color: #008000; text-decoration-color: #008000\">1-0   </span> │ <span style=\"color: #008000; text-decoration-color: #008000\">2024.06.01</span> │ <span style=\"color: #008000; text-decoration-color: #008000\">00:36:42</span> │ <span style=\"color: #008000; text-decoration-color: #008000\">1508     </span> │ <span style=\"color: #008000; text-decoration-color: #008000\">1392     </span> │ <span style=\"color: #008000; text-decoration-color: #008000\">+9               </span> │ <span style=\"color: #008000; text-decoration-color: #008000\">-4               </span> │ <span style=\"color: #7f7f7f; text-decoration-color: #7f7f7f\">NULL</span>        │ <span style=\"color: #7f7f7f; text-decoration-color: #7f7f7f\">NULL</span>        │ <span style=\"color: #008000; text-decoration-color: #008000\">A00   </span> │ <span style=\"color: #008000; text-decoration-color: #008000\">Van't Kruijs Opening</span> │ <span style=\"color: #008000; text-decoration-color: #008000\">180+0       </span> │ <span style=\"color: #008000; text-decoration-color: #008000\">Normal     </span> │        <span style=\"color: #008080; text-decoration-color: #008080; font-weight: bold\">9</span> │ <span style=\"color: #008000; text-decoration-color: #008000\">[%eval -0.53] [%clk 0:02:54]</span> │\n",
       "│ <a href=\"https://lichess.org/mgY17wbf\" target=\"_blank\"><span style=\"color: #008000; text-decoration-color: #008000\">https://lichess.org/mgY17wbf</span></a> │ <span style=\"color: #008000; text-decoration-color: #008000\">Rated Blitz game</span> │ <span style=\"color: #008000; text-decoration-color: #008000\">2024.06.01</span> │ <span style=\"color: #008000; text-decoration-color: #008000\">-     </span> │ <span style=\"color: #008000; text-decoration-color: #008000\">jjuwubanmwen</span> │ <span style=\"color: #008000; text-decoration-color: #008000\">upthegills</span> │ <span style=\"color: #008000; text-decoration-color: #008000\">1-0   </span> │ <span style=\"color: #008000; text-decoration-color: #008000\">2024.06.01</span> │ <span style=\"color: #008000; text-decoration-color: #008000\">00:36:42</span> │ <span style=\"color: #008000; text-decoration-color: #008000\">1508     </span> │ <span style=\"color: #008000; text-decoration-color: #008000\">1392     </span> │ <span style=\"color: #008000; text-decoration-color: #008000\">+9               </span> │ <span style=\"color: #008000; text-decoration-color: #008000\">-4               </span> │ <span style=\"color: #7f7f7f; text-decoration-color: #7f7f7f\">NULL</span>        │ <span style=\"color: #7f7f7f; text-decoration-color: #7f7f7f\">NULL</span>        │ <span style=\"color: #008000; text-decoration-color: #008000\">A00   </span> │ <span style=\"color: #008000; text-decoration-color: #008000\">Van't Kruijs Opening</span> │ <span style=\"color: #008000; text-decoration-color: #008000\">180+0       </span> │ <span style=\"color: #008000; text-decoration-color: #008000\">Normal     </span> │       <span style=\"color: #008080; text-decoration-color: #008080; font-weight: bold\">10</span> │ <span style=\"color: #008000; text-decoration-color: #008000\">[%eval -0.14] [%clk 0:02:54]</span> │\n",
       "│ <span style=\"color: #7f7f7f; text-decoration-color: #7f7f7f\">…</span>                            │ <span style=\"color: #7f7f7f; text-decoration-color: #7f7f7f\">…</span>                │ <span style=\"color: #7f7f7f; text-decoration-color: #7f7f7f\">…</span>          │ <span style=\"color: #7f7f7f; text-decoration-color: #7f7f7f\">…</span>      │ <span style=\"color: #7f7f7f; text-decoration-color: #7f7f7f\">…</span>            │ <span style=\"color: #7f7f7f; text-decoration-color: #7f7f7f\">…</span>          │ <span style=\"color: #7f7f7f; text-decoration-color: #7f7f7f\">…</span>      │ <span style=\"color: #7f7f7f; text-decoration-color: #7f7f7f\">…</span>          │ <span style=\"color: #7f7f7f; text-decoration-color: #7f7f7f\">…</span>        │ <span style=\"color: #7f7f7f; text-decoration-color: #7f7f7f\">…</span>         │ <span style=\"color: #7f7f7f; text-decoration-color: #7f7f7f\">…</span>         │ <span style=\"color: #7f7f7f; text-decoration-color: #7f7f7f\">…</span>                 │ <span style=\"color: #7f7f7f; text-decoration-color: #7f7f7f\">…</span>                 │ <span style=\"color: #7f7f7f; text-decoration-color: #7f7f7f\">…</span>           │ <span style=\"color: #7f7f7f; text-decoration-color: #7f7f7f\">…</span>           │ <span style=\"color: #7f7f7f; text-decoration-color: #7f7f7f\">…</span>      │ <span style=\"color: #7f7f7f; text-decoration-color: #7f7f7f\">…</span>                    │ <span style=\"color: #7f7f7f; text-decoration-color: #7f7f7f\">…</span>            │ <span style=\"color: #7f7f7f; text-decoration-color: #7f7f7f\">…</span>           │        <span style=\"color: #7f7f7f; text-decoration-color: #7f7f7f\">…</span> │ <span style=\"color: #7f7f7f; text-decoration-color: #7f7f7f\">…</span>                            │\n",
       "└──────────────────────────────┴──────────────────┴────────────┴────────┴──────────────┴────────────┴────────┴────────────┴──────────┴───────────┴───────────┴───────────────────┴───────────────────┴─────────────┴─────────────┴────────┴──────────────────────┴──────────────┴─────────────┴──────────┴──────────────────────────────┘\n",
       "</pre>\n"
      ],
      "text/plain": [
       "┏━━━━━━━━━━━━━━━━━━━━━━━━━━━━━━┳━━━━━━━━━━━━━━━━━━┳━━━━━━━━━━━━┳━━━━━━━━┳━━━━━━━━━━━━━━┳━━━━━━━━━━━━┳━━━━━━━━┳━━━━━━━━━━━━┳━━━━━━━━━━┳━━━━━━━━━━━┳━━━━━━━━━━━┳━━━━━━━━━━━━━━━━━━━┳━━━━━━━━━━━━━━━━━━━┳━━━━━━━━━━━━━┳━━━━━━━━━━━━━┳━━━━━━━━┳━━━━━━━━━━━━━━━━━━━━━━┳━━━━━━━━━━━━━━┳━━━━━━━━━━━━━┳━━━━━━━━━━┳━━━━━━━━━━━━━━━━━━━━━━━━━━━━━━┓\n",
       "┃\u001b[1m \u001b[0m\u001b[1msite\u001b[0m\u001b[1m                        \u001b[0m\u001b[1m \u001b[0m┃\u001b[1m \u001b[0m\u001b[1mevent\u001b[0m\u001b[1m           \u001b[0m\u001b[1m \u001b[0m┃\u001b[1m \u001b[0m\u001b[1mdate\u001b[0m\u001b[1m      \u001b[0m\u001b[1m \u001b[0m┃\u001b[1m \u001b[0m\u001b[1mround\u001b[0m\u001b[1m \u001b[0m\u001b[1m \u001b[0m┃\u001b[1m \u001b[0m\u001b[1mwhite\u001b[0m\u001b[1m       \u001b[0m\u001b[1m \u001b[0m┃\u001b[1m \u001b[0m\u001b[1mblack\u001b[0m\u001b[1m     \u001b[0m\u001b[1m \u001b[0m┃\u001b[1m \u001b[0m\u001b[1mresult\u001b[0m\u001b[1m \u001b[0m┃\u001b[1m \u001b[0m\u001b[1mutc_date\u001b[0m\u001b[1m  \u001b[0m\u001b[1m \u001b[0m┃\u001b[1m \u001b[0m\u001b[1mutc_time\u001b[0m\u001b[1m \u001b[0m┃\u001b[1m \u001b[0m\u001b[1mwhite_elo\u001b[0m\u001b[1m \u001b[0m┃\u001b[1m \u001b[0m\u001b[1mblack_elo\u001b[0m\u001b[1m \u001b[0m┃\u001b[1m \u001b[0m\u001b[1mwhite_rating_diff\u001b[0m\u001b[1m \u001b[0m┃\u001b[1m \u001b[0m\u001b[1mblack_rating_diff\u001b[0m\u001b[1m \u001b[0m┃\u001b[1m \u001b[0m\u001b[1mwhite_title\u001b[0m\u001b[1m \u001b[0m┃\u001b[1m \u001b[0m\u001b[1mblack_title\u001b[0m\u001b[1m \u001b[0m┃\u001b[1m \u001b[0m\u001b[1meco\u001b[0m\u001b[1m   \u001b[0m\u001b[1m \u001b[0m┃\u001b[1m \u001b[0m\u001b[1mopening\u001b[0m\u001b[1m             \u001b[0m\u001b[1m \u001b[0m┃\u001b[1m \u001b[0m\u001b[1mtime_control\u001b[0m\u001b[1m \u001b[0m┃\u001b[1m \u001b[0m\u001b[1mtermination\u001b[0m\u001b[1m \u001b[0m┃\u001b[1m \u001b[0m\u001b[1mmove_ply\u001b[0m\u001b[1m \u001b[0m┃\u001b[1m \u001b[0m\u001b[1mmove_comment\u001b[0m\u001b[1m                \u001b[0m\u001b[1m \u001b[0m┃\n",
       "┡━━━━━━━━━━━━━━━━━━━━━━━━━━━━━━╇━━━━━━━━━━━━━━━━━━╇━━━━━━━━━━━━╇━━━━━━━━╇━━━━━━━━━━━━━━╇━━━━━━━━━━━━╇━━━━━━━━╇━━━━━━━━━━━━╇━━━━━━━━━━╇━━━━━━━━━━━╇━━━━━━━━━━━╇━━━━━━━━━━━━━━━━━━━╇━━━━━━━━━━━━━━━━━━━╇━━━━━━━━━━━━━╇━━━━━━━━━━━━━╇━━━━━━━━╇━━━━━━━━━━━━━━━━━━━━━━╇━━━━━━━━━━━━━━╇━━━━━━━━━━━━━╇━━━━━━━━━━╇━━━━━━━━━━━━━━━━━━━━━━━━━━━━━━┩\n",
       "│ \u001b[2mstring\u001b[0m                       │ \u001b[2mstring\u001b[0m           │ \u001b[2mstring\u001b[0m     │ \u001b[2mstring\u001b[0m │ \u001b[2mstring\u001b[0m       │ \u001b[2mstring\u001b[0m     │ \u001b[2mstring\u001b[0m │ \u001b[2mstring\u001b[0m     │ \u001b[2mstring\u001b[0m   │ \u001b[2mstring\u001b[0m    │ \u001b[2mstring\u001b[0m    │ \u001b[2mstring\u001b[0m            │ \u001b[2mstring\u001b[0m            │ \u001b[2mstring\u001b[0m      │ \u001b[2mstring\u001b[0m      │ \u001b[2mstring\u001b[0m │ \u001b[2mstring\u001b[0m               │ \u001b[2mstring\u001b[0m       │ \u001b[2mstring\u001b[0m      │ \u001b[2mint64\u001b[0m    │ \u001b[2mstring\u001b[0m                       │\n",
       "├──────────────────────────────┼──────────────────┼────────────┼────────┼──────────────┼────────────┼────────┼────────────┼──────────┼───────────┼───────────┼───────────────────┼───────────────────┼─────────────┼─────────────┼────────┼──────────────────────┼──────────────┼─────────────┼──────────┼──────────────────────────────┤\n",
       "│ \u001b]8;id=452504;https://lichess.org/mgY17wbf\u001b\\\u001b[32mhttps://lichess.org/mgY17wbf\u001b[0m\u001b]8;;\u001b\\ │ \u001b[32mRated Blitz game\u001b[0m │ \u001b[32m2024.06.01\u001b[0m │ \u001b[32m-     \u001b[0m │ \u001b[32mjjuwubanmwen\u001b[0m │ \u001b[32mupthegills\u001b[0m │ \u001b[32m1-0   \u001b[0m │ \u001b[32m2024.06.01\u001b[0m │ \u001b[32m00:36:42\u001b[0m │ \u001b[32m1508     \u001b[0m │ \u001b[32m1392     \u001b[0m │ \u001b[32m+9               \u001b[0m │ \u001b[32m-4               \u001b[0m │ \u001b[2mNULL\u001b[0m        │ \u001b[2mNULL\u001b[0m        │ \u001b[32mA00   \u001b[0m │ \u001b[32mVan't Kruijs Opening\u001b[0m │ \u001b[32m180+0       \u001b[0m │ \u001b[32mNormal     \u001b[0m │        \u001b[1;36m1\u001b[0m │ \u001b[32m[%eval 0.03] [%clk 0:03:00] \u001b[0m │\n",
       "│ \u001b]8;id=198674;https://lichess.org/mgY17wbf\u001b\\\u001b[32mhttps://lichess.org/mgY17wbf\u001b[0m\u001b]8;;\u001b\\ │ \u001b[32mRated Blitz game\u001b[0m │ \u001b[32m2024.06.01\u001b[0m │ \u001b[32m-     \u001b[0m │ \u001b[32mjjuwubanmwen\u001b[0m │ \u001b[32mupthegills\u001b[0m │ \u001b[32m1-0   \u001b[0m │ \u001b[32m2024.06.01\u001b[0m │ \u001b[32m00:36:42\u001b[0m │ \u001b[32m1508     \u001b[0m │ \u001b[32m1392     \u001b[0m │ \u001b[32m+9               \u001b[0m │ \u001b[32m-4               \u001b[0m │ \u001b[2mNULL\u001b[0m        │ \u001b[2mNULL\u001b[0m        │ \u001b[32mA00   \u001b[0m │ \u001b[32mVan't Kruijs Opening\u001b[0m │ \u001b[32m180+0       \u001b[0m │ \u001b[32mNormal     \u001b[0m │        \u001b[1;36m2\u001b[0m │ \u001b[32m[%eval 0.21] [%clk 0:03:00] \u001b[0m │\n",
       "│ \u001b]8;id=570549;https://lichess.org/mgY17wbf\u001b\\\u001b[32mhttps://lichess.org/mgY17wbf\u001b[0m\u001b]8;;\u001b\\ │ \u001b[32mRated Blitz game\u001b[0m │ \u001b[32m2024.06.01\u001b[0m │ \u001b[32m-     \u001b[0m │ \u001b[32mjjuwubanmwen\u001b[0m │ \u001b[32mupthegills\u001b[0m │ \u001b[32m1-0   \u001b[0m │ \u001b[32m2024.06.01\u001b[0m │ \u001b[32m00:36:42\u001b[0m │ \u001b[32m1508     \u001b[0m │ \u001b[32m1392     \u001b[0m │ \u001b[32m+9               \u001b[0m │ \u001b[32m-4               \u001b[0m │ \u001b[2mNULL\u001b[0m        │ \u001b[2mNULL\u001b[0m        │ \u001b[32mA00   \u001b[0m │ \u001b[32mVan't Kruijs Opening\u001b[0m │ \u001b[32m180+0       \u001b[0m │ \u001b[32mNormal     \u001b[0m │        \u001b[1;36m3\u001b[0m │ \u001b[32m[%eval -0.44] [%clk 0:02:59]\u001b[0m │\n",
       "│ \u001b]8;id=928004;https://lichess.org/mgY17wbf\u001b\\\u001b[32mhttps://lichess.org/mgY17wbf\u001b[0m\u001b]8;;\u001b\\ │ \u001b[32mRated Blitz game\u001b[0m │ \u001b[32m2024.06.01\u001b[0m │ \u001b[32m-     \u001b[0m │ \u001b[32mjjuwubanmwen\u001b[0m │ \u001b[32mupthegills\u001b[0m │ \u001b[32m1-0   \u001b[0m │ \u001b[32m2024.06.01\u001b[0m │ \u001b[32m00:36:42\u001b[0m │ \u001b[32m1508     \u001b[0m │ \u001b[32m1392     \u001b[0m │ \u001b[32m+9               \u001b[0m │ \u001b[32m-4               \u001b[0m │ \u001b[2mNULL\u001b[0m        │ \u001b[2mNULL\u001b[0m        │ \u001b[32mA00   \u001b[0m │ \u001b[32mVan't Kruijs Opening\u001b[0m │ \u001b[32m180+0       \u001b[0m │ \u001b[32mNormal     \u001b[0m │        \u001b[1;36m4\u001b[0m │ \u001b[32m[%eval 0.09] [%clk 0:03:00] \u001b[0m │\n",
       "│ \u001b]8;id=235757;https://lichess.org/mgY17wbf\u001b\\\u001b[32mhttps://lichess.org/mgY17wbf\u001b[0m\u001b]8;;\u001b\\ │ \u001b[32mRated Blitz game\u001b[0m │ \u001b[32m2024.06.01\u001b[0m │ \u001b[32m-     \u001b[0m │ \u001b[32mjjuwubanmwen\u001b[0m │ \u001b[32mupthegills\u001b[0m │ \u001b[32m1-0   \u001b[0m │ \u001b[32m2024.06.01\u001b[0m │ \u001b[32m00:36:42\u001b[0m │ \u001b[32m1508     \u001b[0m │ \u001b[32m1392     \u001b[0m │ \u001b[32m+9               \u001b[0m │ \u001b[32m-4               \u001b[0m │ \u001b[2mNULL\u001b[0m        │ \u001b[2mNULL\u001b[0m        │ \u001b[32mA00   \u001b[0m │ \u001b[32mVan't Kruijs Opening\u001b[0m │ \u001b[32m180+0       \u001b[0m │ \u001b[32mNormal     \u001b[0m │        \u001b[1;36m5\u001b[0m │ \u001b[32m[%eval -0.05] [%clk 0:02:57]\u001b[0m │\n",
       "│ \u001b]8;id=52959;https://lichess.org/mgY17wbf\u001b\\\u001b[32mhttps://lichess.org/mgY17wbf\u001b[0m\u001b]8;;\u001b\\ │ \u001b[32mRated Blitz game\u001b[0m │ \u001b[32m2024.06.01\u001b[0m │ \u001b[32m-     \u001b[0m │ \u001b[32mjjuwubanmwen\u001b[0m │ \u001b[32mupthegills\u001b[0m │ \u001b[32m1-0   \u001b[0m │ \u001b[32m2024.06.01\u001b[0m │ \u001b[32m00:36:42\u001b[0m │ \u001b[32m1508     \u001b[0m │ \u001b[32m1392     \u001b[0m │ \u001b[32m+9               \u001b[0m │ \u001b[32m-4               \u001b[0m │ \u001b[2mNULL\u001b[0m        │ \u001b[2mNULL\u001b[0m        │ \u001b[32mA00   \u001b[0m │ \u001b[32mVan't Kruijs Opening\u001b[0m │ \u001b[32m180+0       \u001b[0m │ \u001b[32mNormal     \u001b[0m │        \u001b[1;36m6\u001b[0m │ \u001b[32m[%eval 0.18] [%clk 0:02:59] \u001b[0m │\n",
       "│ \u001b]8;id=322955;https://lichess.org/mgY17wbf\u001b\\\u001b[32mhttps://lichess.org/mgY17wbf\u001b[0m\u001b]8;;\u001b\\ │ \u001b[32mRated Blitz game\u001b[0m │ \u001b[32m2024.06.01\u001b[0m │ \u001b[32m-     \u001b[0m │ \u001b[32mjjuwubanmwen\u001b[0m │ \u001b[32mupthegills\u001b[0m │ \u001b[32m1-0   \u001b[0m │ \u001b[32m2024.06.01\u001b[0m │ \u001b[32m00:36:42\u001b[0m │ \u001b[32m1508     \u001b[0m │ \u001b[32m1392     \u001b[0m │ \u001b[32m+9               \u001b[0m │ \u001b[32m-4               \u001b[0m │ \u001b[2mNULL\u001b[0m        │ \u001b[2mNULL\u001b[0m        │ \u001b[32mA00   \u001b[0m │ \u001b[32mVan't Kruijs Opening\u001b[0m │ \u001b[32m180+0       \u001b[0m │ \u001b[32mNormal     \u001b[0m │        \u001b[1;36m7\u001b[0m │ \u001b[32m[%eval -0.23] [%clk 0:02:55]\u001b[0m │\n",
       "│ \u001b]8;id=473555;https://lichess.org/mgY17wbf\u001b\\\u001b[32mhttps://lichess.org/mgY17wbf\u001b[0m\u001b]8;;\u001b\\ │ \u001b[32mRated Blitz game\u001b[0m │ \u001b[32m2024.06.01\u001b[0m │ \u001b[32m-     \u001b[0m │ \u001b[32mjjuwubanmwen\u001b[0m │ \u001b[32mupthegills\u001b[0m │ \u001b[32m1-0   \u001b[0m │ \u001b[32m2024.06.01\u001b[0m │ \u001b[32m00:36:42\u001b[0m │ \u001b[32m1508     \u001b[0m │ \u001b[32m1392     \u001b[0m │ \u001b[32m+9               \u001b[0m │ \u001b[32m-4               \u001b[0m │ \u001b[2mNULL\u001b[0m        │ \u001b[2mNULL\u001b[0m        │ \u001b[32mA00   \u001b[0m │ \u001b[32mVan't Kruijs Opening\u001b[0m │ \u001b[32m180+0       \u001b[0m │ \u001b[32mNormal     \u001b[0m │        \u001b[1;36m8\u001b[0m │ \u001b[32m[%eval -0.14] [%clk 0:02:57]\u001b[0m │\n",
       "│ \u001b]8;id=598146;https://lichess.org/mgY17wbf\u001b\\\u001b[32mhttps://lichess.org/mgY17wbf\u001b[0m\u001b]8;;\u001b\\ │ \u001b[32mRated Blitz game\u001b[0m │ \u001b[32m2024.06.01\u001b[0m │ \u001b[32m-     \u001b[0m │ \u001b[32mjjuwubanmwen\u001b[0m │ \u001b[32mupthegills\u001b[0m │ \u001b[32m1-0   \u001b[0m │ \u001b[32m2024.06.01\u001b[0m │ \u001b[32m00:36:42\u001b[0m │ \u001b[32m1508     \u001b[0m │ \u001b[32m1392     \u001b[0m │ \u001b[32m+9               \u001b[0m │ \u001b[32m-4               \u001b[0m │ \u001b[2mNULL\u001b[0m        │ \u001b[2mNULL\u001b[0m        │ \u001b[32mA00   \u001b[0m │ \u001b[32mVan't Kruijs Opening\u001b[0m │ \u001b[32m180+0       \u001b[0m │ \u001b[32mNormal     \u001b[0m │        \u001b[1;36m9\u001b[0m │ \u001b[32m[%eval -0.53] [%clk 0:02:54]\u001b[0m │\n",
       "│ \u001b]8;id=587637;https://lichess.org/mgY17wbf\u001b\\\u001b[32mhttps://lichess.org/mgY17wbf\u001b[0m\u001b]8;;\u001b\\ │ \u001b[32mRated Blitz game\u001b[0m │ \u001b[32m2024.06.01\u001b[0m │ \u001b[32m-     \u001b[0m │ \u001b[32mjjuwubanmwen\u001b[0m │ \u001b[32mupthegills\u001b[0m │ \u001b[32m1-0   \u001b[0m │ \u001b[32m2024.06.01\u001b[0m │ \u001b[32m00:36:42\u001b[0m │ \u001b[32m1508     \u001b[0m │ \u001b[32m1392     \u001b[0m │ \u001b[32m+9               \u001b[0m │ \u001b[32m-4               \u001b[0m │ \u001b[2mNULL\u001b[0m        │ \u001b[2mNULL\u001b[0m        │ \u001b[32mA00   \u001b[0m │ \u001b[32mVan't Kruijs Opening\u001b[0m │ \u001b[32m180+0       \u001b[0m │ \u001b[32mNormal     \u001b[0m │       \u001b[1;36m10\u001b[0m │ \u001b[32m[%eval -0.14] [%clk 0:02:54]\u001b[0m │\n",
       "│ \u001b[2m…\u001b[0m                            │ \u001b[2m…\u001b[0m                │ \u001b[2m…\u001b[0m          │ \u001b[2m…\u001b[0m      │ \u001b[2m…\u001b[0m            │ \u001b[2m…\u001b[0m          │ \u001b[2m…\u001b[0m      │ \u001b[2m…\u001b[0m          │ \u001b[2m…\u001b[0m        │ \u001b[2m…\u001b[0m         │ \u001b[2m…\u001b[0m         │ \u001b[2m…\u001b[0m                 │ \u001b[2m…\u001b[0m                 │ \u001b[2m…\u001b[0m           │ \u001b[2m…\u001b[0m           │ \u001b[2m…\u001b[0m      │ \u001b[2m…\u001b[0m                    │ \u001b[2m…\u001b[0m            │ \u001b[2m…\u001b[0m           │        \u001b[2m…\u001b[0m │ \u001b[2m…\u001b[0m                            │\n",
       "└──────────────────────────────┴──────────────────┴────────────┴────────┴──────────────┴────────────┴────────┴────────────┴──────────┴───────────┴───────────┴───────────────────┴───────────────────┴─────────────┴─────────────┴────────┴──────────────────────┴──────────────┴─────────────┴──────────┴──────────────────────────────┘"
      ]
     },
     "execution_count": 32,
     "metadata": {},
     "output_type": "execute_result"
    }
   ],
   "source": [
    "moves_with_evals = ibis.read_parquet(\"moves_with_evals.parquet\")\n",
    "moves_with_evals"
   ]
  },
  {
   "cell_type": "markdown",
   "id": "2958c208-9cb6-476a-a9a0-f5ea9d49f676",
   "metadata": {},
   "source": [
    "# Appendix"
   ]
  },
  {
   "cell_type": "code",
   "execution_count": 50,
   "id": "c4a8280a-1d18-4bf5-ac9c-6e6b533bbf13",
   "metadata": {},
   "outputs": [
    {
     "name": "stdout",
     "output_type": "stream",
     "text": [
      "CPU times: user 7min 21s, sys: 33.1 s, total: 7min 54s\n",
      "Wall time: 1min 57s\n"
     ]
    },
    {
     "data": {
      "text/plain": [
       "8154144"
      ]
     },
     "execution_count": 50,
     "metadata": {},
     "output_type": "execute_result"
    }
   ],
   "source": [
    "%%time\n",
    "games_with_evals = (\n",
    "    moves.mutate(has_eval=_.move_comment.contains(\"[%eval\"))\n",
    "    .group_by(_.site)\n",
    "    .agg(\n",
    "        percent_has_eval=_.has_eval.mean(),\n",
    "        has_no_eval_count=_.count() - _.has_eval.sum(),\n",
    "    )\n",
    "    .mutate(\n",
    "        has_no_eval_count=ibis.ifelse(_.percent_has_eval == 0, -1, _.has_no_eval_count)\n",
    "    )[_.has_no_eval_count.between(0, 1)]\n",
    "    .site.to_pyarrow()\n",
    "    .to_pylist()\n",
    ")\n",
    "len(games_with_evals)"
   ]
  },
  {
   "cell_type": "code",
   "execution_count": 30,
   "id": "330afc9b-ebfc-4601-961d-211a76d7e5cc",
   "metadata": {},
   "outputs": [
    {
     "ename": "OutOfMemoryException",
     "evalue": "Out of Memory Error: failed to offload data block of size 256.0 KiB (21.2 GiB/21.2 GiB used).\nThis limit was set by the 'max_temp_directory_size' setting.\nBy default, this setting utilizes the available disk space on the drive where the 'temp_directory' is located.\nYou can adjust this setting, by using (for example) PRAGMA max_temp_directory_size='10GiB'",
     "output_type": "error",
     "traceback": [
      "\u001b[0;31m---------------------------------------------------------------------------\u001b[0m",
      "\u001b[0;31mOutOfMemoryException\u001b[0m                      Traceback (most recent call last)",
      "File \u001b[0;32m<timed exec>:12\u001b[0m\n",
      "File \u001b[0;32m/opt/miniconda3/envs/lichess/lib/python3.12/site-packages/ibis/expr/types/core.py:616\u001b[0m, in \u001b[0;36mExpr.to_parquet\u001b[0;34m(self, path, params, **kwargs)\u001b[0m\n\u001b[1;32m    571\u001b[0m \u001b[38;5;129m@experimental\u001b[39m\n\u001b[1;32m    572\u001b[0m \u001b[38;5;28;01mdef\u001b[39;00m \u001b[38;5;21mto_parquet\u001b[39m(\n\u001b[1;32m    573\u001b[0m     \u001b[38;5;28mself\u001b[39m,\n\u001b[0;32m   (...)\u001b[0m\n\u001b[1;32m    577\u001b[0m     \u001b[38;5;241m*\u001b[39m\u001b[38;5;241m*\u001b[39mkwargs: Any,\n\u001b[1;32m    578\u001b[0m ) \u001b[38;5;241m-\u001b[39m\u001b[38;5;241m>\u001b[39m \u001b[38;5;28;01mNone\u001b[39;00m:\n\u001b[1;32m    579\u001b[0m \u001b[38;5;250m    \u001b[39m\u001b[38;5;124;03m\"\"\"Write the results of executing the given expression to a parquet file.\u001b[39;00m\n\u001b[1;32m    580\u001b[0m \n\u001b[1;32m    581\u001b[0m \u001b[38;5;124;03m    This method is eager and will execute the associated expression\u001b[39;00m\n\u001b[0;32m   (...)\u001b[0m\n\u001b[1;32m    614\u001b[0m \u001b[38;5;124;03m    :::\u001b[39;00m\n\u001b[1;32m    615\u001b[0m \u001b[38;5;124;03m    \"\"\"\u001b[39;00m\n\u001b[0;32m--> 616\u001b[0m     \u001b[38;5;28;43mself\u001b[39;49m\u001b[38;5;241;43m.\u001b[39;49m\u001b[43m_find_backend\u001b[49m\u001b[43m(\u001b[49m\u001b[43muse_default\u001b[49m\u001b[38;5;241;43m=\u001b[39;49m\u001b[38;5;28;43;01mTrue\u001b[39;49;00m\u001b[43m)\u001b[49m\u001b[38;5;241;43m.\u001b[39;49m\u001b[43mto_parquet\u001b[49m\u001b[43m(\u001b[49m\u001b[38;5;28;43mself\u001b[39;49m\u001b[43m,\u001b[49m\u001b[43m \u001b[49m\u001b[43mpath\u001b[49m\u001b[43m,\u001b[49m\u001b[43m \u001b[49m\u001b[38;5;241;43m*\u001b[39;49m\u001b[38;5;241;43m*\u001b[39;49m\u001b[43mkwargs\u001b[49m\u001b[43m)\u001b[49m\n",
      "File \u001b[0;32m/opt/miniconda3/envs/lichess/lib/python3.12/site-packages/ibis/backends/duckdb/__init__.py:1533\u001b[0m, in \u001b[0;36mBackend.to_parquet\u001b[0;34m(self, expr, path, params, **kwargs)\u001b[0m\n\u001b[1;32m   1531\u001b[0m args \u001b[38;5;241m=\u001b[39m [\u001b[38;5;124m\"\u001b[39m\u001b[38;5;124mFORMAT \u001b[39m\u001b[38;5;124m'\u001b[39m\u001b[38;5;124mparquet\u001b[39m\u001b[38;5;124m'\u001b[39m\u001b[38;5;124m\"\u001b[39m, \u001b[38;5;241m*\u001b[39m(\u001b[38;5;124mf\u001b[39m\u001b[38;5;124m\"\u001b[39m\u001b[38;5;132;01m{\u001b[39;00mk\u001b[38;5;241m.\u001b[39mupper()\u001b[38;5;132;01m}\u001b[39;00m\u001b[38;5;124m \u001b[39m\u001b[38;5;132;01m{\u001b[39;00mv\u001b[38;5;132;01m!r}\u001b[39;00m\u001b[38;5;124m\"\u001b[39m \u001b[38;5;28;01mfor\u001b[39;00m k, v \u001b[38;5;129;01min\u001b[39;00m kwargs\u001b[38;5;241m.\u001b[39mitems())]\n\u001b[1;32m   1532\u001b[0m copy_cmd \u001b[38;5;241m=\u001b[39m \u001b[38;5;124mf\u001b[39m\u001b[38;5;124m\"\u001b[39m\u001b[38;5;124mCOPY (\u001b[39m\u001b[38;5;132;01m{\u001b[39;00mquery\u001b[38;5;132;01m}\u001b[39;00m\u001b[38;5;124m) TO \u001b[39m\u001b[38;5;132;01m{\u001b[39;00m\u001b[38;5;28mstr\u001b[39m(path)\u001b[38;5;132;01m!r}\u001b[39;00m\u001b[38;5;124m (\u001b[39m\u001b[38;5;132;01m{\u001b[39;00m\u001b[38;5;124m'\u001b[39m\u001b[38;5;124m, \u001b[39m\u001b[38;5;124m'\u001b[39m\u001b[38;5;241m.\u001b[39mjoin(args)\u001b[38;5;132;01m}\u001b[39;00m\u001b[38;5;124m)\u001b[39m\u001b[38;5;124m\"\u001b[39m\n\u001b[0;32m-> 1533\u001b[0m \u001b[43m\u001b[49m\u001b[38;5;28;43;01mwith\u001b[39;49;00m\u001b[43m \u001b[49m\u001b[38;5;28;43mself\u001b[39;49m\u001b[38;5;241;43m.\u001b[39;49m\u001b[43m_safe_raw_sql\u001b[49m\u001b[43m(\u001b[49m\u001b[43mcopy_cmd\u001b[49m\u001b[43m)\u001b[49m\u001b[43m:\u001b[49m\n\u001b[1;32m   1534\u001b[0m \u001b[43m    \u001b[49m\u001b[38;5;28;43;01mpass\u001b[39;49;00m\n",
      "File \u001b[0;32m/opt/miniconda3/envs/lichess/lib/python3.12/contextlib.py:137\u001b[0m, in \u001b[0;36m_GeneratorContextManager.__enter__\u001b[0;34m(self)\u001b[0m\n\u001b[1;32m    135\u001b[0m \u001b[38;5;28;01mdel\u001b[39;00m \u001b[38;5;28mself\u001b[39m\u001b[38;5;241m.\u001b[39margs, \u001b[38;5;28mself\u001b[39m\u001b[38;5;241m.\u001b[39mkwds, \u001b[38;5;28mself\u001b[39m\u001b[38;5;241m.\u001b[39mfunc\n\u001b[1;32m    136\u001b[0m \u001b[38;5;28;01mtry\u001b[39;00m:\n\u001b[0;32m--> 137\u001b[0m     \u001b[38;5;28;01mreturn\u001b[39;00m \u001b[38;5;28;43mnext\u001b[39;49m\u001b[43m(\u001b[49m\u001b[38;5;28;43mself\u001b[39;49m\u001b[38;5;241;43m.\u001b[39;49m\u001b[43mgen\u001b[49m\u001b[43m)\u001b[49m\n\u001b[1;32m    138\u001b[0m \u001b[38;5;28;01mexcept\u001b[39;00m \u001b[38;5;167;01mStopIteration\u001b[39;00m:\n\u001b[1;32m    139\u001b[0m     \u001b[38;5;28;01mraise\u001b[39;00m \u001b[38;5;167;01mRuntimeError\u001b[39;00m(\u001b[38;5;124m\"\u001b[39m\u001b[38;5;124mgenerator didn\u001b[39m\u001b[38;5;124m'\u001b[39m\u001b[38;5;124mt yield\u001b[39m\u001b[38;5;124m\"\u001b[39m) \u001b[38;5;28;01mfrom\u001b[39;00m \u001b[38;5;28;01mNone\u001b[39;00m\n",
      "File \u001b[0;32m/opt/miniconda3/envs/lichess/lib/python3.12/site-packages/ibis/backends/duckdb/__init__.py:338\u001b[0m, in \u001b[0;36mBackend._safe_raw_sql\u001b[0;34m(self, *args, **kwargs)\u001b[0m\n\u001b[1;32m    336\u001b[0m \u001b[38;5;129m@contextlib\u001b[39m\u001b[38;5;241m.\u001b[39mcontextmanager\n\u001b[1;32m    337\u001b[0m \u001b[38;5;28;01mdef\u001b[39;00m \u001b[38;5;21m_safe_raw_sql\u001b[39m(\u001b[38;5;28mself\u001b[39m, \u001b[38;5;241m*\u001b[39margs, \u001b[38;5;241m*\u001b[39m\u001b[38;5;241m*\u001b[39mkwargs):\n\u001b[0;32m--> 338\u001b[0m     \u001b[38;5;28;01myield\u001b[39;00m \u001b[38;5;28;43mself\u001b[39;49m\u001b[38;5;241;43m.\u001b[39;49m\u001b[43mraw_sql\u001b[49m\u001b[43m(\u001b[49m\u001b[38;5;241;43m*\u001b[39;49m\u001b[43margs\u001b[49m\u001b[43m,\u001b[49m\u001b[43m \u001b[49m\u001b[38;5;241;43m*\u001b[39;49m\u001b[38;5;241;43m*\u001b[39;49m\u001b[43mkwargs\u001b[49m\u001b[43m)\u001b[49m\n",
      "File \u001b[0;32m/opt/miniconda3/envs/lichess/lib/python3.12/site-packages/ibis/backends/duckdb/__init__.py:94\u001b[0m, in \u001b[0;36mBackend.raw_sql\u001b[0;34m(self, query, **kwargs)\u001b[0m\n\u001b[1;32m     92\u001b[0m \u001b[38;5;28;01mwith\u001b[39;00m contextlib\u001b[38;5;241m.\u001b[39msuppress(\u001b[38;5;167;01mAttributeError\u001b[39;00m):\n\u001b[1;32m     93\u001b[0m     query \u001b[38;5;241m=\u001b[39m query\u001b[38;5;241m.\u001b[39msql(dialect\u001b[38;5;241m=\u001b[39m\u001b[38;5;28mself\u001b[39m\u001b[38;5;241m.\u001b[39mname)\n\u001b[0;32m---> 94\u001b[0m \u001b[38;5;28;01mreturn\u001b[39;00m \u001b[38;5;28;43mself\u001b[39;49m\u001b[38;5;241;43m.\u001b[39;49m\u001b[43mcon\u001b[49m\u001b[38;5;241;43m.\u001b[39;49m\u001b[43mexecute\u001b[49m\u001b[43m(\u001b[49m\u001b[43mquery\u001b[49m\u001b[43m,\u001b[49m\u001b[43m \u001b[49m\u001b[38;5;241;43m*\u001b[39;49m\u001b[38;5;241;43m*\u001b[39;49m\u001b[43mkwargs\u001b[49m\u001b[43m)\u001b[49m\n",
      "\u001b[0;31mOutOfMemoryException\u001b[0m: Out of Memory Error: failed to offload data block of size 256.0 KiB (21.2 GiB/21.2 GiB used).\nThis limit was set by the 'max_temp_directory_size' setting.\nBy default, this setting utilizes the available disk space on the drive where the 'temp_directory' is located.\nYou can adjust this setting, by using (for example) PRAGMA max_temp_directory_size='10GiB'"
     ]
    }
   ],
   "source": [
    "%%time\n",
    "moves_with_evals = (\n",
    "    moves.mutate(has_eval=_.move_comment.contains(\"[%eval\"))\n",
    "    .group_by(_.site)\n",
    "    .mutate(\n",
    "        percent_has_eval=_.has_eval.mean(),\n",
    "        has_no_eval_count=_.count() - _.has_eval.sum(),\n",
    "    )\n",
    "    .mutate(\n",
    "        has_no_eval_count=ibis.ifelse(_.percent_has_eval == 0, -1, _.has_no_eval_count)\n",
    "    )[_.has_no_eval_count < 2]\n",
    ")\n",
    "moves_with_evals.to_parquet(\"moves_with_evals.parquet\")"
   ]
  },
  {
   "cell_type": "code",
   "execution_count": 7,
   "id": "b4cb827b-d3c4-4466-bb79-44884dc95f20",
   "metadata": {},
   "outputs": [],
   "source": [
    "# from functools import reduce\n",
    "\n",
    "# import chess.pgn\n",
    "# from chess.pgn import TimeControlType\n",
    "\n",
    "\n",
    "# @ibis.udf.scalar.python\n",
    "# def parse_time_control(time_control: str) -> dict[str, int]:\n",
    "#     tc = chess.pgn.parse_time_control(time_control)\n",
    "#     tc_dict = {\"type\": tc.type.value}\n",
    "\n",
    "#     if tc.type in [TimeControlType.UNKNOW, TimeControlType.UNLIMITED]:\n",
    "#         return tc_dict\n",
    "\n",
    "#     if len(tc.parts) > 1:\n",
    "#         raise ValueError(\"Lichess does not support multipart time controls.\")\n",
    "\n",
    "#     if tc.parts[0].delay:\n",
    "#         raise ValueError(\"Lichess does not support delay.\")\n",
    "\n",
    "#     tc_dict[\"base_time\"] = tc.parts[0].time\n",
    "#     tc_dict[\"increment\"] = int(tc.parts[0].increment)\n",
    "#     return tc_dict\n",
    "\n",
    "\n",
    "# games_with_parsed_time_control = (\n",
    "#     moves[moves.move_ply == 1]\n",
    "#     .mutate(parsed_time_control=parse_time_control(moves.time_control))\n",
    "#     .mutate(\n",
    "#         time_control_type=reduce(\n",
    "#             lambda case_expr, member: case_expr.when(member.value, member.name),\n",
    "#             TimeControlType,\n",
    "#             _.parsed_time_control.get(\"type\").case(),\n",
    "#         ).end(),\n",
    "#         base_time=_.parsed_time_control.get(\"base_time\"),\n",
    "#         increment=_.parsed_time_control.get(\"increment\"),\n",
    "#     )\n",
    "#     .drop(\"move_ply\", \"parsed_time_control\")\n",
    "# )\n",
    "# games_with_parsed_time_control"
   ]
  },
  {
   "cell_type": "code",
   "execution_count": 8,
   "id": "80c3e78d-f4dd-4e79-a2c9-eba76184f49c",
   "metadata": {},
   "outputs": [],
   "source": [
    "# %%time\n",
    "# games_with_parsed_time_control[\n",
    "#     games_with_parsed_time_control.termination.isin([\"Normal\", \"Time forfeit\"])\n",
    "# ].time_control_type.value_counts().preview()"
   ]
  },
  {
   "cell_type": "code",
   "execution_count": 37,
   "id": "dd76c918-f613-408e-9fc1-a4e75fbf1961",
   "metadata": {},
   "outputs": [
    {
     "data": {
      "text/html": [
       "<pre style=\"white-space:pre;overflow-x:auto;line-height:normal;font-family:Menlo,'DejaVu Sans Mono',consolas,'Courier New',monospace\">┏━━━━━━━━━━━━━━━━━━━┳━━━━━━━━━━━━━━━━━━━━━━━━━━━━━━┳━━━━━━━━━━━━┳━━━━━━━━┳━━━━━━━━━━━━━━━━━━━┳━━━━━━━━━━━━━━━━━━━━┳━━━━━━━━━┳━━━━━━━━━━━━┳━━━━━━━━━━┳━━━━━━━━━━━┳━━━━━━━━━━━┳━━━━━━━━━━━━━━━━━━━┳━━━━━━━━━━━━━━━━━━━┳━━━━━━━━━━━━━┳━━━━━━━━━━━━━┳━━━━━━━━┳━━━━━━━━━━━━━━━━━━━━━━━━━━━━━━━━━━━━━━━━━━━━━━━━━━━━━━━━━━━━━━━━┳━━━━━━━━━━━━━━┳━━━━━━━━━━━━━━┳━━━━━━━━━━┳━━━━━━━━━━━━━━━━━━━━━━━━━━━━━┳━━━━━━━━━━━━━━━━━━━━━━━━┳━━━━━━━━━━━━━━━━━━━━━━━━┳━━━━━━━━━━━━━━━━━━━┓\n",
       "┃<span style=\"font-weight: bold\"> event             </span>┃<span style=\"font-weight: bold\"> site                         </span>┃<span style=\"font-weight: bold\"> date       </span>┃<span style=\"font-weight: bold\"> round  </span>┃<span style=\"font-weight: bold\"> white             </span>┃<span style=\"font-weight: bold\"> black              </span>┃<span style=\"font-weight: bold\"> result  </span>┃<span style=\"font-weight: bold\"> utc_date   </span>┃<span style=\"font-weight: bold\"> utc_time </span>┃<span style=\"font-weight: bold\"> white_elo </span>┃<span style=\"font-weight: bold\"> black_elo </span>┃<span style=\"font-weight: bold\"> white_rating_diff </span>┃<span style=\"font-weight: bold\"> black_rating_diff </span>┃<span style=\"font-weight: bold\"> white_title </span>┃<span style=\"font-weight: bold\"> black_title </span>┃<span style=\"font-weight: bold\"> eco    </span>┃<span style=\"font-weight: bold\"> opening                                                        </span>┃<span style=\"font-weight: bold\"> time_control </span>┃<span style=\"font-weight: bold\"> termination  </span>┃<span style=\"font-weight: bold\"> move_ply </span>┃<span style=\"font-weight: bold\"> move_comment                </span>┃<span style=\"font-weight: bold\"> time_control_base_time </span>┃<span style=\"font-weight: bold\"> time_control_increment </span>┃<span style=\"font-weight: bold\"> time_control_type </span>┃\n",
       "┡━━━━━━━━━━━━━━━━━━━╇━━━━━━━━━━━━━━━━━━━━━━━━━━━━━━╇━━━━━━━━━━━━╇━━━━━━━━╇━━━━━━━━━━━━━━━━━━━╇━━━━━━━━━━━━━━━━━━━━╇━━━━━━━━━╇━━━━━━━━━━━━╇━━━━━━━━━━╇━━━━━━━━━━━╇━━━━━━━━━━━╇━━━━━━━━━━━━━━━━━━━╇━━━━━━━━━━━━━━━━━━━╇━━━━━━━━━━━━━╇━━━━━━━━━━━━━╇━━━━━━━━╇━━━━━━━━━━━━━━━━━━━━━━━━━━━━━━━━━━━━━━━━━━━━━━━━━━━━━━━━━━━━━━━━╇━━━━━━━━━━━━━━╇━━━━━━━━━━━━━━╇━━━━━━━━━━╇━━━━━━━━━━━━━━━━━━━━━━━━━━━━━╇━━━━━━━━━━━━━━━━━━━━━━━━╇━━━━━━━━━━━━━━━━━━━━━━━━╇━━━━━━━━━━━━━━━━━━━┩\n",
       "│ <span style=\"color: #7f7f7f; text-decoration-color: #7f7f7f\">string</span>            │ <span style=\"color: #7f7f7f; text-decoration-color: #7f7f7f\">string</span>                       │ <span style=\"color: #7f7f7f; text-decoration-color: #7f7f7f\">string</span>     │ <span style=\"color: #7f7f7f; text-decoration-color: #7f7f7f\">string</span> │ <span style=\"color: #7f7f7f; text-decoration-color: #7f7f7f\">string</span>            │ <span style=\"color: #7f7f7f; text-decoration-color: #7f7f7f\">string</span>             │ <span style=\"color: #7f7f7f; text-decoration-color: #7f7f7f\">string</span>  │ <span style=\"color: #7f7f7f; text-decoration-color: #7f7f7f\">string</span>     │ <span style=\"color: #7f7f7f; text-decoration-color: #7f7f7f\">string</span>   │ <span style=\"color: #7f7f7f; text-decoration-color: #7f7f7f\">string</span>    │ <span style=\"color: #7f7f7f; text-decoration-color: #7f7f7f\">string</span>    │ <span style=\"color: #7f7f7f; text-decoration-color: #7f7f7f\">string</span>            │ <span style=\"color: #7f7f7f; text-decoration-color: #7f7f7f\">string</span>            │ <span style=\"color: #7f7f7f; text-decoration-color: #7f7f7f\">string</span>      │ <span style=\"color: #7f7f7f; text-decoration-color: #7f7f7f\">string</span>      │ <span style=\"color: #7f7f7f; text-decoration-color: #7f7f7f\">string</span> │ <span style=\"color: #7f7f7f; text-decoration-color: #7f7f7f\">string</span>                                                         │ <span style=\"color: #7f7f7f; text-decoration-color: #7f7f7f\">string</span>       │ <span style=\"color: #7f7f7f; text-decoration-color: #7f7f7f\">string</span>       │ <span style=\"color: #7f7f7f; text-decoration-color: #7f7f7f\">int64</span>    │ <span style=\"color: #7f7f7f; text-decoration-color: #7f7f7f\">string</span>                      │ <span style=\"color: #7f7f7f; text-decoration-color: #7f7f7f\">int64</span>                  │ <span style=\"color: #7f7f7f; text-decoration-color: #7f7f7f\">int64</span>                  │ <span style=\"color: #7f7f7f; text-decoration-color: #7f7f7f\">string</span>            │\n",
       "├───────────────────┼──────────────────────────────┼────────────┼────────┼───────────────────┼────────────────────┼─────────┼────────────┼──────────┼───────────┼───────────┼───────────────────┼───────────────────┼─────────────┼─────────────┼────────┼────────────────────────────────────────────────────────────────┼──────────────┼──────────────┼──────────┼─────────────────────────────┼────────────────────────┼────────────────────────┼───────────────────┤\n",
       "│ <span style=\"color: #008000; text-decoration-color: #008000\">Rated Bullet game</span> │ <a href=\"https://lichess.org/qjWLfHje\" target=\"_blank\"><span style=\"color: #008000; text-decoration-color: #008000\">https://lichess.org/qjWLfHje</span></a> │ <span style=\"color: #008000; text-decoration-color: #008000\">2024.06.01</span> │ <span style=\"color: #008000; text-decoration-color: #008000\">-     </span> │ <span style=\"color: #008000; text-decoration-color: #008000\">simple-bot       </span> │ <span style=\"color: #008000; text-decoration-color: #008000\">simplexitor       </span> │ <span style=\"color: #008000; text-decoration-color: #008000\">1/2-1/2</span> │ <span style=\"color: #008000; text-decoration-color: #008000\">2024.06.01</span> │ <span style=\"color: #008000; text-decoration-color: #008000\">00:00:00</span> │ <span style=\"color: #008000; text-decoration-color: #008000\">1872     </span> │ <span style=\"color: #008000; text-decoration-color: #008000\">1744     </span> │ <span style=\"color: #008000; text-decoration-color: #008000\">-2               </span> │ <span style=\"color: #008000; text-decoration-color: #008000\">+2               </span> │ <span style=\"color: #008000; text-decoration-color: #008000\">BOT        </span> │ <span style=\"color: #008000; text-decoration-color: #008000\">BOT        </span> │ <span style=\"color: #008000; text-decoration-color: #008000\">A15   </span> │ <span style=\"color: #008000; text-decoration-color: #008000\">English Opening: Anglo-Indian Defense, King's Knight Variation</span> │ <span style=\"color: #008000; text-decoration-color: #008000\">60+1        </span> │ <span style=\"color: #008000; text-decoration-color: #008000\">Normal      </span> │        <span style=\"color: #008080; text-decoration-color: #008080; font-weight: bold\">1</span> │ <span style=\"color: #008000; text-decoration-color: #008000\">[%clk 0:01:00]             </span> │                     <span style=\"color: #008080; text-decoration-color: #008080; font-weight: bold\">60</span> │                      <span style=\"color: #008080; text-decoration-color: #008080; font-weight: bold\">1</span> │ <span style=\"color: #008000; text-decoration-color: #008000\">BULLET           </span> │\n",
       "│ <span style=\"color: #008000; text-decoration-color: #008000\">Rated Blitz game </span> │ <a href=\"https://lichess.org/u5a9yCCK\" target=\"_blank\"><span style=\"color: #008000; text-decoration-color: #008000\">https://lichess.org/u5a9yCCK</span></a> │ <span style=\"color: #008000; text-decoration-color: #008000\">2024.06.01</span> │ <span style=\"color: #008000; text-decoration-color: #008000\">-     </span> │ <span style=\"color: #008000; text-decoration-color: #008000\">bicanbican       </span> │ <span style=\"color: #008000; text-decoration-color: #008000\">browniemeister    </span> │ <span style=\"color: #008000; text-decoration-color: #008000\">1-0    </span> │ <span style=\"color: #008000; text-decoration-color: #008000\">2024.06.01</span> │ <span style=\"color: #008000; text-decoration-color: #008000\">00:00:00</span> │ <span style=\"color: #008000; text-decoration-color: #008000\">849      </span> │ <span style=\"color: #008000; text-decoration-color: #008000\">878      </span> │ <span style=\"color: #008000; text-decoration-color: #008000\">+6               </span> │ <span style=\"color: #008000; text-decoration-color: #008000\">-6               </span> │ <span style=\"color: #7f7f7f; text-decoration-color: #7f7f7f\">NULL</span>        │ <span style=\"color: #7f7f7f; text-decoration-color: #7f7f7f\">NULL</span>        │ <span style=\"color: #008000; text-decoration-color: #008000\">C25   </span> │ <span style=\"color: #008000; text-decoration-color: #008000\">Vienna Game                                                   </span> │ <span style=\"color: #008000; text-decoration-color: #008000\">300+3       </span> │ <span style=\"color: #008000; text-decoration-color: #008000\">Normal      </span> │        <span style=\"color: #008080; text-decoration-color: #008080; font-weight: bold\">1</span> │ <span style=\"color: #008000; text-decoration-color: #008000\">[%clk 0:05:00]             </span> │                    <span style=\"color: #008080; text-decoration-color: #008080; font-weight: bold\">300</span> │                      <span style=\"color: #008080; text-decoration-color: #008080; font-weight: bold\">3</span> │ <span style=\"color: #008000; text-decoration-color: #008000\">BLITZ            </span> │\n",
       "│ <span style=\"color: #008000; text-decoration-color: #008000\">Rated Blitz game </span> │ <a href=\"https://lichess.org/7DoIieyj\" target=\"_blank\"><span style=\"color: #008000; text-decoration-color: #008000\">https://lichess.org/7DoIieyj</span></a> │ <span style=\"color: #008000; text-decoration-color: #008000\">2024.06.01</span> │ <span style=\"color: #008000; text-decoration-color: #008000\">-     </span> │ <span style=\"color: #008000; text-decoration-color: #008000\">frito_rxs        </span> │ <span style=\"color: #008000; text-decoration-color: #008000\">davetbass         </span> │ <span style=\"color: #008000; text-decoration-color: #008000\">0-1    </span> │ <span style=\"color: #008000; text-decoration-color: #008000\">2024.06.01</span> │ <span style=\"color: #008000; text-decoration-color: #008000\">00:00:00</span> │ <span style=\"color: #008000; text-decoration-color: #008000\">599      </span> │ <span style=\"color: #008000; text-decoration-color: #008000\">750      </span> │ <span style=\"color: #008000; text-decoration-color: #008000\">-17              </span> │ <span style=\"color: #008000; text-decoration-color: #008000\">+3               </span> │ <span style=\"color: #7f7f7f; text-decoration-color: #7f7f7f\">NULL</span>        │ <span style=\"color: #7f7f7f; text-decoration-color: #7f7f7f\">NULL</span>        │ <span style=\"color: #008000; text-decoration-color: #008000\">C41   </span> │ <span style=\"color: #008000; text-decoration-color: #008000\">Philidor Defense                                              </span> │ <span style=\"color: #008000; text-decoration-color: #008000\">300+3       </span> │ <span style=\"color: #008000; text-decoration-color: #008000\">Normal      </span> │        <span style=\"color: #008080; text-decoration-color: #008080; font-weight: bold\">1</span> │ <span style=\"color: #008000; text-decoration-color: #008000\">[%eval 0.15] [%clk 0:05:00]</span> │                    <span style=\"color: #008080; text-decoration-color: #008080; font-weight: bold\">300</span> │                      <span style=\"color: #008080; text-decoration-color: #008080; font-weight: bold\">3</span> │ <span style=\"color: #008000; text-decoration-color: #008000\">BLITZ            </span> │\n",
       "│ <span style=\"color: #008000; text-decoration-color: #008000\">Rated Blitz game </span> │ <a href=\"https://lichess.org/iFJIviTw\" target=\"_blank\"><span style=\"color: #008000; text-decoration-color: #008000\">https://lichess.org/iFJIviTw</span></a> │ <span style=\"color: #008000; text-decoration-color: #008000\">2024.06.01</span> │ <span style=\"color: #008000; text-decoration-color: #008000\">-     </span> │ <span style=\"color: #008000; text-decoration-color: #008000\">Tanggor          </span> │ <span style=\"color: #008000; text-decoration-color: #008000\">CHITEVIVE         </span> │ <span style=\"color: #008000; text-decoration-color: #008000\">0-1    </span> │ <span style=\"color: #008000; text-decoration-color: #008000\">2024.06.01</span> │ <span style=\"color: #008000; text-decoration-color: #008000\">00:00:00</span> │ <span style=\"color: #008000; text-decoration-color: #008000\">1401     </span> │ <span style=\"color: #008000; text-decoration-color: #008000\">1319     </span> │ <span style=\"color: #008000; text-decoration-color: #008000\">-7               </span> │ <span style=\"color: #008000; text-decoration-color: #008000\">+8               </span> │ <span style=\"color: #7f7f7f; text-decoration-color: #7f7f7f\">NULL</span>        │ <span style=\"color: #7f7f7f; text-decoration-color: #7f7f7f\">NULL</span>        │ <span style=\"color: #008000; text-decoration-color: #008000\">B20   </span> │ <span style=\"color: #008000; text-decoration-color: #008000\">Sicilian Defense: Bowdler Attack                              </span> │ <span style=\"color: #008000; text-decoration-color: #008000\">300+3       </span> │ <span style=\"color: #008000; text-decoration-color: #008000\">Normal      </span> │        <span style=\"color: #008080; text-decoration-color: #008080; font-weight: bold\">1</span> │ <span style=\"color: #008000; text-decoration-color: #008000\">[%clk 0:05:00]             </span> │                    <span style=\"color: #008080; text-decoration-color: #008080; font-weight: bold\">300</span> │                      <span style=\"color: #008080; text-decoration-color: #008080; font-weight: bold\">3</span> │ <span style=\"color: #008000; text-decoration-color: #008000\">BLITZ            </span> │\n",
       "│ <span style=\"color: #008000; text-decoration-color: #008000\">Rated Blitz game </span> │ <a href=\"https://lichess.org/O2hfSAZZ\" target=\"_blank\"><span style=\"color: #008000; text-decoration-color: #008000\">https://lichess.org/O2hfSAZZ</span></a> │ <span style=\"color: #008000; text-decoration-color: #008000\">2024.06.01</span> │ <span style=\"color: #008000; text-decoration-color: #008000\">-     </span> │ <span style=\"color: #008000; text-decoration-color: #008000\">JustAnotherBadDay</span> │ <span style=\"color: #008000; text-decoration-color: #008000\">DODO-SATRIO6      </span> │ <span style=\"color: #008000; text-decoration-color: #008000\">0-1    </span> │ <span style=\"color: #008000; text-decoration-color: #008000\">2024.06.01</span> │ <span style=\"color: #008000; text-decoration-color: #008000\">00:00:00</span> │ <span style=\"color: #008000; text-decoration-color: #008000\">1989     </span> │ <span style=\"color: #008000; text-decoration-color: #008000\">1898     </span> │ <span style=\"color: #008000; text-decoration-color: #008000\">-8               </span> │ <span style=\"color: #008000; text-decoration-color: #008000\">+7               </span> │ <span style=\"color: #7f7f7f; text-decoration-color: #7f7f7f\">NULL</span>        │ <span style=\"color: #7f7f7f; text-decoration-color: #7f7f7f\">NULL</span>        │ <span style=\"color: #008000; text-decoration-color: #008000\">B18   </span> │ <span style=\"color: #008000; text-decoration-color: #008000\">Caro-Kann Defense: Classical Variation                        </span> │ <span style=\"color: #008000; text-decoration-color: #008000\">300+3       </span> │ <span style=\"color: #008000; text-decoration-color: #008000\">Normal      </span> │        <span style=\"color: #008080; text-decoration-color: #008080; font-weight: bold\">1</span> │ <span style=\"color: #008000; text-decoration-color: #008000\">[%clk 0:05:00]             </span> │                    <span style=\"color: #008080; text-decoration-color: #008080; font-weight: bold\">300</span> │                      <span style=\"color: #008080; text-decoration-color: #008080; font-weight: bold\">3</span> │ <span style=\"color: #008000; text-decoration-color: #008000\">BLITZ            </span> │\n",
       "│ <span style=\"color: #008000; text-decoration-color: #008000\">Rated Blitz game </span> │ <a href=\"https://lichess.org/NO0zV8V6\" target=\"_blank\"><span style=\"color: #008000; text-decoration-color: #008000\">https://lichess.org/NO0zV8V6</span></a> │ <span style=\"color: #008000; text-decoration-color: #008000\">2024.06.01</span> │ <span style=\"color: #008000; text-decoration-color: #008000\">-     </span> │ <span style=\"color: #008000; text-decoration-color: #008000\">Alreed           </span> │ <span style=\"color: #008000; text-decoration-color: #008000\">David9810         </span> │ <span style=\"color: #008000; text-decoration-color: #008000\">0-1    </span> │ <span style=\"color: #008000; text-decoration-color: #008000\">2024.06.01</span> │ <span style=\"color: #008000; text-decoration-color: #008000\">00:00:00</span> │ <span style=\"color: #008000; text-decoration-color: #008000\">879      </span> │ <span style=\"color: #008000; text-decoration-color: #008000\">907      </span> │ <span style=\"color: #008000; text-decoration-color: #008000\">-5               </span> │ <span style=\"color: #008000; text-decoration-color: #008000\">+12              </span> │ <span style=\"color: #7f7f7f; text-decoration-color: #7f7f7f\">NULL</span>        │ <span style=\"color: #7f7f7f; text-decoration-color: #7f7f7f\">NULL</span>        │ <span style=\"color: #008000; text-decoration-color: #008000\">C44   </span> │ <span style=\"color: #008000; text-decoration-color: #008000\">Ponziani Opening: Jaenisch Counterattack                      </span> │ <span style=\"color: #008000; text-decoration-color: #008000\">300+3       </span> │ <span style=\"color: #008000; text-decoration-color: #008000\">Normal      </span> │        <span style=\"color: #008080; text-decoration-color: #008080; font-weight: bold\">1</span> │ <span style=\"color: #008000; text-decoration-color: #008000\">[%clk 0:05:00]             </span> │                    <span style=\"color: #008080; text-decoration-color: #008080; font-weight: bold\">300</span> │                      <span style=\"color: #008080; text-decoration-color: #008080; font-weight: bold\">3</span> │ <span style=\"color: #008000; text-decoration-color: #008000\">BLITZ            </span> │\n",
       "│ <span style=\"color: #008000; text-decoration-color: #008000\">Rated Blitz game </span> │ <a href=\"https://lichess.org/u06sZWal\" target=\"_blank\"><span style=\"color: #008000; text-decoration-color: #008000\">https://lichess.org/u06sZWal</span></a> │ <span style=\"color: #008000; text-decoration-color: #008000\">2024.06.01</span> │ <span style=\"color: #008000; text-decoration-color: #008000\">-     </span> │ <span style=\"color: #008000; text-decoration-color: #008000\">mori-nu          </span> │ <span style=\"color: #008000; text-decoration-color: #008000\">Nokiam            </span> │ <span style=\"color: #008000; text-decoration-color: #008000\">1-0    </span> │ <span style=\"color: #008000; text-decoration-color: #008000\">2024.06.01</span> │ <span style=\"color: #008000; text-decoration-color: #008000\">00:00:00</span> │ <span style=\"color: #008000; text-decoration-color: #008000\">1276     </span> │ <span style=\"color: #008000; text-decoration-color: #008000\">1394     </span> │ <span style=\"color: #008000; text-decoration-color: #008000\">+8               </span> │ <span style=\"color: #008000; text-decoration-color: #008000\">-14              </span> │ <span style=\"color: #7f7f7f; text-decoration-color: #7f7f7f\">NULL</span>        │ <span style=\"color: #7f7f7f; text-decoration-color: #7f7f7f\">NULL</span>        │ <span style=\"color: #008000; text-decoration-color: #008000\">C53   </span> │ <span style=\"color: #008000; text-decoration-color: #008000\">Italian Game: Classical Variation, La Bourdonnais Variation   </span> │ <span style=\"color: #008000; text-decoration-color: #008000\">300+3       </span> │ <span style=\"color: #008000; text-decoration-color: #008000\">Normal      </span> │        <span style=\"color: #008080; text-decoration-color: #008080; font-weight: bold\">1</span> │ <span style=\"color: #008000; text-decoration-color: #008000\">[%clk 0:05:00]             </span> │                    <span style=\"color: #008080; text-decoration-color: #008080; font-weight: bold\">300</span> │                      <span style=\"color: #008080; text-decoration-color: #008080; font-weight: bold\">3</span> │ <span style=\"color: #008000; text-decoration-color: #008000\">BLITZ            </span> │\n",
       "│ <span style=\"color: #008000; text-decoration-color: #008000\">Rated Blitz game </span> │ <a href=\"https://lichess.org/n4JttQ1N\" target=\"_blank\"><span style=\"color: #008000; text-decoration-color: #008000\">https://lichess.org/n4JttQ1N</span></a> │ <span style=\"color: #008000; text-decoration-color: #008000\">2024.06.01</span> │ <span style=\"color: #008000; text-decoration-color: #008000\">-     </span> │ <span style=\"color: #008000; text-decoration-color: #008000\">tomaxxiano10     </span> │ <span style=\"color: #008000; text-decoration-color: #008000\">LucianoNRECuritiba</span> │ <span style=\"color: #008000; text-decoration-color: #008000\">1-0    </span> │ <span style=\"color: #008000; text-decoration-color: #008000\">2024.06.01</span> │ <span style=\"color: #008000; text-decoration-color: #008000\">00:00:00</span> │ <span style=\"color: #008000; text-decoration-color: #008000\">911      </span> │ <span style=\"color: #008000; text-decoration-color: #008000\">1030     </span> │ <span style=\"color: #008000; text-decoration-color: #008000\">+8               </span> │ <span style=\"color: #008000; text-decoration-color: #008000\">-11              </span> │ <span style=\"color: #7f7f7f; text-decoration-color: #7f7f7f\">NULL</span>        │ <span style=\"color: #7f7f7f; text-decoration-color: #7f7f7f\">NULL</span>        │ <span style=\"color: #008000; text-decoration-color: #008000\">C50   </span> │ <span style=\"color: #008000; text-decoration-color: #008000\">Italian Game: Anti-Fried Liver Defense                        </span> │ <span style=\"color: #008000; text-decoration-color: #008000\">300+3       </span> │ <span style=\"color: #008000; text-decoration-color: #008000\">Normal      </span> │        <span style=\"color: #008080; text-decoration-color: #008080; font-weight: bold\">1</span> │ <span style=\"color: #008000; text-decoration-color: #008000\">[%clk 0:05:00]             </span> │                    <span style=\"color: #008080; text-decoration-color: #008080; font-weight: bold\">300</span> │                      <span style=\"color: #008080; text-decoration-color: #008080; font-weight: bold\">3</span> │ <span style=\"color: #008000; text-decoration-color: #008000\">BLITZ            </span> │\n",
       "│ <span style=\"color: #008000; text-decoration-color: #008000\">Rated Blitz game </span> │ <a href=\"https://lichess.org/EaFHBtng\" target=\"_blank\"><span style=\"color: #008000; text-decoration-color: #008000\">https://lichess.org/EaFHBtng</span></a> │ <span style=\"color: #008000; text-decoration-color: #008000\">2024.06.01</span> │ <span style=\"color: #008000; text-decoration-color: #008000\">-     </span> │ <span style=\"color: #008000; text-decoration-color: #008000\">ajh2011          </span> │ <span style=\"color: #008000; text-decoration-color: #008000\">slygroovis        </span> │ <span style=\"color: #008000; text-decoration-color: #008000\">1-0    </span> │ <span style=\"color: #008000; text-decoration-color: #008000\">2024.06.01</span> │ <span style=\"color: #008000; text-decoration-color: #008000\">00:00:00</span> │ <span style=\"color: #008000; text-decoration-color: #008000\">1255     </span> │ <span style=\"color: #008000; text-decoration-color: #008000\">1267     </span> │ <span style=\"color: #008000; text-decoration-color: #008000\">+6               </span> │ <span style=\"color: #008000; text-decoration-color: #008000\">-6               </span> │ <span style=\"color: #7f7f7f; text-decoration-color: #7f7f7f\">NULL</span>        │ <span style=\"color: #7f7f7f; text-decoration-color: #7f7f7f\">NULL</span>        │ <span style=\"color: #008000; text-decoration-color: #008000\">C42   </span> │ <span style=\"color: #008000; text-decoration-color: #008000\">Russian Game: Stafford Gambit                                 </span> │ <span style=\"color: #008000; text-decoration-color: #008000\">300+3       </span> │ <span style=\"color: #008000; text-decoration-color: #008000\">Time forfeit</span> │        <span style=\"color: #008080; text-decoration-color: #008080; font-weight: bold\">1</span> │ <span style=\"color: #008000; text-decoration-color: #008000\">[%clk 0:05:00]             </span> │                    <span style=\"color: #008080; text-decoration-color: #008080; font-weight: bold\">300</span> │                      <span style=\"color: #008080; text-decoration-color: #008080; font-weight: bold\">3</span> │ <span style=\"color: #008000; text-decoration-color: #008000\">BLITZ            </span> │\n",
       "│ <span style=\"color: #008000; text-decoration-color: #008000\">Rated Blitz game </span> │ <a href=\"https://lichess.org/YonW355p\" target=\"_blank\"><span style=\"color: #008000; text-decoration-color: #008000\">https://lichess.org/YonW355p</span></a> │ <span style=\"color: #008000; text-decoration-color: #008000\">2024.06.01</span> │ <span style=\"color: #008000; text-decoration-color: #008000\">-     </span> │ <span style=\"color: #008000; text-decoration-color: #008000\">Owechkin_1962    </span> │ <span style=\"color: #008000; text-decoration-color: #008000\">orangutanburner   </span> │ <span style=\"color: #008000; text-decoration-color: #008000\">1-0    </span> │ <span style=\"color: #008000; text-decoration-color: #008000\">2024.06.01</span> │ <span style=\"color: #008000; text-decoration-color: #008000\">00:00:00</span> │ <span style=\"color: #008000; text-decoration-color: #008000\">1629     </span> │ <span style=\"color: #008000; text-decoration-color: #008000\">1703     </span> │ <span style=\"color: #008000; text-decoration-color: #008000\">+6               </span> │ <span style=\"color: #008000; text-decoration-color: #008000\">-83              </span> │ <span style=\"color: #7f7f7f; text-decoration-color: #7f7f7f\">NULL</span>        │ <span style=\"color: #7f7f7f; text-decoration-color: #7f7f7f\">NULL</span>        │ <span style=\"color: #008000; text-decoration-color: #008000\">B21   </span> │ <span style=\"color: #008000; text-decoration-color: #008000\">Sicilian Defense: McDonnell Attack                            </span> │ <span style=\"color: #008000; text-decoration-color: #008000\">300+3       </span> │ <span style=\"color: #008000; text-decoration-color: #008000\">Normal      </span> │        <span style=\"color: #008080; text-decoration-color: #008080; font-weight: bold\">1</span> │ <span style=\"color: #008000; text-decoration-color: #008000\">[%clk 0:05:00]             </span> │                    <span style=\"color: #008080; text-decoration-color: #008080; font-weight: bold\">300</span> │                      <span style=\"color: #008080; text-decoration-color: #008080; font-weight: bold\">3</span> │ <span style=\"color: #008000; text-decoration-color: #008000\">BLITZ            </span> │\n",
       "│ <span style=\"color: #7f7f7f; text-decoration-color: #7f7f7f\">…</span>                 │ <span style=\"color: #7f7f7f; text-decoration-color: #7f7f7f\">…</span>                            │ <span style=\"color: #7f7f7f; text-decoration-color: #7f7f7f\">…</span>          │ <span style=\"color: #7f7f7f; text-decoration-color: #7f7f7f\">…</span>      │ <span style=\"color: #7f7f7f; text-decoration-color: #7f7f7f\">…</span>                 │ <span style=\"color: #7f7f7f; text-decoration-color: #7f7f7f\">…</span>                  │ <span style=\"color: #7f7f7f; text-decoration-color: #7f7f7f\">…</span>       │ <span style=\"color: #7f7f7f; text-decoration-color: #7f7f7f\">…</span>          │ <span style=\"color: #7f7f7f; text-decoration-color: #7f7f7f\">…</span>        │ <span style=\"color: #7f7f7f; text-decoration-color: #7f7f7f\">…</span>         │ <span style=\"color: #7f7f7f; text-decoration-color: #7f7f7f\">…</span>         │ <span style=\"color: #7f7f7f; text-decoration-color: #7f7f7f\">…</span>                 │ <span style=\"color: #7f7f7f; text-decoration-color: #7f7f7f\">…</span>                 │ <span style=\"color: #7f7f7f; text-decoration-color: #7f7f7f\">…</span>           │ <span style=\"color: #7f7f7f; text-decoration-color: #7f7f7f\">…</span>           │ <span style=\"color: #7f7f7f; text-decoration-color: #7f7f7f\">…</span>      │ <span style=\"color: #7f7f7f; text-decoration-color: #7f7f7f\">…</span>                                                              │ <span style=\"color: #7f7f7f; text-decoration-color: #7f7f7f\">…</span>            │ <span style=\"color: #7f7f7f; text-decoration-color: #7f7f7f\">…</span>            │        <span style=\"color: #7f7f7f; text-decoration-color: #7f7f7f\">…</span> │ <span style=\"color: #7f7f7f; text-decoration-color: #7f7f7f\">…</span>                           │                      <span style=\"color: #7f7f7f; text-decoration-color: #7f7f7f\">…</span> │                      <span style=\"color: #7f7f7f; text-decoration-color: #7f7f7f\">…</span> │ <span style=\"color: #7f7f7f; text-decoration-color: #7f7f7f\">…</span>                 │\n",
       "└───────────────────┴──────────────────────────────┴────────────┴────────┴───────────────────┴────────────────────┴─────────┴────────────┴──────────┴───────────┴───────────┴───────────────────┴───────────────────┴─────────────┴─────────────┴────────┴────────────────────────────────────────────────────────────────┴──────────────┴──────────────┴──────────┴─────────────────────────────┴────────────────────────┴────────────────────────┴───────────────────┘\n",
       "</pre>\n"
      ],
      "text/plain": [
       "┏━━━━━━━━━━━━━━━━━━━┳━━━━━━━━━━━━━━━━━━━━━━━━━━━━━━┳━━━━━━━━━━━━┳━━━━━━━━┳━━━━━━━━━━━━━━━━━━━┳━━━━━━━━━━━━━━━━━━━━┳━━━━━━━━━┳━━━━━━━━━━━━┳━━━━━━━━━━┳━━━━━━━━━━━┳━━━━━━━━━━━┳━━━━━━━━━━━━━━━━━━━┳━━━━━━━━━━━━━━━━━━━┳━━━━━━━━━━━━━┳━━━━━━━━━━━━━┳━━━━━━━━┳━━━━━━━━━━━━━━━━━━━━━━━━━━━━━━━━━━━━━━━━━━━━━━━━━━━━━━━━━━━━━━━━┳━━━━━━━━━━━━━━┳━━━━━━━━━━━━━━┳━━━━━━━━━━┳━━━━━━━━━━━━━━━━━━━━━━━━━━━━━┳━━━━━━━━━━━━━━━━━━━━━━━━┳━━━━━━━━━━━━━━━━━━━━━━━━┳━━━━━━━━━━━━━━━━━━━┓\n",
       "┃\u001b[1m \u001b[0m\u001b[1mevent\u001b[0m\u001b[1m            \u001b[0m\u001b[1m \u001b[0m┃\u001b[1m \u001b[0m\u001b[1msite\u001b[0m\u001b[1m                        \u001b[0m\u001b[1m \u001b[0m┃\u001b[1m \u001b[0m\u001b[1mdate\u001b[0m\u001b[1m      \u001b[0m\u001b[1m \u001b[0m┃\u001b[1m \u001b[0m\u001b[1mround\u001b[0m\u001b[1m \u001b[0m\u001b[1m \u001b[0m┃\u001b[1m \u001b[0m\u001b[1mwhite\u001b[0m\u001b[1m            \u001b[0m\u001b[1m \u001b[0m┃\u001b[1m \u001b[0m\u001b[1mblack\u001b[0m\u001b[1m             \u001b[0m\u001b[1m \u001b[0m┃\u001b[1m \u001b[0m\u001b[1mresult\u001b[0m\u001b[1m \u001b[0m\u001b[1m \u001b[0m┃\u001b[1m \u001b[0m\u001b[1mutc_date\u001b[0m\u001b[1m  \u001b[0m\u001b[1m \u001b[0m┃\u001b[1m \u001b[0m\u001b[1mutc_time\u001b[0m\u001b[1m \u001b[0m┃\u001b[1m \u001b[0m\u001b[1mwhite_elo\u001b[0m\u001b[1m \u001b[0m┃\u001b[1m \u001b[0m\u001b[1mblack_elo\u001b[0m\u001b[1m \u001b[0m┃\u001b[1m \u001b[0m\u001b[1mwhite_rating_diff\u001b[0m\u001b[1m \u001b[0m┃\u001b[1m \u001b[0m\u001b[1mblack_rating_diff\u001b[0m\u001b[1m \u001b[0m┃\u001b[1m \u001b[0m\u001b[1mwhite_title\u001b[0m\u001b[1m \u001b[0m┃\u001b[1m \u001b[0m\u001b[1mblack_title\u001b[0m\u001b[1m \u001b[0m┃\u001b[1m \u001b[0m\u001b[1meco\u001b[0m\u001b[1m   \u001b[0m\u001b[1m \u001b[0m┃\u001b[1m \u001b[0m\u001b[1mopening\u001b[0m\u001b[1m                                                       \u001b[0m\u001b[1m \u001b[0m┃\u001b[1m \u001b[0m\u001b[1mtime_control\u001b[0m\u001b[1m \u001b[0m┃\u001b[1m \u001b[0m\u001b[1mtermination\u001b[0m\u001b[1m \u001b[0m\u001b[1m \u001b[0m┃\u001b[1m \u001b[0m\u001b[1mmove_ply\u001b[0m\u001b[1m \u001b[0m┃\u001b[1m \u001b[0m\u001b[1mmove_comment\u001b[0m\u001b[1m               \u001b[0m\u001b[1m \u001b[0m┃\u001b[1m \u001b[0m\u001b[1mtime_control_base_time\u001b[0m\u001b[1m \u001b[0m┃\u001b[1m \u001b[0m\u001b[1mtime_control_increment\u001b[0m\u001b[1m \u001b[0m┃\u001b[1m \u001b[0m\u001b[1mtime_control_type\u001b[0m\u001b[1m \u001b[0m┃\n",
       "┡━━━━━━━━━━━━━━━━━━━╇━━━━━━━━━━━━━━━━━━━━━━━━━━━━━━╇━━━━━━━━━━━━╇━━━━━━━━╇━━━━━━━━━━━━━━━━━━━╇━━━━━━━━━━━━━━━━━━━━╇━━━━━━━━━╇━━━━━━━━━━━━╇━━━━━━━━━━╇━━━━━━━━━━━╇━━━━━━━━━━━╇━━━━━━━━━━━━━━━━━━━╇━━━━━━━━━━━━━━━━━━━╇━━━━━━━━━━━━━╇━━━━━━━━━━━━━╇━━━━━━━━╇━━━━━━━━━━━━━━━━━━━━━━━━━━━━━━━━━━━━━━━━━━━━━━━━━━━━━━━━━━━━━━━━╇━━━━━━━━━━━━━━╇━━━━━━━━━━━━━━╇━━━━━━━━━━╇━━━━━━━━━━━━━━━━━━━━━━━━━━━━━╇━━━━━━━━━━━━━━━━━━━━━━━━╇━━━━━━━━━━━━━━━━━━━━━━━━╇━━━━━━━━━━━━━━━━━━━┩\n",
       "│ \u001b[2mstring\u001b[0m            │ \u001b[2mstring\u001b[0m                       │ \u001b[2mstring\u001b[0m     │ \u001b[2mstring\u001b[0m │ \u001b[2mstring\u001b[0m            │ \u001b[2mstring\u001b[0m             │ \u001b[2mstring\u001b[0m  │ \u001b[2mstring\u001b[0m     │ \u001b[2mstring\u001b[0m   │ \u001b[2mstring\u001b[0m    │ \u001b[2mstring\u001b[0m    │ \u001b[2mstring\u001b[0m            │ \u001b[2mstring\u001b[0m            │ \u001b[2mstring\u001b[0m      │ \u001b[2mstring\u001b[0m      │ \u001b[2mstring\u001b[0m │ \u001b[2mstring\u001b[0m                                                         │ \u001b[2mstring\u001b[0m       │ \u001b[2mstring\u001b[0m       │ \u001b[2mint64\u001b[0m    │ \u001b[2mstring\u001b[0m                      │ \u001b[2mint64\u001b[0m                  │ \u001b[2mint64\u001b[0m                  │ \u001b[2mstring\u001b[0m            │\n",
       "├───────────────────┼──────────────────────────────┼────────────┼────────┼───────────────────┼────────────────────┼─────────┼────────────┼──────────┼───────────┼───────────┼───────────────────┼───────────────────┼─────────────┼─────────────┼────────┼────────────────────────────────────────────────────────────────┼──────────────┼──────────────┼──────────┼─────────────────────────────┼────────────────────────┼────────────────────────┼───────────────────┤\n",
       "│ \u001b[32mRated Bullet game\u001b[0m │ \u001b]8;id=837962;https://lichess.org/qjWLfHje\u001b\\\u001b[32mhttps://lichess.org/qjWLfHje\u001b[0m\u001b]8;;\u001b\\ │ \u001b[32m2024.06.01\u001b[0m │ \u001b[32m-     \u001b[0m │ \u001b[32msimple-bot       \u001b[0m │ \u001b[32msimplexitor       \u001b[0m │ \u001b[32m1/2-1/2\u001b[0m │ \u001b[32m2024.06.01\u001b[0m │ \u001b[32m00:00:00\u001b[0m │ \u001b[32m1872     \u001b[0m │ \u001b[32m1744     \u001b[0m │ \u001b[32m-2               \u001b[0m │ \u001b[32m+2               \u001b[0m │ \u001b[32mBOT        \u001b[0m │ \u001b[32mBOT        \u001b[0m │ \u001b[32mA15   \u001b[0m │ \u001b[32mEnglish Opening: Anglo-Indian Defense, King's Knight Variation\u001b[0m │ \u001b[32m60+1        \u001b[0m │ \u001b[32mNormal      \u001b[0m │        \u001b[1;36m1\u001b[0m │ \u001b[32m[%clk 0:01:00]             \u001b[0m │                     \u001b[1;36m60\u001b[0m │                      \u001b[1;36m1\u001b[0m │ \u001b[32mBULLET           \u001b[0m │\n",
       "│ \u001b[32mRated Blitz game \u001b[0m │ \u001b]8;id=503182;https://lichess.org/u5a9yCCK\u001b\\\u001b[32mhttps://lichess.org/u5a9yCCK\u001b[0m\u001b]8;;\u001b\\ │ \u001b[32m2024.06.01\u001b[0m │ \u001b[32m-     \u001b[0m │ \u001b[32mbicanbican       \u001b[0m │ \u001b[32mbrowniemeister    \u001b[0m │ \u001b[32m1-0    \u001b[0m │ \u001b[32m2024.06.01\u001b[0m │ \u001b[32m00:00:00\u001b[0m │ \u001b[32m849      \u001b[0m │ \u001b[32m878      \u001b[0m │ \u001b[32m+6               \u001b[0m │ \u001b[32m-6               \u001b[0m │ \u001b[2mNULL\u001b[0m        │ \u001b[2mNULL\u001b[0m        │ \u001b[32mC25   \u001b[0m │ \u001b[32mVienna Game                                                   \u001b[0m │ \u001b[32m300+3       \u001b[0m │ \u001b[32mNormal      \u001b[0m │        \u001b[1;36m1\u001b[0m │ \u001b[32m[%clk 0:05:00]             \u001b[0m │                    \u001b[1;36m300\u001b[0m │                      \u001b[1;36m3\u001b[0m │ \u001b[32mBLITZ            \u001b[0m │\n",
       "│ \u001b[32mRated Blitz game \u001b[0m │ \u001b]8;id=457677;https://lichess.org/7DoIieyj\u001b\\\u001b[32mhttps://lichess.org/7DoIieyj\u001b[0m\u001b]8;;\u001b\\ │ \u001b[32m2024.06.01\u001b[0m │ \u001b[32m-     \u001b[0m │ \u001b[32mfrito_rxs        \u001b[0m │ \u001b[32mdavetbass         \u001b[0m │ \u001b[32m0-1    \u001b[0m │ \u001b[32m2024.06.01\u001b[0m │ \u001b[32m00:00:00\u001b[0m │ \u001b[32m599      \u001b[0m │ \u001b[32m750      \u001b[0m │ \u001b[32m-17              \u001b[0m │ \u001b[32m+3               \u001b[0m │ \u001b[2mNULL\u001b[0m        │ \u001b[2mNULL\u001b[0m        │ \u001b[32mC41   \u001b[0m │ \u001b[32mPhilidor Defense                                              \u001b[0m │ \u001b[32m300+3       \u001b[0m │ \u001b[32mNormal      \u001b[0m │        \u001b[1;36m1\u001b[0m │ \u001b[32m[%eval 0.15] [%clk 0:05:00]\u001b[0m │                    \u001b[1;36m300\u001b[0m │                      \u001b[1;36m3\u001b[0m │ \u001b[32mBLITZ            \u001b[0m │\n",
       "│ \u001b[32mRated Blitz game \u001b[0m │ \u001b]8;id=812768;https://lichess.org/iFJIviTw\u001b\\\u001b[32mhttps://lichess.org/iFJIviTw\u001b[0m\u001b]8;;\u001b\\ │ \u001b[32m2024.06.01\u001b[0m │ \u001b[32m-     \u001b[0m │ \u001b[32mTanggor          \u001b[0m │ \u001b[32mCHITEVIVE         \u001b[0m │ \u001b[32m0-1    \u001b[0m │ \u001b[32m2024.06.01\u001b[0m │ \u001b[32m00:00:00\u001b[0m │ \u001b[32m1401     \u001b[0m │ \u001b[32m1319     \u001b[0m │ \u001b[32m-7               \u001b[0m │ \u001b[32m+8               \u001b[0m │ \u001b[2mNULL\u001b[0m        │ \u001b[2mNULL\u001b[0m        │ \u001b[32mB20   \u001b[0m │ \u001b[32mSicilian Defense: Bowdler Attack                              \u001b[0m │ \u001b[32m300+3       \u001b[0m │ \u001b[32mNormal      \u001b[0m │        \u001b[1;36m1\u001b[0m │ \u001b[32m[%clk 0:05:00]             \u001b[0m │                    \u001b[1;36m300\u001b[0m │                      \u001b[1;36m3\u001b[0m │ \u001b[32mBLITZ            \u001b[0m │\n",
       "│ \u001b[32mRated Blitz game \u001b[0m │ \u001b]8;id=197348;https://lichess.org/O2hfSAZZ\u001b\\\u001b[32mhttps://lichess.org/O2hfSAZZ\u001b[0m\u001b]8;;\u001b\\ │ \u001b[32m2024.06.01\u001b[0m │ \u001b[32m-     \u001b[0m │ \u001b[32mJustAnotherBadDay\u001b[0m │ \u001b[32mDODO-SATRIO6      \u001b[0m │ \u001b[32m0-1    \u001b[0m │ \u001b[32m2024.06.01\u001b[0m │ \u001b[32m00:00:00\u001b[0m │ \u001b[32m1989     \u001b[0m │ \u001b[32m1898     \u001b[0m │ \u001b[32m-8               \u001b[0m │ \u001b[32m+7               \u001b[0m │ \u001b[2mNULL\u001b[0m        │ \u001b[2mNULL\u001b[0m        │ \u001b[32mB18   \u001b[0m │ \u001b[32mCaro-Kann Defense: Classical Variation                        \u001b[0m │ \u001b[32m300+3       \u001b[0m │ \u001b[32mNormal      \u001b[0m │        \u001b[1;36m1\u001b[0m │ \u001b[32m[%clk 0:05:00]             \u001b[0m │                    \u001b[1;36m300\u001b[0m │                      \u001b[1;36m3\u001b[0m │ \u001b[32mBLITZ            \u001b[0m │\n",
       "│ \u001b[32mRated Blitz game \u001b[0m │ \u001b]8;id=91825;https://lichess.org/NO0zV8V6\u001b\\\u001b[32mhttps://lichess.org/NO0zV8V6\u001b[0m\u001b]8;;\u001b\\ │ \u001b[32m2024.06.01\u001b[0m │ \u001b[32m-     \u001b[0m │ \u001b[32mAlreed           \u001b[0m │ \u001b[32mDavid9810         \u001b[0m │ \u001b[32m0-1    \u001b[0m │ \u001b[32m2024.06.01\u001b[0m │ \u001b[32m00:00:00\u001b[0m │ \u001b[32m879      \u001b[0m │ \u001b[32m907      \u001b[0m │ \u001b[32m-5               \u001b[0m │ \u001b[32m+12              \u001b[0m │ \u001b[2mNULL\u001b[0m        │ \u001b[2mNULL\u001b[0m        │ \u001b[32mC44   \u001b[0m │ \u001b[32mPonziani Opening: Jaenisch Counterattack                      \u001b[0m │ \u001b[32m300+3       \u001b[0m │ \u001b[32mNormal      \u001b[0m │        \u001b[1;36m1\u001b[0m │ \u001b[32m[%clk 0:05:00]             \u001b[0m │                    \u001b[1;36m300\u001b[0m │                      \u001b[1;36m3\u001b[0m │ \u001b[32mBLITZ            \u001b[0m │\n",
       "│ \u001b[32mRated Blitz game \u001b[0m │ \u001b]8;id=139886;https://lichess.org/u06sZWal\u001b\\\u001b[32mhttps://lichess.org/u06sZWal\u001b[0m\u001b]8;;\u001b\\ │ \u001b[32m2024.06.01\u001b[0m │ \u001b[32m-     \u001b[0m │ \u001b[32mmori-nu          \u001b[0m │ \u001b[32mNokiam            \u001b[0m │ \u001b[32m1-0    \u001b[0m │ \u001b[32m2024.06.01\u001b[0m │ \u001b[32m00:00:00\u001b[0m │ \u001b[32m1276     \u001b[0m │ \u001b[32m1394     \u001b[0m │ \u001b[32m+8               \u001b[0m │ \u001b[32m-14              \u001b[0m │ \u001b[2mNULL\u001b[0m        │ \u001b[2mNULL\u001b[0m        │ \u001b[32mC53   \u001b[0m │ \u001b[32mItalian Game: Classical Variation, La Bourdonnais Variation   \u001b[0m │ \u001b[32m300+3       \u001b[0m │ \u001b[32mNormal      \u001b[0m │        \u001b[1;36m1\u001b[0m │ \u001b[32m[%clk 0:05:00]             \u001b[0m │                    \u001b[1;36m300\u001b[0m │                      \u001b[1;36m3\u001b[0m │ \u001b[32mBLITZ            \u001b[0m │\n",
       "│ \u001b[32mRated Blitz game \u001b[0m │ \u001b]8;id=352580;https://lichess.org/n4JttQ1N\u001b\\\u001b[32mhttps://lichess.org/n4JttQ1N\u001b[0m\u001b]8;;\u001b\\ │ \u001b[32m2024.06.01\u001b[0m │ \u001b[32m-     \u001b[0m │ \u001b[32mtomaxxiano10     \u001b[0m │ \u001b[32mLucianoNRECuritiba\u001b[0m │ \u001b[32m1-0    \u001b[0m │ \u001b[32m2024.06.01\u001b[0m │ \u001b[32m00:00:00\u001b[0m │ \u001b[32m911      \u001b[0m │ \u001b[32m1030     \u001b[0m │ \u001b[32m+8               \u001b[0m │ \u001b[32m-11              \u001b[0m │ \u001b[2mNULL\u001b[0m        │ \u001b[2mNULL\u001b[0m        │ \u001b[32mC50   \u001b[0m │ \u001b[32mItalian Game: Anti-Fried Liver Defense                        \u001b[0m │ \u001b[32m300+3       \u001b[0m │ \u001b[32mNormal      \u001b[0m │        \u001b[1;36m1\u001b[0m │ \u001b[32m[%clk 0:05:00]             \u001b[0m │                    \u001b[1;36m300\u001b[0m │                      \u001b[1;36m3\u001b[0m │ \u001b[32mBLITZ            \u001b[0m │\n",
       "│ \u001b[32mRated Blitz game \u001b[0m │ \u001b]8;id=837410;https://lichess.org/EaFHBtng\u001b\\\u001b[32mhttps://lichess.org/EaFHBtng\u001b[0m\u001b]8;;\u001b\\ │ \u001b[32m2024.06.01\u001b[0m │ \u001b[32m-     \u001b[0m │ \u001b[32majh2011          \u001b[0m │ \u001b[32mslygroovis        \u001b[0m │ \u001b[32m1-0    \u001b[0m │ \u001b[32m2024.06.01\u001b[0m │ \u001b[32m00:00:00\u001b[0m │ \u001b[32m1255     \u001b[0m │ \u001b[32m1267     \u001b[0m │ \u001b[32m+6               \u001b[0m │ \u001b[32m-6               \u001b[0m │ \u001b[2mNULL\u001b[0m        │ \u001b[2mNULL\u001b[0m        │ \u001b[32mC42   \u001b[0m │ \u001b[32mRussian Game: Stafford Gambit                                 \u001b[0m │ \u001b[32m300+3       \u001b[0m │ \u001b[32mTime forfeit\u001b[0m │        \u001b[1;36m1\u001b[0m │ \u001b[32m[%clk 0:05:00]             \u001b[0m │                    \u001b[1;36m300\u001b[0m │                      \u001b[1;36m3\u001b[0m │ \u001b[32mBLITZ            \u001b[0m │\n",
       "│ \u001b[32mRated Blitz game \u001b[0m │ \u001b]8;id=41105;https://lichess.org/YonW355p\u001b\\\u001b[32mhttps://lichess.org/YonW355p\u001b[0m\u001b]8;;\u001b\\ │ \u001b[32m2024.06.01\u001b[0m │ \u001b[32m-     \u001b[0m │ \u001b[32mOwechkin_1962    \u001b[0m │ \u001b[32morangutanburner   \u001b[0m │ \u001b[32m1-0    \u001b[0m │ \u001b[32m2024.06.01\u001b[0m │ \u001b[32m00:00:00\u001b[0m │ \u001b[32m1629     \u001b[0m │ \u001b[32m1703     \u001b[0m │ \u001b[32m+6               \u001b[0m │ \u001b[32m-83              \u001b[0m │ \u001b[2mNULL\u001b[0m        │ \u001b[2mNULL\u001b[0m        │ \u001b[32mB21   \u001b[0m │ \u001b[32mSicilian Defense: McDonnell Attack                            \u001b[0m │ \u001b[32m300+3       \u001b[0m │ \u001b[32mNormal      \u001b[0m │        \u001b[1;36m1\u001b[0m │ \u001b[32m[%clk 0:05:00]             \u001b[0m │                    \u001b[1;36m300\u001b[0m │                      \u001b[1;36m3\u001b[0m │ \u001b[32mBLITZ            \u001b[0m │\n",
       "│ \u001b[2m…\u001b[0m                 │ \u001b[2m…\u001b[0m                            │ \u001b[2m…\u001b[0m          │ \u001b[2m…\u001b[0m      │ \u001b[2m…\u001b[0m                 │ \u001b[2m…\u001b[0m                  │ \u001b[2m…\u001b[0m       │ \u001b[2m…\u001b[0m          │ \u001b[2m…\u001b[0m        │ \u001b[2m…\u001b[0m         │ \u001b[2m…\u001b[0m         │ \u001b[2m…\u001b[0m                 │ \u001b[2m…\u001b[0m                 │ \u001b[2m…\u001b[0m           │ \u001b[2m…\u001b[0m           │ \u001b[2m…\u001b[0m      │ \u001b[2m…\u001b[0m                                                              │ \u001b[2m…\u001b[0m            │ \u001b[2m…\u001b[0m            │        \u001b[2m…\u001b[0m │ \u001b[2m…\u001b[0m                           │                      \u001b[2m…\u001b[0m │                      \u001b[2m…\u001b[0m │ \u001b[2m…\u001b[0m                 │\n",
       "└───────────────────┴──────────────────────────────┴────────────┴────────┴───────────────────┴────────────────────┴─────────┴────────────┴──────────┴───────────┴───────────┴───────────────────┴───────────────────┴─────────────┴─────────────┴────────┴────────────────────────────────────────────────────────────────┴──────────────┴──────────────┴──────────┴─────────────────────────────┴────────────────────────┴────────────────────────┴───────────────────┘"
      ]
     },
     "execution_count": 37,
     "metadata": {},
     "output_type": "execute_result"
    }
   ],
   "source": []
  },
  {
   "cell_type": "code",
   "execution_count": 38,
   "id": "d8b03dab-49b8-404f-8330-5fd036cfaf58",
   "metadata": {},
   "outputs": [
    {
     "data": {
      "text/html": [
       "<pre style=\"white-space:pre;overflow-x:auto;line-height:normal;font-family:Menlo,'DejaVu Sans Mono',consolas,'Courier New',monospace\">┏━━━━━━━━━━━━━━━━━━━┳━━━━━━━━━━━━━━━━━━━━━━━━━┓\n",
       "┃<span style=\"font-weight: bold\"> time_control_type </span>┃<span style=\"font-weight: bold\"> time_control_type_count </span>┃\n",
       "┡━━━━━━━━━━━━━━━━━━━╇━━━━━━━━━━━━━━━━━━━━━━━━━┩\n",
       "│ <span style=\"color: #7f7f7f; text-decoration-color: #7f7f7f\">string</span>            │ <span style=\"color: #7f7f7f; text-decoration-color: #7f7f7f\">int64</span>                   │\n",
       "├───────────────────┼─────────────────────────┤\n",
       "│ <span style=\"color: #008000; text-decoration-color: #008000\">BULLET           </span> │                <span style=\"color: #008080; text-decoration-color: #008080; font-weight: bold\">27246758</span> │\n",
       "│ <span style=\"color: #008000; text-decoration-color: #008000\">BLITZ            </span> │                <span style=\"color: #008080; text-decoration-color: #008080; font-weight: bold\">58277252</span> │\n",
       "│ <span style=\"color: #008000; text-decoration-color: #008000\">RAPID            </span> │                 <span style=\"color: #008080; text-decoration-color: #008080; font-weight: bold\">3526013</span> │\n",
       "│ <span style=\"color: #008000; text-decoration-color: #008000\">UNLIMITED        </span> │                   <span style=\"color: #008080; text-decoration-color: #008080; font-weight: bold\">79076</span> │\n",
       "│ <span style=\"color: #008000; text-decoration-color: #008000\">STANDARD         </span> │                   <span style=\"color: #008080; text-decoration-color: #008080; font-weight: bold\">37367</span> │\n",
       "└───────────────────┴─────────────────────────┘\n",
       "</pre>\n"
      ],
      "text/plain": [
       "┏━━━━━━━━━━━━━━━━━━━┳━━━━━━━━━━━━━━━━━━━━━━━━━┓\n",
       "┃\u001b[1m \u001b[0m\u001b[1mtime_control_type\u001b[0m\u001b[1m \u001b[0m┃\u001b[1m \u001b[0m\u001b[1mtime_control_type_count\u001b[0m\u001b[1m \u001b[0m┃\n",
       "┡━━━━━━━━━━━━━━━━━━━╇━━━━━━━━━━━━━━━━━━━━━━━━━┩\n",
       "│ \u001b[2mstring\u001b[0m            │ \u001b[2mint64\u001b[0m                   │\n",
       "├───────────────────┼─────────────────────────┤\n",
       "│ \u001b[32mBULLET           \u001b[0m │                \u001b[1;36m27246758\u001b[0m │\n",
       "│ \u001b[32mBLITZ            \u001b[0m │                \u001b[1;36m58277252\u001b[0m │\n",
       "│ \u001b[32mRAPID            \u001b[0m │                 \u001b[1;36m3526013\u001b[0m │\n",
       "│ \u001b[32mUNLIMITED        \u001b[0m │                   \u001b[1;36m79076\u001b[0m │\n",
       "│ \u001b[32mSTANDARD         \u001b[0m │                   \u001b[1;36m37367\u001b[0m │\n",
       "└───────────────────┴─────────────────────────┘"
      ]
     },
     "execution_count": 38,
     "metadata": {},
     "output_type": "execute_result"
    }
   ],
   "source": [
    "games_with_parsed_time_control.time_control_type.value_counts()"
   ]
  },
  {
   "cell_type": "code",
   "execution_count": 11,
   "id": "720b01bb-ce51-4864-a106-aad8e477b99a",
   "metadata": {},
   "outputs": [
    {
     "data": {
      "text/html": [
       "<pre style=\"white-space:pre;overflow-x:auto;line-height:normal;font-family:Menlo,'DejaVu Sans Mono',consolas,'Courier New',monospace\">┏━━━━━━━━━━━━━━━━━━━┳━━━━━━━━━━━━━━━━━━━━━━━━━┓\n",
       "┃<span style=\"font-weight: bold\"> time_control_type </span>┃<span style=\"font-weight: bold\"> time_control_type_count </span>┃\n",
       "┡━━━━━━━━━━━━━━━━━━━╇━━━━━━━━━━━━━━━━━━━━━━━━━┩\n",
       "│ <span style=\"color: #7f7f7f; text-decoration-color: #7f7f7f\">string</span>            │ <span style=\"color: #7f7f7f; text-decoration-color: #7f7f7f\">int64</span>                   │\n",
       "├───────────────────┼─────────────────────────┤\n",
       "│ <span style=\"color: #008000; text-decoration-color: #008000\">UNLIMITED        </span> │                   <span style=\"color: #008080; text-decoration-color: #008080; font-weight: bold\">79076</span> │\n",
       "│ <span style=\"color: #7f7f7f; text-decoration-color: #7f7f7f\">NULL</span>              │                <span style=\"color: #008080; text-decoration-color: #008080; font-weight: bold\">89087390</span> │\n",
       "└───────────────────┴─────────────────────────┘\n",
       "</pre>\n"
      ],
      "text/plain": [
       "┏━━━━━━━━━━━━━━━━━━━┳━━━━━━━━━━━━━━━━━━━━━━━━━┓\n",
       "┃\u001b[1m \u001b[0m\u001b[1mtime_control_type\u001b[0m\u001b[1m \u001b[0m┃\u001b[1m \u001b[0m\u001b[1mtime_control_type_count\u001b[0m\u001b[1m \u001b[0m┃\n",
       "┡━━━━━━━━━━━━━━━━━━━╇━━━━━━━━━━━━━━━━━━━━━━━━━┩\n",
       "│ \u001b[2mstring\u001b[0m            │ \u001b[2mint64\u001b[0m                   │\n",
       "├───────────────────┼─────────────────────────┤\n",
       "│ \u001b[32mUNLIMITED        \u001b[0m │                   \u001b[1;36m79076\u001b[0m │\n",
       "│ \u001b[2mNULL\u001b[0m              │                \u001b[1;36m89087390\u001b[0m │\n",
       "└───────────────────┴─────────────────────────┘"
      ]
     },
     "execution_count": 11,
     "metadata": {},
     "output_type": "execute_result"
    }
   ],
   "source": [
    "# games_with_parsed_time_control.time_control_type.value_counts()"
   ]
  },
  {
   "cell_type": "code",
   "execution_count": 12,
   "id": "2681f84f-6f63-489d-a897-cd84d8b02a90",
   "metadata": {},
   "outputs": [
    {
     "data": {
      "text/html": [
       "<pre style=\"white-space:pre;overflow-x:auto;line-height:normal;font-family:Menlo,'DejaVu Sans Mono',consolas,'Courier New',monospace\">┏━━━━━━━━━━━━━━━━━━━━━━━━━━━━━━━━━━━┳━━━━━━━━━━━━━━━━━━━━━━━━━━━━━━━━━━━━━━━━━┓\n",
       "┃<span style=\"font-weight: bold\"> StringContains(time_control, '+') </span>┃<span style=\"font-weight: bold\"> StringContains(time_control, '+')_count </span>┃\n",
       "┡━━━━━━━━━━━━━━━━━━━━━━━━━━━━━━━━━━━╇━━━━━━━━━━━━━━━━━━━━━━━━━━━━━━━━━━━━━━━━━┩\n",
       "│ <span style=\"color: #7f7f7f; text-decoration-color: #7f7f7f\">boolean</span>                           │ <span style=\"color: #7f7f7f; text-decoration-color: #7f7f7f\">int64</span>                                   │\n",
       "├───────────────────────────────────┼─────────────────────────────────────────┤\n",
       "│ True                              │                                <span style=\"color: #008080; text-decoration-color: #008080; font-weight: bold\">89087390</span> │\n",
       "└───────────────────────────────────┴─────────────────────────────────────────┘\n",
       "</pre>\n"
      ],
      "text/plain": [
       "┏━━━━━━━━━━━━━━━━━━━━━━━━━━━━━━━━━━━┳━━━━━━━━━━━━━━━━━━━━━━━━━━━━━━━━━━━━━━━━━┓\n",
       "┃\u001b[1m \u001b[0m\u001b[1mStringContains(time_control, '+')\u001b[0m\u001b[1m \u001b[0m┃\u001b[1m \u001b[0m\u001b[1mStringContains(time_control, '+')_count\u001b[0m\u001b[1m \u001b[0m┃\n",
       "┡━━━━━━━━━━━━━━━━━━━━━━━━━━━━━━━━━━━╇━━━━━━━━━━━━━━━━━━━━━━━━━━━━━━━━━━━━━━━━━┩\n",
       "│ \u001b[2mboolean\u001b[0m                           │ \u001b[2mint64\u001b[0m                                   │\n",
       "├───────────────────────────────────┼─────────────────────────────────────────┤\n",
       "│ True                              │                                \u001b[1;36m89087390\u001b[0m │\n",
       "└───────────────────────────────────┴─────────────────────────────────────────┘"
      ]
     },
     "execution_count": 12,
     "metadata": {},
     "output_type": "execute_result"
    }
   ],
   "source": [
    "# games_with_parsed_time_control[_.time_control_type.isnull()].time_control.contains(\"+\").value_counts()"
   ]
  },
  {
   "cell_type": "code",
   "execution_count": 39,
   "id": "73582cb9-68bf-49a7-a622-cae5a6a21b4a",
   "metadata": {},
   "outputs": [
    {
     "data": {
      "text/html": [
       "<pre style=\"white-space:pre;overflow-x:auto;line-height:normal;font-family:Menlo,'DejaVu Sans Mono',consolas,'Courier New',monospace\">┏━━━━━━━━━━━━━━━━━━━━━━━━┳━━━━━━━━━━━━━━━━━━━━━━━━━━━━━━┓\n",
       "┃<span style=\"font-weight: bold\"> time_control_base_time </span>┃<span style=\"font-weight: bold\"> time_control_base_time_count </span>┃\n",
       "┡━━━━━━━━━━━━━━━━━━━━━━━━╇━━━━━━━━━━━━━━━━━━━━━━━━━━━━━━┩\n",
       "│ <span style=\"color: #7f7f7f; text-decoration-color: #7f7f7f\">int64</span>                  │ <span style=\"color: #7f7f7f; text-decoration-color: #7f7f7f\">int64</span>                        │\n",
       "├────────────────────────┼──────────────────────────────┤\n",
       "│                     <span style=\"color: #008080; text-decoration-color: #008080; font-weight: bold\">60</span> │                     <span style=\"color: #008080; text-decoration-color: #008080; font-weight: bold\">25379680</span> │\n",
       "│                    <span style=\"color: #008080; text-decoration-color: #008080; font-weight: bold\">180</span> │                     <span style=\"color: #008080; text-decoration-color: #008080; font-weight: bold\">24984761</span> │\n",
       "│                    <span style=\"color: #008080; text-decoration-color: #008080; font-weight: bold\">300</span> │                     <span style=\"color: #008080; text-decoration-color: #008080; font-weight: bold\">17092439</span> │\n",
       "│                    <span style=\"color: #008080; text-decoration-color: #008080; font-weight: bold\">600</span> │                     <span style=\"color: #008080; text-decoration-color: #008080; font-weight: bold\">11436542</span> │\n",
       "│                    <span style=\"color: #008080; text-decoration-color: #008080; font-weight: bold\">120</span> │                      <span style=\"color: #008080; text-decoration-color: #008080; font-weight: bold\">6439227</span> │\n",
       "│                     <span style=\"color: #008080; text-decoration-color: #008080; font-weight: bold\">15</span> │                       <span style=\"color: #008080; text-decoration-color: #008080; font-weight: bold\">836902</span> │\n",
       "│                     <span style=\"color: #008080; text-decoration-color: #008080; font-weight: bold\">30</span> │                       <span style=\"color: #008080; text-decoration-color: #008080; font-weight: bold\">821689</span> │\n",
       "│                    <span style=\"color: #008080; text-decoration-color: #008080; font-weight: bold\">900</span> │                       <span style=\"color: #008080; text-decoration-color: #008080; font-weight: bold\">812877</span> │\n",
       "│                   <span style=\"color: #008080; text-decoration-color: #008080; font-weight: bold\">1800</span> │                       <span style=\"color: #008080; text-decoration-color: #008080; font-weight: bold\">381655</span> │\n",
       "│                    <span style=\"color: #008080; text-decoration-color: #008080; font-weight: bold\">420</span> │                       <span style=\"color: #008080; text-decoration-color: #008080; font-weight: bold\">194039</span> │\n",
       "│                      <span style=\"color: #7f7f7f; text-decoration-color: #7f7f7f\">…</span> │                            <span style=\"color: #7f7f7f; text-decoration-color: #7f7f7f\">…</span> │\n",
       "└────────────────────────┴──────────────────────────────┘\n",
       "</pre>\n"
      ],
      "text/plain": [
       "┏━━━━━━━━━━━━━━━━━━━━━━━━┳━━━━━━━━━━━━━━━━━━━━━━━━━━━━━━┓\n",
       "┃\u001b[1m \u001b[0m\u001b[1mtime_control_base_time\u001b[0m\u001b[1m \u001b[0m┃\u001b[1m \u001b[0m\u001b[1mtime_control_base_time_count\u001b[0m\u001b[1m \u001b[0m┃\n",
       "┡━━━━━━━━━━━━━━━━━━━━━━━━╇━━━━━━━━━━━━━━━━━━━━━━━━━━━━━━┩\n",
       "│ \u001b[2mint64\u001b[0m                  │ \u001b[2mint64\u001b[0m                        │\n",
       "├────────────────────────┼──────────────────────────────┤\n",
       "│                     \u001b[1;36m60\u001b[0m │                     \u001b[1;36m25379680\u001b[0m │\n",
       "│                    \u001b[1;36m180\u001b[0m │                     \u001b[1;36m24984761\u001b[0m │\n",
       "│                    \u001b[1;36m300\u001b[0m │                     \u001b[1;36m17092439\u001b[0m │\n",
       "│                    \u001b[1;36m600\u001b[0m │                     \u001b[1;36m11436542\u001b[0m │\n",
       "│                    \u001b[1;36m120\u001b[0m │                      \u001b[1;36m6439227\u001b[0m │\n",
       "│                     \u001b[1;36m15\u001b[0m │                       \u001b[1;36m836902\u001b[0m │\n",
       "│                     \u001b[1;36m30\u001b[0m │                       \u001b[1;36m821689\u001b[0m │\n",
       "│                    \u001b[1;36m900\u001b[0m │                       \u001b[1;36m812877\u001b[0m │\n",
       "│                   \u001b[1;36m1800\u001b[0m │                       \u001b[1;36m381655\u001b[0m │\n",
       "│                    \u001b[1;36m420\u001b[0m │                       \u001b[1;36m194039\u001b[0m │\n",
       "│                      \u001b[2m…\u001b[0m │                            \u001b[2m…\u001b[0m │\n",
       "└────────────────────────┴──────────────────────────────┘"
      ]
     },
     "execution_count": 39,
     "metadata": {},
     "output_type": "execute_result"
    }
   ],
   "source": [
    "games_with_parsed_time_control.time_control_base_time.value_counts().order_by(ibis.desc(\"time_control_base_time_count\"))"
   ]
  },
  {
   "cell_type": "code",
   "execution_count": 42,
   "id": "c97accba-701f-49a4-93ad-09f1cbd71912",
   "metadata": {},
   "outputs": [
    {
     "data": {
      "text/html": [
       "<pre style=\"white-space:pre;overflow-x:auto;line-height:normal;font-family:Menlo,'DejaVu Sans Mono',consolas,'Courier New',monospace\"></pre>\n"
      ],
      "text/plain": []
     },
     "metadata": {},
     "output_type": "display_data"
    },
    {
     "data": {
      "text/plain": [
       "┌───────┐\n",
       "│ \u001b[1;36m79076\u001b[0m │\n",
       "└───────┘"
      ]
     },
     "execution_count": 42,
     "metadata": {},
     "output_type": "execute_result"
    }
   ],
   "source": [
    "games_with_parsed_time_control[_.time_control_base_time.isnull()].count()"
   ]
  },
  {
   "cell_type": "code",
   "execution_count": 40,
   "id": "f980920b-9ae5-4bd0-9efc-c762f37fe2b6",
   "metadata": {},
   "outputs": [
    {
     "data": {
      "text/html": [
       "<pre style=\"white-space:pre;overflow-x:auto;line-height:normal;font-family:Menlo,'DejaVu Sans Mono',consolas,'Courier New',monospace\">┏━━━━━━━━━━━━━━━━━━━━━━━━┳━━━━━━━━━━━━━━━━━━━━━━━━━━━━━━┓\n",
       "┃<span style=\"font-weight: bold\"> time_control_increment </span>┃<span style=\"font-weight: bold\"> time_control_increment_count </span>┃\n",
       "┡━━━━━━━━━━━━━━━━━━━━━━━━╇━━━━━━━━━━━━━━━━━━━━━━━━━━━━━━┩\n",
       "│ <span style=\"color: #7f7f7f; text-decoration-color: #7f7f7f\">int64</span>                  │ <span style=\"color: #7f7f7f; text-decoration-color: #7f7f7f\">int64</span>                        │\n",
       "├────────────────────────┼──────────────────────────────┤\n",
       "│                      <span style=\"color: #008080; text-decoration-color: #008080; font-weight: bold\">0</span> │                     <span style=\"color: #008080; text-decoration-color: #008080; font-weight: bold\">66338276</span> │\n",
       "│                      <span style=\"color: #008080; text-decoration-color: #008080; font-weight: bold\">2</span> │                      <span style=\"color: #008080; text-decoration-color: #008080; font-weight: bold\">7861548</span> │\n",
       "│                      <span style=\"color: #008080; text-decoration-color: #008080; font-weight: bold\">1</span> │                      <span style=\"color: #008080; text-decoration-color: #008080; font-weight: bold\">6697148</span> │\n",
       "│                      <span style=\"color: #008080; text-decoration-color: #008080; font-weight: bold\">3</span> │                      <span style=\"color: #008080; text-decoration-color: #008080; font-weight: bold\">4893868</span> │\n",
       "│                      <span style=\"color: #008080; text-decoration-color: #008080; font-weight: bold\">5</span> │                      <span style=\"color: #008080; text-decoration-color: #008080; font-weight: bold\">2294165</span> │\n",
       "│                     <span style=\"color: #008080; text-decoration-color: #008080; font-weight: bold\">10</span> │                       <span style=\"color: #008080; text-decoration-color: #008080; font-weight: bold\">652845</span> │\n",
       "│                   <span style=\"color: #7f7f7f; text-decoration-color: #7f7f7f\">NULL</span> │                        <span style=\"color: #008080; text-decoration-color: #008080; font-weight: bold\">79076</span> │\n",
       "│                      <span style=\"color: #008080; text-decoration-color: #008080; font-weight: bold\">4</span> │                        <span style=\"color: #008080; text-decoration-color: #008080; font-weight: bold\">78241</span> │\n",
       "│                      <span style=\"color: #008080; text-decoration-color: #008080; font-weight: bold\">8</span> │                        <span style=\"color: #008080; text-decoration-color: #008080; font-weight: bold\">60939</span> │\n",
       "│                     <span style=\"color: #008080; text-decoration-color: #008080; font-weight: bold\">20</span> │                        <span style=\"color: #008080; text-decoration-color: #008080; font-weight: bold\">50024</span> │\n",
       "│                      <span style=\"color: #7f7f7f; text-decoration-color: #7f7f7f\">…</span> │                            <span style=\"color: #7f7f7f; text-decoration-color: #7f7f7f\">…</span> │\n",
       "└────────────────────────┴──────────────────────────────┘\n",
       "</pre>\n"
      ],
      "text/plain": [
       "┏━━━━━━━━━━━━━━━━━━━━━━━━┳━━━━━━━━━━━━━━━━━━━━━━━━━━━━━━┓\n",
       "┃\u001b[1m \u001b[0m\u001b[1mtime_control_increment\u001b[0m\u001b[1m \u001b[0m┃\u001b[1m \u001b[0m\u001b[1mtime_control_increment_count\u001b[0m\u001b[1m \u001b[0m┃\n",
       "┡━━━━━━━━━━━━━━━━━━━━━━━━╇━━━━━━━━━━━━━━━━━━━━━━━━━━━━━━┩\n",
       "│ \u001b[2mint64\u001b[0m                  │ \u001b[2mint64\u001b[0m                        │\n",
       "├────────────────────────┼──────────────────────────────┤\n",
       "│                      \u001b[1;36m0\u001b[0m │                     \u001b[1;36m66338276\u001b[0m │\n",
       "│                      \u001b[1;36m2\u001b[0m │                      \u001b[1;36m7861548\u001b[0m │\n",
       "│                      \u001b[1;36m1\u001b[0m │                      \u001b[1;36m6697148\u001b[0m │\n",
       "│                      \u001b[1;36m3\u001b[0m │                      \u001b[1;36m4893868\u001b[0m │\n",
       "│                      \u001b[1;36m5\u001b[0m │                      \u001b[1;36m2294165\u001b[0m │\n",
       "│                     \u001b[1;36m10\u001b[0m │                       \u001b[1;36m652845\u001b[0m │\n",
       "│                   \u001b[2mNULL\u001b[0m │                        \u001b[1;36m79076\u001b[0m │\n",
       "│                      \u001b[1;36m4\u001b[0m │                        \u001b[1;36m78241\u001b[0m │\n",
       "│                      \u001b[1;36m8\u001b[0m │                        \u001b[1;36m60939\u001b[0m │\n",
       "│                     \u001b[1;36m20\u001b[0m │                        \u001b[1;36m50024\u001b[0m │\n",
       "│                      \u001b[2m…\u001b[0m │                            \u001b[2m…\u001b[0m │\n",
       "└────────────────────────┴──────────────────────────────┘"
      ]
     },
     "execution_count": 40,
     "metadata": {},
     "output_type": "execute_result"
    }
   ],
   "source": [
    "games_with_parsed_time_control.time_control_increment.value_counts().order_by(ibis.desc(\"time_control_increment_count\"))"
   ]
  },
  {
   "cell_type": "code",
   "execution_count": null,
   "id": "b9f9975c-df3f-4e90-ba18-3ce409e5ecd6",
   "metadata": {},
   "outputs": [],
   "source": []
  }
 ],
 "metadata": {
  "kernelspec": {
   "display_name": "Python 3 (ipykernel)",
   "language": "python",
   "name": "python3"
  },
  "language_info": {
   "codemirror_mode": {
    "name": "ipython",
    "version": 3
   },
   "file_extension": ".py",
   "mimetype": "text/x-python",
   "name": "python",
   "nbconvert_exporter": "python",
   "pygments_lexer": "ipython3",
   "version": "3.12.4"
  }
 },
 "nbformat": 4,
 "nbformat_minor": 5
}
