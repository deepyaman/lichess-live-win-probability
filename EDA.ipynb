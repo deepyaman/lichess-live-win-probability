{
 "cells": [
  {
   "cell_type": "code",
   "execution_count": 1,
   "id": "e12d7a99-eee8-4d51-b144-d053147e30ce",
   "metadata": {},
   "outputs": [],
   "source": [
    "import ibis\n",
    "from ibis import _\n",
    "\n",
    "ibis.options.interactive = True"
   ]
  },
  {
   "cell_type": "code",
   "execution_count": 2,
   "id": "292b63ac-716e-4a50-929f-d0282508de9b",
   "metadata": {
    "scrolled": true
   },
   "outputs": [
    {
     "data": {
      "text/html": [
       "<pre style=\"white-space:pre;overflow-x:auto;line-height:normal;font-family:Menlo,'DejaVu Sans Mono',consolas,'Courier New',monospace\">┏━━━━━━━━━━━━━━━━━━━┳━━━━━━━━━━━━━━━━━━━━━━━━━━━━━━┳━━━━━━━━━━━━┳━━━━━━━━┳━━━━━━━━━━━━┳━━━━━━━━━━━━━┳━━━━━━━━━┳━━━━━━━━━━━━┳━━━━━━━━━━┳━━━━━━━━━━━┳━━━━━━━━━━━┳━━━━━━━━━━━━━━━━━━━┳━━━━━━━━━━━━━━━━━━━┳━━━━━━━━━━━━━┳━━━━━━━━━━━━━┳━━━━━━━━┳━━━━━━━━━━━━━━━━━━━━━━━━━━━━━━━━━━━━━━━━━━━━━━━━━━━━━━━━━━━━━━━━┳━━━━━━━━━━━━━━┳━━━━━━━━━━━━━┳━━━━━━━━━━┳━━━━━━━━━━━━━━━━┓\n",
       "┃<span style=\"font-weight: bold\"> event             </span>┃<span style=\"font-weight: bold\"> site                         </span>┃<span style=\"font-weight: bold\"> date       </span>┃<span style=\"font-weight: bold\"> round  </span>┃<span style=\"font-weight: bold\"> white      </span>┃<span style=\"font-weight: bold\"> black       </span>┃<span style=\"font-weight: bold\"> result  </span>┃<span style=\"font-weight: bold\"> utc_date   </span>┃<span style=\"font-weight: bold\"> utc_time </span>┃<span style=\"font-weight: bold\"> white_elo </span>┃<span style=\"font-weight: bold\"> black_elo </span>┃<span style=\"font-weight: bold\"> white_rating_diff </span>┃<span style=\"font-weight: bold\"> black_rating_diff </span>┃<span style=\"font-weight: bold\"> white_title </span>┃<span style=\"font-weight: bold\"> black_title </span>┃<span style=\"font-weight: bold\"> eco    </span>┃<span style=\"font-weight: bold\"> opening                                                        </span>┃<span style=\"font-weight: bold\"> time_control </span>┃<span style=\"font-weight: bold\"> termination </span>┃<span style=\"font-weight: bold\"> move_ply </span>┃<span style=\"font-weight: bold\"> move_comment   </span>┃\n",
       "┡━━━━━━━━━━━━━━━━━━━╇━━━━━━━━━━━━━━━━━━━━━━━━━━━━━━╇━━━━━━━━━━━━╇━━━━━━━━╇━━━━━━━━━━━━╇━━━━━━━━━━━━━╇━━━━━━━━━╇━━━━━━━━━━━━╇━━━━━━━━━━╇━━━━━━━━━━━╇━━━━━━━━━━━╇━━━━━━━━━━━━━━━━━━━╇━━━━━━━━━━━━━━━━━━━╇━━━━━━━━━━━━━╇━━━━━━━━━━━━━╇━━━━━━━━╇━━━━━━━━━━━━━━━━━━━━━━━━━━━━━━━━━━━━━━━━━━━━━━━━━━━━━━━━━━━━━━━━╇━━━━━━━━━━━━━━╇━━━━━━━━━━━━━╇━━━━━━━━━━╇━━━━━━━━━━━━━━━━┩\n",
       "│ <span style=\"color: #7f7f7f; text-decoration-color: #7f7f7f\">string</span>            │ <span style=\"color: #7f7f7f; text-decoration-color: #7f7f7f\">string</span>                       │ <span style=\"color: #7f7f7f; text-decoration-color: #7f7f7f\">string</span>     │ <span style=\"color: #7f7f7f; text-decoration-color: #7f7f7f\">string</span> │ <span style=\"color: #7f7f7f; text-decoration-color: #7f7f7f\">string</span>     │ <span style=\"color: #7f7f7f; text-decoration-color: #7f7f7f\">string</span>      │ <span style=\"color: #7f7f7f; text-decoration-color: #7f7f7f\">string</span>  │ <span style=\"color: #7f7f7f; text-decoration-color: #7f7f7f\">string</span>     │ <span style=\"color: #7f7f7f; text-decoration-color: #7f7f7f\">string</span>   │ <span style=\"color: #7f7f7f; text-decoration-color: #7f7f7f\">string</span>    │ <span style=\"color: #7f7f7f; text-decoration-color: #7f7f7f\">string</span>    │ <span style=\"color: #7f7f7f; text-decoration-color: #7f7f7f\">string</span>            │ <span style=\"color: #7f7f7f; text-decoration-color: #7f7f7f\">string</span>            │ <span style=\"color: #7f7f7f; text-decoration-color: #7f7f7f\">string</span>      │ <span style=\"color: #7f7f7f; text-decoration-color: #7f7f7f\">string</span>      │ <span style=\"color: #7f7f7f; text-decoration-color: #7f7f7f\">string</span> │ <span style=\"color: #7f7f7f; text-decoration-color: #7f7f7f\">string</span>                                                         │ <span style=\"color: #7f7f7f; text-decoration-color: #7f7f7f\">string</span>       │ <span style=\"color: #7f7f7f; text-decoration-color: #7f7f7f\">string</span>      │ <span style=\"color: #7f7f7f; text-decoration-color: #7f7f7f\">int64</span>    │ <span style=\"color: #7f7f7f; text-decoration-color: #7f7f7f\">string</span>         │\n",
       "├───────────────────┼──────────────────────────────┼────────────┼────────┼────────────┼─────────────┼─────────┼────────────┼──────────┼───────────┼───────────┼───────────────────┼───────────────────┼─────────────┼─────────────┼────────┼────────────────────────────────────────────────────────────────┼──────────────┼─────────────┼──────────┼────────────────┤\n",
       "│ <span style=\"color: #008000; text-decoration-color: #008000\">Rated Bullet game</span> │ <a href=\"https://lichess.org/qjWLfHje\" target=\"_blank\"><span style=\"color: #008000; text-decoration-color: #008000\">https://lichess.org/qjWLfHje</span></a> │ <span style=\"color: #008000; text-decoration-color: #008000\">2024.06.01</span> │ <span style=\"color: #008000; text-decoration-color: #008000\">-     </span> │ <span style=\"color: #008000; text-decoration-color: #008000\">simple-bot</span> │ <span style=\"color: #008000; text-decoration-color: #008000\">simplexitor</span> │ <span style=\"color: #008000; text-decoration-color: #008000\">1/2-1/2</span> │ <span style=\"color: #008000; text-decoration-color: #008000\">2024.06.01</span> │ <span style=\"color: #008000; text-decoration-color: #008000\">00:00:00</span> │ <span style=\"color: #008000; text-decoration-color: #008000\">1872     </span> │ <span style=\"color: #008000; text-decoration-color: #008000\">1744     </span> │ <span style=\"color: #008000; text-decoration-color: #008000\">-2               </span> │ <span style=\"color: #008000; text-decoration-color: #008000\">+2               </span> │ <span style=\"color: #008000; text-decoration-color: #008000\">BOT        </span> │ <span style=\"color: #008000; text-decoration-color: #008000\">BOT        </span> │ <span style=\"color: #008000; text-decoration-color: #008000\">A15   </span> │ <span style=\"color: #008000; text-decoration-color: #008000\">English Opening: Anglo-Indian Defense, King's Knight Variation</span> │ <span style=\"color: #008000; text-decoration-color: #008000\">60+1        </span> │ <span style=\"color: #008000; text-decoration-color: #008000\">Normal     </span> │        <span style=\"color: #008080; text-decoration-color: #008080; font-weight: bold\">1</span> │ <span style=\"color: #008000; text-decoration-color: #008000\">[%clk 0:01:00]</span> │\n",
       "│ <span style=\"color: #008000; text-decoration-color: #008000\">Rated Bullet game</span> │ <a href=\"https://lichess.org/qjWLfHje\" target=\"_blank\"><span style=\"color: #008000; text-decoration-color: #008000\">https://lichess.org/qjWLfHje</span></a> │ <span style=\"color: #008000; text-decoration-color: #008000\">2024.06.01</span> │ <span style=\"color: #008000; text-decoration-color: #008000\">-     </span> │ <span style=\"color: #008000; text-decoration-color: #008000\">simple-bot</span> │ <span style=\"color: #008000; text-decoration-color: #008000\">simplexitor</span> │ <span style=\"color: #008000; text-decoration-color: #008000\">1/2-1/2</span> │ <span style=\"color: #008000; text-decoration-color: #008000\">2024.06.01</span> │ <span style=\"color: #008000; text-decoration-color: #008000\">00:00:00</span> │ <span style=\"color: #008000; text-decoration-color: #008000\">1872     </span> │ <span style=\"color: #008000; text-decoration-color: #008000\">1744     </span> │ <span style=\"color: #008000; text-decoration-color: #008000\">-2               </span> │ <span style=\"color: #008000; text-decoration-color: #008000\">+2               </span> │ <span style=\"color: #008000; text-decoration-color: #008000\">BOT        </span> │ <span style=\"color: #008000; text-decoration-color: #008000\">BOT        </span> │ <span style=\"color: #008000; text-decoration-color: #008000\">A15   </span> │ <span style=\"color: #008000; text-decoration-color: #008000\">English Opening: Anglo-Indian Defense, King's Knight Variation</span> │ <span style=\"color: #008000; text-decoration-color: #008000\">60+1        </span> │ <span style=\"color: #008000; text-decoration-color: #008000\">Normal     </span> │        <span style=\"color: #008080; text-decoration-color: #008080; font-weight: bold\">2</span> │ <span style=\"color: #008000; text-decoration-color: #008000\">[%clk 0:01:00]</span> │\n",
       "│ <span style=\"color: #008000; text-decoration-color: #008000\">Rated Bullet game</span> │ <a href=\"https://lichess.org/qjWLfHje\" target=\"_blank\"><span style=\"color: #008000; text-decoration-color: #008000\">https://lichess.org/qjWLfHje</span></a> │ <span style=\"color: #008000; text-decoration-color: #008000\">2024.06.01</span> │ <span style=\"color: #008000; text-decoration-color: #008000\">-     </span> │ <span style=\"color: #008000; text-decoration-color: #008000\">simple-bot</span> │ <span style=\"color: #008000; text-decoration-color: #008000\">simplexitor</span> │ <span style=\"color: #008000; text-decoration-color: #008000\">1/2-1/2</span> │ <span style=\"color: #008000; text-decoration-color: #008000\">2024.06.01</span> │ <span style=\"color: #008000; text-decoration-color: #008000\">00:00:00</span> │ <span style=\"color: #008000; text-decoration-color: #008000\">1872     </span> │ <span style=\"color: #008000; text-decoration-color: #008000\">1744     </span> │ <span style=\"color: #008000; text-decoration-color: #008000\">-2               </span> │ <span style=\"color: #008000; text-decoration-color: #008000\">+2               </span> │ <span style=\"color: #008000; text-decoration-color: #008000\">BOT        </span> │ <span style=\"color: #008000; text-decoration-color: #008000\">BOT        </span> │ <span style=\"color: #008000; text-decoration-color: #008000\">A15   </span> │ <span style=\"color: #008000; text-decoration-color: #008000\">English Opening: Anglo-Indian Defense, King's Knight Variation</span> │ <span style=\"color: #008000; text-decoration-color: #008000\">60+1        </span> │ <span style=\"color: #008000; text-decoration-color: #008000\">Normal     </span> │        <span style=\"color: #008080; text-decoration-color: #008080; font-weight: bold\">3</span> │ <span style=\"color: #008000; text-decoration-color: #008000\">[%clk 0:01:00]</span> │\n",
       "│ <span style=\"color: #008000; text-decoration-color: #008000\">Rated Bullet game</span> │ <a href=\"https://lichess.org/qjWLfHje\" target=\"_blank\"><span style=\"color: #008000; text-decoration-color: #008000\">https://lichess.org/qjWLfHje</span></a> │ <span style=\"color: #008000; text-decoration-color: #008000\">2024.06.01</span> │ <span style=\"color: #008000; text-decoration-color: #008000\">-     </span> │ <span style=\"color: #008000; text-decoration-color: #008000\">simple-bot</span> │ <span style=\"color: #008000; text-decoration-color: #008000\">simplexitor</span> │ <span style=\"color: #008000; text-decoration-color: #008000\">1/2-1/2</span> │ <span style=\"color: #008000; text-decoration-color: #008000\">2024.06.01</span> │ <span style=\"color: #008000; text-decoration-color: #008000\">00:00:00</span> │ <span style=\"color: #008000; text-decoration-color: #008000\">1872     </span> │ <span style=\"color: #008000; text-decoration-color: #008000\">1744     </span> │ <span style=\"color: #008000; text-decoration-color: #008000\">-2               </span> │ <span style=\"color: #008000; text-decoration-color: #008000\">+2               </span> │ <span style=\"color: #008000; text-decoration-color: #008000\">BOT        </span> │ <span style=\"color: #008000; text-decoration-color: #008000\">BOT        </span> │ <span style=\"color: #008000; text-decoration-color: #008000\">A15   </span> │ <span style=\"color: #008000; text-decoration-color: #008000\">English Opening: Anglo-Indian Defense, King's Knight Variation</span> │ <span style=\"color: #008000; text-decoration-color: #008000\">60+1        </span> │ <span style=\"color: #008000; text-decoration-color: #008000\">Normal     </span> │        <span style=\"color: #008080; text-decoration-color: #008080; font-weight: bold\">4</span> │ <span style=\"color: #008000; text-decoration-color: #008000\">[%clk 0:00:59]</span> │\n",
       "│ <span style=\"color: #008000; text-decoration-color: #008000\">Rated Bullet game</span> │ <a href=\"https://lichess.org/qjWLfHje\" target=\"_blank\"><span style=\"color: #008000; text-decoration-color: #008000\">https://lichess.org/qjWLfHje</span></a> │ <span style=\"color: #008000; text-decoration-color: #008000\">2024.06.01</span> │ <span style=\"color: #008000; text-decoration-color: #008000\">-     </span> │ <span style=\"color: #008000; text-decoration-color: #008000\">simple-bot</span> │ <span style=\"color: #008000; text-decoration-color: #008000\">simplexitor</span> │ <span style=\"color: #008000; text-decoration-color: #008000\">1/2-1/2</span> │ <span style=\"color: #008000; text-decoration-color: #008000\">2024.06.01</span> │ <span style=\"color: #008000; text-decoration-color: #008000\">00:00:00</span> │ <span style=\"color: #008000; text-decoration-color: #008000\">1872     </span> │ <span style=\"color: #008000; text-decoration-color: #008000\">1744     </span> │ <span style=\"color: #008000; text-decoration-color: #008000\">-2               </span> │ <span style=\"color: #008000; text-decoration-color: #008000\">+2               </span> │ <span style=\"color: #008000; text-decoration-color: #008000\">BOT        </span> │ <span style=\"color: #008000; text-decoration-color: #008000\">BOT        </span> │ <span style=\"color: #008000; text-decoration-color: #008000\">A15   </span> │ <span style=\"color: #008000; text-decoration-color: #008000\">English Opening: Anglo-Indian Defense, King's Knight Variation</span> │ <span style=\"color: #008000; text-decoration-color: #008000\">60+1        </span> │ <span style=\"color: #008000; text-decoration-color: #008000\">Normal     </span> │        <span style=\"color: #008080; text-decoration-color: #008080; font-weight: bold\">5</span> │ <span style=\"color: #008000; text-decoration-color: #008000\">[%clk 0:00:59]</span> │\n",
       "│ <span style=\"color: #008000; text-decoration-color: #008000\">Rated Bullet game</span> │ <a href=\"https://lichess.org/qjWLfHje\" target=\"_blank\"><span style=\"color: #008000; text-decoration-color: #008000\">https://lichess.org/qjWLfHje</span></a> │ <span style=\"color: #008000; text-decoration-color: #008000\">2024.06.01</span> │ <span style=\"color: #008000; text-decoration-color: #008000\">-     </span> │ <span style=\"color: #008000; text-decoration-color: #008000\">simple-bot</span> │ <span style=\"color: #008000; text-decoration-color: #008000\">simplexitor</span> │ <span style=\"color: #008000; text-decoration-color: #008000\">1/2-1/2</span> │ <span style=\"color: #008000; text-decoration-color: #008000\">2024.06.01</span> │ <span style=\"color: #008000; text-decoration-color: #008000\">00:00:00</span> │ <span style=\"color: #008000; text-decoration-color: #008000\">1872     </span> │ <span style=\"color: #008000; text-decoration-color: #008000\">1744     </span> │ <span style=\"color: #008000; text-decoration-color: #008000\">-2               </span> │ <span style=\"color: #008000; text-decoration-color: #008000\">+2               </span> │ <span style=\"color: #008000; text-decoration-color: #008000\">BOT        </span> │ <span style=\"color: #008000; text-decoration-color: #008000\">BOT        </span> │ <span style=\"color: #008000; text-decoration-color: #008000\">A15   </span> │ <span style=\"color: #008000; text-decoration-color: #008000\">English Opening: Anglo-Indian Defense, King's Knight Variation</span> │ <span style=\"color: #008000; text-decoration-color: #008000\">60+1        </span> │ <span style=\"color: #008000; text-decoration-color: #008000\">Normal     </span> │        <span style=\"color: #008080; text-decoration-color: #008080; font-weight: bold\">6</span> │ <span style=\"color: #008000; text-decoration-color: #008000\">[%clk 0:00:58]</span> │\n",
       "│ <span style=\"color: #008000; text-decoration-color: #008000\">Rated Bullet game</span> │ <a href=\"https://lichess.org/qjWLfHje\" target=\"_blank\"><span style=\"color: #008000; text-decoration-color: #008000\">https://lichess.org/qjWLfHje</span></a> │ <span style=\"color: #008000; text-decoration-color: #008000\">2024.06.01</span> │ <span style=\"color: #008000; text-decoration-color: #008000\">-     </span> │ <span style=\"color: #008000; text-decoration-color: #008000\">simple-bot</span> │ <span style=\"color: #008000; text-decoration-color: #008000\">simplexitor</span> │ <span style=\"color: #008000; text-decoration-color: #008000\">1/2-1/2</span> │ <span style=\"color: #008000; text-decoration-color: #008000\">2024.06.01</span> │ <span style=\"color: #008000; text-decoration-color: #008000\">00:00:00</span> │ <span style=\"color: #008000; text-decoration-color: #008000\">1872     </span> │ <span style=\"color: #008000; text-decoration-color: #008000\">1744     </span> │ <span style=\"color: #008000; text-decoration-color: #008000\">-2               </span> │ <span style=\"color: #008000; text-decoration-color: #008000\">+2               </span> │ <span style=\"color: #008000; text-decoration-color: #008000\">BOT        </span> │ <span style=\"color: #008000; text-decoration-color: #008000\">BOT        </span> │ <span style=\"color: #008000; text-decoration-color: #008000\">A15   </span> │ <span style=\"color: #008000; text-decoration-color: #008000\">English Opening: Anglo-Indian Defense, King's Knight Variation</span> │ <span style=\"color: #008000; text-decoration-color: #008000\">60+1        </span> │ <span style=\"color: #008000; text-decoration-color: #008000\">Normal     </span> │        <span style=\"color: #008080; text-decoration-color: #008080; font-weight: bold\">7</span> │ <span style=\"color: #008000; text-decoration-color: #008000\">[%clk 0:00:58]</span> │\n",
       "│ <span style=\"color: #008000; text-decoration-color: #008000\">Rated Bullet game</span> │ <a href=\"https://lichess.org/qjWLfHje\" target=\"_blank\"><span style=\"color: #008000; text-decoration-color: #008000\">https://lichess.org/qjWLfHje</span></a> │ <span style=\"color: #008000; text-decoration-color: #008000\">2024.06.01</span> │ <span style=\"color: #008000; text-decoration-color: #008000\">-     </span> │ <span style=\"color: #008000; text-decoration-color: #008000\">simple-bot</span> │ <span style=\"color: #008000; text-decoration-color: #008000\">simplexitor</span> │ <span style=\"color: #008000; text-decoration-color: #008000\">1/2-1/2</span> │ <span style=\"color: #008000; text-decoration-color: #008000\">2024.06.01</span> │ <span style=\"color: #008000; text-decoration-color: #008000\">00:00:00</span> │ <span style=\"color: #008000; text-decoration-color: #008000\">1872     </span> │ <span style=\"color: #008000; text-decoration-color: #008000\">1744     </span> │ <span style=\"color: #008000; text-decoration-color: #008000\">-2               </span> │ <span style=\"color: #008000; text-decoration-color: #008000\">+2               </span> │ <span style=\"color: #008000; text-decoration-color: #008000\">BOT        </span> │ <span style=\"color: #008000; text-decoration-color: #008000\">BOT        </span> │ <span style=\"color: #008000; text-decoration-color: #008000\">A15   </span> │ <span style=\"color: #008000; text-decoration-color: #008000\">English Opening: Anglo-Indian Defense, King's Knight Variation</span> │ <span style=\"color: #008000; text-decoration-color: #008000\">60+1        </span> │ <span style=\"color: #008000; text-decoration-color: #008000\">Normal     </span> │        <span style=\"color: #008080; text-decoration-color: #008080; font-weight: bold\">8</span> │ <span style=\"color: #008000; text-decoration-color: #008000\">[%clk 0:00:57]</span> │\n",
       "│ <span style=\"color: #008000; text-decoration-color: #008000\">Rated Bullet game</span> │ <a href=\"https://lichess.org/qjWLfHje\" target=\"_blank\"><span style=\"color: #008000; text-decoration-color: #008000\">https://lichess.org/qjWLfHje</span></a> │ <span style=\"color: #008000; text-decoration-color: #008000\">2024.06.01</span> │ <span style=\"color: #008000; text-decoration-color: #008000\">-     </span> │ <span style=\"color: #008000; text-decoration-color: #008000\">simple-bot</span> │ <span style=\"color: #008000; text-decoration-color: #008000\">simplexitor</span> │ <span style=\"color: #008000; text-decoration-color: #008000\">1/2-1/2</span> │ <span style=\"color: #008000; text-decoration-color: #008000\">2024.06.01</span> │ <span style=\"color: #008000; text-decoration-color: #008000\">00:00:00</span> │ <span style=\"color: #008000; text-decoration-color: #008000\">1872     </span> │ <span style=\"color: #008000; text-decoration-color: #008000\">1744     </span> │ <span style=\"color: #008000; text-decoration-color: #008000\">-2               </span> │ <span style=\"color: #008000; text-decoration-color: #008000\">+2               </span> │ <span style=\"color: #008000; text-decoration-color: #008000\">BOT        </span> │ <span style=\"color: #008000; text-decoration-color: #008000\">BOT        </span> │ <span style=\"color: #008000; text-decoration-color: #008000\">A15   </span> │ <span style=\"color: #008000; text-decoration-color: #008000\">English Opening: Anglo-Indian Defense, King's Knight Variation</span> │ <span style=\"color: #008000; text-decoration-color: #008000\">60+1        </span> │ <span style=\"color: #008000; text-decoration-color: #008000\">Normal     </span> │        <span style=\"color: #008080; text-decoration-color: #008080; font-weight: bold\">9</span> │ <span style=\"color: #008000; text-decoration-color: #008000\">[%clk 0:00:57]</span> │\n",
       "│ <span style=\"color: #008000; text-decoration-color: #008000\">Rated Bullet game</span> │ <a href=\"https://lichess.org/qjWLfHje\" target=\"_blank\"><span style=\"color: #008000; text-decoration-color: #008000\">https://lichess.org/qjWLfHje</span></a> │ <span style=\"color: #008000; text-decoration-color: #008000\">2024.06.01</span> │ <span style=\"color: #008000; text-decoration-color: #008000\">-     </span> │ <span style=\"color: #008000; text-decoration-color: #008000\">simple-bot</span> │ <span style=\"color: #008000; text-decoration-color: #008000\">simplexitor</span> │ <span style=\"color: #008000; text-decoration-color: #008000\">1/2-1/2</span> │ <span style=\"color: #008000; text-decoration-color: #008000\">2024.06.01</span> │ <span style=\"color: #008000; text-decoration-color: #008000\">00:00:00</span> │ <span style=\"color: #008000; text-decoration-color: #008000\">1872     </span> │ <span style=\"color: #008000; text-decoration-color: #008000\">1744     </span> │ <span style=\"color: #008000; text-decoration-color: #008000\">-2               </span> │ <span style=\"color: #008000; text-decoration-color: #008000\">+2               </span> │ <span style=\"color: #008000; text-decoration-color: #008000\">BOT        </span> │ <span style=\"color: #008000; text-decoration-color: #008000\">BOT        </span> │ <span style=\"color: #008000; text-decoration-color: #008000\">A15   </span> │ <span style=\"color: #008000; text-decoration-color: #008000\">English Opening: Anglo-Indian Defense, King's Knight Variation</span> │ <span style=\"color: #008000; text-decoration-color: #008000\">60+1        </span> │ <span style=\"color: #008000; text-decoration-color: #008000\">Normal     </span> │       <span style=\"color: #008080; text-decoration-color: #008080; font-weight: bold\">10</span> │ <span style=\"color: #008000; text-decoration-color: #008000\">[%clk 0:00:56]</span> │\n",
       "│ <span style=\"color: #7f7f7f; text-decoration-color: #7f7f7f\">…</span>                 │ <span style=\"color: #7f7f7f; text-decoration-color: #7f7f7f\">…</span>                            │ <span style=\"color: #7f7f7f; text-decoration-color: #7f7f7f\">…</span>          │ <span style=\"color: #7f7f7f; text-decoration-color: #7f7f7f\">…</span>      │ <span style=\"color: #7f7f7f; text-decoration-color: #7f7f7f\">…</span>          │ <span style=\"color: #7f7f7f; text-decoration-color: #7f7f7f\">…</span>           │ <span style=\"color: #7f7f7f; text-decoration-color: #7f7f7f\">…</span>       │ <span style=\"color: #7f7f7f; text-decoration-color: #7f7f7f\">…</span>          │ <span style=\"color: #7f7f7f; text-decoration-color: #7f7f7f\">…</span>        │ <span style=\"color: #7f7f7f; text-decoration-color: #7f7f7f\">…</span>         │ <span style=\"color: #7f7f7f; text-decoration-color: #7f7f7f\">…</span>         │ <span style=\"color: #7f7f7f; text-decoration-color: #7f7f7f\">…</span>                 │ <span style=\"color: #7f7f7f; text-decoration-color: #7f7f7f\">…</span>                 │ <span style=\"color: #7f7f7f; text-decoration-color: #7f7f7f\">…</span>           │ <span style=\"color: #7f7f7f; text-decoration-color: #7f7f7f\">…</span>           │ <span style=\"color: #7f7f7f; text-decoration-color: #7f7f7f\">…</span>      │ <span style=\"color: #7f7f7f; text-decoration-color: #7f7f7f\">…</span>                                                              │ <span style=\"color: #7f7f7f; text-decoration-color: #7f7f7f\">…</span>            │ <span style=\"color: #7f7f7f; text-decoration-color: #7f7f7f\">…</span>           │        <span style=\"color: #7f7f7f; text-decoration-color: #7f7f7f\">…</span> │ <span style=\"color: #7f7f7f; text-decoration-color: #7f7f7f\">…</span>              │\n",
       "└───────────────────┴──────────────────────────────┴────────────┴────────┴────────────┴─────────────┴─────────┴────────────┴──────────┴───────────┴───────────┴───────────────────┴───────────────────┴─────────────┴─────────────┴────────┴────────────────────────────────────────────────────────────────┴──────────────┴─────────────┴──────────┴────────────────┘\n",
       "</pre>\n"
      ],
      "text/plain": [
       "┏━━━━━━━━━━━━━━━━━━━┳━━━━━━━━━━━━━━━━━━━━━━━━━━━━━━┳━━━━━━━━━━━━┳━━━━━━━━┳━━━━━━━━━━━━┳━━━━━━━━━━━━━┳━━━━━━━━━┳━━━━━━━━━━━━┳━━━━━━━━━━┳━━━━━━━━━━━┳━━━━━━━━━━━┳━━━━━━━━━━━━━━━━━━━┳━━━━━━━━━━━━━━━━━━━┳━━━━━━━━━━━━━┳━━━━━━━━━━━━━┳━━━━━━━━┳━━━━━━━━━━━━━━━━━━━━━━━━━━━━━━━━━━━━━━━━━━━━━━━━━━━━━━━━━━━━━━━━┳━━━━━━━━━━━━━━┳━━━━━━━━━━━━━┳━━━━━━━━━━┳━━━━━━━━━━━━━━━━┓\n",
       "┃\u001b[1m \u001b[0m\u001b[1mevent\u001b[0m\u001b[1m            \u001b[0m\u001b[1m \u001b[0m┃\u001b[1m \u001b[0m\u001b[1msite\u001b[0m\u001b[1m                        \u001b[0m\u001b[1m \u001b[0m┃\u001b[1m \u001b[0m\u001b[1mdate\u001b[0m\u001b[1m      \u001b[0m\u001b[1m \u001b[0m┃\u001b[1m \u001b[0m\u001b[1mround\u001b[0m\u001b[1m \u001b[0m\u001b[1m \u001b[0m┃\u001b[1m \u001b[0m\u001b[1mwhite\u001b[0m\u001b[1m     \u001b[0m\u001b[1m \u001b[0m┃\u001b[1m \u001b[0m\u001b[1mblack\u001b[0m\u001b[1m      \u001b[0m\u001b[1m \u001b[0m┃\u001b[1m \u001b[0m\u001b[1mresult\u001b[0m\u001b[1m \u001b[0m\u001b[1m \u001b[0m┃\u001b[1m \u001b[0m\u001b[1mutc_date\u001b[0m\u001b[1m  \u001b[0m\u001b[1m \u001b[0m┃\u001b[1m \u001b[0m\u001b[1mutc_time\u001b[0m\u001b[1m \u001b[0m┃\u001b[1m \u001b[0m\u001b[1mwhite_elo\u001b[0m\u001b[1m \u001b[0m┃\u001b[1m \u001b[0m\u001b[1mblack_elo\u001b[0m\u001b[1m \u001b[0m┃\u001b[1m \u001b[0m\u001b[1mwhite_rating_diff\u001b[0m\u001b[1m \u001b[0m┃\u001b[1m \u001b[0m\u001b[1mblack_rating_diff\u001b[0m\u001b[1m \u001b[0m┃\u001b[1m \u001b[0m\u001b[1mwhite_title\u001b[0m\u001b[1m \u001b[0m┃\u001b[1m \u001b[0m\u001b[1mblack_title\u001b[0m\u001b[1m \u001b[0m┃\u001b[1m \u001b[0m\u001b[1meco\u001b[0m\u001b[1m   \u001b[0m\u001b[1m \u001b[0m┃\u001b[1m \u001b[0m\u001b[1mopening\u001b[0m\u001b[1m                                                       \u001b[0m\u001b[1m \u001b[0m┃\u001b[1m \u001b[0m\u001b[1mtime_control\u001b[0m\u001b[1m \u001b[0m┃\u001b[1m \u001b[0m\u001b[1mtermination\u001b[0m\u001b[1m \u001b[0m┃\u001b[1m \u001b[0m\u001b[1mmove_ply\u001b[0m\u001b[1m \u001b[0m┃\u001b[1m \u001b[0m\u001b[1mmove_comment\u001b[0m\u001b[1m  \u001b[0m\u001b[1m \u001b[0m┃\n",
       "┡━━━━━━━━━━━━━━━━━━━╇━━━━━━━━━━━━━━━━━━━━━━━━━━━━━━╇━━━━━━━━━━━━╇━━━━━━━━╇━━━━━━━━━━━━╇━━━━━━━━━━━━━╇━━━━━━━━━╇━━━━━━━━━━━━╇━━━━━━━━━━╇━━━━━━━━━━━╇━━━━━━━━━━━╇━━━━━━━━━━━━━━━━━━━╇━━━━━━━━━━━━━━━━━━━╇━━━━━━━━━━━━━╇━━━━━━━━━━━━━╇━━━━━━━━╇━━━━━━━━━━━━━━━━━━━━━━━━━━━━━━━━━━━━━━━━━━━━━━━━━━━━━━━━━━━━━━━━╇━━━━━━━━━━━━━━╇━━━━━━━━━━━━━╇━━━━━━━━━━╇━━━━━━━━━━━━━━━━┩\n",
       "│ \u001b[2mstring\u001b[0m            │ \u001b[2mstring\u001b[0m                       │ \u001b[2mstring\u001b[0m     │ \u001b[2mstring\u001b[0m │ \u001b[2mstring\u001b[0m     │ \u001b[2mstring\u001b[0m      │ \u001b[2mstring\u001b[0m  │ \u001b[2mstring\u001b[0m     │ \u001b[2mstring\u001b[0m   │ \u001b[2mstring\u001b[0m    │ \u001b[2mstring\u001b[0m    │ \u001b[2mstring\u001b[0m            │ \u001b[2mstring\u001b[0m            │ \u001b[2mstring\u001b[0m      │ \u001b[2mstring\u001b[0m      │ \u001b[2mstring\u001b[0m │ \u001b[2mstring\u001b[0m                                                         │ \u001b[2mstring\u001b[0m       │ \u001b[2mstring\u001b[0m      │ \u001b[2mint64\u001b[0m    │ \u001b[2mstring\u001b[0m         │\n",
       "├───────────────────┼──────────────────────────────┼────────────┼────────┼────────────┼─────────────┼─────────┼────────────┼──────────┼───────────┼───────────┼───────────────────┼───────────────────┼─────────────┼─────────────┼────────┼────────────────────────────────────────────────────────────────┼──────────────┼─────────────┼──────────┼────────────────┤\n",
       "│ \u001b[32mRated Bullet game\u001b[0m │ \u001b]8;id=144501;https://lichess.org/qjWLfHje\u001b\\\u001b[32mhttps://lichess.org/qjWLfHje\u001b[0m\u001b]8;;\u001b\\ │ \u001b[32m2024.06.01\u001b[0m │ \u001b[32m-     \u001b[0m │ \u001b[32msimple-bot\u001b[0m │ \u001b[32msimplexitor\u001b[0m │ \u001b[32m1/2-1/2\u001b[0m │ \u001b[32m2024.06.01\u001b[0m │ \u001b[32m00:00:00\u001b[0m │ \u001b[32m1872     \u001b[0m │ \u001b[32m1744     \u001b[0m │ \u001b[32m-2               \u001b[0m │ \u001b[32m+2               \u001b[0m │ \u001b[32mBOT        \u001b[0m │ \u001b[32mBOT        \u001b[0m │ \u001b[32mA15   \u001b[0m │ \u001b[32mEnglish Opening: Anglo-Indian Defense, King's Knight Variation\u001b[0m │ \u001b[32m60+1        \u001b[0m │ \u001b[32mNormal     \u001b[0m │        \u001b[1;36m1\u001b[0m │ \u001b[32m[%clk 0:01:00]\u001b[0m │\n",
       "│ \u001b[32mRated Bullet game\u001b[0m │ \u001b]8;id=608189;https://lichess.org/qjWLfHje\u001b\\\u001b[32mhttps://lichess.org/qjWLfHje\u001b[0m\u001b]8;;\u001b\\ │ \u001b[32m2024.06.01\u001b[0m │ \u001b[32m-     \u001b[0m │ \u001b[32msimple-bot\u001b[0m │ \u001b[32msimplexitor\u001b[0m │ \u001b[32m1/2-1/2\u001b[0m │ \u001b[32m2024.06.01\u001b[0m │ \u001b[32m00:00:00\u001b[0m │ \u001b[32m1872     \u001b[0m │ \u001b[32m1744     \u001b[0m │ \u001b[32m-2               \u001b[0m │ \u001b[32m+2               \u001b[0m │ \u001b[32mBOT        \u001b[0m │ \u001b[32mBOT        \u001b[0m │ \u001b[32mA15   \u001b[0m │ \u001b[32mEnglish Opening: Anglo-Indian Defense, King's Knight Variation\u001b[0m │ \u001b[32m60+1        \u001b[0m │ \u001b[32mNormal     \u001b[0m │        \u001b[1;36m2\u001b[0m │ \u001b[32m[%clk 0:01:00]\u001b[0m │\n",
       "│ \u001b[32mRated Bullet game\u001b[0m │ \u001b]8;id=497199;https://lichess.org/qjWLfHje\u001b\\\u001b[32mhttps://lichess.org/qjWLfHje\u001b[0m\u001b]8;;\u001b\\ │ \u001b[32m2024.06.01\u001b[0m │ \u001b[32m-     \u001b[0m │ \u001b[32msimple-bot\u001b[0m │ \u001b[32msimplexitor\u001b[0m │ \u001b[32m1/2-1/2\u001b[0m │ \u001b[32m2024.06.01\u001b[0m │ \u001b[32m00:00:00\u001b[0m │ \u001b[32m1872     \u001b[0m │ \u001b[32m1744     \u001b[0m │ \u001b[32m-2               \u001b[0m │ \u001b[32m+2               \u001b[0m │ \u001b[32mBOT        \u001b[0m │ \u001b[32mBOT        \u001b[0m │ \u001b[32mA15   \u001b[0m │ \u001b[32mEnglish Opening: Anglo-Indian Defense, King's Knight Variation\u001b[0m │ \u001b[32m60+1        \u001b[0m │ \u001b[32mNormal     \u001b[0m │        \u001b[1;36m3\u001b[0m │ \u001b[32m[%clk 0:01:00]\u001b[0m │\n",
       "│ \u001b[32mRated Bullet game\u001b[0m │ \u001b]8;id=820624;https://lichess.org/qjWLfHje\u001b\\\u001b[32mhttps://lichess.org/qjWLfHje\u001b[0m\u001b]8;;\u001b\\ │ \u001b[32m2024.06.01\u001b[0m │ \u001b[32m-     \u001b[0m │ \u001b[32msimple-bot\u001b[0m │ \u001b[32msimplexitor\u001b[0m │ \u001b[32m1/2-1/2\u001b[0m │ \u001b[32m2024.06.01\u001b[0m │ \u001b[32m00:00:00\u001b[0m │ \u001b[32m1872     \u001b[0m │ \u001b[32m1744     \u001b[0m │ \u001b[32m-2               \u001b[0m │ \u001b[32m+2               \u001b[0m │ \u001b[32mBOT        \u001b[0m │ \u001b[32mBOT        \u001b[0m │ \u001b[32mA15   \u001b[0m │ \u001b[32mEnglish Opening: Anglo-Indian Defense, King's Knight Variation\u001b[0m │ \u001b[32m60+1        \u001b[0m │ \u001b[32mNormal     \u001b[0m │        \u001b[1;36m4\u001b[0m │ \u001b[32m[%clk 0:00:59]\u001b[0m │\n",
       "│ \u001b[32mRated Bullet game\u001b[0m │ \u001b]8;id=793666;https://lichess.org/qjWLfHje\u001b\\\u001b[32mhttps://lichess.org/qjWLfHje\u001b[0m\u001b]8;;\u001b\\ │ \u001b[32m2024.06.01\u001b[0m │ \u001b[32m-     \u001b[0m │ \u001b[32msimple-bot\u001b[0m │ \u001b[32msimplexitor\u001b[0m │ \u001b[32m1/2-1/2\u001b[0m │ \u001b[32m2024.06.01\u001b[0m │ \u001b[32m00:00:00\u001b[0m │ \u001b[32m1872     \u001b[0m │ \u001b[32m1744     \u001b[0m │ \u001b[32m-2               \u001b[0m │ \u001b[32m+2               \u001b[0m │ \u001b[32mBOT        \u001b[0m │ \u001b[32mBOT        \u001b[0m │ \u001b[32mA15   \u001b[0m │ \u001b[32mEnglish Opening: Anglo-Indian Defense, King's Knight Variation\u001b[0m │ \u001b[32m60+1        \u001b[0m │ \u001b[32mNormal     \u001b[0m │        \u001b[1;36m5\u001b[0m │ \u001b[32m[%clk 0:00:59]\u001b[0m │\n",
       "│ \u001b[32mRated Bullet game\u001b[0m │ \u001b]8;id=552598;https://lichess.org/qjWLfHje\u001b\\\u001b[32mhttps://lichess.org/qjWLfHje\u001b[0m\u001b]8;;\u001b\\ │ \u001b[32m2024.06.01\u001b[0m │ \u001b[32m-     \u001b[0m │ \u001b[32msimple-bot\u001b[0m │ \u001b[32msimplexitor\u001b[0m │ \u001b[32m1/2-1/2\u001b[0m │ \u001b[32m2024.06.01\u001b[0m │ \u001b[32m00:00:00\u001b[0m │ \u001b[32m1872     \u001b[0m │ \u001b[32m1744     \u001b[0m │ \u001b[32m-2               \u001b[0m │ \u001b[32m+2               \u001b[0m │ \u001b[32mBOT        \u001b[0m │ \u001b[32mBOT        \u001b[0m │ \u001b[32mA15   \u001b[0m │ \u001b[32mEnglish Opening: Anglo-Indian Defense, King's Knight Variation\u001b[0m │ \u001b[32m60+1        \u001b[0m │ \u001b[32mNormal     \u001b[0m │        \u001b[1;36m6\u001b[0m │ \u001b[32m[%clk 0:00:58]\u001b[0m │\n",
       "│ \u001b[32mRated Bullet game\u001b[0m │ \u001b]8;id=184115;https://lichess.org/qjWLfHje\u001b\\\u001b[32mhttps://lichess.org/qjWLfHje\u001b[0m\u001b]8;;\u001b\\ │ \u001b[32m2024.06.01\u001b[0m │ \u001b[32m-     \u001b[0m │ \u001b[32msimple-bot\u001b[0m │ \u001b[32msimplexitor\u001b[0m │ \u001b[32m1/2-1/2\u001b[0m │ \u001b[32m2024.06.01\u001b[0m │ \u001b[32m00:00:00\u001b[0m │ \u001b[32m1872     \u001b[0m │ \u001b[32m1744     \u001b[0m │ \u001b[32m-2               \u001b[0m │ \u001b[32m+2               \u001b[0m │ \u001b[32mBOT        \u001b[0m │ \u001b[32mBOT        \u001b[0m │ \u001b[32mA15   \u001b[0m │ \u001b[32mEnglish Opening: Anglo-Indian Defense, King's Knight Variation\u001b[0m │ \u001b[32m60+1        \u001b[0m │ \u001b[32mNormal     \u001b[0m │        \u001b[1;36m7\u001b[0m │ \u001b[32m[%clk 0:00:58]\u001b[0m │\n",
       "│ \u001b[32mRated Bullet game\u001b[0m │ \u001b]8;id=302338;https://lichess.org/qjWLfHje\u001b\\\u001b[32mhttps://lichess.org/qjWLfHje\u001b[0m\u001b]8;;\u001b\\ │ \u001b[32m2024.06.01\u001b[0m │ \u001b[32m-     \u001b[0m │ \u001b[32msimple-bot\u001b[0m │ \u001b[32msimplexitor\u001b[0m │ \u001b[32m1/2-1/2\u001b[0m │ \u001b[32m2024.06.01\u001b[0m │ \u001b[32m00:00:00\u001b[0m │ \u001b[32m1872     \u001b[0m │ \u001b[32m1744     \u001b[0m │ \u001b[32m-2               \u001b[0m │ \u001b[32m+2               \u001b[0m │ \u001b[32mBOT        \u001b[0m │ \u001b[32mBOT        \u001b[0m │ \u001b[32mA15   \u001b[0m │ \u001b[32mEnglish Opening: Anglo-Indian Defense, King's Knight Variation\u001b[0m │ \u001b[32m60+1        \u001b[0m │ \u001b[32mNormal     \u001b[0m │        \u001b[1;36m8\u001b[0m │ \u001b[32m[%clk 0:00:57]\u001b[0m │\n",
       "│ \u001b[32mRated Bullet game\u001b[0m │ \u001b]8;id=533793;https://lichess.org/qjWLfHje\u001b\\\u001b[32mhttps://lichess.org/qjWLfHje\u001b[0m\u001b]8;;\u001b\\ │ \u001b[32m2024.06.01\u001b[0m │ \u001b[32m-     \u001b[0m │ \u001b[32msimple-bot\u001b[0m │ \u001b[32msimplexitor\u001b[0m │ \u001b[32m1/2-1/2\u001b[0m │ \u001b[32m2024.06.01\u001b[0m │ \u001b[32m00:00:00\u001b[0m │ \u001b[32m1872     \u001b[0m │ \u001b[32m1744     \u001b[0m │ \u001b[32m-2               \u001b[0m │ \u001b[32m+2               \u001b[0m │ \u001b[32mBOT        \u001b[0m │ \u001b[32mBOT        \u001b[0m │ \u001b[32mA15   \u001b[0m │ \u001b[32mEnglish Opening: Anglo-Indian Defense, King's Knight Variation\u001b[0m │ \u001b[32m60+1        \u001b[0m │ \u001b[32mNormal     \u001b[0m │        \u001b[1;36m9\u001b[0m │ \u001b[32m[%clk 0:00:57]\u001b[0m │\n",
       "│ \u001b[32mRated Bullet game\u001b[0m │ \u001b]8;id=705128;https://lichess.org/qjWLfHje\u001b\\\u001b[32mhttps://lichess.org/qjWLfHje\u001b[0m\u001b]8;;\u001b\\ │ \u001b[32m2024.06.01\u001b[0m │ \u001b[32m-     \u001b[0m │ \u001b[32msimple-bot\u001b[0m │ \u001b[32msimplexitor\u001b[0m │ \u001b[32m1/2-1/2\u001b[0m │ \u001b[32m2024.06.01\u001b[0m │ \u001b[32m00:00:00\u001b[0m │ \u001b[32m1872     \u001b[0m │ \u001b[32m1744     \u001b[0m │ \u001b[32m-2               \u001b[0m │ \u001b[32m+2               \u001b[0m │ \u001b[32mBOT        \u001b[0m │ \u001b[32mBOT        \u001b[0m │ \u001b[32mA15   \u001b[0m │ \u001b[32mEnglish Opening: Anglo-Indian Defense, King's Knight Variation\u001b[0m │ \u001b[32m60+1        \u001b[0m │ \u001b[32mNormal     \u001b[0m │       \u001b[1;36m10\u001b[0m │ \u001b[32m[%clk 0:00:56]\u001b[0m │\n",
       "│ \u001b[2m…\u001b[0m                 │ \u001b[2m…\u001b[0m                            │ \u001b[2m…\u001b[0m          │ \u001b[2m…\u001b[0m      │ \u001b[2m…\u001b[0m          │ \u001b[2m…\u001b[0m           │ \u001b[2m…\u001b[0m       │ \u001b[2m…\u001b[0m          │ \u001b[2m…\u001b[0m        │ \u001b[2m…\u001b[0m         │ \u001b[2m…\u001b[0m         │ \u001b[2m…\u001b[0m                 │ \u001b[2m…\u001b[0m                 │ \u001b[2m…\u001b[0m           │ \u001b[2m…\u001b[0m           │ \u001b[2m…\u001b[0m      │ \u001b[2m…\u001b[0m                                                              │ \u001b[2m…\u001b[0m            │ \u001b[2m…\u001b[0m           │        \u001b[2m…\u001b[0m │ \u001b[2m…\u001b[0m              │\n",
       "└───────────────────┴──────────────────────────────┴────────────┴────────┴────────────┴─────────────┴─────────┴────────────┴──────────┴───────────┴───────────┴───────────────────┴───────────────────┴─────────────┴─────────────┴────────┴────────────────────────────────────────────────────────────────┴──────────────┴─────────────┴──────────┴────────────────┘"
      ]
     },
     "execution_count": 2,
     "metadata": {},
     "output_type": "execute_result"
    }
   ],
   "source": [
    "moves = ibis.read_parquet(\"data/lichess/moves/*.parquet\")\n",
    "moves"
   ]
  },
  {
   "cell_type": "markdown",
   "id": "41bf0264-fef3-4fec-91d5-b2008d98542d",
   "metadata": {},
   "source": [
    "While the official count states 89,342,529 games, we don't include games with 0 moves. In the first 100,000 games in the file, there were 305 games with 0 moves (0.305%), so the dropout rate of 0.197% here seems reasonable (I wouldn't be surprised if there are more \"fake\" games starting at midnight, but I haven't verified this)."
   ]
  },
  {
   "cell_type": "code",
   "execution_count": 3,
   "id": "a3cb2650-7c90-4a64-81a3-36bf3e612027",
   "metadata": {},
   "outputs": [
    {
     "name": "stdout",
     "output_type": "stream",
     "text": [
      "CPU times: user 2min 17s, sys: 10.4 s, total: 2min 28s\n",
      "Wall time: 25.5 s\n"
     ]
    },
    {
     "data": {
      "text/plain": [
       "89166466"
      ]
     },
     "execution_count": 3,
     "metadata": {},
     "output_type": "execute_result"
    }
   ],
   "source": [
    "%%time\n",
    "moves.site.nunique().to_pyarrow().as_py()"
   ]
  },
  {
   "cell_type": "markdown",
   "id": "07b31b18-d231-4c80-b836-528338f105d2",
   "metadata": {},
   "source": [
    "The average game is shorter than I expected; I expected the [average game to be around 40 moves](https://chess.stackexchange.com/questions/2506/what-is-the-average-length-of-a-game-of-chess)."
   ]
  },
  {
   "cell_type": "code",
   "execution_count": 4,
   "id": "344faf72-02f5-44fa-b081-0d2d0c8c532a",
   "metadata": {},
   "outputs": [
    {
     "name": "stdout",
     "output_type": "stream",
     "text": [
      "CPU times: user 2min 44s, sys: 11.3 s, total: 2min 55s\n",
      "Wall time: 27.6 s\n"
     ]
    },
    {
     "data": {
      "text/plain": [
       "33.30006908090313"
      ]
     },
     "execution_count": 4,
     "metadata": {},
     "output_type": "execute_result"
    }
   ],
   "source": [
    "%%time\n",
    "moves.group_by(moves.site).agg(\n",
    "    move_count=_.count()\n",
    ").move_count.mean().to_pyarrow().as_py() / 2"
   ]
  },
  {
   "cell_type": "markdown",
   "id": "bb2d8a1d-7878-4d9a-bcad-4833d812c197",
   "metadata": {},
   "source": [
    "My first hypothesis was that \"abandoned\" games were bringing down the average. (From experience, I know that games are aborted if either player doesn't make their first move in time.)"
   ]
  },
  {
   "cell_type": "code",
   "execution_count": 5,
   "id": "336f51eb-57af-4580-9881-40f611994641",
   "metadata": {},
   "outputs": [
    {
     "name": "stdout",
     "output_type": "stream",
     "text": [
      "CPU times: user 1min 21s, sys: 2.4 s, total: 1min 23s\n",
      "Wall time: 12.4 s\n"
     ]
    },
    {
     "data": {
      "text/html": [
       "<pre style=\"white-space:pre;overflow-x:auto;line-height:normal;font-family:Menlo,'DejaVu Sans Mono',consolas,'Courier New',monospace\">┏━━━━━━━━━━━━━━━━━━┳━━━━━━━━━━━━━━━━━━━┓\n",
       "┃<span style=\"font-weight: bold\"> termination      </span>┃<span style=\"font-weight: bold\"> termination_count </span>┃\n",
       "┡━━━━━━━━━━━━━━━━━━╇━━━━━━━━━━━━━━━━━━━┩\n",
       "│ <span style=\"color: #7f7f7f; text-decoration-color: #7f7f7f\">string</span>           │ <span style=\"color: #7f7f7f; text-decoration-color: #7f7f7f\">int64</span>             │\n",
       "├──────────────────┼───────────────────┤\n",
       "│ <span style=\"color: #008000; text-decoration-color: #008000\">Abandoned       </span> │            <span style=\"color: #008080; text-decoration-color: #008080; font-weight: bold\">109772</span> │\n",
       "│ <span style=\"color: #008000; text-decoration-color: #008000\">Time forfeit    </span> │          <span style=\"color: #008080; text-decoration-color: #008080; font-weight: bold\">29430808</span> │\n",
       "│ <span style=\"color: #008000; text-decoration-color: #008000\">Unterminated    </span> │             <span style=\"color: #008080; text-decoration-color: #008080; font-weight: bold\">14472</span> │\n",
       "│ <span style=\"color: #008000; text-decoration-color: #008000\">Normal          </span> │          <span style=\"color: #008080; text-decoration-color: #008080; font-weight: bold\">59608505</span> │\n",
       "│ <span style=\"color: #008000; text-decoration-color: #008000\">Rules infraction</span> │              <span style=\"color: #008080; text-decoration-color: #008080; font-weight: bold\">2909</span> │\n",
       "└──────────────────┴───────────────────┘\n",
       "</pre>\n"
      ],
      "text/plain": [
       "┏━━━━━━━━━━━━━━━━━━┳━━━━━━━━━━━━━━━━━━━┓\n",
       "┃\u001b[1m \u001b[0m\u001b[1mtermination\u001b[0m\u001b[1m     \u001b[0m\u001b[1m \u001b[0m┃\u001b[1m \u001b[0m\u001b[1mtermination_count\u001b[0m\u001b[1m \u001b[0m┃\n",
       "┡━━━━━━━━━━━━━━━━━━╇━━━━━━━━━━━━━━━━━━━┩\n",
       "│ \u001b[2mstring\u001b[0m           │ \u001b[2mint64\u001b[0m             │\n",
       "├──────────────────┼───────────────────┤\n",
       "│ \u001b[32mAbandoned       \u001b[0m │            \u001b[1;36m109772\u001b[0m │\n",
       "│ \u001b[32mTime forfeit    \u001b[0m │          \u001b[1;36m29430808\u001b[0m │\n",
       "│ \u001b[32mUnterminated    \u001b[0m │             \u001b[1;36m14472\u001b[0m │\n",
       "│ \u001b[32mNormal          \u001b[0m │          \u001b[1;36m59608505\u001b[0m │\n",
       "│ \u001b[32mRules infraction\u001b[0m │              \u001b[1;36m2909\u001b[0m │\n",
       "└──────────────────┴───────────────────┘\n"
      ]
     },
     "execution_count": 5,
     "metadata": {},
     "output_type": "execute_result"
    }
   ],
   "source": [
    "%%time\n",
    "games = moves[moves.move_ply == 1]\n",
    "games.termination.value_counts().preview()"
   ]
  },
  {
   "cell_type": "markdown",
   "id": "def72592-7a3a-4195-8cef-0bb8f9999e68",
   "metadata": {},
   "source": [
    "While we should likely limit ourselves to games that ended normally (including those where a player ran out of time), we still haven't found our answer as to why games are shorter than expected."
   ]
  },
  {
   "cell_type": "code",
   "execution_count": 6,
   "id": "b4f89091-b9d7-4e51-9661-f89788b2e53e",
   "metadata": {},
   "outputs": [
    {
     "name": "stdout",
     "output_type": "stream",
     "text": [
      "CPU times: user 3min 26s, sys: 16.5 s, total: 3min 43s\n",
      "Wall time: 50.1 s\n"
     ]
    },
    {
     "data": {
      "text/html": [
       "<pre style=\"white-space:pre;overflow-x:auto;line-height:normal;font-family:Menlo,'DejaVu Sans Mono',consolas,'Courier New',monospace\">┏━━━━━━━━━━━━━━━━━━┳━━━━━━━━━━━━━━━━━━━━┓\n",
       "┃<span style=\"font-weight: bold\"> termination      </span>┃<span style=\"font-weight: bold\"> average_move_count </span>┃\n",
       "┡━━━━━━━━━━━━━━━━━━╇━━━━━━━━━━━━━━━━━━━━┩\n",
       "│ <span style=\"color: #7f7f7f; text-decoration-color: #7f7f7f\">string</span>           │ <span style=\"color: #7f7f7f; text-decoration-color: #7f7f7f\">float64</span>            │\n",
       "├──────────────────┼────────────────────┤\n",
       "│ <span style=\"color: #008000; text-decoration-color: #008000\">Abandoned       </span> │           <span style=\"color: #008080; text-decoration-color: #008080; font-weight: bold\">0.649095</span> │\n",
       "│ <span style=\"color: #008000; text-decoration-color: #008000\">Unterminated    </span> │          <span style=\"color: #008080; text-decoration-color: #008080; font-weight: bold\">17.231032</span> │\n",
       "│ <span style=\"color: #008000; text-decoration-color: #008000\">Time forfeit    </span> │          <span style=\"color: #008080; text-decoration-color: #008080; font-weight: bold\">37.096200</span> │\n",
       "│ <span style=\"color: #008000; text-decoration-color: #008000\">Normal          </span> │          <span style=\"color: #008080; text-decoration-color: #008080; font-weight: bold\">31.490851</span> │\n",
       "│ <span style=\"color: #008000; text-decoration-color: #008000\">Rules infraction</span> │          <span style=\"color: #008080; text-decoration-color: #008080; font-weight: bold\">12.079065</span> │\n",
       "└──────────────────┴────────────────────┘\n",
       "</pre>\n"
      ],
      "text/plain": [
       "┏━━━━━━━━━━━━━━━━━━┳━━━━━━━━━━━━━━━━━━━━┓\n",
       "┃\u001b[1m \u001b[0m\u001b[1mtermination\u001b[0m\u001b[1m     \u001b[0m\u001b[1m \u001b[0m┃\u001b[1m \u001b[0m\u001b[1maverage_move_count\u001b[0m\u001b[1m \u001b[0m┃\n",
       "┡━━━━━━━━━━━━━━━━━━╇━━━━━━━━━━━━━━━━━━━━┩\n",
       "│ \u001b[2mstring\u001b[0m           │ \u001b[2mfloat64\u001b[0m            │\n",
       "├──────────────────┼────────────────────┤\n",
       "│ \u001b[32mAbandoned       \u001b[0m │           \u001b[1;36m0.649095\u001b[0m │\n",
       "│ \u001b[32mUnterminated    \u001b[0m │          \u001b[1;36m17.231032\u001b[0m │\n",
       "│ \u001b[32mTime forfeit    \u001b[0m │          \u001b[1;36m37.096200\u001b[0m │\n",
       "│ \u001b[32mNormal          \u001b[0m │          \u001b[1;36m31.490851\u001b[0m │\n",
       "│ \u001b[32mRules infraction\u001b[0m │          \u001b[1;36m12.079065\u001b[0m │\n",
       "└──────────────────┴────────────────────┘\n"
      ]
     },
     "execution_count": 6,
     "metadata": {},
     "output_type": "execute_result"
    }
   ],
   "source": [
    "%%time\n",
    "moves.group_by(moves.site).agg(\n",
    "    move_count=_.count(), termination=_.termination.arbitrary()\n",
    ").group_by(\"termination\").agg(average_move_count=_.move_count.mean() / 2).preview()"
   ]
  },
  {
   "cell_type": "markdown",
   "id": "4a502cde-c46c-469c-9c7c-17fe1328982c",
   "metadata": {},
   "source": [
    "Next, let's explore the time control distribution. We adapt the [`parse_time_control`](https://python-chess.readthedocs.io/en/latest/_modules/chess/pgn.html#skip_game) logic to native Ibis code, as calling the function in a UDF would be prohibitively slow[^1]."
   ]
  },
  {
   "cell_type": "code",
   "execution_count": 7,
   "id": "4c02cc0a-fae9-4bb3-a273-105231f8a719",
   "metadata": {},
   "outputs": [
    {
     "name": "stdout",
     "output_type": "stream",
     "text": [
      "CPU times: user 2min 21s, sys: 2.85 s, total: 2min 23s\n",
      "Wall time: 20.4 s\n"
     ]
    },
    {
     "data": {
      "text/html": [
       "<pre style=\"white-space:pre;overflow-x:auto;line-height:normal;font-family:Menlo,'DejaVu Sans Mono',consolas,'Courier New',monospace\">┏━━━━━━━━━━━━━━━━━━━┳━━━━━━━━━━━━━━━━━━━━━━━━━┓\n",
       "┃<span style=\"font-weight: bold\"> time_control_type </span>┃<span style=\"font-weight: bold\"> time_control_type_count </span>┃\n",
       "┡━━━━━━━━━━━━━━━━━━━╇━━━━━━━━━━━━━━━━━━━━━━━━━┩\n",
       "│ <span style=\"color: #7f7f7f; text-decoration-color: #7f7f7f\">string</span>            │ <span style=\"color: #7f7f7f; text-decoration-color: #7f7f7f\">int64</span>                   │\n",
       "├───────────────────┼─────────────────────────┤\n",
       "│ <span style=\"color: #008000; text-decoration-color: #008000\">BULLET           </span> │                <span style=\"color: #008080; text-decoration-color: #008080; font-weight: bold\">27246758</span> │\n",
       "│ <span style=\"color: #008000; text-decoration-color: #008000\">STANDARD         </span> │                   <span style=\"color: #008080; text-decoration-color: #008080; font-weight: bold\">37367</span> │\n",
       "│ <span style=\"color: #008000; text-decoration-color: #008000\">RAPID            </span> │                 <span style=\"color: #008080; text-decoration-color: #008080; font-weight: bold\">3526013</span> │\n",
       "│ <span style=\"color: #008000; text-decoration-color: #008000\">BLITZ            </span> │                <span style=\"color: #008080; text-decoration-color: #008080; font-weight: bold\">58277252</span> │\n",
       "│ <span style=\"color: #008000; text-decoration-color: #008000\">UNLIMITED        </span> │                   <span style=\"color: #008080; text-decoration-color: #008080; font-weight: bold\">79076</span> │\n",
       "└───────────────────┴─────────────────────────┘\n",
       "</pre>\n"
      ],
      "text/plain": [
       "┏━━━━━━━━━━━━━━━━━━━┳━━━━━━━━━━━━━━━━━━━━━━━━━┓\n",
       "┃\u001b[1m \u001b[0m\u001b[1mtime_control_type\u001b[0m\u001b[1m \u001b[0m┃\u001b[1m \u001b[0m\u001b[1mtime_control_type_count\u001b[0m\u001b[1m \u001b[0m┃\n",
       "┡━━━━━━━━━━━━━━━━━━━╇━━━━━━━━━━━━━━━━━━━━━━━━━┩\n",
       "│ \u001b[2mstring\u001b[0m            │ \u001b[2mint64\u001b[0m                   │\n",
       "├───────────────────┼─────────────────────────┤\n",
       "│ \u001b[32mBULLET           \u001b[0m │                \u001b[1;36m27246758\u001b[0m │\n",
       "│ \u001b[32mSTANDARD         \u001b[0m │                   \u001b[1;36m37367\u001b[0m │\n",
       "│ \u001b[32mRAPID            \u001b[0m │                 \u001b[1;36m3526013\u001b[0m │\n",
       "│ \u001b[32mBLITZ            \u001b[0m │                \u001b[1;36m58277252\u001b[0m │\n",
       "│ \u001b[32mUNLIMITED        \u001b[0m │                   \u001b[1;36m79076\u001b[0m │\n",
       "└───────────────────┴─────────────────────────┘\n"
      ]
     },
     "execution_count": 7,
     "metadata": {},
     "output_type": "execute_result"
    }
   ],
   "source": [
    "%%time\n",
    "import ibis.expr.types as ir\n",
    "\n",
    "\n",
    "def parse_time_control(time_control: ir.StringColumn) -> dict[str, ir.Column]:\n",
    "    index = time_control.find(\"+\")\n",
    "    base_time = time_control.substr(0, index).try_cast(int)\n",
    "    increment = time_control.substr(index + 1).try_cast(int)\n",
    "\n",
    "    time_control_type = (\n",
    "        ibis.case()\n",
    "        .when(time_control.isnull() | time_control.startswith(\"?\"), \"UNKNOWN\")\n",
    "        .when(time_control.startswith(\"-\"), \"UNLIMITED\")\n",
    "        .when(base_time + 60 * increment < 3 * 60, \"BULLET\")\n",
    "        .when(base_time + 60 * increment < 15 * 60, \"BLITZ\")\n",
    "        .when(base_time + 60 * increment < 60 * 60, \"RAPID\")\n",
    "        .else_(\"STANDARD\")\n",
    "        .end()\n",
    "    )\n",
    "\n",
    "    return {\n",
    "        \"time_control_base_time\": base_time,\n",
    "        \"time_control_increment\": increment,\n",
    "        \"time_control_type\": time_control_type,\n",
    "    }\n",
    "\n",
    "\n",
    "games_with_parsed_time_control = games.mutate(**parse_time_control(games.time_control))\n",
    "games_with_parsed_time_control.time_control_type.value_counts().preview()"
   ]
  },
  {
   "cell_type": "markdown",
   "id": "7a7c53ca-66c2-4fb2-9438-5ab07b161edd",
   "metadata": {},
   "source": [
    "Note that the time control type is not determined using the same logic Lichess uses (e.g. `3+0` is considered Blitz, not Bullet, by most online chess servers, including Lichess).\n",
    "\n",
    "As a sanity check, let's compare the null count for `time_control_base_time` and `time_control_increment` with the number of Unlimited games."
   ]
  },
  {
   "cell_type": "code",
   "execution_count": 12,
   "id": "472cd74f-6782-4a6e-bac1-97edf6ab3dd4",
   "metadata": {},
   "outputs": [
    {
     "name": "stdout",
     "output_type": "stream",
     "text": [
      "CPU times: user 1min 27s, sys: 2.21 s, total: 1min 29s\n",
      "Wall time: 11.8 s\n"
     ]
    },
    {
     "data": {
      "text/plain": [
       "79076"
      ]
     },
     "execution_count": 12,
     "metadata": {},
     "output_type": "execute_result"
    }
   ],
   "source": [
    "%%time\n",
    "games_with_parsed_time_control[\n",
    "    _.time_control_base_time.isnull()\n",
    "].count().to_pyarrow().as_py()"
   ]
  },
  {
   "cell_type": "code",
   "execution_count": 13,
   "id": "2722ea74-d326-4119-8229-9b84eb6d1590",
   "metadata": {},
   "outputs": [
    {
     "name": "stdout",
     "output_type": "stream",
     "text": [
      "CPU times: user 1min 31s, sys: 2.33 s, total: 1min 33s\n",
      "Wall time: 12.4 s\n"
     ]
    },
    {
     "data": {
      "text/plain": [
       "79076"
      ]
     },
     "execution_count": 13,
     "metadata": {},
     "output_type": "execute_result"
    }
   ],
   "source": [
    "%%time\n",
    "games_with_parsed_time_control[\n",
    "    _.time_control_increment.isnull()\n",
    "].count().to_pyarrow().as_py()"
   ]
  },
  {
   "cell_type": "markdown",
   "id": "80cf92fc-30fa-46c9-ac0c-83ab96318abb",
   "metadata": {},
   "source": [
    "It doesn't seem like longer time controls result in longer games; in fact, it's almost the opposite. Maybe this has something to do with the fact that stronger players generally play shorter time controls online."
   ]
  },
  {
   "cell_type": "code",
   "execution_count": 17,
   "id": "329a3e6d-cf6c-4171-997f-2f8952ea9b76",
   "metadata": {},
   "outputs": [
    {
     "name": "stdout",
     "output_type": "stream",
     "text": [
      "CPU times: user 6min 30s, sys: 7min 14s, total: 13min 44s\n",
      "Wall time: 7min 29s\n"
     ]
    },
    {
     "data": {
      "text/html": [
       "<pre style=\"white-space:pre;overflow-x:auto;line-height:normal;font-family:Menlo,'DejaVu Sans Mono',consolas,'Courier New',monospace\">┏━━━━━━━━━━━━━━━━━━━┳━━━━━━━━━━━━━━━━━━┳━━━━━━━━━━┳━━━━━━━━━━━━━━━━━━━━┓\n",
       "┃<span style=\"font-weight: bold\"> time_control_type </span>┃<span style=\"font-weight: bold\"> termination      </span>┃<span style=\"font-weight: bold\"> count    </span>┃<span style=\"font-weight: bold\"> average_move_count </span>┃\n",
       "┡━━━━━━━━━━━━━━━━━━━╇━━━━━━━━━━━━━━━━━━╇━━━━━━━━━━╇━━━━━━━━━━━━━━━━━━━━┩\n",
       "│ <span style=\"color: #7f7f7f; text-decoration-color: #7f7f7f\">string</span>            │ <span style=\"color: #7f7f7f; text-decoration-color: #7f7f7f\">string</span>           │ <span style=\"color: #7f7f7f; text-decoration-color: #7f7f7f\">int64</span>    │ <span style=\"color: #7f7f7f; text-decoration-color: #7f7f7f\">float64</span>            │\n",
       "├───────────────────┼──────────────────┼──────────┼────────────────────┤\n",
       "│ <span style=\"color: #008000; text-decoration-color: #008000\">BLITZ            </span> │ <span style=\"color: #008000; text-decoration-color: #008000\">Abandoned       </span> │    <span style=\"color: #008080; text-decoration-color: #008080; font-weight: bold\">81558</span> │           <span style=\"color: #008080; text-decoration-color: #008080; font-weight: bold\">0.660928</span> │\n",
       "│ <span style=\"color: #008000; text-decoration-color: #008000\">BLITZ            </span> │ <span style=\"color: #008000; text-decoration-color: #008000\">Normal          </span> │ <span style=\"color: #008080; text-decoration-color: #008080; font-weight: bold\">44605551</span> │          <span style=\"color: #008080; text-decoration-color: #008080; font-weight: bold\">32.302616</span> │\n",
       "│ <span style=\"color: #008000; text-decoration-color: #008000\">BLITZ            </span> │ <span style=\"color: #008000; text-decoration-color: #008000\">Rules infraction</span> │     <span style=\"color: #008080; text-decoration-color: #008080; font-weight: bold\">1815</span> │          <span style=\"color: #008080; text-decoration-color: #008080; font-weight: bold\">11.239669</span> │\n",
       "│ <span style=\"color: #008000; text-decoration-color: #008000\">BLITZ            </span> │ <span style=\"color: #008000; text-decoration-color: #008000\">Time forfeit    </span> │ <span style=\"color: #008080; text-decoration-color: #008080; font-weight: bold\">13588328</span> │          <span style=\"color: #008080; text-decoration-color: #008080; font-weight: bold\">38.755687</span> │\n",
       "│ <span style=\"color: #008000; text-decoration-color: #008000\">BULLET           </span> │ <span style=\"color: #008000; text-decoration-color: #008000\">Abandoned       </span> │    <span style=\"color: #008080; text-decoration-color: #008080; font-weight: bold\">23508</span> │           <span style=\"color: #008080; text-decoration-color: #008080; font-weight: bold\">0.601263</span> │\n",
       "│ <span style=\"color: #008000; text-decoration-color: #008000\">BULLET           </span> │ <span style=\"color: #008000; text-decoration-color: #008000\">Normal          </span> │ <span style=\"color: #008080; text-decoration-color: #008080; font-weight: bold\">11769972</span> │          <span style=\"color: #008080; text-decoration-color: #008080; font-weight: bold\">28.195978</span> │\n",
       "│ <span style=\"color: #008000; text-decoration-color: #008000\">BULLET           </span> │ <span style=\"color: #008000; text-decoration-color: #008000\">Rules infraction</span> │       <span style=\"color: #008080; text-decoration-color: #008080; font-weight: bold\">22</span> │           <span style=\"color: #008080; text-decoration-color: #008080; font-weight: bold\">9.295455</span> │\n",
       "│ <span style=\"color: #008000; text-decoration-color: #008000\">BULLET           </span> │ <span style=\"color: #008000; text-decoration-color: #008000\">Time forfeit    </span> │ <span style=\"color: #008080; text-decoration-color: #008080; font-weight: bold\">15453256</span> │          <span style=\"color: #008080; text-decoration-color: #008080; font-weight: bold\">35.907746</span> │\n",
       "│ <span style=\"color: #008000; text-decoration-color: #008000\">RAPID            </span> │ <span style=\"color: #008000; text-decoration-color: #008000\">Abandoned       </span> │     <span style=\"color: #008080; text-decoration-color: #008080; font-weight: bold\">3798</span> │           <span style=\"color: #008080; text-decoration-color: #008080; font-weight: bold\">0.714982</span> │\n",
       "│ <span style=\"color: #008000; text-decoration-color: #008000\">RAPID            </span> │ <span style=\"color: #008000; text-decoration-color: #008000\">Normal          </span> │  <span style=\"color: #008080; text-decoration-color: #008080; font-weight: bold\">3154164</span> │          <span style=\"color: #008080; text-decoration-color: #008080; font-weight: bold\">32.358064</span> │\n",
       "│ <span style=\"color: #008000; text-decoration-color: #008000\">RAPID            </span> │ <span style=\"color: #008000; text-decoration-color: #008000\">Rules infraction</span> │      <span style=\"color: #008080; text-decoration-color: #008080; font-weight: bold\">934</span> │          <span style=\"color: #008080; text-decoration-color: #008080; font-weight: bold\">13.432548</span> │\n",
       "│ <span style=\"color: #008000; text-decoration-color: #008000\">RAPID            </span> │ <span style=\"color: #008000; text-decoration-color: #008000\">Time forfeit    </span> │   <span style=\"color: #008080; text-decoration-color: #008080; font-weight: bold\">367117</span> │          <span style=\"color: #008080; text-decoration-color: #008080; font-weight: bold\">27.351633</span> │\n",
       "│ <span style=\"color: #008000; text-decoration-color: #008000\">STANDARD         </span> │ <span style=\"color: #008000; text-decoration-color: #008000\">Abandoned       </span> │       <span style=\"color: #008080; text-decoration-color: #008080; font-weight: bold\">86</span> │           <span style=\"color: #008080; text-decoration-color: #008080; font-weight: bold\">1.017442</span> │\n",
       "│ <span style=\"color: #008000; text-decoration-color: #008000\">STANDARD         </span> │ <span style=\"color: #008000; text-decoration-color: #008000\">Normal          </span> │    <span style=\"color: #008080; text-decoration-color: #008080; font-weight: bold\">33445</span> │          <span style=\"color: #008080; text-decoration-color: #008080; font-weight: bold\">30.091927</span> │\n",
       "│ <span style=\"color: #008000; text-decoration-color: #008000\">STANDARD         </span> │ <span style=\"color: #008000; text-decoration-color: #008000\">Rules infraction</span> │       <span style=\"color: #008080; text-decoration-color: #008080; font-weight: bold\">36</span> │          <span style=\"color: #008080; text-decoration-color: #008080; font-weight: bold\">12.555556</span> │\n",
       "│ <span style=\"color: #008000; text-decoration-color: #008000\">STANDARD         </span> │ <span style=\"color: #008000; text-decoration-color: #008000\">Time forfeit    </span> │     <span style=\"color: #008080; text-decoration-color: #008080; font-weight: bold\">3800</span> │          <span style=\"color: #008080; text-decoration-color: #008080; font-weight: bold\">18.772237</span> │\n",
       "│ <span style=\"color: #008000; text-decoration-color: #008000\">UNLIMITED        </span> │ <span style=\"color: #008000; text-decoration-color: #008000\">Abandoned       </span> │      <span style=\"color: #008080; text-decoration-color: #008080; font-weight: bold\">822</span> │           <span style=\"color: #008080; text-decoration-color: #008080; font-weight: bold\">0.500000</span> │\n",
       "│ <span style=\"color: #008000; text-decoration-color: #008000\">UNLIMITED        </span> │ <span style=\"color: #008000; text-decoration-color: #008000\">Normal          </span> │    <span style=\"color: #008080; text-decoration-color: #008080; font-weight: bold\">45373</span> │          <span style=\"color: #008080; text-decoration-color: #008080; font-weight: bold\">28.907698</span> │\n",
       "│ <span style=\"color: #008000; text-decoration-color: #008000\">UNLIMITED        </span> │ <span style=\"color: #008000; text-decoration-color: #008000\">Rules infraction</span> │      <span style=\"color: #008080; text-decoration-color: #008080; font-weight: bold\">102</span> │          <span style=\"color: #008080; text-decoration-color: #008080; font-weight: bold\">15.053922</span> │\n",
       "│ <span style=\"color: #008000; text-decoration-color: #008000\">UNLIMITED        </span> │ <span style=\"color: #008000; text-decoration-color: #008000\">Time forfeit    </span> │    <span style=\"color: #008080; text-decoration-color: #008080; font-weight: bold\">18307</span> │           <span style=\"color: #008080; text-decoration-color: #008080; font-weight: bold\">7.755886</span> │\n",
       "│ <span style=\"color: #008000; text-decoration-color: #008000\">UNLIMITED        </span> │ <span style=\"color: #008000; text-decoration-color: #008000\">Unterminated    </span> │    <span style=\"color: #008080; text-decoration-color: #008080; font-weight: bold\">14472</span> │          <span style=\"color: #008080; text-decoration-color: #008080; font-weight: bold\">17.231032</span> │\n",
       "└───────────────────┴──────────────────┴──────────┴────────────────────┘\n",
       "</pre>\n"
      ],
      "text/plain": [
       "┏━━━━━━━━━━━━━━━━━━━┳━━━━━━━━━━━━━━━━━━┳━━━━━━━━━━┳━━━━━━━━━━━━━━━━━━━━┓\n",
       "┃\u001b[1m \u001b[0m\u001b[1mtime_control_type\u001b[0m\u001b[1m \u001b[0m┃\u001b[1m \u001b[0m\u001b[1mtermination\u001b[0m\u001b[1m     \u001b[0m\u001b[1m \u001b[0m┃\u001b[1m \u001b[0m\u001b[1mcount\u001b[0m\u001b[1m   \u001b[0m\u001b[1m \u001b[0m┃\u001b[1m \u001b[0m\u001b[1maverage_move_count\u001b[0m\u001b[1m \u001b[0m┃\n",
       "┡━━━━━━━━━━━━━━━━━━━╇━━━━━━━━━━━━━━━━━━╇━━━━━━━━━━╇━━━━━━━━━━━━━━━━━━━━┩\n",
       "│ \u001b[2mstring\u001b[0m            │ \u001b[2mstring\u001b[0m           │ \u001b[2mint64\u001b[0m    │ \u001b[2mfloat64\u001b[0m            │\n",
       "├───────────────────┼──────────────────┼──────────┼────────────────────┤\n",
       "│ \u001b[32mBLITZ            \u001b[0m │ \u001b[32mAbandoned       \u001b[0m │    \u001b[1;36m81558\u001b[0m │           \u001b[1;36m0.660928\u001b[0m │\n",
       "│ \u001b[32mBLITZ            \u001b[0m │ \u001b[32mNormal          \u001b[0m │ \u001b[1;36m44605551\u001b[0m │          \u001b[1;36m32.302616\u001b[0m │\n",
       "│ \u001b[32mBLITZ            \u001b[0m │ \u001b[32mRules infraction\u001b[0m │     \u001b[1;36m1815\u001b[0m │          \u001b[1;36m11.239669\u001b[0m │\n",
       "│ \u001b[32mBLITZ            \u001b[0m │ \u001b[32mTime forfeit    \u001b[0m │ \u001b[1;36m13588328\u001b[0m │          \u001b[1;36m38.755687\u001b[0m │\n",
       "│ \u001b[32mBULLET           \u001b[0m │ \u001b[32mAbandoned       \u001b[0m │    \u001b[1;36m23508\u001b[0m │           \u001b[1;36m0.601263\u001b[0m │\n",
       "│ \u001b[32mBULLET           \u001b[0m │ \u001b[32mNormal          \u001b[0m │ \u001b[1;36m11769972\u001b[0m │          \u001b[1;36m28.195978\u001b[0m │\n",
       "│ \u001b[32mBULLET           \u001b[0m │ \u001b[32mRules infraction\u001b[0m │       \u001b[1;36m22\u001b[0m │           \u001b[1;36m9.295455\u001b[0m │\n",
       "│ \u001b[32mBULLET           \u001b[0m │ \u001b[32mTime forfeit    \u001b[0m │ \u001b[1;36m15453256\u001b[0m │          \u001b[1;36m35.907746\u001b[0m │\n",
       "│ \u001b[32mRAPID            \u001b[0m │ \u001b[32mAbandoned       \u001b[0m │     \u001b[1;36m3798\u001b[0m │           \u001b[1;36m0.714982\u001b[0m │\n",
       "│ \u001b[32mRAPID            \u001b[0m │ \u001b[32mNormal          \u001b[0m │  \u001b[1;36m3154164\u001b[0m │          \u001b[1;36m32.358064\u001b[0m │\n",
       "│ \u001b[32mRAPID            \u001b[0m │ \u001b[32mRules infraction\u001b[0m │      \u001b[1;36m934\u001b[0m │          \u001b[1;36m13.432548\u001b[0m │\n",
       "│ \u001b[32mRAPID            \u001b[0m │ \u001b[32mTime forfeit    \u001b[0m │   \u001b[1;36m367117\u001b[0m │          \u001b[1;36m27.351633\u001b[0m │\n",
       "│ \u001b[32mSTANDARD         \u001b[0m │ \u001b[32mAbandoned       \u001b[0m │       \u001b[1;36m86\u001b[0m │           \u001b[1;36m1.017442\u001b[0m │\n",
       "│ \u001b[32mSTANDARD         \u001b[0m │ \u001b[32mNormal          \u001b[0m │    \u001b[1;36m33445\u001b[0m │          \u001b[1;36m30.091927\u001b[0m │\n",
       "│ \u001b[32mSTANDARD         \u001b[0m │ \u001b[32mRules infraction\u001b[0m │       \u001b[1;36m36\u001b[0m │          \u001b[1;36m12.555556\u001b[0m │\n",
       "│ \u001b[32mSTANDARD         \u001b[0m │ \u001b[32mTime forfeit    \u001b[0m │     \u001b[1;36m3800\u001b[0m │          \u001b[1;36m18.772237\u001b[0m │\n",
       "│ \u001b[32mUNLIMITED        \u001b[0m │ \u001b[32mAbandoned       \u001b[0m │      \u001b[1;36m822\u001b[0m │           \u001b[1;36m0.500000\u001b[0m │\n",
       "│ \u001b[32mUNLIMITED        \u001b[0m │ \u001b[32mNormal          \u001b[0m │    \u001b[1;36m45373\u001b[0m │          \u001b[1;36m28.907698\u001b[0m │\n",
       "│ \u001b[32mUNLIMITED        \u001b[0m │ \u001b[32mRules infraction\u001b[0m │      \u001b[1;36m102\u001b[0m │          \u001b[1;36m15.053922\u001b[0m │\n",
       "│ \u001b[32mUNLIMITED        \u001b[0m │ \u001b[32mTime forfeit    \u001b[0m │    \u001b[1;36m18307\u001b[0m │           \u001b[1;36m7.755886\u001b[0m │\n",
       "│ \u001b[32mUNLIMITED        \u001b[0m │ \u001b[32mUnterminated    \u001b[0m │    \u001b[1;36m14472\u001b[0m │          \u001b[1;36m17.231032\u001b[0m │\n",
       "└───────────────────┴──────────────────┴──────────┴────────────────────┘\n"
      ]
     },
     "execution_count": 17,
     "metadata": {},
     "output_type": "execute_result"
    }
   ],
   "source": [
    "%%time\n",
    "games_with_parsed_time_control.join(\n",
    "    moves.group_by(moves.site).agg(move_count=_.count()), \"site\"\n",
    ").group_by([\"time_control_type\", \"termination\"]).agg(\n",
    "    count=_.count(), average_move_count=_.move_count.mean() / 2\n",
    ").order_by(\n",
    "    [\"time_control_type\", \"termination\"]\n",
    ").preview(\n",
    "    max_rows=25\n",
    ")"
   ]
  },
  {
   "cell_type": "code",
   "execution_count": 19,
   "id": "30d891a1-1b36-4cbc-bf5c-0e7893e4a102",
   "metadata": {},
   "outputs": [
    {
     "name": "stdout",
     "output_type": "stream",
     "text": [
      "CPU times: user 23min 1s, sys: 30 s, total: 23min 31s\n",
      "Wall time: 3min 51s\n"
     ]
    },
    {
     "data": {
      "text/html": [
       "<pre style=\"white-space:pre;overflow-x:auto;line-height:normal;font-family:Menlo,'DejaVu Sans Mono',consolas,'Courier New',monospace\">┏━━━━━━━━━━━━━━━━━━━┳━━━━━━━━━━━━━━━━━━┳━━━━━━━━━━┳━━━━━━━━━━━━━━━━━━━━┓\n",
       "┃<span style=\"font-weight: bold\"> time_control_type </span>┃<span style=\"font-weight: bold\"> termination      </span>┃<span style=\"font-weight: bold\"> count    </span>┃<span style=\"font-weight: bold\"> average_move_count </span>┃\n",
       "┡━━━━━━━━━━━━━━━━━━━╇━━━━━━━━━━━━━━━━━━╇━━━━━━━━━━╇━━━━━━━━━━━━━━━━━━━━┩\n",
       "│ <span style=\"color: #7f7f7f; text-decoration-color: #7f7f7f\">string</span>            │ <span style=\"color: #7f7f7f; text-decoration-color: #7f7f7f\">string</span>           │ <span style=\"color: #7f7f7f; text-decoration-color: #7f7f7f\">int64</span>    │ <span style=\"color: #7f7f7f; text-decoration-color: #7f7f7f\">float64</span>            │\n",
       "├───────────────────┼──────────────────┼──────────┼────────────────────┤\n",
       "│ <span style=\"color: #008000; text-decoration-color: #008000\">BLITZ            </span> │ <span style=\"color: #008000; text-decoration-color: #008000\">Abandoned       </span> │    <span style=\"color: #008080; text-decoration-color: #008080; font-weight: bold\">81558</span> │           <span style=\"color: #008080; text-decoration-color: #008080; font-weight: bold\">0.660928</span> │\n",
       "│ <span style=\"color: #008000; text-decoration-color: #008000\">BLITZ            </span> │ <span style=\"color: #008000; text-decoration-color: #008000\">Normal          </span> │ <span style=\"color: #008080; text-decoration-color: #008080; font-weight: bold\">44605551</span> │          <span style=\"color: #008080; text-decoration-color: #008080; font-weight: bold\">32.302616</span> │\n",
       "│ <span style=\"color: #008000; text-decoration-color: #008000\">BLITZ            </span> │ <span style=\"color: #008000; text-decoration-color: #008000\">Rules infraction</span> │     <span style=\"color: #008080; text-decoration-color: #008080; font-weight: bold\">1815</span> │          <span style=\"color: #008080; text-decoration-color: #008080; font-weight: bold\">11.239669</span> │\n",
       "│ <span style=\"color: #008000; text-decoration-color: #008000\">BLITZ            </span> │ <span style=\"color: #008000; text-decoration-color: #008000\">Time forfeit    </span> │ <span style=\"color: #008080; text-decoration-color: #008080; font-weight: bold\">13588328</span> │          <span style=\"color: #008080; text-decoration-color: #008080; font-weight: bold\">38.755687</span> │\n",
       "│ <span style=\"color: #008000; text-decoration-color: #008000\">BULLET           </span> │ <span style=\"color: #008000; text-decoration-color: #008000\">Abandoned       </span> │    <span style=\"color: #008080; text-decoration-color: #008080; font-weight: bold\">23508</span> │           <span style=\"color: #008080; text-decoration-color: #008080; font-weight: bold\">0.601263</span> │\n",
       "│ <span style=\"color: #008000; text-decoration-color: #008000\">BULLET           </span> │ <span style=\"color: #008000; text-decoration-color: #008000\">Normal          </span> │ <span style=\"color: #008080; text-decoration-color: #008080; font-weight: bold\">11769972</span> │          <span style=\"color: #008080; text-decoration-color: #008080; font-weight: bold\">28.195978</span> │\n",
       "│ <span style=\"color: #008000; text-decoration-color: #008000\">BULLET           </span> │ <span style=\"color: #008000; text-decoration-color: #008000\">Rules infraction</span> │       <span style=\"color: #008080; text-decoration-color: #008080; font-weight: bold\">22</span> │           <span style=\"color: #008080; text-decoration-color: #008080; font-weight: bold\">9.295455</span> │\n",
       "│ <span style=\"color: #008000; text-decoration-color: #008000\">BULLET           </span> │ <span style=\"color: #008000; text-decoration-color: #008000\">Time forfeit    </span> │ <span style=\"color: #008080; text-decoration-color: #008080; font-weight: bold\">15453256</span> │          <span style=\"color: #008080; text-decoration-color: #008080; font-weight: bold\">35.907746</span> │\n",
       "│ <span style=\"color: #008000; text-decoration-color: #008000\">RAPID            </span> │ <span style=\"color: #008000; text-decoration-color: #008000\">Abandoned       </span> │     <span style=\"color: #008080; text-decoration-color: #008080; font-weight: bold\">3798</span> │           <span style=\"color: #008080; text-decoration-color: #008080; font-weight: bold\">0.714982</span> │\n",
       "│ <span style=\"color: #008000; text-decoration-color: #008000\">RAPID            </span> │ <span style=\"color: #008000; text-decoration-color: #008000\">Normal          </span> │  <span style=\"color: #008080; text-decoration-color: #008080; font-weight: bold\">3154164</span> │          <span style=\"color: #008080; text-decoration-color: #008080; font-weight: bold\">32.358064</span> │\n",
       "│ <span style=\"color: #008000; text-decoration-color: #008000\">RAPID            </span> │ <span style=\"color: #008000; text-decoration-color: #008000\">Rules infraction</span> │      <span style=\"color: #008080; text-decoration-color: #008080; font-weight: bold\">934</span> │          <span style=\"color: #008080; text-decoration-color: #008080; font-weight: bold\">13.432548</span> │\n",
       "│ <span style=\"color: #008000; text-decoration-color: #008000\">RAPID            </span> │ <span style=\"color: #008000; text-decoration-color: #008000\">Time forfeit    </span> │   <span style=\"color: #008080; text-decoration-color: #008080; font-weight: bold\">367117</span> │          <span style=\"color: #008080; text-decoration-color: #008080; font-weight: bold\">27.351633</span> │\n",
       "│ <span style=\"color: #008000; text-decoration-color: #008000\">STANDARD         </span> │ <span style=\"color: #008000; text-decoration-color: #008000\">Abandoned       </span> │       <span style=\"color: #008080; text-decoration-color: #008080; font-weight: bold\">86</span> │           <span style=\"color: #008080; text-decoration-color: #008080; font-weight: bold\">1.017442</span> │\n",
       "│ <span style=\"color: #008000; text-decoration-color: #008000\">STANDARD         </span> │ <span style=\"color: #008000; text-decoration-color: #008000\">Normal          </span> │    <span style=\"color: #008080; text-decoration-color: #008080; font-weight: bold\">33445</span> │          <span style=\"color: #008080; text-decoration-color: #008080; font-weight: bold\">30.091927</span> │\n",
       "│ <span style=\"color: #008000; text-decoration-color: #008000\">STANDARD         </span> │ <span style=\"color: #008000; text-decoration-color: #008000\">Rules infraction</span> │       <span style=\"color: #008080; text-decoration-color: #008080; font-weight: bold\">36</span> │          <span style=\"color: #008080; text-decoration-color: #008080; font-weight: bold\">12.555556</span> │\n",
       "│ <span style=\"color: #008000; text-decoration-color: #008000\">STANDARD         </span> │ <span style=\"color: #008000; text-decoration-color: #008000\">Time forfeit    </span> │     <span style=\"color: #008080; text-decoration-color: #008080; font-weight: bold\">3800</span> │          <span style=\"color: #008080; text-decoration-color: #008080; font-weight: bold\">18.772237</span> │\n",
       "│ <span style=\"color: #008000; text-decoration-color: #008000\">UNLIMITED        </span> │ <span style=\"color: #008000; text-decoration-color: #008000\">Abandoned       </span> │      <span style=\"color: #008080; text-decoration-color: #008080; font-weight: bold\">822</span> │           <span style=\"color: #008080; text-decoration-color: #008080; font-weight: bold\">0.500000</span> │\n",
       "│ <span style=\"color: #008000; text-decoration-color: #008000\">UNLIMITED        </span> │ <span style=\"color: #008000; text-decoration-color: #008000\">Normal          </span> │    <span style=\"color: #008080; text-decoration-color: #008080; font-weight: bold\">45373</span> │          <span style=\"color: #008080; text-decoration-color: #008080; font-weight: bold\">28.907698</span> │\n",
       "│ <span style=\"color: #008000; text-decoration-color: #008000\">UNLIMITED        </span> │ <span style=\"color: #008000; text-decoration-color: #008000\">Rules infraction</span> │      <span style=\"color: #008080; text-decoration-color: #008080; font-weight: bold\">102</span> │          <span style=\"color: #008080; text-decoration-color: #008080; font-weight: bold\">15.053922</span> │\n",
       "│ <span style=\"color: #008000; text-decoration-color: #008000\">UNLIMITED        </span> │ <span style=\"color: #008000; text-decoration-color: #008000\">Time forfeit    </span> │    <span style=\"color: #008080; text-decoration-color: #008080; font-weight: bold\">18307</span> │           <span style=\"color: #008080; text-decoration-color: #008080; font-weight: bold\">7.755886</span> │\n",
       "│ <span style=\"color: #008000; text-decoration-color: #008000\">UNLIMITED        </span> │ <span style=\"color: #008000; text-decoration-color: #008000\">Unterminated    </span> │    <span style=\"color: #008080; text-decoration-color: #008080; font-weight: bold\">14472</span> │          <span style=\"color: #008080; text-decoration-color: #008080; font-weight: bold\">17.231032</span> │\n",
       "└───────────────────┴──────────────────┴──────────┴────────────────────┘\n",
       "</pre>\n"
      ],
      "text/plain": [
       "┏━━━━━━━━━━━━━━━━━━━┳━━━━━━━━━━━━━━━━━━┳━━━━━━━━━━┳━━━━━━━━━━━━━━━━━━━━┓\n",
       "┃\u001b[1m \u001b[0m\u001b[1mtime_control_type\u001b[0m\u001b[1m \u001b[0m┃\u001b[1m \u001b[0m\u001b[1mtermination\u001b[0m\u001b[1m     \u001b[0m\u001b[1m \u001b[0m┃\u001b[1m \u001b[0m\u001b[1mcount\u001b[0m\u001b[1m   \u001b[0m\u001b[1m \u001b[0m┃\u001b[1m \u001b[0m\u001b[1maverage_move_count\u001b[0m\u001b[1m \u001b[0m┃\n",
       "┡━━━━━━━━━━━━━━━━━━━╇━━━━━━━━━━━━━━━━━━╇━━━━━━━━━━╇━━━━━━━━━━━━━━━━━━━━┩\n",
       "│ \u001b[2mstring\u001b[0m            │ \u001b[2mstring\u001b[0m           │ \u001b[2mint64\u001b[0m    │ \u001b[2mfloat64\u001b[0m            │\n",
       "├───────────────────┼──────────────────┼──────────┼────────────────────┤\n",
       "│ \u001b[32mBLITZ            \u001b[0m │ \u001b[32mAbandoned       \u001b[0m │    \u001b[1;36m81558\u001b[0m │           \u001b[1;36m0.660928\u001b[0m │\n",
       "│ \u001b[32mBLITZ            \u001b[0m │ \u001b[32mNormal          \u001b[0m │ \u001b[1;36m44605551\u001b[0m │          \u001b[1;36m32.302616\u001b[0m │\n",
       "│ \u001b[32mBLITZ            \u001b[0m │ \u001b[32mRules infraction\u001b[0m │     \u001b[1;36m1815\u001b[0m │          \u001b[1;36m11.239669\u001b[0m │\n",
       "│ \u001b[32mBLITZ            \u001b[0m │ \u001b[32mTime forfeit    \u001b[0m │ \u001b[1;36m13588328\u001b[0m │          \u001b[1;36m38.755687\u001b[0m │\n",
       "│ \u001b[32mBULLET           \u001b[0m │ \u001b[32mAbandoned       \u001b[0m │    \u001b[1;36m23508\u001b[0m │           \u001b[1;36m0.601263\u001b[0m │\n",
       "│ \u001b[32mBULLET           \u001b[0m │ \u001b[32mNormal          \u001b[0m │ \u001b[1;36m11769972\u001b[0m │          \u001b[1;36m28.195978\u001b[0m │\n",
       "│ \u001b[32mBULLET           \u001b[0m │ \u001b[32mRules infraction\u001b[0m │       \u001b[1;36m22\u001b[0m │           \u001b[1;36m9.295455\u001b[0m │\n",
       "│ \u001b[32mBULLET           \u001b[0m │ \u001b[32mTime forfeit    \u001b[0m │ \u001b[1;36m15453256\u001b[0m │          \u001b[1;36m35.907746\u001b[0m │\n",
       "│ \u001b[32mRAPID            \u001b[0m │ \u001b[32mAbandoned       \u001b[0m │     \u001b[1;36m3798\u001b[0m │           \u001b[1;36m0.714982\u001b[0m │\n",
       "│ \u001b[32mRAPID            \u001b[0m │ \u001b[32mNormal          \u001b[0m │  \u001b[1;36m3154164\u001b[0m │          \u001b[1;36m32.358064\u001b[0m │\n",
       "│ \u001b[32mRAPID            \u001b[0m │ \u001b[32mRules infraction\u001b[0m │      \u001b[1;36m934\u001b[0m │          \u001b[1;36m13.432548\u001b[0m │\n",
       "│ \u001b[32mRAPID            \u001b[0m │ \u001b[32mTime forfeit    \u001b[0m │   \u001b[1;36m367117\u001b[0m │          \u001b[1;36m27.351633\u001b[0m │\n",
       "│ \u001b[32mSTANDARD         \u001b[0m │ \u001b[32mAbandoned       \u001b[0m │       \u001b[1;36m86\u001b[0m │           \u001b[1;36m1.017442\u001b[0m │\n",
       "│ \u001b[32mSTANDARD         \u001b[0m │ \u001b[32mNormal          \u001b[0m │    \u001b[1;36m33445\u001b[0m │          \u001b[1;36m30.091927\u001b[0m │\n",
       "│ \u001b[32mSTANDARD         \u001b[0m │ \u001b[32mRules infraction\u001b[0m │       \u001b[1;36m36\u001b[0m │          \u001b[1;36m12.555556\u001b[0m │\n",
       "│ \u001b[32mSTANDARD         \u001b[0m │ \u001b[32mTime forfeit    \u001b[0m │     \u001b[1;36m3800\u001b[0m │          \u001b[1;36m18.772237\u001b[0m │\n",
       "│ \u001b[32mUNLIMITED        \u001b[0m │ \u001b[32mAbandoned       \u001b[0m │      \u001b[1;36m822\u001b[0m │           \u001b[1;36m0.500000\u001b[0m │\n",
       "│ \u001b[32mUNLIMITED        \u001b[0m │ \u001b[32mNormal          \u001b[0m │    \u001b[1;36m45373\u001b[0m │          \u001b[1;36m28.907698\u001b[0m │\n",
       "│ \u001b[32mUNLIMITED        \u001b[0m │ \u001b[32mRules infraction\u001b[0m │      \u001b[1;36m102\u001b[0m │          \u001b[1;36m15.053922\u001b[0m │\n",
       "│ \u001b[32mUNLIMITED        \u001b[0m │ \u001b[32mTime forfeit    \u001b[0m │    \u001b[1;36m18307\u001b[0m │           \u001b[1;36m7.755886\u001b[0m │\n",
       "│ \u001b[32mUNLIMITED        \u001b[0m │ \u001b[32mUnterminated    \u001b[0m │    \u001b[1;36m14472\u001b[0m │          \u001b[1;36m17.231032\u001b[0m │\n",
       "└───────────────────┴──────────────────┴──────────┴────────────────────┘\n"
      ]
     },
     "execution_count": 19,
     "metadata": {},
     "output_type": "execute_result"
    }
   ],
   "source": [
    "%%time\n",
    "moves_with_parsed_time_control = moves.mutate(**parse_time_control(moves.time_control))\n",
    "moves_with_parsed_time_control.group_by(moves_with_parsed_time_control.site).agg(\n",
    "    move_count=_.count(),\n",
    "    time_control_type=_.time_control_type.arbitrary(),\n",
    "    termination=_.termination.arbitrary(),\n",
    ").group_by([\"time_control_type\", \"termination\"]).agg(\n",
    "    count=_.count(), average_move_count=_.move_count.mean() / 2\n",
    ").order_by(\n",
    "    [\"time_control_type\", \"termination\"]\n",
    ").preview(\n",
    "    max_rows=25\n",
    ")"
   ]
  },
  {
   "cell_type": "markdown",
   "id": "a72d67f5-c65f-47c3-a29b-9e15146f0de1",
   "metadata": {},
   "source": [
    "The most common value for both `white_elo` and `black_elo` is `1500`, because that's the starting Lichess rating. It's probably worth excluding it, or treating it separately, for most purposes."
   ]
  },
  {
   "cell_type": "code",
   "execution_count": 39,
   "id": "3b4e80b6-e689-4441-a7b0-9f85fd5f2197",
   "metadata": {},
   "outputs": [
    {
     "name": "stdout",
     "output_type": "stream",
     "text": [
      "CPU times: user 2min 59s, sys: 5.75 s, total: 3min 5s\n",
      "Wall time: 28.7 s\n"
     ]
    },
    {
     "data": {
      "text/html": [
       "<pre style=\"white-space:pre;overflow-x:auto;line-height:normal;font-family:Menlo,'DejaVu Sans Mono',consolas,'Courier New',monospace\">┏━━━━━━━━━━━┳━━━━━━━┳━━━━━━━━┳━━━━━━━━━━┳━━━━━━━┳━━━━━━━━┳━━━━━━━━┓\n",
       "┃<span style=\"font-weight: bold\"> name      </span>┃<span style=\"font-weight: bold\"> pos   </span>┃<span style=\"font-weight: bold\"> type   </span>┃<span style=\"font-weight: bold\"> count    </span>┃<span style=\"font-weight: bold\"> nulls </span>┃<span style=\"font-weight: bold\"> unique </span>┃<span style=\"font-weight: bold\"> mode   </span>┃\n",
       "┡━━━━━━━━━━━╇━━━━━━━╇━━━━━━━━╇━━━━━━━━━━╇━━━━━━━╇━━━━━━━━╇━━━━━━━━┩\n",
       "│ <span style=\"color: #7f7f7f; text-decoration-color: #7f7f7f\">string</span>    │ <span style=\"color: #7f7f7f; text-decoration-color: #7f7f7f\">int16</span> │ <span style=\"color: #7f7f7f; text-decoration-color: #7f7f7f\">string</span> │ <span style=\"color: #7f7f7f; text-decoration-color: #7f7f7f\">int64</span>    │ <span style=\"color: #7f7f7f; text-decoration-color: #7f7f7f\">int64</span> │ <span style=\"color: #7f7f7f; text-decoration-color: #7f7f7f\">int64</span>  │ <span style=\"color: #7f7f7f; text-decoration-color: #7f7f7f\">string</span> │\n",
       "├───────────┼───────┼────────┼──────────┼───────┼────────┼────────┤\n",
       "│ <span style=\"color: #008000; text-decoration-color: #008000\">white_elo</span> │     <span style=\"color: #008080; text-decoration-color: #008080; font-weight: bold\">0</span> │ <span style=\"color: #008000; text-decoration-color: #008000\">string</span> │ <span style=\"color: #008080; text-decoration-color: #008080; font-weight: bold\">89166466</span> │     <span style=\"color: #008080; text-decoration-color: #008080; font-weight: bold\">0</span> │   <span style=\"color: #008080; text-decoration-color: #008080; font-weight: bold\">3075</span> │ <span style=\"color: #008000; text-decoration-color: #008000\">1500  </span> │\n",
       "│ <span style=\"color: #008000; text-decoration-color: #008000\">black_elo</span> │     <span style=\"color: #008080; text-decoration-color: #008080; font-weight: bold\">1</span> │ <span style=\"color: #008000; text-decoration-color: #008000\">string</span> │ <span style=\"color: #008080; text-decoration-color: #008080; font-weight: bold\">89166466</span> │     <span style=\"color: #008080; text-decoration-color: #008080; font-weight: bold\">0</span> │   <span style=\"color: #008080; text-decoration-color: #008080; font-weight: bold\">2974</span> │ <span style=\"color: #008000; text-decoration-color: #008000\">1500  </span> │\n",
       "└───────────┴───────┴────────┴──────────┴───────┴────────┴────────┘\n",
       "</pre>\n"
      ],
      "text/plain": [
       "┏━━━━━━━━━━━┳━━━━━━━┳━━━━━━━━┳━━━━━━━━━━┳━━━━━━━┳━━━━━━━━┳━━━━━━━━┓\n",
       "┃\u001b[1m \u001b[0m\u001b[1mname\u001b[0m\u001b[1m     \u001b[0m\u001b[1m \u001b[0m┃\u001b[1m \u001b[0m\u001b[1mpos\u001b[0m\u001b[1m  \u001b[0m\u001b[1m \u001b[0m┃\u001b[1m \u001b[0m\u001b[1mtype\u001b[0m\u001b[1m  \u001b[0m\u001b[1m \u001b[0m┃\u001b[1m \u001b[0m\u001b[1mcount\u001b[0m\u001b[1m   \u001b[0m\u001b[1m \u001b[0m┃\u001b[1m \u001b[0m\u001b[1mnulls\u001b[0m\u001b[1m \u001b[0m┃\u001b[1m \u001b[0m\u001b[1munique\u001b[0m\u001b[1m \u001b[0m┃\u001b[1m \u001b[0m\u001b[1mmode\u001b[0m\u001b[1m  \u001b[0m\u001b[1m \u001b[0m┃\n",
       "┡━━━━━━━━━━━╇━━━━━━━╇━━━━━━━━╇━━━━━━━━━━╇━━━━━━━╇━━━━━━━━╇━━━━━━━━┩\n",
       "│ \u001b[2mstring\u001b[0m    │ \u001b[2mint16\u001b[0m │ \u001b[2mstring\u001b[0m │ \u001b[2mint64\u001b[0m    │ \u001b[2mint64\u001b[0m │ \u001b[2mint64\u001b[0m  │ \u001b[2mstring\u001b[0m │\n",
       "├───────────┼───────┼────────┼──────────┼───────┼────────┼────────┤\n",
       "│ \u001b[32mwhite_elo\u001b[0m │     \u001b[1;36m0\u001b[0m │ \u001b[32mstring\u001b[0m │ \u001b[1;36m89166466\u001b[0m │     \u001b[1;36m0\u001b[0m │   \u001b[1;36m3075\u001b[0m │ \u001b[32m1500  \u001b[0m │\n",
       "│ \u001b[32mblack_elo\u001b[0m │     \u001b[1;36m1\u001b[0m │ \u001b[32mstring\u001b[0m │ \u001b[1;36m89166466\u001b[0m │     \u001b[1;36m0\u001b[0m │   \u001b[1;36m2974\u001b[0m │ \u001b[32m1500  \u001b[0m │\n",
       "└───────────┴───────┴────────┴──────────┴───────┴────────┴────────┘\n"
      ]
     },
     "execution_count": 39,
     "metadata": {},
     "output_type": "execute_result"
    }
   ],
   "source": [
    "%%time\n",
    "games[\"white_elo\", \"black_elo\"].describe().preview()"
   ]
  },
  {
   "cell_type": "markdown",
   "id": "705f85b6-b844-4603-9c05-a27601f04c72",
   "metadata": {},
   "source": [
    "It also looks like Lichess has a minimum Elo rating of `400`; some online sleuthing shows that this bar may have been lowered over the years."
   ]
  },
  {
   "cell_type": "code",
   "execution_count": 40,
   "id": "fe105e75-3fc1-401e-a18f-68ee1e965992",
   "metadata": {},
   "outputs": [
    {
     "name": "stdout",
     "output_type": "stream",
     "text": [
      "CPU times: user 3min 12s, sys: 14.5 s, total: 3min 27s\n",
      "Wall time: 41.6 s\n"
     ]
    },
    {
     "data": {
      "text/html": [
       "<pre style=\"white-space:pre;overflow-x:auto;line-height:normal;font-family:Menlo,'DejaVu Sans Mono',consolas,'Courier New',monospace\">┏━━━━━━━━━┳━━━━━┳━━━━━━━┳━━━━━━━━┳━━━━━━┳━━━━━━┳━━━━━━━━━━━━┳━━━━━━━━━━┳━━━━━━━━┳━━━━━━━┳━━━━━━━━┳━━━━━━━┳━━━━━━━━┓\n",
       "┃<span style=\"font-weight: bold\"> name    </span>┃<span style=\"font-weight: bold\"> pos </span>┃<span style=\"font-weight: bold\"> type  </span>┃<span style=\"font-weight: bold\"> count  </span>┃<span style=\"font-weight: bold\"> nul… </span>┃<span style=\"font-weight: bold\"> uni… </span>┃<span style=\"font-weight: bold\"> mean       </span>┃<span style=\"font-weight: bold\"> std      </span>┃<span style=\"font-weight: bold\"> min    </span>┃<span style=\"font-weight: bold\"> p25   </span>┃<span style=\"font-weight: bold\"> p50    </span>┃<span style=\"font-weight: bold\"> p75   </span>┃<span style=\"font-weight: bold\"> max    </span>┃\n",
       "┡━━━━━━━━━╇━━━━━╇━━━━━━━╇━━━━━━━━╇━━━━━━╇━━━━━━╇━━━━━━━━━━━━╇━━━━━━━━━━╇━━━━━━━━╇━━━━━━━╇━━━━━━━━╇━━━━━━━╇━━━━━━━━┩\n",
       "│ <span style=\"color: #7f7f7f; text-decoration-color: #7f7f7f\">string</span>  │ <span style=\"color: #7f7f7f; text-decoration-color: #7f7f7f\">in…</span> │ <span style=\"color: #7f7f7f; text-decoration-color: #7f7f7f\">stri…</span> │ <span style=\"color: #7f7f7f; text-decoration-color: #7f7f7f\">int64</span>  │ <span style=\"color: #7f7f7f; text-decoration-color: #7f7f7f\">int…</span> │ <span style=\"color: #7f7f7f; text-decoration-color: #7f7f7f\">int…</span> │ <span style=\"color: #7f7f7f; text-decoration-color: #7f7f7f\">float64</span>    │ <span style=\"color: #7f7f7f; text-decoration-color: #7f7f7f\">float64</span>  │ <span style=\"color: #7f7f7f; text-decoration-color: #7f7f7f\">float…</span> │ <span style=\"color: #7f7f7f; text-decoration-color: #7f7f7f\">floa…</span> │ <span style=\"color: #7f7f7f; text-decoration-color: #7f7f7f\">float…</span> │ <span style=\"color: #7f7f7f; text-decoration-color: #7f7f7f\">floa…</span> │ <span style=\"color: #7f7f7f; text-decoration-color: #7f7f7f\">float…</span> │\n",
       "├─────────┼─────┼───────┼────────┼──────┼──────┼────────────┼──────────┼────────┼───────┼────────┼───────┼────────┤\n",
       "│ <span style=\"color: #008000; text-decoration-color: #008000\">white_…</span> │   <span style=\"color: #008080; text-decoration-color: #008080; font-weight: bold\">0</span> │ <span style=\"color: #008000; text-decoration-color: #008000\">int64</span> │ <span style=\"color: #008080; text-decoration-color: #008080; font-weight: bold\">89166…</span> │    <span style=\"color: #008080; text-decoration-color: #008080; font-weight: bold\">0</span> │ <span style=\"color: #008080; text-decoration-color: #008080; font-weight: bold\">3075</span> │ <span style=\"color: #008080; text-decoration-color: #008080; font-weight: bold\">1653.8320…</span> │ <span style=\"color: #008080; text-decoration-color: #008080; font-weight: bold\">387.843…</span> │  <span style=\"color: #008080; text-decoration-color: #008080; font-weight: bold\">400.0</span> │ <span style=\"color: #008080; text-decoration-color: #008080; font-weight: bold\">1385…</span> │ <span style=\"color: #008080; text-decoration-color: #008080; font-weight: bold\">1667.0</span> │ <span style=\"color: #008080; text-decoration-color: #008080; font-weight: bold\">1925…</span> │ <span style=\"color: #008080; text-decoration-color: #008080; font-weight: bold\">3612.0</span> │\n",
       "│ <span style=\"color: #008000; text-decoration-color: #008000\">black_…</span> │   <span style=\"color: #008080; text-decoration-color: #008080; font-weight: bold\">1</span> │ <span style=\"color: #008000; text-decoration-color: #008000\">int64</span> │ <span style=\"color: #008080; text-decoration-color: #008080; font-weight: bold\">89166…</span> │    <span style=\"color: #008080; text-decoration-color: #008080; font-weight: bold\">0</span> │ <span style=\"color: #008080; text-decoration-color: #008080; font-weight: bold\">2974</span> │ <span style=\"color: #008080; text-decoration-color: #008080; font-weight: bold\">1653.6534…</span> │ <span style=\"color: #008080; text-decoration-color: #008080; font-weight: bold\">387.973…</span> │  <span style=\"color: #008080; text-decoration-color: #008080; font-weight: bold\">400.0</span> │ <span style=\"color: #008080; text-decoration-color: #008080; font-weight: bold\">1384…</span> │ <span style=\"color: #008080; text-decoration-color: #008080; font-weight: bold\">1667.0</span> │ <span style=\"color: #008080; text-decoration-color: #008080; font-weight: bold\">1925…</span> │ <span style=\"color: #008080; text-decoration-color: #008080; font-weight: bold\">3591.0</span> │\n",
       "└─────────┴─────┴───────┴────────┴──────┴──────┴────────────┴──────────┴────────┴───────┴────────┴───────┴────────┘\n",
       "</pre>\n"
      ],
      "text/plain": [
       "┏━━━━━━━━━┳━━━━━┳━━━━━━━┳━━━━━━━━┳━━━━━━┳━━━━━━┳━━━━━━━━━━━━┳━━━━━━━━━━┳━━━━━━━━┳━━━━━━━┳━━━━━━━━┳━━━━━━━┳━━━━━━━━┓\n",
       "┃\u001b[1m \u001b[0m\u001b[1mname\u001b[0m\u001b[1m   \u001b[0m\u001b[1m \u001b[0m┃\u001b[1m \u001b[0m\u001b[1mpos\u001b[0m\u001b[1m \u001b[0m┃\u001b[1m \u001b[0m\u001b[1mtype\u001b[0m\u001b[1m \u001b[0m\u001b[1m \u001b[0m┃\u001b[1m \u001b[0m\u001b[1mcount\u001b[0m\u001b[1m \u001b[0m\u001b[1m \u001b[0m┃\u001b[1m \u001b[0m\u001b[1mnul…\u001b[0m\u001b[1m \u001b[0m┃\u001b[1m \u001b[0m\u001b[1muni…\u001b[0m\u001b[1m \u001b[0m┃\u001b[1m \u001b[0m\u001b[1mmean\u001b[0m\u001b[1m      \u001b[0m\u001b[1m \u001b[0m┃\u001b[1m \u001b[0m\u001b[1mstd\u001b[0m\u001b[1m     \u001b[0m\u001b[1m \u001b[0m┃\u001b[1m \u001b[0m\u001b[1mmin\u001b[0m\u001b[1m   \u001b[0m\u001b[1m \u001b[0m┃\u001b[1m \u001b[0m\u001b[1mp25\u001b[0m\u001b[1m  \u001b[0m\u001b[1m \u001b[0m┃\u001b[1m \u001b[0m\u001b[1mp50\u001b[0m\u001b[1m   \u001b[0m\u001b[1m \u001b[0m┃\u001b[1m \u001b[0m\u001b[1mp75\u001b[0m\u001b[1m  \u001b[0m\u001b[1m \u001b[0m┃\u001b[1m \u001b[0m\u001b[1mmax\u001b[0m\u001b[1m   \u001b[0m\u001b[1m \u001b[0m┃\n",
       "┡━━━━━━━━━╇━━━━━╇━━━━━━━╇━━━━━━━━╇━━━━━━╇━━━━━━╇━━━━━━━━━━━━╇━━━━━━━━━━╇━━━━━━━━╇━━━━━━━╇━━━━━━━━╇━━━━━━━╇━━━━━━━━┩\n",
       "│ \u001b[2mstring\u001b[0m  │ \u001b[2min…\u001b[0m │ \u001b[2mstri…\u001b[0m │ \u001b[2mint64\u001b[0m  │ \u001b[2mint…\u001b[0m │ \u001b[2mint…\u001b[0m │ \u001b[2mfloat64\u001b[0m    │ \u001b[2mfloat64\u001b[0m  │ \u001b[2mfloat…\u001b[0m │ \u001b[2mfloa…\u001b[0m │ \u001b[2mfloat…\u001b[0m │ \u001b[2mfloa…\u001b[0m │ \u001b[2mfloat…\u001b[0m │\n",
       "├─────────┼─────┼───────┼────────┼──────┼──────┼────────────┼──────────┼────────┼───────┼────────┼───────┼────────┤\n",
       "│ \u001b[32mwhite_…\u001b[0m │   \u001b[1;36m0\u001b[0m │ \u001b[32mint64\u001b[0m │ \u001b[1;36m89166…\u001b[0m │    \u001b[1;36m0\u001b[0m │ \u001b[1;36m3075\u001b[0m │ \u001b[1;36m1653.8320…\u001b[0m │ \u001b[1;36m387.843…\u001b[0m │  \u001b[1;36m400.0\u001b[0m │ \u001b[1;36m1385…\u001b[0m │ \u001b[1;36m1667.0\u001b[0m │ \u001b[1;36m1925…\u001b[0m │ \u001b[1;36m3612.0\u001b[0m │\n",
       "│ \u001b[32mblack_…\u001b[0m │   \u001b[1;36m1\u001b[0m │ \u001b[32mint64\u001b[0m │ \u001b[1;36m89166…\u001b[0m │    \u001b[1;36m0\u001b[0m │ \u001b[1;36m2974\u001b[0m │ \u001b[1;36m1653.6534…\u001b[0m │ \u001b[1;36m387.973…\u001b[0m │  \u001b[1;36m400.0\u001b[0m │ \u001b[1;36m1384…\u001b[0m │ \u001b[1;36m1667.0\u001b[0m │ \u001b[1;36m1925…\u001b[0m │ \u001b[1;36m3591.0\u001b[0m │\n",
       "└─────────┴─────┴───────┴────────┴──────┴──────┴────────────┴──────────┴────────┴───────┴────────┴───────┴────────┘\n"
      ]
     },
     "execution_count": 40,
     "metadata": {},
     "output_type": "execute_result"
    }
   ],
   "source": [
    "%%time\n",
    "elo_columns = [\"white_elo\", \"black_elo\"]\n",
    "games[elo_columns].cast(dict.fromkeys(elo_columns, int)).describe().preview()"
   ]
  },
  {
   "cell_type": "markdown",
   "id": "cd542a7a-e831-4dd1-b15f-536e143c86cf",
   "metadata": {},
   "source": [
    "It does seem that the average game gets progressively longer as we rise through the ranks. This may be the high-level answer we were looking for."
   ]
  },
  {
   "cell_type": "code",
   "execution_count": 32,
   "id": "1d08fdf8-634d-4c68-9665-972b9ec7d9ff",
   "metadata": {},
   "outputs": [
    {
     "name": "stdout",
     "output_type": "stream",
     "text": [
      "CPU times: user 11min 39s, sys: 27.5 s, total: 12min 7s\n",
      "Wall time: 2min 32s\n"
     ]
    },
    {
     "data": {
      "text/html": [
       "<pre style=\"white-space:pre;overflow-x:auto;line-height:normal;font-family:Menlo,'DejaVu Sans Mono',consolas,'Courier New',monospace\">┏━━━━━━━━━━━━━┳━━━━━━━━━━━━━━━━━━┳━━━━━━━━━━┳━━━━━━━━━━━━━━━━━━━━┓\n",
       "┃<span style=\"font-weight: bold\"> elo_bracket </span>┃<span style=\"font-weight: bold\"> termination      </span>┃<span style=\"font-weight: bold\"> count    </span>┃<span style=\"font-weight: bold\"> average_move_count </span>┃\n",
       "┡━━━━━━━━━━━━━╇━━━━━━━━━━━━━━━━━━╇━━━━━━━━━━╇━━━━━━━━━━━━━━━━━━━━┩\n",
       "│ <span style=\"color: #7f7f7f; text-decoration-color: #7f7f7f\">string</span>      │ <span style=\"color: #7f7f7f; text-decoration-color: #7f7f7f\">string</span>           │ <span style=\"color: #7f7f7f; text-decoration-color: #7f7f7f\">int64</span>    │ <span style=\"color: #7f7f7f; text-decoration-color: #7f7f7f\">float64</span>            │\n",
       "├─────────────┼──────────────────┼──────────┼────────────────────┤\n",
       "│ <span style=\"color: #008000; text-decoration-color: #008000\">-0499      </span> │ <span style=\"color: #008000; text-decoration-color: #008000\">Abandoned       </span> │      <span style=\"color: #008080; text-decoration-color: #008080; font-weight: bold\">201</span> │           <span style=\"color: #008080; text-decoration-color: #008080; font-weight: bold\">0.519900</span> │\n",
       "│ <span style=\"color: #008000; text-decoration-color: #008000\">-0499      </span> │ <span style=\"color: #008000; text-decoration-color: #008000\">Normal          </span> │    <span style=\"color: #008080; text-decoration-color: #008080; font-weight: bold\">17192</span> │          <span style=\"color: #008080; text-decoration-color: #008080; font-weight: bold\">25.399226</span> │\n",
       "│ <span style=\"color: #008000; text-decoration-color: #008000\">-0499      </span> │ <span style=\"color: #008000; text-decoration-color: #008000\">Rules infraction</span> │        <span style=\"color: #008080; text-decoration-color: #008080; font-weight: bold\">6</span> │           <span style=\"color: #008080; text-decoration-color: #008080; font-weight: bold\">7.666667</span> │\n",
       "│ <span style=\"color: #008000; text-decoration-color: #008000\">-0499      </span> │ <span style=\"color: #008000; text-decoration-color: #008000\">Time forfeit    </span> │     <span style=\"color: #008080; text-decoration-color: #008080; font-weight: bold\">7271</span> │          <span style=\"color: #008080; text-decoration-color: #008080; font-weight: bold\">21.199147</span> │\n",
       "│ <span style=\"color: #008000; text-decoration-color: #008000\">0500-0999  </span> │ <span style=\"color: #008000; text-decoration-color: #008000\">Abandoned       </span> │     <span style=\"color: #008080; text-decoration-color: #008080; font-weight: bold\">7003</span> │           <span style=\"color: #008080; text-decoration-color: #008080; font-weight: bold\">0.619235</span> │\n",
       "│ <span style=\"color: #008000; text-decoration-color: #008000\">0500-0999  </span> │ <span style=\"color: #008000; text-decoration-color: #008000\">Normal          </span> │  <span style=\"color: #008080; text-decoration-color: #008080; font-weight: bold\">2969918</span> │          <span style=\"color: #008080; text-decoration-color: #008080; font-weight: bold\">26.215259</span> │\n",
       "│ <span style=\"color: #008000; text-decoration-color: #008000\">0500-0999  </span> │ <span style=\"color: #008000; text-decoration-color: #008000\">Rules infraction</span> │      <span style=\"color: #008080; text-decoration-color: #008080; font-weight: bold\">295</span> │          <span style=\"color: #008080; text-decoration-color: #008080; font-weight: bold\">10.364407</span> │\n",
       "│ <span style=\"color: #008000; text-decoration-color: #008000\">0500-0999  </span> │ <span style=\"color: #008000; text-decoration-color: #008000\">Time forfeit    </span> │  <span style=\"color: #008080; text-decoration-color: #008080; font-weight: bold\">1463014</span> │          <span style=\"color: #008080; text-decoration-color: #008080; font-weight: bold\">26.477060</span> │\n",
       "│ <span style=\"color: #008000; text-decoration-color: #008000\">0500-0999  </span> │ <span style=\"color: #008000; text-decoration-color: #008000\">Unterminated    </span> │       <span style=\"color: #008080; text-decoration-color: #008080; font-weight: bold\">15</span> │           <span style=\"color: #008080; text-decoration-color: #008080; font-weight: bold\">7.566667</span> │\n",
       "│ <span style=\"color: #008000; text-decoration-color: #008000\">1000-1499  </span> │ <span style=\"color: #008000; text-decoration-color: #008000\">Abandoned       </span> │    <span style=\"color: #008080; text-decoration-color: #008080; font-weight: bold\">29776</span> │           <span style=\"color: #008080; text-decoration-color: #008080; font-weight: bold\">0.640617</span> │\n",
       "│ <span style=\"color: #008000; text-decoration-color: #008000\">1000-1499  </span> │ <span style=\"color: #008000; text-decoration-color: #008000\">Normal          </span> │ <span style=\"color: #008080; text-decoration-color: #008080; font-weight: bold\">17674320</span> │          <span style=\"color: #008080; text-decoration-color: #008080; font-weight: bold\">29.615599</span> │\n",
       "│ <span style=\"color: #008000; text-decoration-color: #008000\">1000-1499  </span> │ <span style=\"color: #008000; text-decoration-color: #008000\">Rules infraction</span> │     <span style=\"color: #008080; text-decoration-color: #008080; font-weight: bold\">1080</span> │          <span style=\"color: #008080; text-decoration-color: #008080; font-weight: bold\">11.641204</span> │\n",
       "│ <span style=\"color: #008000; text-decoration-color: #008000\">1000-1499  </span> │ <span style=\"color: #008000; text-decoration-color: #008000\">Time forfeit    </span> │  <span style=\"color: #008080; text-decoration-color: #008080; font-weight: bold\">8175853</span> │          <span style=\"color: #008080; text-decoration-color: #008080; font-weight: bold\">32.559713</span> │\n",
       "│ <span style=\"color: #008000; text-decoration-color: #008000\">1000-1499  </span> │ <span style=\"color: #008000; text-decoration-color: #008000\">Unterminated    </span> │      <span style=\"color: #008080; text-decoration-color: #008080; font-weight: bold\">923</span> │          <span style=\"color: #008080; text-decoration-color: #008080; font-weight: bold\">13.337486</span> │\n",
       "│ <span style=\"color: #008000; text-decoration-color: #008000\">1500-1999  </span> │ <span style=\"color: #008000; text-decoration-color: #008000\">Abandoned       </span> │    <span style=\"color: #008080; text-decoration-color: #008080; font-weight: bold\">54906</span> │           <span style=\"color: #008080; text-decoration-color: #008080; font-weight: bold\">0.643928</span> │\n",
       "│ <span style=\"color: #008000; text-decoration-color: #008000\">1500-1999  </span> │ <span style=\"color: #008000; text-decoration-color: #008000\">Normal          </span> │ <span style=\"color: #008080; text-decoration-color: #008080; font-weight: bold\">27874037</span> │          <span style=\"color: #008080; text-decoration-color: #008080; font-weight: bold\">32.307252</span> │\n",
       "│ <span style=\"color: #008000; text-decoration-color: #008000\">1500-1999  </span> │ <span style=\"color: #008000; text-decoration-color: #008000\">Rules infraction</span> │      <span style=\"color: #008080; text-decoration-color: #008080; font-weight: bold\">935</span> │          <span style=\"color: #008080; text-decoration-color: #008080; font-weight: bold\">13.454011</span> │\n",
       "│ <span style=\"color: #008000; text-decoration-color: #008000\">1500-1999  </span> │ <span style=\"color: #008000; text-decoration-color: #008000\">Time forfeit    </span> │ <span style=\"color: #008080; text-decoration-color: #008080; font-weight: bold\">13471173</span> │          <span style=\"color: #008080; text-decoration-color: #008080; font-weight: bold\">38.344237</span> │\n",
       "│ <span style=\"color: #008000; text-decoration-color: #008000\">1500-1999  </span> │ <span style=\"color: #008000; text-decoration-color: #008000\">Unterminated    </span> │     <span style=\"color: #008080; text-decoration-color: #008080; font-weight: bold\">7496</span> │          <span style=\"color: #008080; text-decoration-color: #008080; font-weight: bold\">18.396612</span> │\n",
       "│ <span style=\"color: #008000; text-decoration-color: #008000\">2000-2499  </span> │ <span style=\"color: #008000; text-decoration-color: #008000\">Abandoned       </span> │    <span style=\"color: #008080; text-decoration-color: #008080; font-weight: bold\">15834</span> │           <span style=\"color: #008080; text-decoration-color: #008080; font-weight: bold\">0.681224</span> │\n",
       "│ <span style=\"color: #008000; text-decoration-color: #008000\">2000-2499  </span> │ <span style=\"color: #008000; text-decoration-color: #008000\">Normal          </span> │  <span style=\"color: #008080; text-decoration-color: #008080; font-weight: bold\">9940655</span> │          <span style=\"color: #008080; text-decoration-color: #008080; font-weight: bold\">33.837046</span> │\n",
       "│ <span style=\"color: #008000; text-decoration-color: #008000\">2000-2499  </span> │ <span style=\"color: #008000; text-decoration-color: #008000\">Rules infraction</span> │      <span style=\"color: #008080; text-decoration-color: #008080; font-weight: bold\">238</span> │          <span style=\"color: #008080; text-decoration-color: #008080; font-weight: bold\">13.315126</span> │\n",
       "│ <span style=\"color: #008000; text-decoration-color: #008000\">2000-2499  </span> │ <span style=\"color: #008000; text-decoration-color: #008000\">Time forfeit    </span> │  <span style=\"color: #008080; text-decoration-color: #008080; font-weight: bold\">5767211</span> │          <span style=\"color: #008080; text-decoration-color: #008080; font-weight: bold\">42.811897</span> │\n",
       "│ <span style=\"color: #008000; text-decoration-color: #008000\">2000-2499  </span> │ <span style=\"color: #008000; text-decoration-color: #008000\">Unterminated    </span> │     <span style=\"color: #008080; text-decoration-color: #008080; font-weight: bold\">4153</span> │          <span style=\"color: #008080; text-decoration-color: #008080; font-weight: bold\">19.174573</span> │\n",
       "│ <span style=\"color: #008000; text-decoration-color: #008000\">2500-2999  </span> │ <span style=\"color: #008000; text-decoration-color: #008000\">Abandoned       </span> │      <span style=\"color: #008080; text-decoration-color: #008080; font-weight: bold\">354</span> │           <span style=\"color: #008080; text-decoration-color: #008080; font-weight: bold\">0.877119</span> │\n",
       "│ <span style=\"color: #008000; text-decoration-color: #008000\">2500-2999  </span> │ <span style=\"color: #008000; text-decoration-color: #008000\">Normal          </span> │   <span style=\"color: #008080; text-decoration-color: #008080; font-weight: bold\">689039</span> │          <span style=\"color: #008080; text-decoration-color: #008080; font-weight: bold\">36.761726</span> │\n",
       "│ <span style=\"color: #008000; text-decoration-color: #008000\">2500-2999  </span> │ <span style=\"color: #008000; text-decoration-color: #008000\">Rules infraction</span> │       <span style=\"color: #008080; text-decoration-color: #008080; font-weight: bold\">12</span> │          <span style=\"color: #008080; text-decoration-color: #008080; font-weight: bold\">10.791667</span> │\n",
       "│ <span style=\"color: #008000; text-decoration-color: #008000\">2500-2999  </span> │ <span style=\"color: #008000; text-decoration-color: #008000\">Time forfeit    </span> │   <span style=\"color: #008080; text-decoration-color: #008080; font-weight: bold\">358549</span> │          <span style=\"color: #008080; text-decoration-color: #008080; font-weight: bold\">50.493369</span> │\n",
       "│ <span style=\"color: #008000; text-decoration-color: #008000\">2500-2999  </span> │ <span style=\"color: #008000; text-decoration-color: #008000\">Unterminated    </span> │      <span style=\"color: #008080; text-decoration-color: #008080; font-weight: bold\">200</span> │          <span style=\"color: #008080; text-decoration-color: #008080; font-weight: bold\">16.617500</span> │\n",
       "│ <span style=\"color: #008000; text-decoration-color: #008000\">3000-3499  </span> │ <span style=\"color: #008000; text-decoration-color: #008000\">Abandoned       </span> │        <span style=\"color: #008080; text-decoration-color: #008080; font-weight: bold\">8</span> │          <span style=\"color: #008080; text-decoration-color: #008080; font-weight: bold\">34.937500</span> │\n",
       "│ <span style=\"color: #008000; text-decoration-color: #008000\">3000-3499  </span> │ <span style=\"color: #008000; text-decoration-color: #008000\">Normal          </span> │    <span style=\"color: #008080; text-decoration-color: #008080; font-weight: bold\">28176</span> │          <span style=\"color: #008080; text-decoration-color: #008080; font-weight: bold\">51.353900</span> │\n",
       "│ <span style=\"color: #008000; text-decoration-color: #008000\">3000-3499  </span> │ <span style=\"color: #008000; text-decoration-color: #008000\">Time forfeit    </span> │     <span style=\"color: #008080; text-decoration-color: #008080; font-weight: bold\">5779</span> │          <span style=\"color: #008080; text-decoration-color: #008080; font-weight: bold\">59.922045</span> │\n",
       "│ <span style=\"color: #008000; text-decoration-color: #008000\">3000-3499  </span> │ <span style=\"color: #008000; text-decoration-color: #008000\">Unterminated    </span> │        <span style=\"color: #008080; text-decoration-color: #008080; font-weight: bold\">7</span> │           <span style=\"color: #008080; text-decoration-color: #008080; font-weight: bold\">3.428571</span> │\n",
       "│ <span style=\"color: #008000; text-decoration-color: #008000\">3500+      </span> │ <span style=\"color: #008000; text-decoration-color: #008000\">Normal          </span> │        <span style=\"color: #008080; text-decoration-color: #008080; font-weight: bold\">2</span> │          <span style=\"color: #008080; text-decoration-color: #008080; font-weight: bold\">14.000000</span> │\n",
       "│ <span style=\"color: #008000; text-decoration-color: #008000\">3500+      </span> │ <span style=\"color: #008000; text-decoration-color: #008000\">Time forfeit    </span> │        <span style=\"color: #008080; text-decoration-color: #008080; font-weight: bold\">3</span> │           <span style=\"color: #008080; text-decoration-color: #008080; font-weight: bold\">8.500000</span> │\n",
       "└─────────────┴──────────────────┴──────────┴────────────────────┘\n",
       "</pre>\n"
      ],
      "text/plain": [
       "┏━━━━━━━━━━━━━┳━━━━━━━━━━━━━━━━━━┳━━━━━━━━━━┳━━━━━━━━━━━━━━━━━━━━┓\n",
       "┃\u001b[1m \u001b[0m\u001b[1melo_bracket\u001b[0m\u001b[1m \u001b[0m┃\u001b[1m \u001b[0m\u001b[1mtermination\u001b[0m\u001b[1m     \u001b[0m\u001b[1m \u001b[0m┃\u001b[1m \u001b[0m\u001b[1mcount\u001b[0m\u001b[1m   \u001b[0m\u001b[1m \u001b[0m┃\u001b[1m \u001b[0m\u001b[1maverage_move_count\u001b[0m\u001b[1m \u001b[0m┃\n",
       "┡━━━━━━━━━━━━━╇━━━━━━━━━━━━━━━━━━╇━━━━━━━━━━╇━━━━━━━━━━━━━━━━━━━━┩\n",
       "│ \u001b[2mstring\u001b[0m      │ \u001b[2mstring\u001b[0m           │ \u001b[2mint64\u001b[0m    │ \u001b[2mfloat64\u001b[0m            │\n",
       "├─────────────┼──────────────────┼──────────┼────────────────────┤\n",
       "│ \u001b[32m-0499      \u001b[0m │ \u001b[32mAbandoned       \u001b[0m │      \u001b[1;36m201\u001b[0m │           \u001b[1;36m0.519900\u001b[0m │\n",
       "│ \u001b[32m-0499      \u001b[0m │ \u001b[32mNormal          \u001b[0m │    \u001b[1;36m17192\u001b[0m │          \u001b[1;36m25.399226\u001b[0m │\n",
       "│ \u001b[32m-0499      \u001b[0m │ \u001b[32mRules infraction\u001b[0m │        \u001b[1;36m6\u001b[0m │           \u001b[1;36m7.666667\u001b[0m │\n",
       "│ \u001b[32m-0499      \u001b[0m │ \u001b[32mTime forfeit    \u001b[0m │     \u001b[1;36m7271\u001b[0m │          \u001b[1;36m21.199147\u001b[0m │\n",
       "│ \u001b[32m0500-0999  \u001b[0m │ \u001b[32mAbandoned       \u001b[0m │     \u001b[1;36m7003\u001b[0m │           \u001b[1;36m0.619235\u001b[0m │\n",
       "│ \u001b[32m0500-0999  \u001b[0m │ \u001b[32mNormal          \u001b[0m │  \u001b[1;36m2969918\u001b[0m │          \u001b[1;36m26.215259\u001b[0m │\n",
       "│ \u001b[32m0500-0999  \u001b[0m │ \u001b[32mRules infraction\u001b[0m │      \u001b[1;36m295\u001b[0m │          \u001b[1;36m10.364407\u001b[0m │\n",
       "│ \u001b[32m0500-0999  \u001b[0m │ \u001b[32mTime forfeit    \u001b[0m │  \u001b[1;36m1463014\u001b[0m │          \u001b[1;36m26.477060\u001b[0m │\n",
       "│ \u001b[32m0500-0999  \u001b[0m │ \u001b[32mUnterminated    \u001b[0m │       \u001b[1;36m15\u001b[0m │           \u001b[1;36m7.566667\u001b[0m │\n",
       "│ \u001b[32m1000-1499  \u001b[0m │ \u001b[32mAbandoned       \u001b[0m │    \u001b[1;36m29776\u001b[0m │           \u001b[1;36m0.640617\u001b[0m │\n",
       "│ \u001b[32m1000-1499  \u001b[0m │ \u001b[32mNormal          \u001b[0m │ \u001b[1;36m17674320\u001b[0m │          \u001b[1;36m29.615599\u001b[0m │\n",
       "│ \u001b[32m1000-1499  \u001b[0m │ \u001b[32mRules infraction\u001b[0m │     \u001b[1;36m1080\u001b[0m │          \u001b[1;36m11.641204\u001b[0m │\n",
       "│ \u001b[32m1000-1499  \u001b[0m │ \u001b[32mTime forfeit    \u001b[0m │  \u001b[1;36m8175853\u001b[0m │          \u001b[1;36m32.559713\u001b[0m │\n",
       "│ \u001b[32m1000-1499  \u001b[0m │ \u001b[32mUnterminated    \u001b[0m │      \u001b[1;36m923\u001b[0m │          \u001b[1;36m13.337486\u001b[0m │\n",
       "│ \u001b[32m1500-1999  \u001b[0m │ \u001b[32mAbandoned       \u001b[0m │    \u001b[1;36m54906\u001b[0m │           \u001b[1;36m0.643928\u001b[0m │\n",
       "│ \u001b[32m1500-1999  \u001b[0m │ \u001b[32mNormal          \u001b[0m │ \u001b[1;36m27874037\u001b[0m │          \u001b[1;36m32.307252\u001b[0m │\n",
       "│ \u001b[32m1500-1999  \u001b[0m │ \u001b[32mRules infraction\u001b[0m │      \u001b[1;36m935\u001b[0m │          \u001b[1;36m13.454011\u001b[0m │\n",
       "│ \u001b[32m1500-1999  \u001b[0m │ \u001b[32mTime forfeit    \u001b[0m │ \u001b[1;36m13471173\u001b[0m │          \u001b[1;36m38.344237\u001b[0m │\n",
       "│ \u001b[32m1500-1999  \u001b[0m │ \u001b[32mUnterminated    \u001b[0m │     \u001b[1;36m7496\u001b[0m │          \u001b[1;36m18.396612\u001b[0m │\n",
       "│ \u001b[32m2000-2499  \u001b[0m │ \u001b[32mAbandoned       \u001b[0m │    \u001b[1;36m15834\u001b[0m │           \u001b[1;36m0.681224\u001b[0m │\n",
       "│ \u001b[32m2000-2499  \u001b[0m │ \u001b[32mNormal          \u001b[0m │  \u001b[1;36m9940655\u001b[0m │          \u001b[1;36m33.837046\u001b[0m │\n",
       "│ \u001b[32m2000-2499  \u001b[0m │ \u001b[32mRules infraction\u001b[0m │      \u001b[1;36m238\u001b[0m │          \u001b[1;36m13.315126\u001b[0m │\n",
       "│ \u001b[32m2000-2499  \u001b[0m │ \u001b[32mTime forfeit    \u001b[0m │  \u001b[1;36m5767211\u001b[0m │          \u001b[1;36m42.811897\u001b[0m │\n",
       "│ \u001b[32m2000-2499  \u001b[0m │ \u001b[32mUnterminated    \u001b[0m │     \u001b[1;36m4153\u001b[0m │          \u001b[1;36m19.174573\u001b[0m │\n",
       "│ \u001b[32m2500-2999  \u001b[0m │ \u001b[32mAbandoned       \u001b[0m │      \u001b[1;36m354\u001b[0m │           \u001b[1;36m0.877119\u001b[0m │\n",
       "│ \u001b[32m2500-2999  \u001b[0m │ \u001b[32mNormal          \u001b[0m │   \u001b[1;36m689039\u001b[0m │          \u001b[1;36m36.761726\u001b[0m │\n",
       "│ \u001b[32m2500-2999  \u001b[0m │ \u001b[32mRules infraction\u001b[0m │       \u001b[1;36m12\u001b[0m │          \u001b[1;36m10.791667\u001b[0m │\n",
       "│ \u001b[32m2500-2999  \u001b[0m │ \u001b[32mTime forfeit    \u001b[0m │   \u001b[1;36m358549\u001b[0m │          \u001b[1;36m50.493369\u001b[0m │\n",
       "│ \u001b[32m2500-2999  \u001b[0m │ \u001b[32mUnterminated    \u001b[0m │      \u001b[1;36m200\u001b[0m │          \u001b[1;36m16.617500\u001b[0m │\n",
       "│ \u001b[32m3000-3499  \u001b[0m │ \u001b[32mAbandoned       \u001b[0m │        \u001b[1;36m8\u001b[0m │          \u001b[1;36m34.937500\u001b[0m │\n",
       "│ \u001b[32m3000-3499  \u001b[0m │ \u001b[32mNormal          \u001b[0m │    \u001b[1;36m28176\u001b[0m │          \u001b[1;36m51.353900\u001b[0m │\n",
       "│ \u001b[32m3000-3499  \u001b[0m │ \u001b[32mTime forfeit    \u001b[0m │     \u001b[1;36m5779\u001b[0m │          \u001b[1;36m59.922045\u001b[0m │\n",
       "│ \u001b[32m3000-3499  \u001b[0m │ \u001b[32mUnterminated    \u001b[0m │        \u001b[1;36m7\u001b[0m │           \u001b[1;36m3.428571\u001b[0m │\n",
       "│ \u001b[32m3500+      \u001b[0m │ \u001b[32mNormal          \u001b[0m │        \u001b[1;36m2\u001b[0m │          \u001b[1;36m14.000000\u001b[0m │\n",
       "│ \u001b[32m3500+      \u001b[0m │ \u001b[32mTime forfeit    \u001b[0m │        \u001b[1;36m3\u001b[0m │           \u001b[1;36m8.500000\u001b[0m │\n",
       "└─────────────┴──────────────────┴──────────┴────────────────────┘\n"
      ]
     },
     "execution_count": 32,
     "metadata": {},
     "output_type": "execute_result"
    }
   ],
   "source": [
    "%%time\n",
    "moves_with_elo_bracket = moves.cast(dict.fromkeys(elo_columns, int)).mutate(\n",
    "    elo_bracket=ibis.case()\n",
    "    .when(_.white_elo < 500, \"-0499\")\n",
    "    .when((500 <= _.white_elo) & (_.white_elo < 1000), \"0500-0999\")\n",
    "    .when((1000 <= _.white_elo) & (_.white_elo < 1500), \"1000-1499\")\n",
    "    .when((1500 <= _.white_elo) & (_.white_elo < 2000), \"1500-1999\")\n",
    "    .when((2000 <= _.white_elo) & (_.white_elo < 2500), \"2000-2499\")\n",
    "    .when((2500 <= _.white_elo) & (_.white_elo < 3000), \"2500-2999\")\n",
    "    .when((3000 <= _.white_elo) & (_.white_elo < 3500), \"3000-3499\")\n",
    "    .when(3500 <= _.white_elo, \"3500+\")\n",
    "    .end()\n",
    ")\n",
    "moves_with_elo_bracket[(_.white_elo != 1500) & (_.black_elo != 1500)].group_by(\n",
    "    _.site\n",
    ").agg(\n",
    "    move_count=_.count(),\n",
    "    elo_bracket=_.elo_bracket.arbitrary(),\n",
    "    termination=_.termination.arbitrary(),\n",
    ").group_by(\n",
    "    [\"elo_bracket\", \"termination\"]\n",
    ").agg(\n",
    "    count=_.count(), average_move_count=_.move_count.mean() / 2\n",
    ").order_by(\n",
    "    [\"elo_bracket\", \"termination\"]\n",
    ").preview(\n",
    "    max_rows=40\n",
    ")"
   ]
  },
  {
   "cell_type": "markdown",
   "id": "1a489260-6db8-4bef-94e8-6acdf1c96730",
   "metadata": {},
   "source": [
    "I was initially surprised that not all moves had clock annotations."
   ]
  },
  {
   "cell_type": "code",
   "execution_count": 41,
   "id": "2edacc38-142f-43d1-9283-18c758c3bf2c",
   "metadata": {},
   "outputs": [
    {
     "name": "stdout",
     "output_type": "stream",
     "text": [
      "CPU times: user 4min 5s, sys: 18.4 s, total: 4min 23s\n",
      "Wall time: 43.2 s\n"
     ]
    },
    {
     "data": {
      "text/html": [
       "<pre style=\"white-space:pre;overflow-x:auto;line-height:normal;font-family:Menlo,'DejaVu Sans Mono',consolas,'Courier New',monospace\">┏━━━━━━━━━━━━━━━━━━━━━━━━━━━━━━━━━━━━━━━┳━━━━━━━━━━━━━━━━━━━━━━━━━━━━━━━━━━━━━━━━━━━━━┓\n",
       "┃<span style=\"font-weight: bold\"> StringContains(move_comment, '[%clk') </span>┃<span style=\"font-weight: bold\"> StringContains(move_comment, '[%clk')_count </span>┃\n",
       "┡━━━━━━━━━━━━━━━━━━━━━━━━━━━━━━━━━━━━━━━╇━━━━━━━━━━━━━━━━━━━━━━━━━━━━━━━━━━━━━━━━━━━━━┩\n",
       "│ <span style=\"color: #7f7f7f; text-decoration-color: #7f7f7f\">boolean</span>                               │ <span style=\"color: #7f7f7f; text-decoration-color: #7f7f7f\">int64</span>                                       │\n",
       "├───────────────────────────────────────┼─────────────────────────────────────────────┤\n",
       "│ True                                  │                                  <span style=\"color: #008080; text-decoration-color: #008080; font-weight: bold\">5935089095</span> │\n",
       "│ False                                 │                                     <span style=\"color: #008080; text-decoration-color: #008080; font-weight: bold\">3409860</span> │\n",
       "└───────────────────────────────────────┴─────────────────────────────────────────────┘\n",
       "</pre>\n"
      ],
      "text/plain": [
       "┏━━━━━━━━━━━━━━━━━━━━━━━━━━━━━━━━━━━━━━━┳━━━━━━━━━━━━━━━━━━━━━━━━━━━━━━━━━━━━━━━━━━━━━┓\n",
       "┃\u001b[1m \u001b[0m\u001b[1mStringContains(move_comment, '[%clk')\u001b[0m\u001b[1m \u001b[0m┃\u001b[1m \u001b[0m\u001b[1mStringContains(move_comment, '[%clk')_count\u001b[0m\u001b[1m \u001b[0m┃\n",
       "┡━━━━━━━━━━━━━━━━━━━━━━━━━━━━━━━━━━━━━━━╇━━━━━━━━━━━━━━━━━━━━━━━━━━━━━━━━━━━━━━━━━━━━━┩\n",
       "│ \u001b[2mboolean\u001b[0m                               │ \u001b[2mint64\u001b[0m                                       │\n",
       "├───────────────────────────────────────┼─────────────────────────────────────────────┤\n",
       "│ True                                  │                                  \u001b[1;36m5935089095\u001b[0m │\n",
       "│ False                                 │                                     \u001b[1;36m3409860\u001b[0m │\n",
       "└───────────────────────────────────────┴─────────────────────────────────────────────┘\n"
      ]
     },
     "execution_count": 41,
     "metadata": {},
     "output_type": "execute_result"
    }
   ],
   "source": [
    "%%time\n",
    "moves.move_comment.contains(\"[%clk\").value_counts().preview()"
   ]
  },
  {
   "cell_type": "markdown",
   "id": "d8635d5e-0031-4af0-b830-6c95f65f81eb",
   "metadata": {},
   "source": [
    "A quick investigation shows that clock annotations are present if and only if the time control is Unlimited, which makes sense."
   ]
  },
  {
   "cell_type": "code",
   "execution_count": 38,
   "id": "d5b6b7f6-07cf-4aaa-acbb-24a8b74d6b62",
   "metadata": {},
   "outputs": [
    {
     "name": "stdout",
     "output_type": "stream",
     "text": [
      "CPU times: user 23min 53s, sys: 23.9 s, total: 24min 17s\n",
      "Wall time: 3min 33s\n"
     ]
    },
    {
     "data": {
      "text/html": [
       "<pre style=\"white-space:pre;overflow-x:auto;line-height:normal;font-family:Menlo,'DejaVu Sans Mono',consolas,'Courier New',monospace\">┏━━━━━━━━━━━┳━━━━━━━━━━━━━━━━━━━┳━━━━━━━━━━━━━┓\n",
       "┃<span style=\"font-weight: bold\"> has_clock </span>┃<span style=\"font-weight: bold\"> time_control_type </span>┃<span style=\"font-weight: bold\"> CountStar() </span>┃\n",
       "┡━━━━━━━━━━━╇━━━━━━━━━━━━━━━━━━━╇━━━━━━━━━━━━━┩\n",
       "│ <span style=\"color: #7f7f7f; text-decoration-color: #7f7f7f\">boolean</span>   │ <span style=\"color: #7f7f7f; text-decoration-color: #7f7f7f\">string</span>            │ <span style=\"color: #7f7f7f; text-decoration-color: #7f7f7f\">int64</span>       │\n",
       "├───────────┼───────────────────┼─────────────┤\n",
       "│ False     │ <span style=\"color: #008000; text-decoration-color: #008000\">UNLIMITED        </span> │     <span style=\"color: #008080; text-decoration-color: #008080; font-weight: bold\">3409860</span> │\n",
       "│ True      │ <span style=\"color: #008000; text-decoration-color: #008000\">BLITZ            </span> │  <span style=\"color: #008080; text-decoration-color: #008080; font-weight: bold\">3935150595</span> │\n",
       "│ True      │ <span style=\"color: #008000; text-decoration-color: #008000\">BULLET           </span> │  <span style=\"color: #008080; text-decoration-color: #008080; font-weight: bold\">1773543598</span> │\n",
       "│ True      │ <span style=\"color: #008000; text-decoration-color: #008000\">RAPID            </span> │   <span style=\"color: #008080; text-decoration-color: #008080; font-weight: bold\">224238305</span> │\n",
       "│ True      │ <span style=\"color: #008000; text-decoration-color: #008000\">STANDARD         </span> │     <span style=\"color: #008080; text-decoration-color: #008080; font-weight: bold\">2156597</span> │\n",
       "└───────────┴───────────────────┴─────────────┘\n",
       "</pre>\n"
      ],
      "text/plain": [
       "┏━━━━━━━━━━━┳━━━━━━━━━━━━━━━━━━━┳━━━━━━━━━━━━━┓\n",
       "┃\u001b[1m \u001b[0m\u001b[1mhas_clock\u001b[0m\u001b[1m \u001b[0m┃\u001b[1m \u001b[0m\u001b[1mtime_control_type\u001b[0m\u001b[1m \u001b[0m┃\u001b[1m \u001b[0m\u001b[1mCountStar()\u001b[0m\u001b[1m \u001b[0m┃\n",
       "┡━━━━━━━━━━━╇━━━━━━━━━━━━━━━━━━━╇━━━━━━━━━━━━━┩\n",
       "│ \u001b[2mboolean\u001b[0m   │ \u001b[2mstring\u001b[0m            │ \u001b[2mint64\u001b[0m       │\n",
       "├───────────┼───────────────────┼─────────────┤\n",
       "│ False     │ \u001b[32mUNLIMITED        \u001b[0m │     \u001b[1;36m3409860\u001b[0m │\n",
       "│ True      │ \u001b[32mBLITZ            \u001b[0m │  \u001b[1;36m3935150595\u001b[0m │\n",
       "│ True      │ \u001b[32mBULLET           \u001b[0m │  \u001b[1;36m1773543598\u001b[0m │\n",
       "│ True      │ \u001b[32mRAPID            \u001b[0m │   \u001b[1;36m224238305\u001b[0m │\n",
       "│ True      │ \u001b[32mSTANDARD         \u001b[0m │     \u001b[1;36m2156597\u001b[0m │\n",
       "└───────────┴───────────────────┴─────────────┘\n"
      ]
     },
     "execution_count": 38,
     "metadata": {},
     "output_type": "execute_result"
    }
   ],
   "source": [
    "%%time\n",
    "moves_with_parsed_time_control.mutate(\n",
    "    has_clock=_.move_comment.contains(\"[%clk\")\n",
    ").group_by([\"has_clock\", \"time_control_type\"]).count().order_by(\n",
    "    [\"has_clock\", \"time_control_type\"]\n",
    ").preview()"
   ]
  },
  {
   "cell_type": "code",
   "execution_count": null,
   "id": "d9380944-5cc5-4497-b00b-748ec5a082cf",
   "metadata": {},
   "outputs": [],
   "source": []
  },
  {
   "cell_type": "code",
   "execution_count": 42,
   "id": "9bb88a65-3af8-450b-9bc1-e309deb29e0e",
   "metadata": {},
   "outputs": [
    {
     "name": "stdout",
     "output_type": "stream",
     "text": [
      "CPU times: user 4min 31s, sys: 18.1 s, total: 4min 50s\n",
      "Wall time: 46.8 s\n"
     ]
    },
    {
     "data": {
      "text/html": [
       "<pre style=\"white-space:pre;overflow-x:auto;line-height:normal;font-family:Menlo,'DejaVu Sans Mono',consolas,'Courier New',monospace\">┏━━━━━━━━━━━━━━━━━━━━━━━━━━━━━━━━━━━━━━━━┳━━━━━━━━━━━━━━━━━━━━━━━━━━━━━━━━━━━━━━━━━━━━━━┓\n",
       "┃<span style=\"font-weight: bold\"> StringContains(move_comment, '[%eval') </span>┃<span style=\"font-weight: bold\"> StringContains(move_comment, '[%eval')_count </span>┃\n",
       "┡━━━━━━━━━━━━━━━━━━━━━━━━━━━━━━━━━━━━━━━━╇━━━━━━━━━━━━━━━━━━━━━━━━━━━━━━━━━━━━━━━━━━━━━━┩\n",
       "│ <span style=\"color: #7f7f7f; text-decoration-color: #7f7f7f\">boolean</span>                                │ <span style=\"color: #7f7f7f; text-decoration-color: #7f7f7f\">int64</span>                                        │\n",
       "├────────────────────────────────────────┼──────────────────────────────────────────────┤\n",
       "│ False                                  │                                   <span style=\"color: #008080; text-decoration-color: #008080; font-weight: bold\">5405862285</span> │\n",
       "│ True                                   │                                    <span style=\"color: #008080; text-decoration-color: #008080; font-weight: bold\">532636670</span> │\n",
       "└────────────────────────────────────────┴──────────────────────────────────────────────┘\n",
       "</pre>\n"
      ],
      "text/plain": [
       "┏━━━━━━━━━━━━━━━━━━━━━━━━━━━━━━━━━━━━━━━━┳━━━━━━━━━━━━━━━━━━━━━━━━━━━━━━━━━━━━━━━━━━━━━━┓\n",
       "┃\u001b[1m \u001b[0m\u001b[1mStringContains(move_comment, '[%eval')\u001b[0m\u001b[1m \u001b[0m┃\u001b[1m \u001b[0m\u001b[1mStringContains(move_comment, '[%eval')_count\u001b[0m\u001b[1m \u001b[0m┃\n",
       "┡━━━━━━━━━━━━━━━━━━━━━━━━━━━━━━━━━━━━━━━━╇━━━━━━━━━━━━━━━━━━━━━━━━━━━━━━━━━━━━━━━━━━━━━━┩\n",
       "│ \u001b[2mboolean\u001b[0m                                │ \u001b[2mint64\u001b[0m                                        │\n",
       "├────────────────────────────────────────┼──────────────────────────────────────────────┤\n",
       "│ False                                  │                                   \u001b[1;36m5405862285\u001b[0m │\n",
       "│ True                                   │                                    \u001b[1;36m532636670\u001b[0m │\n",
       "└────────────────────────────────────────┴──────────────────────────────────────────────┘\n"
      ]
     },
     "execution_count": 42,
     "metadata": {},
     "output_type": "execute_result"
    }
   ],
   "source": [
    "%%time\n",
    "moves.move_comment.contains(\"[%eval\").value_counts().preview()"
   ]
  },
  {
   "cell_type": "markdown",
   "id": "5f12bad4-b346-456f-8d0f-8a5a1830b0bd",
   "metadata": {},
   "source": [
    "81,011,995 of the 89,342,529 games don't have evaluations; over 9% of the games having evaluations is better than the [6% advertised](https://database.lichess.org/#notes), although I imagine the number of games with evaluations has increased over time.\n",
    "\n",
    "Furthermore, 5,759,094 (6.45%) have evaluations for every move."
   ]
  },
  {
   "cell_type": "code",
   "execution_count": 45,
   "id": "91e9f515-60c6-4a3e-a406-fdd7b4286d04",
   "metadata": {},
   "outputs": [
    {
     "name": "stdout",
     "output_type": "stream",
     "text": [
      "CPU times: user 6min 6s, sys: 42 s, total: 6min 48s\n",
      "Wall time: 2min 11s\n"
     ]
    },
    {
     "data": {
      "text/html": [
       "<pre style=\"white-space:pre;overflow-x:auto;line-height:normal;font-family:Menlo,'DejaVu Sans Mono',consolas,'Courier New',monospace\">┏━━━━━━━━━━━━━━━━━━┳━━━━━━━━━━━━━━━━━━━━━━━━┓\n",
       "┃<span style=\"font-weight: bold\"> percent_has_eval </span>┃<span style=\"font-weight: bold\"> percent_has_eval_count </span>┃\n",
       "┡━━━━━━━━━━━━━━━━━━╇━━━━━━━━━━━━━━━━━━━━━━━━┩\n",
       "│ <span style=\"color: #7f7f7f; text-decoration-color: #7f7f7f\">float64</span>          │ <span style=\"color: #7f7f7f; text-decoration-color: #7f7f7f\">int64</span>                  │\n",
       "├──────────────────┼────────────────────────┤\n",
       "│         <span style=\"color: #008080; text-decoration-color: #008080; font-weight: bold\">0.000000</span> │               <span style=\"color: #008080; text-decoration-color: #008080; font-weight: bold\">81011995</span> │\n",
       "│         <span style=\"color: #008080; text-decoration-color: #008080; font-weight: bold\">1.000000</span> │                <span style=\"color: #008080; text-decoration-color: #008080; font-weight: bold\">5759094</span> │\n",
       "│         <span style=\"color: #008080; text-decoration-color: #008080; font-weight: bold\">0.980392</span> │                  <span style=\"color: #008080; text-decoration-color: #008080; font-weight: bold\">49637</span> │\n",
       "│         <span style=\"color: #008080; text-decoration-color: #008080; font-weight: bold\">0.981132</span> │                  <span style=\"color: #008080; text-decoration-color: #008080; font-weight: bold\">49415</span> │\n",
       "│         <span style=\"color: #008080; text-decoration-color: #008080; font-weight: bold\">0.979592</span> │                  <span style=\"color: #008080; text-decoration-color: #008080; font-weight: bold\">49399</span> │\n",
       "│         <span style=\"color: #008080; text-decoration-color: #008080; font-weight: bold\">0.978723</span> │                  <span style=\"color: #008080; text-decoration-color: #008080; font-weight: bold\">48931</span> │\n",
       "│         <span style=\"color: #008080; text-decoration-color: #008080; font-weight: bold\">0.981818</span> │                  <span style=\"color: #008080; text-decoration-color: #008080; font-weight: bold\">48535</span> │\n",
       "│         <span style=\"color: #008080; text-decoration-color: #008080; font-weight: bold\">0.977778</span> │                  <span style=\"color: #008080; text-decoration-color: #008080; font-weight: bold\">47728</span> │\n",
       "│         <span style=\"color: #008080; text-decoration-color: #008080; font-weight: bold\">0.982456</span> │                  <span style=\"color: #008080; text-decoration-color: #008080; font-weight: bold\">47178</span> │\n",
       "│         <span style=\"color: #008080; text-decoration-color: #008080; font-weight: bold\">0.976744</span> │                  <span style=\"color: #008080; text-decoration-color: #008080; font-weight: bold\">46337</span> │\n",
       "│                <span style=\"color: #7f7f7f; text-decoration-color: #7f7f7f\">…</span> │                      <span style=\"color: #7f7f7f; text-decoration-color: #7f7f7f\">…</span> │\n",
       "└──────────────────┴────────────────────────┘\n",
       "</pre>\n"
      ],
      "text/plain": [
       "┏━━━━━━━━━━━━━━━━━━┳━━━━━━━━━━━━━━━━━━━━━━━━┓\n",
       "┃\u001b[1m \u001b[0m\u001b[1mpercent_has_eval\u001b[0m\u001b[1m \u001b[0m┃\u001b[1m \u001b[0m\u001b[1mpercent_has_eval_count\u001b[0m\u001b[1m \u001b[0m┃\n",
       "┡━━━━━━━━━━━━━━━━━━╇━━━━━━━━━━━━━━━━━━━━━━━━┩\n",
       "│ \u001b[2mfloat64\u001b[0m          │ \u001b[2mint64\u001b[0m                  │\n",
       "├──────────────────┼────────────────────────┤\n",
       "│         \u001b[1;36m0.000000\u001b[0m │               \u001b[1;36m81011995\u001b[0m │\n",
       "│         \u001b[1;36m1.000000\u001b[0m │                \u001b[1;36m5759094\u001b[0m │\n",
       "│         \u001b[1;36m0.980392\u001b[0m │                  \u001b[1;36m49637\u001b[0m │\n",
       "│         \u001b[1;36m0.981132\u001b[0m │                  \u001b[1;36m49415\u001b[0m │\n",
       "│         \u001b[1;36m0.979592\u001b[0m │                  \u001b[1;36m49399\u001b[0m │\n",
       "│         \u001b[1;36m0.978723\u001b[0m │                  \u001b[1;36m48931\u001b[0m │\n",
       "│         \u001b[1;36m0.981818\u001b[0m │                  \u001b[1;36m48535\u001b[0m │\n",
       "│         \u001b[1;36m0.977778\u001b[0m │                  \u001b[1;36m47728\u001b[0m │\n",
       "│         \u001b[1;36m0.982456\u001b[0m │                  \u001b[1;36m47178\u001b[0m │\n",
       "│         \u001b[1;36m0.976744\u001b[0m │                  \u001b[1;36m46337\u001b[0m │\n",
       "│                \u001b[2m…\u001b[0m │                      \u001b[2m…\u001b[0m │\n",
       "└──────────────────┴────────────────────────┘\n"
      ]
     },
     "execution_count": 45,
     "metadata": {},
     "output_type": "execute_result"
    }
   ],
   "source": [
    "%%time\n",
    "moves.mutate(has_eval=_.move_comment.contains(\"[%eval\")).group_by(_.site).agg(\n",
    "    percent_has_eval=_.has_eval.mean()\n",
    ").percent_has_eval.value_counts().order_by(\n",
    "    ibis.desc(\"percent_has_eval_count\")\n",
    ").preview()"
   ]
  },
  {
   "cell_type": "markdown",
   "id": "2958c208-9cb6-476a-a9a0-f5ea9d49f676",
   "metadata": {},
   "source": [
    "# Appendix"
   ]
  },
  {
   "cell_type": "code",
   "execution_count": 7,
   "id": "b4cb827b-d3c4-4466-bb79-44884dc95f20",
   "metadata": {},
   "outputs": [],
   "source": [
    "# from functools import reduce\n",
    "\n",
    "# import chess.pgn\n",
    "# from chess.pgn import TimeControlType\n",
    "\n",
    "\n",
    "# @ibis.udf.scalar.python\n",
    "# def parse_time_control(time_control: str) -> dict[str, int]:\n",
    "#     tc = chess.pgn.parse_time_control(time_control)\n",
    "#     tc_dict = {\"type\": tc.type.value}\n",
    "\n",
    "#     if tc.type in [TimeControlType.UNKNOW, TimeControlType.UNLIMITED]:\n",
    "#         return tc_dict\n",
    "\n",
    "#     if len(tc.parts) > 1:\n",
    "#         raise ValueError(\"Lichess does not support multipart time controls.\")\n",
    "\n",
    "#     if tc.parts[0].delay:\n",
    "#         raise ValueError(\"Lichess does not support delay.\")\n",
    "\n",
    "#     tc_dict[\"base_time\"] = tc.parts[0].time\n",
    "#     tc_dict[\"increment\"] = int(tc.parts[0].increment)\n",
    "#     return tc_dict\n",
    "\n",
    "\n",
    "# games_with_parsed_time_control = (\n",
    "#     moves[moves.move_ply == 1]\n",
    "#     .mutate(parsed_time_control=parse_time_control(moves.time_control))\n",
    "#     .mutate(\n",
    "#         time_control_type=reduce(\n",
    "#             lambda case_expr, member: case_expr.when(member.value, member.name),\n",
    "#             TimeControlType,\n",
    "#             _.parsed_time_control.get(\"type\").case(),\n",
    "#         ).end(),\n",
    "#         base_time=_.parsed_time_control.get(\"base_time\"),\n",
    "#         increment=_.parsed_time_control.get(\"increment\"),\n",
    "#     )\n",
    "#     .drop(\"move_ply\", \"parsed_time_control\")\n",
    "# )\n",
    "# games_with_parsed_time_control"
   ]
  },
  {
   "cell_type": "code",
   "execution_count": 8,
   "id": "80c3e78d-f4dd-4e79-a2c9-eba76184f49c",
   "metadata": {},
   "outputs": [],
   "source": [
    "# %%time\n",
    "# games_with_parsed_time_control[\n",
    "#     games_with_parsed_time_control.termination.isin([\"Normal\", \"Time forfeit\"])\n",
    "# ].time_control_type.value_counts().preview()"
   ]
  },
  {
   "cell_type": "code",
   "execution_count": 37,
   "id": "dd76c918-f613-408e-9fc1-a4e75fbf1961",
   "metadata": {},
   "outputs": [
    {
     "data": {
      "text/html": [
       "<pre style=\"white-space:pre;overflow-x:auto;line-height:normal;font-family:Menlo,'DejaVu Sans Mono',consolas,'Courier New',monospace\">┏━━━━━━━━━━━━━━━━━━━┳━━━━━━━━━━━━━━━━━━━━━━━━━━━━━━┳━━━━━━━━━━━━┳━━━━━━━━┳━━━━━━━━━━━━━━━━━━━┳━━━━━━━━━━━━━━━━━━━━┳━━━━━━━━━┳━━━━━━━━━━━━┳━━━━━━━━━━┳━━━━━━━━━━━┳━━━━━━━━━━━┳━━━━━━━━━━━━━━━━━━━┳━━━━━━━━━━━━━━━━━━━┳━━━━━━━━━━━━━┳━━━━━━━━━━━━━┳━━━━━━━━┳━━━━━━━━━━━━━━━━━━━━━━━━━━━━━━━━━━━━━━━━━━━━━━━━━━━━━━━━━━━━━━━━┳━━━━━━━━━━━━━━┳━━━━━━━━━━━━━━┳━━━━━━━━━━┳━━━━━━━━━━━━━━━━━━━━━━━━━━━━━┳━━━━━━━━━━━━━━━━━━━━━━━━┳━━━━━━━━━━━━━━━━━━━━━━━━┳━━━━━━━━━━━━━━━━━━━┓\n",
       "┃<span style=\"font-weight: bold\"> event             </span>┃<span style=\"font-weight: bold\"> site                         </span>┃<span style=\"font-weight: bold\"> date       </span>┃<span style=\"font-weight: bold\"> round  </span>┃<span style=\"font-weight: bold\"> white             </span>┃<span style=\"font-weight: bold\"> black              </span>┃<span style=\"font-weight: bold\"> result  </span>┃<span style=\"font-weight: bold\"> utc_date   </span>┃<span style=\"font-weight: bold\"> utc_time </span>┃<span style=\"font-weight: bold\"> white_elo </span>┃<span style=\"font-weight: bold\"> black_elo </span>┃<span style=\"font-weight: bold\"> white_rating_diff </span>┃<span style=\"font-weight: bold\"> black_rating_diff </span>┃<span style=\"font-weight: bold\"> white_title </span>┃<span style=\"font-weight: bold\"> black_title </span>┃<span style=\"font-weight: bold\"> eco    </span>┃<span style=\"font-weight: bold\"> opening                                                        </span>┃<span style=\"font-weight: bold\"> time_control </span>┃<span style=\"font-weight: bold\"> termination  </span>┃<span style=\"font-weight: bold\"> move_ply </span>┃<span style=\"font-weight: bold\"> move_comment                </span>┃<span style=\"font-weight: bold\"> time_control_base_time </span>┃<span style=\"font-weight: bold\"> time_control_increment </span>┃<span style=\"font-weight: bold\"> time_control_type </span>┃\n",
       "┡━━━━━━━━━━━━━━━━━━━╇━━━━━━━━━━━━━━━━━━━━━━━━━━━━━━╇━━━━━━━━━━━━╇━━━━━━━━╇━━━━━━━━━━━━━━━━━━━╇━━━━━━━━━━━━━━━━━━━━╇━━━━━━━━━╇━━━━━━━━━━━━╇━━━━━━━━━━╇━━━━━━━━━━━╇━━━━━━━━━━━╇━━━━━━━━━━━━━━━━━━━╇━━━━━━━━━━━━━━━━━━━╇━━━━━━━━━━━━━╇━━━━━━━━━━━━━╇━━━━━━━━╇━━━━━━━━━━━━━━━━━━━━━━━━━━━━━━━━━━━━━━━━━━━━━━━━━━━━━━━━━━━━━━━━╇━━━━━━━━━━━━━━╇━━━━━━━━━━━━━━╇━━━━━━━━━━╇━━━━━━━━━━━━━━━━━━━━━━━━━━━━━╇━━━━━━━━━━━━━━━━━━━━━━━━╇━━━━━━━━━━━━━━━━━━━━━━━━╇━━━━━━━━━━━━━━━━━━━┩\n",
       "│ <span style=\"color: #7f7f7f; text-decoration-color: #7f7f7f\">string</span>            │ <span style=\"color: #7f7f7f; text-decoration-color: #7f7f7f\">string</span>                       │ <span style=\"color: #7f7f7f; text-decoration-color: #7f7f7f\">string</span>     │ <span style=\"color: #7f7f7f; text-decoration-color: #7f7f7f\">string</span> │ <span style=\"color: #7f7f7f; text-decoration-color: #7f7f7f\">string</span>            │ <span style=\"color: #7f7f7f; text-decoration-color: #7f7f7f\">string</span>             │ <span style=\"color: #7f7f7f; text-decoration-color: #7f7f7f\">string</span>  │ <span style=\"color: #7f7f7f; text-decoration-color: #7f7f7f\">string</span>     │ <span style=\"color: #7f7f7f; text-decoration-color: #7f7f7f\">string</span>   │ <span style=\"color: #7f7f7f; text-decoration-color: #7f7f7f\">string</span>    │ <span style=\"color: #7f7f7f; text-decoration-color: #7f7f7f\">string</span>    │ <span style=\"color: #7f7f7f; text-decoration-color: #7f7f7f\">string</span>            │ <span style=\"color: #7f7f7f; text-decoration-color: #7f7f7f\">string</span>            │ <span style=\"color: #7f7f7f; text-decoration-color: #7f7f7f\">string</span>      │ <span style=\"color: #7f7f7f; text-decoration-color: #7f7f7f\">string</span>      │ <span style=\"color: #7f7f7f; text-decoration-color: #7f7f7f\">string</span> │ <span style=\"color: #7f7f7f; text-decoration-color: #7f7f7f\">string</span>                                                         │ <span style=\"color: #7f7f7f; text-decoration-color: #7f7f7f\">string</span>       │ <span style=\"color: #7f7f7f; text-decoration-color: #7f7f7f\">string</span>       │ <span style=\"color: #7f7f7f; text-decoration-color: #7f7f7f\">int64</span>    │ <span style=\"color: #7f7f7f; text-decoration-color: #7f7f7f\">string</span>                      │ <span style=\"color: #7f7f7f; text-decoration-color: #7f7f7f\">int64</span>                  │ <span style=\"color: #7f7f7f; text-decoration-color: #7f7f7f\">int64</span>                  │ <span style=\"color: #7f7f7f; text-decoration-color: #7f7f7f\">string</span>            │\n",
       "├───────────────────┼──────────────────────────────┼────────────┼────────┼───────────────────┼────────────────────┼─────────┼────────────┼──────────┼───────────┼───────────┼───────────────────┼───────────────────┼─────────────┼─────────────┼────────┼────────────────────────────────────────────────────────────────┼──────────────┼──────────────┼──────────┼─────────────────────────────┼────────────────────────┼────────────────────────┼───────────────────┤\n",
       "│ <span style=\"color: #008000; text-decoration-color: #008000\">Rated Bullet game</span> │ <a href=\"https://lichess.org/qjWLfHje\" target=\"_blank\"><span style=\"color: #008000; text-decoration-color: #008000\">https://lichess.org/qjWLfHje</span></a> │ <span style=\"color: #008000; text-decoration-color: #008000\">2024.06.01</span> │ <span style=\"color: #008000; text-decoration-color: #008000\">-     </span> │ <span style=\"color: #008000; text-decoration-color: #008000\">simple-bot       </span> │ <span style=\"color: #008000; text-decoration-color: #008000\">simplexitor       </span> │ <span style=\"color: #008000; text-decoration-color: #008000\">1/2-1/2</span> │ <span style=\"color: #008000; text-decoration-color: #008000\">2024.06.01</span> │ <span style=\"color: #008000; text-decoration-color: #008000\">00:00:00</span> │ <span style=\"color: #008000; text-decoration-color: #008000\">1872     </span> │ <span style=\"color: #008000; text-decoration-color: #008000\">1744     </span> │ <span style=\"color: #008000; text-decoration-color: #008000\">-2               </span> │ <span style=\"color: #008000; text-decoration-color: #008000\">+2               </span> │ <span style=\"color: #008000; text-decoration-color: #008000\">BOT        </span> │ <span style=\"color: #008000; text-decoration-color: #008000\">BOT        </span> │ <span style=\"color: #008000; text-decoration-color: #008000\">A15   </span> │ <span style=\"color: #008000; text-decoration-color: #008000\">English Opening: Anglo-Indian Defense, King's Knight Variation</span> │ <span style=\"color: #008000; text-decoration-color: #008000\">60+1        </span> │ <span style=\"color: #008000; text-decoration-color: #008000\">Normal      </span> │        <span style=\"color: #008080; text-decoration-color: #008080; font-weight: bold\">1</span> │ <span style=\"color: #008000; text-decoration-color: #008000\">[%clk 0:01:00]             </span> │                     <span style=\"color: #008080; text-decoration-color: #008080; font-weight: bold\">60</span> │                      <span style=\"color: #008080; text-decoration-color: #008080; font-weight: bold\">1</span> │ <span style=\"color: #008000; text-decoration-color: #008000\">BULLET           </span> │\n",
       "│ <span style=\"color: #008000; text-decoration-color: #008000\">Rated Blitz game </span> │ <a href=\"https://lichess.org/u5a9yCCK\" target=\"_blank\"><span style=\"color: #008000; text-decoration-color: #008000\">https://lichess.org/u5a9yCCK</span></a> │ <span style=\"color: #008000; text-decoration-color: #008000\">2024.06.01</span> │ <span style=\"color: #008000; text-decoration-color: #008000\">-     </span> │ <span style=\"color: #008000; text-decoration-color: #008000\">bicanbican       </span> │ <span style=\"color: #008000; text-decoration-color: #008000\">browniemeister    </span> │ <span style=\"color: #008000; text-decoration-color: #008000\">1-0    </span> │ <span style=\"color: #008000; text-decoration-color: #008000\">2024.06.01</span> │ <span style=\"color: #008000; text-decoration-color: #008000\">00:00:00</span> │ <span style=\"color: #008000; text-decoration-color: #008000\">849      </span> │ <span style=\"color: #008000; text-decoration-color: #008000\">878      </span> │ <span style=\"color: #008000; text-decoration-color: #008000\">+6               </span> │ <span style=\"color: #008000; text-decoration-color: #008000\">-6               </span> │ <span style=\"color: #7f7f7f; text-decoration-color: #7f7f7f\">NULL</span>        │ <span style=\"color: #7f7f7f; text-decoration-color: #7f7f7f\">NULL</span>        │ <span style=\"color: #008000; text-decoration-color: #008000\">C25   </span> │ <span style=\"color: #008000; text-decoration-color: #008000\">Vienna Game                                                   </span> │ <span style=\"color: #008000; text-decoration-color: #008000\">300+3       </span> │ <span style=\"color: #008000; text-decoration-color: #008000\">Normal      </span> │        <span style=\"color: #008080; text-decoration-color: #008080; font-weight: bold\">1</span> │ <span style=\"color: #008000; text-decoration-color: #008000\">[%clk 0:05:00]             </span> │                    <span style=\"color: #008080; text-decoration-color: #008080; font-weight: bold\">300</span> │                      <span style=\"color: #008080; text-decoration-color: #008080; font-weight: bold\">3</span> │ <span style=\"color: #008000; text-decoration-color: #008000\">BLITZ            </span> │\n",
       "│ <span style=\"color: #008000; text-decoration-color: #008000\">Rated Blitz game </span> │ <a href=\"https://lichess.org/7DoIieyj\" target=\"_blank\"><span style=\"color: #008000; text-decoration-color: #008000\">https://lichess.org/7DoIieyj</span></a> │ <span style=\"color: #008000; text-decoration-color: #008000\">2024.06.01</span> │ <span style=\"color: #008000; text-decoration-color: #008000\">-     </span> │ <span style=\"color: #008000; text-decoration-color: #008000\">frito_rxs        </span> │ <span style=\"color: #008000; text-decoration-color: #008000\">davetbass         </span> │ <span style=\"color: #008000; text-decoration-color: #008000\">0-1    </span> │ <span style=\"color: #008000; text-decoration-color: #008000\">2024.06.01</span> │ <span style=\"color: #008000; text-decoration-color: #008000\">00:00:00</span> │ <span style=\"color: #008000; text-decoration-color: #008000\">599      </span> │ <span style=\"color: #008000; text-decoration-color: #008000\">750      </span> │ <span style=\"color: #008000; text-decoration-color: #008000\">-17              </span> │ <span style=\"color: #008000; text-decoration-color: #008000\">+3               </span> │ <span style=\"color: #7f7f7f; text-decoration-color: #7f7f7f\">NULL</span>        │ <span style=\"color: #7f7f7f; text-decoration-color: #7f7f7f\">NULL</span>        │ <span style=\"color: #008000; text-decoration-color: #008000\">C41   </span> │ <span style=\"color: #008000; text-decoration-color: #008000\">Philidor Defense                                              </span> │ <span style=\"color: #008000; text-decoration-color: #008000\">300+3       </span> │ <span style=\"color: #008000; text-decoration-color: #008000\">Normal      </span> │        <span style=\"color: #008080; text-decoration-color: #008080; font-weight: bold\">1</span> │ <span style=\"color: #008000; text-decoration-color: #008000\">[%eval 0.15] [%clk 0:05:00]</span> │                    <span style=\"color: #008080; text-decoration-color: #008080; font-weight: bold\">300</span> │                      <span style=\"color: #008080; text-decoration-color: #008080; font-weight: bold\">3</span> │ <span style=\"color: #008000; text-decoration-color: #008000\">BLITZ            </span> │\n",
       "│ <span style=\"color: #008000; text-decoration-color: #008000\">Rated Blitz game </span> │ <a href=\"https://lichess.org/iFJIviTw\" target=\"_blank\"><span style=\"color: #008000; text-decoration-color: #008000\">https://lichess.org/iFJIviTw</span></a> │ <span style=\"color: #008000; text-decoration-color: #008000\">2024.06.01</span> │ <span style=\"color: #008000; text-decoration-color: #008000\">-     </span> │ <span style=\"color: #008000; text-decoration-color: #008000\">Tanggor          </span> │ <span style=\"color: #008000; text-decoration-color: #008000\">CHITEVIVE         </span> │ <span style=\"color: #008000; text-decoration-color: #008000\">0-1    </span> │ <span style=\"color: #008000; text-decoration-color: #008000\">2024.06.01</span> │ <span style=\"color: #008000; text-decoration-color: #008000\">00:00:00</span> │ <span style=\"color: #008000; text-decoration-color: #008000\">1401     </span> │ <span style=\"color: #008000; text-decoration-color: #008000\">1319     </span> │ <span style=\"color: #008000; text-decoration-color: #008000\">-7               </span> │ <span style=\"color: #008000; text-decoration-color: #008000\">+8               </span> │ <span style=\"color: #7f7f7f; text-decoration-color: #7f7f7f\">NULL</span>        │ <span style=\"color: #7f7f7f; text-decoration-color: #7f7f7f\">NULL</span>        │ <span style=\"color: #008000; text-decoration-color: #008000\">B20   </span> │ <span style=\"color: #008000; text-decoration-color: #008000\">Sicilian Defense: Bowdler Attack                              </span> │ <span style=\"color: #008000; text-decoration-color: #008000\">300+3       </span> │ <span style=\"color: #008000; text-decoration-color: #008000\">Normal      </span> │        <span style=\"color: #008080; text-decoration-color: #008080; font-weight: bold\">1</span> │ <span style=\"color: #008000; text-decoration-color: #008000\">[%clk 0:05:00]             </span> │                    <span style=\"color: #008080; text-decoration-color: #008080; font-weight: bold\">300</span> │                      <span style=\"color: #008080; text-decoration-color: #008080; font-weight: bold\">3</span> │ <span style=\"color: #008000; text-decoration-color: #008000\">BLITZ            </span> │\n",
       "│ <span style=\"color: #008000; text-decoration-color: #008000\">Rated Blitz game </span> │ <a href=\"https://lichess.org/O2hfSAZZ\" target=\"_blank\"><span style=\"color: #008000; text-decoration-color: #008000\">https://lichess.org/O2hfSAZZ</span></a> │ <span style=\"color: #008000; text-decoration-color: #008000\">2024.06.01</span> │ <span style=\"color: #008000; text-decoration-color: #008000\">-     </span> │ <span style=\"color: #008000; text-decoration-color: #008000\">JustAnotherBadDay</span> │ <span style=\"color: #008000; text-decoration-color: #008000\">DODO-SATRIO6      </span> │ <span style=\"color: #008000; text-decoration-color: #008000\">0-1    </span> │ <span style=\"color: #008000; text-decoration-color: #008000\">2024.06.01</span> │ <span style=\"color: #008000; text-decoration-color: #008000\">00:00:00</span> │ <span style=\"color: #008000; text-decoration-color: #008000\">1989     </span> │ <span style=\"color: #008000; text-decoration-color: #008000\">1898     </span> │ <span style=\"color: #008000; text-decoration-color: #008000\">-8               </span> │ <span style=\"color: #008000; text-decoration-color: #008000\">+7               </span> │ <span style=\"color: #7f7f7f; text-decoration-color: #7f7f7f\">NULL</span>        │ <span style=\"color: #7f7f7f; text-decoration-color: #7f7f7f\">NULL</span>        │ <span style=\"color: #008000; text-decoration-color: #008000\">B18   </span> │ <span style=\"color: #008000; text-decoration-color: #008000\">Caro-Kann Defense: Classical Variation                        </span> │ <span style=\"color: #008000; text-decoration-color: #008000\">300+3       </span> │ <span style=\"color: #008000; text-decoration-color: #008000\">Normal      </span> │        <span style=\"color: #008080; text-decoration-color: #008080; font-weight: bold\">1</span> │ <span style=\"color: #008000; text-decoration-color: #008000\">[%clk 0:05:00]             </span> │                    <span style=\"color: #008080; text-decoration-color: #008080; font-weight: bold\">300</span> │                      <span style=\"color: #008080; text-decoration-color: #008080; font-weight: bold\">3</span> │ <span style=\"color: #008000; text-decoration-color: #008000\">BLITZ            </span> │\n",
       "│ <span style=\"color: #008000; text-decoration-color: #008000\">Rated Blitz game </span> │ <a href=\"https://lichess.org/NO0zV8V6\" target=\"_blank\"><span style=\"color: #008000; text-decoration-color: #008000\">https://lichess.org/NO0zV8V6</span></a> │ <span style=\"color: #008000; text-decoration-color: #008000\">2024.06.01</span> │ <span style=\"color: #008000; text-decoration-color: #008000\">-     </span> │ <span style=\"color: #008000; text-decoration-color: #008000\">Alreed           </span> │ <span style=\"color: #008000; text-decoration-color: #008000\">David9810         </span> │ <span style=\"color: #008000; text-decoration-color: #008000\">0-1    </span> │ <span style=\"color: #008000; text-decoration-color: #008000\">2024.06.01</span> │ <span style=\"color: #008000; text-decoration-color: #008000\">00:00:00</span> │ <span style=\"color: #008000; text-decoration-color: #008000\">879      </span> │ <span style=\"color: #008000; text-decoration-color: #008000\">907      </span> │ <span style=\"color: #008000; text-decoration-color: #008000\">-5               </span> │ <span style=\"color: #008000; text-decoration-color: #008000\">+12              </span> │ <span style=\"color: #7f7f7f; text-decoration-color: #7f7f7f\">NULL</span>        │ <span style=\"color: #7f7f7f; text-decoration-color: #7f7f7f\">NULL</span>        │ <span style=\"color: #008000; text-decoration-color: #008000\">C44   </span> │ <span style=\"color: #008000; text-decoration-color: #008000\">Ponziani Opening: Jaenisch Counterattack                      </span> │ <span style=\"color: #008000; text-decoration-color: #008000\">300+3       </span> │ <span style=\"color: #008000; text-decoration-color: #008000\">Normal      </span> │        <span style=\"color: #008080; text-decoration-color: #008080; font-weight: bold\">1</span> │ <span style=\"color: #008000; text-decoration-color: #008000\">[%clk 0:05:00]             </span> │                    <span style=\"color: #008080; text-decoration-color: #008080; font-weight: bold\">300</span> │                      <span style=\"color: #008080; text-decoration-color: #008080; font-weight: bold\">3</span> │ <span style=\"color: #008000; text-decoration-color: #008000\">BLITZ            </span> │\n",
       "│ <span style=\"color: #008000; text-decoration-color: #008000\">Rated Blitz game </span> │ <a href=\"https://lichess.org/u06sZWal\" target=\"_blank\"><span style=\"color: #008000; text-decoration-color: #008000\">https://lichess.org/u06sZWal</span></a> │ <span style=\"color: #008000; text-decoration-color: #008000\">2024.06.01</span> │ <span style=\"color: #008000; text-decoration-color: #008000\">-     </span> │ <span style=\"color: #008000; text-decoration-color: #008000\">mori-nu          </span> │ <span style=\"color: #008000; text-decoration-color: #008000\">Nokiam            </span> │ <span style=\"color: #008000; text-decoration-color: #008000\">1-0    </span> │ <span style=\"color: #008000; text-decoration-color: #008000\">2024.06.01</span> │ <span style=\"color: #008000; text-decoration-color: #008000\">00:00:00</span> │ <span style=\"color: #008000; text-decoration-color: #008000\">1276     </span> │ <span style=\"color: #008000; text-decoration-color: #008000\">1394     </span> │ <span style=\"color: #008000; text-decoration-color: #008000\">+8               </span> │ <span style=\"color: #008000; text-decoration-color: #008000\">-14              </span> │ <span style=\"color: #7f7f7f; text-decoration-color: #7f7f7f\">NULL</span>        │ <span style=\"color: #7f7f7f; text-decoration-color: #7f7f7f\">NULL</span>        │ <span style=\"color: #008000; text-decoration-color: #008000\">C53   </span> │ <span style=\"color: #008000; text-decoration-color: #008000\">Italian Game: Classical Variation, La Bourdonnais Variation   </span> │ <span style=\"color: #008000; text-decoration-color: #008000\">300+3       </span> │ <span style=\"color: #008000; text-decoration-color: #008000\">Normal      </span> │        <span style=\"color: #008080; text-decoration-color: #008080; font-weight: bold\">1</span> │ <span style=\"color: #008000; text-decoration-color: #008000\">[%clk 0:05:00]             </span> │                    <span style=\"color: #008080; text-decoration-color: #008080; font-weight: bold\">300</span> │                      <span style=\"color: #008080; text-decoration-color: #008080; font-weight: bold\">3</span> │ <span style=\"color: #008000; text-decoration-color: #008000\">BLITZ            </span> │\n",
       "│ <span style=\"color: #008000; text-decoration-color: #008000\">Rated Blitz game </span> │ <a href=\"https://lichess.org/n4JttQ1N\" target=\"_blank\"><span style=\"color: #008000; text-decoration-color: #008000\">https://lichess.org/n4JttQ1N</span></a> │ <span style=\"color: #008000; text-decoration-color: #008000\">2024.06.01</span> │ <span style=\"color: #008000; text-decoration-color: #008000\">-     </span> │ <span style=\"color: #008000; text-decoration-color: #008000\">tomaxxiano10     </span> │ <span style=\"color: #008000; text-decoration-color: #008000\">LucianoNRECuritiba</span> │ <span style=\"color: #008000; text-decoration-color: #008000\">1-0    </span> │ <span style=\"color: #008000; text-decoration-color: #008000\">2024.06.01</span> │ <span style=\"color: #008000; text-decoration-color: #008000\">00:00:00</span> │ <span style=\"color: #008000; text-decoration-color: #008000\">911      </span> │ <span style=\"color: #008000; text-decoration-color: #008000\">1030     </span> │ <span style=\"color: #008000; text-decoration-color: #008000\">+8               </span> │ <span style=\"color: #008000; text-decoration-color: #008000\">-11              </span> │ <span style=\"color: #7f7f7f; text-decoration-color: #7f7f7f\">NULL</span>        │ <span style=\"color: #7f7f7f; text-decoration-color: #7f7f7f\">NULL</span>        │ <span style=\"color: #008000; text-decoration-color: #008000\">C50   </span> │ <span style=\"color: #008000; text-decoration-color: #008000\">Italian Game: Anti-Fried Liver Defense                        </span> │ <span style=\"color: #008000; text-decoration-color: #008000\">300+3       </span> │ <span style=\"color: #008000; text-decoration-color: #008000\">Normal      </span> │        <span style=\"color: #008080; text-decoration-color: #008080; font-weight: bold\">1</span> │ <span style=\"color: #008000; text-decoration-color: #008000\">[%clk 0:05:00]             </span> │                    <span style=\"color: #008080; text-decoration-color: #008080; font-weight: bold\">300</span> │                      <span style=\"color: #008080; text-decoration-color: #008080; font-weight: bold\">3</span> │ <span style=\"color: #008000; text-decoration-color: #008000\">BLITZ            </span> │\n",
       "│ <span style=\"color: #008000; text-decoration-color: #008000\">Rated Blitz game </span> │ <a href=\"https://lichess.org/EaFHBtng\" target=\"_blank\"><span style=\"color: #008000; text-decoration-color: #008000\">https://lichess.org/EaFHBtng</span></a> │ <span style=\"color: #008000; text-decoration-color: #008000\">2024.06.01</span> │ <span style=\"color: #008000; text-decoration-color: #008000\">-     </span> │ <span style=\"color: #008000; text-decoration-color: #008000\">ajh2011          </span> │ <span style=\"color: #008000; text-decoration-color: #008000\">slygroovis        </span> │ <span style=\"color: #008000; text-decoration-color: #008000\">1-0    </span> │ <span style=\"color: #008000; text-decoration-color: #008000\">2024.06.01</span> │ <span style=\"color: #008000; text-decoration-color: #008000\">00:00:00</span> │ <span style=\"color: #008000; text-decoration-color: #008000\">1255     </span> │ <span style=\"color: #008000; text-decoration-color: #008000\">1267     </span> │ <span style=\"color: #008000; text-decoration-color: #008000\">+6               </span> │ <span style=\"color: #008000; text-decoration-color: #008000\">-6               </span> │ <span style=\"color: #7f7f7f; text-decoration-color: #7f7f7f\">NULL</span>        │ <span style=\"color: #7f7f7f; text-decoration-color: #7f7f7f\">NULL</span>        │ <span style=\"color: #008000; text-decoration-color: #008000\">C42   </span> │ <span style=\"color: #008000; text-decoration-color: #008000\">Russian Game: Stafford Gambit                                 </span> │ <span style=\"color: #008000; text-decoration-color: #008000\">300+3       </span> │ <span style=\"color: #008000; text-decoration-color: #008000\">Time forfeit</span> │        <span style=\"color: #008080; text-decoration-color: #008080; font-weight: bold\">1</span> │ <span style=\"color: #008000; text-decoration-color: #008000\">[%clk 0:05:00]             </span> │                    <span style=\"color: #008080; text-decoration-color: #008080; font-weight: bold\">300</span> │                      <span style=\"color: #008080; text-decoration-color: #008080; font-weight: bold\">3</span> │ <span style=\"color: #008000; text-decoration-color: #008000\">BLITZ            </span> │\n",
       "│ <span style=\"color: #008000; text-decoration-color: #008000\">Rated Blitz game </span> │ <a href=\"https://lichess.org/YonW355p\" target=\"_blank\"><span style=\"color: #008000; text-decoration-color: #008000\">https://lichess.org/YonW355p</span></a> │ <span style=\"color: #008000; text-decoration-color: #008000\">2024.06.01</span> │ <span style=\"color: #008000; text-decoration-color: #008000\">-     </span> │ <span style=\"color: #008000; text-decoration-color: #008000\">Owechkin_1962    </span> │ <span style=\"color: #008000; text-decoration-color: #008000\">orangutanburner   </span> │ <span style=\"color: #008000; text-decoration-color: #008000\">1-0    </span> │ <span style=\"color: #008000; text-decoration-color: #008000\">2024.06.01</span> │ <span style=\"color: #008000; text-decoration-color: #008000\">00:00:00</span> │ <span style=\"color: #008000; text-decoration-color: #008000\">1629     </span> │ <span style=\"color: #008000; text-decoration-color: #008000\">1703     </span> │ <span style=\"color: #008000; text-decoration-color: #008000\">+6               </span> │ <span style=\"color: #008000; text-decoration-color: #008000\">-83              </span> │ <span style=\"color: #7f7f7f; text-decoration-color: #7f7f7f\">NULL</span>        │ <span style=\"color: #7f7f7f; text-decoration-color: #7f7f7f\">NULL</span>        │ <span style=\"color: #008000; text-decoration-color: #008000\">B21   </span> │ <span style=\"color: #008000; text-decoration-color: #008000\">Sicilian Defense: McDonnell Attack                            </span> │ <span style=\"color: #008000; text-decoration-color: #008000\">300+3       </span> │ <span style=\"color: #008000; text-decoration-color: #008000\">Normal      </span> │        <span style=\"color: #008080; text-decoration-color: #008080; font-weight: bold\">1</span> │ <span style=\"color: #008000; text-decoration-color: #008000\">[%clk 0:05:00]             </span> │                    <span style=\"color: #008080; text-decoration-color: #008080; font-weight: bold\">300</span> │                      <span style=\"color: #008080; text-decoration-color: #008080; font-weight: bold\">3</span> │ <span style=\"color: #008000; text-decoration-color: #008000\">BLITZ            </span> │\n",
       "│ <span style=\"color: #7f7f7f; text-decoration-color: #7f7f7f\">…</span>                 │ <span style=\"color: #7f7f7f; text-decoration-color: #7f7f7f\">…</span>                            │ <span style=\"color: #7f7f7f; text-decoration-color: #7f7f7f\">…</span>          │ <span style=\"color: #7f7f7f; text-decoration-color: #7f7f7f\">…</span>      │ <span style=\"color: #7f7f7f; text-decoration-color: #7f7f7f\">…</span>                 │ <span style=\"color: #7f7f7f; text-decoration-color: #7f7f7f\">…</span>                  │ <span style=\"color: #7f7f7f; text-decoration-color: #7f7f7f\">…</span>       │ <span style=\"color: #7f7f7f; text-decoration-color: #7f7f7f\">…</span>          │ <span style=\"color: #7f7f7f; text-decoration-color: #7f7f7f\">…</span>        │ <span style=\"color: #7f7f7f; text-decoration-color: #7f7f7f\">…</span>         │ <span style=\"color: #7f7f7f; text-decoration-color: #7f7f7f\">…</span>         │ <span style=\"color: #7f7f7f; text-decoration-color: #7f7f7f\">…</span>                 │ <span style=\"color: #7f7f7f; text-decoration-color: #7f7f7f\">…</span>                 │ <span style=\"color: #7f7f7f; text-decoration-color: #7f7f7f\">…</span>           │ <span style=\"color: #7f7f7f; text-decoration-color: #7f7f7f\">…</span>           │ <span style=\"color: #7f7f7f; text-decoration-color: #7f7f7f\">…</span>      │ <span style=\"color: #7f7f7f; text-decoration-color: #7f7f7f\">…</span>                                                              │ <span style=\"color: #7f7f7f; text-decoration-color: #7f7f7f\">…</span>            │ <span style=\"color: #7f7f7f; text-decoration-color: #7f7f7f\">…</span>            │        <span style=\"color: #7f7f7f; text-decoration-color: #7f7f7f\">…</span> │ <span style=\"color: #7f7f7f; text-decoration-color: #7f7f7f\">…</span>                           │                      <span style=\"color: #7f7f7f; text-decoration-color: #7f7f7f\">…</span> │                      <span style=\"color: #7f7f7f; text-decoration-color: #7f7f7f\">…</span> │ <span style=\"color: #7f7f7f; text-decoration-color: #7f7f7f\">…</span>                 │\n",
       "└───────────────────┴──────────────────────────────┴────────────┴────────┴───────────────────┴────────────────────┴─────────┴────────────┴──────────┴───────────┴───────────┴───────────────────┴───────────────────┴─────────────┴─────────────┴────────┴────────────────────────────────────────────────────────────────┴──────────────┴──────────────┴──────────┴─────────────────────────────┴────────────────────────┴────────────────────────┴───────────────────┘\n",
       "</pre>\n"
      ],
      "text/plain": [
       "┏━━━━━━━━━━━━━━━━━━━┳━━━━━━━━━━━━━━━━━━━━━━━━━━━━━━┳━━━━━━━━━━━━┳━━━━━━━━┳━━━━━━━━━━━━━━━━━━━┳━━━━━━━━━━━━━━━━━━━━┳━━━━━━━━━┳━━━━━━━━━━━━┳━━━━━━━━━━┳━━━━━━━━━━━┳━━━━━━━━━━━┳━━━━━━━━━━━━━━━━━━━┳━━━━━━━━━━━━━━━━━━━┳━━━━━━━━━━━━━┳━━━━━━━━━━━━━┳━━━━━━━━┳━━━━━━━━━━━━━━━━━━━━━━━━━━━━━━━━━━━━━━━━━━━━━━━━━━━━━━━━━━━━━━━━┳━━━━━━━━━━━━━━┳━━━━━━━━━━━━━━┳━━━━━━━━━━┳━━━━━━━━━━━━━━━━━━━━━━━━━━━━━┳━━━━━━━━━━━━━━━━━━━━━━━━┳━━━━━━━━━━━━━━━━━━━━━━━━┳━━━━━━━━━━━━━━━━━━━┓\n",
       "┃\u001b[1m \u001b[0m\u001b[1mevent\u001b[0m\u001b[1m            \u001b[0m\u001b[1m \u001b[0m┃\u001b[1m \u001b[0m\u001b[1msite\u001b[0m\u001b[1m                        \u001b[0m\u001b[1m \u001b[0m┃\u001b[1m \u001b[0m\u001b[1mdate\u001b[0m\u001b[1m      \u001b[0m\u001b[1m \u001b[0m┃\u001b[1m \u001b[0m\u001b[1mround\u001b[0m\u001b[1m \u001b[0m\u001b[1m \u001b[0m┃\u001b[1m \u001b[0m\u001b[1mwhite\u001b[0m\u001b[1m            \u001b[0m\u001b[1m \u001b[0m┃\u001b[1m \u001b[0m\u001b[1mblack\u001b[0m\u001b[1m             \u001b[0m\u001b[1m \u001b[0m┃\u001b[1m \u001b[0m\u001b[1mresult\u001b[0m\u001b[1m \u001b[0m\u001b[1m \u001b[0m┃\u001b[1m \u001b[0m\u001b[1mutc_date\u001b[0m\u001b[1m  \u001b[0m\u001b[1m \u001b[0m┃\u001b[1m \u001b[0m\u001b[1mutc_time\u001b[0m\u001b[1m \u001b[0m┃\u001b[1m \u001b[0m\u001b[1mwhite_elo\u001b[0m\u001b[1m \u001b[0m┃\u001b[1m \u001b[0m\u001b[1mblack_elo\u001b[0m\u001b[1m \u001b[0m┃\u001b[1m \u001b[0m\u001b[1mwhite_rating_diff\u001b[0m\u001b[1m \u001b[0m┃\u001b[1m \u001b[0m\u001b[1mblack_rating_diff\u001b[0m\u001b[1m \u001b[0m┃\u001b[1m \u001b[0m\u001b[1mwhite_title\u001b[0m\u001b[1m \u001b[0m┃\u001b[1m \u001b[0m\u001b[1mblack_title\u001b[0m\u001b[1m \u001b[0m┃\u001b[1m \u001b[0m\u001b[1meco\u001b[0m\u001b[1m   \u001b[0m\u001b[1m \u001b[0m┃\u001b[1m \u001b[0m\u001b[1mopening\u001b[0m\u001b[1m                                                       \u001b[0m\u001b[1m \u001b[0m┃\u001b[1m \u001b[0m\u001b[1mtime_control\u001b[0m\u001b[1m \u001b[0m┃\u001b[1m \u001b[0m\u001b[1mtermination\u001b[0m\u001b[1m \u001b[0m\u001b[1m \u001b[0m┃\u001b[1m \u001b[0m\u001b[1mmove_ply\u001b[0m\u001b[1m \u001b[0m┃\u001b[1m \u001b[0m\u001b[1mmove_comment\u001b[0m\u001b[1m               \u001b[0m\u001b[1m \u001b[0m┃\u001b[1m \u001b[0m\u001b[1mtime_control_base_time\u001b[0m\u001b[1m \u001b[0m┃\u001b[1m \u001b[0m\u001b[1mtime_control_increment\u001b[0m\u001b[1m \u001b[0m┃\u001b[1m \u001b[0m\u001b[1mtime_control_type\u001b[0m\u001b[1m \u001b[0m┃\n",
       "┡━━━━━━━━━━━━━━━━━━━╇━━━━━━━━━━━━━━━━━━━━━━━━━━━━━━╇━━━━━━━━━━━━╇━━━━━━━━╇━━━━━━━━━━━━━━━━━━━╇━━━━━━━━━━━━━━━━━━━━╇━━━━━━━━━╇━━━━━━━━━━━━╇━━━━━━━━━━╇━━━━━━━━━━━╇━━━━━━━━━━━╇━━━━━━━━━━━━━━━━━━━╇━━━━━━━━━━━━━━━━━━━╇━━━━━━━━━━━━━╇━━━━━━━━━━━━━╇━━━━━━━━╇━━━━━━━━━━━━━━━━━━━━━━━━━━━━━━━━━━━━━━━━━━━━━━━━━━━━━━━━━━━━━━━━╇━━━━━━━━━━━━━━╇━━━━━━━━━━━━━━╇━━━━━━━━━━╇━━━━━━━━━━━━━━━━━━━━━━━━━━━━━╇━━━━━━━━━━━━━━━━━━━━━━━━╇━━━━━━━━━━━━━━━━━━━━━━━━╇━━━━━━━━━━━━━━━━━━━┩\n",
       "│ \u001b[2mstring\u001b[0m            │ \u001b[2mstring\u001b[0m                       │ \u001b[2mstring\u001b[0m     │ \u001b[2mstring\u001b[0m │ \u001b[2mstring\u001b[0m            │ \u001b[2mstring\u001b[0m             │ \u001b[2mstring\u001b[0m  │ \u001b[2mstring\u001b[0m     │ \u001b[2mstring\u001b[0m   │ \u001b[2mstring\u001b[0m    │ \u001b[2mstring\u001b[0m    │ \u001b[2mstring\u001b[0m            │ \u001b[2mstring\u001b[0m            │ \u001b[2mstring\u001b[0m      │ \u001b[2mstring\u001b[0m      │ \u001b[2mstring\u001b[0m │ \u001b[2mstring\u001b[0m                                                         │ \u001b[2mstring\u001b[0m       │ \u001b[2mstring\u001b[0m       │ \u001b[2mint64\u001b[0m    │ \u001b[2mstring\u001b[0m                      │ \u001b[2mint64\u001b[0m                  │ \u001b[2mint64\u001b[0m                  │ \u001b[2mstring\u001b[0m            │\n",
       "├───────────────────┼──────────────────────────────┼────────────┼────────┼───────────────────┼────────────────────┼─────────┼────────────┼──────────┼───────────┼───────────┼───────────────────┼───────────────────┼─────────────┼─────────────┼────────┼────────────────────────────────────────────────────────────────┼──────────────┼──────────────┼──────────┼─────────────────────────────┼────────────────────────┼────────────────────────┼───────────────────┤\n",
       "│ \u001b[32mRated Bullet game\u001b[0m │ \u001b]8;id=837962;https://lichess.org/qjWLfHje\u001b\\\u001b[32mhttps://lichess.org/qjWLfHje\u001b[0m\u001b]8;;\u001b\\ │ \u001b[32m2024.06.01\u001b[0m │ \u001b[32m-     \u001b[0m │ \u001b[32msimple-bot       \u001b[0m │ \u001b[32msimplexitor       \u001b[0m │ \u001b[32m1/2-1/2\u001b[0m │ \u001b[32m2024.06.01\u001b[0m │ \u001b[32m00:00:00\u001b[0m │ \u001b[32m1872     \u001b[0m │ \u001b[32m1744     \u001b[0m │ \u001b[32m-2               \u001b[0m │ \u001b[32m+2               \u001b[0m │ \u001b[32mBOT        \u001b[0m │ \u001b[32mBOT        \u001b[0m │ \u001b[32mA15   \u001b[0m │ \u001b[32mEnglish Opening: Anglo-Indian Defense, King's Knight Variation\u001b[0m │ \u001b[32m60+1        \u001b[0m │ \u001b[32mNormal      \u001b[0m │        \u001b[1;36m1\u001b[0m │ \u001b[32m[%clk 0:01:00]             \u001b[0m │                     \u001b[1;36m60\u001b[0m │                      \u001b[1;36m1\u001b[0m │ \u001b[32mBULLET           \u001b[0m │\n",
       "│ \u001b[32mRated Blitz game \u001b[0m │ \u001b]8;id=503182;https://lichess.org/u5a9yCCK\u001b\\\u001b[32mhttps://lichess.org/u5a9yCCK\u001b[0m\u001b]8;;\u001b\\ │ \u001b[32m2024.06.01\u001b[0m │ \u001b[32m-     \u001b[0m │ \u001b[32mbicanbican       \u001b[0m │ \u001b[32mbrowniemeister    \u001b[0m │ \u001b[32m1-0    \u001b[0m │ \u001b[32m2024.06.01\u001b[0m │ \u001b[32m00:00:00\u001b[0m │ \u001b[32m849      \u001b[0m │ \u001b[32m878      \u001b[0m │ \u001b[32m+6               \u001b[0m │ \u001b[32m-6               \u001b[0m │ \u001b[2mNULL\u001b[0m        │ \u001b[2mNULL\u001b[0m        │ \u001b[32mC25   \u001b[0m │ \u001b[32mVienna Game                                                   \u001b[0m │ \u001b[32m300+3       \u001b[0m │ \u001b[32mNormal      \u001b[0m │        \u001b[1;36m1\u001b[0m │ \u001b[32m[%clk 0:05:00]             \u001b[0m │                    \u001b[1;36m300\u001b[0m │                      \u001b[1;36m3\u001b[0m │ \u001b[32mBLITZ            \u001b[0m │\n",
       "│ \u001b[32mRated Blitz game \u001b[0m │ \u001b]8;id=457677;https://lichess.org/7DoIieyj\u001b\\\u001b[32mhttps://lichess.org/7DoIieyj\u001b[0m\u001b]8;;\u001b\\ │ \u001b[32m2024.06.01\u001b[0m │ \u001b[32m-     \u001b[0m │ \u001b[32mfrito_rxs        \u001b[0m │ \u001b[32mdavetbass         \u001b[0m │ \u001b[32m0-1    \u001b[0m │ \u001b[32m2024.06.01\u001b[0m │ \u001b[32m00:00:00\u001b[0m │ \u001b[32m599      \u001b[0m │ \u001b[32m750      \u001b[0m │ \u001b[32m-17              \u001b[0m │ \u001b[32m+3               \u001b[0m │ \u001b[2mNULL\u001b[0m        │ \u001b[2mNULL\u001b[0m        │ \u001b[32mC41   \u001b[0m │ \u001b[32mPhilidor Defense                                              \u001b[0m │ \u001b[32m300+3       \u001b[0m │ \u001b[32mNormal      \u001b[0m │        \u001b[1;36m1\u001b[0m │ \u001b[32m[%eval 0.15] [%clk 0:05:00]\u001b[0m │                    \u001b[1;36m300\u001b[0m │                      \u001b[1;36m3\u001b[0m │ \u001b[32mBLITZ            \u001b[0m │\n",
       "│ \u001b[32mRated Blitz game \u001b[0m │ \u001b]8;id=812768;https://lichess.org/iFJIviTw\u001b\\\u001b[32mhttps://lichess.org/iFJIviTw\u001b[0m\u001b]8;;\u001b\\ │ \u001b[32m2024.06.01\u001b[0m │ \u001b[32m-     \u001b[0m │ \u001b[32mTanggor          \u001b[0m │ \u001b[32mCHITEVIVE         \u001b[0m │ \u001b[32m0-1    \u001b[0m │ \u001b[32m2024.06.01\u001b[0m │ \u001b[32m00:00:00\u001b[0m │ \u001b[32m1401     \u001b[0m │ \u001b[32m1319     \u001b[0m │ \u001b[32m-7               \u001b[0m │ \u001b[32m+8               \u001b[0m │ \u001b[2mNULL\u001b[0m        │ \u001b[2mNULL\u001b[0m        │ \u001b[32mB20   \u001b[0m │ \u001b[32mSicilian Defense: Bowdler Attack                              \u001b[0m │ \u001b[32m300+3       \u001b[0m │ \u001b[32mNormal      \u001b[0m │        \u001b[1;36m1\u001b[0m │ \u001b[32m[%clk 0:05:00]             \u001b[0m │                    \u001b[1;36m300\u001b[0m │                      \u001b[1;36m3\u001b[0m │ \u001b[32mBLITZ            \u001b[0m │\n",
       "│ \u001b[32mRated Blitz game \u001b[0m │ \u001b]8;id=197348;https://lichess.org/O2hfSAZZ\u001b\\\u001b[32mhttps://lichess.org/O2hfSAZZ\u001b[0m\u001b]8;;\u001b\\ │ \u001b[32m2024.06.01\u001b[0m │ \u001b[32m-     \u001b[0m │ \u001b[32mJustAnotherBadDay\u001b[0m │ \u001b[32mDODO-SATRIO6      \u001b[0m │ \u001b[32m0-1    \u001b[0m │ \u001b[32m2024.06.01\u001b[0m │ \u001b[32m00:00:00\u001b[0m │ \u001b[32m1989     \u001b[0m │ \u001b[32m1898     \u001b[0m │ \u001b[32m-8               \u001b[0m │ \u001b[32m+7               \u001b[0m │ \u001b[2mNULL\u001b[0m        │ \u001b[2mNULL\u001b[0m        │ \u001b[32mB18   \u001b[0m │ \u001b[32mCaro-Kann Defense: Classical Variation                        \u001b[0m │ \u001b[32m300+3       \u001b[0m │ \u001b[32mNormal      \u001b[0m │        \u001b[1;36m1\u001b[0m │ \u001b[32m[%clk 0:05:00]             \u001b[0m │                    \u001b[1;36m300\u001b[0m │                      \u001b[1;36m3\u001b[0m │ \u001b[32mBLITZ            \u001b[0m │\n",
       "│ \u001b[32mRated Blitz game \u001b[0m │ \u001b]8;id=91825;https://lichess.org/NO0zV8V6\u001b\\\u001b[32mhttps://lichess.org/NO0zV8V6\u001b[0m\u001b]8;;\u001b\\ │ \u001b[32m2024.06.01\u001b[0m │ \u001b[32m-     \u001b[0m │ \u001b[32mAlreed           \u001b[0m │ \u001b[32mDavid9810         \u001b[0m │ \u001b[32m0-1    \u001b[0m │ \u001b[32m2024.06.01\u001b[0m │ \u001b[32m00:00:00\u001b[0m │ \u001b[32m879      \u001b[0m │ \u001b[32m907      \u001b[0m │ \u001b[32m-5               \u001b[0m │ \u001b[32m+12              \u001b[0m │ \u001b[2mNULL\u001b[0m        │ \u001b[2mNULL\u001b[0m        │ \u001b[32mC44   \u001b[0m │ \u001b[32mPonziani Opening: Jaenisch Counterattack                      \u001b[0m │ \u001b[32m300+3       \u001b[0m │ \u001b[32mNormal      \u001b[0m │        \u001b[1;36m1\u001b[0m │ \u001b[32m[%clk 0:05:00]             \u001b[0m │                    \u001b[1;36m300\u001b[0m │                      \u001b[1;36m3\u001b[0m │ \u001b[32mBLITZ            \u001b[0m │\n",
       "│ \u001b[32mRated Blitz game \u001b[0m │ \u001b]8;id=139886;https://lichess.org/u06sZWal\u001b\\\u001b[32mhttps://lichess.org/u06sZWal\u001b[0m\u001b]8;;\u001b\\ │ \u001b[32m2024.06.01\u001b[0m │ \u001b[32m-     \u001b[0m │ \u001b[32mmori-nu          \u001b[0m │ \u001b[32mNokiam            \u001b[0m │ \u001b[32m1-0    \u001b[0m │ \u001b[32m2024.06.01\u001b[0m │ \u001b[32m00:00:00\u001b[0m │ \u001b[32m1276     \u001b[0m │ \u001b[32m1394     \u001b[0m │ \u001b[32m+8               \u001b[0m │ \u001b[32m-14              \u001b[0m │ \u001b[2mNULL\u001b[0m        │ \u001b[2mNULL\u001b[0m        │ \u001b[32mC53   \u001b[0m │ \u001b[32mItalian Game: Classical Variation, La Bourdonnais Variation   \u001b[0m │ \u001b[32m300+3       \u001b[0m │ \u001b[32mNormal      \u001b[0m │        \u001b[1;36m1\u001b[0m │ \u001b[32m[%clk 0:05:00]             \u001b[0m │                    \u001b[1;36m300\u001b[0m │                      \u001b[1;36m3\u001b[0m │ \u001b[32mBLITZ            \u001b[0m │\n",
       "│ \u001b[32mRated Blitz game \u001b[0m │ \u001b]8;id=352580;https://lichess.org/n4JttQ1N\u001b\\\u001b[32mhttps://lichess.org/n4JttQ1N\u001b[0m\u001b]8;;\u001b\\ │ \u001b[32m2024.06.01\u001b[0m │ \u001b[32m-     \u001b[0m │ \u001b[32mtomaxxiano10     \u001b[0m │ \u001b[32mLucianoNRECuritiba\u001b[0m │ \u001b[32m1-0    \u001b[0m │ \u001b[32m2024.06.01\u001b[0m │ \u001b[32m00:00:00\u001b[0m │ \u001b[32m911      \u001b[0m │ \u001b[32m1030     \u001b[0m │ \u001b[32m+8               \u001b[0m │ \u001b[32m-11              \u001b[0m │ \u001b[2mNULL\u001b[0m        │ \u001b[2mNULL\u001b[0m        │ \u001b[32mC50   \u001b[0m │ \u001b[32mItalian Game: Anti-Fried Liver Defense                        \u001b[0m │ \u001b[32m300+3       \u001b[0m │ \u001b[32mNormal      \u001b[0m │        \u001b[1;36m1\u001b[0m │ \u001b[32m[%clk 0:05:00]             \u001b[0m │                    \u001b[1;36m300\u001b[0m │                      \u001b[1;36m3\u001b[0m │ \u001b[32mBLITZ            \u001b[0m │\n",
       "│ \u001b[32mRated Blitz game \u001b[0m │ \u001b]8;id=837410;https://lichess.org/EaFHBtng\u001b\\\u001b[32mhttps://lichess.org/EaFHBtng\u001b[0m\u001b]8;;\u001b\\ │ \u001b[32m2024.06.01\u001b[0m │ \u001b[32m-     \u001b[0m │ \u001b[32majh2011          \u001b[0m │ \u001b[32mslygroovis        \u001b[0m │ \u001b[32m1-0    \u001b[0m │ \u001b[32m2024.06.01\u001b[0m │ \u001b[32m00:00:00\u001b[0m │ \u001b[32m1255     \u001b[0m │ \u001b[32m1267     \u001b[0m │ \u001b[32m+6               \u001b[0m │ \u001b[32m-6               \u001b[0m │ \u001b[2mNULL\u001b[0m        │ \u001b[2mNULL\u001b[0m        │ \u001b[32mC42   \u001b[0m │ \u001b[32mRussian Game: Stafford Gambit                                 \u001b[0m │ \u001b[32m300+3       \u001b[0m │ \u001b[32mTime forfeit\u001b[0m │        \u001b[1;36m1\u001b[0m │ \u001b[32m[%clk 0:05:00]             \u001b[0m │                    \u001b[1;36m300\u001b[0m │                      \u001b[1;36m3\u001b[0m │ \u001b[32mBLITZ            \u001b[0m │\n",
       "│ \u001b[32mRated Blitz game \u001b[0m │ \u001b]8;id=41105;https://lichess.org/YonW355p\u001b\\\u001b[32mhttps://lichess.org/YonW355p\u001b[0m\u001b]8;;\u001b\\ │ \u001b[32m2024.06.01\u001b[0m │ \u001b[32m-     \u001b[0m │ \u001b[32mOwechkin_1962    \u001b[0m │ \u001b[32morangutanburner   \u001b[0m │ \u001b[32m1-0    \u001b[0m │ \u001b[32m2024.06.01\u001b[0m │ \u001b[32m00:00:00\u001b[0m │ \u001b[32m1629     \u001b[0m │ \u001b[32m1703     \u001b[0m │ \u001b[32m+6               \u001b[0m │ \u001b[32m-83              \u001b[0m │ \u001b[2mNULL\u001b[0m        │ \u001b[2mNULL\u001b[0m        │ \u001b[32mB21   \u001b[0m │ \u001b[32mSicilian Defense: McDonnell Attack                            \u001b[0m │ \u001b[32m300+3       \u001b[0m │ \u001b[32mNormal      \u001b[0m │        \u001b[1;36m1\u001b[0m │ \u001b[32m[%clk 0:05:00]             \u001b[0m │                    \u001b[1;36m300\u001b[0m │                      \u001b[1;36m3\u001b[0m │ \u001b[32mBLITZ            \u001b[0m │\n",
       "│ \u001b[2m…\u001b[0m                 │ \u001b[2m…\u001b[0m                            │ \u001b[2m…\u001b[0m          │ \u001b[2m…\u001b[0m      │ \u001b[2m…\u001b[0m                 │ \u001b[2m…\u001b[0m                  │ \u001b[2m…\u001b[0m       │ \u001b[2m…\u001b[0m          │ \u001b[2m…\u001b[0m        │ \u001b[2m…\u001b[0m         │ \u001b[2m…\u001b[0m         │ \u001b[2m…\u001b[0m                 │ \u001b[2m…\u001b[0m                 │ \u001b[2m…\u001b[0m           │ \u001b[2m…\u001b[0m           │ \u001b[2m…\u001b[0m      │ \u001b[2m…\u001b[0m                                                              │ \u001b[2m…\u001b[0m            │ \u001b[2m…\u001b[0m            │        \u001b[2m…\u001b[0m │ \u001b[2m…\u001b[0m                           │                      \u001b[2m…\u001b[0m │                      \u001b[2m…\u001b[0m │ \u001b[2m…\u001b[0m                 │\n",
       "└───────────────────┴──────────────────────────────┴────────────┴────────┴───────────────────┴────────────────────┴─────────┴────────────┴──────────┴───────────┴───────────┴───────────────────┴───────────────────┴─────────────┴─────────────┴────────┴────────────────────────────────────────────────────────────────┴──────────────┴──────────────┴──────────┴─────────────────────────────┴────────────────────────┴────────────────────────┴───────────────────┘"
      ]
     },
     "execution_count": 37,
     "metadata": {},
     "output_type": "execute_result"
    }
   ],
   "source": []
  },
  {
   "cell_type": "code",
   "execution_count": 38,
   "id": "d8b03dab-49b8-404f-8330-5fd036cfaf58",
   "metadata": {},
   "outputs": [
    {
     "data": {
      "text/html": [
       "<pre style=\"white-space:pre;overflow-x:auto;line-height:normal;font-family:Menlo,'DejaVu Sans Mono',consolas,'Courier New',monospace\">┏━━━━━━━━━━━━━━━━━━━┳━━━━━━━━━━━━━━━━━━━━━━━━━┓\n",
       "┃<span style=\"font-weight: bold\"> time_control_type </span>┃<span style=\"font-weight: bold\"> time_control_type_count </span>┃\n",
       "┡━━━━━━━━━━━━━━━━━━━╇━━━━━━━━━━━━━━━━━━━━━━━━━┩\n",
       "│ <span style=\"color: #7f7f7f; text-decoration-color: #7f7f7f\">string</span>            │ <span style=\"color: #7f7f7f; text-decoration-color: #7f7f7f\">int64</span>                   │\n",
       "├───────────────────┼─────────────────────────┤\n",
       "│ <span style=\"color: #008000; text-decoration-color: #008000\">BULLET           </span> │                <span style=\"color: #008080; text-decoration-color: #008080; font-weight: bold\">27246758</span> │\n",
       "│ <span style=\"color: #008000; text-decoration-color: #008000\">BLITZ            </span> │                <span style=\"color: #008080; text-decoration-color: #008080; font-weight: bold\">58277252</span> │\n",
       "│ <span style=\"color: #008000; text-decoration-color: #008000\">RAPID            </span> │                 <span style=\"color: #008080; text-decoration-color: #008080; font-weight: bold\">3526013</span> │\n",
       "│ <span style=\"color: #008000; text-decoration-color: #008000\">UNLIMITED        </span> │                   <span style=\"color: #008080; text-decoration-color: #008080; font-weight: bold\">79076</span> │\n",
       "│ <span style=\"color: #008000; text-decoration-color: #008000\">STANDARD         </span> │                   <span style=\"color: #008080; text-decoration-color: #008080; font-weight: bold\">37367</span> │\n",
       "└───────────────────┴─────────────────────────┘\n",
       "</pre>\n"
      ],
      "text/plain": [
       "┏━━━━━━━━━━━━━━━━━━━┳━━━━━━━━━━━━━━━━━━━━━━━━━┓\n",
       "┃\u001b[1m \u001b[0m\u001b[1mtime_control_type\u001b[0m\u001b[1m \u001b[0m┃\u001b[1m \u001b[0m\u001b[1mtime_control_type_count\u001b[0m\u001b[1m \u001b[0m┃\n",
       "┡━━━━━━━━━━━━━━━━━━━╇━━━━━━━━━━━━━━━━━━━━━━━━━┩\n",
       "│ \u001b[2mstring\u001b[0m            │ \u001b[2mint64\u001b[0m                   │\n",
       "├───────────────────┼─────────────────────────┤\n",
       "│ \u001b[32mBULLET           \u001b[0m │                \u001b[1;36m27246758\u001b[0m │\n",
       "│ \u001b[32mBLITZ            \u001b[0m │                \u001b[1;36m58277252\u001b[0m │\n",
       "│ \u001b[32mRAPID            \u001b[0m │                 \u001b[1;36m3526013\u001b[0m │\n",
       "│ \u001b[32mUNLIMITED        \u001b[0m │                   \u001b[1;36m79076\u001b[0m │\n",
       "│ \u001b[32mSTANDARD         \u001b[0m │                   \u001b[1;36m37367\u001b[0m │\n",
       "└───────────────────┴─────────────────────────┘"
      ]
     },
     "execution_count": 38,
     "metadata": {},
     "output_type": "execute_result"
    }
   ],
   "source": [
    "games_with_parsed_time_control.time_control_type.value_counts()"
   ]
  },
  {
   "cell_type": "code",
   "execution_count": 11,
   "id": "720b01bb-ce51-4864-a106-aad8e477b99a",
   "metadata": {},
   "outputs": [
    {
     "data": {
      "text/html": [
       "<pre style=\"white-space:pre;overflow-x:auto;line-height:normal;font-family:Menlo,'DejaVu Sans Mono',consolas,'Courier New',monospace\">┏━━━━━━━━━━━━━━━━━━━┳━━━━━━━━━━━━━━━━━━━━━━━━━┓\n",
       "┃<span style=\"font-weight: bold\"> time_control_type </span>┃<span style=\"font-weight: bold\"> time_control_type_count </span>┃\n",
       "┡━━━━━━━━━━━━━━━━━━━╇━━━━━━━━━━━━━━━━━━━━━━━━━┩\n",
       "│ <span style=\"color: #7f7f7f; text-decoration-color: #7f7f7f\">string</span>            │ <span style=\"color: #7f7f7f; text-decoration-color: #7f7f7f\">int64</span>                   │\n",
       "├───────────────────┼─────────────────────────┤\n",
       "│ <span style=\"color: #008000; text-decoration-color: #008000\">UNLIMITED        </span> │                   <span style=\"color: #008080; text-decoration-color: #008080; font-weight: bold\">79076</span> │\n",
       "│ <span style=\"color: #7f7f7f; text-decoration-color: #7f7f7f\">NULL</span>              │                <span style=\"color: #008080; text-decoration-color: #008080; font-weight: bold\">89087390</span> │\n",
       "└───────────────────┴─────────────────────────┘\n",
       "</pre>\n"
      ],
      "text/plain": [
       "┏━━━━━━━━━━━━━━━━━━━┳━━━━━━━━━━━━━━━━━━━━━━━━━┓\n",
       "┃\u001b[1m \u001b[0m\u001b[1mtime_control_type\u001b[0m\u001b[1m \u001b[0m┃\u001b[1m \u001b[0m\u001b[1mtime_control_type_count\u001b[0m\u001b[1m \u001b[0m┃\n",
       "┡━━━━━━━━━━━━━━━━━━━╇━━━━━━━━━━━━━━━━━━━━━━━━━┩\n",
       "│ \u001b[2mstring\u001b[0m            │ \u001b[2mint64\u001b[0m                   │\n",
       "├───────────────────┼─────────────────────────┤\n",
       "│ \u001b[32mUNLIMITED        \u001b[0m │                   \u001b[1;36m79076\u001b[0m │\n",
       "│ \u001b[2mNULL\u001b[0m              │                \u001b[1;36m89087390\u001b[0m │\n",
       "└───────────────────┴─────────────────────────┘"
      ]
     },
     "execution_count": 11,
     "metadata": {},
     "output_type": "execute_result"
    }
   ],
   "source": [
    "# games_with_parsed_time_control.time_control_type.value_counts()"
   ]
  },
  {
   "cell_type": "code",
   "execution_count": 12,
   "id": "2681f84f-6f63-489d-a897-cd84d8b02a90",
   "metadata": {},
   "outputs": [
    {
     "data": {
      "text/html": [
       "<pre style=\"white-space:pre;overflow-x:auto;line-height:normal;font-family:Menlo,'DejaVu Sans Mono',consolas,'Courier New',monospace\">┏━━━━━━━━━━━━━━━━━━━━━━━━━━━━━━━━━━━┳━━━━━━━━━━━━━━━━━━━━━━━━━━━━━━━━━━━━━━━━━┓\n",
       "┃<span style=\"font-weight: bold\"> StringContains(time_control, '+') </span>┃<span style=\"font-weight: bold\"> StringContains(time_control, '+')_count </span>┃\n",
       "┡━━━━━━━━━━━━━━━━━━━━━━━━━━━━━━━━━━━╇━━━━━━━━━━━━━━━━━━━━━━━━━━━━━━━━━━━━━━━━━┩\n",
       "│ <span style=\"color: #7f7f7f; text-decoration-color: #7f7f7f\">boolean</span>                           │ <span style=\"color: #7f7f7f; text-decoration-color: #7f7f7f\">int64</span>                                   │\n",
       "├───────────────────────────────────┼─────────────────────────────────────────┤\n",
       "│ True                              │                                <span style=\"color: #008080; text-decoration-color: #008080; font-weight: bold\">89087390</span> │\n",
       "└───────────────────────────────────┴─────────────────────────────────────────┘\n",
       "</pre>\n"
      ],
      "text/plain": [
       "┏━━━━━━━━━━━━━━━━━━━━━━━━━━━━━━━━━━━┳━━━━━━━━━━━━━━━━━━━━━━━━━━━━━━━━━━━━━━━━━┓\n",
       "┃\u001b[1m \u001b[0m\u001b[1mStringContains(time_control, '+')\u001b[0m\u001b[1m \u001b[0m┃\u001b[1m \u001b[0m\u001b[1mStringContains(time_control, '+')_count\u001b[0m\u001b[1m \u001b[0m┃\n",
       "┡━━━━━━━━━━━━━━━━━━━━━━━━━━━━━━━━━━━╇━━━━━━━━━━━━━━━━━━━━━━━━━━━━━━━━━━━━━━━━━┩\n",
       "│ \u001b[2mboolean\u001b[0m                           │ \u001b[2mint64\u001b[0m                                   │\n",
       "├───────────────────────────────────┼─────────────────────────────────────────┤\n",
       "│ True                              │                                \u001b[1;36m89087390\u001b[0m │\n",
       "└───────────────────────────────────┴─────────────────────────────────────────┘"
      ]
     },
     "execution_count": 12,
     "metadata": {},
     "output_type": "execute_result"
    }
   ],
   "source": [
    "# games_with_parsed_time_control[_.time_control_type.isnull()].time_control.contains(\"+\").value_counts()"
   ]
  },
  {
   "cell_type": "code",
   "execution_count": 39,
   "id": "73582cb9-68bf-49a7-a622-cae5a6a21b4a",
   "metadata": {},
   "outputs": [
    {
     "data": {
      "text/html": [
       "<pre style=\"white-space:pre;overflow-x:auto;line-height:normal;font-family:Menlo,'DejaVu Sans Mono',consolas,'Courier New',monospace\">┏━━━━━━━━━━━━━━━━━━━━━━━━┳━━━━━━━━━━━━━━━━━━━━━━━━━━━━━━┓\n",
       "┃<span style=\"font-weight: bold\"> time_control_base_time </span>┃<span style=\"font-weight: bold\"> time_control_base_time_count </span>┃\n",
       "┡━━━━━━━━━━━━━━━━━━━━━━━━╇━━━━━━━━━━━━━━━━━━━━━━━━━━━━━━┩\n",
       "│ <span style=\"color: #7f7f7f; text-decoration-color: #7f7f7f\">int64</span>                  │ <span style=\"color: #7f7f7f; text-decoration-color: #7f7f7f\">int64</span>                        │\n",
       "├────────────────────────┼──────────────────────────────┤\n",
       "│                     <span style=\"color: #008080; text-decoration-color: #008080; font-weight: bold\">60</span> │                     <span style=\"color: #008080; text-decoration-color: #008080; font-weight: bold\">25379680</span> │\n",
       "│                    <span style=\"color: #008080; text-decoration-color: #008080; font-weight: bold\">180</span> │                     <span style=\"color: #008080; text-decoration-color: #008080; font-weight: bold\">24984761</span> │\n",
       "│                    <span style=\"color: #008080; text-decoration-color: #008080; font-weight: bold\">300</span> │                     <span style=\"color: #008080; text-decoration-color: #008080; font-weight: bold\">17092439</span> │\n",
       "│                    <span style=\"color: #008080; text-decoration-color: #008080; font-weight: bold\">600</span> │                     <span style=\"color: #008080; text-decoration-color: #008080; font-weight: bold\">11436542</span> │\n",
       "│                    <span style=\"color: #008080; text-decoration-color: #008080; font-weight: bold\">120</span> │                      <span style=\"color: #008080; text-decoration-color: #008080; font-weight: bold\">6439227</span> │\n",
       "│                     <span style=\"color: #008080; text-decoration-color: #008080; font-weight: bold\">15</span> │                       <span style=\"color: #008080; text-decoration-color: #008080; font-weight: bold\">836902</span> │\n",
       "│                     <span style=\"color: #008080; text-decoration-color: #008080; font-weight: bold\">30</span> │                       <span style=\"color: #008080; text-decoration-color: #008080; font-weight: bold\">821689</span> │\n",
       "│                    <span style=\"color: #008080; text-decoration-color: #008080; font-weight: bold\">900</span> │                       <span style=\"color: #008080; text-decoration-color: #008080; font-weight: bold\">812877</span> │\n",
       "│                   <span style=\"color: #008080; text-decoration-color: #008080; font-weight: bold\">1800</span> │                       <span style=\"color: #008080; text-decoration-color: #008080; font-weight: bold\">381655</span> │\n",
       "│                    <span style=\"color: #008080; text-decoration-color: #008080; font-weight: bold\">420</span> │                       <span style=\"color: #008080; text-decoration-color: #008080; font-weight: bold\">194039</span> │\n",
       "│                      <span style=\"color: #7f7f7f; text-decoration-color: #7f7f7f\">…</span> │                            <span style=\"color: #7f7f7f; text-decoration-color: #7f7f7f\">…</span> │\n",
       "└────────────────────────┴──────────────────────────────┘\n",
       "</pre>\n"
      ],
      "text/plain": [
       "┏━━━━━━━━━━━━━━━━━━━━━━━━┳━━━━━━━━━━━━━━━━━━━━━━━━━━━━━━┓\n",
       "┃\u001b[1m \u001b[0m\u001b[1mtime_control_base_time\u001b[0m\u001b[1m \u001b[0m┃\u001b[1m \u001b[0m\u001b[1mtime_control_base_time_count\u001b[0m\u001b[1m \u001b[0m┃\n",
       "┡━━━━━━━━━━━━━━━━━━━━━━━━╇━━━━━━━━━━━━━━━━━━━━━━━━━━━━━━┩\n",
       "│ \u001b[2mint64\u001b[0m                  │ \u001b[2mint64\u001b[0m                        │\n",
       "├────────────────────────┼──────────────────────────────┤\n",
       "│                     \u001b[1;36m60\u001b[0m │                     \u001b[1;36m25379680\u001b[0m │\n",
       "│                    \u001b[1;36m180\u001b[0m │                     \u001b[1;36m24984761\u001b[0m │\n",
       "│                    \u001b[1;36m300\u001b[0m │                     \u001b[1;36m17092439\u001b[0m │\n",
       "│                    \u001b[1;36m600\u001b[0m │                     \u001b[1;36m11436542\u001b[0m │\n",
       "│                    \u001b[1;36m120\u001b[0m │                      \u001b[1;36m6439227\u001b[0m │\n",
       "│                     \u001b[1;36m15\u001b[0m │                       \u001b[1;36m836902\u001b[0m │\n",
       "│                     \u001b[1;36m30\u001b[0m │                       \u001b[1;36m821689\u001b[0m │\n",
       "│                    \u001b[1;36m900\u001b[0m │                       \u001b[1;36m812877\u001b[0m │\n",
       "│                   \u001b[1;36m1800\u001b[0m │                       \u001b[1;36m381655\u001b[0m │\n",
       "│                    \u001b[1;36m420\u001b[0m │                       \u001b[1;36m194039\u001b[0m │\n",
       "│                      \u001b[2m…\u001b[0m │                            \u001b[2m…\u001b[0m │\n",
       "└────────────────────────┴──────────────────────────────┘"
      ]
     },
     "execution_count": 39,
     "metadata": {},
     "output_type": "execute_result"
    }
   ],
   "source": [
    "games_with_parsed_time_control.time_control_base_time.value_counts().order_by(ibis.desc(\"time_control_base_time_count\"))"
   ]
  },
  {
   "cell_type": "code",
   "execution_count": 42,
   "id": "c97accba-701f-49a4-93ad-09f1cbd71912",
   "metadata": {},
   "outputs": [
    {
     "data": {
      "text/html": [
       "<pre style=\"white-space:pre;overflow-x:auto;line-height:normal;font-family:Menlo,'DejaVu Sans Mono',consolas,'Courier New',monospace\"></pre>\n"
      ],
      "text/plain": []
     },
     "metadata": {},
     "output_type": "display_data"
    },
    {
     "data": {
      "text/plain": [
       "┌───────┐\n",
       "│ \u001b[1;36m79076\u001b[0m │\n",
       "└───────┘"
      ]
     },
     "execution_count": 42,
     "metadata": {},
     "output_type": "execute_result"
    }
   ],
   "source": [
    "games_with_parsed_time_control[_.time_control_base_time.isnull()].count()"
   ]
  },
  {
   "cell_type": "code",
   "execution_count": 40,
   "id": "f980920b-9ae5-4bd0-9efc-c762f37fe2b6",
   "metadata": {},
   "outputs": [
    {
     "data": {
      "text/html": [
       "<pre style=\"white-space:pre;overflow-x:auto;line-height:normal;font-family:Menlo,'DejaVu Sans Mono',consolas,'Courier New',monospace\">┏━━━━━━━━━━━━━━━━━━━━━━━━┳━━━━━━━━━━━━━━━━━━━━━━━━━━━━━━┓\n",
       "┃<span style=\"font-weight: bold\"> time_control_increment </span>┃<span style=\"font-weight: bold\"> time_control_increment_count </span>┃\n",
       "┡━━━━━━━━━━━━━━━━━━━━━━━━╇━━━━━━━━━━━━━━━━━━━━━━━━━━━━━━┩\n",
       "│ <span style=\"color: #7f7f7f; text-decoration-color: #7f7f7f\">int64</span>                  │ <span style=\"color: #7f7f7f; text-decoration-color: #7f7f7f\">int64</span>                        │\n",
       "├────────────────────────┼──────────────────────────────┤\n",
       "│                      <span style=\"color: #008080; text-decoration-color: #008080; font-weight: bold\">0</span> │                     <span style=\"color: #008080; text-decoration-color: #008080; font-weight: bold\">66338276</span> │\n",
       "│                      <span style=\"color: #008080; text-decoration-color: #008080; font-weight: bold\">2</span> │                      <span style=\"color: #008080; text-decoration-color: #008080; font-weight: bold\">7861548</span> │\n",
       "│                      <span style=\"color: #008080; text-decoration-color: #008080; font-weight: bold\">1</span> │                      <span style=\"color: #008080; text-decoration-color: #008080; font-weight: bold\">6697148</span> │\n",
       "│                      <span style=\"color: #008080; text-decoration-color: #008080; font-weight: bold\">3</span> │                      <span style=\"color: #008080; text-decoration-color: #008080; font-weight: bold\">4893868</span> │\n",
       "│                      <span style=\"color: #008080; text-decoration-color: #008080; font-weight: bold\">5</span> │                      <span style=\"color: #008080; text-decoration-color: #008080; font-weight: bold\">2294165</span> │\n",
       "│                     <span style=\"color: #008080; text-decoration-color: #008080; font-weight: bold\">10</span> │                       <span style=\"color: #008080; text-decoration-color: #008080; font-weight: bold\">652845</span> │\n",
       "│                   <span style=\"color: #7f7f7f; text-decoration-color: #7f7f7f\">NULL</span> │                        <span style=\"color: #008080; text-decoration-color: #008080; font-weight: bold\">79076</span> │\n",
       "│                      <span style=\"color: #008080; text-decoration-color: #008080; font-weight: bold\">4</span> │                        <span style=\"color: #008080; text-decoration-color: #008080; font-weight: bold\">78241</span> │\n",
       "│                      <span style=\"color: #008080; text-decoration-color: #008080; font-weight: bold\">8</span> │                        <span style=\"color: #008080; text-decoration-color: #008080; font-weight: bold\">60939</span> │\n",
       "│                     <span style=\"color: #008080; text-decoration-color: #008080; font-weight: bold\">20</span> │                        <span style=\"color: #008080; text-decoration-color: #008080; font-weight: bold\">50024</span> │\n",
       "│                      <span style=\"color: #7f7f7f; text-decoration-color: #7f7f7f\">…</span> │                            <span style=\"color: #7f7f7f; text-decoration-color: #7f7f7f\">…</span> │\n",
       "└────────────────────────┴──────────────────────────────┘\n",
       "</pre>\n"
      ],
      "text/plain": [
       "┏━━━━━━━━━━━━━━━━━━━━━━━━┳━━━━━━━━━━━━━━━━━━━━━━━━━━━━━━┓\n",
       "┃\u001b[1m \u001b[0m\u001b[1mtime_control_increment\u001b[0m\u001b[1m \u001b[0m┃\u001b[1m \u001b[0m\u001b[1mtime_control_increment_count\u001b[0m\u001b[1m \u001b[0m┃\n",
       "┡━━━━━━━━━━━━━━━━━━━━━━━━╇━━━━━━━━━━━━━━━━━━━━━━━━━━━━━━┩\n",
       "│ \u001b[2mint64\u001b[0m                  │ \u001b[2mint64\u001b[0m                        │\n",
       "├────────────────────────┼──────────────────────────────┤\n",
       "│                      \u001b[1;36m0\u001b[0m │                     \u001b[1;36m66338276\u001b[0m │\n",
       "│                      \u001b[1;36m2\u001b[0m │                      \u001b[1;36m7861548\u001b[0m │\n",
       "│                      \u001b[1;36m1\u001b[0m │                      \u001b[1;36m6697148\u001b[0m │\n",
       "│                      \u001b[1;36m3\u001b[0m │                      \u001b[1;36m4893868\u001b[0m │\n",
       "│                      \u001b[1;36m5\u001b[0m │                      \u001b[1;36m2294165\u001b[0m │\n",
       "│                     \u001b[1;36m10\u001b[0m │                       \u001b[1;36m652845\u001b[0m │\n",
       "│                   \u001b[2mNULL\u001b[0m │                        \u001b[1;36m79076\u001b[0m │\n",
       "│                      \u001b[1;36m4\u001b[0m │                        \u001b[1;36m78241\u001b[0m │\n",
       "│                      \u001b[1;36m8\u001b[0m │                        \u001b[1;36m60939\u001b[0m │\n",
       "│                     \u001b[1;36m20\u001b[0m │                        \u001b[1;36m50024\u001b[0m │\n",
       "│                      \u001b[2m…\u001b[0m │                            \u001b[2m…\u001b[0m │\n",
       "└────────────────────────┴──────────────────────────────┘"
      ]
     },
     "execution_count": 40,
     "metadata": {},
     "output_type": "execute_result"
    }
   ],
   "source": [
    "games_with_parsed_time_control.time_control_increment.value_counts().order_by(ibis.desc(\"time_control_increment_count\"))"
   ]
  },
  {
   "cell_type": "code",
   "execution_count": null,
   "id": "b9f9975c-df3f-4e90-ba18-3ce409e5ecd6",
   "metadata": {},
   "outputs": [],
   "source": []
  }
 ],
 "metadata": {
  "kernelspec": {
   "display_name": "Python 3 (ipykernel)",
   "language": "python",
   "name": "python3"
  },
  "language_info": {
   "codemirror_mode": {
    "name": "ipython",
    "version": 3
   },
   "file_extension": ".py",
   "mimetype": "text/x-python",
   "name": "python",
   "nbconvert_exporter": "python",
   "pygments_lexer": "ipython3",
   "version": "3.12.4"
  }
 },
 "nbformat": 4,
 "nbformat_minor": 5
}
