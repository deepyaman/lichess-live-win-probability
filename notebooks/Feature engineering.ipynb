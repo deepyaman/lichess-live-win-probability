{
 "cells": [
  {
   "cell_type": "code",
   "execution_count": 1,
   "id": "3089ea85-30fa-49d0-a6b8-421f68c4ac1a",
   "metadata": {},
   "outputs": [],
   "source": [
    "import ibis\n",
    "from ibis import _\n",
    "\n",
    "ibis.options.interactive = True"
   ]
  },
  {
   "cell_type": "code",
   "execution_count": 2,
   "id": "19c39195-c829-4235-a3ae-c6603332cdfb",
   "metadata": {},
   "outputs": [
    {
     "data": {
      "text/html": [
       "<pre style=\"white-space:pre;overflow-x:auto;line-height:normal;font-family:Menlo,'DejaVu Sans Mono',consolas,'Courier New',monospace\">┏━━━━━━━━━━━━━━━━━━┳━━━━━━━━━━━━━━━━━━━━━━━━━━━━━━┳━━━━━━━━━━━━┳━━━━━━━━┳━━━━━━━━━━━━┳━━━━━━━━━┳━━━━━━━━┳━━━━━━━━━━━━┳━━━━━━━━━━┳━━━━━━━━━━━┳━━━━━━━━━━━┳━━━━━━━━━━━━━━━━━━━┳━━━━━━━━━━━━━━━━━━━┳━━━━━━━━━━━━━┳━━━━━━━━━━━━━┳━━━━━━━━┳━━━━━━━━━━━━━━━━━━━━━━━━━━━━━━━━━━┳━━━━━━━━━━━━━━┳━━━━━━━━━━━━━┳━━━━━━━━━━┳━━━━━━━━━━━━━━━━┓\n",
       "┃<span style=\"font-weight: bold\"> event            </span>┃<span style=\"font-weight: bold\"> site                         </span>┃<span style=\"font-weight: bold\"> date       </span>┃<span style=\"font-weight: bold\"> round  </span>┃<span style=\"font-weight: bold\"> white      </span>┃<span style=\"font-weight: bold\"> black   </span>┃<span style=\"font-weight: bold\"> result </span>┃<span style=\"font-weight: bold\"> utc_date   </span>┃<span style=\"font-weight: bold\"> utc_time </span>┃<span style=\"font-weight: bold\"> white_elo </span>┃<span style=\"font-weight: bold\"> black_elo </span>┃<span style=\"font-weight: bold\"> white_rating_diff </span>┃<span style=\"font-weight: bold\"> black_rating_diff </span>┃<span style=\"font-weight: bold\"> white_title </span>┃<span style=\"font-weight: bold\"> black_title </span>┃<span style=\"font-weight: bold\"> eco    </span>┃<span style=\"font-weight: bold\"> opening                          </span>┃<span style=\"font-weight: bold\"> time_control </span>┃<span style=\"font-weight: bold\"> termination </span>┃<span style=\"font-weight: bold\"> move_ply </span>┃<span style=\"font-weight: bold\"> move_comment   </span>┃\n",
       "┡━━━━━━━━━━━━━━━━━━╇━━━━━━━━━━━━━━━━━━━━━━━━━━━━━━╇━━━━━━━━━━━━╇━━━━━━━━╇━━━━━━━━━━━━╇━━━━━━━━━╇━━━━━━━━╇━━━━━━━━━━━━╇━━━━━━━━━━╇━━━━━━━━━━━╇━━━━━━━━━━━╇━━━━━━━━━━━━━━━━━━━╇━━━━━━━━━━━━━━━━━━━╇━━━━━━━━━━━━━╇━━━━━━━━━━━━━╇━━━━━━━━╇━━━━━━━━━━━━━━━━━━━━━━━━━━━━━━━━━━╇━━━━━━━━━━━━━━╇━━━━━━━━━━━━━╇━━━━━━━━━━╇━━━━━━━━━━━━━━━━┩\n",
       "│ <span style=\"color: #7f7f7f; text-decoration-color: #7f7f7f\">string</span>           │ <span style=\"color: #7f7f7f; text-decoration-color: #7f7f7f\">string</span>                       │ <span style=\"color: #7f7f7f; text-decoration-color: #7f7f7f\">string</span>     │ <span style=\"color: #7f7f7f; text-decoration-color: #7f7f7f\">string</span> │ <span style=\"color: #7f7f7f; text-decoration-color: #7f7f7f\">string</span>     │ <span style=\"color: #7f7f7f; text-decoration-color: #7f7f7f\">string</span>  │ <span style=\"color: #7f7f7f; text-decoration-color: #7f7f7f\">string</span> │ <span style=\"color: #7f7f7f; text-decoration-color: #7f7f7f\">string</span>     │ <span style=\"color: #7f7f7f; text-decoration-color: #7f7f7f\">string</span>   │ <span style=\"color: #7f7f7f; text-decoration-color: #7f7f7f\">string</span>    │ <span style=\"color: #7f7f7f; text-decoration-color: #7f7f7f\">string</span>    │ <span style=\"color: #7f7f7f; text-decoration-color: #7f7f7f\">string</span>            │ <span style=\"color: #7f7f7f; text-decoration-color: #7f7f7f\">string</span>            │ <span style=\"color: #7f7f7f; text-decoration-color: #7f7f7f\">string</span>      │ <span style=\"color: #7f7f7f; text-decoration-color: #7f7f7f\">string</span>      │ <span style=\"color: #7f7f7f; text-decoration-color: #7f7f7f\">string</span> │ <span style=\"color: #7f7f7f; text-decoration-color: #7f7f7f\">string</span>                           │ <span style=\"color: #7f7f7f; text-decoration-color: #7f7f7f\">string</span>       │ <span style=\"color: #7f7f7f; text-decoration-color: #7f7f7f\">string</span>      │ <span style=\"color: #7f7f7f; text-decoration-color: #7f7f7f\">int64</span>    │ <span style=\"color: #7f7f7f; text-decoration-color: #7f7f7f\">string</span>         │\n",
       "├──────────────────┼──────────────────────────────┼────────────┼────────┼────────────┼─────────┼────────┼────────────┼──────────┼───────────┼───────────┼───────────────────┼───────────────────┼─────────────┼─────────────┼────────┼──────────────────────────────────┼──────────────┼─────────────┼──────────┼────────────────┤\n",
       "│ <span style=\"color: #008000; text-decoration-color: #008000\">Rated Blitz game</span> │ <a href=\"https://lichess.org/oMT7qJHb\" target=\"_blank\"><span style=\"color: #008000; text-decoration-color: #008000\">https://lichess.org/oMT7qJHb</span></a> │ <span style=\"color: #008000; text-decoration-color: #008000\">2024.07.03</span> │ <span style=\"color: #008000; text-decoration-color: #008000\">-     </span> │ <span style=\"color: #008000; text-decoration-color: #008000\">bonasagala</span> │ <span style=\"color: #008000; text-decoration-color: #008000\">DrPoBoz</span> │ <span style=\"color: #008000; text-decoration-color: #008000\">0-1   </span> │ <span style=\"color: #008000; text-decoration-color: #008000\">2024.07.03</span> │ <span style=\"color: #008000; text-decoration-color: #008000\">15:51:34</span> │ <span style=\"color: #008000; text-decoration-color: #008000\">1440     </span> │ <span style=\"color: #008000; text-decoration-color: #008000\">1481     </span> │ <span style=\"color: #008000; text-decoration-color: #008000\">-5               </span> │ <span style=\"color: #008000; text-decoration-color: #008000\">+5               </span> │ <span style=\"color: #7f7f7f; text-decoration-color: #7f7f7f\">NULL</span>        │ <span style=\"color: #7f7f7f; text-decoration-color: #7f7f7f\">NULL</span>        │ <span style=\"color: #008000; text-decoration-color: #008000\">C42   </span> │ <span style=\"color: #008000; text-decoration-color: #008000\">Russian Game: Three Knights Game</span> │ <span style=\"color: #008000; text-decoration-color: #008000\">300+0       </span> │ <span style=\"color: #008000; text-decoration-color: #008000\">Normal     </span> │        <span style=\"color: #008080; text-decoration-color: #008080; font-weight: bold\">1</span> │ <span style=\"color: #008000; text-decoration-color: #008000\">[%clk 0:05:00]</span> │\n",
       "│ <span style=\"color: #008000; text-decoration-color: #008000\">Rated Blitz game</span> │ <a href=\"https://lichess.org/oMT7qJHb\" target=\"_blank\"><span style=\"color: #008000; text-decoration-color: #008000\">https://lichess.org/oMT7qJHb</span></a> │ <span style=\"color: #008000; text-decoration-color: #008000\">2024.07.03</span> │ <span style=\"color: #008000; text-decoration-color: #008000\">-     </span> │ <span style=\"color: #008000; text-decoration-color: #008000\">bonasagala</span> │ <span style=\"color: #008000; text-decoration-color: #008000\">DrPoBoz</span> │ <span style=\"color: #008000; text-decoration-color: #008000\">0-1   </span> │ <span style=\"color: #008000; text-decoration-color: #008000\">2024.07.03</span> │ <span style=\"color: #008000; text-decoration-color: #008000\">15:51:34</span> │ <span style=\"color: #008000; text-decoration-color: #008000\">1440     </span> │ <span style=\"color: #008000; text-decoration-color: #008000\">1481     </span> │ <span style=\"color: #008000; text-decoration-color: #008000\">-5               </span> │ <span style=\"color: #008000; text-decoration-color: #008000\">+5               </span> │ <span style=\"color: #7f7f7f; text-decoration-color: #7f7f7f\">NULL</span>        │ <span style=\"color: #7f7f7f; text-decoration-color: #7f7f7f\">NULL</span>        │ <span style=\"color: #008000; text-decoration-color: #008000\">C42   </span> │ <span style=\"color: #008000; text-decoration-color: #008000\">Russian Game: Three Knights Game</span> │ <span style=\"color: #008000; text-decoration-color: #008000\">300+0       </span> │ <span style=\"color: #008000; text-decoration-color: #008000\">Normal     </span> │        <span style=\"color: #008080; text-decoration-color: #008080; font-weight: bold\">2</span> │ <span style=\"color: #008000; text-decoration-color: #008000\">[%clk 0:05:00]</span> │\n",
       "│ <span style=\"color: #008000; text-decoration-color: #008000\">Rated Blitz game</span> │ <a href=\"https://lichess.org/oMT7qJHb\" target=\"_blank\"><span style=\"color: #008000; text-decoration-color: #008000\">https://lichess.org/oMT7qJHb</span></a> │ <span style=\"color: #008000; text-decoration-color: #008000\">2024.07.03</span> │ <span style=\"color: #008000; text-decoration-color: #008000\">-     </span> │ <span style=\"color: #008000; text-decoration-color: #008000\">bonasagala</span> │ <span style=\"color: #008000; text-decoration-color: #008000\">DrPoBoz</span> │ <span style=\"color: #008000; text-decoration-color: #008000\">0-1   </span> │ <span style=\"color: #008000; text-decoration-color: #008000\">2024.07.03</span> │ <span style=\"color: #008000; text-decoration-color: #008000\">15:51:34</span> │ <span style=\"color: #008000; text-decoration-color: #008000\">1440     </span> │ <span style=\"color: #008000; text-decoration-color: #008000\">1481     </span> │ <span style=\"color: #008000; text-decoration-color: #008000\">-5               </span> │ <span style=\"color: #008000; text-decoration-color: #008000\">+5               </span> │ <span style=\"color: #7f7f7f; text-decoration-color: #7f7f7f\">NULL</span>        │ <span style=\"color: #7f7f7f; text-decoration-color: #7f7f7f\">NULL</span>        │ <span style=\"color: #008000; text-decoration-color: #008000\">C42   </span> │ <span style=\"color: #008000; text-decoration-color: #008000\">Russian Game: Three Knights Game</span> │ <span style=\"color: #008000; text-decoration-color: #008000\">300+0       </span> │ <span style=\"color: #008000; text-decoration-color: #008000\">Normal     </span> │        <span style=\"color: #008080; text-decoration-color: #008080; font-weight: bold\">3</span> │ <span style=\"color: #008000; text-decoration-color: #008000\">[%clk 0:04:55]</span> │\n",
       "│ <span style=\"color: #008000; text-decoration-color: #008000\">Rated Blitz game</span> │ <a href=\"https://lichess.org/oMT7qJHb\" target=\"_blank\"><span style=\"color: #008000; text-decoration-color: #008000\">https://lichess.org/oMT7qJHb</span></a> │ <span style=\"color: #008000; text-decoration-color: #008000\">2024.07.03</span> │ <span style=\"color: #008000; text-decoration-color: #008000\">-     </span> │ <span style=\"color: #008000; text-decoration-color: #008000\">bonasagala</span> │ <span style=\"color: #008000; text-decoration-color: #008000\">DrPoBoz</span> │ <span style=\"color: #008000; text-decoration-color: #008000\">0-1   </span> │ <span style=\"color: #008000; text-decoration-color: #008000\">2024.07.03</span> │ <span style=\"color: #008000; text-decoration-color: #008000\">15:51:34</span> │ <span style=\"color: #008000; text-decoration-color: #008000\">1440     </span> │ <span style=\"color: #008000; text-decoration-color: #008000\">1481     </span> │ <span style=\"color: #008000; text-decoration-color: #008000\">-5               </span> │ <span style=\"color: #008000; text-decoration-color: #008000\">+5               </span> │ <span style=\"color: #7f7f7f; text-decoration-color: #7f7f7f\">NULL</span>        │ <span style=\"color: #7f7f7f; text-decoration-color: #7f7f7f\">NULL</span>        │ <span style=\"color: #008000; text-decoration-color: #008000\">C42   </span> │ <span style=\"color: #008000; text-decoration-color: #008000\">Russian Game: Three Knights Game</span> │ <span style=\"color: #008000; text-decoration-color: #008000\">300+0       </span> │ <span style=\"color: #008000; text-decoration-color: #008000\">Normal     </span> │        <span style=\"color: #008080; text-decoration-color: #008080; font-weight: bold\">4</span> │ <span style=\"color: #008000; text-decoration-color: #008000\">[%clk 0:04:53]</span> │\n",
       "│ <span style=\"color: #008000; text-decoration-color: #008000\">Rated Blitz game</span> │ <a href=\"https://lichess.org/oMT7qJHb\" target=\"_blank\"><span style=\"color: #008000; text-decoration-color: #008000\">https://lichess.org/oMT7qJHb</span></a> │ <span style=\"color: #008000; text-decoration-color: #008000\">2024.07.03</span> │ <span style=\"color: #008000; text-decoration-color: #008000\">-     </span> │ <span style=\"color: #008000; text-decoration-color: #008000\">bonasagala</span> │ <span style=\"color: #008000; text-decoration-color: #008000\">DrPoBoz</span> │ <span style=\"color: #008000; text-decoration-color: #008000\">0-1   </span> │ <span style=\"color: #008000; text-decoration-color: #008000\">2024.07.03</span> │ <span style=\"color: #008000; text-decoration-color: #008000\">15:51:34</span> │ <span style=\"color: #008000; text-decoration-color: #008000\">1440     </span> │ <span style=\"color: #008000; text-decoration-color: #008000\">1481     </span> │ <span style=\"color: #008000; text-decoration-color: #008000\">-5               </span> │ <span style=\"color: #008000; text-decoration-color: #008000\">+5               </span> │ <span style=\"color: #7f7f7f; text-decoration-color: #7f7f7f\">NULL</span>        │ <span style=\"color: #7f7f7f; text-decoration-color: #7f7f7f\">NULL</span>        │ <span style=\"color: #008000; text-decoration-color: #008000\">C42   </span> │ <span style=\"color: #008000; text-decoration-color: #008000\">Russian Game: Three Knights Game</span> │ <span style=\"color: #008000; text-decoration-color: #008000\">300+0       </span> │ <span style=\"color: #008000; text-decoration-color: #008000\">Normal     </span> │        <span style=\"color: #008080; text-decoration-color: #008080; font-weight: bold\">5</span> │ <span style=\"color: #008000; text-decoration-color: #008000\">[%clk 0:04:50]</span> │\n",
       "│ <span style=\"color: #008000; text-decoration-color: #008000\">Rated Blitz game</span> │ <a href=\"https://lichess.org/oMT7qJHb\" target=\"_blank\"><span style=\"color: #008000; text-decoration-color: #008000\">https://lichess.org/oMT7qJHb</span></a> │ <span style=\"color: #008000; text-decoration-color: #008000\">2024.07.03</span> │ <span style=\"color: #008000; text-decoration-color: #008000\">-     </span> │ <span style=\"color: #008000; text-decoration-color: #008000\">bonasagala</span> │ <span style=\"color: #008000; text-decoration-color: #008000\">DrPoBoz</span> │ <span style=\"color: #008000; text-decoration-color: #008000\">0-1   </span> │ <span style=\"color: #008000; text-decoration-color: #008000\">2024.07.03</span> │ <span style=\"color: #008000; text-decoration-color: #008000\">15:51:34</span> │ <span style=\"color: #008000; text-decoration-color: #008000\">1440     </span> │ <span style=\"color: #008000; text-decoration-color: #008000\">1481     </span> │ <span style=\"color: #008000; text-decoration-color: #008000\">-5               </span> │ <span style=\"color: #008000; text-decoration-color: #008000\">+5               </span> │ <span style=\"color: #7f7f7f; text-decoration-color: #7f7f7f\">NULL</span>        │ <span style=\"color: #7f7f7f; text-decoration-color: #7f7f7f\">NULL</span>        │ <span style=\"color: #008000; text-decoration-color: #008000\">C42   </span> │ <span style=\"color: #008000; text-decoration-color: #008000\">Russian Game: Three Knights Game</span> │ <span style=\"color: #008000; text-decoration-color: #008000\">300+0       </span> │ <span style=\"color: #008000; text-decoration-color: #008000\">Normal     </span> │        <span style=\"color: #008080; text-decoration-color: #008080; font-weight: bold\">6</span> │ <span style=\"color: #008000; text-decoration-color: #008000\">[%clk 0:04:44]</span> │\n",
       "│ <span style=\"color: #008000; text-decoration-color: #008000\">Rated Blitz game</span> │ <a href=\"https://lichess.org/oMT7qJHb\" target=\"_blank\"><span style=\"color: #008000; text-decoration-color: #008000\">https://lichess.org/oMT7qJHb</span></a> │ <span style=\"color: #008000; text-decoration-color: #008000\">2024.07.03</span> │ <span style=\"color: #008000; text-decoration-color: #008000\">-     </span> │ <span style=\"color: #008000; text-decoration-color: #008000\">bonasagala</span> │ <span style=\"color: #008000; text-decoration-color: #008000\">DrPoBoz</span> │ <span style=\"color: #008000; text-decoration-color: #008000\">0-1   </span> │ <span style=\"color: #008000; text-decoration-color: #008000\">2024.07.03</span> │ <span style=\"color: #008000; text-decoration-color: #008000\">15:51:34</span> │ <span style=\"color: #008000; text-decoration-color: #008000\">1440     </span> │ <span style=\"color: #008000; text-decoration-color: #008000\">1481     </span> │ <span style=\"color: #008000; text-decoration-color: #008000\">-5               </span> │ <span style=\"color: #008000; text-decoration-color: #008000\">+5               </span> │ <span style=\"color: #7f7f7f; text-decoration-color: #7f7f7f\">NULL</span>        │ <span style=\"color: #7f7f7f; text-decoration-color: #7f7f7f\">NULL</span>        │ <span style=\"color: #008000; text-decoration-color: #008000\">C42   </span> │ <span style=\"color: #008000; text-decoration-color: #008000\">Russian Game: Three Knights Game</span> │ <span style=\"color: #008000; text-decoration-color: #008000\">300+0       </span> │ <span style=\"color: #008000; text-decoration-color: #008000\">Normal     </span> │        <span style=\"color: #008080; text-decoration-color: #008080; font-weight: bold\">7</span> │ <span style=\"color: #008000; text-decoration-color: #008000\">[%clk 0:04:48]</span> │\n",
       "│ <span style=\"color: #008000; text-decoration-color: #008000\">Rated Blitz game</span> │ <a href=\"https://lichess.org/oMT7qJHb\" target=\"_blank\"><span style=\"color: #008000; text-decoration-color: #008000\">https://lichess.org/oMT7qJHb</span></a> │ <span style=\"color: #008000; text-decoration-color: #008000\">2024.07.03</span> │ <span style=\"color: #008000; text-decoration-color: #008000\">-     </span> │ <span style=\"color: #008000; text-decoration-color: #008000\">bonasagala</span> │ <span style=\"color: #008000; text-decoration-color: #008000\">DrPoBoz</span> │ <span style=\"color: #008000; text-decoration-color: #008000\">0-1   </span> │ <span style=\"color: #008000; text-decoration-color: #008000\">2024.07.03</span> │ <span style=\"color: #008000; text-decoration-color: #008000\">15:51:34</span> │ <span style=\"color: #008000; text-decoration-color: #008000\">1440     </span> │ <span style=\"color: #008000; text-decoration-color: #008000\">1481     </span> │ <span style=\"color: #008000; text-decoration-color: #008000\">-5               </span> │ <span style=\"color: #008000; text-decoration-color: #008000\">+5               </span> │ <span style=\"color: #7f7f7f; text-decoration-color: #7f7f7f\">NULL</span>        │ <span style=\"color: #7f7f7f; text-decoration-color: #7f7f7f\">NULL</span>        │ <span style=\"color: #008000; text-decoration-color: #008000\">C42   </span> │ <span style=\"color: #008000; text-decoration-color: #008000\">Russian Game: Three Knights Game</span> │ <span style=\"color: #008000; text-decoration-color: #008000\">300+0       </span> │ <span style=\"color: #008000; text-decoration-color: #008000\">Normal     </span> │        <span style=\"color: #008080; text-decoration-color: #008080; font-weight: bold\">8</span> │ <span style=\"color: #008000; text-decoration-color: #008000\">[%clk 0:04:41]</span> │\n",
       "│ <span style=\"color: #008000; text-decoration-color: #008000\">Rated Blitz game</span> │ <a href=\"https://lichess.org/oMT7qJHb\" target=\"_blank\"><span style=\"color: #008000; text-decoration-color: #008000\">https://lichess.org/oMT7qJHb</span></a> │ <span style=\"color: #008000; text-decoration-color: #008000\">2024.07.03</span> │ <span style=\"color: #008000; text-decoration-color: #008000\">-     </span> │ <span style=\"color: #008000; text-decoration-color: #008000\">bonasagala</span> │ <span style=\"color: #008000; text-decoration-color: #008000\">DrPoBoz</span> │ <span style=\"color: #008000; text-decoration-color: #008000\">0-1   </span> │ <span style=\"color: #008000; text-decoration-color: #008000\">2024.07.03</span> │ <span style=\"color: #008000; text-decoration-color: #008000\">15:51:34</span> │ <span style=\"color: #008000; text-decoration-color: #008000\">1440     </span> │ <span style=\"color: #008000; text-decoration-color: #008000\">1481     </span> │ <span style=\"color: #008000; text-decoration-color: #008000\">-5               </span> │ <span style=\"color: #008000; text-decoration-color: #008000\">+5               </span> │ <span style=\"color: #7f7f7f; text-decoration-color: #7f7f7f\">NULL</span>        │ <span style=\"color: #7f7f7f; text-decoration-color: #7f7f7f\">NULL</span>        │ <span style=\"color: #008000; text-decoration-color: #008000\">C42   </span> │ <span style=\"color: #008000; text-decoration-color: #008000\">Russian Game: Three Knights Game</span> │ <span style=\"color: #008000; text-decoration-color: #008000\">300+0       </span> │ <span style=\"color: #008000; text-decoration-color: #008000\">Normal     </span> │        <span style=\"color: #008080; text-decoration-color: #008080; font-weight: bold\">9</span> │ <span style=\"color: #008000; text-decoration-color: #008000\">[%clk 0:04:46]</span> │\n",
       "│ <span style=\"color: #008000; text-decoration-color: #008000\">Rated Blitz game</span> │ <a href=\"https://lichess.org/oMT7qJHb\" target=\"_blank\"><span style=\"color: #008000; text-decoration-color: #008000\">https://lichess.org/oMT7qJHb</span></a> │ <span style=\"color: #008000; text-decoration-color: #008000\">2024.07.03</span> │ <span style=\"color: #008000; text-decoration-color: #008000\">-     </span> │ <span style=\"color: #008000; text-decoration-color: #008000\">bonasagala</span> │ <span style=\"color: #008000; text-decoration-color: #008000\">DrPoBoz</span> │ <span style=\"color: #008000; text-decoration-color: #008000\">0-1   </span> │ <span style=\"color: #008000; text-decoration-color: #008000\">2024.07.03</span> │ <span style=\"color: #008000; text-decoration-color: #008000\">15:51:34</span> │ <span style=\"color: #008000; text-decoration-color: #008000\">1440     </span> │ <span style=\"color: #008000; text-decoration-color: #008000\">1481     </span> │ <span style=\"color: #008000; text-decoration-color: #008000\">-5               </span> │ <span style=\"color: #008000; text-decoration-color: #008000\">+5               </span> │ <span style=\"color: #7f7f7f; text-decoration-color: #7f7f7f\">NULL</span>        │ <span style=\"color: #7f7f7f; text-decoration-color: #7f7f7f\">NULL</span>        │ <span style=\"color: #008000; text-decoration-color: #008000\">C42   </span> │ <span style=\"color: #008000; text-decoration-color: #008000\">Russian Game: Three Knights Game</span> │ <span style=\"color: #008000; text-decoration-color: #008000\">300+0       </span> │ <span style=\"color: #008000; text-decoration-color: #008000\">Normal     </span> │       <span style=\"color: #008080; text-decoration-color: #008080; font-weight: bold\">10</span> │ <span style=\"color: #008000; text-decoration-color: #008000\">[%clk 0:04:39]</span> │\n",
       "│ <span style=\"color: #7f7f7f; text-decoration-color: #7f7f7f\">…</span>                │ <span style=\"color: #7f7f7f; text-decoration-color: #7f7f7f\">…</span>                            │ <span style=\"color: #7f7f7f; text-decoration-color: #7f7f7f\">…</span>          │ <span style=\"color: #7f7f7f; text-decoration-color: #7f7f7f\">…</span>      │ <span style=\"color: #7f7f7f; text-decoration-color: #7f7f7f\">…</span>          │ <span style=\"color: #7f7f7f; text-decoration-color: #7f7f7f\">…</span>       │ <span style=\"color: #7f7f7f; text-decoration-color: #7f7f7f\">…</span>      │ <span style=\"color: #7f7f7f; text-decoration-color: #7f7f7f\">…</span>          │ <span style=\"color: #7f7f7f; text-decoration-color: #7f7f7f\">…</span>        │ <span style=\"color: #7f7f7f; text-decoration-color: #7f7f7f\">…</span>         │ <span style=\"color: #7f7f7f; text-decoration-color: #7f7f7f\">…</span>         │ <span style=\"color: #7f7f7f; text-decoration-color: #7f7f7f\">…</span>                 │ <span style=\"color: #7f7f7f; text-decoration-color: #7f7f7f\">…</span>                 │ <span style=\"color: #7f7f7f; text-decoration-color: #7f7f7f\">…</span>           │ <span style=\"color: #7f7f7f; text-decoration-color: #7f7f7f\">…</span>           │ <span style=\"color: #7f7f7f; text-decoration-color: #7f7f7f\">…</span>      │ <span style=\"color: #7f7f7f; text-decoration-color: #7f7f7f\">…</span>                                │ <span style=\"color: #7f7f7f; text-decoration-color: #7f7f7f\">…</span>            │ <span style=\"color: #7f7f7f; text-decoration-color: #7f7f7f\">…</span>           │        <span style=\"color: #7f7f7f; text-decoration-color: #7f7f7f\">…</span> │ <span style=\"color: #7f7f7f; text-decoration-color: #7f7f7f\">…</span>              │\n",
       "└──────────────────┴──────────────────────────────┴────────────┴────────┴────────────┴─────────┴────────┴────────────┴──────────┴───────────┴───────────┴───────────────────┴───────────────────┴─────────────┴─────────────┴────────┴──────────────────────────────────┴──────────────┴─────────────┴──────────┴────────────────┘\n",
       "</pre>\n"
      ],
      "text/plain": [
       "┏━━━━━━━━━━━━━━━━━━┳━━━━━━━━━━━━━━━━━━━━━━━━━━━━━━┳━━━━━━━━━━━━┳━━━━━━━━┳━━━━━━━━━━━━┳━━━━━━━━━┳━━━━━━━━┳━━━━━━━━━━━━┳━━━━━━━━━━┳━━━━━━━━━━━┳━━━━━━━━━━━┳━━━━━━━━━━━━━━━━━━━┳━━━━━━━━━━━━━━━━━━━┳━━━━━━━━━━━━━┳━━━━━━━━━━━━━┳━━━━━━━━┳━━━━━━━━━━━━━━━━━━━━━━━━━━━━━━━━━━┳━━━━━━━━━━━━━━┳━━━━━━━━━━━━━┳━━━━━━━━━━┳━━━━━━━━━━━━━━━━┓\n",
       "┃\u001b[1m \u001b[0m\u001b[1mevent\u001b[0m\u001b[1m           \u001b[0m\u001b[1m \u001b[0m┃\u001b[1m \u001b[0m\u001b[1msite\u001b[0m\u001b[1m                        \u001b[0m\u001b[1m \u001b[0m┃\u001b[1m \u001b[0m\u001b[1mdate\u001b[0m\u001b[1m      \u001b[0m\u001b[1m \u001b[0m┃\u001b[1m \u001b[0m\u001b[1mround\u001b[0m\u001b[1m \u001b[0m\u001b[1m \u001b[0m┃\u001b[1m \u001b[0m\u001b[1mwhite\u001b[0m\u001b[1m     \u001b[0m\u001b[1m \u001b[0m┃\u001b[1m \u001b[0m\u001b[1mblack\u001b[0m\u001b[1m  \u001b[0m\u001b[1m \u001b[0m┃\u001b[1m \u001b[0m\u001b[1mresult\u001b[0m\u001b[1m \u001b[0m┃\u001b[1m \u001b[0m\u001b[1mutc_date\u001b[0m\u001b[1m  \u001b[0m\u001b[1m \u001b[0m┃\u001b[1m \u001b[0m\u001b[1mutc_time\u001b[0m\u001b[1m \u001b[0m┃\u001b[1m \u001b[0m\u001b[1mwhite_elo\u001b[0m\u001b[1m \u001b[0m┃\u001b[1m \u001b[0m\u001b[1mblack_elo\u001b[0m\u001b[1m \u001b[0m┃\u001b[1m \u001b[0m\u001b[1mwhite_rating_diff\u001b[0m\u001b[1m \u001b[0m┃\u001b[1m \u001b[0m\u001b[1mblack_rating_diff\u001b[0m\u001b[1m \u001b[0m┃\u001b[1m \u001b[0m\u001b[1mwhite_title\u001b[0m\u001b[1m \u001b[0m┃\u001b[1m \u001b[0m\u001b[1mblack_title\u001b[0m\u001b[1m \u001b[0m┃\u001b[1m \u001b[0m\u001b[1meco\u001b[0m\u001b[1m   \u001b[0m\u001b[1m \u001b[0m┃\u001b[1m \u001b[0m\u001b[1mopening\u001b[0m\u001b[1m                         \u001b[0m\u001b[1m \u001b[0m┃\u001b[1m \u001b[0m\u001b[1mtime_control\u001b[0m\u001b[1m \u001b[0m┃\u001b[1m \u001b[0m\u001b[1mtermination\u001b[0m\u001b[1m \u001b[0m┃\u001b[1m \u001b[0m\u001b[1mmove_ply\u001b[0m\u001b[1m \u001b[0m┃\u001b[1m \u001b[0m\u001b[1mmove_comment\u001b[0m\u001b[1m  \u001b[0m\u001b[1m \u001b[0m┃\n",
       "┡━━━━━━━━━━━━━━━━━━╇━━━━━━━━━━━━━━━━━━━━━━━━━━━━━━╇━━━━━━━━━━━━╇━━━━━━━━╇━━━━━━━━━━━━╇━━━━━━━━━╇━━━━━━━━╇━━━━━━━━━━━━╇━━━━━━━━━━╇━━━━━━━━━━━╇━━━━━━━━━━━╇━━━━━━━━━━━━━━━━━━━╇━━━━━━━━━━━━━━━━━━━╇━━━━━━━━━━━━━╇━━━━━━━━━━━━━╇━━━━━━━━╇━━━━━━━━━━━━━━━━━━━━━━━━━━━━━━━━━━╇━━━━━━━━━━━━━━╇━━━━━━━━━━━━━╇━━━━━━━━━━╇━━━━━━━━━━━━━━━━┩\n",
       "│ \u001b[2mstring\u001b[0m           │ \u001b[2mstring\u001b[0m                       │ \u001b[2mstring\u001b[0m     │ \u001b[2mstring\u001b[0m │ \u001b[2mstring\u001b[0m     │ \u001b[2mstring\u001b[0m  │ \u001b[2mstring\u001b[0m │ \u001b[2mstring\u001b[0m     │ \u001b[2mstring\u001b[0m   │ \u001b[2mstring\u001b[0m    │ \u001b[2mstring\u001b[0m    │ \u001b[2mstring\u001b[0m            │ \u001b[2mstring\u001b[0m            │ \u001b[2mstring\u001b[0m      │ \u001b[2mstring\u001b[0m      │ \u001b[2mstring\u001b[0m │ \u001b[2mstring\u001b[0m                           │ \u001b[2mstring\u001b[0m       │ \u001b[2mstring\u001b[0m      │ \u001b[2mint64\u001b[0m    │ \u001b[2mstring\u001b[0m         │\n",
       "├──────────────────┼──────────────────────────────┼────────────┼────────┼────────────┼─────────┼────────┼────────────┼──────────┼───────────┼───────────┼───────────────────┼───────────────────┼─────────────┼─────────────┼────────┼──────────────────────────────────┼──────────────┼─────────────┼──────────┼────────────────┤\n",
       "│ \u001b[32mRated Blitz game\u001b[0m │ \u001b]8;id=939263;https://lichess.org/oMT7qJHb\u001b\\\u001b[32mhttps://lichess.org/oMT7qJHb\u001b[0m\u001b]8;;\u001b\\ │ \u001b[32m2024.07.03\u001b[0m │ \u001b[32m-     \u001b[0m │ \u001b[32mbonasagala\u001b[0m │ \u001b[32mDrPoBoz\u001b[0m │ \u001b[32m0-1   \u001b[0m │ \u001b[32m2024.07.03\u001b[0m │ \u001b[32m15:51:34\u001b[0m │ \u001b[32m1440     \u001b[0m │ \u001b[32m1481     \u001b[0m │ \u001b[32m-5               \u001b[0m │ \u001b[32m+5               \u001b[0m │ \u001b[2mNULL\u001b[0m        │ \u001b[2mNULL\u001b[0m        │ \u001b[32mC42   \u001b[0m │ \u001b[32mRussian Game: Three Knights Game\u001b[0m │ \u001b[32m300+0       \u001b[0m │ \u001b[32mNormal     \u001b[0m │        \u001b[1;36m1\u001b[0m │ \u001b[32m[%clk 0:05:00]\u001b[0m │\n",
       "│ \u001b[32mRated Blitz game\u001b[0m │ \u001b]8;id=546010;https://lichess.org/oMT7qJHb\u001b\\\u001b[32mhttps://lichess.org/oMT7qJHb\u001b[0m\u001b]8;;\u001b\\ │ \u001b[32m2024.07.03\u001b[0m │ \u001b[32m-     \u001b[0m │ \u001b[32mbonasagala\u001b[0m │ \u001b[32mDrPoBoz\u001b[0m │ \u001b[32m0-1   \u001b[0m │ \u001b[32m2024.07.03\u001b[0m │ \u001b[32m15:51:34\u001b[0m │ \u001b[32m1440     \u001b[0m │ \u001b[32m1481     \u001b[0m │ \u001b[32m-5               \u001b[0m │ \u001b[32m+5               \u001b[0m │ \u001b[2mNULL\u001b[0m        │ \u001b[2mNULL\u001b[0m        │ \u001b[32mC42   \u001b[0m │ \u001b[32mRussian Game: Three Knights Game\u001b[0m │ \u001b[32m300+0       \u001b[0m │ \u001b[32mNormal     \u001b[0m │        \u001b[1;36m2\u001b[0m │ \u001b[32m[%clk 0:05:00]\u001b[0m │\n",
       "│ \u001b[32mRated Blitz game\u001b[0m │ \u001b]8;id=302786;https://lichess.org/oMT7qJHb\u001b\\\u001b[32mhttps://lichess.org/oMT7qJHb\u001b[0m\u001b]8;;\u001b\\ │ \u001b[32m2024.07.03\u001b[0m │ \u001b[32m-     \u001b[0m │ \u001b[32mbonasagala\u001b[0m │ \u001b[32mDrPoBoz\u001b[0m │ \u001b[32m0-1   \u001b[0m │ \u001b[32m2024.07.03\u001b[0m │ \u001b[32m15:51:34\u001b[0m │ \u001b[32m1440     \u001b[0m │ \u001b[32m1481     \u001b[0m │ \u001b[32m-5               \u001b[0m │ \u001b[32m+5               \u001b[0m │ \u001b[2mNULL\u001b[0m        │ \u001b[2mNULL\u001b[0m        │ \u001b[32mC42   \u001b[0m │ \u001b[32mRussian Game: Three Knights Game\u001b[0m │ \u001b[32m300+0       \u001b[0m │ \u001b[32mNormal     \u001b[0m │        \u001b[1;36m3\u001b[0m │ \u001b[32m[%clk 0:04:55]\u001b[0m │\n",
       "│ \u001b[32mRated Blitz game\u001b[0m │ \u001b]8;id=458764;https://lichess.org/oMT7qJHb\u001b\\\u001b[32mhttps://lichess.org/oMT7qJHb\u001b[0m\u001b]8;;\u001b\\ │ \u001b[32m2024.07.03\u001b[0m │ \u001b[32m-     \u001b[0m │ \u001b[32mbonasagala\u001b[0m │ \u001b[32mDrPoBoz\u001b[0m │ \u001b[32m0-1   \u001b[0m │ \u001b[32m2024.07.03\u001b[0m │ \u001b[32m15:51:34\u001b[0m │ \u001b[32m1440     \u001b[0m │ \u001b[32m1481     \u001b[0m │ \u001b[32m-5               \u001b[0m │ \u001b[32m+5               \u001b[0m │ \u001b[2mNULL\u001b[0m        │ \u001b[2mNULL\u001b[0m        │ \u001b[32mC42   \u001b[0m │ \u001b[32mRussian Game: Three Knights Game\u001b[0m │ \u001b[32m300+0       \u001b[0m │ \u001b[32mNormal     \u001b[0m │        \u001b[1;36m4\u001b[0m │ \u001b[32m[%clk 0:04:53]\u001b[0m │\n",
       "│ \u001b[32mRated Blitz game\u001b[0m │ \u001b]8;id=710605;https://lichess.org/oMT7qJHb\u001b\\\u001b[32mhttps://lichess.org/oMT7qJHb\u001b[0m\u001b]8;;\u001b\\ │ \u001b[32m2024.07.03\u001b[0m │ \u001b[32m-     \u001b[0m │ \u001b[32mbonasagala\u001b[0m │ \u001b[32mDrPoBoz\u001b[0m │ \u001b[32m0-1   \u001b[0m │ \u001b[32m2024.07.03\u001b[0m │ \u001b[32m15:51:34\u001b[0m │ \u001b[32m1440     \u001b[0m │ \u001b[32m1481     \u001b[0m │ \u001b[32m-5               \u001b[0m │ \u001b[32m+5               \u001b[0m │ \u001b[2mNULL\u001b[0m        │ \u001b[2mNULL\u001b[0m        │ \u001b[32mC42   \u001b[0m │ \u001b[32mRussian Game: Three Knights Game\u001b[0m │ \u001b[32m300+0       \u001b[0m │ \u001b[32mNormal     \u001b[0m │        \u001b[1;36m5\u001b[0m │ \u001b[32m[%clk 0:04:50]\u001b[0m │\n",
       "│ \u001b[32mRated Blitz game\u001b[0m │ \u001b]8;id=112803;https://lichess.org/oMT7qJHb\u001b\\\u001b[32mhttps://lichess.org/oMT7qJHb\u001b[0m\u001b]8;;\u001b\\ │ \u001b[32m2024.07.03\u001b[0m │ \u001b[32m-     \u001b[0m │ \u001b[32mbonasagala\u001b[0m │ \u001b[32mDrPoBoz\u001b[0m │ \u001b[32m0-1   \u001b[0m │ \u001b[32m2024.07.03\u001b[0m │ \u001b[32m15:51:34\u001b[0m │ \u001b[32m1440     \u001b[0m │ \u001b[32m1481     \u001b[0m │ \u001b[32m-5               \u001b[0m │ \u001b[32m+5               \u001b[0m │ \u001b[2mNULL\u001b[0m        │ \u001b[2mNULL\u001b[0m        │ \u001b[32mC42   \u001b[0m │ \u001b[32mRussian Game: Three Knights Game\u001b[0m │ \u001b[32m300+0       \u001b[0m │ \u001b[32mNormal     \u001b[0m │        \u001b[1;36m6\u001b[0m │ \u001b[32m[%clk 0:04:44]\u001b[0m │\n",
       "│ \u001b[32mRated Blitz game\u001b[0m │ \u001b]8;id=879631;https://lichess.org/oMT7qJHb\u001b\\\u001b[32mhttps://lichess.org/oMT7qJHb\u001b[0m\u001b]8;;\u001b\\ │ \u001b[32m2024.07.03\u001b[0m │ \u001b[32m-     \u001b[0m │ \u001b[32mbonasagala\u001b[0m │ \u001b[32mDrPoBoz\u001b[0m │ \u001b[32m0-1   \u001b[0m │ \u001b[32m2024.07.03\u001b[0m │ \u001b[32m15:51:34\u001b[0m │ \u001b[32m1440     \u001b[0m │ \u001b[32m1481     \u001b[0m │ \u001b[32m-5               \u001b[0m │ \u001b[32m+5               \u001b[0m │ \u001b[2mNULL\u001b[0m        │ \u001b[2mNULL\u001b[0m        │ \u001b[32mC42   \u001b[0m │ \u001b[32mRussian Game: Three Knights Game\u001b[0m │ \u001b[32m300+0       \u001b[0m │ \u001b[32mNormal     \u001b[0m │        \u001b[1;36m7\u001b[0m │ \u001b[32m[%clk 0:04:48]\u001b[0m │\n",
       "│ \u001b[32mRated Blitz game\u001b[0m │ \u001b]8;id=556976;https://lichess.org/oMT7qJHb\u001b\\\u001b[32mhttps://lichess.org/oMT7qJHb\u001b[0m\u001b]8;;\u001b\\ │ \u001b[32m2024.07.03\u001b[0m │ \u001b[32m-     \u001b[0m │ \u001b[32mbonasagala\u001b[0m │ \u001b[32mDrPoBoz\u001b[0m │ \u001b[32m0-1   \u001b[0m │ \u001b[32m2024.07.03\u001b[0m │ \u001b[32m15:51:34\u001b[0m │ \u001b[32m1440     \u001b[0m │ \u001b[32m1481     \u001b[0m │ \u001b[32m-5               \u001b[0m │ \u001b[32m+5               \u001b[0m │ \u001b[2mNULL\u001b[0m        │ \u001b[2mNULL\u001b[0m        │ \u001b[32mC42   \u001b[0m │ \u001b[32mRussian Game: Three Knights Game\u001b[0m │ \u001b[32m300+0       \u001b[0m │ \u001b[32mNormal     \u001b[0m │        \u001b[1;36m8\u001b[0m │ \u001b[32m[%clk 0:04:41]\u001b[0m │\n",
       "│ \u001b[32mRated Blitz game\u001b[0m │ \u001b]8;id=480080;https://lichess.org/oMT7qJHb\u001b\\\u001b[32mhttps://lichess.org/oMT7qJHb\u001b[0m\u001b]8;;\u001b\\ │ \u001b[32m2024.07.03\u001b[0m │ \u001b[32m-     \u001b[0m │ \u001b[32mbonasagala\u001b[0m │ \u001b[32mDrPoBoz\u001b[0m │ \u001b[32m0-1   \u001b[0m │ \u001b[32m2024.07.03\u001b[0m │ \u001b[32m15:51:34\u001b[0m │ \u001b[32m1440     \u001b[0m │ \u001b[32m1481     \u001b[0m │ \u001b[32m-5               \u001b[0m │ \u001b[32m+5               \u001b[0m │ \u001b[2mNULL\u001b[0m        │ \u001b[2mNULL\u001b[0m        │ \u001b[32mC42   \u001b[0m │ \u001b[32mRussian Game: Three Knights Game\u001b[0m │ \u001b[32m300+0       \u001b[0m │ \u001b[32mNormal     \u001b[0m │        \u001b[1;36m9\u001b[0m │ \u001b[32m[%clk 0:04:46]\u001b[0m │\n",
       "│ \u001b[32mRated Blitz game\u001b[0m │ \u001b]8;id=454265;https://lichess.org/oMT7qJHb\u001b\\\u001b[32mhttps://lichess.org/oMT7qJHb\u001b[0m\u001b]8;;\u001b\\ │ \u001b[32m2024.07.03\u001b[0m │ \u001b[32m-     \u001b[0m │ \u001b[32mbonasagala\u001b[0m │ \u001b[32mDrPoBoz\u001b[0m │ \u001b[32m0-1   \u001b[0m │ \u001b[32m2024.07.03\u001b[0m │ \u001b[32m15:51:34\u001b[0m │ \u001b[32m1440     \u001b[0m │ \u001b[32m1481     \u001b[0m │ \u001b[32m-5               \u001b[0m │ \u001b[32m+5               \u001b[0m │ \u001b[2mNULL\u001b[0m        │ \u001b[2mNULL\u001b[0m        │ \u001b[32mC42   \u001b[0m │ \u001b[32mRussian Game: Three Knights Game\u001b[0m │ \u001b[32m300+0       \u001b[0m │ \u001b[32mNormal     \u001b[0m │       \u001b[1;36m10\u001b[0m │ \u001b[32m[%clk 0:04:39]\u001b[0m │\n",
       "│ \u001b[2m…\u001b[0m                │ \u001b[2m…\u001b[0m                            │ \u001b[2m…\u001b[0m          │ \u001b[2m…\u001b[0m      │ \u001b[2m…\u001b[0m          │ \u001b[2m…\u001b[0m       │ \u001b[2m…\u001b[0m      │ \u001b[2m…\u001b[0m          │ \u001b[2m…\u001b[0m        │ \u001b[2m…\u001b[0m         │ \u001b[2m…\u001b[0m         │ \u001b[2m…\u001b[0m                 │ \u001b[2m…\u001b[0m                 │ \u001b[2m…\u001b[0m           │ \u001b[2m…\u001b[0m           │ \u001b[2m…\u001b[0m      │ \u001b[2m…\u001b[0m                                │ \u001b[2m…\u001b[0m            │ \u001b[2m…\u001b[0m           │        \u001b[2m…\u001b[0m │ \u001b[2m…\u001b[0m              │\n",
       "└──────────────────┴──────────────────────────────┴────────────┴────────┴────────────┴─────────┴────────┴────────────┴──────────┴───────────┴───────────┴───────────────────┴───────────────────┴─────────────┴─────────────┴────────┴──────────────────────────────────┴──────────────┴─────────────┴──────────┴────────────────┘"
      ]
     },
     "execution_count": 2,
     "metadata": {},
     "output_type": "execute_result"
    }
   ],
   "source": [
    "moves = ibis.read_parquet(\"/data/deepyaman/lichess-2024-07/moves/*.parquet\")\n",
    "moves"
   ]
  },
  {
   "cell_type": "markdown",
   "id": "0c7289d6-d14b-4670-958e-a15b7445dccc",
   "metadata": {},
   "source": [
    "# Filter"
   ]
  },
  {
   "cell_type": "code",
   "execution_count": 3,
   "id": "04df45d1-82b3-4902-abbe-9202209a278f",
   "metadata": {},
   "outputs": [
    {
     "name": "stdout",
     "output_type": "stream",
     "text": [
      "CPU times: user 8min 17s, sys: 54.8 s, total: 9min 12s\n",
      "Wall time: 7.07 s\n"
     ]
    },
    {
     "data": {
      "text/plain": [
       "89850657"
      ]
     },
     "execution_count": 3,
     "metadata": {},
     "output_type": "execute_result"
    }
   ],
   "source": [
    "%%time\n",
    "moves.site.nunique().to_pyarrow().as_py()"
   ]
  },
  {
   "cell_type": "code",
   "execution_count": 4,
   "id": "9f059744-8405-4ec8-9de9-26d10b1dd177",
   "metadata": {},
   "outputs": [
    {
     "name": "stdout",
     "output_type": "stream",
     "text": [
      "CPU times: user 1h 4min 5s, sys: 5.53 s, total: 1h 4min 10s\n",
      "Wall time: 15.7 s\n"
     ]
    },
    {
     "data": {
      "text/html": [
       "<pre style=\"white-space:pre;overflow-x:auto;line-height:normal;font-family:Menlo,'DejaVu Sans Mono',consolas,'Courier New',monospace\">┏━━━━━━━━━━━━━━━━━━━┳━━━━━━━━━━━━━━━━━━━━━━━━━┓\n",
       "┃<span style=\"font-weight: bold\"> time_control_type </span>┃<span style=\"font-weight: bold\"> time_control_type_count </span>┃\n",
       "┡━━━━━━━━━━━━━━━━━━━╇━━━━━━━━━━━━━━━━━━━━━━━━━┩\n",
       "│ <span style=\"color: #7f7f7f; text-decoration-color: #7f7f7f\">string</span>            │ <span style=\"color: #7f7f7f; text-decoration-color: #7f7f7f\">int64</span>                   │\n",
       "├───────────────────┼─────────────────────────┤\n",
       "│ <span style=\"color: #008000; text-decoration-color: #008000\">BULLET           </span> │              <span style=\"color: #008080; text-decoration-color: #008080; font-weight: bold\">1786141369</span> │\n",
       "│ <span style=\"color: #008000; text-decoration-color: #008000\">RAPID            </span> │               <span style=\"color: #008080; text-decoration-color: #008080; font-weight: bold\">224913245</span> │\n",
       "│ <span style=\"color: #008000; text-decoration-color: #008000\">STANDARD         </span> │                 <span style=\"color: #008080; text-decoration-color: #008080; font-weight: bold\">2148509</span> │\n",
       "│ <span style=\"color: #008000; text-decoration-color: #008000\">BLITZ            </span> │              <span style=\"color: #008080; text-decoration-color: #008080; font-weight: bold\">3971380102</span> │\n",
       "│ <span style=\"color: #008000; text-decoration-color: #008000\">UNLIMITED        </span> │                 <span style=\"color: #008080; text-decoration-color: #008080; font-weight: bold\">3041220</span> │\n",
       "└───────────────────┴─────────────────────────┘\n",
       "</pre>\n"
      ],
      "text/plain": [
       "┏━━━━━━━━━━━━━━━━━━━┳━━━━━━━━━━━━━━━━━━━━━━━━━┓\n",
       "┃\u001b[1m \u001b[0m\u001b[1mtime_control_type\u001b[0m\u001b[1m \u001b[0m┃\u001b[1m \u001b[0m\u001b[1mtime_control_type_count\u001b[0m\u001b[1m \u001b[0m┃\n",
       "┡━━━━━━━━━━━━━━━━━━━╇━━━━━━━━━━━━━━━━━━━━━━━━━┩\n",
       "│ \u001b[2mstring\u001b[0m            │ \u001b[2mint64\u001b[0m                   │\n",
       "├───────────────────┼─────────────────────────┤\n",
       "│ \u001b[32mBULLET           \u001b[0m │              \u001b[1;36m1786141369\u001b[0m │\n",
       "│ \u001b[32mRAPID            \u001b[0m │               \u001b[1;36m224913245\u001b[0m │\n",
       "│ \u001b[32mSTANDARD         \u001b[0m │                 \u001b[1;36m2148509\u001b[0m │\n",
       "│ \u001b[32mBLITZ            \u001b[0m │              \u001b[1;36m3971380102\u001b[0m │\n",
       "│ \u001b[32mUNLIMITED        \u001b[0m │                 \u001b[1;36m3041220\u001b[0m │\n",
       "└───────────────────┴─────────────────────────┘\n"
      ]
     },
     "execution_count": 4,
     "metadata": {},
     "output_type": "execute_result"
    }
   ],
   "source": [
    "%%time\n",
    "import ibis.expr.types as ir\n",
    "\n",
    "\n",
    "def parse_time_control(time_control: ir.StringColumn) -> dict[str, ir.Column]:\n",
    "    index = time_control.find(\"+\")\n",
    "    base_time = time_control.substr(0, index).try_cast(int)\n",
    "    increment = time_control.substr(index + 1).try_cast(int)\n",
    "\n",
    "    time_control_type = (\n",
    "        ibis.case()\n",
    "        .when(time_control.isnull() | time_control.startswith(\"?\"), \"UNKNOWN\")\n",
    "        .when(time_control.startswith(\"-\"), \"UNLIMITED\")\n",
    "        .when(base_time + 60 * increment < 3 * 60, \"BULLET\")\n",
    "        .when(base_time + 60 * increment < 15 * 60, \"BLITZ\")\n",
    "        .when(base_time + 60 * increment < 60 * 60, \"RAPID\")\n",
    "        .else_(\"STANDARD\")\n",
    "        .end()\n",
    "    )\n",
    "\n",
    "    return {\n",
    "        \"time_control_base_time\": base_time,\n",
    "        \"time_control_increment\": increment,\n",
    "        \"time_control_type\": time_control_type,\n",
    "    }\n",
    "\n",
    "\n",
    "moves_with_parsed_time_control = moves.mutate(**parse_time_control(_.time_control))\n",
    "moves_with_parsed_time_control.time_control_type.value_counts().preview()"
   ]
  },
  {
   "cell_type": "code",
   "execution_count": 5,
   "id": "d4be5678-80fd-4599-af1b-4418f10036d8",
   "metadata": {},
   "outputs": [
    {
     "name": "stdout",
     "output_type": "stream",
     "text": [
      "CPU times: user 24min 12s, sys: 1min 45s, total: 25min 58s\n",
      "Wall time: 11.6 s\n"
     ]
    },
    {
     "data": {
      "text/plain": [
       "8133979"
      ]
     },
     "execution_count": 5,
     "metadata": {},
     "output_type": "execute_result"
    }
   ],
   "source": [
    "%%time\n",
    "games_with_evals = (\n",
    "    moves.mutate(has_eval=_.move_comment.contains(\"[%eval\"))\n",
    "    .group_by(_.site)\n",
    "    .agg(\n",
    "        percent_has_eval=_.has_eval.mean(),\n",
    "        has_no_eval_count=_.count() - _.has_eval.sum(),\n",
    "    )\n",
    "    .mutate(\n",
    "        has_no_eval_count=ibis.ifelse(_.percent_has_eval == 0, -1, _.has_no_eval_count)\n",
    "    )[_.has_no_eval_count.between(0, 1)]\n",
    "    .cache()\n",
    ")\n",
    "games_with_evals.count().to_pyarrow().as_py()"
   ]
  },
  {
   "cell_type": "code",
   "execution_count": 6,
   "id": "ed049410-7b9c-4491-a09e-df1cabc553d3",
   "metadata": {},
   "outputs": [
    {
     "name": "stdout",
     "output_type": "stream",
     "text": [
      "CPU times: user 6min 34s, sys: 4.35 s, total: 6min 39s\n",
      "Wall time: 3.67 s\n"
     ]
    },
    {
     "data": {
      "text/plain": [
       "8133979"
      ]
     },
     "execution_count": 6,
     "metadata": {},
     "output_type": "execute_result"
    }
   ],
   "source": [
    "%%time\n",
    "moves_with_evals = games_with_evals[[\"site\"]].join(\n",
    "    moves_with_parsed_time_control, \"site\"\n",
    ")\n",
    "moves_with_evals.site.nunique().to_pyarrow().as_py()"
   ]
  },
  {
   "cell_type": "code",
   "execution_count": 7,
   "id": "cb8f471a-bc6c-4a7f-8134-93d75594010e",
   "metadata": {},
   "outputs": [
    {
     "name": "stdout",
     "output_type": "stream",
     "text": [
      "CPU times: user 4min 37s, sys: 11 s, total: 4min 48s\n",
      "Wall time: 4.33 s\n"
     ]
    },
    {
     "data": {
      "text/html": [
       "<pre style=\"white-space:pre;overflow-x:auto;line-height:normal;font-family:Menlo,'DejaVu Sans Mono',consolas,'Courier New',monospace\">┏━━━━━━━━━━━━━━━━━━┳━━━━━━━━━━━━━━━━━━━┓\n",
       "┃<span style=\"font-weight: bold\"> termination      </span>┃<span style=\"font-weight: bold\"> termination_count </span>┃\n",
       "┡━━━━━━━━━━━━━━━━━━╇━━━━━━━━━━━━━━━━━━━┩\n",
       "│ <span style=\"color: #7f7f7f; text-decoration-color: #7f7f7f\">string</span>           │ <span style=\"color: #7f7f7f; text-decoration-color: #7f7f7f\">int64</span>             │\n",
       "├──────────────────┼───────────────────┤\n",
       "│ <span style=\"color: #008000; text-decoration-color: #008000\">Abandoned       </span> │               <span style=\"color: #008080; text-decoration-color: #008080; font-weight: bold\">120</span> │\n",
       "│ <span style=\"color: #008000; text-decoration-color: #008000\">Time forfeit    </span> │           <span style=\"color: #008080; text-decoration-color: #008080; font-weight: bold\">1958828</span> │\n",
       "│ <span style=\"color: #008000; text-decoration-color: #008000\">Normal          </span> │           <span style=\"color: #008080; text-decoration-color: #008080; font-weight: bold\">6174588</span> │\n",
       "│ <span style=\"color: #008000; text-decoration-color: #008000\">Rules infraction</span> │               <span style=\"color: #008080; text-decoration-color: #008080; font-weight: bold\">443</span> │\n",
       "└──────────────────┴───────────────────┘\n",
       "</pre>\n"
      ],
      "text/plain": [
       "┏━━━━━━━━━━━━━━━━━━┳━━━━━━━━━━━━━━━━━━━┓\n",
       "┃\u001b[1m \u001b[0m\u001b[1mtermination\u001b[0m\u001b[1m     \u001b[0m\u001b[1m \u001b[0m┃\u001b[1m \u001b[0m\u001b[1mtermination_count\u001b[0m\u001b[1m \u001b[0m┃\n",
       "┡━━━━━━━━━━━━━━━━━━╇━━━━━━━━━━━━━━━━━━━┩\n",
       "│ \u001b[2mstring\u001b[0m           │ \u001b[2mint64\u001b[0m             │\n",
       "├──────────────────┼───────────────────┤\n",
       "│ \u001b[32mAbandoned       \u001b[0m │               \u001b[1;36m120\u001b[0m │\n",
       "│ \u001b[32mTime forfeit    \u001b[0m │           \u001b[1;36m1958828\u001b[0m │\n",
       "│ \u001b[32mNormal          \u001b[0m │           \u001b[1;36m6174588\u001b[0m │\n",
       "│ \u001b[32mRules infraction\u001b[0m │               \u001b[1;36m443\u001b[0m │\n",
       "└──────────────────┴───────────────────┘\n"
      ]
     },
     "execution_count": 7,
     "metadata": {},
     "output_type": "execute_result"
    }
   ],
   "source": [
    "%%time\n",
    "moves_with_evals[_.move_ply == 1].termination.value_counts().preview()"
   ]
  },
  {
   "cell_type": "code",
   "execution_count": 8,
   "id": "79117270-ecba-4832-98d0-b31dd3839a28",
   "metadata": {},
   "outputs": [
    {
     "name": "stdout",
     "output_type": "stream",
     "text": [
      "CPU times: user 14min 29s, sys: 27.5 s, total: 14min 56s\n",
      "Wall time: 5.27 s\n"
     ]
    },
    {
     "data": {
      "text/html": [
       "<pre style=\"white-space:pre;overflow-x:auto;line-height:normal;font-family:Menlo,'DejaVu Sans Mono',consolas,'Courier New',monospace\">┏━━━━━━━━━━━┳━━━━━━━━━━━━━━━━━┓\n",
       "┃<span style=\"font-weight: bold\"> has_clock </span>┃<span style=\"font-weight: bold\"> has_clock_count </span>┃\n",
       "┡━━━━━━━━━━━╇━━━━━━━━━━━━━━━━━┩\n",
       "│ <span style=\"color: #7f7f7f; text-decoration-color: #7f7f7f\">boolean</span>   │ <span style=\"color: #7f7f7f; text-decoration-color: #7f7f7f\">int64</span>           │\n",
       "├───────────┼─────────────────┤\n",
       "│ True      │       <span style=\"color: #008080; text-decoration-color: #008080; font-weight: bold\">534134430</span> │\n",
       "│ False     │          <span style=\"color: #008080; text-decoration-color: #008080; font-weight: bold\">586525</span> │\n",
       "└───────────┴─────────────────┘\n",
       "</pre>\n"
      ],
      "text/plain": [
       "┏━━━━━━━━━━━┳━━━━━━━━━━━━━━━━━┓\n",
       "┃\u001b[1m \u001b[0m\u001b[1mhas_clock\u001b[0m\u001b[1m \u001b[0m┃\u001b[1m \u001b[0m\u001b[1mhas_clock_count\u001b[0m\u001b[1m \u001b[0m┃\n",
       "┡━━━━━━━━━━━╇━━━━━━━━━━━━━━━━━┩\n",
       "│ \u001b[2mboolean\u001b[0m   │ \u001b[2mint64\u001b[0m           │\n",
       "├───────────┼─────────────────┤\n",
       "│ True      │       \u001b[1;36m534134430\u001b[0m │\n",
       "│ False     │          \u001b[1;36m586525\u001b[0m │\n",
       "└───────────┴─────────────────┘\n"
      ]
     },
     "execution_count": 8,
     "metadata": {},
     "output_type": "execute_result"
    }
   ],
   "source": [
    "%%time\n",
    "moves_with_evals.mutate(\n",
    "    has_clock=_.move_comment.contains(\"[%clk\")\n",
    ").has_clock.value_counts().preview()"
   ]
  },
  {
   "cell_type": "code",
   "execution_count": 9,
   "id": "20ea2c7c-19e0-48dd-9f7a-35200a34da45",
   "metadata": {},
   "outputs": [
    {
     "name": "stdout",
     "output_type": "stream",
     "text": [
      "CPU times: user 1h 22min 57s, sys: 33 s, total: 1h 23min 30s\n",
      "Wall time: 20.9 s\n"
     ]
    },
    {
     "data": {
      "text/html": [
       "<pre style=\"white-space:pre;overflow-x:auto;line-height:normal;font-family:Menlo,'DejaVu Sans Mono',consolas,'Courier New',monospace\">┏━━━━━━━━━━━━━━━━━━━┳━━━━━━━━━━━┳━━━━━━━━━━━━━┓\n",
       "┃<span style=\"font-weight: bold\"> time_control_type </span>┃<span style=\"font-weight: bold\"> has_clock </span>┃<span style=\"font-weight: bold\"> CountStar() </span>┃\n",
       "┡━━━━━━━━━━━━━━━━━━━╇━━━━━━━━━━━╇━━━━━━━━━━━━━┩\n",
       "│ <span style=\"color: #7f7f7f; text-decoration-color: #7f7f7f\">string</span>            │ <span style=\"color: #7f7f7f; text-decoration-color: #7f7f7f\">boolean</span>   │ <span style=\"color: #7f7f7f; text-decoration-color: #7f7f7f\">int64</span>       │\n",
       "├───────────────────┼───────────┼─────────────┤\n",
       "│ <span style=\"color: #008000; text-decoration-color: #008000\">BLITZ            </span> │ True      │   <span style=\"color: #008080; text-decoration-color: #008080; font-weight: bold\">385233620</span> │\n",
       "│ <span style=\"color: #008000; text-decoration-color: #008000\">RAPID            </span> │ True      │    <span style=\"color: #008080; text-decoration-color: #008080; font-weight: bold\">63356151</span> │\n",
       "│ <span style=\"color: #008000; text-decoration-color: #008000\">UNLIMITED        </span> │ False     │      <span style=\"color: #008080; text-decoration-color: #008080; font-weight: bold\">586525</span> │\n",
       "│ <span style=\"color: #008000; text-decoration-color: #008000\">STANDARD         </span> │ True      │      <span style=\"color: #008080; text-decoration-color: #008080; font-weight: bold\">871745</span> │\n",
       "│ <span style=\"color: #008000; text-decoration-color: #008000\">BULLET           </span> │ True      │    <span style=\"color: #008080; text-decoration-color: #008080; font-weight: bold\">84672914</span> │\n",
       "└───────────────────┴───────────┴─────────────┘\n",
       "</pre>\n"
      ],
      "text/plain": [
       "┏━━━━━━━━━━━━━━━━━━━┳━━━━━━━━━━━┳━━━━━━━━━━━━━┓\n",
       "┃\u001b[1m \u001b[0m\u001b[1mtime_control_type\u001b[0m\u001b[1m \u001b[0m┃\u001b[1m \u001b[0m\u001b[1mhas_clock\u001b[0m\u001b[1m \u001b[0m┃\u001b[1m \u001b[0m\u001b[1mCountStar()\u001b[0m\u001b[1m \u001b[0m┃\n",
       "┡━━━━━━━━━━━━━━━━━━━╇━━━━━━━━━━━╇━━━━━━━━━━━━━┩\n",
       "│ \u001b[2mstring\u001b[0m            │ \u001b[2mboolean\u001b[0m   │ \u001b[2mint64\u001b[0m       │\n",
       "├───────────────────┼───────────┼─────────────┤\n",
       "│ \u001b[32mBLITZ            \u001b[0m │ True      │   \u001b[1;36m385233620\u001b[0m │\n",
       "│ \u001b[32mRAPID            \u001b[0m │ True      │    \u001b[1;36m63356151\u001b[0m │\n",
       "│ \u001b[32mUNLIMITED        \u001b[0m │ False     │      \u001b[1;36m586525\u001b[0m │\n",
       "│ \u001b[32mSTANDARD         \u001b[0m │ True      │      \u001b[1;36m871745\u001b[0m │\n",
       "│ \u001b[32mBULLET           \u001b[0m │ True      │    \u001b[1;36m84672914\u001b[0m │\n",
       "└───────────────────┴───────────┴─────────────┘\n"
      ]
     },
     "execution_count": 9,
     "metadata": {},
     "output_type": "execute_result"
    }
   ],
   "source": [
    "%%time\n",
    "moves_with_evals.mutate(has_clock=_.move_comment.contains(\"[%clk\")).group_by(\n",
    "    [\"time_control_type\", \"has_clock\"]\n",
    ").count().preview()"
   ]
  },
  {
   "cell_type": "code",
   "execution_count": 10,
   "id": "e7c399e2-1b5d-4770-8509-ed9bc2e4292c",
   "metadata": {},
   "outputs": [
    {
     "name": "stdout",
     "output_type": "stream",
     "text": [
      "CPU times: user 1h 15min 7s, sys: 16.6 s, total: 1h 15min 23s\n",
      "Wall time: 18.8 s\n"
     ]
    },
    {
     "data": {
      "text/plain": [
       "8123404"
      ]
     },
     "execution_count": 10,
     "metadata": {},
     "output_type": "execute_result"
    }
   ],
   "source": [
    "%%time\n",
    "filtered_moves = moves_with_evals[\n",
    "    (_.time_control_type != \"UNLIMITED\")\n",
    "    & (_.termination.isin([\"Normal\", \"Time forfeit\"]))\n",
    "]\n",
    "filtered_moves.site.nunique().to_pyarrow().as_py()"
   ]
  },
  {
   "cell_type": "code",
   "execution_count": 11,
   "id": "a6bc9129-02b8-47c4-a52d-9b9026d0c4b3",
   "metadata": {},
   "outputs": [
    {
     "name": "stdout",
     "output_type": "stream",
     "text": [
      "CPU times: user 17min 26s, sys: 28.9 s, total: 17min 55s\n",
      "Wall time: 5.07 s\n"
     ]
    }
   ],
   "source": [
    "%%time\n",
    "assert (\n",
    "    not filtered_moves[~_.move_comment.contains(\"[%clk\")].count().to_pyarrow().as_py()\n",
    ")"
   ]
  },
  {
   "cell_type": "markdown",
   "id": "554e2c96-91a8-4969-8e86-e382690a8fff",
   "metadata": {},
   "source": [
    "# Target engineering"
   ]
  },
  {
   "cell_type": "code",
   "execution_count": 12,
   "id": "9bb82cd1-92c5-4571-8fa8-40261db8b8c4",
   "metadata": {},
   "outputs": [
    {
     "name": "stdout",
     "output_type": "stream",
     "text": [
      "CPU times: user 1h 16min 11s, sys: 5.22 s, total: 1h 16min 16s\n",
      "Wall time: 18.5 s\n"
     ]
    },
    {
     "data": {
      "text/html": [
       "<pre style=\"white-space:pre;overflow-x:auto;line-height:normal;font-family:Menlo,'DejaVu Sans Mono',consolas,'Courier New',monospace\">┏━━━━━━━━━┳━━━━━━━━━━━━━━┓\n",
       "┃<span style=\"font-weight: bold\"> result  </span>┃<span style=\"font-weight: bold\"> result_count </span>┃\n",
       "┡━━━━━━━━━╇━━━━━━━━━━━━━━┩\n",
       "│ <span style=\"color: #7f7f7f; text-decoration-color: #7f7f7f\">string</span>  │ <span style=\"color: #7f7f7f; text-decoration-color: #7f7f7f\">int64</span>        │\n",
       "├─────────┼──────────────┤\n",
       "│ <span style=\"color: #008000; text-decoration-color: #008000\">1/2-1/2</span> │     <span style=\"color: #008080; text-decoration-color: #008080; font-weight: bold\">28075283</span> │\n",
       "│ <span style=\"color: #008000; text-decoration-color: #008000\">1-0    </span> │    <span style=\"color: #008080; text-decoration-color: #008080; font-weight: bold\">258511728</span> │\n",
       "│ <span style=\"color: #008000; text-decoration-color: #008000\">0-1    </span> │    <span style=\"color: #008080; text-decoration-color: #008080; font-weight: bold\">247528121</span> │\n",
       "└─────────┴──────────────┘\n",
       "</pre>\n"
      ],
      "text/plain": [
       "┏━━━━━━━━━┳━━━━━━━━━━━━━━┓\n",
       "┃\u001b[1m \u001b[0m\u001b[1mresult\u001b[0m\u001b[1m \u001b[0m\u001b[1m \u001b[0m┃\u001b[1m \u001b[0m\u001b[1mresult_count\u001b[0m\u001b[1m \u001b[0m┃\n",
       "┡━━━━━━━━━╇━━━━━━━━━━━━━━┩\n",
       "│ \u001b[2mstring\u001b[0m  │ \u001b[2mint64\u001b[0m        │\n",
       "├─────────┼──────────────┤\n",
       "│ \u001b[32m1/2-1/2\u001b[0m │     \u001b[1;36m28075283\u001b[0m │\n",
       "│ \u001b[32m1-0    \u001b[0m │    \u001b[1;36m258511728\u001b[0m │\n",
       "│ \u001b[32m0-1    \u001b[0m │    \u001b[1;36m247528121\u001b[0m │\n",
       "└─────────┴──────────────┘\n"
      ]
     },
     "execution_count": 12,
     "metadata": {},
     "output_type": "execute_result"
    }
   ],
   "source": [
    "%%time\n",
    "filtered_moves.result.value_counts().preview()"
   ]
  },
  {
   "cell_type": "markdown",
   "id": "1b176b64-5fc7-4322-a284-cd8599fed801",
   "metadata": {},
   "source": [
    "I'm not sure which computation makes the most logical sense; I suppose either works."
   ]
  },
  {
   "cell_type": "code",
   "execution_count": 13,
   "id": "f85b05a9-ba36-4eee-ae36-260b112eeb3c",
   "metadata": {},
   "outputs": [
    {
     "name": "stdout",
     "output_type": "stream",
     "text": [
      "CPU times: user 1h 20min 3s, sys: 9.81 s, total: 1h 20min 13s\n",
      "Wall time: 19.6 s\n"
     ]
    },
    {
     "data": {
      "text/html": [
       "<pre style=\"white-space:pre;overflow-x:auto;line-height:normal;font-family:Menlo,'DejaVu Sans Mono',consolas,'Courier New',monospace\">┏━━━━━━━━━━━━━━━━━━━━━━━━━━━━━━━━━━━━━━━━━━━━━━━━━━━━━━━━┳━━━━━━━━━━━━━━━━━━━━━━━━━━━━━━━━━━━━━━━━━━━━━━━━━━━━━━━━┓\n",
       "┃<span style=\"font-weight: bold\"> Coalesce((BitwiseXor(Modulus(move_ply, 2), SimpleCase… </span>┃<span style=\"font-weight: bold\"> Coalesce((BitwiseXor(Modulus(move_ply, 2), SimpleCase… </span>┃\n",
       "┡━━━━━━━━━━━━━━━━━━━━━━━━━━━━━━━━━━━━━━━━━━━━━━━━━━━━━━━━╇━━━━━━━━━━━━━━━━━━━━━━━━━━━━━━━━━━━━━━━━━━━━━━━━━━━━━━━━┩\n",
       "│ <span style=\"color: #7f7f7f; text-decoration-color: #7f7f7f\">float64</span>                                                │ <span style=\"color: #7f7f7f; text-decoration-color: #7f7f7f\">int64</span>                                                  │\n",
       "├────────────────────────────────────────────────────────┼────────────────────────────────────────────────────────┤\n",
       "│                                                    <span style=\"color: #008080; text-decoration-color: #008080; font-weight: bold\">1.0</span> │                                              <span style=\"color: #008080; text-decoration-color: #008080; font-weight: bold\">254839674</span> │\n",
       "│                                                    <span style=\"color: #008080; text-decoration-color: #008080; font-weight: bold\">0.5</span> │                                               <span style=\"color: #008080; text-decoration-color: #008080; font-weight: bold\">28075283</span> │\n",
       "│                                                    <span style=\"color: #008080; text-decoration-color: #008080; font-weight: bold\">0.0</span> │                                              <span style=\"color: #008080; text-decoration-color: #008080; font-weight: bold\">251200175</span> │\n",
       "└────────────────────────────────────────────────────────┴────────────────────────────────────────────────────────┘\n",
       "</pre>\n"
      ],
      "text/plain": [
       "┏━━━━━━━━━━━━━━━━━━━━━━━━━━━━━━━━━━━━━━━━━━━━━━━━━━━━━━━━┳━━━━━━━━━━━━━━━━━━━━━━━━━━━━━━━━━━━━━━━━━━━━━━━━━━━━━━━━┓\n",
       "┃\u001b[1m \u001b[0m\u001b[1mCoalesce((BitwiseXor(Modulus(move_ply, 2), SimpleCase…\u001b[0m\u001b[1m \u001b[0m┃\u001b[1m \u001b[0m\u001b[1mCoalesce((BitwiseXor(Modulus(move_ply, 2), SimpleCase…\u001b[0m\u001b[1m \u001b[0m┃\n",
       "┡━━━━━━━━━━━━━━━━━━━━━━━━━━━━━━━━━━━━━━━━━━━━━━━━━━━━━━━━╇━━━━━━━━━━━━━━━━━━━━━━━━━━━━━━━━━━━━━━━━━━━━━━━━━━━━━━━━┩\n",
       "│ \u001b[2mfloat64\u001b[0m                                                │ \u001b[2mint64\u001b[0m                                                  │\n",
       "├────────────────────────────────────────────────────────┼────────────────────────────────────────────────────────┤\n",
       "│                                                    \u001b[1;36m1.0\u001b[0m │                                              \u001b[1;36m254839674\u001b[0m │\n",
       "│                                                    \u001b[1;36m0.5\u001b[0m │                                               \u001b[1;36m28075283\u001b[0m │\n",
       "│                                                    \u001b[1;36m0.0\u001b[0m │                                              \u001b[1;36m251200175\u001b[0m │\n",
       "└────────────────────────────────────────────────────────┴────────────────────────────────────────────────────────┘\n"
      ]
     },
     "execution_count": 13,
     "metadata": {},
     "output_type": "execute_result"
    }
   ],
   "source": [
    "%%time\n",
    "target = (\n",
    "    filtered_moves.move_ply % 2\n",
    "    ^ filtered_moves.result.case().when(\"1-0\", 0).when(\"0-1\", 1).end()\n",
    ").fill_null(0.5)\n",
    "target.value_counts().preview()"
   ]
  },
  {
   "cell_type": "code",
   "execution_count": 14,
   "id": "7b502611-fd7d-4fcd-bc8b-058e8a6afeaa",
   "metadata": {},
   "outputs": [
    {
     "name": "stdout",
     "output_type": "stream",
     "text": [
      "CPU times: user 1h 19min 23s, sys: 13.3 s, total: 1h 19min 37s\n",
      "Wall time: 19.4 s\n"
     ]
    },
    {
     "data": {
      "text/html": [
       "<pre style=\"white-space:pre;overflow-x:auto;line-height:normal;font-family:Menlo,'DejaVu Sans Mono',consolas,'Courier New',monospace\">┏━━━━━━━━━━━━━━━━━━━━━━━━━━━━━━━━━━━━━━━━━━━━━━━━━━━━━━━━┳━━━━━━━━━━━━━━━━━━━━━━━━━━━━━━━━━━━━━━━━━━━━━━━━━━━━━━━━┓\n",
       "┃<span style=\"font-weight: bold\"> Abs(Subtract(Modulus(move_ply, 2), SimpleCase(result,… </span>┃<span style=\"font-weight: bold\"> Abs(Subtract(Modulus(move_ply, 2), SimpleCase(result,… </span>┃\n",
       "┡━━━━━━━━━━━━━━━━━━━━━━━━━━━━━━━━━━━━━━━━━━━━━━━━━━━━━━━━╇━━━━━━━━━━━━━━━━━━━━━━━━━━━━━━━━━━━━━━━━━━━━━━━━━━━━━━━━┩\n",
       "│ <span style=\"color: #7f7f7f; text-decoration-color: #7f7f7f\">float64</span>                                                │ <span style=\"color: #7f7f7f; text-decoration-color: #7f7f7f\">int64</span>                                                  │\n",
       "├────────────────────────────────────────────────────────┼────────────────────────────────────────────────────────┤\n",
       "│                                                    <span style=\"color: #008080; text-decoration-color: #008080; font-weight: bold\">1.0</span> │                                              <span style=\"color: #008080; text-decoration-color: #008080; font-weight: bold\">254839674</span> │\n",
       "│                                                    <span style=\"color: #008080; text-decoration-color: #008080; font-weight: bold\">0.0</span> │                                              <span style=\"color: #008080; text-decoration-color: #008080; font-weight: bold\">251200175</span> │\n",
       "│                                                    <span style=\"color: #008080; text-decoration-color: #008080; font-weight: bold\">0.5</span> │                                               <span style=\"color: #008080; text-decoration-color: #008080; font-weight: bold\">28075283</span> │\n",
       "└────────────────────────────────────────────────────────┴────────────────────────────────────────────────────────┘\n",
       "</pre>\n"
      ],
      "text/plain": [
       "┏━━━━━━━━━━━━━━━━━━━━━━━━━━━━━━━━━━━━━━━━━━━━━━━━━━━━━━━━┳━━━━━━━━━━━━━━━━━━━━━━━━━━━━━━━━━━━━━━━━━━━━━━━━━━━━━━━━┓\n",
       "┃\u001b[1m \u001b[0m\u001b[1mAbs(Subtract(Modulus(move_ply, 2), SimpleCase(result,…\u001b[0m\u001b[1m \u001b[0m┃\u001b[1m \u001b[0m\u001b[1mAbs(Subtract(Modulus(move_ply, 2), SimpleCase(result,…\u001b[0m\u001b[1m \u001b[0m┃\n",
       "┡━━━━━━━━━━━━━━━━━━━━━━━━━━━━━━━━━━━━━━━━━━━━━━━━━━━━━━━━╇━━━━━━━━━━━━━━━━━━━━━━━━━━━━━━━━━━━━━━━━━━━━━━━━━━━━━━━━┩\n",
       "│ \u001b[2mfloat64\u001b[0m                                                │ \u001b[2mint64\u001b[0m                                                  │\n",
       "├────────────────────────────────────────────────────────┼────────────────────────────────────────────────────────┤\n",
       "│                                                    \u001b[1;36m1.0\u001b[0m │                                              \u001b[1;36m254839674\u001b[0m │\n",
       "│                                                    \u001b[1;36m0.0\u001b[0m │                                              \u001b[1;36m251200175\u001b[0m │\n",
       "│                                                    \u001b[1;36m0.5\u001b[0m │                                               \u001b[1;36m28075283\u001b[0m │\n",
       "└────────────────────────────────────────────────────────┴────────────────────────────────────────────────────────┘\n"
      ]
     },
     "execution_count": 14,
     "metadata": {},
     "output_type": "execute_result"
    }
   ],
   "source": [
    "%%time\n",
    "target = (\n",
    "    filtered_moves.move_ply % 2\n",
    "    - filtered_moves.result.case()\n",
    "    .when(\"1-0\", 0)\n",
    "    .when(\"1/2-1/2\", 0.5)\n",
    "    .when(\"0-1\", 1)\n",
    "    .end()\n",
    ").abs()\n",
    "target.value_counts().preview()"
   ]
  },
  {
   "cell_type": "markdown",
   "id": "317b077f-e96e-41bf-82da-0fb47b014d85",
   "metadata": {},
   "source": [
    "# Game-level features"
   ]
  },
  {
   "cell_type": "code",
   "execution_count": 15,
   "id": "c4f22acb-5955-4841-8433-f76557542dbb",
   "metadata": {},
   "outputs": [],
   "source": [
    "game_level_features = []"
   ]
  },
  {
   "cell_type": "code",
   "execution_count": 16,
   "id": "8c410509-c913-4361-b63f-aa2bb8b921c7",
   "metadata": {},
   "outputs": [
    {
     "name": "stdout",
     "output_type": "stream",
     "text": [
      "CPU times: user 24min 15s, sys: 1min 21s, total: 25min 36s\n",
      "Wall time: 25.1 s\n"
     ]
    },
    {
     "data": {
      "text/html": [
       "<pre style=\"white-space:pre;overflow-x:auto;line-height:normal;font-family:Menlo,'DejaVu Sans Mono',consolas,'Courier New',monospace\">┏━━━━━━━━━━━━━━━━━━━━━━━━━━━━━━┳━━━━━━━━━━━━━━━━━━━━━━━━━━━━━━━━━━━━━━━━━━━━━━━━┳━━━━━━━━━━━━┳━━━━━━━━┳━━━━━━━━━━━━━━━━━━━━━━┳━━━━━━━━━━━━━━━┳━━━━━━━━┳━━━━━━━━━━━━┳━━━━━━━━━━┳━━━━━━━━━━━┳━━━━━━━━━━━┳━━━━━━━━━━━━━━━━━━━┳━━━━━━━━━━━━━━━━━━━┳━━━━━━━━━━━━━┳━━━━━━━━━━━━━┳━━━━━━━━┳━━━━━━━━━━━━━━━━━━━━━━━━━━━━━━━━━━━━━━━━━━━━━━━━━━━━━━━━━━━━┳━━━━━━━━━━━━━━┳━━━━━━━━━━━━━━┳━━━━━━━━━━━━━━━━━━━━━━━━┳━━━━━━━━━━━━━━━━━━━━━━━━┳━━━━━━━━━━━━━━━━━━━┓\n",
       "┃<span style=\"font-weight: bold\"> site                         </span>┃<span style=\"font-weight: bold\"> event                                          </span>┃<span style=\"font-weight: bold\"> date       </span>┃<span style=\"font-weight: bold\"> round  </span>┃<span style=\"font-weight: bold\"> white                </span>┃<span style=\"font-weight: bold\"> black         </span>┃<span style=\"font-weight: bold\"> result </span>┃<span style=\"font-weight: bold\"> utc_date   </span>┃<span style=\"font-weight: bold\"> utc_time </span>┃<span style=\"font-weight: bold\"> white_elo </span>┃<span style=\"font-weight: bold\"> black_elo </span>┃<span style=\"font-weight: bold\"> white_rating_diff </span>┃<span style=\"font-weight: bold\"> black_rating_diff </span>┃<span style=\"font-weight: bold\"> white_title </span>┃<span style=\"font-weight: bold\"> black_title </span>┃<span style=\"font-weight: bold\"> eco    </span>┃<span style=\"font-weight: bold\"> opening                                                    </span>┃<span style=\"font-weight: bold\"> time_control </span>┃<span style=\"font-weight: bold\"> termination  </span>┃<span style=\"font-weight: bold\"> time_control_base_time </span>┃<span style=\"font-weight: bold\"> time_control_increment </span>┃<span style=\"font-weight: bold\"> time_control_type </span>┃\n",
       "┡━━━━━━━━━━━━━━━━━━━━━━━━━━━━━━╇━━━━━━━━━━━━━━━━━━━━━━━━━━━━━━━━━━━━━━━━━━━━━━━━╇━━━━━━━━━━━━╇━━━━━━━━╇━━━━━━━━━━━━━━━━━━━━━━╇━━━━━━━━━━━━━━━╇━━━━━━━━╇━━━━━━━━━━━━╇━━━━━━━━━━╇━━━━━━━━━━━╇━━━━━━━━━━━╇━━━━━━━━━━━━━━━━━━━╇━━━━━━━━━━━━━━━━━━━╇━━━━━━━━━━━━━╇━━━━━━━━━━━━━╇━━━━━━━━╇━━━━━━━━━━━━━━━━━━━━━━━━━━━━━━━━━━━━━━━━━━━━━━━━━━━━━━━━━━━━╇━━━━━━━━━━━━━━╇━━━━━━━━━━━━━━╇━━━━━━━━━━━━━━━━━━━━━━━━╇━━━━━━━━━━━━━━━━━━━━━━━━╇━━━━━━━━━━━━━━━━━━━┩\n",
       "│ <span style=\"color: #7f7f7f; text-decoration-color: #7f7f7f\">string</span>                       │ <span style=\"color: #7f7f7f; text-decoration-color: #7f7f7f\">string</span>                                         │ <span style=\"color: #7f7f7f; text-decoration-color: #7f7f7f\">string</span>     │ <span style=\"color: #7f7f7f; text-decoration-color: #7f7f7f\">string</span> │ <span style=\"color: #7f7f7f; text-decoration-color: #7f7f7f\">string</span>               │ <span style=\"color: #7f7f7f; text-decoration-color: #7f7f7f\">string</span>        │ <span style=\"color: #7f7f7f; text-decoration-color: #7f7f7f\">string</span> │ <span style=\"color: #7f7f7f; text-decoration-color: #7f7f7f\">string</span>     │ <span style=\"color: #7f7f7f; text-decoration-color: #7f7f7f\">string</span>   │ <span style=\"color: #7f7f7f; text-decoration-color: #7f7f7f\">string</span>    │ <span style=\"color: #7f7f7f; text-decoration-color: #7f7f7f\">string</span>    │ <span style=\"color: #7f7f7f; text-decoration-color: #7f7f7f\">string</span>            │ <span style=\"color: #7f7f7f; text-decoration-color: #7f7f7f\">string</span>            │ <span style=\"color: #7f7f7f; text-decoration-color: #7f7f7f\">string</span>      │ <span style=\"color: #7f7f7f; text-decoration-color: #7f7f7f\">string</span>      │ <span style=\"color: #7f7f7f; text-decoration-color: #7f7f7f\">string</span> │ <span style=\"color: #7f7f7f; text-decoration-color: #7f7f7f\">string</span>                                                     │ <span style=\"color: #7f7f7f; text-decoration-color: #7f7f7f\">string</span>       │ <span style=\"color: #7f7f7f; text-decoration-color: #7f7f7f\">string</span>       │ <span style=\"color: #7f7f7f; text-decoration-color: #7f7f7f\">int64</span>                  │ <span style=\"color: #7f7f7f; text-decoration-color: #7f7f7f\">int64</span>                  │ <span style=\"color: #7f7f7f; text-decoration-color: #7f7f7f\">string</span>            │\n",
       "├──────────────────────────────┼────────────────────────────────────────────────┼────────────┼────────┼──────────────────────┼───────────────┼────────┼────────────┼──────────┼───────────┼───────────┼───────────────────┼───────────────────┼─────────────┼─────────────┼────────┼────────────────────────────────────────────────────────────┼──────────────┼──────────────┼────────────────────────┼────────────────────────┼───────────────────┤\n",
       "│ <a href=\"https://lichess.org/porxpn0v\" target=\"_blank\"><span style=\"color: #008000; text-decoration-color: #008000\">https://lichess.org/porxpn0v</span></a> │ <span style=\"color: #008000; text-decoration-color: #008000\">Rapid swiss https://lichess.org/swiss/57bESY3I</span> │ <span style=\"color: #008000; text-decoration-color: #008000\">2024.07.04</span> │ <span style=\"color: #008000; text-decoration-color: #008000\">-     </span> │ <span style=\"color: #008000; text-decoration-color: #008000\">most_dragon         </span> │ <span style=\"color: #008000; text-decoration-color: #008000\">Jainil14     </span> │ <span style=\"color: #008000; text-decoration-color: #008000\">1-0   </span> │ <span style=\"color: #008000; text-decoration-color: #008000\">2024.07.04</span> │ <span style=\"color: #008000; text-decoration-color: #008000\">11:02:19</span> │ <span style=\"color: #008000; text-decoration-color: #008000\">1500     </span> │ <span style=\"color: #008000; text-decoration-color: #008000\">1450     </span> │ <span style=\"color: #008000; text-decoration-color: #008000\">+209             </span> │ <span style=\"color: #008000; text-decoration-color: #008000\">-8               </span> │ <span style=\"color: #7f7f7f; text-decoration-color: #7f7f7f\">NULL</span>        │ <span style=\"color: #7f7f7f; text-decoration-color: #7f7f7f\">NULL</span>        │ <span style=\"color: #008000; text-decoration-color: #008000\">B27   </span> │ <span style=\"color: #008000; text-decoration-color: #008000\">Sicilian Defense: Hyperaccelerated Dragon                 </span> │ <span style=\"color: #008000; text-decoration-color: #008000\">600+0       </span> │ <span style=\"color: #008000; text-decoration-color: #008000\">Time forfeit</span> │                    <span style=\"color: #008080; text-decoration-color: #008080; font-weight: bold\">600</span> │                      <span style=\"color: #008080; text-decoration-color: #008080; font-weight: bold\">0</span> │ <span style=\"color: #008000; text-decoration-color: #008000\">BLITZ            </span> │\n",
       "│ <a href=\"https://lichess.org/kfbl9PkB\" target=\"_blank\"><span style=\"color: #008000; text-decoration-color: #008000\">https://lichess.org/kfbl9PkB</span></a> │ <span style=\"color: #008000; text-decoration-color: #008000\">Rapid swiss https://lichess.org/swiss/57bESY3I</span> │ <span style=\"color: #008000; text-decoration-color: #008000\">2024.07.04</span> │ <span style=\"color: #008000; text-decoration-color: #008000\">-     </span> │ <span style=\"color: #008000; text-decoration-color: #008000\">pirula              </span> │ <span style=\"color: #008000; text-decoration-color: #008000\">Nibbana      </span> │ <span style=\"color: #008000; text-decoration-color: #008000\">1-0   </span> │ <span style=\"color: #008000; text-decoration-color: #008000\">2024.07.04</span> │ <span style=\"color: #008000; text-decoration-color: #008000\">11:02:19</span> │ <span style=\"color: #008000; text-decoration-color: #008000\">1953     </span> │ <span style=\"color: #008000; text-decoration-color: #008000\">1915     </span> │ <span style=\"color: #008000; text-decoration-color: #008000\">+5               </span> │ <span style=\"color: #008000; text-decoration-color: #008000\">-11              </span> │ <span style=\"color: #7f7f7f; text-decoration-color: #7f7f7f\">NULL</span>        │ <span style=\"color: #7f7f7f; text-decoration-color: #7f7f7f\">NULL</span>        │ <span style=\"color: #008000; text-decoration-color: #008000\">B94   </span> │ <span style=\"color: #008000; text-decoration-color: #008000\">Sicilian Defense: Najdorf Variation                       </span> │ <span style=\"color: #008000; text-decoration-color: #008000\">600+0       </span> │ <span style=\"color: #008000; text-decoration-color: #008000\">Normal      </span> │                    <span style=\"color: #008080; text-decoration-color: #008080; font-weight: bold\">600</span> │                      <span style=\"color: #008080; text-decoration-color: #008080; font-weight: bold\">0</span> │ <span style=\"color: #008000; text-decoration-color: #008000\">BLITZ            </span> │\n",
       "│ <a href=\"https://lichess.org/9UqUm5B0\" target=\"_blank\"><span style=\"color: #008000; text-decoration-color: #008000\">https://lichess.org/9UqUm5B0</span></a> │ <span style=\"color: #008000; text-decoration-color: #008000\">Rated Rapid game                              </span> │ <span style=\"color: #008000; text-decoration-color: #008000\">2024.07.04</span> │ <span style=\"color: #008000; text-decoration-color: #008000\">-     </span> │ <span style=\"color: #008000; text-decoration-color: #008000\">mynewaccountonliches</span> │ <span style=\"color: #008000; text-decoration-color: #008000\">martinpfnavia</span> │ <span style=\"color: #008000; text-decoration-color: #008000\">1-0   </span> │ <span style=\"color: #008000; text-decoration-color: #008000\">2024.07.04</span> │ <span style=\"color: #008000; text-decoration-color: #008000\">11:02:20</span> │ <span style=\"color: #008000; text-decoration-color: #008000\">1516     </span> │ <span style=\"color: #008000; text-decoration-color: #008000\">1591     </span> │ <span style=\"color: #008000; text-decoration-color: #008000\">+17              </span> │ <span style=\"color: #008000; text-decoration-color: #008000\">-31              </span> │ <span style=\"color: #7f7f7f; text-decoration-color: #7f7f7f\">NULL</span>        │ <span style=\"color: #7f7f7f; text-decoration-color: #7f7f7f\">NULL</span>        │ <span style=\"color: #008000; text-decoration-color: #008000\">B01   </span> │ <span style=\"color: #008000; text-decoration-color: #008000\">Scandinavian Defense: Mieses-Kotroc Variation             </span> │ <span style=\"color: #008000; text-decoration-color: #008000\">600+5       </span> │ <span style=\"color: #008000; text-decoration-color: #008000\">Normal      </span> │                    <span style=\"color: #008080; text-decoration-color: #008080; font-weight: bold\">600</span> │                      <span style=\"color: #008080; text-decoration-color: #008080; font-weight: bold\">5</span> │ <span style=\"color: #008000; text-decoration-color: #008000\">RAPID            </span> │\n",
       "│ <a href=\"https://lichess.org/dO9dn9Mq\" target=\"_blank\"><span style=\"color: #008000; text-decoration-color: #008000\">https://lichess.org/dO9dn9Mq</span></a> │ <span style=\"color: #008000; text-decoration-color: #008000\">Rated Bullet game                             </span> │ <span style=\"color: #008000; text-decoration-color: #008000\">2024.07.04</span> │ <span style=\"color: #008000; text-decoration-color: #008000\">-     </span> │ <span style=\"color: #008000; text-decoration-color: #008000\">jeromsky            </span> │ <span style=\"color: #008000; text-decoration-color: #008000\">paulbertz    </span> │ <span style=\"color: #008000; text-decoration-color: #008000\">0-1   </span> │ <span style=\"color: #008000; text-decoration-color: #008000\">2024.07.04</span> │ <span style=\"color: #008000; text-decoration-color: #008000\">11:02:23</span> │ <span style=\"color: #008000; text-decoration-color: #008000\">1823     </span> │ <span style=\"color: #008000; text-decoration-color: #008000\">1811     </span> │ <span style=\"color: #008000; text-decoration-color: #008000\">-5               </span> │ <span style=\"color: #008000; text-decoration-color: #008000\">+6               </span> │ <span style=\"color: #7f7f7f; text-decoration-color: #7f7f7f\">NULL</span>        │ <span style=\"color: #7f7f7f; text-decoration-color: #7f7f7f\">NULL</span>        │ <span style=\"color: #008000; text-decoration-color: #008000\">A06   </span> │ <span style=\"color: #008000; text-decoration-color: #008000\">Zukertort Opening: Tennison Gambit                        </span> │ <span style=\"color: #008000; text-decoration-color: #008000\">60+0        </span> │ <span style=\"color: #008000; text-decoration-color: #008000\">Time forfeit</span> │                     <span style=\"color: #008080; text-decoration-color: #008080; font-weight: bold\">60</span> │                      <span style=\"color: #008080; text-decoration-color: #008080; font-weight: bold\">0</span> │ <span style=\"color: #008000; text-decoration-color: #008000\">BULLET           </span> │\n",
       "│ <a href=\"https://lichess.org/yeP9XCU1\" target=\"_blank\"><span style=\"color: #008000; text-decoration-color: #008000\">https://lichess.org/yeP9XCU1</span></a> │ <span style=\"color: #008000; text-decoration-color: #008000\">Rated Blitz game                              </span> │ <span style=\"color: #008000; text-decoration-color: #008000\">2024.07.04</span> │ <span style=\"color: #008000; text-decoration-color: #008000\">-     </span> │ <span style=\"color: #008000; text-decoration-color: #008000\">LedMonitor          </span> │ <span style=\"color: #008000; text-decoration-color: #008000\">sahilnag05   </span> │ <span style=\"color: #008000; text-decoration-color: #008000\">1-0   </span> │ <span style=\"color: #008000; text-decoration-color: #008000\">2024.07.04</span> │ <span style=\"color: #008000; text-decoration-color: #008000\">11:02:24</span> │ <span style=\"color: #008000; text-decoration-color: #008000\">1397     </span> │ <span style=\"color: #008000; text-decoration-color: #008000\">1454     </span> │ <span style=\"color: #008000; text-decoration-color: #008000\">+7               </span> │ <span style=\"color: #008000; text-decoration-color: #008000\">-6               </span> │ <span style=\"color: #7f7f7f; text-decoration-color: #7f7f7f\">NULL</span>        │ <span style=\"color: #7f7f7f; text-decoration-color: #7f7f7f\">NULL</span>        │ <span style=\"color: #008000; text-decoration-color: #008000\">A04   </span> │ <span style=\"color: #008000; text-decoration-color: #008000\">Zukertort Opening: Queenside Fianchetto Variation         </span> │ <span style=\"color: #008000; text-decoration-color: #008000\">180+2       </span> │ <span style=\"color: #008000; text-decoration-color: #008000\">Time forfeit</span> │                    <span style=\"color: #008080; text-decoration-color: #008080; font-weight: bold\">180</span> │                      <span style=\"color: #008080; text-decoration-color: #008080; font-weight: bold\">2</span> │ <span style=\"color: #008000; text-decoration-color: #008000\">BLITZ            </span> │\n",
       "│ <a href=\"https://lichess.org/3jfLtMGU\" target=\"_blank\"><span style=\"color: #008000; text-decoration-color: #008000\">https://lichess.org/3jfLtMGU</span></a> │ <span style=\"color: #008000; text-decoration-color: #008000\">Rated Rapid game                              </span> │ <span style=\"color: #008000; text-decoration-color: #008000\">2024.07.04</span> │ <span style=\"color: #008000; text-decoration-color: #008000\">-     </span> │ <span style=\"color: #008000; text-decoration-color: #008000\">Dimbi               </span> │ <span style=\"color: #008000; text-decoration-color: #008000\">MZapater     </span> │ <span style=\"color: #008000; text-decoration-color: #008000\">0-1   </span> │ <span style=\"color: #008000; text-decoration-color: #008000\">2024.07.04</span> │ <span style=\"color: #008000; text-decoration-color: #008000\">11:02:20</span> │ <span style=\"color: #008000; text-decoration-color: #008000\">1217     </span> │ <span style=\"color: #008000; text-decoration-color: #008000\">1200     </span> │ <span style=\"color: #008000; text-decoration-color: #008000\">-8               </span> │ <span style=\"color: #008000; text-decoration-color: #008000\">+6               </span> │ <span style=\"color: #7f7f7f; text-decoration-color: #7f7f7f\">NULL</span>        │ <span style=\"color: #7f7f7f; text-decoration-color: #7f7f7f\">NULL</span>        │ <span style=\"color: #008000; text-decoration-color: #008000\">C62   </span> │ <span style=\"color: #008000; text-decoration-color: #008000\">Ruy Lopez: Steinitz Defense                               </span> │ <span style=\"color: #008000; text-decoration-color: #008000\">600+5       </span> │ <span style=\"color: #008000; text-decoration-color: #008000\">Normal      </span> │                    <span style=\"color: #008080; text-decoration-color: #008080; font-weight: bold\">600</span> │                      <span style=\"color: #008080; text-decoration-color: #008080; font-weight: bold\">5</span> │ <span style=\"color: #008000; text-decoration-color: #008000\">RAPID            </span> │\n",
       "│ <a href=\"https://lichess.org/kz9q8xKS\" target=\"_blank\"><span style=\"color: #008000; text-decoration-color: #008000\">https://lichess.org/kz9q8xKS</span></a> │ <span style=\"color: #008000; text-decoration-color: #008000\">Rated Rapid game                              </span> │ <span style=\"color: #008000; text-decoration-color: #008000\">2024.07.04</span> │ <span style=\"color: #008000; text-decoration-color: #008000\">-     </span> │ <span style=\"color: #008000; text-decoration-color: #008000\">kazemi2020          </span> │ <span style=\"color: #008000; text-decoration-color: #008000\">Javin143     </span> │ <span style=\"color: #008000; text-decoration-color: #008000\">1-0   </span> │ <span style=\"color: #008000; text-decoration-color: #008000\">2024.07.04</span> │ <span style=\"color: #008000; text-decoration-color: #008000\">11:02:20</span> │ <span style=\"color: #008000; text-decoration-color: #008000\">1936     </span> │ <span style=\"color: #008000; text-decoration-color: #008000\">1948     </span> │ <span style=\"color: #008000; text-decoration-color: #008000\">+6               </span> │ <span style=\"color: #008000; text-decoration-color: #008000\">-6               </span> │ <span style=\"color: #7f7f7f; text-decoration-color: #7f7f7f\">NULL</span>        │ <span style=\"color: #7f7f7f; text-decoration-color: #7f7f7f\">NULL</span>        │ <span style=\"color: #008000; text-decoration-color: #008000\">E30   </span> │ <span style=\"color: #008000; text-decoration-color: #008000\">Nimzo-Indian Defense: Leningrad Variation                 </span> │ <span style=\"color: #008000; text-decoration-color: #008000\">600+5       </span> │ <span style=\"color: #008000; text-decoration-color: #008000\">Normal      </span> │                    <span style=\"color: #008080; text-decoration-color: #008080; font-weight: bold\">600</span> │                      <span style=\"color: #008080; text-decoration-color: #008080; font-weight: bold\">5</span> │ <span style=\"color: #008000; text-decoration-color: #008000\">RAPID            </span> │\n",
       "│ <a href=\"https://lichess.org/90omwcDK\" target=\"_blank\"><span style=\"color: #008000; text-decoration-color: #008000\">https://lichess.org/90omwcDK</span></a> │ <span style=\"color: #008000; text-decoration-color: #008000\">Rated Rapid game                              </span> │ <span style=\"color: #008000; text-decoration-color: #008000\">2024.07.04</span> │ <span style=\"color: #008000; text-decoration-color: #008000\">-     </span> │ <span style=\"color: #008000; text-decoration-color: #008000\">BerezinaEkaterina   </span> │ <span style=\"color: #008000; text-decoration-color: #008000\">alexkochev   </span> │ <span style=\"color: #008000; text-decoration-color: #008000\">1-0   </span> │ <span style=\"color: #008000; text-decoration-color: #008000\">2024.07.04</span> │ <span style=\"color: #008000; text-decoration-color: #008000\">11:02:20</span> │ <span style=\"color: #008000; text-decoration-color: #008000\">1700     </span> │ <span style=\"color: #008000; text-decoration-color: #008000\">1642     </span> │ <span style=\"color: #008000; text-decoration-color: #008000\">+5               </span> │ <span style=\"color: #008000; text-decoration-color: #008000\">-5               </span> │ <span style=\"color: #7f7f7f; text-decoration-color: #7f7f7f\">NULL</span>        │ <span style=\"color: #7f7f7f; text-decoration-color: #7f7f7f\">NULL</span>        │ <span style=\"color: #008000; text-decoration-color: #008000\">C62   </span> │ <span style=\"color: #008000; text-decoration-color: #008000\">Ruy Lopez: Steinitz Defense                               </span> │ <span style=\"color: #008000; text-decoration-color: #008000\">600+5       </span> │ <span style=\"color: #008000; text-decoration-color: #008000\">Normal      </span> │                    <span style=\"color: #008080; text-decoration-color: #008080; font-weight: bold\">600</span> │                      <span style=\"color: #008080; text-decoration-color: #008080; font-weight: bold\">5</span> │ <span style=\"color: #008000; text-decoration-color: #008000\">RAPID            </span> │\n",
       "│ <a href=\"https://lichess.org/uLtVf0nR\" target=\"_blank\"><span style=\"color: #008000; text-decoration-color: #008000\">https://lichess.org/uLtVf0nR</span></a> │ <span style=\"color: #008000; text-decoration-color: #008000\">Rated Blitz game                              </span> │ <span style=\"color: #008000; text-decoration-color: #008000\">2024.07.04</span> │ <span style=\"color: #008000; text-decoration-color: #008000\">-     </span> │ <span style=\"color: #008000; text-decoration-color: #008000\">PashaEbashu         </span> │ <span style=\"color: #008000; text-decoration-color: #008000\">veysey       </span> │ <span style=\"color: #008000; text-decoration-color: #008000\">0-1   </span> │ <span style=\"color: #008000; text-decoration-color: #008000\">2024.07.04</span> │ <span style=\"color: #008000; text-decoration-color: #008000\">11:02:20</span> │ <span style=\"color: #008000; text-decoration-color: #008000\">1540     </span> │ <span style=\"color: #008000; text-decoration-color: #008000\">1556     </span> │ <span style=\"color: #008000; text-decoration-color: #008000\">-6               </span> │ <span style=\"color: #008000; text-decoration-color: #008000\">+6               </span> │ <span style=\"color: #7f7f7f; text-decoration-color: #7f7f7f\">NULL</span>        │ <span style=\"color: #7f7f7f; text-decoration-color: #7f7f7f\">NULL</span>        │ <span style=\"color: #008000; text-decoration-color: #008000\">D20   </span> │ <span style=\"color: #008000; text-decoration-color: #008000\">Queen's Gambit Accepted: Central Variation, Modern Defense</span> │ <span style=\"color: #008000; text-decoration-color: #008000\">180+2       </span> │ <span style=\"color: #008000; text-decoration-color: #008000\">Normal      </span> │                    <span style=\"color: #008080; text-decoration-color: #008080; font-weight: bold\">180</span> │                      <span style=\"color: #008080; text-decoration-color: #008080; font-weight: bold\">2</span> │ <span style=\"color: #008000; text-decoration-color: #008000\">BLITZ            </span> │\n",
       "│ <a href=\"https://lichess.org/iQxJsgbl\" target=\"_blank\"><span style=\"color: #008000; text-decoration-color: #008000\">https://lichess.org/iQxJsgbl</span></a> │ <span style=\"color: #008000; text-decoration-color: #008000\">Rated Blitz game                              </span> │ <span style=\"color: #008000; text-decoration-color: #008000\">2024.07.04</span> │ <span style=\"color: #008000; text-decoration-color: #008000\">-     </span> │ <span style=\"color: #008000; text-decoration-color: #008000\">Jakkaben2           </span> │ <span style=\"color: #008000; text-decoration-color: #008000\">lovetoplayy  </span> │ <span style=\"color: #008000; text-decoration-color: #008000\">1-0   </span> │ <span style=\"color: #008000; text-decoration-color: #008000\">2024.07.04</span> │ <span style=\"color: #008000; text-decoration-color: #008000\">11:02:20</span> │ <span style=\"color: #008000; text-decoration-color: #008000\">1469     </span> │ <span style=\"color: #008000; text-decoration-color: #008000\">1443     </span> │ <span style=\"color: #008000; text-decoration-color: #008000\">+5               </span> │ <span style=\"color: #008000; text-decoration-color: #008000\">-5               </span> │ <span style=\"color: #7f7f7f; text-decoration-color: #7f7f7f\">NULL</span>        │ <span style=\"color: #7f7f7f; text-decoration-color: #7f7f7f\">NULL</span>        │ <span style=\"color: #008000; text-decoration-color: #008000\">D02   </span> │ <span style=\"color: #008000; text-decoration-color: #008000\">Queen's Pawn Game: Zukertort Variation                    </span> │ <span style=\"color: #008000; text-decoration-color: #008000\">180+0       </span> │ <span style=\"color: #008000; text-decoration-color: #008000\">Normal      </span> │                    <span style=\"color: #008080; text-decoration-color: #008080; font-weight: bold\">180</span> │                      <span style=\"color: #008080; text-decoration-color: #008080; font-weight: bold\">0</span> │ <span style=\"color: #008000; text-decoration-color: #008000\">BLITZ            </span> │\n",
       "│ <span style=\"color: #7f7f7f; text-decoration-color: #7f7f7f\">…</span>                            │ <span style=\"color: #7f7f7f; text-decoration-color: #7f7f7f\">…</span>                                              │ <span style=\"color: #7f7f7f; text-decoration-color: #7f7f7f\">…</span>          │ <span style=\"color: #7f7f7f; text-decoration-color: #7f7f7f\">…</span>      │ <span style=\"color: #7f7f7f; text-decoration-color: #7f7f7f\">…</span>                    │ <span style=\"color: #7f7f7f; text-decoration-color: #7f7f7f\">…</span>             │ <span style=\"color: #7f7f7f; text-decoration-color: #7f7f7f\">…</span>      │ <span style=\"color: #7f7f7f; text-decoration-color: #7f7f7f\">…</span>          │ <span style=\"color: #7f7f7f; text-decoration-color: #7f7f7f\">…</span>        │ <span style=\"color: #7f7f7f; text-decoration-color: #7f7f7f\">…</span>         │ <span style=\"color: #7f7f7f; text-decoration-color: #7f7f7f\">…</span>         │ <span style=\"color: #7f7f7f; text-decoration-color: #7f7f7f\">…</span>                 │ <span style=\"color: #7f7f7f; text-decoration-color: #7f7f7f\">…</span>                 │ <span style=\"color: #7f7f7f; text-decoration-color: #7f7f7f\">…</span>           │ <span style=\"color: #7f7f7f; text-decoration-color: #7f7f7f\">…</span>           │ <span style=\"color: #7f7f7f; text-decoration-color: #7f7f7f\">…</span>      │ <span style=\"color: #7f7f7f; text-decoration-color: #7f7f7f\">…</span>                                                          │ <span style=\"color: #7f7f7f; text-decoration-color: #7f7f7f\">…</span>            │ <span style=\"color: #7f7f7f; text-decoration-color: #7f7f7f\">…</span>            │                      <span style=\"color: #7f7f7f; text-decoration-color: #7f7f7f\">…</span> │                      <span style=\"color: #7f7f7f; text-decoration-color: #7f7f7f\">…</span> │ <span style=\"color: #7f7f7f; text-decoration-color: #7f7f7f\">…</span>                 │\n",
       "└──────────────────────────────┴────────────────────────────────────────────────┴────────────┴────────┴──────────────────────┴───────────────┴────────┴────────────┴──────────┴───────────┴───────────┴───────────────────┴───────────────────┴─────────────┴─────────────┴────────┴────────────────────────────────────────────────────────────┴──────────────┴──────────────┴────────────────────────┴────────────────────────┴───────────────────┘\n",
       "</pre>\n"
      ],
      "text/plain": [
       "┏━━━━━━━━━━━━━━━━━━━━━━━━━━━━━━┳━━━━━━━━━━━━━━━━━━━━━━━━━━━━━━━━━━━━━━━━━━━━━━━━┳━━━━━━━━━━━━┳━━━━━━━━┳━━━━━━━━━━━━━━━━━━━━━━┳━━━━━━━━━━━━━━━┳━━━━━━━━┳━━━━━━━━━━━━┳━━━━━━━━━━┳━━━━━━━━━━━┳━━━━━━━━━━━┳━━━━━━━━━━━━━━━━━━━┳━━━━━━━━━━━━━━━━━━━┳━━━━━━━━━━━━━┳━━━━━━━━━━━━━┳━━━━━━━━┳━━━━━━━━━━━━━━━━━━━━━━━━━━━━━━━━━━━━━━━━━━━━━━━━━━━━━━━━━━━━┳━━━━━━━━━━━━━━┳━━━━━━━━━━━━━━┳━━━━━━━━━━━━━━━━━━━━━━━━┳━━━━━━━━━━━━━━━━━━━━━━━━┳━━━━━━━━━━━━━━━━━━━┓\n",
       "┃\u001b[1m \u001b[0m\u001b[1msite\u001b[0m\u001b[1m                        \u001b[0m\u001b[1m \u001b[0m┃\u001b[1m \u001b[0m\u001b[1mevent\u001b[0m\u001b[1m                                         \u001b[0m\u001b[1m \u001b[0m┃\u001b[1m \u001b[0m\u001b[1mdate\u001b[0m\u001b[1m      \u001b[0m\u001b[1m \u001b[0m┃\u001b[1m \u001b[0m\u001b[1mround\u001b[0m\u001b[1m \u001b[0m\u001b[1m \u001b[0m┃\u001b[1m \u001b[0m\u001b[1mwhite\u001b[0m\u001b[1m               \u001b[0m\u001b[1m \u001b[0m┃\u001b[1m \u001b[0m\u001b[1mblack\u001b[0m\u001b[1m        \u001b[0m\u001b[1m \u001b[0m┃\u001b[1m \u001b[0m\u001b[1mresult\u001b[0m\u001b[1m \u001b[0m┃\u001b[1m \u001b[0m\u001b[1mutc_date\u001b[0m\u001b[1m  \u001b[0m\u001b[1m \u001b[0m┃\u001b[1m \u001b[0m\u001b[1mutc_time\u001b[0m\u001b[1m \u001b[0m┃\u001b[1m \u001b[0m\u001b[1mwhite_elo\u001b[0m\u001b[1m \u001b[0m┃\u001b[1m \u001b[0m\u001b[1mblack_elo\u001b[0m\u001b[1m \u001b[0m┃\u001b[1m \u001b[0m\u001b[1mwhite_rating_diff\u001b[0m\u001b[1m \u001b[0m┃\u001b[1m \u001b[0m\u001b[1mblack_rating_diff\u001b[0m\u001b[1m \u001b[0m┃\u001b[1m \u001b[0m\u001b[1mwhite_title\u001b[0m\u001b[1m \u001b[0m┃\u001b[1m \u001b[0m\u001b[1mblack_title\u001b[0m\u001b[1m \u001b[0m┃\u001b[1m \u001b[0m\u001b[1meco\u001b[0m\u001b[1m   \u001b[0m\u001b[1m \u001b[0m┃\u001b[1m \u001b[0m\u001b[1mopening\u001b[0m\u001b[1m                                                   \u001b[0m\u001b[1m \u001b[0m┃\u001b[1m \u001b[0m\u001b[1mtime_control\u001b[0m\u001b[1m \u001b[0m┃\u001b[1m \u001b[0m\u001b[1mtermination\u001b[0m\u001b[1m \u001b[0m\u001b[1m \u001b[0m┃\u001b[1m \u001b[0m\u001b[1mtime_control_base_time\u001b[0m\u001b[1m \u001b[0m┃\u001b[1m \u001b[0m\u001b[1mtime_control_increment\u001b[0m\u001b[1m \u001b[0m┃\u001b[1m \u001b[0m\u001b[1mtime_control_type\u001b[0m\u001b[1m \u001b[0m┃\n",
       "┡━━━━━━━━━━━━━━━━━━━━━━━━━━━━━━╇━━━━━━━━━━━━━━━━━━━━━━━━━━━━━━━━━━━━━━━━━━━━━━━━╇━━━━━━━━━━━━╇━━━━━━━━╇━━━━━━━━━━━━━━━━━━━━━━╇━━━━━━━━━━━━━━━╇━━━━━━━━╇━━━━━━━━━━━━╇━━━━━━━━━━╇━━━━━━━━━━━╇━━━━━━━━━━━╇━━━━━━━━━━━━━━━━━━━╇━━━━━━━━━━━━━━━━━━━╇━━━━━━━━━━━━━╇━━━━━━━━━━━━━╇━━━━━━━━╇━━━━━━━━━━━━━━━━━━━━━━━━━━━━━━━━━━━━━━━━━━━━━━━━━━━━━━━━━━━━╇━━━━━━━━━━━━━━╇━━━━━━━━━━━━━━╇━━━━━━━━━━━━━━━━━━━━━━━━╇━━━━━━━━━━━━━━━━━━━━━━━━╇━━━━━━━━━━━━━━━━━━━┩\n",
       "│ \u001b[2mstring\u001b[0m                       │ \u001b[2mstring\u001b[0m                                         │ \u001b[2mstring\u001b[0m     │ \u001b[2mstring\u001b[0m │ \u001b[2mstring\u001b[0m               │ \u001b[2mstring\u001b[0m        │ \u001b[2mstring\u001b[0m │ \u001b[2mstring\u001b[0m     │ \u001b[2mstring\u001b[0m   │ \u001b[2mstring\u001b[0m    │ \u001b[2mstring\u001b[0m    │ \u001b[2mstring\u001b[0m            │ \u001b[2mstring\u001b[0m            │ \u001b[2mstring\u001b[0m      │ \u001b[2mstring\u001b[0m      │ \u001b[2mstring\u001b[0m │ \u001b[2mstring\u001b[0m                                                     │ \u001b[2mstring\u001b[0m       │ \u001b[2mstring\u001b[0m       │ \u001b[2mint64\u001b[0m                  │ \u001b[2mint64\u001b[0m                  │ \u001b[2mstring\u001b[0m            │\n",
       "├──────────────────────────────┼────────────────────────────────────────────────┼────────────┼────────┼──────────────────────┼───────────────┼────────┼────────────┼──────────┼───────────┼───────────┼───────────────────┼───────────────────┼─────────────┼─────────────┼────────┼────────────────────────────────────────────────────────────┼──────────────┼──────────────┼────────────────────────┼────────────────────────┼───────────────────┤\n",
       "│ \u001b]8;id=835860;https://lichess.org/porxpn0v\u001b\\\u001b[32mhttps://lichess.org/porxpn0v\u001b[0m\u001b]8;;\u001b\\ │ \u001b[32mRapid swiss https://lichess.org/swiss/57bESY3I\u001b[0m │ \u001b[32m2024.07.04\u001b[0m │ \u001b[32m-     \u001b[0m │ \u001b[32mmost_dragon         \u001b[0m │ \u001b[32mJainil14     \u001b[0m │ \u001b[32m1-0   \u001b[0m │ \u001b[32m2024.07.04\u001b[0m │ \u001b[32m11:02:19\u001b[0m │ \u001b[32m1500     \u001b[0m │ \u001b[32m1450     \u001b[0m │ \u001b[32m+209             \u001b[0m │ \u001b[32m-8               \u001b[0m │ \u001b[2mNULL\u001b[0m        │ \u001b[2mNULL\u001b[0m        │ \u001b[32mB27   \u001b[0m │ \u001b[32mSicilian Defense: Hyperaccelerated Dragon                 \u001b[0m │ \u001b[32m600+0       \u001b[0m │ \u001b[32mTime forfeit\u001b[0m │                    \u001b[1;36m600\u001b[0m │                      \u001b[1;36m0\u001b[0m │ \u001b[32mBLITZ            \u001b[0m │\n",
       "│ \u001b]8;id=620163;https://lichess.org/kfbl9PkB\u001b\\\u001b[32mhttps://lichess.org/kfbl9PkB\u001b[0m\u001b]8;;\u001b\\ │ \u001b[32mRapid swiss https://lichess.org/swiss/57bESY3I\u001b[0m │ \u001b[32m2024.07.04\u001b[0m │ \u001b[32m-     \u001b[0m │ \u001b[32mpirula              \u001b[0m │ \u001b[32mNibbana      \u001b[0m │ \u001b[32m1-0   \u001b[0m │ \u001b[32m2024.07.04\u001b[0m │ \u001b[32m11:02:19\u001b[0m │ \u001b[32m1953     \u001b[0m │ \u001b[32m1915     \u001b[0m │ \u001b[32m+5               \u001b[0m │ \u001b[32m-11              \u001b[0m │ \u001b[2mNULL\u001b[0m        │ \u001b[2mNULL\u001b[0m        │ \u001b[32mB94   \u001b[0m │ \u001b[32mSicilian Defense: Najdorf Variation                       \u001b[0m │ \u001b[32m600+0       \u001b[0m │ \u001b[32mNormal      \u001b[0m │                    \u001b[1;36m600\u001b[0m │                      \u001b[1;36m0\u001b[0m │ \u001b[32mBLITZ            \u001b[0m │\n",
       "│ \u001b]8;id=524781;https://lichess.org/9UqUm5B0\u001b\\\u001b[32mhttps://lichess.org/9UqUm5B0\u001b[0m\u001b]8;;\u001b\\ │ \u001b[32mRated Rapid game                              \u001b[0m │ \u001b[32m2024.07.04\u001b[0m │ \u001b[32m-     \u001b[0m │ \u001b[32mmynewaccountonliches\u001b[0m │ \u001b[32mmartinpfnavia\u001b[0m │ \u001b[32m1-0   \u001b[0m │ \u001b[32m2024.07.04\u001b[0m │ \u001b[32m11:02:20\u001b[0m │ \u001b[32m1516     \u001b[0m │ \u001b[32m1591     \u001b[0m │ \u001b[32m+17              \u001b[0m │ \u001b[32m-31              \u001b[0m │ \u001b[2mNULL\u001b[0m        │ \u001b[2mNULL\u001b[0m        │ \u001b[32mB01   \u001b[0m │ \u001b[32mScandinavian Defense: Mieses-Kotroc Variation             \u001b[0m │ \u001b[32m600+5       \u001b[0m │ \u001b[32mNormal      \u001b[0m │                    \u001b[1;36m600\u001b[0m │                      \u001b[1;36m5\u001b[0m │ \u001b[32mRAPID            \u001b[0m │\n",
       "│ \u001b]8;id=780887;https://lichess.org/dO9dn9Mq\u001b\\\u001b[32mhttps://lichess.org/dO9dn9Mq\u001b[0m\u001b]8;;\u001b\\ │ \u001b[32mRated Bullet game                             \u001b[0m │ \u001b[32m2024.07.04\u001b[0m │ \u001b[32m-     \u001b[0m │ \u001b[32mjeromsky            \u001b[0m │ \u001b[32mpaulbertz    \u001b[0m │ \u001b[32m0-1   \u001b[0m │ \u001b[32m2024.07.04\u001b[0m │ \u001b[32m11:02:23\u001b[0m │ \u001b[32m1823     \u001b[0m │ \u001b[32m1811     \u001b[0m │ \u001b[32m-5               \u001b[0m │ \u001b[32m+6               \u001b[0m │ \u001b[2mNULL\u001b[0m        │ \u001b[2mNULL\u001b[0m        │ \u001b[32mA06   \u001b[0m │ \u001b[32mZukertort Opening: Tennison Gambit                        \u001b[0m │ \u001b[32m60+0        \u001b[0m │ \u001b[32mTime forfeit\u001b[0m │                     \u001b[1;36m60\u001b[0m │                      \u001b[1;36m0\u001b[0m │ \u001b[32mBULLET           \u001b[0m │\n",
       "│ \u001b]8;id=963762;https://lichess.org/yeP9XCU1\u001b\\\u001b[32mhttps://lichess.org/yeP9XCU1\u001b[0m\u001b]8;;\u001b\\ │ \u001b[32mRated Blitz game                              \u001b[0m │ \u001b[32m2024.07.04\u001b[0m │ \u001b[32m-     \u001b[0m │ \u001b[32mLedMonitor          \u001b[0m │ \u001b[32msahilnag05   \u001b[0m │ \u001b[32m1-0   \u001b[0m │ \u001b[32m2024.07.04\u001b[0m │ \u001b[32m11:02:24\u001b[0m │ \u001b[32m1397     \u001b[0m │ \u001b[32m1454     \u001b[0m │ \u001b[32m+7               \u001b[0m │ \u001b[32m-6               \u001b[0m │ \u001b[2mNULL\u001b[0m        │ \u001b[2mNULL\u001b[0m        │ \u001b[32mA04   \u001b[0m │ \u001b[32mZukertort Opening: Queenside Fianchetto Variation         \u001b[0m │ \u001b[32m180+2       \u001b[0m │ \u001b[32mTime forfeit\u001b[0m │                    \u001b[1;36m180\u001b[0m │                      \u001b[1;36m2\u001b[0m │ \u001b[32mBLITZ            \u001b[0m │\n",
       "│ \u001b]8;id=263851;https://lichess.org/3jfLtMGU\u001b\\\u001b[32mhttps://lichess.org/3jfLtMGU\u001b[0m\u001b]8;;\u001b\\ │ \u001b[32mRated Rapid game                              \u001b[0m │ \u001b[32m2024.07.04\u001b[0m │ \u001b[32m-     \u001b[0m │ \u001b[32mDimbi               \u001b[0m │ \u001b[32mMZapater     \u001b[0m │ \u001b[32m0-1   \u001b[0m │ \u001b[32m2024.07.04\u001b[0m │ \u001b[32m11:02:20\u001b[0m │ \u001b[32m1217     \u001b[0m │ \u001b[32m1200     \u001b[0m │ \u001b[32m-8               \u001b[0m │ \u001b[32m+6               \u001b[0m │ \u001b[2mNULL\u001b[0m        │ \u001b[2mNULL\u001b[0m        │ \u001b[32mC62   \u001b[0m │ \u001b[32mRuy Lopez: Steinitz Defense                               \u001b[0m │ \u001b[32m600+5       \u001b[0m │ \u001b[32mNormal      \u001b[0m │                    \u001b[1;36m600\u001b[0m │                      \u001b[1;36m5\u001b[0m │ \u001b[32mRAPID            \u001b[0m │\n",
       "│ \u001b]8;id=520405;https://lichess.org/kz9q8xKS\u001b\\\u001b[32mhttps://lichess.org/kz9q8xKS\u001b[0m\u001b]8;;\u001b\\ │ \u001b[32mRated Rapid game                              \u001b[0m │ \u001b[32m2024.07.04\u001b[0m │ \u001b[32m-     \u001b[0m │ \u001b[32mkazemi2020          \u001b[0m │ \u001b[32mJavin143     \u001b[0m │ \u001b[32m1-0   \u001b[0m │ \u001b[32m2024.07.04\u001b[0m │ \u001b[32m11:02:20\u001b[0m │ \u001b[32m1936     \u001b[0m │ \u001b[32m1948     \u001b[0m │ \u001b[32m+6               \u001b[0m │ \u001b[32m-6               \u001b[0m │ \u001b[2mNULL\u001b[0m        │ \u001b[2mNULL\u001b[0m        │ \u001b[32mE30   \u001b[0m │ \u001b[32mNimzo-Indian Defense: Leningrad Variation                 \u001b[0m │ \u001b[32m600+5       \u001b[0m │ \u001b[32mNormal      \u001b[0m │                    \u001b[1;36m600\u001b[0m │                      \u001b[1;36m5\u001b[0m │ \u001b[32mRAPID            \u001b[0m │\n",
       "│ \u001b]8;id=342687;https://lichess.org/90omwcDK\u001b\\\u001b[32mhttps://lichess.org/90omwcDK\u001b[0m\u001b]8;;\u001b\\ │ \u001b[32mRated Rapid game                              \u001b[0m │ \u001b[32m2024.07.04\u001b[0m │ \u001b[32m-     \u001b[0m │ \u001b[32mBerezinaEkaterina   \u001b[0m │ \u001b[32malexkochev   \u001b[0m │ \u001b[32m1-0   \u001b[0m │ \u001b[32m2024.07.04\u001b[0m │ \u001b[32m11:02:20\u001b[0m │ \u001b[32m1700     \u001b[0m │ \u001b[32m1642     \u001b[0m │ \u001b[32m+5               \u001b[0m │ \u001b[32m-5               \u001b[0m │ \u001b[2mNULL\u001b[0m        │ \u001b[2mNULL\u001b[0m        │ \u001b[32mC62   \u001b[0m │ \u001b[32mRuy Lopez: Steinitz Defense                               \u001b[0m │ \u001b[32m600+5       \u001b[0m │ \u001b[32mNormal      \u001b[0m │                    \u001b[1;36m600\u001b[0m │                      \u001b[1;36m5\u001b[0m │ \u001b[32mRAPID            \u001b[0m │\n",
       "│ \u001b]8;id=536998;https://lichess.org/uLtVf0nR\u001b\\\u001b[32mhttps://lichess.org/uLtVf0nR\u001b[0m\u001b]8;;\u001b\\ │ \u001b[32mRated Blitz game                              \u001b[0m │ \u001b[32m2024.07.04\u001b[0m │ \u001b[32m-     \u001b[0m │ \u001b[32mPashaEbashu         \u001b[0m │ \u001b[32mveysey       \u001b[0m │ \u001b[32m0-1   \u001b[0m │ \u001b[32m2024.07.04\u001b[0m │ \u001b[32m11:02:20\u001b[0m │ \u001b[32m1540     \u001b[0m │ \u001b[32m1556     \u001b[0m │ \u001b[32m-6               \u001b[0m │ \u001b[32m+6               \u001b[0m │ \u001b[2mNULL\u001b[0m        │ \u001b[2mNULL\u001b[0m        │ \u001b[32mD20   \u001b[0m │ \u001b[32mQueen's Gambit Accepted: Central Variation, Modern Defense\u001b[0m │ \u001b[32m180+2       \u001b[0m │ \u001b[32mNormal      \u001b[0m │                    \u001b[1;36m180\u001b[0m │                      \u001b[1;36m2\u001b[0m │ \u001b[32mBLITZ            \u001b[0m │\n",
       "│ \u001b]8;id=828115;https://lichess.org/iQxJsgbl\u001b\\\u001b[32mhttps://lichess.org/iQxJsgbl\u001b[0m\u001b]8;;\u001b\\ │ \u001b[32mRated Blitz game                              \u001b[0m │ \u001b[32m2024.07.04\u001b[0m │ \u001b[32m-     \u001b[0m │ \u001b[32mJakkaben2           \u001b[0m │ \u001b[32mlovetoplayy  \u001b[0m │ \u001b[32m1-0   \u001b[0m │ \u001b[32m2024.07.04\u001b[0m │ \u001b[32m11:02:20\u001b[0m │ \u001b[32m1469     \u001b[0m │ \u001b[32m1443     \u001b[0m │ \u001b[32m+5               \u001b[0m │ \u001b[32m-5               \u001b[0m │ \u001b[2mNULL\u001b[0m        │ \u001b[2mNULL\u001b[0m        │ \u001b[32mD02   \u001b[0m │ \u001b[32mQueen's Pawn Game: Zukertort Variation                    \u001b[0m │ \u001b[32m180+0       \u001b[0m │ \u001b[32mNormal      \u001b[0m │                    \u001b[1;36m180\u001b[0m │                      \u001b[1;36m0\u001b[0m │ \u001b[32mBLITZ            \u001b[0m │\n",
       "│ \u001b[2m…\u001b[0m                            │ \u001b[2m…\u001b[0m                                              │ \u001b[2m…\u001b[0m          │ \u001b[2m…\u001b[0m      │ \u001b[2m…\u001b[0m                    │ \u001b[2m…\u001b[0m             │ \u001b[2m…\u001b[0m      │ \u001b[2m…\u001b[0m          │ \u001b[2m…\u001b[0m        │ \u001b[2m…\u001b[0m         │ \u001b[2m…\u001b[0m         │ \u001b[2m…\u001b[0m                 │ \u001b[2m…\u001b[0m                 │ \u001b[2m…\u001b[0m           │ \u001b[2m…\u001b[0m           │ \u001b[2m…\u001b[0m      │ \u001b[2m…\u001b[0m                                                          │ \u001b[2m…\u001b[0m            │ \u001b[2m…\u001b[0m            │                      \u001b[2m…\u001b[0m │                      \u001b[2m…\u001b[0m │ \u001b[2m…\u001b[0m                 │\n",
       "└──────────────────────────────┴────────────────────────────────────────────────┴────────────┴────────┴──────────────────────┴───────────────┴────────┴────────────┴──────────┴───────────┴───────────┴───────────────────┴───────────────────┴─────────────┴─────────────┴────────┴────────────────────────────────────────────────────────────┴──────────────┴──────────────┴────────────────────────┴────────────────────────┴───────────────────┘"
      ]
     },
     "execution_count": 16,
     "metadata": {},
     "output_type": "execute_result"
    }
   ],
   "source": [
    "%%time\n",
    "games = filtered_moves[_.move_ply == 1].drop([\"move_ply\", \"move_comment\"]).cache()\n",
    "games"
   ]
  },
  {
   "cell_type": "code",
   "execution_count": 17,
   "id": "3defc76f-3004-4881-ab3d-fa39bb7f4692",
   "metadata": {},
   "outputs": [
    {
     "name": "stdout",
     "output_type": "stream",
     "text": [
      "CPU times: user 2.26 s, sys: 1.01 s, total: 3.27 s\n",
      "Wall time: 319 ms\n"
     ]
    }
   ],
   "source": [
    "%%time\n",
    "assert games.site.nunique().to_pyarrow().as_py() == games.count().to_pyarrow().as_py()"
   ]
  },
  {
   "cell_type": "markdown",
   "id": "af4d6f42-779f-4f77-b1d3-5ea734ee5439",
   "metadata": {},
   "source": [
    "## `event`-based features"
   ]
  },
  {
   "cell_type": "code",
   "execution_count": 18,
   "id": "cca80cf4-24dd-4486-9e44-95f1b67214bf",
   "metadata": {},
   "outputs": [
    {
     "name": "stdout",
     "output_type": "stream",
     "text": [
      "CPU times: user 4.4 ms, sys: 0 ns, total: 4.4 ms\n",
      "Wall time: 4.68 ms\n"
     ]
    },
    {
     "data": {
      "text/html": [
       "<pre style=\"white-space:pre;overflow-x:auto;line-height:normal;font-family:Menlo,'DejaVu Sans Mono',consolas,'Courier New',monospace\">┏━━━━━━━━━━━━━━━━━━━━━━━┳━━━━━━━━━━━━━━━━━━━━━━━━━━━━━┓\n",
       "┃<span style=\"font-weight: bold\"> StringSlice(event, 6) </span>┃<span style=\"font-weight: bold\"> StringSlice(event, 6)_count </span>┃\n",
       "┡━━━━━━━━━━━━━━━━━━━━━━━╇━━━━━━━━━━━━━━━━━━━━━━━━━━━━━┩\n",
       "│ <span style=\"color: #7f7f7f; text-decoration-color: #7f7f7f\">string</span>                │ <span style=\"color: #7f7f7f; text-decoration-color: #7f7f7f\">int64</span>                       │\n",
       "├───────────────────────┼─────────────────────────────┤\n",
       "│ <span style=\"color: #008000; text-decoration-color: #008000\">Bullet               </span> │                        <span style=\"color: #008080; text-decoration-color: #008080; font-weight: bold\">4239</span> │\n",
       "│ <span style=\"color: #008000; text-decoration-color: #008000\">UltraB               </span> │                          <span style=\"color: #008080; text-decoration-color: #008080; font-weight: bold\">23</span> │\n",
       "│ <span style=\"color: #008000; text-decoration-color: #008000\">Rapid                </span> │                       <span style=\"color: #008080; text-decoration-color: #008080; font-weight: bold\">40607</span> │\n",
       "│ <span style=\"color: #008000; text-decoration-color: #008000\">Classi               </span> │                        <span style=\"color: #008080; text-decoration-color: #008080; font-weight: bold\">6547</span> │\n",
       "│ <span style=\"color: #008000; text-decoration-color: #008000\">Rated                </span> │                     <span style=\"color: #008080; text-decoration-color: #008080; font-weight: bold\">8029176</span> │\n",
       "│ <span style=\"color: #008000; text-decoration-color: #008000\">Blitz                </span> │                       <span style=\"color: #008080; text-decoration-color: #008080; font-weight: bold\">42812</span> │\n",
       "└───────────────────────┴─────────────────────────────┘\n",
       "</pre>\n"
      ],
      "text/plain": [
       "┏━━━━━━━━━━━━━━━━━━━━━━━┳━━━━━━━━━━━━━━━━━━━━━━━━━━━━━┓\n",
       "┃\u001b[1m \u001b[0m\u001b[1mStringSlice(event, 6)\u001b[0m\u001b[1m \u001b[0m┃\u001b[1m \u001b[0m\u001b[1mStringSlice(event, 6)_count\u001b[0m\u001b[1m \u001b[0m┃\n",
       "┡━━━━━━━━━━━━━━━━━━━━━━━╇━━━━━━━━━━━━━━━━━━━━━━━━━━━━━┩\n",
       "│ \u001b[2mstring\u001b[0m                │ \u001b[2mint64\u001b[0m                       │\n",
       "├───────────────────────┼─────────────────────────────┤\n",
       "│ \u001b[32mBullet               \u001b[0m │                        \u001b[1;36m4239\u001b[0m │\n",
       "│ \u001b[32mUltraB               \u001b[0m │                          \u001b[1;36m23\u001b[0m │\n",
       "│ \u001b[32mRapid                \u001b[0m │                       \u001b[1;36m40607\u001b[0m │\n",
       "│ \u001b[32mClassi               \u001b[0m │                        \u001b[1;36m6547\u001b[0m │\n",
       "│ \u001b[32mRated                \u001b[0m │                     \u001b[1;36m8029176\u001b[0m │\n",
       "│ \u001b[32mBlitz                \u001b[0m │                       \u001b[1;36m42812\u001b[0m │\n",
       "└───────────────────────┴─────────────────────────────┘"
      ]
     },
     "execution_count": 18,
     "metadata": {},
     "output_type": "execute_result"
    }
   ],
   "source": [
    "%%time\n",
    "games.event[:6].value_counts()"
   ]
  },
  {
   "cell_type": "code",
   "execution_count": 19,
   "id": "d5c0124d-96a6-426c-8ee3-c9682c892a4f",
   "metadata": {},
   "outputs": [
    {
     "name": "stdout",
     "output_type": "stream",
     "text": [
      "CPU times: user 926 ms, sys: 35.7 ms, total: 962 ms\n",
      "Wall time: 43.1 ms\n"
     ]
    },
    {
     "data": {
      "text/html": [
       "<pre style=\"white-space:pre;overflow-x:auto;line-height:normal;font-family:Menlo,'DejaVu Sans Mono',consolas,'Courier New',monospace\">┏━━━━━━━━━━━━━━━━━━━━━━━━━━━━━┳━━━━━━━━━━━━━━━━━━━━━━━━━━━━━━━━━━━┓\n",
       "┃<span style=\"font-weight: bold\"> StartsWith(event, 'Rated ') </span>┃<span style=\"font-weight: bold\"> StartsWith(event, 'Rated ')_count </span>┃\n",
       "┡━━━━━━━━━━━━━━━━━━━━━━━━━━━━━╇━━━━━━━━━━━━━━━━━━━━━━━━━━━━━━━━━━━┩\n",
       "│ <span style=\"color: #7f7f7f; text-decoration-color: #7f7f7f\">boolean</span>                     │ <span style=\"color: #7f7f7f; text-decoration-color: #7f7f7f\">int64</span>                             │\n",
       "├─────────────────────────────┼───────────────────────────────────┤\n",
       "│ False                       │                             <span style=\"color: #008080; text-decoration-color: #008080; font-weight: bold\">94228</span> │\n",
       "│ True                        │                           <span style=\"color: #008080; text-decoration-color: #008080; font-weight: bold\">8029176</span> │\n",
       "└─────────────────────────────┴───────────────────────────────────┘\n",
       "</pre>\n"
      ],
      "text/plain": [
       "┏━━━━━━━━━━━━━━━━━━━━━━━━━━━━━┳━━━━━━━━━━━━━━━━━━━━━━━━━━━━━━━━━━━┓\n",
       "┃\u001b[1m \u001b[0m\u001b[1mStartsWith(event, 'Rated ')\u001b[0m\u001b[1m \u001b[0m┃\u001b[1m \u001b[0m\u001b[1mStartsWith(event, 'Rated ')_count\u001b[0m\u001b[1m \u001b[0m┃\n",
       "┡━━━━━━━━━━━━━━━━━━━━━━━━━━━━━╇━━━━━━━━━━━━━━━━━━━━━━━━━━━━━━━━━━━┩\n",
       "│ \u001b[2mboolean\u001b[0m                     │ \u001b[2mint64\u001b[0m                             │\n",
       "├─────────────────────────────┼───────────────────────────────────┤\n",
       "│ False                       │                             \u001b[1;36m94228\u001b[0m │\n",
       "│ True                        │                           \u001b[1;36m8029176\u001b[0m │\n",
       "└─────────────────────────────┴───────────────────────────────────┘\n"
      ]
     },
     "execution_count": 19,
     "metadata": {},
     "output_type": "execute_result"
    }
   ],
   "source": [
    "%%time\n",
    "is_rated = games.event.startswith(\"Rated \")\n",
    "game_level_features.append(is_rated.name(\"is_rated\"))\n",
    "is_rated.value_counts().preview()"
   ]
  },
  {
   "cell_type": "markdown",
   "id": "a4355a2e-6624-4da6-890c-98872de6ec23",
   "metadata": {},
   "source": [
    "In the future, we may want to drop unrated games in the \"Filter\" section above."
   ]
  },
  {
   "cell_type": "code",
   "execution_count": 20,
   "id": "cb1ed93b-74e1-460f-ab7a-8ced58414754",
   "metadata": {},
   "outputs": [
    {
     "name": "stdout",
     "output_type": "stream",
     "text": [
      "CPU times: user 884 ms, sys: 57.8 ms, total: 942 ms\n",
      "Wall time: 59.4 ms\n"
     ]
    },
    {
     "data": {
      "text/html": [
       "<pre style=\"white-space:pre;overflow-x:auto;line-height:normal;font-family:Menlo,'DejaVu Sans Mono',consolas,'Courier New',monospace\">┏━━━━━━━━━━━━━━━━━━━━━━━━━━━━━━━━━━━━━━━━━━━━━━━━━━━━━━━━━━━━━━━━━┳━━━━━━━━━━━━━┓\n",
       "┃<span style=\"font-weight: bold\"> event                                                           </span>┃<span style=\"font-weight: bold\"> event_count </span>┃\n",
       "┡━━━━━━━━━━━━━━━━━━━━━━━━━━━━━━━━━━━━━━━━━━━━━━━━━━━━━━━━━━━━━━━━━╇━━━━━━━━━━━━━┩\n",
       "│ <span style=\"color: #7f7f7f; text-decoration-color: #7f7f7f\">string</span>                                                          │ <span style=\"color: #7f7f7f; text-decoration-color: #7f7f7f\">int64</span>       │\n",
       "├─────────────────────────────────────────────────────────────────┼─────────────┤\n",
       "│ <span style=\"color: #008000; text-decoration-color: #008000\">Rated Blitz game                                               </span> │     <span style=\"color: #008080; text-decoration-color: #008080; font-weight: bold\">3378959</span> │\n",
       "│ <span style=\"color: #008000; text-decoration-color: #008000\">Rated Rapid game                                               </span> │     <span style=\"color: #008080; text-decoration-color: #008080; font-weight: bold\">2074355</span> │\n",
       "│ <span style=\"color: #008000; text-decoration-color: #008000\">Rated Bullet game                                              </span> │     <span style=\"color: #008080; text-decoration-color: #008080; font-weight: bold\">1495968</span> │\n",
       "│ <span style=\"color: #008000; text-decoration-color: #008000\">Rated Classical game                                           </span> │      <span style=\"color: #008080; text-decoration-color: #008080; font-weight: bold\">170780</span> │\n",
       "│ <span style=\"color: #008000; text-decoration-color: #008000\">Rated UltraBullet game                                         </span> │       <span style=\"color: #008080; text-decoration-color: #008080; font-weight: bold\">21545</span> │\n",
       "│ <span style=\"color: #008000; text-decoration-color: #008000\">Rated Bullet tournament https://lichess.org/tournament/sgTdC7Jw</span> │        <span style=\"color: #008080; text-decoration-color: #008080; font-weight: bold\">4943</span> │\n",
       "│ <span style=\"color: #008000; text-decoration-color: #008000\">Rated Blitz tournament https://lichess.org/tournament/BJ3w8DS2 </span> │        <span style=\"color: #008080; text-decoration-color: #008080; font-weight: bold\">4902</span> │\n",
       "│ <span style=\"color: #008000; text-decoration-color: #008000\">Rated Blitz tournament https://lichess.org/tournament/jul24str </span> │        <span style=\"color: #008080; text-decoration-color: #008080; font-weight: bold\">3703</span> │\n",
       "│ <span style=\"color: #008000; text-decoration-color: #008000\">Rated Bullet tournament https://lichess.org/tournament/XI3ynOMS</span> │        <span style=\"color: #008080; text-decoration-color: #008080; font-weight: bold\">3006</span> │\n",
       "│ <span style=\"color: #008000; text-decoration-color: #008000\">Rated Blitz tournament https://lichess.org/tournament/JraEMiRI </span> │        <span style=\"color: #008080; text-decoration-color: #008080; font-weight: bold\">2971</span> │\n",
       "│ <span style=\"color: #7f7f7f; text-decoration-color: #7f7f7f\">…</span>                                                               │           <span style=\"color: #7f7f7f; text-decoration-color: #7f7f7f\">…</span> │\n",
       "└─────────────────────────────────────────────────────────────────┴─────────────┘\n",
       "</pre>\n"
      ],
      "text/plain": [
       "┏━━━━━━━━━━━━━━━━━━━━━━━━━━━━━━━━━━━━━━━━━━━━━━━━━━━━━━━━━━━━━━━━━┳━━━━━━━━━━━━━┓\n",
       "┃\u001b[1m \u001b[0m\u001b[1mevent\u001b[0m\u001b[1m                                                          \u001b[0m\u001b[1m \u001b[0m┃\u001b[1m \u001b[0m\u001b[1mevent_count\u001b[0m\u001b[1m \u001b[0m┃\n",
       "┡━━━━━━━━━━━━━━━━━━━━━━━━━━━━━━━━━━━━━━━━━━━━━━━━━━━━━━━━━━━━━━━━━╇━━━━━━━━━━━━━┩\n",
       "│ \u001b[2mstring\u001b[0m                                                          │ \u001b[2mint64\u001b[0m       │\n",
       "├─────────────────────────────────────────────────────────────────┼─────────────┤\n",
       "│ \u001b[32mRated Blitz game                                               \u001b[0m │     \u001b[1;36m3378959\u001b[0m │\n",
       "│ \u001b[32mRated Rapid game                                               \u001b[0m │     \u001b[1;36m2074355\u001b[0m │\n",
       "│ \u001b[32mRated Bullet game                                              \u001b[0m │     \u001b[1;36m1495968\u001b[0m │\n",
       "│ \u001b[32mRated Classical game                                           \u001b[0m │      \u001b[1;36m170780\u001b[0m │\n",
       "│ \u001b[32mRated UltraBullet game                                         \u001b[0m │       \u001b[1;36m21545\u001b[0m │\n",
       "│ \u001b[32mRated Bullet tournament https://lichess.org/tournament/sgTdC7Jw\u001b[0m │        \u001b[1;36m4943\u001b[0m │\n",
       "│ \u001b[32mRated Blitz tournament https://lichess.org/tournament/BJ3w8DS2 \u001b[0m │        \u001b[1;36m4902\u001b[0m │\n",
       "│ \u001b[32mRated Blitz tournament https://lichess.org/tournament/jul24str \u001b[0m │        \u001b[1;36m3703\u001b[0m │\n",
       "│ \u001b[32mRated Bullet tournament https://lichess.org/tournament/XI3ynOMS\u001b[0m │        \u001b[1;36m3006\u001b[0m │\n",
       "│ \u001b[32mRated Blitz tournament https://lichess.org/tournament/JraEMiRI \u001b[0m │        \u001b[1;36m2971\u001b[0m │\n",
       "│ \u001b[2m…\u001b[0m                                                               │           \u001b[2m…\u001b[0m │\n",
       "└─────────────────────────────────────────────────────────────────┴─────────────┘\n"
      ]
     },
     "execution_count": 20,
     "metadata": {},
     "output_type": "execute_result"
    }
   ],
   "source": [
    "%%time\n",
    "games.event.value_counts().order_by(ibis.desc(\"event_count\")).preview()"
   ]
  },
  {
   "cell_type": "code",
   "execution_count": 21,
   "id": "e7681fa2-5f26-4ba1-9f04-54b5fc9c8018",
   "metadata": {},
   "outputs": [
    {
     "name": "stdout",
     "output_type": "stream",
     "text": [
      "CPU times: user 1.1 s, sys: 24.9 ms, total: 1.13 s\n",
      "Wall time: 37.8 ms\n"
     ]
    },
    {
     "data": {
      "text/html": [
       "<pre style=\"white-space:pre;overflow-x:auto;line-height:normal;font-family:Menlo,'DejaVu Sans Mono',consolas,'Courier New',monospace\">┏━━━━━━━━━━━━━━━━━━━━━━━━━━━━━━━━━━━━━┳━━━━━━━━━━━━━━━━━━━━━━━━━━━━━━━━━━━━━━━━━━━┓\n",
       "┃<span style=\"font-weight: bold\"> StringContains(event, 'tournament') </span>┃<span style=\"font-weight: bold\"> StringContains(event, 'tournament')_count </span>┃\n",
       "┡━━━━━━━━━━━━━━━━━━━━━━━━━━━━━━━━━━━━━╇━━━━━━━━━━━━━━━━━━━━━━━━━━━━━━━━━━━━━━━━━━━┩\n",
       "│ <span style=\"color: #7f7f7f; text-decoration-color: #7f7f7f\">boolean</span>                             │ <span style=\"color: #7f7f7f; text-decoration-color: #7f7f7f\">int64</span>                                     │\n",
       "├─────────────────────────────────────┼───────────────────────────────────────────┤\n",
       "│ False                               │                                   <span style=\"color: #008080; text-decoration-color: #008080; font-weight: bold\">7235835</span> │\n",
       "│ True                                │                                    <span style=\"color: #008080; text-decoration-color: #008080; font-weight: bold\">887569</span> │\n",
       "└─────────────────────────────────────┴───────────────────────────────────────────┘\n",
       "</pre>\n"
      ],
      "text/plain": [
       "┏━━━━━━━━━━━━━━━━━━━━━━━━━━━━━━━━━━━━━┳━━━━━━━━━━━━━━━━━━━━━━━━━━━━━━━━━━━━━━━━━━━┓\n",
       "┃\u001b[1m \u001b[0m\u001b[1mStringContains(event, 'tournament')\u001b[0m\u001b[1m \u001b[0m┃\u001b[1m \u001b[0m\u001b[1mStringContains(event, 'tournament')_count\u001b[0m\u001b[1m \u001b[0m┃\n",
       "┡━━━━━━━━━━━━━━━━━━━━━━━━━━━━━━━━━━━━━╇━━━━━━━━━━━━━━━━━━━━━━━━━━━━━━━━━━━━━━━━━━━┩\n",
       "│ \u001b[2mboolean\u001b[0m                             │ \u001b[2mint64\u001b[0m                                     │\n",
       "├─────────────────────────────────────┼───────────────────────────────────────────┤\n",
       "│ False                               │                                   \u001b[1;36m7235835\u001b[0m │\n",
       "│ True                                │                                    \u001b[1;36m887569\u001b[0m │\n",
       "└─────────────────────────────────────┴───────────────────────────────────────────┘\n"
      ]
     },
     "execution_count": 21,
     "metadata": {},
     "output_type": "execute_result"
    }
   ],
   "source": [
    "%%time\n",
    "is_tournament = games.event.contains(\"tournament\")\n",
    "game_level_features.append(is_tournament.name(\"is_tournament\"))\n",
    "is_tournament.value_counts().preview()"
   ]
  },
  {
   "cell_type": "code",
   "execution_count": 22,
   "id": "08f09665-c39b-435e-9ead-44447a5e8d98",
   "metadata": {
    "scrolled": true
   },
   "outputs": [
    {
     "name": "stdout",
     "output_type": "stream",
     "text": [
      "CPU times: user 5.13 s, sys: 67.6 ms, total: 5.2 s\n",
      "Wall time: 141 ms\n"
     ]
    },
    {
     "data": {
      "text/html": [
       "<pre style=\"white-space:pre;overflow-x:auto;line-height:normal;font-family:Menlo,'DejaVu Sans Mono',consolas,'Courier New',monospace\">┏━━━━━━━━━━━━━━━━━━━━━━━━━━━━━━━━━━━━━━━━━━━━━━━━━━━━━━━━┳━━━━━━━━━━━━━━━━━━━━━━━━━━━━━━━━━━━━━━━━━━━━━━━━━━━━━━━━┓\n",
       "┃<span style=\"font-weight: bold\"> Substring(IfElse(StartsWith(event, 'Rated '), StringS… </span>┃<span style=\"font-weight: bold\"> Substring(IfElse(StartsWith(event, 'Rated '), StringS… </span>┃\n",
       "┡━━━━━━━━━━━━━━━━━━━━━━━━━━━━━━━━━━━━━━━━━━━━━━━━━━━━━━━━╇━━━━━━━━━━━━━━━━━━━━━━━━━━━━━━━━━━━━━━━━━━━━━━━━━━━━━━━━┩\n",
       "│ <span style=\"color: #7f7f7f; text-decoration-color: #7f7f7f\">string</span>                                                 │ <span style=\"color: #7f7f7f; text-decoration-color: #7f7f7f\">int64</span>                                                  │\n",
       "├────────────────────────────────────────────────────────┼────────────────────────────────────────────────────────┤\n",
       "│ <span style=\"color: #008000; text-decoration-color: #008000\">Blitz                                                 </span> │                                                <span style=\"color: #008080; text-decoration-color: #008080; font-weight: bold\">3887913</span> │\n",
       "│ <span style=\"color: #008000; text-decoration-color: #008000\">UltraBullet                                           </span> │                                                  <span style=\"color: #008080; text-decoration-color: #008080; font-weight: bold\">52781</span> │\n",
       "│ <span style=\"color: #008000; text-decoration-color: #008000\">Rapid                                                 </span> │                                                <span style=\"color: #008080; text-decoration-color: #008080; font-weight: bold\">2266641</span> │\n",
       "│ <span style=\"color: #008000; text-decoration-color: #008000\">Classical                                             </span> │                                                 <span style=\"color: #008080; text-decoration-color: #008080; font-weight: bold\">183394</span> │\n",
       "│ <span style=\"color: #008000; text-decoration-color: #008000\">Bullet                                                </span> │                                                <span style=\"color: #008080; text-decoration-color: #008080; font-weight: bold\">1732675</span> │\n",
       "└────────────────────────────────────────────────────────┴────────────────────────────────────────────────────────┘\n",
       "</pre>\n"
      ],
      "text/plain": [
       "┏━━━━━━━━━━━━━━━━━━━━━━━━━━━━━━━━━━━━━━━━━━━━━━━━━━━━━━━━┳━━━━━━━━━━━━━━━━━━━━━━━━━━━━━━━━━━━━━━━━━━━━━━━━━━━━━━━━┓\n",
       "┃\u001b[1m \u001b[0m\u001b[1mSubstring(IfElse(StartsWith(event, 'Rated '), StringS…\u001b[0m\u001b[1m \u001b[0m┃\u001b[1m \u001b[0m\u001b[1mSubstring(IfElse(StartsWith(event, 'Rated '), StringS…\u001b[0m\u001b[1m \u001b[0m┃\n",
       "┡━━━━━━━━━━━━━━━━━━━━━━━━━━━━━━━━━━━━━━━━━━━━━━━━━━━━━━━━╇━━━━━━━━━━━━━━━━━━━━━━━━━━━━━━━━━━━━━━━━━━━━━━━━━━━━━━━━┩\n",
       "│ \u001b[2mstring\u001b[0m                                                 │ \u001b[2mint64\u001b[0m                                                  │\n",
       "├────────────────────────────────────────────────────────┼────────────────────────────────────────────────────────┤\n",
       "│ \u001b[32mBlitz                                                 \u001b[0m │                                                \u001b[1;36m3887913\u001b[0m │\n",
       "│ \u001b[32mUltraBullet                                           \u001b[0m │                                                  \u001b[1;36m52781\u001b[0m │\n",
       "│ \u001b[32mRapid                                                 \u001b[0m │                                                \u001b[1;36m2266641\u001b[0m │\n",
       "│ \u001b[32mClassical                                             \u001b[0m │                                                 \u001b[1;36m183394\u001b[0m │\n",
       "│ \u001b[32mBullet                                                \u001b[0m │                                                \u001b[1;36m1732675\u001b[0m │\n",
       "└────────────────────────────────────────────────────────┴────────────────────────────────────────────────────────┘\n"
      ]
     },
     "execution_count": 22,
     "metadata": {},
     "output_type": "execute_result"
    }
   ],
   "source": [
    "%%time\n",
    "event_with_rated_removed = is_rated.ifelse(games.event[len(\"Rated \") :], games.event)\n",
    "lichess_time_control_type = event_with_rated_removed.substr(0, event_with_rated_removed.find(\" \"))\n",
    "game_level_features.append(lichess_time_control_type.name(\"lichess_time_control_type\"))\n",
    "lichess_time_control_type.value_counts().preview()"
   ]
  },
  {
   "cell_type": "markdown",
   "id": "d97d93f7-0ed3-4445-ac1c-ccc9237bd80e",
   "metadata": {},
   "source": [
    "# User features"
   ]
  },
  {
   "cell_type": "code",
   "execution_count": 23,
   "id": "afe8dc6f-651a-4c84-b2aa-21aba943bb61",
   "metadata": {},
   "outputs": [
    {
     "name": "stdout",
     "output_type": "stream",
     "text": [
      "CPU times: user 49.1 ms, sys: 8.41 ms, total: 57.5 ms\n",
      "Wall time: 10.5 ms\n"
     ]
    },
    {
     "data": {
      "text/html": [
       "<pre style=\"white-space:pre;overflow-x:auto;line-height:normal;font-family:Menlo,'DejaVu Sans Mono',consolas,'Courier New',monospace\">┏━━━━━━━━━━━━━━━━━━━━━━┓\n",
       "┃<span style=\"font-weight: bold\"> Lowercase(white)     </span>┃\n",
       "┡━━━━━━━━━━━━━━━━━━━━━━┩\n",
       "│ <span style=\"color: #7f7f7f; text-decoration-color: #7f7f7f\">string</span>               │\n",
       "├──────────────────────┤\n",
       "│ <span style=\"color: #008000; text-decoration-color: #008000\">most_dragon         </span> │\n",
       "│ <span style=\"color: #008000; text-decoration-color: #008000\">pirula              </span> │\n",
       "│ <span style=\"color: #008000; text-decoration-color: #008000\">mynewaccountonliches</span> │\n",
       "│ <span style=\"color: #008000; text-decoration-color: #008000\">jeromsky            </span> │\n",
       "│ <span style=\"color: #008000; text-decoration-color: #008000\">ledmonitor          </span> │\n",
       "│ <span style=\"color: #008000; text-decoration-color: #008000\">dimbi               </span> │\n",
       "│ <span style=\"color: #008000; text-decoration-color: #008000\">kazemi2020          </span> │\n",
       "│ <span style=\"color: #008000; text-decoration-color: #008000\">berezinaekaterina   </span> │\n",
       "│ <span style=\"color: #008000; text-decoration-color: #008000\">pashaebashu         </span> │\n",
       "│ <span style=\"color: #008000; text-decoration-color: #008000\">jakkaben2           </span> │\n",
       "│ <span style=\"color: #7f7f7f; text-decoration-color: #7f7f7f\">…</span>                    │\n",
       "└──────────────────────┘\n",
       "</pre>\n"
      ],
      "text/plain": [
       "┏━━━━━━━━━━━━━━━━━━━━━━┓\n",
       "┃\u001b[1m \u001b[0m\u001b[1mLowercase(white)\u001b[0m\u001b[1m    \u001b[0m\u001b[1m \u001b[0m┃\n",
       "┡━━━━━━━━━━━━━━━━━━━━━━┩\n",
       "│ \u001b[2mstring\u001b[0m               │\n",
       "├──────────────────────┤\n",
       "│ \u001b[32mmost_dragon         \u001b[0m │\n",
       "│ \u001b[32mpirula              \u001b[0m │\n",
       "│ \u001b[32mmynewaccountonliches\u001b[0m │\n",
       "│ \u001b[32mjeromsky            \u001b[0m │\n",
       "│ \u001b[32mledmonitor          \u001b[0m │\n",
       "│ \u001b[32mdimbi               \u001b[0m │\n",
       "│ \u001b[32mkazemi2020          \u001b[0m │\n",
       "│ \u001b[32mberezinaekaterina   \u001b[0m │\n",
       "│ \u001b[32mpashaebashu         \u001b[0m │\n",
       "│ \u001b[32mjakkaben2           \u001b[0m │\n",
       "│ \u001b[2m…\u001b[0m                    │\n",
       "└──────────────────────┘\n"
      ]
     },
     "execution_count": 23,
     "metadata": {},
     "output_type": "execute_result"
    }
   ],
   "source": [
    "%%time\n",
    "white_user_id = games.white.lower()\n",
    "game_level_features.append(white_user_id.name(\"white_user_id\"))\n",
    "white_user_id.preview()"
   ]
  },
  {
   "cell_type": "code",
   "execution_count": 24,
   "id": "9fb211ea-1a65-424f-9930-cd46c0dd7a3c",
   "metadata": {},
   "outputs": [
    {
     "name": "stdout",
     "output_type": "stream",
     "text": [
      "CPU times: user 46.4 ms, sys: 173 μs, total: 46.6 ms\n",
      "Wall time: 11.6 ms\n"
     ]
    },
    {
     "data": {
      "text/html": [
       "<pre style=\"white-space:pre;overflow-x:auto;line-height:normal;font-family:Menlo,'DejaVu Sans Mono',consolas,'Courier New',monospace\">┏━━━━━━━━━━━━━━━━━━┓\n",
       "┃<span style=\"font-weight: bold\"> Lowercase(black) </span>┃\n",
       "┡━━━━━━━━━━━━━━━━━━┩\n",
       "│ <span style=\"color: #7f7f7f; text-decoration-color: #7f7f7f\">string</span>           │\n",
       "├──────────────────┤\n",
       "│ <span style=\"color: #008000; text-decoration-color: #008000\">jainil14        </span> │\n",
       "│ <span style=\"color: #008000; text-decoration-color: #008000\">nibbana         </span> │\n",
       "│ <span style=\"color: #008000; text-decoration-color: #008000\">martinpfnavia   </span> │\n",
       "│ <span style=\"color: #008000; text-decoration-color: #008000\">paulbertz       </span> │\n",
       "│ <span style=\"color: #008000; text-decoration-color: #008000\">sahilnag05      </span> │\n",
       "│ <span style=\"color: #008000; text-decoration-color: #008000\">mzapater        </span> │\n",
       "│ <span style=\"color: #008000; text-decoration-color: #008000\">javin143        </span> │\n",
       "│ <span style=\"color: #008000; text-decoration-color: #008000\">alexkochev      </span> │\n",
       "│ <span style=\"color: #008000; text-decoration-color: #008000\">veysey          </span> │\n",
       "│ <span style=\"color: #008000; text-decoration-color: #008000\">lovetoplayy     </span> │\n",
       "│ <span style=\"color: #7f7f7f; text-decoration-color: #7f7f7f\">…</span>                │\n",
       "└──────────────────┘\n",
       "</pre>\n"
      ],
      "text/plain": [
       "┏━━━━━━━━━━━━━━━━━━┓\n",
       "┃\u001b[1m \u001b[0m\u001b[1mLowercase(black)\u001b[0m\u001b[1m \u001b[0m┃\n",
       "┡━━━━━━━━━━━━━━━━━━┩\n",
       "│ \u001b[2mstring\u001b[0m           │\n",
       "├──────────────────┤\n",
       "│ \u001b[32mjainil14        \u001b[0m │\n",
       "│ \u001b[32mnibbana         \u001b[0m │\n",
       "│ \u001b[32mmartinpfnavia   \u001b[0m │\n",
       "│ \u001b[32mpaulbertz       \u001b[0m │\n",
       "│ \u001b[32msahilnag05      \u001b[0m │\n",
       "│ \u001b[32mmzapater        \u001b[0m │\n",
       "│ \u001b[32mjavin143        \u001b[0m │\n",
       "│ \u001b[32malexkochev      \u001b[0m │\n",
       "│ \u001b[32mveysey          \u001b[0m │\n",
       "│ \u001b[32mlovetoplayy     \u001b[0m │\n",
       "│ \u001b[2m…\u001b[0m                │\n",
       "└──────────────────┘\n"
      ]
     },
     "execution_count": 24,
     "metadata": {},
     "output_type": "execute_result"
    }
   ],
   "source": [
    "%%time\n",
    "black_user_id = games.black.lower()\n",
    "game_level_features.append(black_user_id.name(\"black_user_id\"))\n",
    "black_user_id.preview()"
   ]
  },
  {
   "cell_type": "markdown",
   "id": "9fedf564-c159-472b-b324-6ecdda3ab9dc",
   "metadata": {},
   "source": [
    "## Temporal features"
   ]
  },
  {
   "cell_type": "code",
   "execution_count": 25,
   "id": "505117c2-030c-46f1-8722-a8ddb584f970",
   "metadata": {},
   "outputs": [
    {
     "name": "stdout",
     "output_type": "stream",
     "text": [
      "CPU times: user 658 ms, sys: 2.32 ms, total: 660 ms\n",
      "Wall time: 28 ms\n"
     ]
    }
   ],
   "source": [
    "%%time\n",
    "assert not games.date.isnull().sum().to_pyarrow().as_py()\n",
    "assert not games.utc_date.isnull().sum().to_pyarrow().as_py()"
   ]
  },
  {
   "cell_type": "code",
   "execution_count": 26,
   "id": "abc102c6-eb97-44e3-bf17-07e15c94d6e3",
   "metadata": {},
   "outputs": [
    {
     "name": "stdout",
     "output_type": "stream",
     "text": [
      "CPU times: user 711 ms, sys: 11.9 ms, total: 723 ms\n",
      "Wall time: 27.8 ms\n"
     ]
    },
    {
     "data": {
      "text/html": [
       "<pre style=\"white-space:pre;overflow-x:auto;line-height:normal;font-family:Menlo,'DejaVu Sans Mono',consolas,'Courier New',monospace\">┏━━━━━━━━━━━━━━━━━━━━━━━━┳━━━━━━━━━━━━━━━━━━━━━━━━━━━━━━┓\n",
       "┃<span style=\"font-weight: bold\"> Equals(date, utc_date) </span>┃<span style=\"font-weight: bold\"> Equals(date, utc_date)_count </span>┃\n",
       "┡━━━━━━━━━━━━━━━━━━━━━━━━╇━━━━━━━━━━━━━━━━━━━━━━━━━━━━━━┩\n",
       "│ <span style=\"color: #7f7f7f; text-decoration-color: #7f7f7f\">boolean</span>                │ <span style=\"color: #7f7f7f; text-decoration-color: #7f7f7f\">int64</span>                        │\n",
       "├────────────────────────┼──────────────────────────────┤\n",
       "│ True                   │                      <span style=\"color: #008080; text-decoration-color: #008080; font-weight: bold\">8123404</span> │\n",
       "└────────────────────────┴──────────────────────────────┘\n",
       "</pre>\n"
      ],
      "text/plain": [
       "┏━━━━━━━━━━━━━━━━━━━━━━━━┳━━━━━━━━━━━━━━━━━━━━━━━━━━━━━━┓\n",
       "┃\u001b[1m \u001b[0m\u001b[1mEquals(date, utc_date)\u001b[0m\u001b[1m \u001b[0m┃\u001b[1m \u001b[0m\u001b[1mEquals(date, utc_date)_count\u001b[0m\u001b[1m \u001b[0m┃\n",
       "┡━━━━━━━━━━━━━━━━━━━━━━━━╇━━━━━━━━━━━━━━━━━━━━━━━━━━━━━━┩\n",
       "│ \u001b[2mboolean\u001b[0m                │ \u001b[2mint64\u001b[0m                        │\n",
       "├────────────────────────┼──────────────────────────────┤\n",
       "│ True                   │                      \u001b[1;36m8123404\u001b[0m │\n",
       "└────────────────────────┴──────────────────────────────┘\n"
      ]
     },
     "execution_count": 26,
     "metadata": {},
     "output_type": "execute_result"
    }
   ],
   "source": [
    "%%time\n",
    "(games.date == games.utc_date).value_counts().preview()"
   ]
  },
  {
   "cell_type": "code",
   "execution_count": 27,
   "id": "b8d6a14d-417e-47ce-a67b-9767671625d0",
   "metadata": {},
   "outputs": [],
   "source": [
    "# %%time\n",
    "# utc_date = games.utc_date.to_date(\"%Y.%m.%d\")\n",
    "# game_level_features.append(utc_date.name(\"utc_date\"))\n",
    "# utc_date.value_counts().preview()"
   ]
  },
  {
   "cell_type": "code",
   "execution_count": 28,
   "id": "6db7f4b1-4eca-4f8e-843e-b566471a9a65",
   "metadata": {},
   "outputs": [],
   "source": [
    "# %%time\n",
    "# utc_time = games.utc_time.cast(\"time\")\n",
    "# game_level_features.append(utc_time.name(\"utc_time\"))\n",
    "# utc_time.value_counts().preview()"
   ]
  },
  {
   "cell_type": "code",
   "execution_count": 29,
   "id": "b77e3299-a56b-44af-9d3d-c26988390b8d",
   "metadata": {},
   "outputs": [
    {
     "name": "stdout",
     "output_type": "stream",
     "text": [
      "CPU times: user 29.9 ms, sys: 54.4 ms, total: 84.3 ms\n",
      "Wall time: 16.3 ms\n"
     ]
    },
    {
     "data": {
      "text/html": [
       "<pre style=\"white-space:pre;overflow-x:auto;line-height:normal;font-family:Menlo,'DejaVu Sans Mono',consolas,'Courier New',monospace\">┏━━━━━━━━━━━━━━━━━━━━━━━━━━━━━━━━━━━━━━━━━━━━━━━━━━━━━━━━━━━━━━━━━━━━━━━━━━━━━━━━━━━━━━━━━━━━━━━━━┓\n",
       "┃<span style=\"font-weight: bold\"> StringToTimestamp(StringConcat((StringConcat((utc_date, ' ')), utc_time)), '%Y.%m.%d %H:%M:%S') </span>┃\n",
       "┡━━━━━━━━━━━━━━━━━━━━━━━━━━━━━━━━━━━━━━━━━━━━━━━━━━━━━━━━━━━━━━━━━━━━━━━━━━━━━━━━━━━━━━━━━━━━━━━━━┩\n",
       "│ <span style=\"color: #7f7f7f; text-decoration-color: #7f7f7f\">timestamp('UTC')</span>                                                                                │\n",
       "├─────────────────────────────────────────────────────────────────────────────────────────────────┤\n",
       "│ <span style=\"color: #800080; text-decoration-color: #800080\">2024-07-04 11:02:19+00:00</span>                                                                       │\n",
       "│ <span style=\"color: #800080; text-decoration-color: #800080\">2024-07-04 11:02:19+00:00</span>                                                                       │\n",
       "│ <span style=\"color: #800080; text-decoration-color: #800080\">2024-07-04 11:02:20+00:00</span>                                                                       │\n",
       "│ <span style=\"color: #800080; text-decoration-color: #800080\">2024-07-04 11:02:23+00:00</span>                                                                       │\n",
       "│ <span style=\"color: #800080; text-decoration-color: #800080\">2024-07-04 11:02:24+00:00</span>                                                                       │\n",
       "│ <span style=\"color: #800080; text-decoration-color: #800080\">2024-07-04 11:02:20+00:00</span>                                                                       │\n",
       "│ <span style=\"color: #800080; text-decoration-color: #800080\">2024-07-04 11:02:20+00:00</span>                                                                       │\n",
       "│ <span style=\"color: #800080; text-decoration-color: #800080\">2024-07-04 11:02:20+00:00</span>                                                                       │\n",
       "│ <span style=\"color: #800080; text-decoration-color: #800080\">2024-07-04 11:02:20+00:00</span>                                                                       │\n",
       "│ <span style=\"color: #800080; text-decoration-color: #800080\">2024-07-04 11:02:20+00:00</span>                                                                       │\n",
       "│ <span style=\"color: #7f7f7f; text-decoration-color: #7f7f7f\">…</span>                                                                                               │\n",
       "└─────────────────────────────────────────────────────────────────────────────────────────────────┘\n",
       "</pre>\n"
      ],
      "text/plain": [
       "┏━━━━━━━━━━━━━━━━━━━━━━━━━━━━━━━━━━━━━━━━━━━━━━━━━━━━━━━━━━━━━━━━━━━━━━━━━━━━━━━━━━━━━━━━━━━━━━━━━┓\n",
       "┃\u001b[1m \u001b[0m\u001b[1mStringToTimestamp(StringConcat((StringConcat((utc_date, ' ')), utc_time)), '%Y.%m.%d %H:%M:%S')\u001b[0m\u001b[1m \u001b[0m┃\n",
       "┡━━━━━━━━━━━━━━━━━━━━━━━━━━━━━━━━━━━━━━━━━━━━━━━━━━━━━━━━━━━━━━━━━━━━━━━━━━━━━━━━━━━━━━━━━━━━━━━━━┩\n",
       "│ \u001b[2mtimestamp('UTC')\u001b[0m                                                                                │\n",
       "├─────────────────────────────────────────────────────────────────────────────────────────────────┤\n",
       "│ \u001b[35m2024-07-04 11:02:19+00:00\u001b[0m                                                                       │\n",
       "│ \u001b[35m2024-07-04 11:02:19+00:00\u001b[0m                                                                       │\n",
       "│ \u001b[35m2024-07-04 11:02:20+00:00\u001b[0m                                                                       │\n",
       "│ \u001b[35m2024-07-04 11:02:23+00:00\u001b[0m                                                                       │\n",
       "│ \u001b[35m2024-07-04 11:02:24+00:00\u001b[0m                                                                       │\n",
       "│ \u001b[35m2024-07-04 11:02:20+00:00\u001b[0m                                                                       │\n",
       "│ \u001b[35m2024-07-04 11:02:20+00:00\u001b[0m                                                                       │\n",
       "│ \u001b[35m2024-07-04 11:02:20+00:00\u001b[0m                                                                       │\n",
       "│ \u001b[35m2024-07-04 11:02:20+00:00\u001b[0m                                                                       │\n",
       "│ \u001b[35m2024-07-04 11:02:20+00:00\u001b[0m                                                                       │\n",
       "│ \u001b[2m…\u001b[0m                                                                                               │\n",
       "└─────────────────────────────────────────────────────────────────────────────────────────────────┘\n"
      ]
     },
     "execution_count": 29,
     "metadata": {},
     "output_type": "execute_result"
    }
   ],
   "source": [
    "%%time\n",
    "utc_timestamp = (games.utc_date + \" \" + games.utc_time).to_timestamp(\n",
    "    \"%Y.%m.%d %H:%M:%S\"\n",
    ")\n",
    "game_level_features.append(utc_timestamp.name(\"utc_timestamp\"))\n",
    "utc_timestamp.preview()"
   ]
  },
  {
   "cell_type": "markdown",
   "id": "7c65d120-5de8-4c5f-8739-0f6c34442b90",
   "metadata": {},
   "source": [
    "It would be ideal if we could also compute the time since their last game finished; maybe this can be computed from clock times down the road."
   ]
  },
  {
   "cell_type": "code",
   "execution_count": 30,
   "id": "6e41cdb0-f37c-4e4e-93c0-ffd7a2af52bd",
   "metadata": {},
   "outputs": [
    {
     "name": "stdout",
     "output_type": "stream",
     "text": [
      "CPU times: user 59.9 s, sys: 1min 21s, total: 2min 20s\n",
      "Wall time: 2.97 s\n"
     ]
    },
    {
     "data": {
      "text/html": [
       "<pre style=\"white-space:pre;overflow-x:auto;line-height:normal;font-family:Menlo,'DejaVu Sans Mono',consolas,'Courier New',monospace\">┏━━━━━━━━━━━━━━━━━━━━━━━━━━━━━━━━━━━━━━━━━━━━━━━━━━━━━━━━━━━━━━━━━━━━━━━━━━━━━━━━━━━━━━━━━━━━━━━━━━━━━━━━━━━━━━━━━┓\n",
       "┃<span style=\"font-weight: bold\"> TimestampDelta('second', StringToTimestamp(StringConcat((StringConcat((utc_date, ' ')), utc_time)), '%Y.%m.%d … </span>┃\n",
       "┡━━━━━━━━━━━━━━━━━━━━━━━━━━━━━━━━━━━━━━━━━━━━━━━━━━━━━━━━━━━━━━━━━━━━━━━━━━━━━━━━━━━━━━━━━━━━━━━━━━━━━━━━━━━━━━━━━┩\n",
       "│ <span style=\"color: #7f7f7f; text-decoration-color: #7f7f7f\">int64</span>                                                                                                           │\n",
       "├─────────────────────────────────────────────────────────────────────────────────────────────────────────────────┤\n",
       "│                                                                                                          <span style=\"color: #008080; text-decoration-color: #008080; font-weight: bold\">186998</span> │\n",
       "│                                                                                                          <span style=\"color: #008080; text-decoration-color: #008080; font-weight: bold\">110686</span> │\n",
       "│                                                                                                           <span style=\"color: #008080; text-decoration-color: #008080; font-weight: bold\">20781</span> │\n",
       "│                                                                                                          <span style=\"color: #008080; text-decoration-color: #008080; font-weight: bold\">146964</span> │\n",
       "│                                                                                                          <span style=\"color: #008080; text-decoration-color: #008080; font-weight: bold\">176421</span> │\n",
       "│                                                                                                            <span style=\"color: #7f7f7f; text-decoration-color: #7f7f7f\">NULL</span> │\n",
       "│                                                                                                             <span style=\"color: #008080; text-decoration-color: #008080; font-weight: bold\">682</span> │\n",
       "│                                                                                                           <span style=\"color: #008080; text-decoration-color: #008080; font-weight: bold\">59551</span> │\n",
       "│                                                                                                           <span style=\"color: #008080; text-decoration-color: #008080; font-weight: bold\">34445</span> │\n",
       "│                                                                                                             <span style=\"color: #008080; text-decoration-color: #008080; font-weight: bold\">568</span> │\n",
       "│                                                                                                               <span style=\"color: #7f7f7f; text-decoration-color: #7f7f7f\">…</span> │\n",
       "└─────────────────────────────────────────────────────────────────────────────────────────────────────────────────┘\n",
       "</pre>\n"
      ],
      "text/plain": [
       "┏━━━━━━━━━━━━━━━━━━━━━━━━━━━━━━━━━━━━━━━━━━━━━━━━━━━━━━━━━━━━━━━━━━━━━━━━━━━━━━━━━━━━━━━━━━━━━━━━━━━━━━━━━━━━━━━━━┓\n",
       "┃\u001b[1m \u001b[0m\u001b[1mTimestampDelta('second', StringToTimestamp(StringConcat((StringConcat((utc_date, ' ')), utc_time)), '%Y.%m.%d …\u001b[0m\u001b[1m \u001b[0m┃\n",
       "┡━━━━━━━━━━━━━━━━━━━━━━━━━━━━━━━━━━━━━━━━━━━━━━━━━━━━━━━━━━━━━━━━━━━━━━━━━━━━━━━━━━━━━━━━━━━━━━━━━━━━━━━━━━━━━━━━━┩\n",
       "│ \u001b[2mint64\u001b[0m                                                                                                           │\n",
       "├─────────────────────────────────────────────────────────────────────────────────────────────────────────────────┤\n",
       "│                                                                                                          \u001b[1;36m186998\u001b[0m │\n",
       "│                                                                                                          \u001b[1;36m110686\u001b[0m │\n",
       "│                                                                                                           \u001b[1;36m20781\u001b[0m │\n",
       "│                                                                                                          \u001b[1;36m146964\u001b[0m │\n",
       "│                                                                                                          \u001b[1;36m176421\u001b[0m │\n",
       "│                                                                                                            \u001b[2mNULL\u001b[0m │\n",
       "│                                                                                                             \u001b[1;36m682\u001b[0m │\n",
       "│                                                                                                           \u001b[1;36m59551\u001b[0m │\n",
       "│                                                                                                           \u001b[1;36m34445\u001b[0m │\n",
       "│                                                                                                             \u001b[1;36m568\u001b[0m │\n",
       "│                                                                                                               \u001b[2m…\u001b[0m │\n",
       "└─────────────────────────────────────────────────────────────────────────────────────────────────────────────────┘\n"
      ]
     },
     "execution_count": 30,
     "metadata": {},
     "output_type": "execute_result"
    }
   ],
   "source": [
    "%%time\n",
    "white_seconds_since_previous_game = utc_timestamp.delta(\n",
    "    utc_timestamp.lag().over(\n",
    "        ibis.window(group_by=white_user_id, order_by=utc_timestamp)\n",
    "    ),\n",
    "    \"second\",\n",
    ")\n",
    "game_level_features.append(white_seconds_since_previous_game.name(\"white_seconds_since_previous_game\"))\n",
    "white_seconds_since_previous_game.preview()"
   ]
  },
  {
   "cell_type": "code",
   "execution_count": 31,
   "id": "75c58b97-c284-4ed4-acf2-e6ad78a658f6",
   "metadata": {},
   "outputs": [
    {
     "name": "stdout",
     "output_type": "stream",
     "text": [
      "CPU times: user 1min 9s, sys: 1min 23s, total: 2min 32s\n",
      "Wall time: 2.1 s\n"
     ]
    },
    {
     "data": {
      "text/html": [
       "<pre style=\"white-space:pre;overflow-x:auto;line-height:normal;font-family:Menlo,'DejaVu Sans Mono',consolas,'Courier New',monospace\">┏━━━━━━━━━━━━━━━━━━━━━━━━━━━━━━━━━━━━━━━━━━━━━━━━━━━━━━━━━━━━━━━━━━━━━━━━━━━━━━━━━━━━━━━━━━━━━━━━━━━━━━━━━━━━━━━━━┓\n",
       "┃<span style=\"font-weight: bold\"> TimestampDelta('second', StringToTimestamp(StringConcat((StringConcat((utc_date, ' ')), utc_time)), '%Y.%m.%d … </span>┃\n",
       "┡━━━━━━━━━━━━━━━━━━━━━━━━━━━━━━━━━━━━━━━━━━━━━━━━━━━━━━━━━━━━━━━━━━━━━━━━━━━━━━━━━━━━━━━━━━━━━━━━━━━━━━━━━━━━━━━━━┩\n",
       "│ <span style=\"color: #7f7f7f; text-decoration-color: #7f7f7f\">int64</span>                                                                                                           │\n",
       "├─────────────────────────────────────────────────────────────────────────────────────────────────────────────────┤\n",
       "│                                                                                                            <span style=\"color: #7f7f7f; text-decoration-color: #7f7f7f\">NULL</span> │\n",
       "│                                                                                                            <span style=\"color: #7f7f7f; text-decoration-color: #7f7f7f\">NULL</span> │\n",
       "│                                                                                                         <span style=\"color: #008080; text-decoration-color: #008080; font-weight: bold\">1085915</span> │\n",
       "│                                                                                                           <span style=\"color: #008080; text-decoration-color: #008080; font-weight: bold\">99078</span> │\n",
       "│                                                                                                            <span style=\"color: #7f7f7f; text-decoration-color: #7f7f7f\">NULL</span> │\n",
       "│                                                                                                           <span style=\"color: #008080; text-decoration-color: #008080; font-weight: bold\">96485</span> │\n",
       "│                                                                                                           <span style=\"color: #008080; text-decoration-color: #008080; font-weight: bold\">13231</span> │\n",
       "│                                                                                                           <span style=\"color: #008080; text-decoration-color: #008080; font-weight: bold\">43915</span> │\n",
       "│                                                                                                             <span style=\"color: #008080; text-decoration-color: #008080; font-weight: bold\">654</span> │\n",
       "│                                                                                                            <span style=\"color: #008080; text-decoration-color: #008080; font-weight: bold\">5710</span> │\n",
       "│                                                                                                               <span style=\"color: #7f7f7f; text-decoration-color: #7f7f7f\">…</span> │\n",
       "└─────────────────────────────────────────────────────────────────────────────────────────────────────────────────┘\n",
       "</pre>\n"
      ],
      "text/plain": [
       "┏━━━━━━━━━━━━━━━━━━━━━━━━━━━━━━━━━━━━━━━━━━━━━━━━━━━━━━━━━━━━━━━━━━━━━━━━━━━━━━━━━━━━━━━━━━━━━━━━━━━━━━━━━━━━━━━━━┓\n",
       "┃\u001b[1m \u001b[0m\u001b[1mTimestampDelta('second', StringToTimestamp(StringConcat((StringConcat((utc_date, ' ')), utc_time)), '%Y.%m.%d …\u001b[0m\u001b[1m \u001b[0m┃\n",
       "┡━━━━━━━━━━━━━━━━━━━━━━━━━━━━━━━━━━━━━━━━━━━━━━━━━━━━━━━━━━━━━━━━━━━━━━━━━━━━━━━━━━━━━━━━━━━━━━━━━━━━━━━━━━━━━━━━━┩\n",
       "│ \u001b[2mint64\u001b[0m                                                                                                           │\n",
       "├─────────────────────────────────────────────────────────────────────────────────────────────────────────────────┤\n",
       "│                                                                                                            \u001b[2mNULL\u001b[0m │\n",
       "│                                                                                                            \u001b[2mNULL\u001b[0m │\n",
       "│                                                                                                         \u001b[1;36m1085915\u001b[0m │\n",
       "│                                                                                                           \u001b[1;36m99078\u001b[0m │\n",
       "│                                                                                                            \u001b[2mNULL\u001b[0m │\n",
       "│                                                                                                           \u001b[1;36m96485\u001b[0m │\n",
       "│                                                                                                           \u001b[1;36m13231\u001b[0m │\n",
       "│                                                                                                           \u001b[1;36m43915\u001b[0m │\n",
       "│                                                                                                             \u001b[1;36m654\u001b[0m │\n",
       "│                                                                                                            \u001b[1;36m5710\u001b[0m │\n",
       "│                                                                                                               \u001b[2m…\u001b[0m │\n",
       "└─────────────────────────────────────────────────────────────────────────────────────────────────────────────────┘\n"
      ]
     },
     "execution_count": 31,
     "metadata": {},
     "output_type": "execute_result"
    }
   ],
   "source": [
    "%%time\n",
    "black_seconds_since_previous_game = utc_timestamp.delta(\n",
    "    utc_timestamp.lag().over(\n",
    "        ibis.window(group_by=black_user_id, order_by=utc_timestamp)\n",
    "    ),\n",
    "    \"second\",\n",
    ")\n",
    "game_level_features.append(black_seconds_since_previous_game.name(\"black_seconds_since_previous_game\"))\n",
    "black_seconds_since_previous_game.preview()"
   ]
  },
  {
   "cell_type": "code",
   "execution_count": 32,
   "id": "7fd3a1f0-136a-45ac-83b6-48a665a769ba",
   "metadata": {},
   "outputs": [
    {
     "name": "stdout",
     "output_type": "stream",
     "text": [
      "CPU times: user 1min 2s, sys: 1min 7s, total: 2min 10s\n",
      "Wall time: 2.02 s\n"
     ]
    },
    {
     "data": {
      "text/html": [
       "<pre style=\"white-space:pre;overflow-x:auto;line-height:normal;font-family:Menlo,'DejaVu Sans Mono',consolas,'Courier New',monospace\">┏━━━━━━━━━━━━━━━━━━━━━━━━━━━━━━━━━━━━━━━━━━━━━━━━━━┓\n",
       "┃<span style=\"font-weight: bold\"> CountStar(ibis_cache_6bejg2jg5rbhdlsk3bjbwc35xe) </span>┃\n",
       "┡━━━━━━━━━━━━━━━━━━━━━━━━━━━━━━━━━━━━━━━━━━━━━━━━━━┩\n",
       "│ <span style=\"color: #7f7f7f; text-decoration-color: #7f7f7f\">int64</span>                                            │\n",
       "├──────────────────────────────────────────────────┤\n",
       "│                                                <span style=\"color: #008080; text-decoration-color: #008080; font-weight: bold\">1</span> │\n",
       "│                                                <span style=\"color: #008080; text-decoration-color: #008080; font-weight: bold\">2</span> │\n",
       "│                                                <span style=\"color: #008080; text-decoration-color: #008080; font-weight: bold\">3</span> │\n",
       "│                                                <span style=\"color: #008080; text-decoration-color: #008080; font-weight: bold\">1</span> │\n",
       "│                                                <span style=\"color: #008080; text-decoration-color: #008080; font-weight: bold\">1</span> │\n",
       "│                                                <span style=\"color: #008080; text-decoration-color: #008080; font-weight: bold\">1</span> │\n",
       "│                                                <span style=\"color: #008080; text-decoration-color: #008080; font-weight: bold\">1</span> │\n",
       "│                                                <span style=\"color: #008080; text-decoration-color: #008080; font-weight: bold\">1</span> │\n",
       "│                                                <span style=\"color: #008080; text-decoration-color: #008080; font-weight: bold\">2</span> │\n",
       "│                                                <span style=\"color: #008080; text-decoration-color: #008080; font-weight: bold\">1</span> │\n",
       "│                                                <span style=\"color: #7f7f7f; text-decoration-color: #7f7f7f\">…</span> │\n",
       "└──────────────────────────────────────────────────┘\n",
       "</pre>\n"
      ],
      "text/plain": [
       "┏━━━━━━━━━━━━━━━━━━━━━━━━━━━━━━━━━━━━━━━━━━━━━━━━━━┓\n",
       "┃\u001b[1m \u001b[0m\u001b[1mCountStar(ibis_cache_6bejg2jg5rbhdlsk3bjbwc35xe)\u001b[0m\u001b[1m \u001b[0m┃\n",
       "┡━━━━━━━━━━━━━━━━━━━━━━━━━━━━━━━━━━━━━━━━━━━━━━━━━━┩\n",
       "│ \u001b[2mint64\u001b[0m                                            │\n",
       "├──────────────────────────────────────────────────┤\n",
       "│                                                \u001b[1;36m1\u001b[0m │\n",
       "│                                                \u001b[1;36m2\u001b[0m │\n",
       "│                                                \u001b[1;36m3\u001b[0m │\n",
       "│                                                \u001b[1;36m1\u001b[0m │\n",
       "│                                                \u001b[1;36m1\u001b[0m │\n",
       "│                                                \u001b[1;36m1\u001b[0m │\n",
       "│                                                \u001b[1;36m1\u001b[0m │\n",
       "│                                                \u001b[1;36m1\u001b[0m │\n",
       "│                                                \u001b[1;36m2\u001b[0m │\n",
       "│                                                \u001b[1;36m1\u001b[0m │\n",
       "│                                                \u001b[2m…\u001b[0m │\n",
       "└──────────────────────────────────────────────────┘\n"
      ]
     },
     "execution_count": 32,
     "metadata": {},
     "output_type": "execute_result"
    }
   ],
   "source": [
    "%%time\n",
    "white_games_in_last_hour = games.count().over(\n",
    "    range=(-ibis.interval(hours=1), 0), group_by=white_user_id, order_by=utc_timestamp\n",
    ")\n",
    "game_level_features.append(white_games_in_last_hour.name(\"white_games_in_last_hour\"))\n",
    "white_games_in_last_hour.preview()"
   ]
  },
  {
   "cell_type": "code",
   "execution_count": 33,
   "id": "ec190788-a824-40b4-835d-ad01d612b424",
   "metadata": {},
   "outputs": [
    {
     "name": "stdout",
     "output_type": "stream",
     "text": [
      "CPU times: user 1min, sys: 59.3 s, total: 2min\n",
      "Wall time: 1.95 s\n"
     ]
    },
    {
     "data": {
      "text/html": [
       "<pre style=\"white-space:pre;overflow-x:auto;line-height:normal;font-family:Menlo,'DejaVu Sans Mono',consolas,'Courier New',monospace\">┏━━━━━━━━━━━━━━━━━━━━━━━━━━━━━━━━━━━━━━━━━━━━━━━━━━┓\n",
       "┃<span style=\"font-weight: bold\"> CountStar(ibis_cache_6bejg2jg5rbhdlsk3bjbwc35xe) </span>┃\n",
       "┡━━━━━━━━━━━━━━━━━━━━━━━━━━━━━━━━━━━━━━━━━━━━━━━━━━┩\n",
       "│ <span style=\"color: #7f7f7f; text-decoration-color: #7f7f7f\">int64</span>                                            │\n",
       "├──────────────────────────────────────────────────┤\n",
       "│                                                <span style=\"color: #008080; text-decoration-color: #008080; font-weight: bold\">1</span> │\n",
       "│                                                <span style=\"color: #008080; text-decoration-color: #008080; font-weight: bold\">1</span> │\n",
       "│                                                <span style=\"color: #008080; text-decoration-color: #008080; font-weight: bold\">1</span> │\n",
       "│                                                <span style=\"color: #008080; text-decoration-color: #008080; font-weight: bold\">1</span> │\n",
       "│                                                <span style=\"color: #008080; text-decoration-color: #008080; font-weight: bold\">1</span> │\n",
       "│                                                <span style=\"color: #008080; text-decoration-color: #008080; font-weight: bold\">1</span> │\n",
       "│                                                <span style=\"color: #008080; text-decoration-color: #008080; font-weight: bold\">1</span> │\n",
       "│                                                <span style=\"color: #008080; text-decoration-color: #008080; font-weight: bold\">1</span> │\n",
       "│                                                <span style=\"color: #008080; text-decoration-color: #008080; font-weight: bold\">1</span> │\n",
       "│                                                <span style=\"color: #008080; text-decoration-color: #008080; font-weight: bold\">1</span> │\n",
       "│                                                <span style=\"color: #7f7f7f; text-decoration-color: #7f7f7f\">…</span> │\n",
       "└──────────────────────────────────────────────────┘\n",
       "</pre>\n"
      ],
      "text/plain": [
       "┏━━━━━━━━━━━━━━━━━━━━━━━━━━━━━━━━━━━━━━━━━━━━━━━━━━┓\n",
       "┃\u001b[1m \u001b[0m\u001b[1mCountStar(ibis_cache_6bejg2jg5rbhdlsk3bjbwc35xe)\u001b[0m\u001b[1m \u001b[0m┃\n",
       "┡━━━━━━━━━━━━━━━━━━━━━━━━━━━━━━━━━━━━━━━━━━━━━━━━━━┩\n",
       "│ \u001b[2mint64\u001b[0m                                            │\n",
       "├──────────────────────────────────────────────────┤\n",
       "│                                                \u001b[1;36m1\u001b[0m │\n",
       "│                                                \u001b[1;36m1\u001b[0m │\n",
       "│                                                \u001b[1;36m1\u001b[0m │\n",
       "│                                                \u001b[1;36m1\u001b[0m │\n",
       "│                                                \u001b[1;36m1\u001b[0m │\n",
       "│                                                \u001b[1;36m1\u001b[0m │\n",
       "│                                                \u001b[1;36m1\u001b[0m │\n",
       "│                                                \u001b[1;36m1\u001b[0m │\n",
       "│                                                \u001b[1;36m1\u001b[0m │\n",
       "│                                                \u001b[1;36m1\u001b[0m │\n",
       "│                                                \u001b[2m…\u001b[0m │\n",
       "└──────────────────────────────────────────────────┘\n"
      ]
     },
     "execution_count": 33,
     "metadata": {},
     "output_type": "execute_result"
    }
   ],
   "source": [
    "%%time\n",
    "black_games_in_last_hour = games.count().over(\n",
    "    range=(-ibis.interval(hours=1), 0), group_by=black_user_id, order_by=utc_timestamp\n",
    ")\n",
    "game_level_features.append(black_games_in_last_hour.name(\"black_games_in_last_hour\"))\n",
    "black_games_in_last_hour.preview()"
   ]
  },
  {
   "cell_type": "code",
   "execution_count": 34,
   "id": "267b0e35-f789-478c-8657-b3fb419f2ca3",
   "metadata": {},
   "outputs": [
    {
     "name": "stdout",
     "output_type": "stream",
     "text": [
      "CPU times: user 57.6 s, sys: 1min, total: 1min 57s\n",
      "Wall time: 1.85 s\n"
     ]
    },
    {
     "data": {
      "text/html": [
       "<pre style=\"white-space:pre;overflow-x:auto;line-height:normal;font-family:Menlo,'DejaVu Sans Mono',consolas,'Courier New',monospace\">┏━━━━━━━━━━━━━━━━━━━━━━━━━━━━━━━━━━━━━━━━━━━━━━━━━━┓\n",
       "┃<span style=\"font-weight: bold\"> CountStar(ibis_cache_6bejg2jg5rbhdlsk3bjbwc35xe) </span>┃\n",
       "┡━━━━━━━━━━━━━━━━━━━━━━━━━━━━━━━━━━━━━━━━━━━━━━━━━━┩\n",
       "│ <span style=\"color: #7f7f7f; text-decoration-color: #7f7f7f\">int64</span>                                            │\n",
       "├──────────────────────────────────────────────────┤\n",
       "│                                                <span style=\"color: #008080; text-decoration-color: #008080; font-weight: bold\">8</span> │\n",
       "│                                                <span style=\"color: #008080; text-decoration-color: #008080; font-weight: bold\">1</span> │\n",
       "│                                                <span style=\"color: #008080; text-decoration-color: #008080; font-weight: bold\">2</span> │\n",
       "│                                                <span style=\"color: #008080; text-decoration-color: #008080; font-weight: bold\">3</span> │\n",
       "│                                                <span style=\"color: #008080; text-decoration-color: #008080; font-weight: bold\">4</span> │\n",
       "│                                                <span style=\"color: #008080; text-decoration-color: #008080; font-weight: bold\">5</span> │\n",
       "│                                                <span style=\"color: #008080; text-decoration-color: #008080; font-weight: bold\">6</span> │\n",
       "│                                                <span style=\"color: #008080; text-decoration-color: #008080; font-weight: bold\">7</span> │\n",
       "│                                                <span style=\"color: #008080; text-decoration-color: #008080; font-weight: bold\">8</span> │\n",
       "│                                                <span style=\"color: #008080; text-decoration-color: #008080; font-weight: bold\">7</span> │\n",
       "│                                                <span style=\"color: #7f7f7f; text-decoration-color: #7f7f7f\">…</span> │\n",
       "└──────────────────────────────────────────────────┘\n",
       "</pre>\n"
      ],
      "text/plain": [
       "┏━━━━━━━━━━━━━━━━━━━━━━━━━━━━━━━━━━━━━━━━━━━━━━━━━━┓\n",
       "┃\u001b[1m \u001b[0m\u001b[1mCountStar(ibis_cache_6bejg2jg5rbhdlsk3bjbwc35xe)\u001b[0m\u001b[1m \u001b[0m┃\n",
       "┡━━━━━━━━━━━━━━━━━━━━━━━━━━━━━━━━━━━━━━━━━━━━━━━━━━┩\n",
       "│ \u001b[2mint64\u001b[0m                                            │\n",
       "├──────────────────────────────────────────────────┤\n",
       "│                                                \u001b[1;36m8\u001b[0m │\n",
       "│                                                \u001b[1;36m1\u001b[0m │\n",
       "│                                                \u001b[1;36m2\u001b[0m │\n",
       "│                                                \u001b[1;36m3\u001b[0m │\n",
       "│                                                \u001b[1;36m4\u001b[0m │\n",
       "│                                                \u001b[1;36m5\u001b[0m │\n",
       "│                                                \u001b[1;36m6\u001b[0m │\n",
       "│                                                \u001b[1;36m7\u001b[0m │\n",
       "│                                                \u001b[1;36m8\u001b[0m │\n",
       "│                                                \u001b[1;36m7\u001b[0m │\n",
       "│                                                \u001b[2m…\u001b[0m │\n",
       "└──────────────────────────────────────────────────┘\n"
      ]
     },
     "execution_count": 34,
     "metadata": {},
     "output_type": "execute_result"
    }
   ],
   "source": [
    "%%time\n",
    "white_games_in_last_day = games.count().over(\n",
    "    range=(-ibis.interval(days=1), 0), group_by=white_user_id, order_by=utc_timestamp\n",
    ")\n",
    "game_level_features.append(white_games_in_last_day.name(\"white_games_in_last_day\"))\n",
    "white_games_in_last_day.preview()"
   ]
  },
  {
   "cell_type": "code",
   "execution_count": 35,
   "id": "328effbf-d213-477c-b86a-14b75e99a47d",
   "metadata": {},
   "outputs": [
    {
     "name": "stdout",
     "output_type": "stream",
     "text": [
      "CPU times: user 53.9 s, sys: 57.4 s, total: 1min 51s\n",
      "Wall time: 1.82 s\n"
     ]
    },
    {
     "data": {
      "text/html": [
       "<pre style=\"white-space:pre;overflow-x:auto;line-height:normal;font-family:Menlo,'DejaVu Sans Mono',consolas,'Courier New',monospace\">┏━━━━━━━━━━━━━━━━━━━━━━━━━━━━━━━━━━━━━━━━━━━━━━━━━━┓\n",
       "┃<span style=\"font-weight: bold\"> CountStar(ibis_cache_6bejg2jg5rbhdlsk3bjbwc35xe) </span>┃\n",
       "┡━━━━━━━━━━━━━━━━━━━━━━━━━━━━━━━━━━━━━━━━━━━━━━━━━━┩\n",
       "│ <span style=\"color: #7f7f7f; text-decoration-color: #7f7f7f\">int64</span>                                            │\n",
       "├──────────────────────────────────────────────────┤\n",
       "│                                                <span style=\"color: #008080; text-decoration-color: #008080; font-weight: bold\">2</span> │\n",
       "│                                                <span style=\"color: #008080; text-decoration-color: #008080; font-weight: bold\">3</span> │\n",
       "│                                                <span style=\"color: #008080; text-decoration-color: #008080; font-weight: bold\">1</span> │\n",
       "│                                                <span style=\"color: #008080; text-decoration-color: #008080; font-weight: bold\">1</span> │\n",
       "│                                                <span style=\"color: #008080; text-decoration-color: #008080; font-weight: bold\">1</span> │\n",
       "│                                                <span style=\"color: #008080; text-decoration-color: #008080; font-weight: bold\">1</span> │\n",
       "│                                                <span style=\"color: #008080; text-decoration-color: #008080; font-weight: bold\">1</span> │\n",
       "│                                                <span style=\"color: #008080; text-decoration-color: #008080; font-weight: bold\">1</span> │\n",
       "│                                                <span style=\"color: #008080; text-decoration-color: #008080; font-weight: bold\">1</span> │\n",
       "│                                                <span style=\"color: #008080; text-decoration-color: #008080; font-weight: bold\">1</span> │\n",
       "│                                                <span style=\"color: #7f7f7f; text-decoration-color: #7f7f7f\">…</span> │\n",
       "└──────────────────────────────────────────────────┘\n",
       "</pre>\n"
      ],
      "text/plain": [
       "┏━━━━━━━━━━━━━━━━━━━━━━━━━━━━━━━━━━━━━━━━━━━━━━━━━━┓\n",
       "┃\u001b[1m \u001b[0m\u001b[1mCountStar(ibis_cache_6bejg2jg5rbhdlsk3bjbwc35xe)\u001b[0m\u001b[1m \u001b[0m┃\n",
       "┡━━━━━━━━━━━━━━━━━━━━━━━━━━━━━━━━━━━━━━━━━━━━━━━━━━┩\n",
       "│ \u001b[2mint64\u001b[0m                                            │\n",
       "├──────────────────────────────────────────────────┤\n",
       "│                                                \u001b[1;36m2\u001b[0m │\n",
       "│                                                \u001b[1;36m3\u001b[0m │\n",
       "│                                                \u001b[1;36m1\u001b[0m │\n",
       "│                                                \u001b[1;36m1\u001b[0m │\n",
       "│                                                \u001b[1;36m1\u001b[0m │\n",
       "│                                                \u001b[1;36m1\u001b[0m │\n",
       "│                                                \u001b[1;36m1\u001b[0m │\n",
       "│                                                \u001b[1;36m1\u001b[0m │\n",
       "│                                                \u001b[1;36m1\u001b[0m │\n",
       "│                                                \u001b[1;36m1\u001b[0m │\n",
       "│                                                \u001b[2m…\u001b[0m │\n",
       "└──────────────────────────────────────────────────┘\n"
      ]
     },
     "execution_count": 35,
     "metadata": {},
     "output_type": "execute_result"
    }
   ],
   "source": [
    "%%time\n",
    "black_games_in_last_day = games.count().over(\n",
    "    range=(-ibis.interval(days=1), 0), group_by=black_user_id, order_by=utc_timestamp\n",
    ")\n",
    "game_level_features.append(black_games_in_last_day.name(\"black_games_in_last_day\"))\n",
    "black_games_in_last_day.preview()"
   ]
  },
  {
   "cell_type": "code",
   "execution_count": 36,
   "id": "c9d26f01-50d3-4603-803c-1e53295ecc46",
   "metadata": {},
   "outputs": [
    {
     "name": "stdout",
     "output_type": "stream",
     "text": [
      "CPU times: user 1min 4s, sys: 1min 26s, total: 2min 30s\n",
      "Wall time: 1.89 s\n"
     ]
    },
    {
     "data": {
      "text/html": [
       "<pre style=\"white-space:pre;overflow-x:auto;line-height:normal;font-family:Menlo,'DejaVu Sans Mono',consolas,'Courier New',monospace\">┏━━━━━━━━━━━━━━━━━━━━━━━━━━━━━━━━━━━━━━━━━━━━━━━━━━┓\n",
       "┃<span style=\"font-weight: bold\"> CountStar(ibis_cache_6bejg2jg5rbhdlsk3bjbwc35xe) </span>┃\n",
       "┡━━━━━━━━━━━━━━━━━━━━━━━━━━━━━━━━━━━━━━━━━━━━━━━━━━┩\n",
       "│ <span style=\"color: #7f7f7f; text-decoration-color: #7f7f7f\">int64</span>                                            │\n",
       "├──────────────────────────────────────────────────┤\n",
       "│                                                <span style=\"color: #008080; text-decoration-color: #008080; font-weight: bold\">2</span> │\n",
       "│                                                <span style=\"color: #008080; text-decoration-color: #008080; font-weight: bold\">2</span> │\n",
       "│                                                <span style=\"color: #008080; text-decoration-color: #008080; font-weight: bold\">3</span> │\n",
       "│                                                <span style=\"color: #008080; text-decoration-color: #008080; font-weight: bold\">4</span> │\n",
       "│                                                <span style=\"color: #008080; text-decoration-color: #008080; font-weight: bold\">3</span> │\n",
       "│                                                <span style=\"color: #008080; text-decoration-color: #008080; font-weight: bold\">1</span> │\n",
       "│                                                <span style=\"color: #008080; text-decoration-color: #008080; font-weight: bold\">1</span> │\n",
       "│                                                <span style=\"color: #008080; text-decoration-color: #008080; font-weight: bold\">2</span> │\n",
       "│                                                <span style=\"color: #008080; text-decoration-color: #008080; font-weight: bold\">3</span> │\n",
       "│                                                <span style=\"color: #008080; text-decoration-color: #008080; font-weight: bold\">1</span> │\n",
       "│                                                <span style=\"color: #7f7f7f; text-decoration-color: #7f7f7f\">…</span> │\n",
       "└──────────────────────────────────────────────────┘\n",
       "</pre>\n"
      ],
      "text/plain": [
       "┏━━━━━━━━━━━━━━━━━━━━━━━━━━━━━━━━━━━━━━━━━━━━━━━━━━┓\n",
       "┃\u001b[1m \u001b[0m\u001b[1mCountStar(ibis_cache_6bejg2jg5rbhdlsk3bjbwc35xe)\u001b[0m\u001b[1m \u001b[0m┃\n",
       "┡━━━━━━━━━━━━━━━━━━━━━━━━━━━━━━━━━━━━━━━━━━━━━━━━━━┩\n",
       "│ \u001b[2mint64\u001b[0m                                            │\n",
       "├──────────────────────────────────────────────────┤\n",
       "│                                                \u001b[1;36m2\u001b[0m │\n",
       "│                                                \u001b[1;36m2\u001b[0m │\n",
       "│                                                \u001b[1;36m3\u001b[0m │\n",
       "│                                                \u001b[1;36m4\u001b[0m │\n",
       "│                                                \u001b[1;36m3\u001b[0m │\n",
       "│                                                \u001b[1;36m1\u001b[0m │\n",
       "│                                                \u001b[1;36m1\u001b[0m │\n",
       "│                                                \u001b[1;36m2\u001b[0m │\n",
       "│                                                \u001b[1;36m3\u001b[0m │\n",
       "│                                                \u001b[1;36m1\u001b[0m │\n",
       "│                                                \u001b[2m…\u001b[0m │\n",
       "└──────────────────────────────────────────────────┘\n"
      ]
     },
     "execution_count": 36,
     "metadata": {},
     "output_type": "execute_result"
    }
   ],
   "source": [
    "%%time\n",
    "white_games_in_last_week = games.count().over(\n",
    "    range=(-ibis.interval(days=7), 0), group_by=white_user_id, order_by=utc_timestamp\n",
    ")\n",
    "game_level_features.append(white_games_in_last_week.name(\"white_games_in_last_week\"))\n",
    "white_games_in_last_week.preview()"
   ]
  },
  {
   "cell_type": "code",
   "execution_count": 37,
   "id": "58ba7b4b-43b0-4805-a4e8-1bc11655c94e",
   "metadata": {},
   "outputs": [
    {
     "name": "stdout",
     "output_type": "stream",
     "text": [
      "CPU times: user 54.4 s, sys: 1min 6s, total: 2min 1s\n",
      "Wall time: 1.79 s\n"
     ]
    },
    {
     "data": {
      "text/html": [
       "<pre style=\"white-space:pre;overflow-x:auto;line-height:normal;font-family:Menlo,'DejaVu Sans Mono',consolas,'Courier New',monospace\">┏━━━━━━━━━━━━━━━━━━━━━━━━━━━━━━━━━━━━━━━━━━━━━━━━━━┓\n",
       "┃<span style=\"font-weight: bold\"> CountStar(ibis_cache_6bejg2jg5rbhdlsk3bjbwc35xe) </span>┃\n",
       "┡━━━━━━━━━━━━━━━━━━━━━━━━━━━━━━━━━━━━━━━━━━━━━━━━━━┩\n",
       "│ <span style=\"color: #7f7f7f; text-decoration-color: #7f7f7f\">int64</span>                                            │\n",
       "├──────────────────────────────────────────────────┤\n",
       "│                                                <span style=\"color: #008080; text-decoration-color: #008080; font-weight: bold\">4</span> │\n",
       "│                                                <span style=\"color: #008080; text-decoration-color: #008080; font-weight: bold\">1</span> │\n",
       "│                                                <span style=\"color: #008080; text-decoration-color: #008080; font-weight: bold\">1</span> │\n",
       "│                                                <span style=\"color: #008080; text-decoration-color: #008080; font-weight: bold\">1</span> │\n",
       "│                                                <span style=\"color: #008080; text-decoration-color: #008080; font-weight: bold\">1</span> │\n",
       "│                                                <span style=\"color: #008080; text-decoration-color: #008080; font-weight: bold\">2</span> │\n",
       "│                                                <span style=\"color: #008080; text-decoration-color: #008080; font-weight: bold\">1</span> │\n",
       "│                                                <span style=\"color: #008080; text-decoration-color: #008080; font-weight: bold\">1</span> │\n",
       "│                                                <span style=\"color: #008080; text-decoration-color: #008080; font-weight: bold\">1</span> │\n",
       "│                                                <span style=\"color: #008080; text-decoration-color: #008080; font-weight: bold\">1</span> │\n",
       "│                                                <span style=\"color: #7f7f7f; text-decoration-color: #7f7f7f\">…</span> │\n",
       "└──────────────────────────────────────────────────┘\n",
       "</pre>\n"
      ],
      "text/plain": [
       "┏━━━━━━━━━━━━━━━━━━━━━━━━━━━━━━━━━━━━━━━━━━━━━━━━━━┓\n",
       "┃\u001b[1m \u001b[0m\u001b[1mCountStar(ibis_cache_6bejg2jg5rbhdlsk3bjbwc35xe)\u001b[0m\u001b[1m \u001b[0m┃\n",
       "┡━━━━━━━━━━━━━━━━━━━━━━━━━━━━━━━━━━━━━━━━━━━━━━━━━━┩\n",
       "│ \u001b[2mint64\u001b[0m                                            │\n",
       "├──────────────────────────────────────────────────┤\n",
       "│                                                \u001b[1;36m4\u001b[0m │\n",
       "│                                                \u001b[1;36m1\u001b[0m │\n",
       "│                                                \u001b[1;36m1\u001b[0m │\n",
       "│                                                \u001b[1;36m1\u001b[0m │\n",
       "│                                                \u001b[1;36m1\u001b[0m │\n",
       "│                                                \u001b[1;36m2\u001b[0m │\n",
       "│                                                \u001b[1;36m1\u001b[0m │\n",
       "│                                                \u001b[1;36m1\u001b[0m │\n",
       "│                                                \u001b[1;36m1\u001b[0m │\n",
       "│                                                \u001b[1;36m1\u001b[0m │\n",
       "│                                                \u001b[2m…\u001b[0m │\n",
       "└──────────────────────────────────────────────────┘\n"
      ]
     },
     "execution_count": 37,
     "metadata": {},
     "output_type": "execute_result"
    }
   ],
   "source": [
    "%%time\n",
    "black_games_in_last_week = games.count().over(\n",
    "    range=(-ibis.interval(days=7), 0), group_by=black_user_id, order_by=utc_timestamp\n",
    ")\n",
    "game_level_features.append(black_games_in_last_week.name(\"black_games_in_last_week\"))\n",
    "black_games_in_last_week.preview()"
   ]
  },
  {
   "cell_type": "markdown",
   "id": "abc5763b-3094-43d9-8ec5-a4575e45ba06",
   "metadata": {},
   "source": [
    "## Elo features"
   ]
  },
  {
   "cell_type": "code",
   "execution_count": 38,
   "id": "cf375507-7611-47ce-9700-96b9b1c21f0e",
   "metadata": {},
   "outputs": [
    {
     "name": "stdout",
     "output_type": "stream",
     "text": [
      "CPU times: user 14.6 ms, sys: 41.7 ms, total: 56.4 ms\n",
      "Wall time: 11.6 ms\n"
     ]
    },
    {
     "data": {
      "text/html": [
       "<pre style=\"white-space:pre;overflow-x:auto;line-height:normal;font-family:Menlo,'DejaVu Sans Mono',consolas,'Courier New',monospace\">┏━━━━━━━━━━━━━━━━━━━━━━━━┓\n",
       "┃<span style=\"font-weight: bold\"> Cast(white_elo, int64) </span>┃\n",
       "┡━━━━━━━━━━━━━━━━━━━━━━━━┩\n",
       "│ <span style=\"color: #7f7f7f; text-decoration-color: #7f7f7f\">int64</span>                  │\n",
       "├────────────────────────┤\n",
       "│                   <span style=\"color: #008080; text-decoration-color: #008080; font-weight: bold\">1500</span> │\n",
       "│                   <span style=\"color: #008080; text-decoration-color: #008080; font-weight: bold\">1953</span> │\n",
       "│                   <span style=\"color: #008080; text-decoration-color: #008080; font-weight: bold\">1516</span> │\n",
       "│                   <span style=\"color: #008080; text-decoration-color: #008080; font-weight: bold\">1823</span> │\n",
       "│                   <span style=\"color: #008080; text-decoration-color: #008080; font-weight: bold\">1397</span> │\n",
       "│                   <span style=\"color: #008080; text-decoration-color: #008080; font-weight: bold\">1217</span> │\n",
       "│                   <span style=\"color: #008080; text-decoration-color: #008080; font-weight: bold\">1936</span> │\n",
       "│                   <span style=\"color: #008080; text-decoration-color: #008080; font-weight: bold\">1700</span> │\n",
       "│                   <span style=\"color: #008080; text-decoration-color: #008080; font-weight: bold\">1540</span> │\n",
       "│                   <span style=\"color: #008080; text-decoration-color: #008080; font-weight: bold\">1469</span> │\n",
       "│                      <span style=\"color: #7f7f7f; text-decoration-color: #7f7f7f\">…</span> │\n",
       "└────────────────────────┘\n",
       "</pre>\n"
      ],
      "text/plain": [
       "┏━━━━━━━━━━━━━━━━━━━━━━━━┓\n",
       "┃\u001b[1m \u001b[0m\u001b[1mCast(white_elo, int64)\u001b[0m\u001b[1m \u001b[0m┃\n",
       "┡━━━━━━━━━━━━━━━━━━━━━━━━┩\n",
       "│ \u001b[2mint64\u001b[0m                  │\n",
       "├────────────────────────┤\n",
       "│                   \u001b[1;36m1500\u001b[0m │\n",
       "│                   \u001b[1;36m1953\u001b[0m │\n",
       "│                   \u001b[1;36m1516\u001b[0m │\n",
       "│                   \u001b[1;36m1823\u001b[0m │\n",
       "│                   \u001b[1;36m1397\u001b[0m │\n",
       "│                   \u001b[1;36m1217\u001b[0m │\n",
       "│                   \u001b[1;36m1936\u001b[0m │\n",
       "│                   \u001b[1;36m1700\u001b[0m │\n",
       "│                   \u001b[1;36m1540\u001b[0m │\n",
       "│                   \u001b[1;36m1469\u001b[0m │\n",
       "│                      \u001b[2m…\u001b[0m │\n",
       "└────────────────────────┘\n"
      ]
     },
     "execution_count": 38,
     "metadata": {},
     "output_type": "execute_result"
    }
   ],
   "source": [
    "%%time\n",
    "white_elo = games.white_elo.cast(int)\n",
    "game_level_features.append(white_elo.name(\"white_elo\"))\n",
    "white_elo.preview()"
   ]
  },
  {
   "cell_type": "code",
   "execution_count": 39,
   "id": "fc24647b-f1cd-44c0-9b17-751124ed0e1f",
   "metadata": {},
   "outputs": [
    {
     "name": "stdout",
     "output_type": "stream",
     "text": [
      "CPU times: user 42.7 ms, sys: 187 μs, total: 42.9 ms\n",
      "Wall time: 10.5 ms\n"
     ]
    },
    {
     "data": {
      "text/html": [
       "<pre style=\"white-space:pre;overflow-x:auto;line-height:normal;font-family:Menlo,'DejaVu Sans Mono',consolas,'Courier New',monospace\">┏━━━━━━━━━━━━━━━━━━━━━━━━┓\n",
       "┃<span style=\"font-weight: bold\"> Cast(black_elo, int64) </span>┃\n",
       "┡━━━━━━━━━━━━━━━━━━━━━━━━┩\n",
       "│ <span style=\"color: #7f7f7f; text-decoration-color: #7f7f7f\">int64</span>                  │\n",
       "├────────────────────────┤\n",
       "│                   <span style=\"color: #008080; text-decoration-color: #008080; font-weight: bold\">1450</span> │\n",
       "│                   <span style=\"color: #008080; text-decoration-color: #008080; font-weight: bold\">1915</span> │\n",
       "│                   <span style=\"color: #008080; text-decoration-color: #008080; font-weight: bold\">1591</span> │\n",
       "│                   <span style=\"color: #008080; text-decoration-color: #008080; font-weight: bold\">1811</span> │\n",
       "│                   <span style=\"color: #008080; text-decoration-color: #008080; font-weight: bold\">1454</span> │\n",
       "│                   <span style=\"color: #008080; text-decoration-color: #008080; font-weight: bold\">1200</span> │\n",
       "│                   <span style=\"color: #008080; text-decoration-color: #008080; font-weight: bold\">1948</span> │\n",
       "│                   <span style=\"color: #008080; text-decoration-color: #008080; font-weight: bold\">1642</span> │\n",
       "│                   <span style=\"color: #008080; text-decoration-color: #008080; font-weight: bold\">1556</span> │\n",
       "│                   <span style=\"color: #008080; text-decoration-color: #008080; font-weight: bold\">1443</span> │\n",
       "│                      <span style=\"color: #7f7f7f; text-decoration-color: #7f7f7f\">…</span> │\n",
       "└────────────────────────┘\n",
       "</pre>\n"
      ],
      "text/plain": [
       "┏━━━━━━━━━━━━━━━━━━━━━━━━┓\n",
       "┃\u001b[1m \u001b[0m\u001b[1mCast(black_elo, int64)\u001b[0m\u001b[1m \u001b[0m┃\n",
       "┡━━━━━━━━━━━━━━━━━━━━━━━━┩\n",
       "│ \u001b[2mint64\u001b[0m                  │\n",
       "├────────────────────────┤\n",
       "│                   \u001b[1;36m1450\u001b[0m │\n",
       "│                   \u001b[1;36m1915\u001b[0m │\n",
       "│                   \u001b[1;36m1591\u001b[0m │\n",
       "│                   \u001b[1;36m1811\u001b[0m │\n",
       "│                   \u001b[1;36m1454\u001b[0m │\n",
       "│                   \u001b[1;36m1200\u001b[0m │\n",
       "│                   \u001b[1;36m1948\u001b[0m │\n",
       "│                   \u001b[1;36m1642\u001b[0m │\n",
       "│                   \u001b[1;36m1556\u001b[0m │\n",
       "│                   \u001b[1;36m1443\u001b[0m │\n",
       "│                      \u001b[2m…\u001b[0m │\n",
       "└────────────────────────┘\n"
      ]
     },
     "execution_count": 39,
     "metadata": {},
     "output_type": "execute_result"
    }
   ],
   "source": [
    "%%time\n",
    "black_elo = games.black_elo.cast(int)\n",
    "game_level_features.append(black_elo.name(\"black_elo\"))\n",
    "black_elo.preview()"
   ]
  },
  {
   "cell_type": "code",
   "execution_count": 40,
   "id": "ea81f7a5-0dcf-4572-8436-d7d49cc1b476",
   "metadata": {},
   "outputs": [
    {
     "name": "stdout",
     "output_type": "stream",
     "text": [
      "CPU times: user 29 μs, sys: 0 ns, total: 29 μs\n",
      "Wall time: 54.6 μs\n"
     ]
    },
    {
     "data": {
      "text/html": [
       "<pre style=\"white-space:pre;overflow-x:auto;line-height:normal;font-family:Menlo,'DejaVu Sans Mono',consolas,'Courier New',monospace\">┏━━━━━━━━━━━━━━━━━━━━━━━━━━━━━━━━━━━━━━━━━━━━━━━━━━━━━━━━━━┓\n",
       "┃<span style=\"font-weight: bold\"> Subtract(Cast(white_elo, int64), Cast(black_elo, int64)) </span>┃\n",
       "┡━━━━━━━━━━━━━━━━━━━━━━━━━━━━━━━━━━━━━━━━━━━━━━━━━━━━━━━━━━┩\n",
       "│ <span style=\"color: #7f7f7f; text-decoration-color: #7f7f7f\">int64</span>                                                    │\n",
       "├──────────────────────────────────────────────────────────┤\n",
       "│                                                       <span style=\"color: #008080; text-decoration-color: #008080; font-weight: bold\">50</span> │\n",
       "│                                                       <span style=\"color: #008080; text-decoration-color: #008080; font-weight: bold\">38</span> │\n",
       "│                                                      <span style=\"color: #008080; text-decoration-color: #008080; font-weight: bold\">-75</span> │\n",
       "│                                                       <span style=\"color: #008080; text-decoration-color: #008080; font-weight: bold\">12</span> │\n",
       "│                                                      <span style=\"color: #008080; text-decoration-color: #008080; font-weight: bold\">-57</span> │\n",
       "│                                                       <span style=\"color: #008080; text-decoration-color: #008080; font-weight: bold\">17</span> │\n",
       "│                                                      <span style=\"color: #008080; text-decoration-color: #008080; font-weight: bold\">-12</span> │\n",
       "│                                                       <span style=\"color: #008080; text-decoration-color: #008080; font-weight: bold\">58</span> │\n",
       "│                                                      <span style=\"color: #008080; text-decoration-color: #008080; font-weight: bold\">-16</span> │\n",
       "│                                                       <span style=\"color: #008080; text-decoration-color: #008080; font-weight: bold\">26</span> │\n",
       "│                                                        <span style=\"color: #7f7f7f; text-decoration-color: #7f7f7f\">…</span> │\n",
       "└──────────────────────────────────────────────────────────┘\n",
       "</pre>\n"
      ],
      "text/plain": [
       "┏━━━━━━━━━━━━━━━━━━━━━━━━━━━━━━━━━━━━━━━━━━━━━━━━━━━━━━━━━━┓\n",
       "┃\u001b[1m \u001b[0m\u001b[1mSubtract(Cast(white_elo, int64), Cast(black_elo, int64))\u001b[0m\u001b[1m \u001b[0m┃\n",
       "┡━━━━━━━━━━━━━━━━━━━━━━━━━━━━━━━━━━━━━━━━━━━━━━━━━━━━━━━━━━┩\n",
       "│ \u001b[2mint64\u001b[0m                                                    │\n",
       "├──────────────────────────────────────────────────────────┤\n",
       "│                                                       \u001b[1;36m50\u001b[0m │\n",
       "│                                                       \u001b[1;36m38\u001b[0m │\n",
       "│                                                      \u001b[1;36m-75\u001b[0m │\n",
       "│                                                       \u001b[1;36m12\u001b[0m │\n",
       "│                                                      \u001b[1;36m-57\u001b[0m │\n",
       "│                                                       \u001b[1;36m17\u001b[0m │\n",
       "│                                                      \u001b[1;36m-12\u001b[0m │\n",
       "│                                                       \u001b[1;36m58\u001b[0m │\n",
       "│                                                      \u001b[1;36m-16\u001b[0m │\n",
       "│                                                       \u001b[1;36m26\u001b[0m │\n",
       "│                                                        \u001b[2m…\u001b[0m │\n",
       "└──────────────────────────────────────────────────────────┘\n"
      ]
     },
     "execution_count": 40,
     "metadata": {},
     "output_type": "execute_result"
    }
   ],
   "source": [
    "%time\n",
    "elo_diff = white_elo - black_elo\n",
    "game_level_features.append(elo_diff.name(\"elo_diff\"))\n",
    "elo_diff.preview()"
   ]
  },
  {
   "cell_type": "code",
   "execution_count": 41,
   "id": "db699afe-116f-42d3-915c-572a250c6ee7",
   "metadata": {},
   "outputs": [
    {
     "name": "stdout",
     "output_type": "stream",
     "text": [
      "CPU times: user 1min 14s, sys: 1min 54s, total: 3min 8s\n",
      "Wall time: 2.6 s\n"
     ]
    },
    {
     "data": {
      "text/html": [
       "<pre style=\"white-space:pre;overflow-x:auto;line-height:normal;font-family:Menlo,'DejaVu Sans Mono',consolas,'Courier New',monospace\">┏━━━━━━━━━━━━━━━━━━━━━━━━━━━━━━━━━━━━━━━━━━━━━━━━━━━━━━━━━━━━━━━┓\n",
       "┃<span style=\"font-weight: bold\"> Subtract(Cast(white_elo, int64), Lag(Cast(white_elo, int64))) </span>┃\n",
       "┡━━━━━━━━━━━━━━━━━━━━━━━━━━━━━━━━━━━━━━━━━━━━━━━━━━━━━━━━━━━━━━━┩\n",
       "│ <span style=\"color: #7f7f7f; text-decoration-color: #7f7f7f\">int64</span>                                                         │\n",
       "├───────────────────────────────────────────────────────────────┤\n",
       "│                                                          <span style=\"color: #7f7f7f; text-decoration-color: #7f7f7f\">NULL</span> │\n",
       "│                                                            <span style=\"color: #008080; text-decoration-color: #008080; font-weight: bold\">34</span> │\n",
       "│                                                           <span style=\"color: #008080; text-decoration-color: #008080; font-weight: bold\">-30</span> │\n",
       "│                                                          <span style=\"color: #7f7f7f; text-decoration-color: #7f7f7f\">NULL</span> │\n",
       "│                                                           <span style=\"color: #008080; text-decoration-color: #008080; font-weight: bold\">-24</span> │\n",
       "│                                                            <span style=\"color: #008080; text-decoration-color: #008080; font-weight: bold\">46</span> │\n",
       "│                                                          <span style=\"color: #7f7f7f; text-decoration-color: #7f7f7f\">NULL</span> │\n",
       "│                                                           <span style=\"color: #008080; text-decoration-color: #008080; font-weight: bold\">-26</span> │\n",
       "│                                                            <span style=\"color: #008080; text-decoration-color: #008080; font-weight: bold\">18</span> │\n",
       "│                                                             <span style=\"color: #008080; text-decoration-color: #008080; font-weight: bold\">0</span> │\n",
       "│                                                             <span style=\"color: #7f7f7f; text-decoration-color: #7f7f7f\">…</span> │\n",
       "└───────────────────────────────────────────────────────────────┘\n",
       "</pre>\n"
      ],
      "text/plain": [
       "┏━━━━━━━━━━━━━━━━━━━━━━━━━━━━━━━━━━━━━━━━━━━━━━━━━━━━━━━━━━━━━━━┓\n",
       "┃\u001b[1m \u001b[0m\u001b[1mSubtract(Cast(white_elo, int64), Lag(Cast(white_elo, int64)))\u001b[0m\u001b[1m \u001b[0m┃\n",
       "┡━━━━━━━━━━━━━━━━━━━━━━━━━━━━━━━━━━━━━━━━━━━━━━━━━━━━━━━━━━━━━━━┩\n",
       "│ \u001b[2mint64\u001b[0m                                                         │\n",
       "├───────────────────────────────────────────────────────────────┤\n",
       "│                                                          \u001b[2mNULL\u001b[0m │\n",
       "│                                                            \u001b[1;36m34\u001b[0m │\n",
       "│                                                           \u001b[1;36m-30\u001b[0m │\n",
       "│                                                          \u001b[2mNULL\u001b[0m │\n",
       "│                                                           \u001b[1;36m-24\u001b[0m │\n",
       "│                                                            \u001b[1;36m46\u001b[0m │\n",
       "│                                                          \u001b[2mNULL\u001b[0m │\n",
       "│                                                           \u001b[1;36m-26\u001b[0m │\n",
       "│                                                            \u001b[1;36m18\u001b[0m │\n",
       "│                                                             \u001b[1;36m0\u001b[0m │\n",
       "│                                                             \u001b[2m…\u001b[0m │\n",
       "└───────────────────────────────────────────────────────────────┘\n"
      ]
     },
     "execution_count": 41,
     "metadata": {},
     "output_type": "execute_result"
    }
   ],
   "source": [
    "%%time\n",
    "white_elo_gained_since_previous_game = white_elo - white_elo.lag().over(\n",
    "    ibis.window(\n",
    "        group_by=[white_user_id, lichess_time_control_type], order_by=utc_timestamp\n",
    "    )\n",
    ")\n",
    "game_level_features.append(\n",
    "    white_elo_gained_since_previous_game.name(\"white_elo_gained_since_previous_game\")\n",
    ")\n",
    "white_elo_gained_since_previous_game.preview()"
   ]
  },
  {
   "cell_type": "code",
   "execution_count": 42,
   "id": "e4ef42ba-ac1d-41f4-894d-bb1c0756f312",
   "metadata": {},
   "outputs": [
    {
     "data": {
      "text/html": [
       "<pre style=\"white-space:pre;overflow-x:auto;line-height:normal;font-family:Menlo,'DejaVu Sans Mono',consolas,'Courier New',monospace\">┏━━━━━━━━━━━━━━━━━━━━━━━━━━━━━━━━━━━━━━━━━━━━━━━━━━━━━━━━━━━━━━━┓\n",
       "┃<span style=\"font-weight: bold\"> Subtract(Cast(black_elo, int64), Lag(Cast(black_elo, int64))) </span>┃\n",
       "┡━━━━━━━━━━━━━━━━━━━━━━━━━━━━━━━━━━━━━━━━━━━━━━━━━━━━━━━━━━━━━━━┩\n",
       "│ <span style=\"color: #7f7f7f; text-decoration-color: #7f7f7f\">int64</span>                                                         │\n",
       "├───────────────────────────────────────────────────────────────┤\n",
       "│                                                          <span style=\"color: #7f7f7f; text-decoration-color: #7f7f7f\">NULL</span> │\n",
       "│                                                            <span style=\"color: #008080; text-decoration-color: #008080; font-weight: bold\">36</span> │\n",
       "│                                                           <span style=\"color: #008080; text-decoration-color: #008080; font-weight: bold\">-20</span> │\n",
       "│                                                          <span style=\"color: #7f7f7f; text-decoration-color: #7f7f7f\">NULL</span> │\n",
       "│                                                            <span style=\"color: #008080; text-decoration-color: #008080; font-weight: bold\">26</span> │\n",
       "│                                                            <span style=\"color: #008080; text-decoration-color: #008080; font-weight: bold\">41</span> │\n",
       "│                                                          <span style=\"color: #7f7f7f; text-decoration-color: #7f7f7f\">NULL</span> │\n",
       "│                                                             <span style=\"color: #008080; text-decoration-color: #008080; font-weight: bold\">7</span> │\n",
       "│                                                             <span style=\"color: #008080; text-decoration-color: #008080; font-weight: bold\">0</span> │\n",
       "│                                                           <span style=\"color: #008080; text-decoration-color: #008080; font-weight: bold\">-16</span> │\n",
       "│                                                             <span style=\"color: #7f7f7f; text-decoration-color: #7f7f7f\">…</span> │\n",
       "└───────────────────────────────────────────────────────────────┘\n",
       "</pre>\n"
      ],
      "text/plain": [
       "┏━━━━━━━━━━━━━━━━━━━━━━━━━━━━━━━━━━━━━━━━━━━━━━━━━━━━━━━━━━━━━━━┓\n",
       "┃\u001b[1m \u001b[0m\u001b[1mSubtract(Cast(black_elo, int64), Lag(Cast(black_elo, int64)))\u001b[0m\u001b[1m \u001b[0m┃\n",
       "┡━━━━━━━━━━━━━━━━━━━━━━━━━━━━━━━━━━━━━━━━━━━━━━━━━━━━━━━━━━━━━━━┩\n",
       "│ \u001b[2mint64\u001b[0m                                                         │\n",
       "├───────────────────────────────────────────────────────────────┤\n",
       "│                                                          \u001b[2mNULL\u001b[0m │\n",
       "│                                                            \u001b[1;36m36\u001b[0m │\n",
       "│                                                           \u001b[1;36m-20\u001b[0m │\n",
       "│                                                          \u001b[2mNULL\u001b[0m │\n",
       "│                                                            \u001b[1;36m26\u001b[0m │\n",
       "│                                                            \u001b[1;36m41\u001b[0m │\n",
       "│                                                          \u001b[2mNULL\u001b[0m │\n",
       "│                                                             \u001b[1;36m7\u001b[0m │\n",
       "│                                                             \u001b[1;36m0\u001b[0m │\n",
       "│                                                           \u001b[1;36m-16\u001b[0m │\n",
       "│                                                             \u001b[2m…\u001b[0m │\n",
       "└───────────────────────────────────────────────────────────────┘\n"
      ]
     },
     "execution_count": 42,
     "metadata": {},
     "output_type": "execute_result"
    }
   ],
   "source": [
    "black_elo_gained_since_previous_game = black_elo - black_elo.lag().over(\n",
    "    ibis.window(\n",
    "        group_by=[black_user_id, lichess_time_control_type], order_by=utc_timestamp\n",
    "    )\n",
    ")\n",
    "game_level_features.append(\n",
    "    black_elo_gained_since_previous_game.name(\"black_elo_gained_since_previous_game\")\n",
    ")\n",
    "black_elo_gained_since_previous_game.preview()"
   ]
  },
  {
   "cell_type": "markdown",
   "id": "0037ba02-4794-4870-8189-5795f58672c3",
   "metadata": {},
   "source": [
    "It would be interesting to compute RD to gauge the rating reliability/volatility, too."
   ]
  },
  {
   "cell_type": "markdown",
   "id": "acbb4197-f9ae-485f-b3b4-9760f4053e43",
   "metadata": {},
   "source": [
    "## Title features"
   ]
  },
  {
   "cell_type": "code",
   "execution_count": 43,
   "id": "d20b5a0c-d54f-443e-9dd5-b589a5078a28",
   "metadata": {},
   "outputs": [
    {
     "name": "stdout",
     "output_type": "stream",
     "text": [
      "CPU times: user 612 ms, sys: 86.9 ms, total: 699 ms\n",
      "Wall time: 32.7 ms\n"
     ]
    },
    {
     "data": {
      "text/html": [
       "<pre style=\"white-space:pre;overflow-x:auto;line-height:normal;font-family:Menlo,'DejaVu Sans Mono',consolas,'Courier New',monospace\">┏━━━━━━━━━━━━━┳━━━━━━━━━━━━━━━━━━━┓\n",
       "┃<span style=\"font-weight: bold\"> white_title </span>┃<span style=\"font-weight: bold\"> white_title_count </span>┃\n",
       "┡━━━━━━━━━━━━━╇━━━━━━━━━━━━━━━━━━━┩\n",
       "│ <span style=\"color: #7f7f7f; text-decoration-color: #7f7f7f\">string</span>      │ <span style=\"color: #7f7f7f; text-decoration-color: #7f7f7f\">int64</span>             │\n",
       "├─────────────┼───────────────────┤\n",
       "│ <span style=\"color: #008000; text-decoration-color: #008000\">WNM        </span> │                <span style=\"color: #008080; text-decoration-color: #008080; font-weight: bold\">12</span> │\n",
       "│ <span style=\"color: #008000; text-decoration-color: #008000\">FM         </span> │             <span style=\"color: #008080; text-decoration-color: #008080; font-weight: bold\">54711</span> │\n",
       "│ <span style=\"color: #008000; text-decoration-color: #008000\">WFM        </span> │              <span style=\"color: #008080; text-decoration-color: #008080; font-weight: bold\">3460</span> │\n",
       "│ <span style=\"color: #7f7f7f; text-decoration-color: #7f7f7f\">NULL</span>        │           <span style=\"color: #008080; text-decoration-color: #008080; font-weight: bold\">7974195</span> │\n",
       "│ <span style=\"color: #008000; text-decoration-color: #008000\">IM         </span> │             <span style=\"color: #008080; text-decoration-color: #008080; font-weight: bold\">28012</span> │\n",
       "│ <span style=\"color: #008000; text-decoration-color: #008000\">GM         </span> │             <span style=\"color: #008080; text-decoration-color: #008080; font-weight: bold\">10620</span> │\n",
       "│ <span style=\"color: #008000; text-decoration-color: #008000\">LM         </span> │              <span style=\"color: #008080; text-decoration-color: #008080; font-weight: bold\">1288</span> │\n",
       "│ <span style=\"color: #008000; text-decoration-color: #008000\">BOT        </span> │              <span style=\"color: #008080; text-decoration-color: #008080; font-weight: bold\">3291</span> │\n",
       "│ <span style=\"color: #008000; text-decoration-color: #008000\">WGM        </span> │               <span style=\"color: #008080; text-decoration-color: #008080; font-weight: bold\">541</span> │\n",
       "│ <span style=\"color: #008000; text-decoration-color: #008000\">WCM        </span> │              <span style=\"color: #008080; text-decoration-color: #008080; font-weight: bold\">1292</span> │\n",
       "│ <span style=\"color: #7f7f7f; text-decoration-color: #7f7f7f\">…</span>           │                 <span style=\"color: #7f7f7f; text-decoration-color: #7f7f7f\">…</span> │\n",
       "└─────────────┴───────────────────┘\n",
       "</pre>\n"
      ],
      "text/plain": [
       "┏━━━━━━━━━━━━━┳━━━━━━━━━━━━━━━━━━━┓\n",
       "┃\u001b[1m \u001b[0m\u001b[1mwhite_title\u001b[0m\u001b[1m \u001b[0m┃\u001b[1m \u001b[0m\u001b[1mwhite_title_count\u001b[0m\u001b[1m \u001b[0m┃\n",
       "┡━━━━━━━━━━━━━╇━━━━━━━━━━━━━━━━━━━┩\n",
       "│ \u001b[2mstring\u001b[0m      │ \u001b[2mint64\u001b[0m             │\n",
       "├─────────────┼───────────────────┤\n",
       "│ \u001b[32mWNM        \u001b[0m │                \u001b[1;36m12\u001b[0m │\n",
       "│ \u001b[32mFM         \u001b[0m │             \u001b[1;36m54711\u001b[0m │\n",
       "│ \u001b[32mWFM        \u001b[0m │              \u001b[1;36m3460\u001b[0m │\n",
       "│ \u001b[2mNULL\u001b[0m        │           \u001b[1;36m7974195\u001b[0m │\n",
       "│ \u001b[32mIM         \u001b[0m │             \u001b[1;36m28012\u001b[0m │\n",
       "│ \u001b[32mGM         \u001b[0m │             \u001b[1;36m10620\u001b[0m │\n",
       "│ \u001b[32mLM         \u001b[0m │              \u001b[1;36m1288\u001b[0m │\n",
       "│ \u001b[32mBOT        \u001b[0m │              \u001b[1;36m3291\u001b[0m │\n",
       "│ \u001b[32mWGM        \u001b[0m │               \u001b[1;36m541\u001b[0m │\n",
       "│ \u001b[32mWCM        \u001b[0m │              \u001b[1;36m1292\u001b[0m │\n",
       "│ \u001b[2m…\u001b[0m           │                 \u001b[2m…\u001b[0m │\n",
       "└─────────────┴───────────────────┘\n"
      ]
     },
     "execution_count": 43,
     "metadata": {},
     "output_type": "execute_result"
    }
   ],
   "source": [
    "%%time\n",
    "white_title = games.white_title\n",
    "game_level_features.append(white_title.name(\"white_title\"))\n",
    "white_title.value_counts().preview()"
   ]
  },
  {
   "cell_type": "code",
   "execution_count": 44,
   "id": "154f9631-26c9-4db2-99db-e8e919f5caa2",
   "metadata": {},
   "outputs": [
    {
     "name": "stdout",
     "output_type": "stream",
     "text": [
      "CPU times: user 555 ms, sys: 18.2 ms, total: 573 ms\n",
      "Wall time: 27.1 ms\n"
     ]
    },
    {
     "data": {
      "text/html": [
       "<pre style=\"white-space:pre;overflow-x:auto;line-height:normal;font-family:Menlo,'DejaVu Sans Mono',consolas,'Courier New',monospace\">┏━━━━━━━━━━━━━┳━━━━━━━━━━━━━━━━━━━┓\n",
       "┃<span style=\"font-weight: bold\"> black_title </span>┃<span style=\"font-weight: bold\"> black_title_count </span>┃\n",
       "┡━━━━━━━━━━━━━╇━━━━━━━━━━━━━━━━━━━┩\n",
       "│ <span style=\"color: #7f7f7f; text-decoration-color: #7f7f7f\">string</span>      │ <span style=\"color: #7f7f7f; text-decoration-color: #7f7f7f\">int64</span>             │\n",
       "├─────────────┼───────────────────┤\n",
       "│ <span style=\"color: #008000; text-decoration-color: #008000\">WNM        </span> │                 <span style=\"color: #008080; text-decoration-color: #008080; font-weight: bold\">8</span> │\n",
       "│ <span style=\"color: #008000; text-decoration-color: #008000\">WFM        </span> │              <span style=\"color: #008080; text-decoration-color: #008080; font-weight: bold\">3436</span> │\n",
       "│ <span style=\"color: #008000; text-decoration-color: #008000\">NM         </span> │             <span style=\"color: #008080; text-decoration-color: #008080; font-weight: bold\">20766</span> │\n",
       "│ <span style=\"color: #008000; text-decoration-color: #008000\">WCM        </span> │              <span style=\"color: #008080; text-decoration-color: #008080; font-weight: bold\">1266</span> │\n",
       "│ <span style=\"color: #008000; text-decoration-color: #008000\">WIM        </span> │              <span style=\"color: #008080; text-decoration-color: #008080; font-weight: bold\">1332</span> │\n",
       "│ <span style=\"color: #008000; text-decoration-color: #008000\">CM         </span> │             <span style=\"color: #008080; text-decoration-color: #008080; font-weight: bold\">23905</span> │\n",
       "│ <span style=\"color: #008000; text-decoration-color: #008000\">FM         </span> │             <span style=\"color: #008080; text-decoration-color: #008080; font-weight: bold\">54826</span> │\n",
       "│ <span style=\"color: #7f7f7f; text-decoration-color: #7f7f7f\">NULL</span>        │           <span style=\"color: #008080; text-decoration-color: #008080; font-weight: bold\">7973251</span> │\n",
       "│ <span style=\"color: #008000; text-decoration-color: #008000\">IM         </span> │             <span style=\"color: #008080; text-decoration-color: #008080; font-weight: bold\">28102</span> │\n",
       "│ <span style=\"color: #008000; text-decoration-color: #008000\">GM         </span> │             <span style=\"color: #008080; text-decoration-color: #008080; font-weight: bold\">10569</span> │\n",
       "│ <span style=\"color: #7f7f7f; text-decoration-color: #7f7f7f\">…</span>           │                 <span style=\"color: #7f7f7f; text-decoration-color: #7f7f7f\">…</span> │\n",
       "└─────────────┴───────────────────┘\n",
       "</pre>\n"
      ],
      "text/plain": [
       "┏━━━━━━━━━━━━━┳━━━━━━━━━━━━━━━━━━━┓\n",
       "┃\u001b[1m \u001b[0m\u001b[1mblack_title\u001b[0m\u001b[1m \u001b[0m┃\u001b[1m \u001b[0m\u001b[1mblack_title_count\u001b[0m\u001b[1m \u001b[0m┃\n",
       "┡━━━━━━━━━━━━━╇━━━━━━━━━━━━━━━━━━━┩\n",
       "│ \u001b[2mstring\u001b[0m      │ \u001b[2mint64\u001b[0m             │\n",
       "├─────────────┼───────────────────┤\n",
       "│ \u001b[32mWNM        \u001b[0m │                 \u001b[1;36m8\u001b[0m │\n",
       "│ \u001b[32mWFM        \u001b[0m │              \u001b[1;36m3436\u001b[0m │\n",
       "│ \u001b[32mNM         \u001b[0m │             \u001b[1;36m20766\u001b[0m │\n",
       "│ \u001b[32mWCM        \u001b[0m │              \u001b[1;36m1266\u001b[0m │\n",
       "│ \u001b[32mWIM        \u001b[0m │              \u001b[1;36m1332\u001b[0m │\n",
       "│ \u001b[32mCM         \u001b[0m │             \u001b[1;36m23905\u001b[0m │\n",
       "│ \u001b[32mFM         \u001b[0m │             \u001b[1;36m54826\u001b[0m │\n",
       "│ \u001b[2mNULL\u001b[0m        │           \u001b[1;36m7973251\u001b[0m │\n",
       "│ \u001b[32mIM         \u001b[0m │             \u001b[1;36m28102\u001b[0m │\n",
       "│ \u001b[32mGM         \u001b[0m │             \u001b[1;36m10569\u001b[0m │\n",
       "│ \u001b[2m…\u001b[0m           │                 \u001b[2m…\u001b[0m │\n",
       "└─────────────┴───────────────────┘\n"
      ]
     },
     "execution_count": 44,
     "metadata": {},
     "output_type": "execute_result"
    }
   ],
   "source": [
    "%%time\n",
    "black_title = games.black_title\n",
    "game_level_features.append(black_title.name(\"black_title\"))\n",
    "black_title.value_counts().preview()"
   ]
  },
  {
   "cell_type": "code",
   "execution_count": 45,
   "id": "5c142264-58fa-4ae2-9fc8-b1a113b3e23f",
   "metadata": {},
   "outputs": [
    {
     "name": "stdout",
     "output_type": "stream",
     "text": [
      "CPU times: user 20.7 ms, sys: 22 μs, total: 20.7 ms\n",
      "Wall time: 19.9 ms\n"
     ]
    },
    {
     "data": {
      "text/html": [
       "<pre style=\"white-space:pre;overflow-x:auto;line-height:normal;font-family:Menlo,'DejaVu Sans Mono',consolas,'Courier New',monospace\">┏━━━━━━━━━━━━━━━━━━━━━━━━━━━━━━┳━━━━━━━━━━┳━━━━━━━━━━━━━━━┳━━━━━━━━━━━━━━━━━━━━━━━━━━━┳━━━━━━━━━━━━━━━━━━━━━━┳━━━━━━━━━━━━━━━━━━━━┳━━━━━━━━━━━━━━━━━━━━━━━━━━━┳━━━━━━━━━━━━━━━━━━━━━━━━━━━━━━━━━━━┳━━━━━━━━━━━━━━━━━━━━━━━━━━━━━━━━━━━┳━━━━━━━━━━━━━━━━━━━━━━━━━━┳━━━━━━━━━━━━━━━━━━━━━━━━━━┳━━━━━━━━━━━━━━━━━━━━━━━━━┳━━━━━━━━━━━━━━━━━━━━━━━━━┳━━━━━━━━━━━━━━━━━━━━━━━━━━┳━━━━━━━━━━━━━━━━━━━━━━━━━━┳━━━━━━━━━━━┳━━━━━━━━━━━┳━━━━━━━━━━┳━━━━━━━━━━━━━━━━━━━━━━━━━━━━━━━━━━━━━━┳━━━━━━━━━━━━━━━━━━━━━━━━━━━━━━━━━━━━━━┳━━━━━━━━━━━━━┳━━━━━━━━━━━━━┓\n",
       "┃<span style=\"font-weight: bold\"> site                         </span>┃<span style=\"font-weight: bold\"> is_rated </span>┃<span style=\"font-weight: bold\"> is_tournament </span>┃<span style=\"font-weight: bold\"> lichess_time_control_type </span>┃<span style=\"font-weight: bold\"> white_user_id        </span>┃<span style=\"font-weight: bold\"> black_user_id      </span>┃<span style=\"font-weight: bold\"> utc_timestamp             </span>┃<span style=\"font-weight: bold\"> white_seconds_since_previous_game </span>┃<span style=\"font-weight: bold\"> black_seconds_since_previous_game </span>┃<span style=\"font-weight: bold\"> white_games_in_last_hour </span>┃<span style=\"font-weight: bold\"> black_games_in_last_hour </span>┃<span style=\"font-weight: bold\"> white_games_in_last_day </span>┃<span style=\"font-weight: bold\"> black_games_in_last_day </span>┃<span style=\"font-weight: bold\"> white_games_in_last_week </span>┃<span style=\"font-weight: bold\"> black_games_in_last_week </span>┃<span style=\"font-weight: bold\"> white_elo </span>┃<span style=\"font-weight: bold\"> black_elo </span>┃<span style=\"font-weight: bold\"> elo_diff </span>┃<span style=\"font-weight: bold\"> white_elo_gained_since_previous_game </span>┃<span style=\"font-weight: bold\"> black_elo_gained_since_previous_game </span>┃<span style=\"font-weight: bold\"> white_title </span>┃<span style=\"font-weight: bold\"> black_title </span>┃\n",
       "┡━━━━━━━━━━━━━━━━━━━━━━━━━━━━━━╇━━━━━━━━━━╇━━━━━━━━━━━━━━━╇━━━━━━━━━━━━━━━━━━━━━━━━━━━╇━━━━━━━━━━━━━━━━━━━━━━╇━━━━━━━━━━━━━━━━━━━━╇━━━━━━━━━━━━━━━━━━━━━━━━━━━╇━━━━━━━━━━━━━━━━━━━━━━━━━━━━━━━━━━━╇━━━━━━━━━━━━━━━━━━━━━━━━━━━━━━━━━━━╇━━━━━━━━━━━━━━━━━━━━━━━━━━╇━━━━━━━━━━━━━━━━━━━━━━━━━━╇━━━━━━━━━━━━━━━━━━━━━━━━━╇━━━━━━━━━━━━━━━━━━━━━━━━━╇━━━━━━━━━━━━━━━━━━━━━━━━━━╇━━━━━━━━━━━━━━━━━━━━━━━━━━╇━━━━━━━━━━━╇━━━━━━━━━━━╇━━━━━━━━━━╇━━━━━━━━━━━━━━━━━━━━━━━━━━━━━━━━━━━━━━╇━━━━━━━━━━━━━━━━━━━━━━━━━━━━━━━━━━━━━━╇━━━━━━━━━━━━━╇━━━━━━━━━━━━━┩\n",
       "│ <span style=\"color: #7f7f7f; text-decoration-color: #7f7f7f\">string</span>                       │ <span style=\"color: #7f7f7f; text-decoration-color: #7f7f7f\">boolean</span>  │ <span style=\"color: #7f7f7f; text-decoration-color: #7f7f7f\">boolean</span>       │ <span style=\"color: #7f7f7f; text-decoration-color: #7f7f7f\">string</span>                    │ <span style=\"color: #7f7f7f; text-decoration-color: #7f7f7f\">string</span>               │ <span style=\"color: #7f7f7f; text-decoration-color: #7f7f7f\">string</span>             │ <span style=\"color: #7f7f7f; text-decoration-color: #7f7f7f\">timestamp('UTC')</span>          │ <span style=\"color: #7f7f7f; text-decoration-color: #7f7f7f\">int64</span>                             │ <span style=\"color: #7f7f7f; text-decoration-color: #7f7f7f\">int64</span>                             │ <span style=\"color: #7f7f7f; text-decoration-color: #7f7f7f\">int64</span>                    │ <span style=\"color: #7f7f7f; text-decoration-color: #7f7f7f\">int64</span>                    │ <span style=\"color: #7f7f7f; text-decoration-color: #7f7f7f\">int64</span>                   │ <span style=\"color: #7f7f7f; text-decoration-color: #7f7f7f\">int64</span>                   │ <span style=\"color: #7f7f7f; text-decoration-color: #7f7f7f\">int64</span>                    │ <span style=\"color: #7f7f7f; text-decoration-color: #7f7f7f\">int64</span>                    │ <span style=\"color: #7f7f7f; text-decoration-color: #7f7f7f\">int64</span>     │ <span style=\"color: #7f7f7f; text-decoration-color: #7f7f7f\">int64</span>     │ <span style=\"color: #7f7f7f; text-decoration-color: #7f7f7f\">int64</span>    │ <span style=\"color: #7f7f7f; text-decoration-color: #7f7f7f\">int64</span>                                │ <span style=\"color: #7f7f7f; text-decoration-color: #7f7f7f\">int64</span>                                │ <span style=\"color: #7f7f7f; text-decoration-color: #7f7f7f\">string</span>      │ <span style=\"color: #7f7f7f; text-decoration-color: #7f7f7f\">string</span>      │\n",
       "├──────────────────────────────┼──────────┼───────────────┼───────────────────────────┼──────────────────────┼────────────────────┼───────────────────────────┼───────────────────────────────────┼───────────────────────────────────┼──────────────────────────┼──────────────────────────┼─────────────────────────┼─────────────────────────┼──────────────────────────┼──────────────────────────┼───────────┼───────────┼──────────┼──────────────────────────────────────┼──────────────────────────────────────┼─────────────┼─────────────┤\n",
       "│ <a href=\"https://lichess.org/MMfaRG36\" target=\"_blank\"><span style=\"color: #008000; text-decoration-color: #008000\">https://lichess.org/MMfaRG36</span></a> │ True     │ False         │ <span style=\"color: #008000; text-decoration-color: #008000\">Bullet                   </span> │ <span style=\"color: #008000; text-decoration-color: #008000\">blunderbuffet       </span> │ <span style=\"color: #008000; text-decoration-color: #008000\">antoniogonsalves98</span> │ <span style=\"color: #800080; text-decoration-color: #800080\">2024-07-17 07:22:56+00:00</span> │                             <span style=\"color: #008080; text-decoration-color: #008080; font-weight: bold\">44024</span> │                             <span style=\"color: #008080; text-decoration-color: #008080; font-weight: bold\">52979</span> │                        <span style=\"color: #008080; text-decoration-color: #008080; font-weight: bold\">1</span> │                        <span style=\"color: #008080; text-decoration-color: #008080; font-weight: bold\">1</span> │                       <span style=\"color: #008080; text-decoration-color: #008080; font-weight: bold\">3</span> │                       <span style=\"color: #008080; text-decoration-color: #008080; font-weight: bold\">4</span> │                       <span style=\"color: #008080; text-decoration-color: #008080; font-weight: bold\">11</span> │                       <span style=\"color: #008080; text-decoration-color: #008080; font-weight: bold\">10</span> │      <span style=\"color: #008080; text-decoration-color: #008080; font-weight: bold\">1957</span> │      <span style=\"color: #008080; text-decoration-color: #008080; font-weight: bold\">1972</span> │      <span style=\"color: #008080; text-decoration-color: #008080; font-weight: bold\">-15</span> │                                   <span style=\"color: #008080; text-decoration-color: #008080; font-weight: bold\">78</span> │                                  <span style=\"color: #008080; text-decoration-color: #008080; font-weight: bold\">-63</span> │ <span style=\"color: #7f7f7f; text-decoration-color: #7f7f7f\">NULL</span>        │ <span style=\"color: #7f7f7f; text-decoration-color: #7f7f7f\">NULL</span>        │\n",
       "│ <a href=\"https://lichess.org/EYi4qOeS\" target=\"_blank\"><span style=\"color: #008000; text-decoration-color: #008000\">https://lichess.org/EYi4qOeS</span></a> │ True     │ False         │ <span style=\"color: #008000; text-decoration-color: #008000\">Bullet                   </span> │ <span style=\"color: #008000; text-decoration-color: #008000\">letsdotheprocedure00</span> │ <span style=\"color: #008000; text-decoration-color: #008000\">antoniogonsalves98</span> │ <span style=\"color: #800080; text-decoration-color: #800080\">2024-07-20 22:56:37+00:00</span> │                              <span style=\"color: #7f7f7f; text-decoration-color: #7f7f7f\">NULL</span> │                            <span style=\"color: #008080; text-decoration-color: #008080; font-weight: bold\">198856</span> │                        <span style=\"color: #008080; text-decoration-color: #008080; font-weight: bold\">1</span> │                        <span style=\"color: #008080; text-decoration-color: #008080; font-weight: bold\">1</span> │                       <span style=\"color: #008080; text-decoration-color: #008080; font-weight: bold\">1</span> │                       <span style=\"color: #008080; text-decoration-color: #008080; font-weight: bold\">1</span> │                        <span style=\"color: #008080; text-decoration-color: #008080; font-weight: bold\">1</span> │                        <span style=\"color: #008080; text-decoration-color: #008080; font-weight: bold\">9</span> │      <span style=\"color: #008080; text-decoration-color: #008080; font-weight: bold\">2027</span> │      <span style=\"color: #008080; text-decoration-color: #008080; font-weight: bold\">1976</span> │       <span style=\"color: #008080; text-decoration-color: #008080; font-weight: bold\">51</span> │                                 <span style=\"color: #7f7f7f; text-decoration-color: #7f7f7f\">NULL</span> │                                    <span style=\"color: #008080; text-decoration-color: #008080; font-weight: bold\">4</span> │ <span style=\"color: #7f7f7f; text-decoration-color: #7f7f7f\">NULL</span>        │ <span style=\"color: #7f7f7f; text-decoration-color: #7f7f7f\">NULL</span>        │\n",
       "│ <a href=\"https://lichess.org/qP7asWif\" target=\"_blank\"><span style=\"color: #008000; text-decoration-color: #008000\">https://lichess.org/qP7asWif</span></a> │ True     │ True          │ <span style=\"color: #008000; text-decoration-color: #008000\">Bullet                   </span> │ <span style=\"color: #008000; text-decoration-color: #008000\">maelru              </span> │ <span style=\"color: #008000; text-decoration-color: #008000\">antoniogonsalves98</span> │ <span style=\"color: #800080; text-decoration-color: #800080\">2024-07-21 03:38:17+00:00</span> │                            <span style=\"color: #008080; text-decoration-color: #008080; font-weight: bold\">202724</span> │                             <span style=\"color: #008080; text-decoration-color: #008080; font-weight: bold\">16900</span> │                        <span style=\"color: #008080; text-decoration-color: #008080; font-weight: bold\">1</span> │                        <span style=\"color: #008080; text-decoration-color: #008080; font-weight: bold\">1</span> │                       <span style=\"color: #008080; text-decoration-color: #008080; font-weight: bold\">1</span> │                       <span style=\"color: #008080; text-decoration-color: #008080; font-weight: bold\">2</span> │                        <span style=\"color: #008080; text-decoration-color: #008080; font-weight: bold\">3</span> │                       <span style=\"color: #008080; text-decoration-color: #008080; font-weight: bold\">10</span> │      <span style=\"color: #008080; text-decoration-color: #008080; font-weight: bold\">2469</span> │      <span style=\"color: #008080; text-decoration-color: #008080; font-weight: bold\">2015</span> │      <span style=\"color: #008080; text-decoration-color: #008080; font-weight: bold\">454</span> │                                   <span style=\"color: #008080; text-decoration-color: #008080; font-weight: bold\">19</span> │                                   <span style=\"color: #008080; text-decoration-color: #008080; font-weight: bold\">39</span> │ <span style=\"color: #7f7f7f; text-decoration-color: #7f7f7f\">NULL</span>        │ <span style=\"color: #7f7f7f; text-decoration-color: #7f7f7f\">NULL</span>        │\n",
       "│ <a href=\"https://lichess.org/MzVDgKoZ\" target=\"_blank\"><span style=\"color: #008000; text-decoration-color: #008000\">https://lichess.org/MzVDgKoZ</span></a> │ True     │ False         │ <span style=\"color: #008000; text-decoration-color: #008000\">Blitz                    </span> │ <span style=\"color: #008000; text-decoration-color: #008000\">ralphpatapat        </span> │ <span style=\"color: #008000; text-decoration-color: #008000\">antonlv           </span> │ <span style=\"color: #800080; text-decoration-color: #800080\">2024-07-07 14:28:59+00:00</span> │                             <span style=\"color: #008080; text-decoration-color: #008080; font-weight: bold\">49678</span> │                              <span style=\"color: #7f7f7f; text-decoration-color: #7f7f7f\">NULL</span> │                        <span style=\"color: #008080; text-decoration-color: #008080; font-weight: bold\">1</span> │                        <span style=\"color: #008080; text-decoration-color: #008080; font-weight: bold\">1</span> │                       <span style=\"color: #008080; text-decoration-color: #008080; font-weight: bold\">3</span> │                       <span style=\"color: #008080; text-decoration-color: #008080; font-weight: bold\">1</span> │                        <span style=\"color: #008080; text-decoration-color: #008080; font-weight: bold\">3</span> │                        <span style=\"color: #008080; text-decoration-color: #008080; font-weight: bold\">1</span> │      <span style=\"color: #008080; text-decoration-color: #008080; font-weight: bold\">1229</span> │      <span style=\"color: #008080; text-decoration-color: #008080; font-weight: bold\">1227</span> │        <span style=\"color: #008080; text-decoration-color: #008080; font-weight: bold\">2</span> │                                   <span style=\"color: #008080; text-decoration-color: #008080; font-weight: bold\">73</span> │                                 <span style=\"color: #7f7f7f; text-decoration-color: #7f7f7f\">NULL</span> │ <span style=\"color: #7f7f7f; text-decoration-color: #7f7f7f\">NULL</span>        │ <span style=\"color: #7f7f7f; text-decoration-color: #7f7f7f\">NULL</span>        │\n",
       "│ <a href=\"https://lichess.org/NTE5A8b3\" target=\"_blank\"><span style=\"color: #008000; text-decoration-color: #008000\">https://lichess.org/NTE5A8b3</span></a> │ True     │ False         │ <span style=\"color: #008000; text-decoration-color: #008000\">Blitz                    </span> │ <span style=\"color: #008000; text-decoration-color: #008000\">l1kyuu              </span> │ <span style=\"color: #008000; text-decoration-color: #008000\">antonlv           </span> │ <span style=\"color: #800080; text-decoration-color: #800080\">2024-07-07 14:49:04+00:00</span> │                            <span style=\"color: #008080; text-decoration-color: #008080; font-weight: bold\">438154</span> │                              <span style=\"color: #008080; text-decoration-color: #008080; font-weight: bold\">1205</span> │                        <span style=\"color: #008080; text-decoration-color: #008080; font-weight: bold\">1</span> │                        <span style=\"color: #008080; text-decoration-color: #008080; font-weight: bold\">2</span> │                       <span style=\"color: #008080; text-decoration-color: #008080; font-weight: bold\">1</span> │                       <span style=\"color: #008080; text-decoration-color: #008080; font-weight: bold\">2</span> │                        <span style=\"color: #008080; text-decoration-color: #008080; font-weight: bold\">5</span> │                        <span style=\"color: #008080; text-decoration-color: #008080; font-weight: bold\">2</span> │      <span style=\"color: #008080; text-decoration-color: #008080; font-weight: bold\">1174</span> │      <span style=\"color: #008080; text-decoration-color: #008080; font-weight: bold\">1228</span> │      <span style=\"color: #008080; text-decoration-color: #008080; font-weight: bold\">-54</span> │                                  <span style=\"color: #008080; text-decoration-color: #008080; font-weight: bold\">-33</span> │                                    <span style=\"color: #008080; text-decoration-color: #008080; font-weight: bold\">1</span> │ <span style=\"color: #7f7f7f; text-decoration-color: #7f7f7f\">NULL</span>        │ <span style=\"color: #7f7f7f; text-decoration-color: #7f7f7f\">NULL</span>        │\n",
       "│ <a href=\"https://lichess.org/oHsliHWh\" target=\"_blank\"><span style=\"color: #008000; text-decoration-color: #008000\">https://lichess.org/oHsliHWh</span></a> │ True     │ False         │ <span style=\"color: #008000; text-decoration-color: #008000\">Blitz                    </span> │ <span style=\"color: #008000; text-decoration-color: #008000\">maher0007           </span> │ <span style=\"color: #008000; text-decoration-color: #008000\">antonlv           </span> │ <span style=\"color: #800080; text-decoration-color: #800080\">2024-07-08 17:02:42+00:00</span> │                            <span style=\"color: #008080; text-decoration-color: #008080; font-weight: bold\">333020</span> │                             <span style=\"color: #008080; text-decoration-color: #008080; font-weight: bold\">94418</span> │                        <span style=\"color: #008080; text-decoration-color: #008080; font-weight: bold\">1</span> │                        <span style=\"color: #008080; text-decoration-color: #008080; font-weight: bold\">1</span> │                       <span style=\"color: #008080; text-decoration-color: #008080; font-weight: bold\">1</span> │                       <span style=\"color: #008080; text-decoration-color: #008080; font-weight: bold\">1</span> │                        <span style=\"color: #008080; text-decoration-color: #008080; font-weight: bold\">2</span> │                        <span style=\"color: #008080; text-decoration-color: #008080; font-weight: bold\">3</span> │      <span style=\"color: #008080; text-decoration-color: #008080; font-weight: bold\">1331</span> │      <span style=\"color: #008080; text-decoration-color: #008080; font-weight: bold\">1216</span> │      <span style=\"color: #008080; text-decoration-color: #008080; font-weight: bold\">115</span> │                                    <span style=\"color: #008080; text-decoration-color: #008080; font-weight: bold\">7</span> │                                  <span style=\"color: #008080; text-decoration-color: #008080; font-weight: bold\">-12</span> │ <span style=\"color: #7f7f7f; text-decoration-color: #7f7f7f\">NULL</span>        │ <span style=\"color: #7f7f7f; text-decoration-color: #7f7f7f\">NULL</span>        │\n",
       "│ <a href=\"https://lichess.org/z6kb7Wrn\" target=\"_blank\"><span style=\"color: #008000; text-decoration-color: #008000\">https://lichess.org/z6kb7Wrn</span></a> │ True     │ False         │ <span style=\"color: #008000; text-decoration-color: #008000\">Blitz                    </span> │ <span style=\"color: #008000; text-decoration-color: #008000\">maher0007           </span> │ <span style=\"color: #008000; text-decoration-color: #008000\">antonlv           </span> │ <span style=\"color: #800080; text-decoration-color: #800080\">2024-07-08 17:11:51+00:00</span> │                               <span style=\"color: #008080; text-decoration-color: #008080; font-weight: bold\">549</span> │                               <span style=\"color: #008080; text-decoration-color: #008080; font-weight: bold\">549</span> │                        <span style=\"color: #008080; text-decoration-color: #008080; font-weight: bold\">2</span> │                        <span style=\"color: #008080; text-decoration-color: #008080; font-weight: bold\">2</span> │                       <span style=\"color: #008080; text-decoration-color: #008080; font-weight: bold\">2</span> │                       <span style=\"color: #008080; text-decoration-color: #008080; font-weight: bold\">2</span> │                        <span style=\"color: #008080; text-decoration-color: #008080; font-weight: bold\">3</span> │                        <span style=\"color: #008080; text-decoration-color: #008080; font-weight: bold\">4</span> │      <span style=\"color: #008080; text-decoration-color: #008080; font-weight: bold\">1327</span> │      <span style=\"color: #008080; text-decoration-color: #008080; font-weight: bold\">1219</span> │      <span style=\"color: #008080; text-decoration-color: #008080; font-weight: bold\">108</span> │                                   <span style=\"color: #008080; text-decoration-color: #008080; font-weight: bold\">-4</span> │                                    <span style=\"color: #008080; text-decoration-color: #008080; font-weight: bold\">3</span> │ <span style=\"color: #7f7f7f; text-decoration-color: #7f7f7f\">NULL</span>        │ <span style=\"color: #7f7f7f; text-decoration-color: #7f7f7f\">NULL</span>        │\n",
       "│ <a href=\"https://lichess.org/wYUd3oHX\" target=\"_blank\"><span style=\"color: #008000; text-decoration-color: #008000\">https://lichess.org/wYUd3oHX</span></a> │ True     │ False         │ <span style=\"color: #008000; text-decoration-color: #008000\">Blitz                    </span> │ <span style=\"color: #008000; text-decoration-color: #008000\">andreasm85          </span> │ <span style=\"color: #008000; text-decoration-color: #008000\">antonlv           </span> │ <span style=\"color: #800080; text-decoration-color: #800080\">2024-07-08 18:26:28+00:00</span> │                            <span style=\"color: #008080; text-decoration-color: #008080; font-weight: bold\">106164</span> │                              <span style=\"color: #008080; text-decoration-color: #008080; font-weight: bold\">4477</span> │                        <span style=\"color: #008080; text-decoration-color: #008080; font-weight: bold\">1</span> │                        <span style=\"color: #008080; text-decoration-color: #008080; font-weight: bold\">1</span> │                       <span style=\"color: #008080; text-decoration-color: #008080; font-weight: bold\">1</span> │                       <span style=\"color: #008080; text-decoration-color: #008080; font-weight: bold\">3</span> │                        <span style=\"color: #008080; text-decoration-color: #008080; font-weight: bold\">3</span> │                        <span style=\"color: #008080; text-decoration-color: #008080; font-weight: bold\">5</span> │      <span style=\"color: #008080; text-decoration-color: #008080; font-weight: bold\">1212</span> │      <span style=\"color: #008080; text-decoration-color: #008080; font-weight: bold\">1215</span> │       <span style=\"color: #008080; text-decoration-color: #008080; font-weight: bold\">-3</span> │                                    <span style=\"color: #008080; text-decoration-color: #008080; font-weight: bold\">7</span> │                                   <span style=\"color: #008080; text-decoration-color: #008080; font-weight: bold\">-4</span> │ <span style=\"color: #7f7f7f; text-decoration-color: #7f7f7f\">NULL</span>        │ <span style=\"color: #7f7f7f; text-decoration-color: #7f7f7f\">NULL</span>        │\n",
       "│ <a href=\"https://lichess.org/HWy3VIBa\" target=\"_blank\"><span style=\"color: #008000; text-decoration-color: #008000\">https://lichess.org/HWy3VIBa</span></a> │ True     │ False         │ <span style=\"color: #008000; text-decoration-color: #008000\">Blitz                    </span> │ <span style=\"color: #008000; text-decoration-color: #008000\">melcherf            </span> │ <span style=\"color: #008000; text-decoration-color: #008000\">antonlv           </span> │ <span style=\"color: #800080; text-decoration-color: #800080\">2024-07-09 05:41:21+00:00</span> │                               <span style=\"color: #008080; text-decoration-color: #008080; font-weight: bold\">616</span> │                             <span style=\"color: #008080; text-decoration-color: #008080; font-weight: bold\">40493</span> │                        <span style=\"color: #008080; text-decoration-color: #008080; font-weight: bold\">2</span> │                        <span style=\"color: #008080; text-decoration-color: #008080; font-weight: bold\">1</span> │                       <span style=\"color: #008080; text-decoration-color: #008080; font-weight: bold\">2</span> │                       <span style=\"color: #008080; text-decoration-color: #008080; font-weight: bold\">4</span> │                       <span style=\"color: #008080; text-decoration-color: #008080; font-weight: bold\">10</span> │                        <span style=\"color: #008080; text-decoration-color: #008080; font-weight: bold\">6</span> │      <span style=\"color: #008080; text-decoration-color: #008080; font-weight: bold\">1227</span> │      <span style=\"color: #008080; text-decoration-color: #008080; font-weight: bold\">1181</span> │       <span style=\"color: #008080; text-decoration-color: #008080; font-weight: bold\">46</span> │                                    <span style=\"color: #008080; text-decoration-color: #008080; font-weight: bold\">4</span> │                                  <span style=\"color: #008080; text-decoration-color: #008080; font-weight: bold\">-34</span> │ <span style=\"color: #7f7f7f; text-decoration-color: #7f7f7f\">NULL</span>        │ <span style=\"color: #7f7f7f; text-decoration-color: #7f7f7f\">NULL</span>        │\n",
       "│ <a href=\"https://lichess.org/tqApXYqj\" target=\"_blank\"><span style=\"color: #008000; text-decoration-color: #008000\">https://lichess.org/tqApXYqj</span></a> │ True     │ False         │ <span style=\"color: #008000; text-decoration-color: #008000\">Blitz                    </span> │ <span style=\"color: #008000; text-decoration-color: #008000\">kubarubo            </span> │ <span style=\"color: #008000; text-decoration-color: #008000\">antonlv           </span> │ <span style=\"color: #800080; text-decoration-color: #800080\">2024-07-09 05:56:04+00:00</span> │                            <span style=\"color: #008080; text-decoration-color: #008080; font-weight: bold\">404060</span> │                               <span style=\"color: #008080; text-decoration-color: #008080; font-weight: bold\">883</span> │                        <span style=\"color: #008080; text-decoration-color: #008080; font-weight: bold\">1</span> │                        <span style=\"color: #008080; text-decoration-color: #008080; font-weight: bold\">2</span> │                       <span style=\"color: #008080; text-decoration-color: #008080; font-weight: bold\">1</span> │                       <span style=\"color: #008080; text-decoration-color: #008080; font-weight: bold\">5</span> │                        <span style=\"color: #008080; text-decoration-color: #008080; font-weight: bold\">5</span> │                        <span style=\"color: #008080; text-decoration-color: #008080; font-weight: bold\">7</span> │      <span style=\"color: #008080; text-decoration-color: #008080; font-weight: bold\">1082</span> │      <span style=\"color: #008080; text-decoration-color: #008080; font-weight: bold\">1165</span> │      <span style=\"color: #008080; text-decoration-color: #008080; font-weight: bold\">-83</span> │                                    <span style=\"color: #008080; text-decoration-color: #008080; font-weight: bold\">8</span> │                                  <span style=\"color: #008080; text-decoration-color: #008080; font-weight: bold\">-16</span> │ <span style=\"color: #7f7f7f; text-decoration-color: #7f7f7f\">NULL</span>        │ <span style=\"color: #7f7f7f; text-decoration-color: #7f7f7f\">NULL</span>        │\n",
       "│ <span style=\"color: #7f7f7f; text-decoration-color: #7f7f7f\">…</span>                            │ <span style=\"color: #7f7f7f; text-decoration-color: #7f7f7f\">…</span>        │ <span style=\"color: #7f7f7f; text-decoration-color: #7f7f7f\">…</span>             │ <span style=\"color: #7f7f7f; text-decoration-color: #7f7f7f\">…</span>                         │ <span style=\"color: #7f7f7f; text-decoration-color: #7f7f7f\">…</span>                    │ <span style=\"color: #7f7f7f; text-decoration-color: #7f7f7f\">…</span>                  │ <span style=\"color: #7f7f7f; text-decoration-color: #7f7f7f\">…</span>                         │                                 <span style=\"color: #7f7f7f; text-decoration-color: #7f7f7f\">…</span> │                                 <span style=\"color: #7f7f7f; text-decoration-color: #7f7f7f\">…</span> │                        <span style=\"color: #7f7f7f; text-decoration-color: #7f7f7f\">…</span> │                        <span style=\"color: #7f7f7f; text-decoration-color: #7f7f7f\">…</span> │                       <span style=\"color: #7f7f7f; text-decoration-color: #7f7f7f\">…</span> │                       <span style=\"color: #7f7f7f; text-decoration-color: #7f7f7f\">…</span> │                        <span style=\"color: #7f7f7f; text-decoration-color: #7f7f7f\">…</span> │                        <span style=\"color: #7f7f7f; text-decoration-color: #7f7f7f\">…</span> │         <span style=\"color: #7f7f7f; text-decoration-color: #7f7f7f\">…</span> │         <span style=\"color: #7f7f7f; text-decoration-color: #7f7f7f\">…</span> │        <span style=\"color: #7f7f7f; text-decoration-color: #7f7f7f\">…</span> │                                    <span style=\"color: #7f7f7f; text-decoration-color: #7f7f7f\">…</span> │                                    <span style=\"color: #7f7f7f; text-decoration-color: #7f7f7f\">…</span> │ <span style=\"color: #7f7f7f; text-decoration-color: #7f7f7f\">…</span>           │ <span style=\"color: #7f7f7f; text-decoration-color: #7f7f7f\">…</span>           │\n",
       "└──────────────────────────────┴──────────┴───────────────┴───────────────────────────┴──────────────────────┴────────────────────┴───────────────────────────┴───────────────────────────────────┴───────────────────────────────────┴──────────────────────────┴──────────────────────────┴─────────────────────────┴─────────────────────────┴──────────────────────────┴──────────────────────────┴───────────┴───────────┴──────────┴──────────────────────────────────────┴──────────────────────────────────────┴─────────────┴─────────────┘\n",
       "</pre>\n"
      ],
      "text/plain": [
       "┏━━━━━━━━━━━━━━━━━━━━━━━━━━━━━━┳━━━━━━━━━━┳━━━━━━━━━━━━━━━┳━━━━━━━━━━━━━━━━━━━━━━━━━━━┳━━━━━━━━━━━━━━━━━━━━━━┳━━━━━━━━━━━━━━━━━━━━┳━━━━━━━━━━━━━━━━━━━━━━━━━━━┳━━━━━━━━━━━━━━━━━━━━━━━━━━━━━━━━━━━┳━━━━━━━━━━━━━━━━━━━━━━━━━━━━━━━━━━━┳━━━━━━━━━━━━━━━━━━━━━━━━━━┳━━━━━━━━━━━━━━━━━━━━━━━━━━┳━━━━━━━━━━━━━━━━━━━━━━━━━┳━━━━━━━━━━━━━━━━━━━━━━━━━┳━━━━━━━━━━━━━━━━━━━━━━━━━━┳━━━━━━━━━━━━━━━━━━━━━━━━━━┳━━━━━━━━━━━┳━━━━━━━━━━━┳━━━━━━━━━━┳━━━━━━━━━━━━━━━━━━━━━━━━━━━━━━━━━━━━━━┳━━━━━━━━━━━━━━━━━━━━━━━━━━━━━━━━━━━━━━┳━━━━━━━━━━━━━┳━━━━━━━━━━━━━┓\n",
       "┃\u001b[1m \u001b[0m\u001b[1msite\u001b[0m\u001b[1m                        \u001b[0m\u001b[1m \u001b[0m┃\u001b[1m \u001b[0m\u001b[1mis_rated\u001b[0m\u001b[1m \u001b[0m┃\u001b[1m \u001b[0m\u001b[1mis_tournament\u001b[0m\u001b[1m \u001b[0m┃\u001b[1m \u001b[0m\u001b[1mlichess_time_control_type\u001b[0m\u001b[1m \u001b[0m┃\u001b[1m \u001b[0m\u001b[1mwhite_user_id\u001b[0m\u001b[1m       \u001b[0m\u001b[1m \u001b[0m┃\u001b[1m \u001b[0m\u001b[1mblack_user_id\u001b[0m\u001b[1m     \u001b[0m\u001b[1m \u001b[0m┃\u001b[1m \u001b[0m\u001b[1mutc_timestamp\u001b[0m\u001b[1m            \u001b[0m\u001b[1m \u001b[0m┃\u001b[1m \u001b[0m\u001b[1mwhite_seconds_since_previous_game\u001b[0m\u001b[1m \u001b[0m┃\u001b[1m \u001b[0m\u001b[1mblack_seconds_since_previous_game\u001b[0m\u001b[1m \u001b[0m┃\u001b[1m \u001b[0m\u001b[1mwhite_games_in_last_hour\u001b[0m\u001b[1m \u001b[0m┃\u001b[1m \u001b[0m\u001b[1mblack_games_in_last_hour\u001b[0m\u001b[1m \u001b[0m┃\u001b[1m \u001b[0m\u001b[1mwhite_games_in_last_day\u001b[0m\u001b[1m \u001b[0m┃\u001b[1m \u001b[0m\u001b[1mblack_games_in_last_day\u001b[0m\u001b[1m \u001b[0m┃\u001b[1m \u001b[0m\u001b[1mwhite_games_in_last_week\u001b[0m\u001b[1m \u001b[0m┃\u001b[1m \u001b[0m\u001b[1mblack_games_in_last_week\u001b[0m\u001b[1m \u001b[0m┃\u001b[1m \u001b[0m\u001b[1mwhite_elo\u001b[0m\u001b[1m \u001b[0m┃\u001b[1m \u001b[0m\u001b[1mblack_elo\u001b[0m\u001b[1m \u001b[0m┃\u001b[1m \u001b[0m\u001b[1melo_diff\u001b[0m\u001b[1m \u001b[0m┃\u001b[1m \u001b[0m\u001b[1mwhite_elo_gained_since_previous_game\u001b[0m\u001b[1m \u001b[0m┃\u001b[1m \u001b[0m\u001b[1mblack_elo_gained_since_previous_game\u001b[0m\u001b[1m \u001b[0m┃\u001b[1m \u001b[0m\u001b[1mwhite_title\u001b[0m\u001b[1m \u001b[0m┃\u001b[1m \u001b[0m\u001b[1mblack_title\u001b[0m\u001b[1m \u001b[0m┃\n",
       "┡━━━━━━━━━━━━━━━━━━━━━━━━━━━━━━╇━━━━━━━━━━╇━━━━━━━━━━━━━━━╇━━━━━━━━━━━━━━━━━━━━━━━━━━━╇━━━━━━━━━━━━━━━━━━━━━━╇━━━━━━━━━━━━━━━━━━━━╇━━━━━━━━━━━━━━━━━━━━━━━━━━━╇━━━━━━━━━━━━━━━━━━━━━━━━━━━━━━━━━━━╇━━━━━━━━━━━━━━━━━━━━━━━━━━━━━━━━━━━╇━━━━━━━━━━━━━━━━━━━━━━━━━━╇━━━━━━━━━━━━━━━━━━━━━━━━━━╇━━━━━━━━━━━━━━━━━━━━━━━━━╇━━━━━━━━━━━━━━━━━━━━━━━━━╇━━━━━━━━━━━━━━━━━━━━━━━━━━╇━━━━━━━━━━━━━━━━━━━━━━━━━━╇━━━━━━━━━━━╇━━━━━━━━━━━╇━━━━━━━━━━╇━━━━━━━━━━━━━━━━━━━━━━━━━━━━━━━━━━━━━━╇━━━━━━━━━━━━━━━━━━━━━━━━━━━━━━━━━━━━━━╇━━━━━━━━━━━━━╇━━━━━━━━━━━━━┩\n",
       "│ \u001b[2mstring\u001b[0m                       │ \u001b[2mboolean\u001b[0m  │ \u001b[2mboolean\u001b[0m       │ \u001b[2mstring\u001b[0m                    │ \u001b[2mstring\u001b[0m               │ \u001b[2mstring\u001b[0m             │ \u001b[2mtimestamp('UTC')\u001b[0m          │ \u001b[2mint64\u001b[0m                             │ \u001b[2mint64\u001b[0m                             │ \u001b[2mint64\u001b[0m                    │ \u001b[2mint64\u001b[0m                    │ \u001b[2mint64\u001b[0m                   │ \u001b[2mint64\u001b[0m                   │ \u001b[2mint64\u001b[0m                    │ \u001b[2mint64\u001b[0m                    │ \u001b[2mint64\u001b[0m     │ \u001b[2mint64\u001b[0m     │ \u001b[2mint64\u001b[0m    │ \u001b[2mint64\u001b[0m                                │ \u001b[2mint64\u001b[0m                                │ \u001b[2mstring\u001b[0m      │ \u001b[2mstring\u001b[0m      │\n",
       "├──────────────────────────────┼──────────┼───────────────┼───────────────────────────┼──────────────────────┼────────────────────┼───────────────────────────┼───────────────────────────────────┼───────────────────────────────────┼──────────────────────────┼──────────────────────────┼─────────────────────────┼─────────────────────────┼──────────────────────────┼──────────────────────────┼───────────┼───────────┼──────────┼──────────────────────────────────────┼──────────────────────────────────────┼─────────────┼─────────────┤\n",
       "│ \u001b]8;id=623925;https://lichess.org/MMfaRG36\u001b\\\u001b[32mhttps://lichess.org/MMfaRG36\u001b[0m\u001b]8;;\u001b\\ │ True     │ False         │ \u001b[32mBullet                   \u001b[0m │ \u001b[32mblunderbuffet       \u001b[0m │ \u001b[32mantoniogonsalves98\u001b[0m │ \u001b[35m2024-07-17 07:22:56+00:00\u001b[0m │                             \u001b[1;36m44024\u001b[0m │                             \u001b[1;36m52979\u001b[0m │                        \u001b[1;36m1\u001b[0m │                        \u001b[1;36m1\u001b[0m │                       \u001b[1;36m3\u001b[0m │                       \u001b[1;36m4\u001b[0m │                       \u001b[1;36m11\u001b[0m │                       \u001b[1;36m10\u001b[0m │      \u001b[1;36m1957\u001b[0m │      \u001b[1;36m1972\u001b[0m │      \u001b[1;36m-15\u001b[0m │                                   \u001b[1;36m78\u001b[0m │                                  \u001b[1;36m-63\u001b[0m │ \u001b[2mNULL\u001b[0m        │ \u001b[2mNULL\u001b[0m        │\n",
       "│ \u001b]8;id=54897;https://lichess.org/EYi4qOeS\u001b\\\u001b[32mhttps://lichess.org/EYi4qOeS\u001b[0m\u001b]8;;\u001b\\ │ True     │ False         │ \u001b[32mBullet                   \u001b[0m │ \u001b[32mletsdotheprocedure00\u001b[0m │ \u001b[32mantoniogonsalves98\u001b[0m │ \u001b[35m2024-07-20 22:56:37+00:00\u001b[0m │                              \u001b[2mNULL\u001b[0m │                            \u001b[1;36m198856\u001b[0m │                        \u001b[1;36m1\u001b[0m │                        \u001b[1;36m1\u001b[0m │                       \u001b[1;36m1\u001b[0m │                       \u001b[1;36m1\u001b[0m │                        \u001b[1;36m1\u001b[0m │                        \u001b[1;36m9\u001b[0m │      \u001b[1;36m2027\u001b[0m │      \u001b[1;36m1976\u001b[0m │       \u001b[1;36m51\u001b[0m │                                 \u001b[2mNULL\u001b[0m │                                    \u001b[1;36m4\u001b[0m │ \u001b[2mNULL\u001b[0m        │ \u001b[2mNULL\u001b[0m        │\n",
       "│ \u001b]8;id=928076;https://lichess.org/qP7asWif\u001b\\\u001b[32mhttps://lichess.org/qP7asWif\u001b[0m\u001b]8;;\u001b\\ │ True     │ True          │ \u001b[32mBullet                   \u001b[0m │ \u001b[32mmaelru              \u001b[0m │ \u001b[32mantoniogonsalves98\u001b[0m │ \u001b[35m2024-07-21 03:38:17+00:00\u001b[0m │                            \u001b[1;36m202724\u001b[0m │                             \u001b[1;36m16900\u001b[0m │                        \u001b[1;36m1\u001b[0m │                        \u001b[1;36m1\u001b[0m │                       \u001b[1;36m1\u001b[0m │                       \u001b[1;36m2\u001b[0m │                        \u001b[1;36m3\u001b[0m │                       \u001b[1;36m10\u001b[0m │      \u001b[1;36m2469\u001b[0m │      \u001b[1;36m2015\u001b[0m │      \u001b[1;36m454\u001b[0m │                                   \u001b[1;36m19\u001b[0m │                                   \u001b[1;36m39\u001b[0m │ \u001b[2mNULL\u001b[0m        │ \u001b[2mNULL\u001b[0m        │\n",
       "│ \u001b]8;id=571225;https://lichess.org/MzVDgKoZ\u001b\\\u001b[32mhttps://lichess.org/MzVDgKoZ\u001b[0m\u001b]8;;\u001b\\ │ True     │ False         │ \u001b[32mBlitz                    \u001b[0m │ \u001b[32mralphpatapat        \u001b[0m │ \u001b[32mantonlv           \u001b[0m │ \u001b[35m2024-07-07 14:28:59+00:00\u001b[0m │                             \u001b[1;36m49678\u001b[0m │                              \u001b[2mNULL\u001b[0m │                        \u001b[1;36m1\u001b[0m │                        \u001b[1;36m1\u001b[0m │                       \u001b[1;36m3\u001b[0m │                       \u001b[1;36m1\u001b[0m │                        \u001b[1;36m3\u001b[0m │                        \u001b[1;36m1\u001b[0m │      \u001b[1;36m1229\u001b[0m │      \u001b[1;36m1227\u001b[0m │        \u001b[1;36m2\u001b[0m │                                   \u001b[1;36m73\u001b[0m │                                 \u001b[2mNULL\u001b[0m │ \u001b[2mNULL\u001b[0m        │ \u001b[2mNULL\u001b[0m        │\n",
       "│ \u001b]8;id=504462;https://lichess.org/NTE5A8b3\u001b\\\u001b[32mhttps://lichess.org/NTE5A8b3\u001b[0m\u001b]8;;\u001b\\ │ True     │ False         │ \u001b[32mBlitz                    \u001b[0m │ \u001b[32ml1kyuu              \u001b[0m │ \u001b[32mantonlv           \u001b[0m │ \u001b[35m2024-07-07 14:49:04+00:00\u001b[0m │                            \u001b[1;36m438154\u001b[0m │                              \u001b[1;36m1205\u001b[0m │                        \u001b[1;36m1\u001b[0m │                        \u001b[1;36m2\u001b[0m │                       \u001b[1;36m1\u001b[0m │                       \u001b[1;36m2\u001b[0m │                        \u001b[1;36m5\u001b[0m │                        \u001b[1;36m2\u001b[0m │      \u001b[1;36m1174\u001b[0m │      \u001b[1;36m1228\u001b[0m │      \u001b[1;36m-54\u001b[0m │                                  \u001b[1;36m-33\u001b[0m │                                    \u001b[1;36m1\u001b[0m │ \u001b[2mNULL\u001b[0m        │ \u001b[2mNULL\u001b[0m        │\n",
       "│ \u001b]8;id=365450;https://lichess.org/oHsliHWh\u001b\\\u001b[32mhttps://lichess.org/oHsliHWh\u001b[0m\u001b]8;;\u001b\\ │ True     │ False         │ \u001b[32mBlitz                    \u001b[0m │ \u001b[32mmaher0007           \u001b[0m │ \u001b[32mantonlv           \u001b[0m │ \u001b[35m2024-07-08 17:02:42+00:00\u001b[0m │                            \u001b[1;36m333020\u001b[0m │                             \u001b[1;36m94418\u001b[0m │                        \u001b[1;36m1\u001b[0m │                        \u001b[1;36m1\u001b[0m │                       \u001b[1;36m1\u001b[0m │                       \u001b[1;36m1\u001b[0m │                        \u001b[1;36m2\u001b[0m │                        \u001b[1;36m3\u001b[0m │      \u001b[1;36m1331\u001b[0m │      \u001b[1;36m1216\u001b[0m │      \u001b[1;36m115\u001b[0m │                                    \u001b[1;36m7\u001b[0m │                                  \u001b[1;36m-12\u001b[0m │ \u001b[2mNULL\u001b[0m        │ \u001b[2mNULL\u001b[0m        │\n",
       "│ \u001b]8;id=158440;https://lichess.org/z6kb7Wrn\u001b\\\u001b[32mhttps://lichess.org/z6kb7Wrn\u001b[0m\u001b]8;;\u001b\\ │ True     │ False         │ \u001b[32mBlitz                    \u001b[0m │ \u001b[32mmaher0007           \u001b[0m │ \u001b[32mantonlv           \u001b[0m │ \u001b[35m2024-07-08 17:11:51+00:00\u001b[0m │                               \u001b[1;36m549\u001b[0m │                               \u001b[1;36m549\u001b[0m │                        \u001b[1;36m2\u001b[0m │                        \u001b[1;36m2\u001b[0m │                       \u001b[1;36m2\u001b[0m │                       \u001b[1;36m2\u001b[0m │                        \u001b[1;36m3\u001b[0m │                        \u001b[1;36m4\u001b[0m │      \u001b[1;36m1327\u001b[0m │      \u001b[1;36m1219\u001b[0m │      \u001b[1;36m108\u001b[0m │                                   \u001b[1;36m-4\u001b[0m │                                    \u001b[1;36m3\u001b[0m │ \u001b[2mNULL\u001b[0m        │ \u001b[2mNULL\u001b[0m        │\n",
       "│ \u001b]8;id=938800;https://lichess.org/wYUd3oHX\u001b\\\u001b[32mhttps://lichess.org/wYUd3oHX\u001b[0m\u001b]8;;\u001b\\ │ True     │ False         │ \u001b[32mBlitz                    \u001b[0m │ \u001b[32mandreasm85          \u001b[0m │ \u001b[32mantonlv           \u001b[0m │ \u001b[35m2024-07-08 18:26:28+00:00\u001b[0m │                            \u001b[1;36m106164\u001b[0m │                              \u001b[1;36m4477\u001b[0m │                        \u001b[1;36m1\u001b[0m │                        \u001b[1;36m1\u001b[0m │                       \u001b[1;36m1\u001b[0m │                       \u001b[1;36m3\u001b[0m │                        \u001b[1;36m3\u001b[0m │                        \u001b[1;36m5\u001b[0m │      \u001b[1;36m1212\u001b[0m │      \u001b[1;36m1215\u001b[0m │       \u001b[1;36m-3\u001b[0m │                                    \u001b[1;36m7\u001b[0m │                                   \u001b[1;36m-4\u001b[0m │ \u001b[2mNULL\u001b[0m        │ \u001b[2mNULL\u001b[0m        │\n",
       "│ \u001b]8;id=115720;https://lichess.org/HWy3VIBa\u001b\\\u001b[32mhttps://lichess.org/HWy3VIBa\u001b[0m\u001b]8;;\u001b\\ │ True     │ False         │ \u001b[32mBlitz                    \u001b[0m │ \u001b[32mmelcherf            \u001b[0m │ \u001b[32mantonlv           \u001b[0m │ \u001b[35m2024-07-09 05:41:21+00:00\u001b[0m │                               \u001b[1;36m616\u001b[0m │                             \u001b[1;36m40493\u001b[0m │                        \u001b[1;36m2\u001b[0m │                        \u001b[1;36m1\u001b[0m │                       \u001b[1;36m2\u001b[0m │                       \u001b[1;36m4\u001b[0m │                       \u001b[1;36m10\u001b[0m │                        \u001b[1;36m6\u001b[0m │      \u001b[1;36m1227\u001b[0m │      \u001b[1;36m1181\u001b[0m │       \u001b[1;36m46\u001b[0m │                                    \u001b[1;36m4\u001b[0m │                                  \u001b[1;36m-34\u001b[0m │ \u001b[2mNULL\u001b[0m        │ \u001b[2mNULL\u001b[0m        │\n",
       "│ \u001b]8;id=685299;https://lichess.org/tqApXYqj\u001b\\\u001b[32mhttps://lichess.org/tqApXYqj\u001b[0m\u001b]8;;\u001b\\ │ True     │ False         │ \u001b[32mBlitz                    \u001b[0m │ \u001b[32mkubarubo            \u001b[0m │ \u001b[32mantonlv           \u001b[0m │ \u001b[35m2024-07-09 05:56:04+00:00\u001b[0m │                            \u001b[1;36m404060\u001b[0m │                               \u001b[1;36m883\u001b[0m │                        \u001b[1;36m1\u001b[0m │                        \u001b[1;36m2\u001b[0m │                       \u001b[1;36m1\u001b[0m │                       \u001b[1;36m5\u001b[0m │                        \u001b[1;36m5\u001b[0m │                        \u001b[1;36m7\u001b[0m │      \u001b[1;36m1082\u001b[0m │      \u001b[1;36m1165\u001b[0m │      \u001b[1;36m-83\u001b[0m │                                    \u001b[1;36m8\u001b[0m │                                  \u001b[1;36m-16\u001b[0m │ \u001b[2mNULL\u001b[0m        │ \u001b[2mNULL\u001b[0m        │\n",
       "│ \u001b[2m…\u001b[0m                            │ \u001b[2m…\u001b[0m        │ \u001b[2m…\u001b[0m             │ \u001b[2m…\u001b[0m                         │ \u001b[2m…\u001b[0m                    │ \u001b[2m…\u001b[0m                  │ \u001b[2m…\u001b[0m                         │                                 \u001b[2m…\u001b[0m │                                 \u001b[2m…\u001b[0m │                        \u001b[2m…\u001b[0m │                        \u001b[2m…\u001b[0m │                       \u001b[2m…\u001b[0m │                       \u001b[2m…\u001b[0m │                        \u001b[2m…\u001b[0m │                        \u001b[2m…\u001b[0m │         \u001b[2m…\u001b[0m │         \u001b[2m…\u001b[0m │        \u001b[2m…\u001b[0m │                                    \u001b[2m…\u001b[0m │                                    \u001b[2m…\u001b[0m │ \u001b[2m…\u001b[0m           │ \u001b[2m…\u001b[0m           │\n",
       "└──────────────────────────────┴──────────┴───────────────┴───────────────────────────┴──────────────────────┴────────────────────┴───────────────────────────┴───────────────────────────────────┴───────────────────────────────────┴──────────────────────────┴──────────────────────────┴─────────────────────────┴─────────────────────────┴──────────────────────────┴──────────────────────────┴───────────┴───────────┴──────────┴──────────────────────────────────────┴──────────────────────────────────────┴─────────────┴─────────────┘"
      ]
     },
     "execution_count": 45,
     "metadata": {},
     "output_type": "execute_result"
    }
   ],
   "source": [
    "%%time\n",
    "games.select(\"site\", *game_level_features)"
   ]
  }
 ],
 "metadata": {
  "kernelspec": {
   "display_name": "Python 3 (ipykernel)",
   "language": "python",
   "name": "python3"
  },
  "language_info": {
   "codemirror_mode": {
    "name": "ipython",
    "version": 3
   },
   "file_extension": ".py",
   "mimetype": "text/x-python",
   "name": "python",
   "nbconvert_exporter": "python",
   "pygments_lexer": "ipython3",
   "version": "3.12.5"
  }
 },
 "nbformat": 4,
 "nbformat_minor": 5
}
