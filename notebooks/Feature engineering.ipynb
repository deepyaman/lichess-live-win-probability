{
 "cells": [
  {
   "cell_type": "code",
   "execution_count": 1,
   "id": "3089ea85-30fa-49d0-a6b8-421f68c4ac1a",
   "metadata": {},
   "outputs": [],
   "source": [
    "import ibis\n",
    "from ibis import _\n",
    "\n",
    "ibis.options.interactive = True"
   ]
  },
  {
   "cell_type": "code",
   "execution_count": 2,
   "id": "19c39195-c829-4235-a3ae-c6603332cdfb",
   "metadata": {},
   "outputs": [
    {
     "data": {
      "text/html": [
       "<pre style=\"white-space:pre;overflow-x:auto;line-height:normal;font-family:Menlo,'DejaVu Sans Mono',consolas,'Courier New',monospace\">┏━━━━━━━━━━━━━━━━━━┳━━━━━━━━━━━━━━━━━━━━━━━━━━━━━━┳━━━━━━━━━━━━┳━━━━━━━━┳━━━━━━━━━━━━┳━━━━━━━━━┳━━━━━━━━┳━━━━━━━━━━━━┳━━━━━━━━━━┳━━━━━━━━━━━┳━━━━━━━━━━━┳━━━━━━━━━━━━━━━━━━━┳━━━━━━━━━━━━━━━━━━━┳━━━━━━━━━━━━━┳━━━━━━━━━━━━━┳━━━━━━━━┳━━━━━━━━━━━━━━━━━━━━━━━━━━━━━━━━━━┳━━━━━━━━━━━━━━┳━━━━━━━━━━━━━┳━━━━━━━━━━┳━━━━━━━━━━━━━━━━┓\n",
       "┃<span style=\"font-weight: bold\"> event            </span>┃<span style=\"font-weight: bold\"> site                         </span>┃<span style=\"font-weight: bold\"> date       </span>┃<span style=\"font-weight: bold\"> round  </span>┃<span style=\"font-weight: bold\"> white      </span>┃<span style=\"font-weight: bold\"> black   </span>┃<span style=\"font-weight: bold\"> result </span>┃<span style=\"font-weight: bold\"> utc_date   </span>┃<span style=\"font-weight: bold\"> utc_time </span>┃<span style=\"font-weight: bold\"> white_elo </span>┃<span style=\"font-weight: bold\"> black_elo </span>┃<span style=\"font-weight: bold\"> white_rating_diff </span>┃<span style=\"font-weight: bold\"> black_rating_diff </span>┃<span style=\"font-weight: bold\"> white_title </span>┃<span style=\"font-weight: bold\"> black_title </span>┃<span style=\"font-weight: bold\"> eco    </span>┃<span style=\"font-weight: bold\"> opening                          </span>┃<span style=\"font-weight: bold\"> time_control </span>┃<span style=\"font-weight: bold\"> termination </span>┃<span style=\"font-weight: bold\"> move_ply </span>┃<span style=\"font-weight: bold\"> move_comment   </span>┃\n",
       "┡━━━━━━━━━━━━━━━━━━╇━━━━━━━━━━━━━━━━━━━━━━━━━━━━━━╇━━━━━━━━━━━━╇━━━━━━━━╇━━━━━━━━━━━━╇━━━━━━━━━╇━━━━━━━━╇━━━━━━━━━━━━╇━━━━━━━━━━╇━━━━━━━━━━━╇━━━━━━━━━━━╇━━━━━━━━━━━━━━━━━━━╇━━━━━━━━━━━━━━━━━━━╇━━━━━━━━━━━━━╇━━━━━━━━━━━━━╇━━━━━━━━╇━━━━━━━━━━━━━━━━━━━━━━━━━━━━━━━━━━╇━━━━━━━━━━━━━━╇━━━━━━━━━━━━━╇━━━━━━━━━━╇━━━━━━━━━━━━━━━━┩\n",
       "│ <span style=\"color: #7f7f7f; text-decoration-color: #7f7f7f\">string</span>           │ <span style=\"color: #7f7f7f; text-decoration-color: #7f7f7f\">string</span>                       │ <span style=\"color: #7f7f7f; text-decoration-color: #7f7f7f\">string</span>     │ <span style=\"color: #7f7f7f; text-decoration-color: #7f7f7f\">string</span> │ <span style=\"color: #7f7f7f; text-decoration-color: #7f7f7f\">string</span>     │ <span style=\"color: #7f7f7f; text-decoration-color: #7f7f7f\">string</span>  │ <span style=\"color: #7f7f7f; text-decoration-color: #7f7f7f\">string</span> │ <span style=\"color: #7f7f7f; text-decoration-color: #7f7f7f\">string</span>     │ <span style=\"color: #7f7f7f; text-decoration-color: #7f7f7f\">string</span>   │ <span style=\"color: #7f7f7f; text-decoration-color: #7f7f7f\">string</span>    │ <span style=\"color: #7f7f7f; text-decoration-color: #7f7f7f\">string</span>    │ <span style=\"color: #7f7f7f; text-decoration-color: #7f7f7f\">string</span>            │ <span style=\"color: #7f7f7f; text-decoration-color: #7f7f7f\">string</span>            │ <span style=\"color: #7f7f7f; text-decoration-color: #7f7f7f\">string</span>      │ <span style=\"color: #7f7f7f; text-decoration-color: #7f7f7f\">string</span>      │ <span style=\"color: #7f7f7f; text-decoration-color: #7f7f7f\">string</span> │ <span style=\"color: #7f7f7f; text-decoration-color: #7f7f7f\">string</span>                           │ <span style=\"color: #7f7f7f; text-decoration-color: #7f7f7f\">string</span>       │ <span style=\"color: #7f7f7f; text-decoration-color: #7f7f7f\">string</span>      │ <span style=\"color: #7f7f7f; text-decoration-color: #7f7f7f\">int64</span>    │ <span style=\"color: #7f7f7f; text-decoration-color: #7f7f7f\">string</span>         │\n",
       "├──────────────────┼──────────────────────────────┼────────────┼────────┼────────────┼─────────┼────────┼────────────┼──────────┼───────────┼───────────┼───────────────────┼───────────────────┼─────────────┼─────────────┼────────┼──────────────────────────────────┼──────────────┼─────────────┼──────────┼────────────────┤\n",
       "│ <span style=\"color: #008000; text-decoration-color: #008000\">Rated Blitz game</span> │ <a href=\"https://lichess.org/oMT7qJHb\" target=\"_blank\"><span style=\"color: #008000; text-decoration-color: #008000\">https://lichess.org/oMT7qJHb</span></a> │ <span style=\"color: #008000; text-decoration-color: #008000\">2024.07.03</span> │ <span style=\"color: #008000; text-decoration-color: #008000\">-     </span> │ <span style=\"color: #008000; text-decoration-color: #008000\">bonasagala</span> │ <span style=\"color: #008000; text-decoration-color: #008000\">DrPoBoz</span> │ <span style=\"color: #008000; text-decoration-color: #008000\">0-1   </span> │ <span style=\"color: #008000; text-decoration-color: #008000\">2024.07.03</span> │ <span style=\"color: #008000; text-decoration-color: #008000\">15:51:34</span> │ <span style=\"color: #008000; text-decoration-color: #008000\">1440     </span> │ <span style=\"color: #008000; text-decoration-color: #008000\">1481     </span> │ <span style=\"color: #008000; text-decoration-color: #008000\">-5               </span> │ <span style=\"color: #008000; text-decoration-color: #008000\">+5               </span> │ <span style=\"color: #7f7f7f; text-decoration-color: #7f7f7f\">NULL</span>        │ <span style=\"color: #7f7f7f; text-decoration-color: #7f7f7f\">NULL</span>        │ <span style=\"color: #008000; text-decoration-color: #008000\">C42   </span> │ <span style=\"color: #008000; text-decoration-color: #008000\">Russian Game: Three Knights Game</span> │ <span style=\"color: #008000; text-decoration-color: #008000\">300+0       </span> │ <span style=\"color: #008000; text-decoration-color: #008000\">Normal     </span> │        <span style=\"color: #008080; text-decoration-color: #008080; font-weight: bold\">1</span> │ <span style=\"color: #008000; text-decoration-color: #008000\">[%clk 0:05:00]</span> │\n",
       "│ <span style=\"color: #008000; text-decoration-color: #008000\">Rated Blitz game</span> │ <a href=\"https://lichess.org/oMT7qJHb\" target=\"_blank\"><span style=\"color: #008000; text-decoration-color: #008000\">https://lichess.org/oMT7qJHb</span></a> │ <span style=\"color: #008000; text-decoration-color: #008000\">2024.07.03</span> │ <span style=\"color: #008000; text-decoration-color: #008000\">-     </span> │ <span style=\"color: #008000; text-decoration-color: #008000\">bonasagala</span> │ <span style=\"color: #008000; text-decoration-color: #008000\">DrPoBoz</span> │ <span style=\"color: #008000; text-decoration-color: #008000\">0-1   </span> │ <span style=\"color: #008000; text-decoration-color: #008000\">2024.07.03</span> │ <span style=\"color: #008000; text-decoration-color: #008000\">15:51:34</span> │ <span style=\"color: #008000; text-decoration-color: #008000\">1440     </span> │ <span style=\"color: #008000; text-decoration-color: #008000\">1481     </span> │ <span style=\"color: #008000; text-decoration-color: #008000\">-5               </span> │ <span style=\"color: #008000; text-decoration-color: #008000\">+5               </span> │ <span style=\"color: #7f7f7f; text-decoration-color: #7f7f7f\">NULL</span>        │ <span style=\"color: #7f7f7f; text-decoration-color: #7f7f7f\">NULL</span>        │ <span style=\"color: #008000; text-decoration-color: #008000\">C42   </span> │ <span style=\"color: #008000; text-decoration-color: #008000\">Russian Game: Three Knights Game</span> │ <span style=\"color: #008000; text-decoration-color: #008000\">300+0       </span> │ <span style=\"color: #008000; text-decoration-color: #008000\">Normal     </span> │        <span style=\"color: #008080; text-decoration-color: #008080; font-weight: bold\">2</span> │ <span style=\"color: #008000; text-decoration-color: #008000\">[%clk 0:05:00]</span> │\n",
       "│ <span style=\"color: #008000; text-decoration-color: #008000\">Rated Blitz game</span> │ <a href=\"https://lichess.org/oMT7qJHb\" target=\"_blank\"><span style=\"color: #008000; text-decoration-color: #008000\">https://lichess.org/oMT7qJHb</span></a> │ <span style=\"color: #008000; text-decoration-color: #008000\">2024.07.03</span> │ <span style=\"color: #008000; text-decoration-color: #008000\">-     </span> │ <span style=\"color: #008000; text-decoration-color: #008000\">bonasagala</span> │ <span style=\"color: #008000; text-decoration-color: #008000\">DrPoBoz</span> │ <span style=\"color: #008000; text-decoration-color: #008000\">0-1   </span> │ <span style=\"color: #008000; text-decoration-color: #008000\">2024.07.03</span> │ <span style=\"color: #008000; text-decoration-color: #008000\">15:51:34</span> │ <span style=\"color: #008000; text-decoration-color: #008000\">1440     </span> │ <span style=\"color: #008000; text-decoration-color: #008000\">1481     </span> │ <span style=\"color: #008000; text-decoration-color: #008000\">-5               </span> │ <span style=\"color: #008000; text-decoration-color: #008000\">+5               </span> │ <span style=\"color: #7f7f7f; text-decoration-color: #7f7f7f\">NULL</span>        │ <span style=\"color: #7f7f7f; text-decoration-color: #7f7f7f\">NULL</span>        │ <span style=\"color: #008000; text-decoration-color: #008000\">C42   </span> │ <span style=\"color: #008000; text-decoration-color: #008000\">Russian Game: Three Knights Game</span> │ <span style=\"color: #008000; text-decoration-color: #008000\">300+0       </span> │ <span style=\"color: #008000; text-decoration-color: #008000\">Normal     </span> │        <span style=\"color: #008080; text-decoration-color: #008080; font-weight: bold\">3</span> │ <span style=\"color: #008000; text-decoration-color: #008000\">[%clk 0:04:55]</span> │\n",
       "│ <span style=\"color: #008000; text-decoration-color: #008000\">Rated Blitz game</span> │ <a href=\"https://lichess.org/oMT7qJHb\" target=\"_blank\"><span style=\"color: #008000; text-decoration-color: #008000\">https://lichess.org/oMT7qJHb</span></a> │ <span style=\"color: #008000; text-decoration-color: #008000\">2024.07.03</span> │ <span style=\"color: #008000; text-decoration-color: #008000\">-     </span> │ <span style=\"color: #008000; text-decoration-color: #008000\">bonasagala</span> │ <span style=\"color: #008000; text-decoration-color: #008000\">DrPoBoz</span> │ <span style=\"color: #008000; text-decoration-color: #008000\">0-1   </span> │ <span style=\"color: #008000; text-decoration-color: #008000\">2024.07.03</span> │ <span style=\"color: #008000; text-decoration-color: #008000\">15:51:34</span> │ <span style=\"color: #008000; text-decoration-color: #008000\">1440     </span> │ <span style=\"color: #008000; text-decoration-color: #008000\">1481     </span> │ <span style=\"color: #008000; text-decoration-color: #008000\">-5               </span> │ <span style=\"color: #008000; text-decoration-color: #008000\">+5               </span> │ <span style=\"color: #7f7f7f; text-decoration-color: #7f7f7f\">NULL</span>        │ <span style=\"color: #7f7f7f; text-decoration-color: #7f7f7f\">NULL</span>        │ <span style=\"color: #008000; text-decoration-color: #008000\">C42   </span> │ <span style=\"color: #008000; text-decoration-color: #008000\">Russian Game: Three Knights Game</span> │ <span style=\"color: #008000; text-decoration-color: #008000\">300+0       </span> │ <span style=\"color: #008000; text-decoration-color: #008000\">Normal     </span> │        <span style=\"color: #008080; text-decoration-color: #008080; font-weight: bold\">4</span> │ <span style=\"color: #008000; text-decoration-color: #008000\">[%clk 0:04:53]</span> │\n",
       "│ <span style=\"color: #008000; text-decoration-color: #008000\">Rated Blitz game</span> │ <a href=\"https://lichess.org/oMT7qJHb\" target=\"_blank\"><span style=\"color: #008000; text-decoration-color: #008000\">https://lichess.org/oMT7qJHb</span></a> │ <span style=\"color: #008000; text-decoration-color: #008000\">2024.07.03</span> │ <span style=\"color: #008000; text-decoration-color: #008000\">-     </span> │ <span style=\"color: #008000; text-decoration-color: #008000\">bonasagala</span> │ <span style=\"color: #008000; text-decoration-color: #008000\">DrPoBoz</span> │ <span style=\"color: #008000; text-decoration-color: #008000\">0-1   </span> │ <span style=\"color: #008000; text-decoration-color: #008000\">2024.07.03</span> │ <span style=\"color: #008000; text-decoration-color: #008000\">15:51:34</span> │ <span style=\"color: #008000; text-decoration-color: #008000\">1440     </span> │ <span style=\"color: #008000; text-decoration-color: #008000\">1481     </span> │ <span style=\"color: #008000; text-decoration-color: #008000\">-5               </span> │ <span style=\"color: #008000; text-decoration-color: #008000\">+5               </span> │ <span style=\"color: #7f7f7f; text-decoration-color: #7f7f7f\">NULL</span>        │ <span style=\"color: #7f7f7f; text-decoration-color: #7f7f7f\">NULL</span>        │ <span style=\"color: #008000; text-decoration-color: #008000\">C42   </span> │ <span style=\"color: #008000; text-decoration-color: #008000\">Russian Game: Three Knights Game</span> │ <span style=\"color: #008000; text-decoration-color: #008000\">300+0       </span> │ <span style=\"color: #008000; text-decoration-color: #008000\">Normal     </span> │        <span style=\"color: #008080; text-decoration-color: #008080; font-weight: bold\">5</span> │ <span style=\"color: #008000; text-decoration-color: #008000\">[%clk 0:04:50]</span> │\n",
       "│ <span style=\"color: #008000; text-decoration-color: #008000\">Rated Blitz game</span> │ <a href=\"https://lichess.org/oMT7qJHb\" target=\"_blank\"><span style=\"color: #008000; text-decoration-color: #008000\">https://lichess.org/oMT7qJHb</span></a> │ <span style=\"color: #008000; text-decoration-color: #008000\">2024.07.03</span> │ <span style=\"color: #008000; text-decoration-color: #008000\">-     </span> │ <span style=\"color: #008000; text-decoration-color: #008000\">bonasagala</span> │ <span style=\"color: #008000; text-decoration-color: #008000\">DrPoBoz</span> │ <span style=\"color: #008000; text-decoration-color: #008000\">0-1   </span> │ <span style=\"color: #008000; text-decoration-color: #008000\">2024.07.03</span> │ <span style=\"color: #008000; text-decoration-color: #008000\">15:51:34</span> │ <span style=\"color: #008000; text-decoration-color: #008000\">1440     </span> │ <span style=\"color: #008000; text-decoration-color: #008000\">1481     </span> │ <span style=\"color: #008000; text-decoration-color: #008000\">-5               </span> │ <span style=\"color: #008000; text-decoration-color: #008000\">+5               </span> │ <span style=\"color: #7f7f7f; text-decoration-color: #7f7f7f\">NULL</span>        │ <span style=\"color: #7f7f7f; text-decoration-color: #7f7f7f\">NULL</span>        │ <span style=\"color: #008000; text-decoration-color: #008000\">C42   </span> │ <span style=\"color: #008000; text-decoration-color: #008000\">Russian Game: Three Knights Game</span> │ <span style=\"color: #008000; text-decoration-color: #008000\">300+0       </span> │ <span style=\"color: #008000; text-decoration-color: #008000\">Normal     </span> │        <span style=\"color: #008080; text-decoration-color: #008080; font-weight: bold\">6</span> │ <span style=\"color: #008000; text-decoration-color: #008000\">[%clk 0:04:44]</span> │\n",
       "│ <span style=\"color: #008000; text-decoration-color: #008000\">Rated Blitz game</span> │ <a href=\"https://lichess.org/oMT7qJHb\" target=\"_blank\"><span style=\"color: #008000; text-decoration-color: #008000\">https://lichess.org/oMT7qJHb</span></a> │ <span style=\"color: #008000; text-decoration-color: #008000\">2024.07.03</span> │ <span style=\"color: #008000; text-decoration-color: #008000\">-     </span> │ <span style=\"color: #008000; text-decoration-color: #008000\">bonasagala</span> │ <span style=\"color: #008000; text-decoration-color: #008000\">DrPoBoz</span> │ <span style=\"color: #008000; text-decoration-color: #008000\">0-1   </span> │ <span style=\"color: #008000; text-decoration-color: #008000\">2024.07.03</span> │ <span style=\"color: #008000; text-decoration-color: #008000\">15:51:34</span> │ <span style=\"color: #008000; text-decoration-color: #008000\">1440     </span> │ <span style=\"color: #008000; text-decoration-color: #008000\">1481     </span> │ <span style=\"color: #008000; text-decoration-color: #008000\">-5               </span> │ <span style=\"color: #008000; text-decoration-color: #008000\">+5               </span> │ <span style=\"color: #7f7f7f; text-decoration-color: #7f7f7f\">NULL</span>        │ <span style=\"color: #7f7f7f; text-decoration-color: #7f7f7f\">NULL</span>        │ <span style=\"color: #008000; text-decoration-color: #008000\">C42   </span> │ <span style=\"color: #008000; text-decoration-color: #008000\">Russian Game: Three Knights Game</span> │ <span style=\"color: #008000; text-decoration-color: #008000\">300+0       </span> │ <span style=\"color: #008000; text-decoration-color: #008000\">Normal     </span> │        <span style=\"color: #008080; text-decoration-color: #008080; font-weight: bold\">7</span> │ <span style=\"color: #008000; text-decoration-color: #008000\">[%clk 0:04:48]</span> │\n",
       "│ <span style=\"color: #008000; text-decoration-color: #008000\">Rated Blitz game</span> │ <a href=\"https://lichess.org/oMT7qJHb\" target=\"_blank\"><span style=\"color: #008000; text-decoration-color: #008000\">https://lichess.org/oMT7qJHb</span></a> │ <span style=\"color: #008000; text-decoration-color: #008000\">2024.07.03</span> │ <span style=\"color: #008000; text-decoration-color: #008000\">-     </span> │ <span style=\"color: #008000; text-decoration-color: #008000\">bonasagala</span> │ <span style=\"color: #008000; text-decoration-color: #008000\">DrPoBoz</span> │ <span style=\"color: #008000; text-decoration-color: #008000\">0-1   </span> │ <span style=\"color: #008000; text-decoration-color: #008000\">2024.07.03</span> │ <span style=\"color: #008000; text-decoration-color: #008000\">15:51:34</span> │ <span style=\"color: #008000; text-decoration-color: #008000\">1440     </span> │ <span style=\"color: #008000; text-decoration-color: #008000\">1481     </span> │ <span style=\"color: #008000; text-decoration-color: #008000\">-5               </span> │ <span style=\"color: #008000; text-decoration-color: #008000\">+5               </span> │ <span style=\"color: #7f7f7f; text-decoration-color: #7f7f7f\">NULL</span>        │ <span style=\"color: #7f7f7f; text-decoration-color: #7f7f7f\">NULL</span>        │ <span style=\"color: #008000; text-decoration-color: #008000\">C42   </span> │ <span style=\"color: #008000; text-decoration-color: #008000\">Russian Game: Three Knights Game</span> │ <span style=\"color: #008000; text-decoration-color: #008000\">300+0       </span> │ <span style=\"color: #008000; text-decoration-color: #008000\">Normal     </span> │        <span style=\"color: #008080; text-decoration-color: #008080; font-weight: bold\">8</span> │ <span style=\"color: #008000; text-decoration-color: #008000\">[%clk 0:04:41]</span> │\n",
       "│ <span style=\"color: #008000; text-decoration-color: #008000\">Rated Blitz game</span> │ <a href=\"https://lichess.org/oMT7qJHb\" target=\"_blank\"><span style=\"color: #008000; text-decoration-color: #008000\">https://lichess.org/oMT7qJHb</span></a> │ <span style=\"color: #008000; text-decoration-color: #008000\">2024.07.03</span> │ <span style=\"color: #008000; text-decoration-color: #008000\">-     </span> │ <span style=\"color: #008000; text-decoration-color: #008000\">bonasagala</span> │ <span style=\"color: #008000; text-decoration-color: #008000\">DrPoBoz</span> │ <span style=\"color: #008000; text-decoration-color: #008000\">0-1   </span> │ <span style=\"color: #008000; text-decoration-color: #008000\">2024.07.03</span> │ <span style=\"color: #008000; text-decoration-color: #008000\">15:51:34</span> │ <span style=\"color: #008000; text-decoration-color: #008000\">1440     </span> │ <span style=\"color: #008000; text-decoration-color: #008000\">1481     </span> │ <span style=\"color: #008000; text-decoration-color: #008000\">-5               </span> │ <span style=\"color: #008000; text-decoration-color: #008000\">+5               </span> │ <span style=\"color: #7f7f7f; text-decoration-color: #7f7f7f\">NULL</span>        │ <span style=\"color: #7f7f7f; text-decoration-color: #7f7f7f\">NULL</span>        │ <span style=\"color: #008000; text-decoration-color: #008000\">C42   </span> │ <span style=\"color: #008000; text-decoration-color: #008000\">Russian Game: Three Knights Game</span> │ <span style=\"color: #008000; text-decoration-color: #008000\">300+0       </span> │ <span style=\"color: #008000; text-decoration-color: #008000\">Normal     </span> │        <span style=\"color: #008080; text-decoration-color: #008080; font-weight: bold\">9</span> │ <span style=\"color: #008000; text-decoration-color: #008000\">[%clk 0:04:46]</span> │\n",
       "│ <span style=\"color: #008000; text-decoration-color: #008000\">Rated Blitz game</span> │ <a href=\"https://lichess.org/oMT7qJHb\" target=\"_blank\"><span style=\"color: #008000; text-decoration-color: #008000\">https://lichess.org/oMT7qJHb</span></a> │ <span style=\"color: #008000; text-decoration-color: #008000\">2024.07.03</span> │ <span style=\"color: #008000; text-decoration-color: #008000\">-     </span> │ <span style=\"color: #008000; text-decoration-color: #008000\">bonasagala</span> │ <span style=\"color: #008000; text-decoration-color: #008000\">DrPoBoz</span> │ <span style=\"color: #008000; text-decoration-color: #008000\">0-1   </span> │ <span style=\"color: #008000; text-decoration-color: #008000\">2024.07.03</span> │ <span style=\"color: #008000; text-decoration-color: #008000\">15:51:34</span> │ <span style=\"color: #008000; text-decoration-color: #008000\">1440     </span> │ <span style=\"color: #008000; text-decoration-color: #008000\">1481     </span> │ <span style=\"color: #008000; text-decoration-color: #008000\">-5               </span> │ <span style=\"color: #008000; text-decoration-color: #008000\">+5               </span> │ <span style=\"color: #7f7f7f; text-decoration-color: #7f7f7f\">NULL</span>        │ <span style=\"color: #7f7f7f; text-decoration-color: #7f7f7f\">NULL</span>        │ <span style=\"color: #008000; text-decoration-color: #008000\">C42   </span> │ <span style=\"color: #008000; text-decoration-color: #008000\">Russian Game: Three Knights Game</span> │ <span style=\"color: #008000; text-decoration-color: #008000\">300+0       </span> │ <span style=\"color: #008000; text-decoration-color: #008000\">Normal     </span> │       <span style=\"color: #008080; text-decoration-color: #008080; font-weight: bold\">10</span> │ <span style=\"color: #008000; text-decoration-color: #008000\">[%clk 0:04:39]</span> │\n",
       "│ <span style=\"color: #7f7f7f; text-decoration-color: #7f7f7f\">…</span>                │ <span style=\"color: #7f7f7f; text-decoration-color: #7f7f7f\">…</span>                            │ <span style=\"color: #7f7f7f; text-decoration-color: #7f7f7f\">…</span>          │ <span style=\"color: #7f7f7f; text-decoration-color: #7f7f7f\">…</span>      │ <span style=\"color: #7f7f7f; text-decoration-color: #7f7f7f\">…</span>          │ <span style=\"color: #7f7f7f; text-decoration-color: #7f7f7f\">…</span>       │ <span style=\"color: #7f7f7f; text-decoration-color: #7f7f7f\">…</span>      │ <span style=\"color: #7f7f7f; text-decoration-color: #7f7f7f\">…</span>          │ <span style=\"color: #7f7f7f; text-decoration-color: #7f7f7f\">…</span>        │ <span style=\"color: #7f7f7f; text-decoration-color: #7f7f7f\">…</span>         │ <span style=\"color: #7f7f7f; text-decoration-color: #7f7f7f\">…</span>         │ <span style=\"color: #7f7f7f; text-decoration-color: #7f7f7f\">…</span>                 │ <span style=\"color: #7f7f7f; text-decoration-color: #7f7f7f\">…</span>                 │ <span style=\"color: #7f7f7f; text-decoration-color: #7f7f7f\">…</span>           │ <span style=\"color: #7f7f7f; text-decoration-color: #7f7f7f\">…</span>           │ <span style=\"color: #7f7f7f; text-decoration-color: #7f7f7f\">…</span>      │ <span style=\"color: #7f7f7f; text-decoration-color: #7f7f7f\">…</span>                                │ <span style=\"color: #7f7f7f; text-decoration-color: #7f7f7f\">…</span>            │ <span style=\"color: #7f7f7f; text-decoration-color: #7f7f7f\">…</span>           │        <span style=\"color: #7f7f7f; text-decoration-color: #7f7f7f\">…</span> │ <span style=\"color: #7f7f7f; text-decoration-color: #7f7f7f\">…</span>              │\n",
       "└──────────────────┴──────────────────────────────┴────────────┴────────┴────────────┴─────────┴────────┴────────────┴──────────┴───────────┴───────────┴───────────────────┴───────────────────┴─────────────┴─────────────┴────────┴──────────────────────────────────┴──────────────┴─────────────┴──────────┴────────────────┘\n",
       "</pre>\n"
      ],
      "text/plain": [
       "┏━━━━━━━━━━━━━━━━━━┳━━━━━━━━━━━━━━━━━━━━━━━━━━━━━━┳━━━━━━━━━━━━┳━━━━━━━━┳━━━━━━━━━━━━┳━━━━━━━━━┳━━━━━━━━┳━━━━━━━━━━━━┳━━━━━━━━━━┳━━━━━━━━━━━┳━━━━━━━━━━━┳━━━━━━━━━━━━━━━━━━━┳━━━━━━━━━━━━━━━━━━━┳━━━━━━━━━━━━━┳━━━━━━━━━━━━━┳━━━━━━━━┳━━━━━━━━━━━━━━━━━━━━━━━━━━━━━━━━━━┳━━━━━━━━━━━━━━┳━━━━━━━━━━━━━┳━━━━━━━━━━┳━━━━━━━━━━━━━━━━┓\n",
       "┃\u001b[1m \u001b[0m\u001b[1mevent\u001b[0m\u001b[1m           \u001b[0m\u001b[1m \u001b[0m┃\u001b[1m \u001b[0m\u001b[1msite\u001b[0m\u001b[1m                        \u001b[0m\u001b[1m \u001b[0m┃\u001b[1m \u001b[0m\u001b[1mdate\u001b[0m\u001b[1m      \u001b[0m\u001b[1m \u001b[0m┃\u001b[1m \u001b[0m\u001b[1mround\u001b[0m\u001b[1m \u001b[0m\u001b[1m \u001b[0m┃\u001b[1m \u001b[0m\u001b[1mwhite\u001b[0m\u001b[1m     \u001b[0m\u001b[1m \u001b[0m┃\u001b[1m \u001b[0m\u001b[1mblack\u001b[0m\u001b[1m  \u001b[0m\u001b[1m \u001b[0m┃\u001b[1m \u001b[0m\u001b[1mresult\u001b[0m\u001b[1m \u001b[0m┃\u001b[1m \u001b[0m\u001b[1mutc_date\u001b[0m\u001b[1m  \u001b[0m\u001b[1m \u001b[0m┃\u001b[1m \u001b[0m\u001b[1mutc_time\u001b[0m\u001b[1m \u001b[0m┃\u001b[1m \u001b[0m\u001b[1mwhite_elo\u001b[0m\u001b[1m \u001b[0m┃\u001b[1m \u001b[0m\u001b[1mblack_elo\u001b[0m\u001b[1m \u001b[0m┃\u001b[1m \u001b[0m\u001b[1mwhite_rating_diff\u001b[0m\u001b[1m \u001b[0m┃\u001b[1m \u001b[0m\u001b[1mblack_rating_diff\u001b[0m\u001b[1m \u001b[0m┃\u001b[1m \u001b[0m\u001b[1mwhite_title\u001b[0m\u001b[1m \u001b[0m┃\u001b[1m \u001b[0m\u001b[1mblack_title\u001b[0m\u001b[1m \u001b[0m┃\u001b[1m \u001b[0m\u001b[1meco\u001b[0m\u001b[1m   \u001b[0m\u001b[1m \u001b[0m┃\u001b[1m \u001b[0m\u001b[1mopening\u001b[0m\u001b[1m                         \u001b[0m\u001b[1m \u001b[0m┃\u001b[1m \u001b[0m\u001b[1mtime_control\u001b[0m\u001b[1m \u001b[0m┃\u001b[1m \u001b[0m\u001b[1mtermination\u001b[0m\u001b[1m \u001b[0m┃\u001b[1m \u001b[0m\u001b[1mmove_ply\u001b[0m\u001b[1m \u001b[0m┃\u001b[1m \u001b[0m\u001b[1mmove_comment\u001b[0m\u001b[1m  \u001b[0m\u001b[1m \u001b[0m┃\n",
       "┡━━━━━━━━━━━━━━━━━━╇━━━━━━━━━━━━━━━━━━━━━━━━━━━━━━╇━━━━━━━━━━━━╇━━━━━━━━╇━━━━━━━━━━━━╇━━━━━━━━━╇━━━━━━━━╇━━━━━━━━━━━━╇━━━━━━━━━━╇━━━━━━━━━━━╇━━━━━━━━━━━╇━━━━━━━━━━━━━━━━━━━╇━━━━━━━━━━━━━━━━━━━╇━━━━━━━━━━━━━╇━━━━━━━━━━━━━╇━━━━━━━━╇━━━━━━━━━━━━━━━━━━━━━━━━━━━━━━━━━━╇━━━━━━━━━━━━━━╇━━━━━━━━━━━━━╇━━━━━━━━━━╇━━━━━━━━━━━━━━━━┩\n",
       "│ \u001b[2mstring\u001b[0m           │ \u001b[2mstring\u001b[0m                       │ \u001b[2mstring\u001b[0m     │ \u001b[2mstring\u001b[0m │ \u001b[2mstring\u001b[0m     │ \u001b[2mstring\u001b[0m  │ \u001b[2mstring\u001b[0m │ \u001b[2mstring\u001b[0m     │ \u001b[2mstring\u001b[0m   │ \u001b[2mstring\u001b[0m    │ \u001b[2mstring\u001b[0m    │ \u001b[2mstring\u001b[0m            │ \u001b[2mstring\u001b[0m            │ \u001b[2mstring\u001b[0m      │ \u001b[2mstring\u001b[0m      │ \u001b[2mstring\u001b[0m │ \u001b[2mstring\u001b[0m                           │ \u001b[2mstring\u001b[0m       │ \u001b[2mstring\u001b[0m      │ \u001b[2mint64\u001b[0m    │ \u001b[2mstring\u001b[0m         │\n",
       "├──────────────────┼──────────────────────────────┼────────────┼────────┼────────────┼─────────┼────────┼────────────┼──────────┼───────────┼───────────┼───────────────────┼───────────────────┼─────────────┼─────────────┼────────┼──────────────────────────────────┼──────────────┼─────────────┼──────────┼────────────────┤\n",
       "│ \u001b[32mRated Blitz game\u001b[0m │ \u001b]8;id=252412;https://lichess.org/oMT7qJHb\u001b\\\u001b[32mhttps://lichess.org/oMT7qJHb\u001b[0m\u001b]8;;\u001b\\ │ \u001b[32m2024.07.03\u001b[0m │ \u001b[32m-     \u001b[0m │ \u001b[32mbonasagala\u001b[0m │ \u001b[32mDrPoBoz\u001b[0m │ \u001b[32m0-1   \u001b[0m │ \u001b[32m2024.07.03\u001b[0m │ \u001b[32m15:51:34\u001b[0m │ \u001b[32m1440     \u001b[0m │ \u001b[32m1481     \u001b[0m │ \u001b[32m-5               \u001b[0m │ \u001b[32m+5               \u001b[0m │ \u001b[2mNULL\u001b[0m        │ \u001b[2mNULL\u001b[0m        │ \u001b[32mC42   \u001b[0m │ \u001b[32mRussian Game: Three Knights Game\u001b[0m │ \u001b[32m300+0       \u001b[0m │ \u001b[32mNormal     \u001b[0m │        \u001b[1;36m1\u001b[0m │ \u001b[32m[%clk 0:05:00]\u001b[0m │\n",
       "│ \u001b[32mRated Blitz game\u001b[0m │ \u001b]8;id=883313;https://lichess.org/oMT7qJHb\u001b\\\u001b[32mhttps://lichess.org/oMT7qJHb\u001b[0m\u001b]8;;\u001b\\ │ \u001b[32m2024.07.03\u001b[0m │ \u001b[32m-     \u001b[0m │ \u001b[32mbonasagala\u001b[0m │ \u001b[32mDrPoBoz\u001b[0m │ \u001b[32m0-1   \u001b[0m │ \u001b[32m2024.07.03\u001b[0m │ \u001b[32m15:51:34\u001b[0m │ \u001b[32m1440     \u001b[0m │ \u001b[32m1481     \u001b[0m │ \u001b[32m-5               \u001b[0m │ \u001b[32m+5               \u001b[0m │ \u001b[2mNULL\u001b[0m        │ \u001b[2mNULL\u001b[0m        │ \u001b[32mC42   \u001b[0m │ \u001b[32mRussian Game: Three Knights Game\u001b[0m │ \u001b[32m300+0       \u001b[0m │ \u001b[32mNormal     \u001b[0m │        \u001b[1;36m2\u001b[0m │ \u001b[32m[%clk 0:05:00]\u001b[0m │\n",
       "│ \u001b[32mRated Blitz game\u001b[0m │ \u001b]8;id=760341;https://lichess.org/oMT7qJHb\u001b\\\u001b[32mhttps://lichess.org/oMT7qJHb\u001b[0m\u001b]8;;\u001b\\ │ \u001b[32m2024.07.03\u001b[0m │ \u001b[32m-     \u001b[0m │ \u001b[32mbonasagala\u001b[0m │ \u001b[32mDrPoBoz\u001b[0m │ \u001b[32m0-1   \u001b[0m │ \u001b[32m2024.07.03\u001b[0m │ \u001b[32m15:51:34\u001b[0m │ \u001b[32m1440     \u001b[0m │ \u001b[32m1481     \u001b[0m │ \u001b[32m-5               \u001b[0m │ \u001b[32m+5               \u001b[0m │ \u001b[2mNULL\u001b[0m        │ \u001b[2mNULL\u001b[0m        │ \u001b[32mC42   \u001b[0m │ \u001b[32mRussian Game: Three Knights Game\u001b[0m │ \u001b[32m300+0       \u001b[0m │ \u001b[32mNormal     \u001b[0m │        \u001b[1;36m3\u001b[0m │ \u001b[32m[%clk 0:04:55]\u001b[0m │\n",
       "│ \u001b[32mRated Blitz game\u001b[0m │ \u001b]8;id=374418;https://lichess.org/oMT7qJHb\u001b\\\u001b[32mhttps://lichess.org/oMT7qJHb\u001b[0m\u001b]8;;\u001b\\ │ \u001b[32m2024.07.03\u001b[0m │ \u001b[32m-     \u001b[0m │ \u001b[32mbonasagala\u001b[0m │ \u001b[32mDrPoBoz\u001b[0m │ \u001b[32m0-1   \u001b[0m │ \u001b[32m2024.07.03\u001b[0m │ \u001b[32m15:51:34\u001b[0m │ \u001b[32m1440     \u001b[0m │ \u001b[32m1481     \u001b[0m │ \u001b[32m-5               \u001b[0m │ \u001b[32m+5               \u001b[0m │ \u001b[2mNULL\u001b[0m        │ \u001b[2mNULL\u001b[0m        │ \u001b[32mC42   \u001b[0m │ \u001b[32mRussian Game: Three Knights Game\u001b[0m │ \u001b[32m300+0       \u001b[0m │ \u001b[32mNormal     \u001b[0m │        \u001b[1;36m4\u001b[0m │ \u001b[32m[%clk 0:04:53]\u001b[0m │\n",
       "│ \u001b[32mRated Blitz game\u001b[0m │ \u001b]8;id=573360;https://lichess.org/oMT7qJHb\u001b\\\u001b[32mhttps://lichess.org/oMT7qJHb\u001b[0m\u001b]8;;\u001b\\ │ \u001b[32m2024.07.03\u001b[0m │ \u001b[32m-     \u001b[0m │ \u001b[32mbonasagala\u001b[0m │ \u001b[32mDrPoBoz\u001b[0m │ \u001b[32m0-1   \u001b[0m │ \u001b[32m2024.07.03\u001b[0m │ \u001b[32m15:51:34\u001b[0m │ \u001b[32m1440     \u001b[0m │ \u001b[32m1481     \u001b[0m │ \u001b[32m-5               \u001b[0m │ \u001b[32m+5               \u001b[0m │ \u001b[2mNULL\u001b[0m        │ \u001b[2mNULL\u001b[0m        │ \u001b[32mC42   \u001b[0m │ \u001b[32mRussian Game: Three Knights Game\u001b[0m │ \u001b[32m300+0       \u001b[0m │ \u001b[32mNormal     \u001b[0m │        \u001b[1;36m5\u001b[0m │ \u001b[32m[%clk 0:04:50]\u001b[0m │\n",
       "│ \u001b[32mRated Blitz game\u001b[0m │ \u001b]8;id=585157;https://lichess.org/oMT7qJHb\u001b\\\u001b[32mhttps://lichess.org/oMT7qJHb\u001b[0m\u001b]8;;\u001b\\ │ \u001b[32m2024.07.03\u001b[0m │ \u001b[32m-     \u001b[0m │ \u001b[32mbonasagala\u001b[0m │ \u001b[32mDrPoBoz\u001b[0m │ \u001b[32m0-1   \u001b[0m │ \u001b[32m2024.07.03\u001b[0m │ \u001b[32m15:51:34\u001b[0m │ \u001b[32m1440     \u001b[0m │ \u001b[32m1481     \u001b[0m │ \u001b[32m-5               \u001b[0m │ \u001b[32m+5               \u001b[0m │ \u001b[2mNULL\u001b[0m        │ \u001b[2mNULL\u001b[0m        │ \u001b[32mC42   \u001b[0m │ \u001b[32mRussian Game: Three Knights Game\u001b[0m │ \u001b[32m300+0       \u001b[0m │ \u001b[32mNormal     \u001b[0m │        \u001b[1;36m6\u001b[0m │ \u001b[32m[%clk 0:04:44]\u001b[0m │\n",
       "│ \u001b[32mRated Blitz game\u001b[0m │ \u001b]8;id=596121;https://lichess.org/oMT7qJHb\u001b\\\u001b[32mhttps://lichess.org/oMT7qJHb\u001b[0m\u001b]8;;\u001b\\ │ \u001b[32m2024.07.03\u001b[0m │ \u001b[32m-     \u001b[0m │ \u001b[32mbonasagala\u001b[0m │ \u001b[32mDrPoBoz\u001b[0m │ \u001b[32m0-1   \u001b[0m │ \u001b[32m2024.07.03\u001b[0m │ \u001b[32m15:51:34\u001b[0m │ \u001b[32m1440     \u001b[0m │ \u001b[32m1481     \u001b[0m │ \u001b[32m-5               \u001b[0m │ \u001b[32m+5               \u001b[0m │ \u001b[2mNULL\u001b[0m        │ \u001b[2mNULL\u001b[0m        │ \u001b[32mC42   \u001b[0m │ \u001b[32mRussian Game: Three Knights Game\u001b[0m │ \u001b[32m300+0       \u001b[0m │ \u001b[32mNormal     \u001b[0m │        \u001b[1;36m7\u001b[0m │ \u001b[32m[%clk 0:04:48]\u001b[0m │\n",
       "│ \u001b[32mRated Blitz game\u001b[0m │ \u001b]8;id=977903;https://lichess.org/oMT7qJHb\u001b\\\u001b[32mhttps://lichess.org/oMT7qJHb\u001b[0m\u001b]8;;\u001b\\ │ \u001b[32m2024.07.03\u001b[0m │ \u001b[32m-     \u001b[0m │ \u001b[32mbonasagala\u001b[0m │ \u001b[32mDrPoBoz\u001b[0m │ \u001b[32m0-1   \u001b[0m │ \u001b[32m2024.07.03\u001b[0m │ \u001b[32m15:51:34\u001b[0m │ \u001b[32m1440     \u001b[0m │ \u001b[32m1481     \u001b[0m │ \u001b[32m-5               \u001b[0m │ \u001b[32m+5               \u001b[0m │ \u001b[2mNULL\u001b[0m        │ \u001b[2mNULL\u001b[0m        │ \u001b[32mC42   \u001b[0m │ \u001b[32mRussian Game: Three Knights Game\u001b[0m │ \u001b[32m300+0       \u001b[0m │ \u001b[32mNormal     \u001b[0m │        \u001b[1;36m8\u001b[0m │ \u001b[32m[%clk 0:04:41]\u001b[0m │\n",
       "│ \u001b[32mRated Blitz game\u001b[0m │ \u001b]8;id=652613;https://lichess.org/oMT7qJHb\u001b\\\u001b[32mhttps://lichess.org/oMT7qJHb\u001b[0m\u001b]8;;\u001b\\ │ \u001b[32m2024.07.03\u001b[0m │ \u001b[32m-     \u001b[0m │ \u001b[32mbonasagala\u001b[0m │ \u001b[32mDrPoBoz\u001b[0m │ \u001b[32m0-1   \u001b[0m │ \u001b[32m2024.07.03\u001b[0m │ \u001b[32m15:51:34\u001b[0m │ \u001b[32m1440     \u001b[0m │ \u001b[32m1481     \u001b[0m │ \u001b[32m-5               \u001b[0m │ \u001b[32m+5               \u001b[0m │ \u001b[2mNULL\u001b[0m        │ \u001b[2mNULL\u001b[0m        │ \u001b[32mC42   \u001b[0m │ \u001b[32mRussian Game: Three Knights Game\u001b[0m │ \u001b[32m300+0       \u001b[0m │ \u001b[32mNormal     \u001b[0m │        \u001b[1;36m9\u001b[0m │ \u001b[32m[%clk 0:04:46]\u001b[0m │\n",
       "│ \u001b[32mRated Blitz game\u001b[0m │ \u001b]8;id=3162;https://lichess.org/oMT7qJHb\u001b\\\u001b[32mhttps://lichess.org/oMT7qJHb\u001b[0m\u001b]8;;\u001b\\ │ \u001b[32m2024.07.03\u001b[0m │ \u001b[32m-     \u001b[0m │ \u001b[32mbonasagala\u001b[0m │ \u001b[32mDrPoBoz\u001b[0m │ \u001b[32m0-1   \u001b[0m │ \u001b[32m2024.07.03\u001b[0m │ \u001b[32m15:51:34\u001b[0m │ \u001b[32m1440     \u001b[0m │ \u001b[32m1481     \u001b[0m │ \u001b[32m-5               \u001b[0m │ \u001b[32m+5               \u001b[0m │ \u001b[2mNULL\u001b[0m        │ \u001b[2mNULL\u001b[0m        │ \u001b[32mC42   \u001b[0m │ \u001b[32mRussian Game: Three Knights Game\u001b[0m │ \u001b[32m300+0       \u001b[0m │ \u001b[32mNormal     \u001b[0m │       \u001b[1;36m10\u001b[0m │ \u001b[32m[%clk 0:04:39]\u001b[0m │\n",
       "│ \u001b[2m…\u001b[0m                │ \u001b[2m…\u001b[0m                            │ \u001b[2m…\u001b[0m          │ \u001b[2m…\u001b[0m      │ \u001b[2m…\u001b[0m          │ \u001b[2m…\u001b[0m       │ \u001b[2m…\u001b[0m      │ \u001b[2m…\u001b[0m          │ \u001b[2m…\u001b[0m        │ \u001b[2m…\u001b[0m         │ \u001b[2m…\u001b[0m         │ \u001b[2m…\u001b[0m                 │ \u001b[2m…\u001b[0m                 │ \u001b[2m…\u001b[0m           │ \u001b[2m…\u001b[0m           │ \u001b[2m…\u001b[0m      │ \u001b[2m…\u001b[0m                                │ \u001b[2m…\u001b[0m            │ \u001b[2m…\u001b[0m           │        \u001b[2m…\u001b[0m │ \u001b[2m…\u001b[0m              │\n",
       "└──────────────────┴──────────────────────────────┴────────────┴────────┴────────────┴─────────┴────────┴────────────┴──────────┴───────────┴───────────┴───────────────────┴───────────────────┴─────────────┴─────────────┴────────┴──────────────────────────────────┴──────────────┴─────────────┴──────────┴────────────────┘"
      ]
     },
     "execution_count": 2,
     "metadata": {},
     "output_type": "execute_result"
    }
   ],
   "source": [
    "moves = ibis.read_parquet(\"/data/deepyaman/lichess-2024-07/moves/*.parquet\")\n",
    "moves"
   ]
  },
  {
   "cell_type": "markdown",
   "id": "0c7289d6-d14b-4670-958e-a15b7445dccc",
   "metadata": {},
   "source": [
    "# Filter"
   ]
  },
  {
   "cell_type": "code",
   "execution_count": 3,
   "id": "04df45d1-82b3-4902-abbe-9202209a278f",
   "metadata": {},
   "outputs": [
    {
     "name": "stdout",
     "output_type": "stream",
     "text": [
      "CPU times: user 8min 8s, sys: 1min, total: 9min 8s\n",
      "Wall time: 7 s\n"
     ]
    },
    {
     "data": {
      "text/plain": [
       "89850657"
      ]
     },
     "execution_count": 3,
     "metadata": {},
     "output_type": "execute_result"
    }
   ],
   "source": [
    "%%time\n",
    "moves.site.nunique().to_pyarrow().as_py()"
   ]
  },
  {
   "cell_type": "code",
   "execution_count": 4,
   "id": "9f059744-8405-4ec8-9de9-26d10b1dd177",
   "metadata": {},
   "outputs": [
    {
     "name": "stdout",
     "output_type": "stream",
     "text": [
      "CPU times: user 1h 5min 12s, sys: 6.21 s, total: 1h 5min 19s\n",
      "Wall time: 16.2 s\n"
     ]
    },
    {
     "data": {
      "text/html": [
       "<pre style=\"white-space:pre;overflow-x:auto;line-height:normal;font-family:Menlo,'DejaVu Sans Mono',consolas,'Courier New',monospace\">┏━━━━━━━━━━━━━━━━━━━┳━━━━━━━━━━━━━━━━━━━━━━━━━┓\n",
       "┃<span style=\"font-weight: bold\"> time_control_type </span>┃<span style=\"font-weight: bold\"> time_control_type_count </span>┃\n",
       "┡━━━━━━━━━━━━━━━━━━━╇━━━━━━━━━━━━━━━━━━━━━━━━━┩\n",
       "│ <span style=\"color: #7f7f7f; text-decoration-color: #7f7f7f\">string</span>            │ <span style=\"color: #7f7f7f; text-decoration-color: #7f7f7f\">int64</span>                   │\n",
       "├───────────────────┼─────────────────────────┤\n",
       "│ <span style=\"color: #008000; text-decoration-color: #008000\">UNLIMITED        </span> │                 <span style=\"color: #008080; text-decoration-color: #008080; font-weight: bold\">3041220</span> │\n",
       "│ <span style=\"color: #008000; text-decoration-color: #008000\">STANDARD         </span> │                 <span style=\"color: #008080; text-decoration-color: #008080; font-weight: bold\">2148509</span> │\n",
       "│ <span style=\"color: #008000; text-decoration-color: #008000\">BULLET           </span> │              <span style=\"color: #008080; text-decoration-color: #008080; font-weight: bold\">1786141369</span> │\n",
       "│ <span style=\"color: #008000; text-decoration-color: #008000\">BLITZ            </span> │              <span style=\"color: #008080; text-decoration-color: #008080; font-weight: bold\">3971380102</span> │\n",
       "│ <span style=\"color: #008000; text-decoration-color: #008000\">RAPID            </span> │               <span style=\"color: #008080; text-decoration-color: #008080; font-weight: bold\">224913245</span> │\n",
       "└───────────────────┴─────────────────────────┘\n",
       "</pre>\n"
      ],
      "text/plain": [
       "┏━━━━━━━━━━━━━━━━━━━┳━━━━━━━━━━━━━━━━━━━━━━━━━┓\n",
       "┃\u001b[1m \u001b[0m\u001b[1mtime_control_type\u001b[0m\u001b[1m \u001b[0m┃\u001b[1m \u001b[0m\u001b[1mtime_control_type_count\u001b[0m\u001b[1m \u001b[0m┃\n",
       "┡━━━━━━━━━━━━━━━━━━━╇━━━━━━━━━━━━━━━━━━━━━━━━━┩\n",
       "│ \u001b[2mstring\u001b[0m            │ \u001b[2mint64\u001b[0m                   │\n",
       "├───────────────────┼─────────────────────────┤\n",
       "│ \u001b[32mUNLIMITED        \u001b[0m │                 \u001b[1;36m3041220\u001b[0m │\n",
       "│ \u001b[32mSTANDARD         \u001b[0m │                 \u001b[1;36m2148509\u001b[0m │\n",
       "│ \u001b[32mBULLET           \u001b[0m │              \u001b[1;36m1786141369\u001b[0m │\n",
       "│ \u001b[32mBLITZ            \u001b[0m │              \u001b[1;36m3971380102\u001b[0m │\n",
       "│ \u001b[32mRAPID            \u001b[0m │               \u001b[1;36m224913245\u001b[0m │\n",
       "└───────────────────┴─────────────────────────┘\n"
      ]
     },
     "execution_count": 4,
     "metadata": {},
     "output_type": "execute_result"
    }
   ],
   "source": [
    "%%time\n",
    "import ibis.expr.types as ir\n",
    "\n",
    "\n",
    "def parse_time_control(time_control: ir.StringColumn) -> dict[str, ir.Column]:\n",
    "    index = time_control.find(\"+\")\n",
    "    base_time = time_control.substr(0, index).try_cast(int)\n",
    "    increment = time_control.substr(index + 1).try_cast(int)\n",
    "\n",
    "    time_control_type = (\n",
    "        ibis.case()\n",
    "        .when(time_control.isnull() | time_control.startswith(\"?\"), \"UNKNOWN\")\n",
    "        .when(time_control.startswith(\"-\"), \"UNLIMITED\")\n",
    "        .when(base_time + 60 * increment < 3 * 60, \"BULLET\")\n",
    "        .when(base_time + 60 * increment < 15 * 60, \"BLITZ\")\n",
    "        .when(base_time + 60 * increment < 60 * 60, \"RAPID\")\n",
    "        .else_(\"STANDARD\")\n",
    "        .end()\n",
    "    )\n",
    "\n",
    "    return {\n",
    "        \"time_control_base_time\": base_time,\n",
    "        \"time_control_increment\": increment,\n",
    "        \"time_control_type\": time_control_type,\n",
    "    }\n",
    "\n",
    "\n",
    "moves_with_parsed_time_control = moves.mutate(**parse_time_control(_.time_control))\n",
    "moves_with_parsed_time_control.time_control_type.value_counts().preview()"
   ]
  },
  {
   "cell_type": "code",
   "execution_count": 5,
   "id": "d4be5678-80fd-4599-af1b-4418f10036d8",
   "metadata": {},
   "outputs": [
    {
     "name": "stdout",
     "output_type": "stream",
     "text": [
      "CPU times: user 23min 26s, sys: 1min 59s, total: 25min 26s\n",
      "Wall time: 11.9 s\n"
     ]
    },
    {
     "data": {
      "text/plain": [
       "8133979"
      ]
     },
     "execution_count": 5,
     "metadata": {},
     "output_type": "execute_result"
    }
   ],
   "source": [
    "%%time\n",
    "games_with_evals = (\n",
    "    moves.mutate(has_eval=_.move_comment.contains(\"[%eval\"))\n",
    "    .group_by(_.site)\n",
    "    .agg(\n",
    "        percent_has_eval=_.has_eval.mean(),\n",
    "        has_no_eval_count=_.count() - _.has_eval.sum(),\n",
    "    )\n",
    "    .mutate(\n",
    "        has_no_eval_count=ibis.ifelse(_.percent_has_eval == 0, -1, _.has_no_eval_count)\n",
    "    )[_.has_no_eval_count.between(0, 1)]\n",
    "    .cache()\n",
    ")\n",
    "games_with_evals.count().to_pyarrow().as_py()"
   ]
  },
  {
   "cell_type": "code",
   "execution_count": 6,
   "id": "ed049410-7b9c-4491-a09e-df1cabc553d3",
   "metadata": {},
   "outputs": [
    {
     "name": "stdout",
     "output_type": "stream",
     "text": [
      "CPU times: user 6min 39s, sys: 6.16 s, total: 6min 45s\n",
      "Wall time: 3.93 s\n"
     ]
    },
    {
     "data": {
      "text/plain": [
       "8133979"
      ]
     },
     "execution_count": 6,
     "metadata": {},
     "output_type": "execute_result"
    }
   ],
   "source": [
    "%%time\n",
    "moves_with_evals = games_with_evals[[\"site\"]].join(\n",
    "    moves_with_parsed_time_control, \"site\"\n",
    ")\n",
    "moves_with_evals.site.nunique().to_pyarrow().as_py()"
   ]
  },
  {
   "cell_type": "code",
   "execution_count": 7,
   "id": "cb8f471a-bc6c-4a7f-8134-93d75594010e",
   "metadata": {},
   "outputs": [
    {
     "name": "stdout",
     "output_type": "stream",
     "text": [
      "CPU times: user 4min 23s, sys: 12.1 s, total: 4min 35s\n",
      "Wall time: 4.23 s\n"
     ]
    },
    {
     "data": {
      "text/html": [
       "<pre style=\"white-space:pre;overflow-x:auto;line-height:normal;font-family:Menlo,'DejaVu Sans Mono',consolas,'Courier New',monospace\">┏━━━━━━━━━━━━━━━━━━┳━━━━━━━━━━━━━━━━━━━┓\n",
       "┃<span style=\"font-weight: bold\"> termination      </span>┃<span style=\"font-weight: bold\"> termination_count </span>┃\n",
       "┡━━━━━━━━━━━━━━━━━━╇━━━━━━━━━━━━━━━━━━━┩\n",
       "│ <span style=\"color: #7f7f7f; text-decoration-color: #7f7f7f\">string</span>           │ <span style=\"color: #7f7f7f; text-decoration-color: #7f7f7f\">int64</span>             │\n",
       "├──────────────────┼───────────────────┤\n",
       "│ <span style=\"color: #008000; text-decoration-color: #008000\">Abandoned       </span> │               <span style=\"color: #008080; text-decoration-color: #008080; font-weight: bold\">120</span> │\n",
       "│ <span style=\"color: #008000; text-decoration-color: #008000\">Normal          </span> │           <span style=\"color: #008080; text-decoration-color: #008080; font-weight: bold\">6174588</span> │\n",
       "│ <span style=\"color: #008000; text-decoration-color: #008000\">Rules infraction</span> │               <span style=\"color: #008080; text-decoration-color: #008080; font-weight: bold\">443</span> │\n",
       "│ <span style=\"color: #008000; text-decoration-color: #008000\">Time forfeit    </span> │           <span style=\"color: #008080; text-decoration-color: #008080; font-weight: bold\">1958828</span> │\n",
       "└──────────────────┴───────────────────┘\n",
       "</pre>\n"
      ],
      "text/plain": [
       "┏━━━━━━━━━━━━━━━━━━┳━━━━━━━━━━━━━━━━━━━┓\n",
       "┃\u001b[1m \u001b[0m\u001b[1mtermination\u001b[0m\u001b[1m     \u001b[0m\u001b[1m \u001b[0m┃\u001b[1m \u001b[0m\u001b[1mtermination_count\u001b[0m\u001b[1m \u001b[0m┃\n",
       "┡━━━━━━━━━━━━━━━━━━╇━━━━━━━━━━━━━━━━━━━┩\n",
       "│ \u001b[2mstring\u001b[0m           │ \u001b[2mint64\u001b[0m             │\n",
       "├──────────────────┼───────────────────┤\n",
       "│ \u001b[32mAbandoned       \u001b[0m │               \u001b[1;36m120\u001b[0m │\n",
       "│ \u001b[32mNormal          \u001b[0m │           \u001b[1;36m6174588\u001b[0m │\n",
       "│ \u001b[32mRules infraction\u001b[0m │               \u001b[1;36m443\u001b[0m │\n",
       "│ \u001b[32mTime forfeit    \u001b[0m │           \u001b[1;36m1958828\u001b[0m │\n",
       "└──────────────────┴───────────────────┘\n"
      ]
     },
     "execution_count": 7,
     "metadata": {},
     "output_type": "execute_result"
    }
   ],
   "source": [
    "%%time\n",
    "moves_with_evals[_.move_ply == 1].termination.value_counts().preview()"
   ]
  },
  {
   "cell_type": "code",
   "execution_count": 8,
   "id": "79117270-ecba-4832-98d0-b31dd3839a28",
   "metadata": {},
   "outputs": [
    {
     "name": "stdout",
     "output_type": "stream",
     "text": [
      "CPU times: user 15min 10s, sys: 34.3 s, total: 15min 45s\n",
      "Wall time: 5.79 s\n"
     ]
    },
    {
     "data": {
      "text/html": [
       "<pre style=\"white-space:pre;overflow-x:auto;line-height:normal;font-family:Menlo,'DejaVu Sans Mono',consolas,'Courier New',monospace\">┏━━━━━━━━━━━┳━━━━━━━━━━━━━━━━━┓\n",
       "┃<span style=\"font-weight: bold\"> has_clock </span>┃<span style=\"font-weight: bold\"> has_clock_count </span>┃\n",
       "┡━━━━━━━━━━━╇━━━━━━━━━━━━━━━━━┩\n",
       "│ <span style=\"color: #7f7f7f; text-decoration-color: #7f7f7f\">boolean</span>   │ <span style=\"color: #7f7f7f; text-decoration-color: #7f7f7f\">int64</span>           │\n",
       "├───────────┼─────────────────┤\n",
       "│ True      │       <span style=\"color: #008080; text-decoration-color: #008080; font-weight: bold\">534134430</span> │\n",
       "│ False     │          <span style=\"color: #008080; text-decoration-color: #008080; font-weight: bold\">586525</span> │\n",
       "└───────────┴─────────────────┘\n",
       "</pre>\n"
      ],
      "text/plain": [
       "┏━━━━━━━━━━━┳━━━━━━━━━━━━━━━━━┓\n",
       "┃\u001b[1m \u001b[0m\u001b[1mhas_clock\u001b[0m\u001b[1m \u001b[0m┃\u001b[1m \u001b[0m\u001b[1mhas_clock_count\u001b[0m\u001b[1m \u001b[0m┃\n",
       "┡━━━━━━━━━━━╇━━━━━━━━━━━━━━━━━┩\n",
       "│ \u001b[2mboolean\u001b[0m   │ \u001b[2mint64\u001b[0m           │\n",
       "├───────────┼─────────────────┤\n",
       "│ True      │       \u001b[1;36m534134430\u001b[0m │\n",
       "│ False     │          \u001b[1;36m586525\u001b[0m │\n",
       "└───────────┴─────────────────┘\n"
      ]
     },
     "execution_count": 8,
     "metadata": {},
     "output_type": "execute_result"
    }
   ],
   "source": [
    "%%time\n",
    "moves_with_evals.mutate(\n",
    "    has_clock=_.move_comment.contains(\"[%clk\")\n",
    ").has_clock.value_counts().preview()"
   ]
  },
  {
   "cell_type": "code",
   "execution_count": 9,
   "id": "20ea2c7c-19e0-48dd-9f7a-35200a34da45",
   "metadata": {},
   "outputs": [
    {
     "name": "stdout",
     "output_type": "stream",
     "text": [
      "CPU times: user 1h 22min 26s, sys: 32.1 s, total: 1h 22min 58s\n",
      "Wall time: 20.8 s\n"
     ]
    },
    {
     "data": {
      "text/html": [
       "<pre style=\"white-space:pre;overflow-x:auto;line-height:normal;font-family:Menlo,'DejaVu Sans Mono',consolas,'Courier New',monospace\">┏━━━━━━━━━━━━━━━━━━━┳━━━━━━━━━━━┳━━━━━━━━━━━━━┓\n",
       "┃<span style=\"font-weight: bold\"> time_control_type </span>┃<span style=\"font-weight: bold\"> has_clock </span>┃<span style=\"font-weight: bold\"> CountStar() </span>┃\n",
       "┡━━━━━━━━━━━━━━━━━━━╇━━━━━━━━━━━╇━━━━━━━━━━━━━┩\n",
       "│ <span style=\"color: #7f7f7f; text-decoration-color: #7f7f7f\">string</span>            │ <span style=\"color: #7f7f7f; text-decoration-color: #7f7f7f\">boolean</span>   │ <span style=\"color: #7f7f7f; text-decoration-color: #7f7f7f\">int64</span>       │\n",
       "├───────────────────┼───────────┼─────────────┤\n",
       "│ <span style=\"color: #008000; text-decoration-color: #008000\">BULLET           </span> │ True      │    <span style=\"color: #008080; text-decoration-color: #008080; font-weight: bold\">84672914</span> │\n",
       "│ <span style=\"color: #008000; text-decoration-color: #008000\">BLITZ            </span> │ True      │   <span style=\"color: #008080; text-decoration-color: #008080; font-weight: bold\">385233620</span> │\n",
       "│ <span style=\"color: #008000; text-decoration-color: #008000\">RAPID            </span> │ True      │    <span style=\"color: #008080; text-decoration-color: #008080; font-weight: bold\">63356151</span> │\n",
       "│ <span style=\"color: #008000; text-decoration-color: #008000\">UNLIMITED        </span> │ False     │      <span style=\"color: #008080; text-decoration-color: #008080; font-weight: bold\">586525</span> │\n",
       "│ <span style=\"color: #008000; text-decoration-color: #008000\">STANDARD         </span> │ True      │      <span style=\"color: #008080; text-decoration-color: #008080; font-weight: bold\">871745</span> │\n",
       "└───────────────────┴───────────┴─────────────┘\n",
       "</pre>\n"
      ],
      "text/plain": [
       "┏━━━━━━━━━━━━━━━━━━━┳━━━━━━━━━━━┳━━━━━━━━━━━━━┓\n",
       "┃\u001b[1m \u001b[0m\u001b[1mtime_control_type\u001b[0m\u001b[1m \u001b[0m┃\u001b[1m \u001b[0m\u001b[1mhas_clock\u001b[0m\u001b[1m \u001b[0m┃\u001b[1m \u001b[0m\u001b[1mCountStar()\u001b[0m\u001b[1m \u001b[0m┃\n",
       "┡━━━━━━━━━━━━━━━━━━━╇━━━━━━━━━━━╇━━━━━━━━━━━━━┩\n",
       "│ \u001b[2mstring\u001b[0m            │ \u001b[2mboolean\u001b[0m   │ \u001b[2mint64\u001b[0m       │\n",
       "├───────────────────┼───────────┼─────────────┤\n",
       "│ \u001b[32mBULLET           \u001b[0m │ True      │    \u001b[1;36m84672914\u001b[0m │\n",
       "│ \u001b[32mBLITZ            \u001b[0m │ True      │   \u001b[1;36m385233620\u001b[0m │\n",
       "│ \u001b[32mRAPID            \u001b[0m │ True      │    \u001b[1;36m63356151\u001b[0m │\n",
       "│ \u001b[32mUNLIMITED        \u001b[0m │ False     │      \u001b[1;36m586525\u001b[0m │\n",
       "│ \u001b[32mSTANDARD         \u001b[0m │ True      │      \u001b[1;36m871745\u001b[0m │\n",
       "└───────────────────┴───────────┴─────────────┘\n"
      ]
     },
     "execution_count": 9,
     "metadata": {},
     "output_type": "execute_result"
    }
   ],
   "source": [
    "%%time\n",
    "moves_with_evals.mutate(has_clock=_.move_comment.contains(\"[%clk\")).group_by(\n",
    "    [\"time_control_type\", \"has_clock\"]\n",
    ").count().preview()"
   ]
  },
  {
   "cell_type": "code",
   "execution_count": 10,
   "id": "e7c399e2-1b5d-4770-8509-ed9bc2e4292c",
   "metadata": {},
   "outputs": [
    {
     "name": "stdout",
     "output_type": "stream",
     "text": [
      "CPU times: user 1h 15min 8s, sys: 22.6 s, total: 1h 15min 31s\n",
      "Wall time: 18.9 s\n"
     ]
    },
    {
     "data": {
      "text/plain": [
       "8123404"
      ]
     },
     "execution_count": 10,
     "metadata": {},
     "output_type": "execute_result"
    }
   ],
   "source": [
    "%%time\n",
    "filtered_moves = moves_with_evals[\n",
    "    (_.time_control_type != \"UNLIMITED\")\n",
    "    & (_.termination.isin([\"Normal\", \"Time forfeit\"]))\n",
    "]\n",
    "filtered_moves.site.nunique().to_pyarrow().as_py()"
   ]
  },
  {
   "cell_type": "code",
   "execution_count": 11,
   "id": "a6bc9129-02b8-47c4-a52d-9b9026d0c4b3",
   "metadata": {},
   "outputs": [
    {
     "name": "stdout",
     "output_type": "stream",
     "text": [
      "CPU times: user 17min 38s, sys: 24.3 s, total: 18min 2s\n",
      "Wall time: 5.11 s\n"
     ]
    }
   ],
   "source": [
    "%%time\n",
    "assert (\n",
    "    not filtered_moves[~_.move_comment.contains(\"[%clk\")].count().to_pyarrow().as_py()\n",
    ")"
   ]
  }
 ],
 "metadata": {
  "kernelspec": {
   "display_name": "Python 3 (ipykernel)",
   "language": "python",
   "name": "python3"
  },
  "language_info": {
   "codemirror_mode": {
    "name": "ipython",
    "version": 3
   },
   "file_extension": ".py",
   "mimetype": "text/x-python",
   "name": "python",
   "nbconvert_exporter": "python",
   "pygments_lexer": "ipython3",
   "version": "3.12.5"
  }
 },
 "nbformat": 4,
 "nbformat_minor": 5
}
