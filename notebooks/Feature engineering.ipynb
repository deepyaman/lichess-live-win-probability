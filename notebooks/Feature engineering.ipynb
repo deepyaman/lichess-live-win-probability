{
 "cells": [
  {
   "cell_type": "code",
   "execution_count": 1,
   "id": "3089ea85-30fa-49d0-a6b8-421f68c4ac1a",
   "metadata": {},
   "outputs": [],
   "source": [
    "import ibis\n",
    "from ibis import _\n",
    "\n",
    "ibis.options.interactive = True"
   ]
  },
  {
   "cell_type": "code",
   "execution_count": 2,
   "id": "19c39195-c829-4235-a3ae-c6603332cdfb",
   "metadata": {},
   "outputs": [
    {
     "data": {
      "text/html": [
       "<pre style=\"white-space:pre;overflow-x:auto;line-height:normal;font-family:Menlo,'DejaVu Sans Mono',consolas,'Courier New',monospace\">┏━━━━━━━━━━━━━━━━━━┳━━━━━━━━━━━━━━━━━━━━━━━━━━━━━━┳━━━━━━━━━━━━┳━━━━━━━━┳━━━━━━━━━━━━┳━━━━━━━━━┳━━━━━━━━┳━━━━━━━━━━━━┳━━━━━━━━━━┳━━━━━━━━━━━┳━━━━━━━━━━━┳━━━━━━━━━━━━━━━━━━━┳━━━━━━━━━━━━━━━━━━━┳━━━━━━━━━━━━━┳━━━━━━━━━━━━━┳━━━━━━━━┳━━━━━━━━━━━━━━━━━━━━━━━━━━━━━━━━━━┳━━━━━━━━━━━━━━┳━━━━━━━━━━━━━┳━━━━━━━━━━┳━━━━━━━━━━━━━━━━┓\n",
       "┃<span style=\"font-weight: bold\"> event            </span>┃<span style=\"font-weight: bold\"> site                         </span>┃<span style=\"font-weight: bold\"> date       </span>┃<span style=\"font-weight: bold\"> round  </span>┃<span style=\"font-weight: bold\"> white      </span>┃<span style=\"font-weight: bold\"> black   </span>┃<span style=\"font-weight: bold\"> result </span>┃<span style=\"font-weight: bold\"> utc_date   </span>┃<span style=\"font-weight: bold\"> utc_time </span>┃<span style=\"font-weight: bold\"> white_elo </span>┃<span style=\"font-weight: bold\"> black_elo </span>┃<span style=\"font-weight: bold\"> white_rating_diff </span>┃<span style=\"font-weight: bold\"> black_rating_diff </span>┃<span style=\"font-weight: bold\"> white_title </span>┃<span style=\"font-weight: bold\"> black_title </span>┃<span style=\"font-weight: bold\"> eco    </span>┃<span style=\"font-weight: bold\"> opening                          </span>┃<span style=\"font-weight: bold\"> time_control </span>┃<span style=\"font-weight: bold\"> termination </span>┃<span style=\"font-weight: bold\"> move_ply </span>┃<span style=\"font-weight: bold\"> move_comment   </span>┃\n",
       "┡━━━━━━━━━━━━━━━━━━╇━━━━━━━━━━━━━━━━━━━━━━━━━━━━━━╇━━━━━━━━━━━━╇━━━━━━━━╇━━━━━━━━━━━━╇━━━━━━━━━╇━━━━━━━━╇━━━━━━━━━━━━╇━━━━━━━━━━╇━━━━━━━━━━━╇━━━━━━━━━━━╇━━━━━━━━━━━━━━━━━━━╇━━━━━━━━━━━━━━━━━━━╇━━━━━━━━━━━━━╇━━━━━━━━━━━━━╇━━━━━━━━╇━━━━━━━━━━━━━━━━━━━━━━━━━━━━━━━━━━╇━━━━━━━━━━━━━━╇━━━━━━━━━━━━━╇━━━━━━━━━━╇━━━━━━━━━━━━━━━━┩\n",
       "│ <span style=\"color: #7f7f7f; text-decoration-color: #7f7f7f\">string</span>           │ <span style=\"color: #7f7f7f; text-decoration-color: #7f7f7f\">string</span>                       │ <span style=\"color: #7f7f7f; text-decoration-color: #7f7f7f\">string</span>     │ <span style=\"color: #7f7f7f; text-decoration-color: #7f7f7f\">string</span> │ <span style=\"color: #7f7f7f; text-decoration-color: #7f7f7f\">string</span>     │ <span style=\"color: #7f7f7f; text-decoration-color: #7f7f7f\">string</span>  │ <span style=\"color: #7f7f7f; text-decoration-color: #7f7f7f\">string</span> │ <span style=\"color: #7f7f7f; text-decoration-color: #7f7f7f\">string</span>     │ <span style=\"color: #7f7f7f; text-decoration-color: #7f7f7f\">string</span>   │ <span style=\"color: #7f7f7f; text-decoration-color: #7f7f7f\">string</span>    │ <span style=\"color: #7f7f7f; text-decoration-color: #7f7f7f\">string</span>    │ <span style=\"color: #7f7f7f; text-decoration-color: #7f7f7f\">string</span>            │ <span style=\"color: #7f7f7f; text-decoration-color: #7f7f7f\">string</span>            │ <span style=\"color: #7f7f7f; text-decoration-color: #7f7f7f\">string</span>      │ <span style=\"color: #7f7f7f; text-decoration-color: #7f7f7f\">string</span>      │ <span style=\"color: #7f7f7f; text-decoration-color: #7f7f7f\">string</span> │ <span style=\"color: #7f7f7f; text-decoration-color: #7f7f7f\">string</span>                           │ <span style=\"color: #7f7f7f; text-decoration-color: #7f7f7f\">string</span>       │ <span style=\"color: #7f7f7f; text-decoration-color: #7f7f7f\">string</span>      │ <span style=\"color: #7f7f7f; text-decoration-color: #7f7f7f\">int64</span>    │ <span style=\"color: #7f7f7f; text-decoration-color: #7f7f7f\">string</span>         │\n",
       "├──────────────────┼──────────────────────────────┼────────────┼────────┼────────────┼─────────┼────────┼────────────┼──────────┼───────────┼───────────┼───────────────────┼───────────────────┼─────────────┼─────────────┼────────┼──────────────────────────────────┼──────────────┼─────────────┼──────────┼────────────────┤\n",
       "│ <span style=\"color: #008000; text-decoration-color: #008000\">Rated Blitz game</span> │ <a href=\"https://lichess.org/oMT7qJHb\" target=\"_blank\"><span style=\"color: #008000; text-decoration-color: #008000\">https://lichess.org/oMT7qJHb</span></a> │ <span style=\"color: #008000; text-decoration-color: #008000\">2024.07.03</span> │ <span style=\"color: #008000; text-decoration-color: #008000\">-     </span> │ <span style=\"color: #008000; text-decoration-color: #008000\">bonasagala</span> │ <span style=\"color: #008000; text-decoration-color: #008000\">DrPoBoz</span> │ <span style=\"color: #008000; text-decoration-color: #008000\">0-1   </span> │ <span style=\"color: #008000; text-decoration-color: #008000\">2024.07.03</span> │ <span style=\"color: #008000; text-decoration-color: #008000\">15:51:34</span> │ <span style=\"color: #008000; text-decoration-color: #008000\">1440     </span> │ <span style=\"color: #008000; text-decoration-color: #008000\">1481     </span> │ <span style=\"color: #008000; text-decoration-color: #008000\">-5               </span> │ <span style=\"color: #008000; text-decoration-color: #008000\">+5               </span> │ <span style=\"color: #7f7f7f; text-decoration-color: #7f7f7f\">NULL</span>        │ <span style=\"color: #7f7f7f; text-decoration-color: #7f7f7f\">NULL</span>        │ <span style=\"color: #008000; text-decoration-color: #008000\">C42   </span> │ <span style=\"color: #008000; text-decoration-color: #008000\">Russian Game: Three Knights Game</span> │ <span style=\"color: #008000; text-decoration-color: #008000\">300+0       </span> │ <span style=\"color: #008000; text-decoration-color: #008000\">Normal     </span> │        <span style=\"color: #008080; text-decoration-color: #008080; font-weight: bold\">1</span> │ <span style=\"color: #008000; text-decoration-color: #008000\">[%clk 0:05:00]</span> │\n",
       "│ <span style=\"color: #008000; text-decoration-color: #008000\">Rated Blitz game</span> │ <a href=\"https://lichess.org/oMT7qJHb\" target=\"_blank\"><span style=\"color: #008000; text-decoration-color: #008000\">https://lichess.org/oMT7qJHb</span></a> │ <span style=\"color: #008000; text-decoration-color: #008000\">2024.07.03</span> │ <span style=\"color: #008000; text-decoration-color: #008000\">-     </span> │ <span style=\"color: #008000; text-decoration-color: #008000\">bonasagala</span> │ <span style=\"color: #008000; text-decoration-color: #008000\">DrPoBoz</span> │ <span style=\"color: #008000; text-decoration-color: #008000\">0-1   </span> │ <span style=\"color: #008000; text-decoration-color: #008000\">2024.07.03</span> │ <span style=\"color: #008000; text-decoration-color: #008000\">15:51:34</span> │ <span style=\"color: #008000; text-decoration-color: #008000\">1440     </span> │ <span style=\"color: #008000; text-decoration-color: #008000\">1481     </span> │ <span style=\"color: #008000; text-decoration-color: #008000\">-5               </span> │ <span style=\"color: #008000; text-decoration-color: #008000\">+5               </span> │ <span style=\"color: #7f7f7f; text-decoration-color: #7f7f7f\">NULL</span>        │ <span style=\"color: #7f7f7f; text-decoration-color: #7f7f7f\">NULL</span>        │ <span style=\"color: #008000; text-decoration-color: #008000\">C42   </span> │ <span style=\"color: #008000; text-decoration-color: #008000\">Russian Game: Three Knights Game</span> │ <span style=\"color: #008000; text-decoration-color: #008000\">300+0       </span> │ <span style=\"color: #008000; text-decoration-color: #008000\">Normal     </span> │        <span style=\"color: #008080; text-decoration-color: #008080; font-weight: bold\">2</span> │ <span style=\"color: #008000; text-decoration-color: #008000\">[%clk 0:05:00]</span> │\n",
       "│ <span style=\"color: #008000; text-decoration-color: #008000\">Rated Blitz game</span> │ <a href=\"https://lichess.org/oMT7qJHb\" target=\"_blank\"><span style=\"color: #008000; text-decoration-color: #008000\">https://lichess.org/oMT7qJHb</span></a> │ <span style=\"color: #008000; text-decoration-color: #008000\">2024.07.03</span> │ <span style=\"color: #008000; text-decoration-color: #008000\">-     </span> │ <span style=\"color: #008000; text-decoration-color: #008000\">bonasagala</span> │ <span style=\"color: #008000; text-decoration-color: #008000\">DrPoBoz</span> │ <span style=\"color: #008000; text-decoration-color: #008000\">0-1   </span> │ <span style=\"color: #008000; text-decoration-color: #008000\">2024.07.03</span> │ <span style=\"color: #008000; text-decoration-color: #008000\">15:51:34</span> │ <span style=\"color: #008000; text-decoration-color: #008000\">1440     </span> │ <span style=\"color: #008000; text-decoration-color: #008000\">1481     </span> │ <span style=\"color: #008000; text-decoration-color: #008000\">-5               </span> │ <span style=\"color: #008000; text-decoration-color: #008000\">+5               </span> │ <span style=\"color: #7f7f7f; text-decoration-color: #7f7f7f\">NULL</span>        │ <span style=\"color: #7f7f7f; text-decoration-color: #7f7f7f\">NULL</span>        │ <span style=\"color: #008000; text-decoration-color: #008000\">C42   </span> │ <span style=\"color: #008000; text-decoration-color: #008000\">Russian Game: Three Knights Game</span> │ <span style=\"color: #008000; text-decoration-color: #008000\">300+0       </span> │ <span style=\"color: #008000; text-decoration-color: #008000\">Normal     </span> │        <span style=\"color: #008080; text-decoration-color: #008080; font-weight: bold\">3</span> │ <span style=\"color: #008000; text-decoration-color: #008000\">[%clk 0:04:55]</span> │\n",
       "│ <span style=\"color: #008000; text-decoration-color: #008000\">Rated Blitz game</span> │ <a href=\"https://lichess.org/oMT7qJHb\" target=\"_blank\"><span style=\"color: #008000; text-decoration-color: #008000\">https://lichess.org/oMT7qJHb</span></a> │ <span style=\"color: #008000; text-decoration-color: #008000\">2024.07.03</span> │ <span style=\"color: #008000; text-decoration-color: #008000\">-     </span> │ <span style=\"color: #008000; text-decoration-color: #008000\">bonasagala</span> │ <span style=\"color: #008000; text-decoration-color: #008000\">DrPoBoz</span> │ <span style=\"color: #008000; text-decoration-color: #008000\">0-1   </span> │ <span style=\"color: #008000; text-decoration-color: #008000\">2024.07.03</span> │ <span style=\"color: #008000; text-decoration-color: #008000\">15:51:34</span> │ <span style=\"color: #008000; text-decoration-color: #008000\">1440     </span> │ <span style=\"color: #008000; text-decoration-color: #008000\">1481     </span> │ <span style=\"color: #008000; text-decoration-color: #008000\">-5               </span> │ <span style=\"color: #008000; text-decoration-color: #008000\">+5               </span> │ <span style=\"color: #7f7f7f; text-decoration-color: #7f7f7f\">NULL</span>        │ <span style=\"color: #7f7f7f; text-decoration-color: #7f7f7f\">NULL</span>        │ <span style=\"color: #008000; text-decoration-color: #008000\">C42   </span> │ <span style=\"color: #008000; text-decoration-color: #008000\">Russian Game: Three Knights Game</span> │ <span style=\"color: #008000; text-decoration-color: #008000\">300+0       </span> │ <span style=\"color: #008000; text-decoration-color: #008000\">Normal     </span> │        <span style=\"color: #008080; text-decoration-color: #008080; font-weight: bold\">4</span> │ <span style=\"color: #008000; text-decoration-color: #008000\">[%clk 0:04:53]</span> │\n",
       "│ <span style=\"color: #008000; text-decoration-color: #008000\">Rated Blitz game</span> │ <a href=\"https://lichess.org/oMT7qJHb\" target=\"_blank\"><span style=\"color: #008000; text-decoration-color: #008000\">https://lichess.org/oMT7qJHb</span></a> │ <span style=\"color: #008000; text-decoration-color: #008000\">2024.07.03</span> │ <span style=\"color: #008000; text-decoration-color: #008000\">-     </span> │ <span style=\"color: #008000; text-decoration-color: #008000\">bonasagala</span> │ <span style=\"color: #008000; text-decoration-color: #008000\">DrPoBoz</span> │ <span style=\"color: #008000; text-decoration-color: #008000\">0-1   </span> │ <span style=\"color: #008000; text-decoration-color: #008000\">2024.07.03</span> │ <span style=\"color: #008000; text-decoration-color: #008000\">15:51:34</span> │ <span style=\"color: #008000; text-decoration-color: #008000\">1440     </span> │ <span style=\"color: #008000; text-decoration-color: #008000\">1481     </span> │ <span style=\"color: #008000; text-decoration-color: #008000\">-5               </span> │ <span style=\"color: #008000; text-decoration-color: #008000\">+5               </span> │ <span style=\"color: #7f7f7f; text-decoration-color: #7f7f7f\">NULL</span>        │ <span style=\"color: #7f7f7f; text-decoration-color: #7f7f7f\">NULL</span>        │ <span style=\"color: #008000; text-decoration-color: #008000\">C42   </span> │ <span style=\"color: #008000; text-decoration-color: #008000\">Russian Game: Three Knights Game</span> │ <span style=\"color: #008000; text-decoration-color: #008000\">300+0       </span> │ <span style=\"color: #008000; text-decoration-color: #008000\">Normal     </span> │        <span style=\"color: #008080; text-decoration-color: #008080; font-weight: bold\">5</span> │ <span style=\"color: #008000; text-decoration-color: #008000\">[%clk 0:04:50]</span> │\n",
       "│ <span style=\"color: #008000; text-decoration-color: #008000\">Rated Blitz game</span> │ <a href=\"https://lichess.org/oMT7qJHb\" target=\"_blank\"><span style=\"color: #008000; text-decoration-color: #008000\">https://lichess.org/oMT7qJHb</span></a> │ <span style=\"color: #008000; text-decoration-color: #008000\">2024.07.03</span> │ <span style=\"color: #008000; text-decoration-color: #008000\">-     </span> │ <span style=\"color: #008000; text-decoration-color: #008000\">bonasagala</span> │ <span style=\"color: #008000; text-decoration-color: #008000\">DrPoBoz</span> │ <span style=\"color: #008000; text-decoration-color: #008000\">0-1   </span> │ <span style=\"color: #008000; text-decoration-color: #008000\">2024.07.03</span> │ <span style=\"color: #008000; text-decoration-color: #008000\">15:51:34</span> │ <span style=\"color: #008000; text-decoration-color: #008000\">1440     </span> │ <span style=\"color: #008000; text-decoration-color: #008000\">1481     </span> │ <span style=\"color: #008000; text-decoration-color: #008000\">-5               </span> │ <span style=\"color: #008000; text-decoration-color: #008000\">+5               </span> │ <span style=\"color: #7f7f7f; text-decoration-color: #7f7f7f\">NULL</span>        │ <span style=\"color: #7f7f7f; text-decoration-color: #7f7f7f\">NULL</span>        │ <span style=\"color: #008000; text-decoration-color: #008000\">C42   </span> │ <span style=\"color: #008000; text-decoration-color: #008000\">Russian Game: Three Knights Game</span> │ <span style=\"color: #008000; text-decoration-color: #008000\">300+0       </span> │ <span style=\"color: #008000; text-decoration-color: #008000\">Normal     </span> │        <span style=\"color: #008080; text-decoration-color: #008080; font-weight: bold\">6</span> │ <span style=\"color: #008000; text-decoration-color: #008000\">[%clk 0:04:44]</span> │\n",
       "│ <span style=\"color: #008000; text-decoration-color: #008000\">Rated Blitz game</span> │ <a href=\"https://lichess.org/oMT7qJHb\" target=\"_blank\"><span style=\"color: #008000; text-decoration-color: #008000\">https://lichess.org/oMT7qJHb</span></a> │ <span style=\"color: #008000; text-decoration-color: #008000\">2024.07.03</span> │ <span style=\"color: #008000; text-decoration-color: #008000\">-     </span> │ <span style=\"color: #008000; text-decoration-color: #008000\">bonasagala</span> │ <span style=\"color: #008000; text-decoration-color: #008000\">DrPoBoz</span> │ <span style=\"color: #008000; text-decoration-color: #008000\">0-1   </span> │ <span style=\"color: #008000; text-decoration-color: #008000\">2024.07.03</span> │ <span style=\"color: #008000; text-decoration-color: #008000\">15:51:34</span> │ <span style=\"color: #008000; text-decoration-color: #008000\">1440     </span> │ <span style=\"color: #008000; text-decoration-color: #008000\">1481     </span> │ <span style=\"color: #008000; text-decoration-color: #008000\">-5               </span> │ <span style=\"color: #008000; text-decoration-color: #008000\">+5               </span> │ <span style=\"color: #7f7f7f; text-decoration-color: #7f7f7f\">NULL</span>        │ <span style=\"color: #7f7f7f; text-decoration-color: #7f7f7f\">NULL</span>        │ <span style=\"color: #008000; text-decoration-color: #008000\">C42   </span> │ <span style=\"color: #008000; text-decoration-color: #008000\">Russian Game: Three Knights Game</span> │ <span style=\"color: #008000; text-decoration-color: #008000\">300+0       </span> │ <span style=\"color: #008000; text-decoration-color: #008000\">Normal     </span> │        <span style=\"color: #008080; text-decoration-color: #008080; font-weight: bold\">7</span> │ <span style=\"color: #008000; text-decoration-color: #008000\">[%clk 0:04:48]</span> │\n",
       "│ <span style=\"color: #008000; text-decoration-color: #008000\">Rated Blitz game</span> │ <a href=\"https://lichess.org/oMT7qJHb\" target=\"_blank\"><span style=\"color: #008000; text-decoration-color: #008000\">https://lichess.org/oMT7qJHb</span></a> │ <span style=\"color: #008000; text-decoration-color: #008000\">2024.07.03</span> │ <span style=\"color: #008000; text-decoration-color: #008000\">-     </span> │ <span style=\"color: #008000; text-decoration-color: #008000\">bonasagala</span> │ <span style=\"color: #008000; text-decoration-color: #008000\">DrPoBoz</span> │ <span style=\"color: #008000; text-decoration-color: #008000\">0-1   </span> │ <span style=\"color: #008000; text-decoration-color: #008000\">2024.07.03</span> │ <span style=\"color: #008000; text-decoration-color: #008000\">15:51:34</span> │ <span style=\"color: #008000; text-decoration-color: #008000\">1440     </span> │ <span style=\"color: #008000; text-decoration-color: #008000\">1481     </span> │ <span style=\"color: #008000; text-decoration-color: #008000\">-5               </span> │ <span style=\"color: #008000; text-decoration-color: #008000\">+5               </span> │ <span style=\"color: #7f7f7f; text-decoration-color: #7f7f7f\">NULL</span>        │ <span style=\"color: #7f7f7f; text-decoration-color: #7f7f7f\">NULL</span>        │ <span style=\"color: #008000; text-decoration-color: #008000\">C42   </span> │ <span style=\"color: #008000; text-decoration-color: #008000\">Russian Game: Three Knights Game</span> │ <span style=\"color: #008000; text-decoration-color: #008000\">300+0       </span> │ <span style=\"color: #008000; text-decoration-color: #008000\">Normal     </span> │        <span style=\"color: #008080; text-decoration-color: #008080; font-weight: bold\">8</span> │ <span style=\"color: #008000; text-decoration-color: #008000\">[%clk 0:04:41]</span> │\n",
       "│ <span style=\"color: #008000; text-decoration-color: #008000\">Rated Blitz game</span> │ <a href=\"https://lichess.org/oMT7qJHb\" target=\"_blank\"><span style=\"color: #008000; text-decoration-color: #008000\">https://lichess.org/oMT7qJHb</span></a> │ <span style=\"color: #008000; text-decoration-color: #008000\">2024.07.03</span> │ <span style=\"color: #008000; text-decoration-color: #008000\">-     </span> │ <span style=\"color: #008000; text-decoration-color: #008000\">bonasagala</span> │ <span style=\"color: #008000; text-decoration-color: #008000\">DrPoBoz</span> │ <span style=\"color: #008000; text-decoration-color: #008000\">0-1   </span> │ <span style=\"color: #008000; text-decoration-color: #008000\">2024.07.03</span> │ <span style=\"color: #008000; text-decoration-color: #008000\">15:51:34</span> │ <span style=\"color: #008000; text-decoration-color: #008000\">1440     </span> │ <span style=\"color: #008000; text-decoration-color: #008000\">1481     </span> │ <span style=\"color: #008000; text-decoration-color: #008000\">-5               </span> │ <span style=\"color: #008000; text-decoration-color: #008000\">+5               </span> │ <span style=\"color: #7f7f7f; text-decoration-color: #7f7f7f\">NULL</span>        │ <span style=\"color: #7f7f7f; text-decoration-color: #7f7f7f\">NULL</span>        │ <span style=\"color: #008000; text-decoration-color: #008000\">C42   </span> │ <span style=\"color: #008000; text-decoration-color: #008000\">Russian Game: Three Knights Game</span> │ <span style=\"color: #008000; text-decoration-color: #008000\">300+0       </span> │ <span style=\"color: #008000; text-decoration-color: #008000\">Normal     </span> │        <span style=\"color: #008080; text-decoration-color: #008080; font-weight: bold\">9</span> │ <span style=\"color: #008000; text-decoration-color: #008000\">[%clk 0:04:46]</span> │\n",
       "│ <span style=\"color: #008000; text-decoration-color: #008000\">Rated Blitz game</span> │ <a href=\"https://lichess.org/oMT7qJHb\" target=\"_blank\"><span style=\"color: #008000; text-decoration-color: #008000\">https://lichess.org/oMT7qJHb</span></a> │ <span style=\"color: #008000; text-decoration-color: #008000\">2024.07.03</span> │ <span style=\"color: #008000; text-decoration-color: #008000\">-     </span> │ <span style=\"color: #008000; text-decoration-color: #008000\">bonasagala</span> │ <span style=\"color: #008000; text-decoration-color: #008000\">DrPoBoz</span> │ <span style=\"color: #008000; text-decoration-color: #008000\">0-1   </span> │ <span style=\"color: #008000; text-decoration-color: #008000\">2024.07.03</span> │ <span style=\"color: #008000; text-decoration-color: #008000\">15:51:34</span> │ <span style=\"color: #008000; text-decoration-color: #008000\">1440     </span> │ <span style=\"color: #008000; text-decoration-color: #008000\">1481     </span> │ <span style=\"color: #008000; text-decoration-color: #008000\">-5               </span> │ <span style=\"color: #008000; text-decoration-color: #008000\">+5               </span> │ <span style=\"color: #7f7f7f; text-decoration-color: #7f7f7f\">NULL</span>        │ <span style=\"color: #7f7f7f; text-decoration-color: #7f7f7f\">NULL</span>        │ <span style=\"color: #008000; text-decoration-color: #008000\">C42   </span> │ <span style=\"color: #008000; text-decoration-color: #008000\">Russian Game: Three Knights Game</span> │ <span style=\"color: #008000; text-decoration-color: #008000\">300+0       </span> │ <span style=\"color: #008000; text-decoration-color: #008000\">Normal     </span> │       <span style=\"color: #008080; text-decoration-color: #008080; font-weight: bold\">10</span> │ <span style=\"color: #008000; text-decoration-color: #008000\">[%clk 0:04:39]</span> │\n",
       "│ <span style=\"color: #7f7f7f; text-decoration-color: #7f7f7f\">…</span>                │ <span style=\"color: #7f7f7f; text-decoration-color: #7f7f7f\">…</span>                            │ <span style=\"color: #7f7f7f; text-decoration-color: #7f7f7f\">…</span>          │ <span style=\"color: #7f7f7f; text-decoration-color: #7f7f7f\">…</span>      │ <span style=\"color: #7f7f7f; text-decoration-color: #7f7f7f\">…</span>          │ <span style=\"color: #7f7f7f; text-decoration-color: #7f7f7f\">…</span>       │ <span style=\"color: #7f7f7f; text-decoration-color: #7f7f7f\">…</span>      │ <span style=\"color: #7f7f7f; text-decoration-color: #7f7f7f\">…</span>          │ <span style=\"color: #7f7f7f; text-decoration-color: #7f7f7f\">…</span>        │ <span style=\"color: #7f7f7f; text-decoration-color: #7f7f7f\">…</span>         │ <span style=\"color: #7f7f7f; text-decoration-color: #7f7f7f\">…</span>         │ <span style=\"color: #7f7f7f; text-decoration-color: #7f7f7f\">…</span>                 │ <span style=\"color: #7f7f7f; text-decoration-color: #7f7f7f\">…</span>                 │ <span style=\"color: #7f7f7f; text-decoration-color: #7f7f7f\">…</span>           │ <span style=\"color: #7f7f7f; text-decoration-color: #7f7f7f\">…</span>           │ <span style=\"color: #7f7f7f; text-decoration-color: #7f7f7f\">…</span>      │ <span style=\"color: #7f7f7f; text-decoration-color: #7f7f7f\">…</span>                                │ <span style=\"color: #7f7f7f; text-decoration-color: #7f7f7f\">…</span>            │ <span style=\"color: #7f7f7f; text-decoration-color: #7f7f7f\">…</span>           │        <span style=\"color: #7f7f7f; text-decoration-color: #7f7f7f\">…</span> │ <span style=\"color: #7f7f7f; text-decoration-color: #7f7f7f\">…</span>              │\n",
       "└──────────────────┴──────────────────────────────┴────────────┴────────┴────────────┴─────────┴────────┴────────────┴──────────┴───────────┴───────────┴───────────────────┴───────────────────┴─────────────┴─────────────┴────────┴──────────────────────────────────┴──────────────┴─────────────┴──────────┴────────────────┘\n",
       "</pre>\n"
      ],
      "text/plain": [
       "┏━━━━━━━━━━━━━━━━━━┳━━━━━━━━━━━━━━━━━━━━━━━━━━━━━━┳━━━━━━━━━━━━┳━━━━━━━━┳━━━━━━━━━━━━┳━━━━━━━━━┳━━━━━━━━┳━━━━━━━━━━━━┳━━━━━━━━━━┳━━━━━━━━━━━┳━━━━━━━━━━━┳━━━━━━━━━━━━━━━━━━━┳━━━━━━━━━━━━━━━━━━━┳━━━━━━━━━━━━━┳━━━━━━━━━━━━━┳━━━━━━━━┳━━━━━━━━━━━━━━━━━━━━━━━━━━━━━━━━━━┳━━━━━━━━━━━━━━┳━━━━━━━━━━━━━┳━━━━━━━━━━┳━━━━━━━━━━━━━━━━┓\n",
       "┃\u001b[1m \u001b[0m\u001b[1mevent\u001b[0m\u001b[1m           \u001b[0m\u001b[1m \u001b[0m┃\u001b[1m \u001b[0m\u001b[1msite\u001b[0m\u001b[1m                        \u001b[0m\u001b[1m \u001b[0m┃\u001b[1m \u001b[0m\u001b[1mdate\u001b[0m\u001b[1m      \u001b[0m\u001b[1m \u001b[0m┃\u001b[1m \u001b[0m\u001b[1mround\u001b[0m\u001b[1m \u001b[0m\u001b[1m \u001b[0m┃\u001b[1m \u001b[0m\u001b[1mwhite\u001b[0m\u001b[1m     \u001b[0m\u001b[1m \u001b[0m┃\u001b[1m \u001b[0m\u001b[1mblack\u001b[0m\u001b[1m  \u001b[0m\u001b[1m \u001b[0m┃\u001b[1m \u001b[0m\u001b[1mresult\u001b[0m\u001b[1m \u001b[0m┃\u001b[1m \u001b[0m\u001b[1mutc_date\u001b[0m\u001b[1m  \u001b[0m\u001b[1m \u001b[0m┃\u001b[1m \u001b[0m\u001b[1mutc_time\u001b[0m\u001b[1m \u001b[0m┃\u001b[1m \u001b[0m\u001b[1mwhite_elo\u001b[0m\u001b[1m \u001b[0m┃\u001b[1m \u001b[0m\u001b[1mblack_elo\u001b[0m\u001b[1m \u001b[0m┃\u001b[1m \u001b[0m\u001b[1mwhite_rating_diff\u001b[0m\u001b[1m \u001b[0m┃\u001b[1m \u001b[0m\u001b[1mblack_rating_diff\u001b[0m\u001b[1m \u001b[0m┃\u001b[1m \u001b[0m\u001b[1mwhite_title\u001b[0m\u001b[1m \u001b[0m┃\u001b[1m \u001b[0m\u001b[1mblack_title\u001b[0m\u001b[1m \u001b[0m┃\u001b[1m \u001b[0m\u001b[1meco\u001b[0m\u001b[1m   \u001b[0m\u001b[1m \u001b[0m┃\u001b[1m \u001b[0m\u001b[1mopening\u001b[0m\u001b[1m                         \u001b[0m\u001b[1m \u001b[0m┃\u001b[1m \u001b[0m\u001b[1mtime_control\u001b[0m\u001b[1m \u001b[0m┃\u001b[1m \u001b[0m\u001b[1mtermination\u001b[0m\u001b[1m \u001b[0m┃\u001b[1m \u001b[0m\u001b[1mmove_ply\u001b[0m\u001b[1m \u001b[0m┃\u001b[1m \u001b[0m\u001b[1mmove_comment\u001b[0m\u001b[1m  \u001b[0m\u001b[1m \u001b[0m┃\n",
       "┡━━━━━━━━━━━━━━━━━━╇━━━━━━━━━━━━━━━━━━━━━━━━━━━━━━╇━━━━━━━━━━━━╇━━━━━━━━╇━━━━━━━━━━━━╇━━━━━━━━━╇━━━━━━━━╇━━━━━━━━━━━━╇━━━━━━━━━━╇━━━━━━━━━━━╇━━━━━━━━━━━╇━━━━━━━━━━━━━━━━━━━╇━━━━━━━━━━━━━━━━━━━╇━━━━━━━━━━━━━╇━━━━━━━━━━━━━╇━━━━━━━━╇━━━━━━━━━━━━━━━━━━━━━━━━━━━━━━━━━━╇━━━━━━━━━━━━━━╇━━━━━━━━━━━━━╇━━━━━━━━━━╇━━━━━━━━━━━━━━━━┩\n",
       "│ \u001b[2mstring\u001b[0m           │ \u001b[2mstring\u001b[0m                       │ \u001b[2mstring\u001b[0m     │ \u001b[2mstring\u001b[0m │ \u001b[2mstring\u001b[0m     │ \u001b[2mstring\u001b[0m  │ \u001b[2mstring\u001b[0m │ \u001b[2mstring\u001b[0m     │ \u001b[2mstring\u001b[0m   │ \u001b[2mstring\u001b[0m    │ \u001b[2mstring\u001b[0m    │ \u001b[2mstring\u001b[0m            │ \u001b[2mstring\u001b[0m            │ \u001b[2mstring\u001b[0m      │ \u001b[2mstring\u001b[0m      │ \u001b[2mstring\u001b[0m │ \u001b[2mstring\u001b[0m                           │ \u001b[2mstring\u001b[0m       │ \u001b[2mstring\u001b[0m      │ \u001b[2mint64\u001b[0m    │ \u001b[2mstring\u001b[0m         │\n",
       "├──────────────────┼──────────────────────────────┼────────────┼────────┼────────────┼─────────┼────────┼────────────┼──────────┼───────────┼───────────┼───────────────────┼───────────────────┼─────────────┼─────────────┼────────┼──────────────────────────────────┼──────────────┼─────────────┼──────────┼────────────────┤\n",
       "│ \u001b[32mRated Blitz game\u001b[0m │ \u001b]8;id=335972;https://lichess.org/oMT7qJHb\u001b\\\u001b[32mhttps://lichess.org/oMT7qJHb\u001b[0m\u001b]8;;\u001b\\ │ \u001b[32m2024.07.03\u001b[0m │ \u001b[32m-     \u001b[0m │ \u001b[32mbonasagala\u001b[0m │ \u001b[32mDrPoBoz\u001b[0m │ \u001b[32m0-1   \u001b[0m │ \u001b[32m2024.07.03\u001b[0m │ \u001b[32m15:51:34\u001b[0m │ \u001b[32m1440     \u001b[0m │ \u001b[32m1481     \u001b[0m │ \u001b[32m-5               \u001b[0m │ \u001b[32m+5               \u001b[0m │ \u001b[2mNULL\u001b[0m        │ \u001b[2mNULL\u001b[0m        │ \u001b[32mC42   \u001b[0m │ \u001b[32mRussian Game: Three Knights Game\u001b[0m │ \u001b[32m300+0       \u001b[0m │ \u001b[32mNormal     \u001b[0m │        \u001b[1;36m1\u001b[0m │ \u001b[32m[%clk 0:05:00]\u001b[0m │\n",
       "│ \u001b[32mRated Blitz game\u001b[0m │ \u001b]8;id=486526;https://lichess.org/oMT7qJHb\u001b\\\u001b[32mhttps://lichess.org/oMT7qJHb\u001b[0m\u001b]8;;\u001b\\ │ \u001b[32m2024.07.03\u001b[0m │ \u001b[32m-     \u001b[0m │ \u001b[32mbonasagala\u001b[0m │ \u001b[32mDrPoBoz\u001b[0m │ \u001b[32m0-1   \u001b[0m │ \u001b[32m2024.07.03\u001b[0m │ \u001b[32m15:51:34\u001b[0m │ \u001b[32m1440     \u001b[0m │ \u001b[32m1481     \u001b[0m │ \u001b[32m-5               \u001b[0m │ \u001b[32m+5               \u001b[0m │ \u001b[2mNULL\u001b[0m        │ \u001b[2mNULL\u001b[0m        │ \u001b[32mC42   \u001b[0m │ \u001b[32mRussian Game: Three Knights Game\u001b[0m │ \u001b[32m300+0       \u001b[0m │ \u001b[32mNormal     \u001b[0m │        \u001b[1;36m2\u001b[0m │ \u001b[32m[%clk 0:05:00]\u001b[0m │\n",
       "│ \u001b[32mRated Blitz game\u001b[0m │ \u001b]8;id=454479;https://lichess.org/oMT7qJHb\u001b\\\u001b[32mhttps://lichess.org/oMT7qJHb\u001b[0m\u001b]8;;\u001b\\ │ \u001b[32m2024.07.03\u001b[0m │ \u001b[32m-     \u001b[0m │ \u001b[32mbonasagala\u001b[0m │ \u001b[32mDrPoBoz\u001b[0m │ \u001b[32m0-1   \u001b[0m │ \u001b[32m2024.07.03\u001b[0m │ \u001b[32m15:51:34\u001b[0m │ \u001b[32m1440     \u001b[0m │ \u001b[32m1481     \u001b[0m │ \u001b[32m-5               \u001b[0m │ \u001b[32m+5               \u001b[0m │ \u001b[2mNULL\u001b[0m        │ \u001b[2mNULL\u001b[0m        │ \u001b[32mC42   \u001b[0m │ \u001b[32mRussian Game: Three Knights Game\u001b[0m │ \u001b[32m300+0       \u001b[0m │ \u001b[32mNormal     \u001b[0m │        \u001b[1;36m3\u001b[0m │ \u001b[32m[%clk 0:04:55]\u001b[0m │\n",
       "│ \u001b[32mRated Blitz game\u001b[0m │ \u001b]8;id=624622;https://lichess.org/oMT7qJHb\u001b\\\u001b[32mhttps://lichess.org/oMT7qJHb\u001b[0m\u001b]8;;\u001b\\ │ \u001b[32m2024.07.03\u001b[0m │ \u001b[32m-     \u001b[0m │ \u001b[32mbonasagala\u001b[0m │ \u001b[32mDrPoBoz\u001b[0m │ \u001b[32m0-1   \u001b[0m │ \u001b[32m2024.07.03\u001b[0m │ \u001b[32m15:51:34\u001b[0m │ \u001b[32m1440     \u001b[0m │ \u001b[32m1481     \u001b[0m │ \u001b[32m-5               \u001b[0m │ \u001b[32m+5               \u001b[0m │ \u001b[2mNULL\u001b[0m        │ \u001b[2mNULL\u001b[0m        │ \u001b[32mC42   \u001b[0m │ \u001b[32mRussian Game: Three Knights Game\u001b[0m │ \u001b[32m300+0       \u001b[0m │ \u001b[32mNormal     \u001b[0m │        \u001b[1;36m4\u001b[0m │ \u001b[32m[%clk 0:04:53]\u001b[0m │\n",
       "│ \u001b[32mRated Blitz game\u001b[0m │ \u001b]8;id=770232;https://lichess.org/oMT7qJHb\u001b\\\u001b[32mhttps://lichess.org/oMT7qJHb\u001b[0m\u001b]8;;\u001b\\ │ \u001b[32m2024.07.03\u001b[0m │ \u001b[32m-     \u001b[0m │ \u001b[32mbonasagala\u001b[0m │ \u001b[32mDrPoBoz\u001b[0m │ \u001b[32m0-1   \u001b[0m │ \u001b[32m2024.07.03\u001b[0m │ \u001b[32m15:51:34\u001b[0m │ \u001b[32m1440     \u001b[0m │ \u001b[32m1481     \u001b[0m │ \u001b[32m-5               \u001b[0m │ \u001b[32m+5               \u001b[0m │ \u001b[2mNULL\u001b[0m        │ \u001b[2mNULL\u001b[0m        │ \u001b[32mC42   \u001b[0m │ \u001b[32mRussian Game: Three Knights Game\u001b[0m │ \u001b[32m300+0       \u001b[0m │ \u001b[32mNormal     \u001b[0m │        \u001b[1;36m5\u001b[0m │ \u001b[32m[%clk 0:04:50]\u001b[0m │\n",
       "│ \u001b[32mRated Blitz game\u001b[0m │ \u001b]8;id=445911;https://lichess.org/oMT7qJHb\u001b\\\u001b[32mhttps://lichess.org/oMT7qJHb\u001b[0m\u001b]8;;\u001b\\ │ \u001b[32m2024.07.03\u001b[0m │ \u001b[32m-     \u001b[0m │ \u001b[32mbonasagala\u001b[0m │ \u001b[32mDrPoBoz\u001b[0m │ \u001b[32m0-1   \u001b[0m │ \u001b[32m2024.07.03\u001b[0m │ \u001b[32m15:51:34\u001b[0m │ \u001b[32m1440     \u001b[0m │ \u001b[32m1481     \u001b[0m │ \u001b[32m-5               \u001b[0m │ \u001b[32m+5               \u001b[0m │ \u001b[2mNULL\u001b[0m        │ \u001b[2mNULL\u001b[0m        │ \u001b[32mC42   \u001b[0m │ \u001b[32mRussian Game: Three Knights Game\u001b[0m │ \u001b[32m300+0       \u001b[0m │ \u001b[32mNormal     \u001b[0m │        \u001b[1;36m6\u001b[0m │ \u001b[32m[%clk 0:04:44]\u001b[0m │\n",
       "│ \u001b[32mRated Blitz game\u001b[0m │ \u001b]8;id=23085;https://lichess.org/oMT7qJHb\u001b\\\u001b[32mhttps://lichess.org/oMT7qJHb\u001b[0m\u001b]8;;\u001b\\ │ \u001b[32m2024.07.03\u001b[0m │ \u001b[32m-     \u001b[0m │ \u001b[32mbonasagala\u001b[0m │ \u001b[32mDrPoBoz\u001b[0m │ \u001b[32m0-1   \u001b[0m │ \u001b[32m2024.07.03\u001b[0m │ \u001b[32m15:51:34\u001b[0m │ \u001b[32m1440     \u001b[0m │ \u001b[32m1481     \u001b[0m │ \u001b[32m-5               \u001b[0m │ \u001b[32m+5               \u001b[0m │ \u001b[2mNULL\u001b[0m        │ \u001b[2mNULL\u001b[0m        │ \u001b[32mC42   \u001b[0m │ \u001b[32mRussian Game: Three Knights Game\u001b[0m │ \u001b[32m300+0       \u001b[0m │ \u001b[32mNormal     \u001b[0m │        \u001b[1;36m7\u001b[0m │ \u001b[32m[%clk 0:04:48]\u001b[0m │\n",
       "│ \u001b[32mRated Blitz game\u001b[0m │ \u001b]8;id=244986;https://lichess.org/oMT7qJHb\u001b\\\u001b[32mhttps://lichess.org/oMT7qJHb\u001b[0m\u001b]8;;\u001b\\ │ \u001b[32m2024.07.03\u001b[0m │ \u001b[32m-     \u001b[0m │ \u001b[32mbonasagala\u001b[0m │ \u001b[32mDrPoBoz\u001b[0m │ \u001b[32m0-1   \u001b[0m │ \u001b[32m2024.07.03\u001b[0m │ \u001b[32m15:51:34\u001b[0m │ \u001b[32m1440     \u001b[0m │ \u001b[32m1481     \u001b[0m │ \u001b[32m-5               \u001b[0m │ \u001b[32m+5               \u001b[0m │ \u001b[2mNULL\u001b[0m        │ \u001b[2mNULL\u001b[0m        │ \u001b[32mC42   \u001b[0m │ \u001b[32mRussian Game: Three Knights Game\u001b[0m │ \u001b[32m300+0       \u001b[0m │ \u001b[32mNormal     \u001b[0m │        \u001b[1;36m8\u001b[0m │ \u001b[32m[%clk 0:04:41]\u001b[0m │\n",
       "│ \u001b[32mRated Blitz game\u001b[0m │ \u001b]8;id=720543;https://lichess.org/oMT7qJHb\u001b\\\u001b[32mhttps://lichess.org/oMT7qJHb\u001b[0m\u001b]8;;\u001b\\ │ \u001b[32m2024.07.03\u001b[0m │ \u001b[32m-     \u001b[0m │ \u001b[32mbonasagala\u001b[0m │ \u001b[32mDrPoBoz\u001b[0m │ \u001b[32m0-1   \u001b[0m │ \u001b[32m2024.07.03\u001b[0m │ \u001b[32m15:51:34\u001b[0m │ \u001b[32m1440     \u001b[0m │ \u001b[32m1481     \u001b[0m │ \u001b[32m-5               \u001b[0m │ \u001b[32m+5               \u001b[0m │ \u001b[2mNULL\u001b[0m        │ \u001b[2mNULL\u001b[0m        │ \u001b[32mC42   \u001b[0m │ \u001b[32mRussian Game: Three Knights Game\u001b[0m │ \u001b[32m300+0       \u001b[0m │ \u001b[32mNormal     \u001b[0m │        \u001b[1;36m9\u001b[0m │ \u001b[32m[%clk 0:04:46]\u001b[0m │\n",
       "│ \u001b[32mRated Blitz game\u001b[0m │ \u001b]8;id=513414;https://lichess.org/oMT7qJHb\u001b\\\u001b[32mhttps://lichess.org/oMT7qJHb\u001b[0m\u001b]8;;\u001b\\ │ \u001b[32m2024.07.03\u001b[0m │ \u001b[32m-     \u001b[0m │ \u001b[32mbonasagala\u001b[0m │ \u001b[32mDrPoBoz\u001b[0m │ \u001b[32m0-1   \u001b[0m │ \u001b[32m2024.07.03\u001b[0m │ \u001b[32m15:51:34\u001b[0m │ \u001b[32m1440     \u001b[0m │ \u001b[32m1481     \u001b[0m │ \u001b[32m-5               \u001b[0m │ \u001b[32m+5               \u001b[0m │ \u001b[2mNULL\u001b[0m        │ \u001b[2mNULL\u001b[0m        │ \u001b[32mC42   \u001b[0m │ \u001b[32mRussian Game: Three Knights Game\u001b[0m │ \u001b[32m300+0       \u001b[0m │ \u001b[32mNormal     \u001b[0m │       \u001b[1;36m10\u001b[0m │ \u001b[32m[%clk 0:04:39]\u001b[0m │\n",
       "│ \u001b[2m…\u001b[0m                │ \u001b[2m…\u001b[0m                            │ \u001b[2m…\u001b[0m          │ \u001b[2m…\u001b[0m      │ \u001b[2m…\u001b[0m          │ \u001b[2m…\u001b[0m       │ \u001b[2m…\u001b[0m      │ \u001b[2m…\u001b[0m          │ \u001b[2m…\u001b[0m        │ \u001b[2m…\u001b[0m         │ \u001b[2m…\u001b[0m         │ \u001b[2m…\u001b[0m                 │ \u001b[2m…\u001b[0m                 │ \u001b[2m…\u001b[0m           │ \u001b[2m…\u001b[0m           │ \u001b[2m…\u001b[0m      │ \u001b[2m…\u001b[0m                                │ \u001b[2m…\u001b[0m            │ \u001b[2m…\u001b[0m           │        \u001b[2m…\u001b[0m │ \u001b[2m…\u001b[0m              │\n",
       "└──────────────────┴──────────────────────────────┴────────────┴────────┴────────────┴─────────┴────────┴────────────┴──────────┴───────────┴───────────┴───────────────────┴───────────────────┴─────────────┴─────────────┴────────┴──────────────────────────────────┴──────────────┴─────────────┴──────────┴────────────────┘"
      ]
     },
     "execution_count": 2,
     "metadata": {},
     "output_type": "execute_result"
    }
   ],
   "source": [
    "moves = ibis.read_parquet(\"/data/deepyaman/lichess-2024-07/moves/*.parquet\")\n",
    "moves"
   ]
  },
  {
   "cell_type": "markdown",
   "id": "0c7289d6-d14b-4670-958e-a15b7445dccc",
   "metadata": {},
   "source": [
    "# Filter"
   ]
  },
  {
   "cell_type": "code",
   "execution_count": 3,
   "id": "04df45d1-82b3-4902-abbe-9202209a278f",
   "metadata": {},
   "outputs": [
    {
     "name": "stdout",
     "output_type": "stream",
     "text": [
      "CPU times: user 8min 16s, sys: 52.6 s, total: 9min 9s\n",
      "Wall time: 6.93 s\n"
     ]
    },
    {
     "data": {
      "text/plain": [
       "89850657"
      ]
     },
     "execution_count": 3,
     "metadata": {},
     "output_type": "execute_result"
    }
   ],
   "source": [
    "%%time\n",
    "moves.site.nunique().to_pyarrow().as_py()"
   ]
  },
  {
   "cell_type": "code",
   "execution_count": 4,
   "id": "9f059744-8405-4ec8-9de9-26d10b1dd177",
   "metadata": {},
   "outputs": [
    {
     "name": "stdout",
     "output_type": "stream",
     "text": [
      "CPU times: user 1h 5min 41s, sys: 5.67 s, total: 1h 5min 46s\n",
      "Wall time: 16 s\n"
     ]
    },
    {
     "data": {
      "text/html": [
       "<pre style=\"white-space:pre;overflow-x:auto;line-height:normal;font-family:Menlo,'DejaVu Sans Mono',consolas,'Courier New',monospace\">┏━━━━━━━━━━━━━━━━━━━┳━━━━━━━━━━━━━━━━━━━━━━━━━┓\n",
       "┃<span style=\"font-weight: bold\"> time_control_type </span>┃<span style=\"font-weight: bold\"> time_control_type_count </span>┃\n",
       "┡━━━━━━━━━━━━━━━━━━━╇━━━━━━━━━━━━━━━━━━━━━━━━━┩\n",
       "│ <span style=\"color: #7f7f7f; text-decoration-color: #7f7f7f\">string</span>            │ <span style=\"color: #7f7f7f; text-decoration-color: #7f7f7f\">int64</span>                   │\n",
       "├───────────────────┼─────────────────────────┤\n",
       "│ <span style=\"color: #008000; text-decoration-color: #008000\">RAPID            </span> │               <span style=\"color: #008080; text-decoration-color: #008080; font-weight: bold\">224913245</span> │\n",
       "│ <span style=\"color: #008000; text-decoration-color: #008000\">BULLET           </span> │              <span style=\"color: #008080; text-decoration-color: #008080; font-weight: bold\">1786141369</span> │\n",
       "│ <span style=\"color: #008000; text-decoration-color: #008000\">UNLIMITED        </span> │                 <span style=\"color: #008080; text-decoration-color: #008080; font-weight: bold\">3041220</span> │\n",
       "│ <span style=\"color: #008000; text-decoration-color: #008000\">STANDARD         </span> │                 <span style=\"color: #008080; text-decoration-color: #008080; font-weight: bold\">2148509</span> │\n",
       "│ <span style=\"color: #008000; text-decoration-color: #008000\">BLITZ            </span> │              <span style=\"color: #008080; text-decoration-color: #008080; font-weight: bold\">3971380102</span> │\n",
       "└───────────────────┴─────────────────────────┘\n",
       "</pre>\n"
      ],
      "text/plain": [
       "┏━━━━━━━━━━━━━━━━━━━┳━━━━━━━━━━━━━━━━━━━━━━━━━┓\n",
       "┃\u001b[1m \u001b[0m\u001b[1mtime_control_type\u001b[0m\u001b[1m \u001b[0m┃\u001b[1m \u001b[0m\u001b[1mtime_control_type_count\u001b[0m\u001b[1m \u001b[0m┃\n",
       "┡━━━━━━━━━━━━━━━━━━━╇━━━━━━━━━━━━━━━━━━━━━━━━━┩\n",
       "│ \u001b[2mstring\u001b[0m            │ \u001b[2mint64\u001b[0m                   │\n",
       "├───────────────────┼─────────────────────────┤\n",
       "│ \u001b[32mRAPID            \u001b[0m │               \u001b[1;36m224913245\u001b[0m │\n",
       "│ \u001b[32mBULLET           \u001b[0m │              \u001b[1;36m1786141369\u001b[0m │\n",
       "│ \u001b[32mUNLIMITED        \u001b[0m │                 \u001b[1;36m3041220\u001b[0m │\n",
       "│ \u001b[32mSTANDARD         \u001b[0m │                 \u001b[1;36m2148509\u001b[0m │\n",
       "│ \u001b[32mBLITZ            \u001b[0m │              \u001b[1;36m3971380102\u001b[0m │\n",
       "└───────────────────┴─────────────────────────┘\n"
      ]
     },
     "execution_count": 4,
     "metadata": {},
     "output_type": "execute_result"
    }
   ],
   "source": [
    "%%time\n",
    "import ibis.expr.types as ir\n",
    "\n",
    "\n",
    "def parse_time_control(time_control: ir.StringColumn) -> dict[str, ir.Column]:\n",
    "    index = time_control.find(\"+\")\n",
    "    base_time = time_control.substr(0, index).try_cast(int)\n",
    "    increment = time_control.substr(index + 1).try_cast(int)\n",
    "\n",
    "    time_control_type = (\n",
    "        ibis.case()\n",
    "        .when(time_control.isnull() | time_control.startswith(\"?\"), \"UNKNOWN\")\n",
    "        .when(time_control.startswith(\"-\"), \"UNLIMITED\")\n",
    "        .when(base_time + 60 * increment < 3 * 60, \"BULLET\")\n",
    "        .when(base_time + 60 * increment < 15 * 60, \"BLITZ\")\n",
    "        .when(base_time + 60 * increment < 60 * 60, \"RAPID\")\n",
    "        .else_(\"STANDARD\")\n",
    "        .end()\n",
    "    )\n",
    "\n",
    "    return {\n",
    "        \"time_control_base_time\": base_time,\n",
    "        \"time_control_increment\": increment,\n",
    "        \"time_control_type\": time_control_type,\n",
    "    }\n",
    "\n",
    "\n",
    "moves_with_parsed_time_control = moves.mutate(**parse_time_control(_.time_control))\n",
    "moves_with_parsed_time_control.time_control_type.value_counts().preview()"
   ]
  },
  {
   "cell_type": "code",
   "execution_count": 5,
   "id": "d4be5678-80fd-4599-af1b-4418f10036d8",
   "metadata": {},
   "outputs": [
    {
     "name": "stdout",
     "output_type": "stream",
     "text": [
      "CPU times: user 23min 39s, sys: 1min 50s, total: 25min 29s\n",
      "Wall time: 12 s\n"
     ]
    },
    {
     "data": {
      "text/plain": [
       "8133979"
      ]
     },
     "execution_count": 5,
     "metadata": {},
     "output_type": "execute_result"
    }
   ],
   "source": [
    "%%time\n",
    "games_with_evals = (\n",
    "    moves.mutate(has_eval=_.move_comment.contains(\"[%eval\"))\n",
    "    .group_by(_.site)\n",
    "    .agg(\n",
    "        percent_has_eval=_.has_eval.mean(),\n",
    "        has_no_eval_count=_.count() - _.has_eval.sum(),\n",
    "    )\n",
    "    .mutate(\n",
    "        has_no_eval_count=ibis.ifelse(_.percent_has_eval == 0, -1, _.has_no_eval_count)\n",
    "    )[_.has_no_eval_count.between(0, 1)]\n",
    "    .cache()\n",
    ")\n",
    "games_with_evals.count().to_pyarrow().as_py()"
   ]
  },
  {
   "cell_type": "code",
   "execution_count": 6,
   "id": "ed049410-7b9c-4491-a09e-df1cabc553d3",
   "metadata": {},
   "outputs": [
    {
     "name": "stdout",
     "output_type": "stream",
     "text": [
      "CPU times: user 6min 31s, sys: 4.62 s, total: 6min 36s\n",
      "Wall time: 3.85 s\n"
     ]
    },
    {
     "data": {
      "text/plain": [
       "8133979"
      ]
     },
     "execution_count": 6,
     "metadata": {},
     "output_type": "execute_result"
    }
   ],
   "source": [
    "%%time\n",
    "moves_with_evals = games_with_evals[[\"site\"]].join(\n",
    "    moves_with_parsed_time_control, \"site\"\n",
    ")\n",
    "moves_with_evals.site.nunique().to_pyarrow().as_py()"
   ]
  },
  {
   "cell_type": "code",
   "execution_count": 7,
   "id": "cb8f471a-bc6c-4a7f-8134-93d75594010e",
   "metadata": {},
   "outputs": [
    {
     "name": "stdout",
     "output_type": "stream",
     "text": [
      "CPU times: user 4min 33s, sys: 6.7 s, total: 4min 40s\n",
      "Wall time: 3.88 s\n"
     ]
    },
    {
     "data": {
      "text/html": [
       "<pre style=\"white-space:pre;overflow-x:auto;line-height:normal;font-family:Menlo,'DejaVu Sans Mono',consolas,'Courier New',monospace\">┏━━━━━━━━━━━━━━━━━━┳━━━━━━━━━━━━━━━━━━━┓\n",
       "┃<span style=\"font-weight: bold\"> termination      </span>┃<span style=\"font-weight: bold\"> termination_count </span>┃\n",
       "┡━━━━━━━━━━━━━━━━━━╇━━━━━━━━━━━━━━━━━━━┩\n",
       "│ <span style=\"color: #7f7f7f; text-decoration-color: #7f7f7f\">string</span>           │ <span style=\"color: #7f7f7f; text-decoration-color: #7f7f7f\">int64</span>             │\n",
       "├──────────────────┼───────────────────┤\n",
       "│ <span style=\"color: #008000; text-decoration-color: #008000\">Abandoned       </span> │               <span style=\"color: #008080; text-decoration-color: #008080; font-weight: bold\">120</span> │\n",
       "│ <span style=\"color: #008000; text-decoration-color: #008000\">Normal          </span> │           <span style=\"color: #008080; text-decoration-color: #008080; font-weight: bold\">6174588</span> │\n",
       "│ <span style=\"color: #008000; text-decoration-color: #008000\">Rules infraction</span> │               <span style=\"color: #008080; text-decoration-color: #008080; font-weight: bold\">443</span> │\n",
       "│ <span style=\"color: #008000; text-decoration-color: #008000\">Time forfeit    </span> │           <span style=\"color: #008080; text-decoration-color: #008080; font-weight: bold\">1958828</span> │\n",
       "└──────────────────┴───────────────────┘\n",
       "</pre>\n"
      ],
      "text/plain": [
       "┏━━━━━━━━━━━━━━━━━━┳━━━━━━━━━━━━━━━━━━━┓\n",
       "┃\u001b[1m \u001b[0m\u001b[1mtermination\u001b[0m\u001b[1m     \u001b[0m\u001b[1m \u001b[0m┃\u001b[1m \u001b[0m\u001b[1mtermination_count\u001b[0m\u001b[1m \u001b[0m┃\n",
       "┡━━━━━━━━━━━━━━━━━━╇━━━━━━━━━━━━━━━━━━━┩\n",
       "│ \u001b[2mstring\u001b[0m           │ \u001b[2mint64\u001b[0m             │\n",
       "├──────────────────┼───────────────────┤\n",
       "│ \u001b[32mAbandoned       \u001b[0m │               \u001b[1;36m120\u001b[0m │\n",
       "│ \u001b[32mNormal          \u001b[0m │           \u001b[1;36m6174588\u001b[0m │\n",
       "│ \u001b[32mRules infraction\u001b[0m │               \u001b[1;36m443\u001b[0m │\n",
       "│ \u001b[32mTime forfeit    \u001b[0m │           \u001b[1;36m1958828\u001b[0m │\n",
       "└──────────────────┴───────────────────┘\n"
      ]
     },
     "execution_count": 7,
     "metadata": {},
     "output_type": "execute_result"
    }
   ],
   "source": [
    "%%time\n",
    "moves_with_evals[_.move_ply == 1].termination.value_counts().preview()"
   ]
  },
  {
   "cell_type": "code",
   "execution_count": 8,
   "id": "79117270-ecba-4832-98d0-b31dd3839a28",
   "metadata": {},
   "outputs": [
    {
     "name": "stdout",
     "output_type": "stream",
     "text": [
      "CPU times: user 15min 20s, sys: 30.7 s, total: 15min 51s\n",
      "Wall time: 5.43 s\n"
     ]
    },
    {
     "data": {
      "text/html": [
       "<pre style=\"white-space:pre;overflow-x:auto;line-height:normal;font-family:Menlo,'DejaVu Sans Mono',consolas,'Courier New',monospace\">┏━━━━━━━━━━━┳━━━━━━━━━━━━━━━━━┓\n",
       "┃<span style=\"font-weight: bold\"> has_clock </span>┃<span style=\"font-weight: bold\"> has_clock_count </span>┃\n",
       "┡━━━━━━━━━━━╇━━━━━━━━━━━━━━━━━┩\n",
       "│ <span style=\"color: #7f7f7f; text-decoration-color: #7f7f7f\">boolean</span>   │ <span style=\"color: #7f7f7f; text-decoration-color: #7f7f7f\">int64</span>           │\n",
       "├───────────┼─────────────────┤\n",
       "│ False     │          <span style=\"color: #008080; text-decoration-color: #008080; font-weight: bold\">586525</span> │\n",
       "│ True      │       <span style=\"color: #008080; text-decoration-color: #008080; font-weight: bold\">534134430</span> │\n",
       "└───────────┴─────────────────┘\n",
       "</pre>\n"
      ],
      "text/plain": [
       "┏━━━━━━━━━━━┳━━━━━━━━━━━━━━━━━┓\n",
       "┃\u001b[1m \u001b[0m\u001b[1mhas_clock\u001b[0m\u001b[1m \u001b[0m┃\u001b[1m \u001b[0m\u001b[1mhas_clock_count\u001b[0m\u001b[1m \u001b[0m┃\n",
       "┡━━━━━━━━━━━╇━━━━━━━━━━━━━━━━━┩\n",
       "│ \u001b[2mboolean\u001b[0m   │ \u001b[2mint64\u001b[0m           │\n",
       "├───────────┼─────────────────┤\n",
       "│ False     │          \u001b[1;36m586525\u001b[0m │\n",
       "│ True      │       \u001b[1;36m534134430\u001b[0m │\n",
       "└───────────┴─────────────────┘\n"
      ]
     },
     "execution_count": 8,
     "metadata": {},
     "output_type": "execute_result"
    }
   ],
   "source": [
    "%%time\n",
    "moves_with_evals.mutate(\n",
    "    has_clock=_.move_comment.contains(\"[%clk\")\n",
    ").has_clock.value_counts().preview()"
   ]
  },
  {
   "cell_type": "code",
   "execution_count": 9,
   "id": "20ea2c7c-19e0-48dd-9f7a-35200a34da45",
   "metadata": {},
   "outputs": [
    {
     "name": "stdout",
     "output_type": "stream",
     "text": [
      "CPU times: user 1h 22min 35s, sys: 41.4 s, total: 1h 23min 17s\n",
      "Wall time: 20.9 s\n"
     ]
    },
    {
     "data": {
      "text/html": [
       "<pre style=\"white-space:pre;overflow-x:auto;line-height:normal;font-family:Menlo,'DejaVu Sans Mono',consolas,'Courier New',monospace\">┏━━━━━━━━━━━━━━━━━━━┳━━━━━━━━━━━┳━━━━━━━━━━━━━┓\n",
       "┃<span style=\"font-weight: bold\"> time_control_type </span>┃<span style=\"font-weight: bold\"> has_clock </span>┃<span style=\"font-weight: bold\"> CountStar() </span>┃\n",
       "┡━━━━━━━━━━━━━━━━━━━╇━━━━━━━━━━━╇━━━━━━━━━━━━━┩\n",
       "│ <span style=\"color: #7f7f7f; text-decoration-color: #7f7f7f\">string</span>            │ <span style=\"color: #7f7f7f; text-decoration-color: #7f7f7f\">boolean</span>   │ <span style=\"color: #7f7f7f; text-decoration-color: #7f7f7f\">int64</span>       │\n",
       "├───────────────────┼───────────┼─────────────┤\n",
       "│ <span style=\"color: #008000; text-decoration-color: #008000\">BULLET           </span> │ True      │    <span style=\"color: #008080; text-decoration-color: #008080; font-weight: bold\">84672914</span> │\n",
       "│ <span style=\"color: #008000; text-decoration-color: #008000\">BLITZ            </span> │ True      │   <span style=\"color: #008080; text-decoration-color: #008080; font-weight: bold\">385233620</span> │\n",
       "│ <span style=\"color: #008000; text-decoration-color: #008000\">RAPID            </span> │ True      │    <span style=\"color: #008080; text-decoration-color: #008080; font-weight: bold\">63356151</span> │\n",
       "│ <span style=\"color: #008000; text-decoration-color: #008000\">STANDARD         </span> │ True      │      <span style=\"color: #008080; text-decoration-color: #008080; font-weight: bold\">871745</span> │\n",
       "│ <span style=\"color: #008000; text-decoration-color: #008000\">UNLIMITED        </span> │ False     │      <span style=\"color: #008080; text-decoration-color: #008080; font-weight: bold\">586525</span> │\n",
       "└───────────────────┴───────────┴─────────────┘\n",
       "</pre>\n"
      ],
      "text/plain": [
       "┏━━━━━━━━━━━━━━━━━━━┳━━━━━━━━━━━┳━━━━━━━━━━━━━┓\n",
       "┃\u001b[1m \u001b[0m\u001b[1mtime_control_type\u001b[0m\u001b[1m \u001b[0m┃\u001b[1m \u001b[0m\u001b[1mhas_clock\u001b[0m\u001b[1m \u001b[0m┃\u001b[1m \u001b[0m\u001b[1mCountStar()\u001b[0m\u001b[1m \u001b[0m┃\n",
       "┡━━━━━━━━━━━━━━━━━━━╇━━━━━━━━━━━╇━━━━━━━━━━━━━┩\n",
       "│ \u001b[2mstring\u001b[0m            │ \u001b[2mboolean\u001b[0m   │ \u001b[2mint64\u001b[0m       │\n",
       "├───────────────────┼───────────┼─────────────┤\n",
       "│ \u001b[32mBULLET           \u001b[0m │ True      │    \u001b[1;36m84672914\u001b[0m │\n",
       "│ \u001b[32mBLITZ            \u001b[0m │ True      │   \u001b[1;36m385233620\u001b[0m │\n",
       "│ \u001b[32mRAPID            \u001b[0m │ True      │    \u001b[1;36m63356151\u001b[0m │\n",
       "│ \u001b[32mSTANDARD         \u001b[0m │ True      │      \u001b[1;36m871745\u001b[0m │\n",
       "│ \u001b[32mUNLIMITED        \u001b[0m │ False     │      \u001b[1;36m586525\u001b[0m │\n",
       "└───────────────────┴───────────┴─────────────┘\n"
      ]
     },
     "execution_count": 9,
     "metadata": {},
     "output_type": "execute_result"
    }
   ],
   "source": [
    "%%time\n",
    "moves_with_evals.mutate(has_clock=_.move_comment.contains(\"[%clk\")).group_by(\n",
    "    [\"time_control_type\", \"has_clock\"]\n",
    ").count().preview()"
   ]
  },
  {
   "cell_type": "code",
   "execution_count": 10,
   "id": "e7c399e2-1b5d-4770-8509-ed9bc2e4292c",
   "metadata": {},
   "outputs": [
    {
     "name": "stdout",
     "output_type": "stream",
     "text": [
      "CPU times: user 1h 15min 11s, sys: 16.3 s, total: 1h 15min 27s\n",
      "Wall time: 18.8 s\n"
     ]
    },
    {
     "data": {
      "text/plain": [
       "8123404"
      ]
     },
     "execution_count": 10,
     "metadata": {},
     "output_type": "execute_result"
    }
   ],
   "source": [
    "%%time\n",
    "filtered_moves = moves_with_evals[\n",
    "    (_.time_control_type != \"UNLIMITED\")\n",
    "    & (_.termination.isin([\"Normal\", \"Time forfeit\"]))\n",
    "]\n",
    "filtered_moves.site.nunique().to_pyarrow().as_py()"
   ]
  },
  {
   "cell_type": "code",
   "execution_count": 11,
   "id": "a6bc9129-02b8-47c4-a52d-9b9026d0c4b3",
   "metadata": {},
   "outputs": [
    {
     "name": "stdout",
     "output_type": "stream",
     "text": [
      "CPU times: user 17min 13s, sys: 21.6 s, total: 17min 34s\n",
      "Wall time: 4.97 s\n"
     ]
    }
   ],
   "source": [
    "%%time\n",
    "assert (\n",
    "    not filtered_moves[~_.move_comment.contains(\"[%clk\")].count().to_pyarrow().as_py()\n",
    ")"
   ]
  },
  {
   "cell_type": "markdown",
   "id": "554e2c96-91a8-4969-8e86-e382690a8fff",
   "metadata": {},
   "source": [
    "# Target engineering"
   ]
  },
  {
   "cell_type": "code",
   "execution_count": 12,
   "id": "9bb82cd1-92c5-4571-8fa8-40261db8b8c4",
   "metadata": {},
   "outputs": [
    {
     "name": "stdout",
     "output_type": "stream",
     "text": [
      "CPU times: user 1h 16min 36s, sys: 7.79 s, total: 1h 16min 44s\n",
      "Wall time: 18.9 s\n"
     ]
    },
    {
     "data": {
      "text/html": [
       "<pre style=\"white-space:pre;overflow-x:auto;line-height:normal;font-family:Menlo,'DejaVu Sans Mono',consolas,'Courier New',monospace\">┏━━━━━━━━━┳━━━━━━━━━━━━━━┓\n",
       "┃<span style=\"font-weight: bold\"> result  </span>┃<span style=\"font-weight: bold\"> result_count </span>┃\n",
       "┡━━━━━━━━━╇━━━━━━━━━━━━━━┩\n",
       "│ <span style=\"color: #7f7f7f; text-decoration-color: #7f7f7f\">string</span>  │ <span style=\"color: #7f7f7f; text-decoration-color: #7f7f7f\">int64</span>        │\n",
       "├─────────┼──────────────┤\n",
       "│ <span style=\"color: #008000; text-decoration-color: #008000\">1/2-1/2</span> │     <span style=\"color: #008080; text-decoration-color: #008080; font-weight: bold\">28075283</span> │\n",
       "│ <span style=\"color: #008000; text-decoration-color: #008000\">0-1    </span> │    <span style=\"color: #008080; text-decoration-color: #008080; font-weight: bold\">247528121</span> │\n",
       "│ <span style=\"color: #008000; text-decoration-color: #008000\">1-0    </span> │    <span style=\"color: #008080; text-decoration-color: #008080; font-weight: bold\">258511728</span> │\n",
       "└─────────┴──────────────┘\n",
       "</pre>\n"
      ],
      "text/plain": [
       "┏━━━━━━━━━┳━━━━━━━━━━━━━━┓\n",
       "┃\u001b[1m \u001b[0m\u001b[1mresult\u001b[0m\u001b[1m \u001b[0m\u001b[1m \u001b[0m┃\u001b[1m \u001b[0m\u001b[1mresult_count\u001b[0m\u001b[1m \u001b[0m┃\n",
       "┡━━━━━━━━━╇━━━━━━━━━━━━━━┩\n",
       "│ \u001b[2mstring\u001b[0m  │ \u001b[2mint64\u001b[0m        │\n",
       "├─────────┼──────────────┤\n",
       "│ \u001b[32m1/2-1/2\u001b[0m │     \u001b[1;36m28075283\u001b[0m │\n",
       "│ \u001b[32m0-1    \u001b[0m │    \u001b[1;36m247528121\u001b[0m │\n",
       "│ \u001b[32m1-0    \u001b[0m │    \u001b[1;36m258511728\u001b[0m │\n",
       "└─────────┴──────────────┘\n"
      ]
     },
     "execution_count": 12,
     "metadata": {},
     "output_type": "execute_result"
    }
   ],
   "source": [
    "%%time\n",
    "filtered_moves.result.value_counts().preview()"
   ]
  },
  {
   "cell_type": "markdown",
   "id": "1b176b64-5fc7-4322-a284-cd8599fed801",
   "metadata": {},
   "source": [
    "I'm not sure which computation makes the most logical sense; I suppose either works."
   ]
  },
  {
   "cell_type": "code",
   "execution_count": 13,
   "id": "f85b05a9-ba36-4eee-ae36-260b112eeb3c",
   "metadata": {},
   "outputs": [
    {
     "name": "stdout",
     "output_type": "stream",
     "text": [
      "CPU times: user 1h 20min 9s, sys: 13.2 s, total: 1h 20min 22s\n",
      "Wall time: 19.8 s\n"
     ]
    },
    {
     "data": {
      "text/html": [
       "<pre style=\"white-space:pre;overflow-x:auto;line-height:normal;font-family:Menlo,'DejaVu Sans Mono',consolas,'Courier New',monospace\">┏━━━━━━━━━━━━━━━━━━━━━━━━━━━━━━━━━━━━━━━━━━━━━━━━━━━━━━━━┳━━━━━━━━━━━━━━━━━━━━━━━━━━━━━━━━━━━━━━━━━━━━━━━━━━━━━━━━┓\n",
       "┃<span style=\"font-weight: bold\"> Coalesce((BitwiseXor(Modulus(move_ply, 2), SimpleCase… </span>┃<span style=\"font-weight: bold\"> Coalesce((BitwiseXor(Modulus(move_ply, 2), SimpleCase… </span>┃\n",
       "┡━━━━━━━━━━━━━━━━━━━━━━━━━━━━━━━━━━━━━━━━━━━━━━━━━━━━━━━━╇━━━━━━━━━━━━━━━━━━━━━━━━━━━━━━━━━━━━━━━━━━━━━━━━━━━━━━━━┩\n",
       "│ <span style=\"color: #7f7f7f; text-decoration-color: #7f7f7f\">float64</span>                                                │ <span style=\"color: #7f7f7f; text-decoration-color: #7f7f7f\">int64</span>                                                  │\n",
       "├────────────────────────────────────────────────────────┼────────────────────────────────────────────────────────┤\n",
       "│                                                    <span style=\"color: #008080; text-decoration-color: #008080; font-weight: bold\">0.5</span> │                                               <span style=\"color: #008080; text-decoration-color: #008080; font-weight: bold\">28075283</span> │\n",
       "│                                                    <span style=\"color: #008080; text-decoration-color: #008080; font-weight: bold\">1.0</span> │                                              <span style=\"color: #008080; text-decoration-color: #008080; font-weight: bold\">254839674</span> │\n",
       "│                                                    <span style=\"color: #008080; text-decoration-color: #008080; font-weight: bold\">0.0</span> │                                              <span style=\"color: #008080; text-decoration-color: #008080; font-weight: bold\">251200175</span> │\n",
       "└────────────────────────────────────────────────────────┴────────────────────────────────────────────────────────┘\n",
       "</pre>\n"
      ],
      "text/plain": [
       "┏━━━━━━━━━━━━━━━━━━━━━━━━━━━━━━━━━━━━━━━━━━━━━━━━━━━━━━━━┳━━━━━━━━━━━━━━━━━━━━━━━━━━━━━━━━━━━━━━━━━━━━━━━━━━━━━━━━┓\n",
       "┃\u001b[1m \u001b[0m\u001b[1mCoalesce((BitwiseXor(Modulus(move_ply, 2), SimpleCase…\u001b[0m\u001b[1m \u001b[0m┃\u001b[1m \u001b[0m\u001b[1mCoalesce((BitwiseXor(Modulus(move_ply, 2), SimpleCase…\u001b[0m\u001b[1m \u001b[0m┃\n",
       "┡━━━━━━━━━━━━━━━━━━━━━━━━━━━━━━━━━━━━━━━━━━━━━━━━━━━━━━━━╇━━━━━━━━━━━━━━━━━━━━━━━━━━━━━━━━━━━━━━━━━━━━━━━━━━━━━━━━┩\n",
       "│ \u001b[2mfloat64\u001b[0m                                                │ \u001b[2mint64\u001b[0m                                                  │\n",
       "├────────────────────────────────────────────────────────┼────────────────────────────────────────────────────────┤\n",
       "│                                                    \u001b[1;36m0.5\u001b[0m │                                               \u001b[1;36m28075283\u001b[0m │\n",
       "│                                                    \u001b[1;36m1.0\u001b[0m │                                              \u001b[1;36m254839674\u001b[0m │\n",
       "│                                                    \u001b[1;36m0.0\u001b[0m │                                              \u001b[1;36m251200175\u001b[0m │\n",
       "└────────────────────────────────────────────────────────┴────────────────────────────────────────────────────────┘\n"
      ]
     },
     "execution_count": 13,
     "metadata": {},
     "output_type": "execute_result"
    }
   ],
   "source": [
    "%%time\n",
    "target = (\n",
    "    filtered_moves.move_ply % 2\n",
    "    ^ filtered_moves.result.case().when(\"1-0\", 0).when(\"0-1\", 1).end()\n",
    ").fill_null(0.5)\n",
    "target.value_counts().preview()"
   ]
  },
  {
   "cell_type": "code",
   "execution_count": 14,
   "id": "7b502611-fd7d-4fcd-bc8b-058e8a6afeaa",
   "metadata": {},
   "outputs": [
    {
     "name": "stdout",
     "output_type": "stream",
     "text": [
      "CPU times: user 1h 19min 15s, sys: 7.63 s, total: 1h 19min 22s\n",
      "Wall time: 19.5 s\n"
     ]
    },
    {
     "data": {
      "text/html": [
       "<pre style=\"white-space:pre;overflow-x:auto;line-height:normal;font-family:Menlo,'DejaVu Sans Mono',consolas,'Courier New',monospace\">┏━━━━━━━━━━━━━━━━━━━━━━━━━━━━━━━━━━━━━━━━━━━━━━━━━━━━━━━━┳━━━━━━━━━━━━━━━━━━━━━━━━━━━━━━━━━━━━━━━━━━━━━━━━━━━━━━━━┓\n",
       "┃<span style=\"font-weight: bold\"> Abs(Subtract(Modulus(move_ply, 2), SimpleCase(result,… </span>┃<span style=\"font-weight: bold\"> Abs(Subtract(Modulus(move_ply, 2), SimpleCase(result,… </span>┃\n",
       "┡━━━━━━━━━━━━━━━━━━━━━━━━━━━━━━━━━━━━━━━━━━━━━━━━━━━━━━━━╇━━━━━━━━━━━━━━━━━━━━━━━━━━━━━━━━━━━━━━━━━━━━━━━━━━━━━━━━┩\n",
       "│ <span style=\"color: #7f7f7f; text-decoration-color: #7f7f7f\">float64</span>                                                │ <span style=\"color: #7f7f7f; text-decoration-color: #7f7f7f\">int64</span>                                                  │\n",
       "├────────────────────────────────────────────────────────┼────────────────────────────────────────────────────────┤\n",
       "│                                                    <span style=\"color: #008080; text-decoration-color: #008080; font-weight: bold\">0.0</span> │                                              <span style=\"color: #008080; text-decoration-color: #008080; font-weight: bold\">251200175</span> │\n",
       "│                                                    <span style=\"color: #008080; text-decoration-color: #008080; font-weight: bold\">0.5</span> │                                               <span style=\"color: #008080; text-decoration-color: #008080; font-weight: bold\">28075283</span> │\n",
       "│                                                    <span style=\"color: #008080; text-decoration-color: #008080; font-weight: bold\">1.0</span> │                                              <span style=\"color: #008080; text-decoration-color: #008080; font-weight: bold\">254839674</span> │\n",
       "└────────────────────────────────────────────────────────┴────────────────────────────────────────────────────────┘\n",
       "</pre>\n"
      ],
      "text/plain": [
       "┏━━━━━━━━━━━━━━━━━━━━━━━━━━━━━━━━━━━━━━━━━━━━━━━━━━━━━━━━┳━━━━━━━━━━━━━━━━━━━━━━━━━━━━━━━━━━━━━━━━━━━━━━━━━━━━━━━━┓\n",
       "┃\u001b[1m \u001b[0m\u001b[1mAbs(Subtract(Modulus(move_ply, 2), SimpleCase(result,…\u001b[0m\u001b[1m \u001b[0m┃\u001b[1m \u001b[0m\u001b[1mAbs(Subtract(Modulus(move_ply, 2), SimpleCase(result,…\u001b[0m\u001b[1m \u001b[0m┃\n",
       "┡━━━━━━━━━━━━━━━━━━━━━━━━━━━━━━━━━━━━━━━━━━━━━━━━━━━━━━━━╇━━━━━━━━━━━━━━━━━━━━━━━━━━━━━━━━━━━━━━━━━━━━━━━━━━━━━━━━┩\n",
       "│ \u001b[2mfloat64\u001b[0m                                                │ \u001b[2mint64\u001b[0m                                                  │\n",
       "├────────────────────────────────────────────────────────┼────────────────────────────────────────────────────────┤\n",
       "│                                                    \u001b[1;36m0.0\u001b[0m │                                              \u001b[1;36m251200175\u001b[0m │\n",
       "│                                                    \u001b[1;36m0.5\u001b[0m │                                               \u001b[1;36m28075283\u001b[0m │\n",
       "│                                                    \u001b[1;36m1.0\u001b[0m │                                              \u001b[1;36m254839674\u001b[0m │\n",
       "└────────────────────────────────────────────────────────┴────────────────────────────────────────────────────────┘\n"
      ]
     },
     "execution_count": 14,
     "metadata": {},
     "output_type": "execute_result"
    }
   ],
   "source": [
    "%%time\n",
    "target = (\n",
    "    filtered_moves.move_ply % 2\n",
    "    - filtered_moves.result.case()\n",
    "    .when(\"1-0\", 0)\n",
    "    .when(\"1/2-1/2\", 0.5)\n",
    "    .when(\"0-1\", 1)\n",
    "    .end()\n",
    ").abs()\n",
    "target.value_counts().preview()"
   ]
  },
  {
   "cell_type": "code",
   "execution_count": 15,
   "id": "98be8a59-aa23-4994-aee2-87bac0a6e3ce",
   "metadata": {},
   "outputs": [
    {
     "name": "stdout",
     "output_type": "stream",
     "text": [
      "CPU times: user 1h 22min 36s, sys: 30.7 s, total: 1h 23min 7s\n",
      "Wall time: 21.2 s\n"
     ]
    }
   ],
   "source": [
    "%%time\n",
    "filtered_moves.select(\"site\", \"move_ply\", target).to_parquet(\n",
    "    \"../data/04_feature/target.parquet\"\n",
    ")"
   ]
  },
  {
   "cell_type": "markdown",
   "id": "317b077f-e96e-41bf-82da-0fb47b014d85",
   "metadata": {},
   "source": [
    "# Game-level features"
   ]
  },
  {
   "cell_type": "code",
   "execution_count": 16,
   "id": "c4f22acb-5955-4841-8433-f76557542dbb",
   "metadata": {},
   "outputs": [],
   "source": [
    "game_level_features = []"
   ]
  },
  {
   "cell_type": "code",
   "execution_count": 17,
   "id": "8c410509-c913-4361-b63f-aa2bb8b921c7",
   "metadata": {},
   "outputs": [
    {
     "name": "stdout",
     "output_type": "stream",
     "text": [
      "CPU times: user 23min 54s, sys: 53.5 s, total: 24min 47s\n",
      "Wall time: 24.2 s\n"
     ]
    },
    {
     "data": {
      "text/html": [
       "<pre style=\"white-space:pre;overflow-x:auto;line-height:normal;font-family:Menlo,'DejaVu Sans Mono',consolas,'Courier New',monospace\">┏━━━━━━━━━━━━━━━━━━━━━━━━━━━━━━┳━━━━━━━━━━━━━━━━━━━┳━━━━━━━━━━━━┳━━━━━━━━┳━━━━━━━━━━━━━━━━━━━━━━┳━━━━━━━━━━━━━━━━━━┳━━━━━━━━┳━━━━━━━━━━━━┳━━━━━━━━━━┳━━━━━━━━━━━┳━━━━━━━━━━━┳━━━━━━━━━━━━━━━━━━━┳━━━━━━━━━━━━━━━━━━━┳━━━━━━━━━━━━━┳━━━━━━━━━━━━━┳━━━━━━━━┳━━━━━━━━━━━━━━━━━━━━━━━━━━━━━━━━━━━━━━━━━━━━━━━━━━━━━━┳━━━━━━━━━━━━━━┳━━━━━━━━━━━━━━┳━━━━━━━━━━━━━━━━━━━━━━━━┳━━━━━━━━━━━━━━━━━━━━━━━━┳━━━━━━━━━━━━━━━━━━━┓\n",
       "┃<span style=\"font-weight: bold\"> site                         </span>┃<span style=\"font-weight: bold\"> event             </span>┃<span style=\"font-weight: bold\"> date       </span>┃<span style=\"font-weight: bold\"> round  </span>┃<span style=\"font-weight: bold\"> white                </span>┃<span style=\"font-weight: bold\"> black            </span>┃<span style=\"font-weight: bold\"> result </span>┃<span style=\"font-weight: bold\"> utc_date   </span>┃<span style=\"font-weight: bold\"> utc_time </span>┃<span style=\"font-weight: bold\"> white_elo </span>┃<span style=\"font-weight: bold\"> black_elo </span>┃<span style=\"font-weight: bold\"> white_rating_diff </span>┃<span style=\"font-weight: bold\"> black_rating_diff </span>┃<span style=\"font-weight: bold\"> white_title </span>┃<span style=\"font-weight: bold\"> black_title </span>┃<span style=\"font-weight: bold\"> eco    </span>┃<span style=\"font-weight: bold\"> opening                                              </span>┃<span style=\"font-weight: bold\"> time_control </span>┃<span style=\"font-weight: bold\"> termination  </span>┃<span style=\"font-weight: bold\"> time_control_base_time </span>┃<span style=\"font-weight: bold\"> time_control_increment </span>┃<span style=\"font-weight: bold\"> time_control_type </span>┃\n",
       "┡━━━━━━━━━━━━━━━━━━━━━━━━━━━━━━╇━━━━━━━━━━━━━━━━━━━╇━━━━━━━━━━━━╇━━━━━━━━╇━━━━━━━━━━━━━━━━━━━━━━╇━━━━━━━━━━━━━━━━━━╇━━━━━━━━╇━━━━━━━━━━━━╇━━━━━━━━━━╇━━━━━━━━━━━╇━━━━━━━━━━━╇━━━━━━━━━━━━━━━━━━━╇━━━━━━━━━━━━━━━━━━━╇━━━━━━━━━━━━━╇━━━━━━━━━━━━━╇━━━━━━━━╇━━━━━━━━━━━━━━━━━━━━━━━━━━━━━━━━━━━━━━━━━━━━━━━━━━━━━━╇━━━━━━━━━━━━━━╇━━━━━━━━━━━━━━╇━━━━━━━━━━━━━━━━━━━━━━━━╇━━━━━━━━━━━━━━━━━━━━━━━━╇━━━━━━━━━━━━━━━━━━━┩\n",
       "│ <span style=\"color: #7f7f7f; text-decoration-color: #7f7f7f\">string</span>                       │ <span style=\"color: #7f7f7f; text-decoration-color: #7f7f7f\">string</span>            │ <span style=\"color: #7f7f7f; text-decoration-color: #7f7f7f\">string</span>     │ <span style=\"color: #7f7f7f; text-decoration-color: #7f7f7f\">string</span> │ <span style=\"color: #7f7f7f; text-decoration-color: #7f7f7f\">string</span>               │ <span style=\"color: #7f7f7f; text-decoration-color: #7f7f7f\">string</span>           │ <span style=\"color: #7f7f7f; text-decoration-color: #7f7f7f\">string</span> │ <span style=\"color: #7f7f7f; text-decoration-color: #7f7f7f\">string</span>     │ <span style=\"color: #7f7f7f; text-decoration-color: #7f7f7f\">string</span>   │ <span style=\"color: #7f7f7f; text-decoration-color: #7f7f7f\">string</span>    │ <span style=\"color: #7f7f7f; text-decoration-color: #7f7f7f\">string</span>    │ <span style=\"color: #7f7f7f; text-decoration-color: #7f7f7f\">string</span>            │ <span style=\"color: #7f7f7f; text-decoration-color: #7f7f7f\">string</span>            │ <span style=\"color: #7f7f7f; text-decoration-color: #7f7f7f\">string</span>      │ <span style=\"color: #7f7f7f; text-decoration-color: #7f7f7f\">string</span>      │ <span style=\"color: #7f7f7f; text-decoration-color: #7f7f7f\">string</span> │ <span style=\"color: #7f7f7f; text-decoration-color: #7f7f7f\">string</span>                                               │ <span style=\"color: #7f7f7f; text-decoration-color: #7f7f7f\">string</span>       │ <span style=\"color: #7f7f7f; text-decoration-color: #7f7f7f\">string</span>       │ <span style=\"color: #7f7f7f; text-decoration-color: #7f7f7f\">int64</span>                  │ <span style=\"color: #7f7f7f; text-decoration-color: #7f7f7f\">int64</span>                  │ <span style=\"color: #7f7f7f; text-decoration-color: #7f7f7f\">string</span>            │\n",
       "├──────────────────────────────┼───────────────────┼────────────┼────────┼──────────────────────┼──────────────────┼────────┼────────────┼──────────┼───────────┼───────────┼───────────────────┼───────────────────┼─────────────┼─────────────┼────────┼──────────────────────────────────────────────────────┼──────────────┼──────────────┼────────────────────────┼────────────────────────┼───────────────────┤\n",
       "│ <a href=\"https://lichess.org/RRubPSHU\" target=\"_blank\"><span style=\"color: #008000; text-decoration-color: #008000\">https://lichess.org/RRubPSHU</span></a> │ <span style=\"color: #008000; text-decoration-color: #008000\">Rated Blitz game </span> │ <span style=\"color: #008000; text-decoration-color: #008000\">2024.07.04</span> │ <span style=\"color: #008000; text-decoration-color: #008000\">-     </span> │ <span style=\"color: #008000; text-decoration-color: #008000\">Prime55             </span> │ <span style=\"color: #008000; text-decoration-color: #008000\">labaguetta      </span> │ <span style=\"color: #008000; text-decoration-color: #008000\">0-1   </span> │ <span style=\"color: #008000; text-decoration-color: #008000\">2024.07.04</span> │ <span style=\"color: #008000; text-decoration-color: #008000\">07:34:47</span> │ <span style=\"color: #008000; text-decoration-color: #008000\">1519     </span> │ <span style=\"color: #008000; text-decoration-color: #008000\">1522     </span> │ <span style=\"color: #008000; text-decoration-color: #008000\">-5               </span> │ <span style=\"color: #008000; text-decoration-color: #008000\">+5               </span> │ <span style=\"color: #7f7f7f; text-decoration-color: #7f7f7f\">NULL</span>        │ <span style=\"color: #7f7f7f; text-decoration-color: #7f7f7f\">NULL</span>        │ <span style=\"color: #008000; text-decoration-color: #008000\">C44   </span> │ <span style=\"color: #008000; text-decoration-color: #008000\">Scotch Game: Lolli Variation                        </span> │ <span style=\"color: #008000; text-decoration-color: #008000\">180+0       </span> │ <span style=\"color: #008000; text-decoration-color: #008000\">Normal      </span> │                    <span style=\"color: #008080; text-decoration-color: #008080; font-weight: bold\">180</span> │                      <span style=\"color: #008080; text-decoration-color: #008080; font-weight: bold\">0</span> │ <span style=\"color: #008000; text-decoration-color: #008000\">BLITZ            </span> │\n",
       "│ <a href=\"https://lichess.org/tkwefEuG\" target=\"_blank\"><span style=\"color: #008000; text-decoration-color: #008000\">https://lichess.org/tkwefEuG</span></a> │ <span style=\"color: #008000; text-decoration-color: #008000\">Rated Blitz game </span> │ <span style=\"color: #008000; text-decoration-color: #008000\">2024.07.04</span> │ <span style=\"color: #008000; text-decoration-color: #008000\">-     </span> │ <span style=\"color: #008000; text-decoration-color: #008000\">abhijatdutta        </span> │ <span style=\"color: #008000; text-decoration-color: #008000\">Couscous55      </span> │ <span style=\"color: #008000; text-decoration-color: #008000\">1-0   </span> │ <span style=\"color: #008000; text-decoration-color: #008000\">2024.07.04</span> │ <span style=\"color: #008000; text-decoration-color: #008000\">07:34:47</span> │ <span style=\"color: #008000; text-decoration-color: #008000\">2035     </span> │ <span style=\"color: #008000; text-decoration-color: #008000\">2130     </span> │ <span style=\"color: #008000; text-decoration-color: #008000\">+7               </span> │ <span style=\"color: #008000; text-decoration-color: #008000\">-7               </span> │ <span style=\"color: #7f7f7f; text-decoration-color: #7f7f7f\">NULL</span>        │ <span style=\"color: #7f7f7f; text-decoration-color: #7f7f7f\">NULL</span>        │ <span style=\"color: #008000; text-decoration-color: #008000\">C00   </span> │ <span style=\"color: #008000; text-decoration-color: #008000\">French Defense: Knight Variation                    </span> │ <span style=\"color: #008000; text-decoration-color: #008000\">180+0       </span> │ <span style=\"color: #008000; text-decoration-color: #008000\">Normal      </span> │                    <span style=\"color: #008080; text-decoration-color: #008080; font-weight: bold\">180</span> │                      <span style=\"color: #008080; text-decoration-color: #008080; font-weight: bold\">0</span> │ <span style=\"color: #008000; text-decoration-color: #008000\">BLITZ            </span> │\n",
       "│ <a href=\"https://lichess.org/p6fJa4fI\" target=\"_blank\"><span style=\"color: #008000; text-decoration-color: #008000\">https://lichess.org/p6fJa4fI</span></a> │ <span style=\"color: #008000; text-decoration-color: #008000\">Rated Blitz game </span> │ <span style=\"color: #008000; text-decoration-color: #008000\">2024.07.04</span> │ <span style=\"color: #008000; text-decoration-color: #008000\">-     </span> │ <span style=\"color: #008000; text-decoration-color: #008000\">mahoni_1453         </span> │ <span style=\"color: #008000; text-decoration-color: #008000\">Piink           </span> │ <span style=\"color: #008000; text-decoration-color: #008000\">1-0   </span> │ <span style=\"color: #008000; text-decoration-color: #008000\">2024.07.04</span> │ <span style=\"color: #008000; text-decoration-color: #008000\">07:34:47</span> │ <span style=\"color: #008000; text-decoration-color: #008000\">1468     </span> │ <span style=\"color: #008000; text-decoration-color: #008000\">1481     </span> │ <span style=\"color: #008000; text-decoration-color: #008000\">+6               </span> │ <span style=\"color: #008000; text-decoration-color: #008000\">-21              </span> │ <span style=\"color: #7f7f7f; text-decoration-color: #7f7f7f\">NULL</span>        │ <span style=\"color: #7f7f7f; text-decoration-color: #7f7f7f\">NULL</span>        │ <span style=\"color: #008000; text-decoration-color: #008000\">C00   </span> │ <span style=\"color: #008000; text-decoration-color: #008000\">French Defense: King's Indian Attack                </span> │ <span style=\"color: #008000; text-decoration-color: #008000\">300+0       </span> │ <span style=\"color: #008000; text-decoration-color: #008000\">Normal      </span> │                    <span style=\"color: #008080; text-decoration-color: #008080; font-weight: bold\">300</span> │                      <span style=\"color: #008080; text-decoration-color: #008080; font-weight: bold\">0</span> │ <span style=\"color: #008000; text-decoration-color: #008000\">BLITZ            </span> │\n",
       "│ <a href=\"https://lichess.org/onMtCEob\" target=\"_blank\"><span style=\"color: #008000; text-decoration-color: #008000\">https://lichess.org/onMtCEob</span></a> │ <span style=\"color: #008000; text-decoration-color: #008000\">Rated Bullet game</span> │ <span style=\"color: #008000; text-decoration-color: #008000\">2024.07.04</span> │ <span style=\"color: #008000; text-decoration-color: #008000\">-     </span> │ <span style=\"color: #008000; text-decoration-color: #008000\">julio_wizka         </span> │ <span style=\"color: #008000; text-decoration-color: #008000\">jasiekszach     </span> │ <span style=\"color: #008000; text-decoration-color: #008000\">1-0   </span> │ <span style=\"color: #008000; text-decoration-color: #008000\">2024.07.04</span> │ <span style=\"color: #008000; text-decoration-color: #008000\">07:34:48</span> │ <span style=\"color: #008000; text-decoration-color: #008000\">999      </span> │ <span style=\"color: #008000; text-decoration-color: #008000\">967      </span> │ <span style=\"color: #008000; text-decoration-color: #008000\">+6               </span> │ <span style=\"color: #008000; text-decoration-color: #008000\">-6               </span> │ <span style=\"color: #7f7f7f; text-decoration-color: #7f7f7f\">NULL</span>        │ <span style=\"color: #7f7f7f; text-decoration-color: #7f7f7f\">NULL</span>        │ <span style=\"color: #008000; text-decoration-color: #008000\">C50   </span> │ <span style=\"color: #008000; text-decoration-color: #008000\">Italian Game: Giuoco Piano                          </span> │ <span style=\"color: #008000; text-decoration-color: #008000\">60+0        </span> │ <span style=\"color: #008000; text-decoration-color: #008000\">Time forfeit</span> │                     <span style=\"color: #008080; text-decoration-color: #008080; font-weight: bold\">60</span> │                      <span style=\"color: #008080; text-decoration-color: #008080; font-weight: bold\">0</span> │ <span style=\"color: #008000; text-decoration-color: #008000\">BULLET           </span> │\n",
       "│ <a href=\"https://lichess.org/lwekX5hR\" target=\"_blank\"><span style=\"color: #008000; text-decoration-color: #008000\">https://lichess.org/lwekX5hR</span></a> │ <span style=\"color: #008000; text-decoration-color: #008000\">Rated Bullet game</span> │ <span style=\"color: #008000; text-decoration-color: #008000\">2024.07.04</span> │ <span style=\"color: #008000; text-decoration-color: #008000\">-     </span> │ <span style=\"color: #008000; text-decoration-color: #008000\">tim237              </span> │ <span style=\"color: #008000; text-decoration-color: #008000\">Ragazzo-Martinez</span> │ <span style=\"color: #008000; text-decoration-color: #008000\">0-1   </span> │ <span style=\"color: #008000; text-decoration-color: #008000\">2024.07.04</span> │ <span style=\"color: #008000; text-decoration-color: #008000\">07:34:49</span> │ <span style=\"color: #008000; text-decoration-color: #008000\">922      </span> │ <span style=\"color: #008000; text-decoration-color: #008000\">814      </span> │ <span style=\"color: #008000; text-decoration-color: #008000\">-8               </span> │ <span style=\"color: #008000; text-decoration-color: #008000\">+7               </span> │ <span style=\"color: #7f7f7f; text-decoration-color: #7f7f7f\">NULL</span>        │ <span style=\"color: #7f7f7f; text-decoration-color: #7f7f7f\">NULL</span>        │ <span style=\"color: #008000; text-decoration-color: #008000\">C68   </span> │ <span style=\"color: #008000; text-decoration-color: #008000\">Ruy Lopez: Exchange Variation, Lutikov Variation    </span> │ <span style=\"color: #008000; text-decoration-color: #008000\">120+1       </span> │ <span style=\"color: #008000; text-decoration-color: #008000\">Time forfeit</span> │                    <span style=\"color: #008080; text-decoration-color: #008080; font-weight: bold\">120</span> │                      <span style=\"color: #008080; text-decoration-color: #008080; font-weight: bold\">1</span> │ <span style=\"color: #008000; text-decoration-color: #008000\">BLITZ            </span> │\n",
       "│ <a href=\"https://lichess.org/ki5fhhfX\" target=\"_blank\"><span style=\"color: #008000; text-decoration-color: #008000\">https://lichess.org/ki5fhhfX</span></a> │ <span style=\"color: #008000; text-decoration-color: #008000\">Rated Rapid game </span> │ <span style=\"color: #008000; text-decoration-color: #008000\">2024.07.04</span> │ <span style=\"color: #008000; text-decoration-color: #008000\">-     </span> │ <span style=\"color: #008000; text-decoration-color: #008000\">Marina_Mangutova2006</span> │ <span style=\"color: #008000; text-decoration-color: #008000\">Nucklan         </span> │ <span style=\"color: #008000; text-decoration-color: #008000\">0-1   </span> │ <span style=\"color: #008000; text-decoration-color: #008000\">2024.07.04</span> │ <span style=\"color: #008000; text-decoration-color: #008000\">07:34:55</span> │ <span style=\"color: #008000; text-decoration-color: #008000\">2078     </span> │ <span style=\"color: #008000; text-decoration-color: #008000\">2290     </span> │ <span style=\"color: #008000; text-decoration-color: #008000\">-3               </span> │ <span style=\"color: #008000; text-decoration-color: #008000\">+15              </span> │ <span style=\"color: #7f7f7f; text-decoration-color: #7f7f7f\">NULL</span>        │ <span style=\"color: #7f7f7f; text-decoration-color: #7f7f7f\">NULL</span>        │ <span style=\"color: #008000; text-decoration-color: #008000\">E24   </span> │ <span style=\"color: #008000; text-decoration-color: #008000\">Nimzo-Indian Defense: Sämisch Variation, Accelerated</span> │ <span style=\"color: #008000; text-decoration-color: #008000\">600+5       </span> │ <span style=\"color: #008000; text-decoration-color: #008000\">Normal      </span> │                    <span style=\"color: #008080; text-decoration-color: #008080; font-weight: bold\">600</span> │                      <span style=\"color: #008080; text-decoration-color: #008080; font-weight: bold\">5</span> │ <span style=\"color: #008000; text-decoration-color: #008000\">RAPID            </span> │\n",
       "│ <a href=\"https://lichess.org/dV2rgT7o\" target=\"_blank\"><span style=\"color: #008000; text-decoration-color: #008000\">https://lichess.org/dV2rgT7o</span></a> │ <span style=\"color: #008000; text-decoration-color: #008000\">Rated Blitz game </span> │ <span style=\"color: #008000; text-decoration-color: #008000\">2024.07.04</span> │ <span style=\"color: #008000; text-decoration-color: #008000\">-     </span> │ <span style=\"color: #008000; text-decoration-color: #008000\">hurlou              </span> │ <span style=\"color: #008000; text-decoration-color: #008000\">nagabuncit      </span> │ <span style=\"color: #008000; text-decoration-color: #008000\">1-0   </span> │ <span style=\"color: #008000; text-decoration-color: #008000\">2024.07.04</span> │ <span style=\"color: #008000; text-decoration-color: #008000\">07:34:56</span> │ <span style=\"color: #008000; text-decoration-color: #008000\">983      </span> │ <span style=\"color: #008000; text-decoration-color: #008000\">1000     </span> │ <span style=\"color: #008000; text-decoration-color: #008000\">+6               </span> │ <span style=\"color: #008000; text-decoration-color: #008000\">-6               </span> │ <span style=\"color: #7f7f7f; text-decoration-color: #7f7f7f\">NULL</span>        │ <span style=\"color: #7f7f7f; text-decoration-color: #7f7f7f\">NULL</span>        │ <span style=\"color: #008000; text-decoration-color: #008000\">A40   </span> │ <span style=\"color: #008000; text-decoration-color: #008000\">Englund Gambit                                      </span> │ <span style=\"color: #008000; text-decoration-color: #008000\">180+0       </span> │ <span style=\"color: #008000; text-decoration-color: #008000\">Normal      </span> │                    <span style=\"color: #008080; text-decoration-color: #008080; font-weight: bold\">180</span> │                      <span style=\"color: #008080; text-decoration-color: #008080; font-weight: bold\">0</span> │ <span style=\"color: #008000; text-decoration-color: #008000\">BLITZ            </span> │\n",
       "│ <a href=\"https://lichess.org/hGbfsZdr\" target=\"_blank\"><span style=\"color: #008000; text-decoration-color: #008000\">https://lichess.org/hGbfsZdr</span></a> │ <span style=\"color: #008000; text-decoration-color: #008000\">Rated Rapid game </span> │ <span style=\"color: #008000; text-decoration-color: #008000\">2024.07.04</span> │ <span style=\"color: #008000; text-decoration-color: #008000\">-     </span> │ <span style=\"color: #008000; text-decoration-color: #008000\">qtasq               </span> │ <span style=\"color: #008000; text-decoration-color: #008000\">ryuzakisavenging</span> │ <span style=\"color: #008000; text-decoration-color: #008000\">0-1   </span> │ <span style=\"color: #008000; text-decoration-color: #008000\">2024.07.04</span> │ <span style=\"color: #008000; text-decoration-color: #008000\">07:34:57</span> │ <span style=\"color: #008000; text-decoration-color: #008000\">1913     </span> │ <span style=\"color: #008000; text-decoration-color: #008000\">1907     </span> │ <span style=\"color: #008000; text-decoration-color: #008000\">-6               </span> │ <span style=\"color: #008000; text-decoration-color: #008000\">+6               </span> │ <span style=\"color: #7f7f7f; text-decoration-color: #7f7f7f\">NULL</span>        │ <span style=\"color: #7f7f7f; text-decoration-color: #7f7f7f\">NULL</span>        │ <span style=\"color: #008000; text-decoration-color: #008000\">D10   </span> │ <span style=\"color: #008000; text-decoration-color: #008000\">Slav Defense                                        </span> │ <span style=\"color: #008000; text-decoration-color: #008000\">600+0       </span> │ <span style=\"color: #008000; text-decoration-color: #008000\">Normal      </span> │                    <span style=\"color: #008080; text-decoration-color: #008080; font-weight: bold\">600</span> │                      <span style=\"color: #008080; text-decoration-color: #008080; font-weight: bold\">0</span> │ <span style=\"color: #008000; text-decoration-color: #008000\">BLITZ            </span> │\n",
       "│ <a href=\"https://lichess.org/6RKgmcYO\" target=\"_blank\"><span style=\"color: #008000; text-decoration-color: #008000\">https://lichess.org/6RKgmcYO</span></a> │ <span style=\"color: #008000; text-decoration-color: #008000\">Rated Blitz game </span> │ <span style=\"color: #008000; text-decoration-color: #008000\">2024.07.04</span> │ <span style=\"color: #008000; text-decoration-color: #008000\">-     </span> │ <span style=\"color: #008000; text-decoration-color: #008000\">Babzzyy05           </span> │ <span style=\"color: #008000; text-decoration-color: #008000\">rafik1955       </span> │ <span style=\"color: #008000; text-decoration-color: #008000\">1-0   </span> │ <span style=\"color: #008000; text-decoration-color: #008000\">2024.07.04</span> │ <span style=\"color: #008000; text-decoration-color: #008000\">07:34:53</span> │ <span style=\"color: #008000; text-decoration-color: #008000\">1674     </span> │ <span style=\"color: #008000; text-decoration-color: #008000\">1607     </span> │ <span style=\"color: #008000; text-decoration-color: #008000\">+5               </span> │ <span style=\"color: #008000; text-decoration-color: #008000\">-5               </span> │ <span style=\"color: #7f7f7f; text-decoration-color: #7f7f7f\">NULL</span>        │ <span style=\"color: #7f7f7f; text-decoration-color: #7f7f7f\">NULL</span>        │ <span style=\"color: #008000; text-decoration-color: #008000\">B32   </span> │ <span style=\"color: #008000; text-decoration-color: #008000\">Sicilian Defense: Löwenthal Variation               </span> │ <span style=\"color: #008000; text-decoration-color: #008000\">300+3       </span> │ <span style=\"color: #008000; text-decoration-color: #008000\">Normal      </span> │                    <span style=\"color: #008080; text-decoration-color: #008080; font-weight: bold\">300</span> │                      <span style=\"color: #008080; text-decoration-color: #008080; font-weight: bold\">3</span> │ <span style=\"color: #008000; text-decoration-color: #008000\">BLITZ            </span> │\n",
       "│ <a href=\"https://lichess.org/ioO5G8HI\" target=\"_blank\"><span style=\"color: #008000; text-decoration-color: #008000\">https://lichess.org/ioO5G8HI</span></a> │ <span style=\"color: #008000; text-decoration-color: #008000\">Rated Bullet game</span> │ <span style=\"color: #008000; text-decoration-color: #008000\">2024.07.04</span> │ <span style=\"color: #008000; text-decoration-color: #008000\">-     </span> │ <span style=\"color: #008000; text-decoration-color: #008000\">believe_in_wonder   </span> │ <span style=\"color: #008000; text-decoration-color: #008000\">Boris_Spassky_TM</span> │ <span style=\"color: #008000; text-decoration-color: #008000\">0-1   </span> │ <span style=\"color: #008000; text-decoration-color: #008000\">2024.07.04</span> │ <span style=\"color: #008000; text-decoration-color: #008000\">07:34:54</span> │ <span style=\"color: #008000; text-decoration-color: #008000\">2364     </span> │ <span style=\"color: #008000; text-decoration-color: #008000\">2410     </span> │ <span style=\"color: #008000; text-decoration-color: #008000\">-5               </span> │ <span style=\"color: #008000; text-decoration-color: #008000\">+5               </span> │ <span style=\"color: #7f7f7f; text-decoration-color: #7f7f7f\">NULL</span>        │ <span style=\"color: #7f7f7f; text-decoration-color: #7f7f7f\">NULL</span>        │ <span style=\"color: #008000; text-decoration-color: #008000\">D03   </span> │ <span style=\"color: #008000; text-decoration-color: #008000\">Queen's Pawn Game: Torre Attack, Gossip Variation   </span> │ <span style=\"color: #008000; text-decoration-color: #008000\">60+0        </span> │ <span style=\"color: #008000; text-decoration-color: #008000\">Normal      </span> │                     <span style=\"color: #008080; text-decoration-color: #008080; font-weight: bold\">60</span> │                      <span style=\"color: #008080; text-decoration-color: #008080; font-weight: bold\">0</span> │ <span style=\"color: #008000; text-decoration-color: #008000\">BULLET           </span> │\n",
       "│ <span style=\"color: #7f7f7f; text-decoration-color: #7f7f7f\">…</span>                            │ <span style=\"color: #7f7f7f; text-decoration-color: #7f7f7f\">…</span>                 │ <span style=\"color: #7f7f7f; text-decoration-color: #7f7f7f\">…</span>          │ <span style=\"color: #7f7f7f; text-decoration-color: #7f7f7f\">…</span>      │ <span style=\"color: #7f7f7f; text-decoration-color: #7f7f7f\">…</span>                    │ <span style=\"color: #7f7f7f; text-decoration-color: #7f7f7f\">…</span>                │ <span style=\"color: #7f7f7f; text-decoration-color: #7f7f7f\">…</span>      │ <span style=\"color: #7f7f7f; text-decoration-color: #7f7f7f\">…</span>          │ <span style=\"color: #7f7f7f; text-decoration-color: #7f7f7f\">…</span>        │ <span style=\"color: #7f7f7f; text-decoration-color: #7f7f7f\">…</span>         │ <span style=\"color: #7f7f7f; text-decoration-color: #7f7f7f\">…</span>         │ <span style=\"color: #7f7f7f; text-decoration-color: #7f7f7f\">…</span>                 │ <span style=\"color: #7f7f7f; text-decoration-color: #7f7f7f\">…</span>                 │ <span style=\"color: #7f7f7f; text-decoration-color: #7f7f7f\">…</span>           │ <span style=\"color: #7f7f7f; text-decoration-color: #7f7f7f\">…</span>           │ <span style=\"color: #7f7f7f; text-decoration-color: #7f7f7f\">…</span>      │ <span style=\"color: #7f7f7f; text-decoration-color: #7f7f7f\">…</span>                                                    │ <span style=\"color: #7f7f7f; text-decoration-color: #7f7f7f\">…</span>            │ <span style=\"color: #7f7f7f; text-decoration-color: #7f7f7f\">…</span>            │                      <span style=\"color: #7f7f7f; text-decoration-color: #7f7f7f\">…</span> │                      <span style=\"color: #7f7f7f; text-decoration-color: #7f7f7f\">…</span> │ <span style=\"color: #7f7f7f; text-decoration-color: #7f7f7f\">…</span>                 │\n",
       "└──────────────────────────────┴───────────────────┴────────────┴────────┴──────────────────────┴──────────────────┴────────┴────────────┴──────────┴───────────┴───────────┴───────────────────┴───────────────────┴─────────────┴─────────────┴────────┴──────────────────────────────────────────────────────┴──────────────┴──────────────┴────────────────────────┴────────────────────────┴───────────────────┘\n",
       "</pre>\n"
      ],
      "text/plain": [
       "┏━━━━━━━━━━━━━━━━━━━━━━━━━━━━━━┳━━━━━━━━━━━━━━━━━━━┳━━━━━━━━━━━━┳━━━━━━━━┳━━━━━━━━━━━━━━━━━━━━━━┳━━━━━━━━━━━━━━━━━━┳━━━━━━━━┳━━━━━━━━━━━━┳━━━━━━━━━━┳━━━━━━━━━━━┳━━━━━━━━━━━┳━━━━━━━━━━━━━━━━━━━┳━━━━━━━━━━━━━━━━━━━┳━━━━━━━━━━━━━┳━━━━━━━━━━━━━┳━━━━━━━━┳━━━━━━━━━━━━━━━━━━━━━━━━━━━━━━━━━━━━━━━━━━━━━━━━━━━━━━┳━━━━━━━━━━━━━━┳━━━━━━━━━━━━━━┳━━━━━━━━━━━━━━━━━━━━━━━━┳━━━━━━━━━━━━━━━━━━━━━━━━┳━━━━━━━━━━━━━━━━━━━┓\n",
       "┃\u001b[1m \u001b[0m\u001b[1msite\u001b[0m\u001b[1m                        \u001b[0m\u001b[1m \u001b[0m┃\u001b[1m \u001b[0m\u001b[1mevent\u001b[0m\u001b[1m            \u001b[0m\u001b[1m \u001b[0m┃\u001b[1m \u001b[0m\u001b[1mdate\u001b[0m\u001b[1m      \u001b[0m\u001b[1m \u001b[0m┃\u001b[1m \u001b[0m\u001b[1mround\u001b[0m\u001b[1m \u001b[0m\u001b[1m \u001b[0m┃\u001b[1m \u001b[0m\u001b[1mwhite\u001b[0m\u001b[1m               \u001b[0m\u001b[1m \u001b[0m┃\u001b[1m \u001b[0m\u001b[1mblack\u001b[0m\u001b[1m           \u001b[0m\u001b[1m \u001b[0m┃\u001b[1m \u001b[0m\u001b[1mresult\u001b[0m\u001b[1m \u001b[0m┃\u001b[1m \u001b[0m\u001b[1mutc_date\u001b[0m\u001b[1m  \u001b[0m\u001b[1m \u001b[0m┃\u001b[1m \u001b[0m\u001b[1mutc_time\u001b[0m\u001b[1m \u001b[0m┃\u001b[1m \u001b[0m\u001b[1mwhite_elo\u001b[0m\u001b[1m \u001b[0m┃\u001b[1m \u001b[0m\u001b[1mblack_elo\u001b[0m\u001b[1m \u001b[0m┃\u001b[1m \u001b[0m\u001b[1mwhite_rating_diff\u001b[0m\u001b[1m \u001b[0m┃\u001b[1m \u001b[0m\u001b[1mblack_rating_diff\u001b[0m\u001b[1m \u001b[0m┃\u001b[1m \u001b[0m\u001b[1mwhite_title\u001b[0m\u001b[1m \u001b[0m┃\u001b[1m \u001b[0m\u001b[1mblack_title\u001b[0m\u001b[1m \u001b[0m┃\u001b[1m \u001b[0m\u001b[1meco\u001b[0m\u001b[1m   \u001b[0m\u001b[1m \u001b[0m┃\u001b[1m \u001b[0m\u001b[1mopening\u001b[0m\u001b[1m                                             \u001b[0m\u001b[1m \u001b[0m┃\u001b[1m \u001b[0m\u001b[1mtime_control\u001b[0m\u001b[1m \u001b[0m┃\u001b[1m \u001b[0m\u001b[1mtermination\u001b[0m\u001b[1m \u001b[0m\u001b[1m \u001b[0m┃\u001b[1m \u001b[0m\u001b[1mtime_control_base_time\u001b[0m\u001b[1m \u001b[0m┃\u001b[1m \u001b[0m\u001b[1mtime_control_increment\u001b[0m\u001b[1m \u001b[0m┃\u001b[1m \u001b[0m\u001b[1mtime_control_type\u001b[0m\u001b[1m \u001b[0m┃\n",
       "┡━━━━━━━━━━━━━━━━━━━━━━━━━━━━━━╇━━━━━━━━━━━━━━━━━━━╇━━━━━━━━━━━━╇━━━━━━━━╇━━━━━━━━━━━━━━━━━━━━━━╇━━━━━━━━━━━━━━━━━━╇━━━━━━━━╇━━━━━━━━━━━━╇━━━━━━━━━━╇━━━━━━━━━━━╇━━━━━━━━━━━╇━━━━━━━━━━━━━━━━━━━╇━━━━━━━━━━━━━━━━━━━╇━━━━━━━━━━━━━╇━━━━━━━━━━━━━╇━━━━━━━━╇━━━━━━━━━━━━━━━━━━━━━━━━━━━━━━━━━━━━━━━━━━━━━━━━━━━━━━╇━━━━━━━━━━━━━━╇━━━━━━━━━━━━━━╇━━━━━━━━━━━━━━━━━━━━━━━━╇━━━━━━━━━━━━━━━━━━━━━━━━╇━━━━━━━━━━━━━━━━━━━┩\n",
       "│ \u001b[2mstring\u001b[0m                       │ \u001b[2mstring\u001b[0m            │ \u001b[2mstring\u001b[0m     │ \u001b[2mstring\u001b[0m │ \u001b[2mstring\u001b[0m               │ \u001b[2mstring\u001b[0m           │ \u001b[2mstring\u001b[0m │ \u001b[2mstring\u001b[0m     │ \u001b[2mstring\u001b[0m   │ \u001b[2mstring\u001b[0m    │ \u001b[2mstring\u001b[0m    │ \u001b[2mstring\u001b[0m            │ \u001b[2mstring\u001b[0m            │ \u001b[2mstring\u001b[0m      │ \u001b[2mstring\u001b[0m      │ \u001b[2mstring\u001b[0m │ \u001b[2mstring\u001b[0m                                               │ \u001b[2mstring\u001b[0m       │ \u001b[2mstring\u001b[0m       │ \u001b[2mint64\u001b[0m                  │ \u001b[2mint64\u001b[0m                  │ \u001b[2mstring\u001b[0m            │\n",
       "├──────────────────────────────┼───────────────────┼────────────┼────────┼──────────────────────┼──────────────────┼────────┼────────────┼──────────┼───────────┼───────────┼───────────────────┼───────────────────┼─────────────┼─────────────┼────────┼──────────────────────────────────────────────────────┼──────────────┼──────────────┼────────────────────────┼────────────────────────┼───────────────────┤\n",
       "│ \u001b]8;id=685234;https://lichess.org/RRubPSHU\u001b\\\u001b[32mhttps://lichess.org/RRubPSHU\u001b[0m\u001b]8;;\u001b\\ │ \u001b[32mRated Blitz game \u001b[0m │ \u001b[32m2024.07.04\u001b[0m │ \u001b[32m-     \u001b[0m │ \u001b[32mPrime55             \u001b[0m │ \u001b[32mlabaguetta      \u001b[0m │ \u001b[32m0-1   \u001b[0m │ \u001b[32m2024.07.04\u001b[0m │ \u001b[32m07:34:47\u001b[0m │ \u001b[32m1519     \u001b[0m │ \u001b[32m1522     \u001b[0m │ \u001b[32m-5               \u001b[0m │ \u001b[32m+5               \u001b[0m │ \u001b[2mNULL\u001b[0m        │ \u001b[2mNULL\u001b[0m        │ \u001b[32mC44   \u001b[0m │ \u001b[32mScotch Game: Lolli Variation                        \u001b[0m │ \u001b[32m180+0       \u001b[0m │ \u001b[32mNormal      \u001b[0m │                    \u001b[1;36m180\u001b[0m │                      \u001b[1;36m0\u001b[0m │ \u001b[32mBLITZ            \u001b[0m │\n",
       "│ \u001b]8;id=975208;https://lichess.org/tkwefEuG\u001b\\\u001b[32mhttps://lichess.org/tkwefEuG\u001b[0m\u001b]8;;\u001b\\ │ \u001b[32mRated Blitz game \u001b[0m │ \u001b[32m2024.07.04\u001b[0m │ \u001b[32m-     \u001b[0m │ \u001b[32mabhijatdutta        \u001b[0m │ \u001b[32mCouscous55      \u001b[0m │ \u001b[32m1-0   \u001b[0m │ \u001b[32m2024.07.04\u001b[0m │ \u001b[32m07:34:47\u001b[0m │ \u001b[32m2035     \u001b[0m │ \u001b[32m2130     \u001b[0m │ \u001b[32m+7               \u001b[0m │ \u001b[32m-7               \u001b[0m │ \u001b[2mNULL\u001b[0m        │ \u001b[2mNULL\u001b[0m        │ \u001b[32mC00   \u001b[0m │ \u001b[32mFrench Defense: Knight Variation                    \u001b[0m │ \u001b[32m180+0       \u001b[0m │ \u001b[32mNormal      \u001b[0m │                    \u001b[1;36m180\u001b[0m │                      \u001b[1;36m0\u001b[0m │ \u001b[32mBLITZ            \u001b[0m │\n",
       "│ \u001b]8;id=509480;https://lichess.org/p6fJa4fI\u001b\\\u001b[32mhttps://lichess.org/p6fJa4fI\u001b[0m\u001b]8;;\u001b\\ │ \u001b[32mRated Blitz game \u001b[0m │ \u001b[32m2024.07.04\u001b[0m │ \u001b[32m-     \u001b[0m │ \u001b[32mmahoni_1453         \u001b[0m │ \u001b[32mPiink           \u001b[0m │ \u001b[32m1-0   \u001b[0m │ \u001b[32m2024.07.04\u001b[0m │ \u001b[32m07:34:47\u001b[0m │ \u001b[32m1468     \u001b[0m │ \u001b[32m1481     \u001b[0m │ \u001b[32m+6               \u001b[0m │ \u001b[32m-21              \u001b[0m │ \u001b[2mNULL\u001b[0m        │ \u001b[2mNULL\u001b[0m        │ \u001b[32mC00   \u001b[0m │ \u001b[32mFrench Defense: King's Indian Attack                \u001b[0m │ \u001b[32m300+0       \u001b[0m │ \u001b[32mNormal      \u001b[0m │                    \u001b[1;36m300\u001b[0m │                      \u001b[1;36m0\u001b[0m │ \u001b[32mBLITZ            \u001b[0m │\n",
       "│ \u001b]8;id=870481;https://lichess.org/onMtCEob\u001b\\\u001b[32mhttps://lichess.org/onMtCEob\u001b[0m\u001b]8;;\u001b\\ │ \u001b[32mRated Bullet game\u001b[0m │ \u001b[32m2024.07.04\u001b[0m │ \u001b[32m-     \u001b[0m │ \u001b[32mjulio_wizka         \u001b[0m │ \u001b[32mjasiekszach     \u001b[0m │ \u001b[32m1-0   \u001b[0m │ \u001b[32m2024.07.04\u001b[0m │ \u001b[32m07:34:48\u001b[0m │ \u001b[32m999      \u001b[0m │ \u001b[32m967      \u001b[0m │ \u001b[32m+6               \u001b[0m │ \u001b[32m-6               \u001b[0m │ \u001b[2mNULL\u001b[0m        │ \u001b[2mNULL\u001b[0m        │ \u001b[32mC50   \u001b[0m │ \u001b[32mItalian Game: Giuoco Piano                          \u001b[0m │ \u001b[32m60+0        \u001b[0m │ \u001b[32mTime forfeit\u001b[0m │                     \u001b[1;36m60\u001b[0m │                      \u001b[1;36m0\u001b[0m │ \u001b[32mBULLET           \u001b[0m │\n",
       "│ \u001b]8;id=614302;https://lichess.org/lwekX5hR\u001b\\\u001b[32mhttps://lichess.org/lwekX5hR\u001b[0m\u001b]8;;\u001b\\ │ \u001b[32mRated Bullet game\u001b[0m │ \u001b[32m2024.07.04\u001b[0m │ \u001b[32m-     \u001b[0m │ \u001b[32mtim237              \u001b[0m │ \u001b[32mRagazzo-Martinez\u001b[0m │ \u001b[32m0-1   \u001b[0m │ \u001b[32m2024.07.04\u001b[0m │ \u001b[32m07:34:49\u001b[0m │ \u001b[32m922      \u001b[0m │ \u001b[32m814      \u001b[0m │ \u001b[32m-8               \u001b[0m │ \u001b[32m+7               \u001b[0m │ \u001b[2mNULL\u001b[0m        │ \u001b[2mNULL\u001b[0m        │ \u001b[32mC68   \u001b[0m │ \u001b[32mRuy Lopez: Exchange Variation, Lutikov Variation    \u001b[0m │ \u001b[32m120+1       \u001b[0m │ \u001b[32mTime forfeit\u001b[0m │                    \u001b[1;36m120\u001b[0m │                      \u001b[1;36m1\u001b[0m │ \u001b[32mBLITZ            \u001b[0m │\n",
       "│ \u001b]8;id=92162;https://lichess.org/ki5fhhfX\u001b\\\u001b[32mhttps://lichess.org/ki5fhhfX\u001b[0m\u001b]8;;\u001b\\ │ \u001b[32mRated Rapid game \u001b[0m │ \u001b[32m2024.07.04\u001b[0m │ \u001b[32m-     \u001b[0m │ \u001b[32mMarina_Mangutova2006\u001b[0m │ \u001b[32mNucklan         \u001b[0m │ \u001b[32m0-1   \u001b[0m │ \u001b[32m2024.07.04\u001b[0m │ \u001b[32m07:34:55\u001b[0m │ \u001b[32m2078     \u001b[0m │ \u001b[32m2290     \u001b[0m │ \u001b[32m-3               \u001b[0m │ \u001b[32m+15              \u001b[0m │ \u001b[2mNULL\u001b[0m        │ \u001b[2mNULL\u001b[0m        │ \u001b[32mE24   \u001b[0m │ \u001b[32mNimzo-Indian Defense: Sämisch Variation, Accelerated\u001b[0m │ \u001b[32m600+5       \u001b[0m │ \u001b[32mNormal      \u001b[0m │                    \u001b[1;36m600\u001b[0m │                      \u001b[1;36m5\u001b[0m │ \u001b[32mRAPID            \u001b[0m │\n",
       "│ \u001b]8;id=222198;https://lichess.org/dV2rgT7o\u001b\\\u001b[32mhttps://lichess.org/dV2rgT7o\u001b[0m\u001b]8;;\u001b\\ │ \u001b[32mRated Blitz game \u001b[0m │ \u001b[32m2024.07.04\u001b[0m │ \u001b[32m-     \u001b[0m │ \u001b[32mhurlou              \u001b[0m │ \u001b[32mnagabuncit      \u001b[0m │ \u001b[32m1-0   \u001b[0m │ \u001b[32m2024.07.04\u001b[0m │ \u001b[32m07:34:56\u001b[0m │ \u001b[32m983      \u001b[0m │ \u001b[32m1000     \u001b[0m │ \u001b[32m+6               \u001b[0m │ \u001b[32m-6               \u001b[0m │ \u001b[2mNULL\u001b[0m        │ \u001b[2mNULL\u001b[0m        │ \u001b[32mA40   \u001b[0m │ \u001b[32mEnglund Gambit                                      \u001b[0m │ \u001b[32m180+0       \u001b[0m │ \u001b[32mNormal      \u001b[0m │                    \u001b[1;36m180\u001b[0m │                      \u001b[1;36m0\u001b[0m │ \u001b[32mBLITZ            \u001b[0m │\n",
       "│ \u001b]8;id=703704;https://lichess.org/hGbfsZdr\u001b\\\u001b[32mhttps://lichess.org/hGbfsZdr\u001b[0m\u001b]8;;\u001b\\ │ \u001b[32mRated Rapid game \u001b[0m │ \u001b[32m2024.07.04\u001b[0m │ \u001b[32m-     \u001b[0m │ \u001b[32mqtasq               \u001b[0m │ \u001b[32mryuzakisavenging\u001b[0m │ \u001b[32m0-1   \u001b[0m │ \u001b[32m2024.07.04\u001b[0m │ \u001b[32m07:34:57\u001b[0m │ \u001b[32m1913     \u001b[0m │ \u001b[32m1907     \u001b[0m │ \u001b[32m-6               \u001b[0m │ \u001b[32m+6               \u001b[0m │ \u001b[2mNULL\u001b[0m        │ \u001b[2mNULL\u001b[0m        │ \u001b[32mD10   \u001b[0m │ \u001b[32mSlav Defense                                        \u001b[0m │ \u001b[32m600+0       \u001b[0m │ \u001b[32mNormal      \u001b[0m │                    \u001b[1;36m600\u001b[0m │                      \u001b[1;36m0\u001b[0m │ \u001b[32mBLITZ            \u001b[0m │\n",
       "│ \u001b]8;id=94427;https://lichess.org/6RKgmcYO\u001b\\\u001b[32mhttps://lichess.org/6RKgmcYO\u001b[0m\u001b]8;;\u001b\\ │ \u001b[32mRated Blitz game \u001b[0m │ \u001b[32m2024.07.04\u001b[0m │ \u001b[32m-     \u001b[0m │ \u001b[32mBabzzyy05           \u001b[0m │ \u001b[32mrafik1955       \u001b[0m │ \u001b[32m1-0   \u001b[0m │ \u001b[32m2024.07.04\u001b[0m │ \u001b[32m07:34:53\u001b[0m │ \u001b[32m1674     \u001b[0m │ \u001b[32m1607     \u001b[0m │ \u001b[32m+5               \u001b[0m │ \u001b[32m-5               \u001b[0m │ \u001b[2mNULL\u001b[0m        │ \u001b[2mNULL\u001b[0m        │ \u001b[32mB32   \u001b[0m │ \u001b[32mSicilian Defense: Löwenthal Variation               \u001b[0m │ \u001b[32m300+3       \u001b[0m │ \u001b[32mNormal      \u001b[0m │                    \u001b[1;36m300\u001b[0m │                      \u001b[1;36m3\u001b[0m │ \u001b[32mBLITZ            \u001b[0m │\n",
       "│ \u001b]8;id=963704;https://lichess.org/ioO5G8HI\u001b\\\u001b[32mhttps://lichess.org/ioO5G8HI\u001b[0m\u001b]8;;\u001b\\ │ \u001b[32mRated Bullet game\u001b[0m │ \u001b[32m2024.07.04\u001b[0m │ \u001b[32m-     \u001b[0m │ \u001b[32mbelieve_in_wonder   \u001b[0m │ \u001b[32mBoris_Spassky_TM\u001b[0m │ \u001b[32m0-1   \u001b[0m │ \u001b[32m2024.07.04\u001b[0m │ \u001b[32m07:34:54\u001b[0m │ \u001b[32m2364     \u001b[0m │ \u001b[32m2410     \u001b[0m │ \u001b[32m-5               \u001b[0m │ \u001b[32m+5               \u001b[0m │ \u001b[2mNULL\u001b[0m        │ \u001b[2mNULL\u001b[0m        │ \u001b[32mD03   \u001b[0m │ \u001b[32mQueen's Pawn Game: Torre Attack, Gossip Variation   \u001b[0m │ \u001b[32m60+0        \u001b[0m │ \u001b[32mNormal      \u001b[0m │                     \u001b[1;36m60\u001b[0m │                      \u001b[1;36m0\u001b[0m │ \u001b[32mBULLET           \u001b[0m │\n",
       "│ \u001b[2m…\u001b[0m                            │ \u001b[2m…\u001b[0m                 │ \u001b[2m…\u001b[0m          │ \u001b[2m…\u001b[0m      │ \u001b[2m…\u001b[0m                    │ \u001b[2m…\u001b[0m                │ \u001b[2m…\u001b[0m      │ \u001b[2m…\u001b[0m          │ \u001b[2m…\u001b[0m        │ \u001b[2m…\u001b[0m         │ \u001b[2m…\u001b[0m         │ \u001b[2m…\u001b[0m                 │ \u001b[2m…\u001b[0m                 │ \u001b[2m…\u001b[0m           │ \u001b[2m…\u001b[0m           │ \u001b[2m…\u001b[0m      │ \u001b[2m…\u001b[0m                                                    │ \u001b[2m…\u001b[0m            │ \u001b[2m…\u001b[0m            │                      \u001b[2m…\u001b[0m │                      \u001b[2m…\u001b[0m │ \u001b[2m…\u001b[0m                 │\n",
       "└──────────────────────────────┴───────────────────┴────────────┴────────┴──────────────────────┴──────────────────┴────────┴────────────┴──────────┴───────────┴───────────┴───────────────────┴───────────────────┴─────────────┴─────────────┴────────┴──────────────────────────────────────────────────────┴──────────────┴──────────────┴────────────────────────┴────────────────────────┴───────────────────┘"
      ]
     },
     "execution_count": 17,
     "metadata": {},
     "output_type": "execute_result"
    }
   ],
   "source": [
    "%%time\n",
    "games = filtered_moves[_.move_ply == 1].drop([\"move_ply\", \"move_comment\"]).cache()\n",
    "games"
   ]
  },
  {
   "cell_type": "code",
   "execution_count": 18,
   "id": "3defc76f-3004-4881-ab3d-fa39bb7f4692",
   "metadata": {},
   "outputs": [
    {
     "name": "stdout",
     "output_type": "stream",
     "text": [
      "CPU times: user 2.36 s, sys: 618 ms, total: 2.97 s\n",
      "Wall time: 291 ms\n"
     ]
    }
   ],
   "source": [
    "%%time\n",
    "assert games.site.nunique().to_pyarrow().as_py() == games.count().to_pyarrow().as_py()"
   ]
  },
  {
   "cell_type": "markdown",
   "id": "af4d6f42-779f-4f77-b1d3-5ea734ee5439",
   "metadata": {},
   "source": [
    "## `event`-based features"
   ]
  },
  {
   "cell_type": "code",
   "execution_count": 19,
   "id": "cca80cf4-24dd-4486-9e44-95f1b67214bf",
   "metadata": {},
   "outputs": [
    {
     "name": "stdout",
     "output_type": "stream",
     "text": [
      "CPU times: user 4.37 ms, sys: 0 ns, total: 4.37 ms\n",
      "Wall time: 4.34 ms\n"
     ]
    },
    {
     "data": {
      "text/html": [
       "<pre style=\"white-space:pre;overflow-x:auto;line-height:normal;font-family:Menlo,'DejaVu Sans Mono',consolas,'Courier New',monospace\">┏━━━━━━━━━━━━━━━━━━━━━━━┳━━━━━━━━━━━━━━━━━━━━━━━━━━━━━┓\n",
       "┃<span style=\"font-weight: bold\"> StringSlice(event, 6) </span>┃<span style=\"font-weight: bold\"> StringSlice(event, 6)_count </span>┃\n",
       "┡━━━━━━━━━━━━━━━━━━━━━━━╇━━━━━━━━━━━━━━━━━━━━━━━━━━━━━┩\n",
       "│ <span style=\"color: #7f7f7f; text-decoration-color: #7f7f7f\">string</span>                │ <span style=\"color: #7f7f7f; text-decoration-color: #7f7f7f\">int64</span>                       │\n",
       "├───────────────────────┼─────────────────────────────┤\n",
       "│ <span style=\"color: #008000; text-decoration-color: #008000\">Rapid                </span> │                       <span style=\"color: #008080; text-decoration-color: #008080; font-weight: bold\">40607</span> │\n",
       "│ <span style=\"color: #008000; text-decoration-color: #008000\">Classi               </span> │                        <span style=\"color: #008080; text-decoration-color: #008080; font-weight: bold\">6547</span> │\n",
       "│ <span style=\"color: #008000; text-decoration-color: #008000\">Bullet               </span> │                        <span style=\"color: #008080; text-decoration-color: #008080; font-weight: bold\">4239</span> │\n",
       "│ <span style=\"color: #008000; text-decoration-color: #008000\">UltraB               </span> │                          <span style=\"color: #008080; text-decoration-color: #008080; font-weight: bold\">23</span> │\n",
       "│ <span style=\"color: #008000; text-decoration-color: #008000\">Rated                </span> │                     <span style=\"color: #008080; text-decoration-color: #008080; font-weight: bold\">8029176</span> │\n",
       "│ <span style=\"color: #008000; text-decoration-color: #008000\">Blitz                </span> │                       <span style=\"color: #008080; text-decoration-color: #008080; font-weight: bold\">42812</span> │\n",
       "└───────────────────────┴─────────────────────────────┘\n",
       "</pre>\n"
      ],
      "text/plain": [
       "┏━━━━━━━━━━━━━━━━━━━━━━━┳━━━━━━━━━━━━━━━━━━━━━━━━━━━━━┓\n",
       "┃\u001b[1m \u001b[0m\u001b[1mStringSlice(event, 6)\u001b[0m\u001b[1m \u001b[0m┃\u001b[1m \u001b[0m\u001b[1mStringSlice(event, 6)_count\u001b[0m\u001b[1m \u001b[0m┃\n",
       "┡━━━━━━━━━━━━━━━━━━━━━━━╇━━━━━━━━━━━━━━━━━━━━━━━━━━━━━┩\n",
       "│ \u001b[2mstring\u001b[0m                │ \u001b[2mint64\u001b[0m                       │\n",
       "├───────────────────────┼─────────────────────────────┤\n",
       "│ \u001b[32mRapid                \u001b[0m │                       \u001b[1;36m40607\u001b[0m │\n",
       "│ \u001b[32mClassi               \u001b[0m │                        \u001b[1;36m6547\u001b[0m │\n",
       "│ \u001b[32mBullet               \u001b[0m │                        \u001b[1;36m4239\u001b[0m │\n",
       "│ \u001b[32mUltraB               \u001b[0m │                          \u001b[1;36m23\u001b[0m │\n",
       "│ \u001b[32mRated                \u001b[0m │                     \u001b[1;36m8029176\u001b[0m │\n",
       "│ \u001b[32mBlitz                \u001b[0m │                       \u001b[1;36m42812\u001b[0m │\n",
       "└───────────────────────┴─────────────────────────────┘"
      ]
     },
     "execution_count": 19,
     "metadata": {},
     "output_type": "execute_result"
    }
   ],
   "source": [
    "%%time\n",
    "games.event[:6].value_counts()"
   ]
  },
  {
   "cell_type": "code",
   "execution_count": 20,
   "id": "d5c0124d-96a6-426c-8ee3-c9682c892a4f",
   "metadata": {},
   "outputs": [
    {
     "name": "stdout",
     "output_type": "stream",
     "text": [
      "CPU times: user 884 ms, sys: 40.1 ms, total: 924 ms\n",
      "Wall time: 32.4 ms\n"
     ]
    },
    {
     "data": {
      "text/html": [
       "<pre style=\"white-space:pre;overflow-x:auto;line-height:normal;font-family:Menlo,'DejaVu Sans Mono',consolas,'Courier New',monospace\">┏━━━━━━━━━━━━━━━━━━━━━━━━━━━━━┳━━━━━━━━━━━━━━━━━━━━━━━━━━━━━━━━━━━┓\n",
       "┃<span style=\"font-weight: bold\"> StartsWith(event, 'Rated ') </span>┃<span style=\"font-weight: bold\"> StartsWith(event, 'Rated ')_count </span>┃\n",
       "┡━━━━━━━━━━━━━━━━━━━━━━━━━━━━━╇━━━━━━━━━━━━━━━━━━━━━━━━━━━━━━━━━━━┩\n",
       "│ <span style=\"color: #7f7f7f; text-decoration-color: #7f7f7f\">boolean</span>                     │ <span style=\"color: #7f7f7f; text-decoration-color: #7f7f7f\">int64</span>                             │\n",
       "├─────────────────────────────┼───────────────────────────────────┤\n",
       "│ False                       │                             <span style=\"color: #008080; text-decoration-color: #008080; font-weight: bold\">94228</span> │\n",
       "│ True                        │                           <span style=\"color: #008080; text-decoration-color: #008080; font-weight: bold\">8029176</span> │\n",
       "└─────────────────────────────┴───────────────────────────────────┘\n",
       "</pre>\n"
      ],
      "text/plain": [
       "┏━━━━━━━━━━━━━━━━━━━━━━━━━━━━━┳━━━━━━━━━━━━━━━━━━━━━━━━━━━━━━━━━━━┓\n",
       "┃\u001b[1m \u001b[0m\u001b[1mStartsWith(event, 'Rated ')\u001b[0m\u001b[1m \u001b[0m┃\u001b[1m \u001b[0m\u001b[1mStartsWith(event, 'Rated ')_count\u001b[0m\u001b[1m \u001b[0m┃\n",
       "┡━━━━━━━━━━━━━━━━━━━━━━━━━━━━━╇━━━━━━━━━━━━━━━━━━━━━━━━━━━━━━━━━━━┩\n",
       "│ \u001b[2mboolean\u001b[0m                     │ \u001b[2mint64\u001b[0m                             │\n",
       "├─────────────────────────────┼───────────────────────────────────┤\n",
       "│ False                       │                             \u001b[1;36m94228\u001b[0m │\n",
       "│ True                        │                           \u001b[1;36m8029176\u001b[0m │\n",
       "└─────────────────────────────┴───────────────────────────────────┘\n"
      ]
     },
     "execution_count": 20,
     "metadata": {},
     "output_type": "execute_result"
    }
   ],
   "source": [
    "%%time\n",
    "is_rated = games.event.startswith(\"Rated \")\n",
    "game_level_features.append(is_rated.name(\"is_rated\"))\n",
    "is_rated.value_counts().preview()"
   ]
  },
  {
   "cell_type": "markdown",
   "id": "a4355a2e-6624-4da6-890c-98872de6ec23",
   "metadata": {},
   "source": [
    "In the future, we may want to drop unrated games in the \"Filter\" section above."
   ]
  },
  {
   "cell_type": "code",
   "execution_count": 21,
   "id": "cb1ed93b-74e1-460f-ab7a-8ced58414754",
   "metadata": {},
   "outputs": [
    {
     "name": "stdout",
     "output_type": "stream",
     "text": [
      "CPU times: user 723 ms, sys: 35 ms, total: 758 ms\n",
      "Wall time: 39 ms\n"
     ]
    },
    {
     "data": {
      "text/html": [
       "<pre style=\"white-space:pre;overflow-x:auto;line-height:normal;font-family:Menlo,'DejaVu Sans Mono',consolas,'Courier New',monospace\">┏━━━━━━━━━━━━━━━━━━━━━━━━━━━━━━━━━━━━━━━━━━━━━━━━━━━━━━━━━━━━━━━━━┳━━━━━━━━━━━━━┓\n",
       "┃<span style=\"font-weight: bold\"> event                                                           </span>┃<span style=\"font-weight: bold\"> event_count </span>┃\n",
       "┡━━━━━━━━━━━━━━━━━━━━━━━━━━━━━━━━━━━━━━━━━━━━━━━━━━━━━━━━━━━━━━━━━╇━━━━━━━━━━━━━┩\n",
       "│ <span style=\"color: #7f7f7f; text-decoration-color: #7f7f7f\">string</span>                                                          │ <span style=\"color: #7f7f7f; text-decoration-color: #7f7f7f\">int64</span>       │\n",
       "├─────────────────────────────────────────────────────────────────┼─────────────┤\n",
       "│ <span style=\"color: #008000; text-decoration-color: #008000\">Rated Blitz game                                               </span> │     <span style=\"color: #008080; text-decoration-color: #008080; font-weight: bold\">3378959</span> │\n",
       "│ <span style=\"color: #008000; text-decoration-color: #008000\">Rated Rapid game                                               </span> │     <span style=\"color: #008080; text-decoration-color: #008080; font-weight: bold\">2074355</span> │\n",
       "│ <span style=\"color: #008000; text-decoration-color: #008000\">Rated Bullet game                                              </span> │     <span style=\"color: #008080; text-decoration-color: #008080; font-weight: bold\">1495968</span> │\n",
       "│ <span style=\"color: #008000; text-decoration-color: #008000\">Rated Classical game                                           </span> │      <span style=\"color: #008080; text-decoration-color: #008080; font-weight: bold\">170780</span> │\n",
       "│ <span style=\"color: #008000; text-decoration-color: #008000\">Rated UltraBullet game                                         </span> │       <span style=\"color: #008080; text-decoration-color: #008080; font-weight: bold\">21545</span> │\n",
       "│ <span style=\"color: #008000; text-decoration-color: #008000\">Rated Bullet tournament https://lichess.org/tournament/sgTdC7Jw</span> │        <span style=\"color: #008080; text-decoration-color: #008080; font-weight: bold\">4943</span> │\n",
       "│ <span style=\"color: #008000; text-decoration-color: #008000\">Rated Blitz tournament https://lichess.org/tournament/BJ3w8DS2 </span> │        <span style=\"color: #008080; text-decoration-color: #008080; font-weight: bold\">4902</span> │\n",
       "│ <span style=\"color: #008000; text-decoration-color: #008000\">Rated Blitz tournament https://lichess.org/tournament/jul24str </span> │        <span style=\"color: #008080; text-decoration-color: #008080; font-weight: bold\">3703</span> │\n",
       "│ <span style=\"color: #008000; text-decoration-color: #008000\">Rated Bullet tournament https://lichess.org/tournament/XI3ynOMS</span> │        <span style=\"color: #008080; text-decoration-color: #008080; font-weight: bold\">3006</span> │\n",
       "│ <span style=\"color: #008000; text-decoration-color: #008000\">Rated Blitz tournament https://lichess.org/tournament/JraEMiRI </span> │        <span style=\"color: #008080; text-decoration-color: #008080; font-weight: bold\">2971</span> │\n",
       "│ <span style=\"color: #7f7f7f; text-decoration-color: #7f7f7f\">…</span>                                                               │           <span style=\"color: #7f7f7f; text-decoration-color: #7f7f7f\">…</span> │\n",
       "└─────────────────────────────────────────────────────────────────┴─────────────┘\n",
       "</pre>\n"
      ],
      "text/plain": [
       "┏━━━━━━━━━━━━━━━━━━━━━━━━━━━━━━━━━━━━━━━━━━━━━━━━━━━━━━━━━━━━━━━━━┳━━━━━━━━━━━━━┓\n",
       "┃\u001b[1m \u001b[0m\u001b[1mevent\u001b[0m\u001b[1m                                                          \u001b[0m\u001b[1m \u001b[0m┃\u001b[1m \u001b[0m\u001b[1mevent_count\u001b[0m\u001b[1m \u001b[0m┃\n",
       "┡━━━━━━━━━━━━━━━━━━━━━━━━━━━━━━━━━━━━━━━━━━━━━━━━━━━━━━━━━━━━━━━━━╇━━━━━━━━━━━━━┩\n",
       "│ \u001b[2mstring\u001b[0m                                                          │ \u001b[2mint64\u001b[0m       │\n",
       "├─────────────────────────────────────────────────────────────────┼─────────────┤\n",
       "│ \u001b[32mRated Blitz game                                               \u001b[0m │     \u001b[1;36m3378959\u001b[0m │\n",
       "│ \u001b[32mRated Rapid game                                               \u001b[0m │     \u001b[1;36m2074355\u001b[0m │\n",
       "│ \u001b[32mRated Bullet game                                              \u001b[0m │     \u001b[1;36m1495968\u001b[0m │\n",
       "│ \u001b[32mRated Classical game                                           \u001b[0m │      \u001b[1;36m170780\u001b[0m │\n",
       "│ \u001b[32mRated UltraBullet game                                         \u001b[0m │       \u001b[1;36m21545\u001b[0m │\n",
       "│ \u001b[32mRated Bullet tournament https://lichess.org/tournament/sgTdC7Jw\u001b[0m │        \u001b[1;36m4943\u001b[0m │\n",
       "│ \u001b[32mRated Blitz tournament https://lichess.org/tournament/BJ3w8DS2 \u001b[0m │        \u001b[1;36m4902\u001b[0m │\n",
       "│ \u001b[32mRated Blitz tournament https://lichess.org/tournament/jul24str \u001b[0m │        \u001b[1;36m3703\u001b[0m │\n",
       "│ \u001b[32mRated Bullet tournament https://lichess.org/tournament/XI3ynOMS\u001b[0m │        \u001b[1;36m3006\u001b[0m │\n",
       "│ \u001b[32mRated Blitz tournament https://lichess.org/tournament/JraEMiRI \u001b[0m │        \u001b[1;36m2971\u001b[0m │\n",
       "│ \u001b[2m…\u001b[0m                                                               │           \u001b[2m…\u001b[0m │\n",
       "└─────────────────────────────────────────────────────────────────┴─────────────┘\n"
      ]
     },
     "execution_count": 21,
     "metadata": {},
     "output_type": "execute_result"
    }
   ],
   "source": [
    "%%time\n",
    "games.event.value_counts().order_by(ibis.desc(\"event_count\")).preview()"
   ]
  },
  {
   "cell_type": "code",
   "execution_count": 22,
   "id": "e7681fa2-5f26-4ba1-9f04-54b5fc9c8018",
   "metadata": {},
   "outputs": [
    {
     "name": "stdout",
     "output_type": "stream",
     "text": [
      "CPU times: user 841 ms, sys: 3.19 ms, total: 844 ms\n",
      "Wall time: 31.6 ms\n"
     ]
    },
    {
     "data": {
      "text/html": [
       "<pre style=\"white-space:pre;overflow-x:auto;line-height:normal;font-family:Menlo,'DejaVu Sans Mono',consolas,'Courier New',monospace\">┏━━━━━━━━━━━━━━━━━━━━━━━━━━━━━━━━━━━━━┳━━━━━━━━━━━━━━━━━━━━━━━━━━━━━━━━━━━━━━━━━━━┓\n",
       "┃<span style=\"font-weight: bold\"> StringContains(event, 'tournament') </span>┃<span style=\"font-weight: bold\"> StringContains(event, 'tournament')_count </span>┃\n",
       "┡━━━━━━━━━━━━━━━━━━━━━━━━━━━━━━━━━━━━━╇━━━━━━━━━━━━━━━━━━━━━━━━━━━━━━━━━━━━━━━━━━━┩\n",
       "│ <span style=\"color: #7f7f7f; text-decoration-color: #7f7f7f\">boolean</span>                             │ <span style=\"color: #7f7f7f; text-decoration-color: #7f7f7f\">int64</span>                                     │\n",
       "├─────────────────────────────────────┼───────────────────────────────────────────┤\n",
       "│ False                               │                                   <span style=\"color: #008080; text-decoration-color: #008080; font-weight: bold\">7235835</span> │\n",
       "│ True                                │                                    <span style=\"color: #008080; text-decoration-color: #008080; font-weight: bold\">887569</span> │\n",
       "└─────────────────────────────────────┴───────────────────────────────────────────┘\n",
       "</pre>\n"
      ],
      "text/plain": [
       "┏━━━━━━━━━━━━━━━━━━━━━━━━━━━━━━━━━━━━━┳━━━━━━━━━━━━━━━━━━━━━━━━━━━━━━━━━━━━━━━━━━━┓\n",
       "┃\u001b[1m \u001b[0m\u001b[1mStringContains(event, 'tournament')\u001b[0m\u001b[1m \u001b[0m┃\u001b[1m \u001b[0m\u001b[1mStringContains(event, 'tournament')_count\u001b[0m\u001b[1m \u001b[0m┃\n",
       "┡━━━━━━━━━━━━━━━━━━━━━━━━━━━━━━━━━━━━━╇━━━━━━━━━━━━━━━━━━━━━━━━━━━━━━━━━━━━━━━━━━━┩\n",
       "│ \u001b[2mboolean\u001b[0m                             │ \u001b[2mint64\u001b[0m                                     │\n",
       "├─────────────────────────────────────┼───────────────────────────────────────────┤\n",
       "│ False                               │                                   \u001b[1;36m7235835\u001b[0m │\n",
       "│ True                                │                                    \u001b[1;36m887569\u001b[0m │\n",
       "└─────────────────────────────────────┴───────────────────────────────────────────┘\n"
      ]
     },
     "execution_count": 22,
     "metadata": {},
     "output_type": "execute_result"
    }
   ],
   "source": [
    "%%time\n",
    "is_tournament = games.event.contains(\"tournament\")\n",
    "game_level_features.append(is_tournament.name(\"is_tournament\"))\n",
    "is_tournament.value_counts().preview()"
   ]
  },
  {
   "cell_type": "code",
   "execution_count": 23,
   "id": "08f09665-c39b-435e-9ead-44447a5e8d98",
   "metadata": {
    "scrolled": true
   },
   "outputs": [
    {
     "name": "stdout",
     "output_type": "stream",
     "text": [
      "CPU times: user 5.04 s, sys: 68.3 ms, total: 5.11 s\n",
      "Wall time: 128 ms\n"
     ]
    },
    {
     "data": {
      "text/html": [
       "<pre style=\"white-space:pre;overflow-x:auto;line-height:normal;font-family:Menlo,'DejaVu Sans Mono',consolas,'Courier New',monospace\">┏━━━━━━━━━━━━━━━━━━━━━━━━━━━━━━━━━━━━━━━━━━━━━━━━━━━━━━━━┳━━━━━━━━━━━━━━━━━━━━━━━━━━━━━━━━━━━━━━━━━━━━━━━━━━━━━━━━┓\n",
       "┃<span style=\"font-weight: bold\"> Substring(IfElse(StartsWith(event, 'Rated '), StringS… </span>┃<span style=\"font-weight: bold\"> Substring(IfElse(StartsWith(event, 'Rated '), StringS… </span>┃\n",
       "┡━━━━━━━━━━━━━━━━━━━━━━━━━━━━━━━━━━━━━━━━━━━━━━━━━━━━━━━━╇━━━━━━━━━━━━━━━━━━━━━━━━━━━━━━━━━━━━━━━━━━━━━━━━━━━━━━━━┩\n",
       "│ <span style=\"color: #7f7f7f; text-decoration-color: #7f7f7f\">string</span>                                                 │ <span style=\"color: #7f7f7f; text-decoration-color: #7f7f7f\">int64</span>                                                  │\n",
       "├────────────────────────────────────────────────────────┼────────────────────────────────────────────────────────┤\n",
       "│ <span style=\"color: #008000; text-decoration-color: #008000\">Bullet                                                </span> │                                                <span style=\"color: #008080; text-decoration-color: #008080; font-weight: bold\">1732675</span> │\n",
       "│ <span style=\"color: #008000; text-decoration-color: #008000\">UltraBullet                                           </span> │                                                  <span style=\"color: #008080; text-decoration-color: #008080; font-weight: bold\">52781</span> │\n",
       "│ <span style=\"color: #008000; text-decoration-color: #008000\">Classical                                             </span> │                                                 <span style=\"color: #008080; text-decoration-color: #008080; font-weight: bold\">183394</span> │\n",
       "│ <span style=\"color: #008000; text-decoration-color: #008000\">Blitz                                                 </span> │                                                <span style=\"color: #008080; text-decoration-color: #008080; font-weight: bold\">3887913</span> │\n",
       "│ <span style=\"color: #008000; text-decoration-color: #008000\">Rapid                                                 </span> │                                                <span style=\"color: #008080; text-decoration-color: #008080; font-weight: bold\">2266641</span> │\n",
       "└────────────────────────────────────────────────────────┴────────────────────────────────────────────────────────┘\n",
       "</pre>\n"
      ],
      "text/plain": [
       "┏━━━━━━━━━━━━━━━━━━━━━━━━━━━━━━━━━━━━━━━━━━━━━━━━━━━━━━━━┳━━━━━━━━━━━━━━━━━━━━━━━━━━━━━━━━━━━━━━━━━━━━━━━━━━━━━━━━┓\n",
       "┃\u001b[1m \u001b[0m\u001b[1mSubstring(IfElse(StartsWith(event, 'Rated '), StringS…\u001b[0m\u001b[1m \u001b[0m┃\u001b[1m \u001b[0m\u001b[1mSubstring(IfElse(StartsWith(event, 'Rated '), StringS…\u001b[0m\u001b[1m \u001b[0m┃\n",
       "┡━━━━━━━━━━━━━━━━━━━━━━━━━━━━━━━━━━━━━━━━━━━━━━━━━━━━━━━━╇━━━━━━━━━━━━━━━━━━━━━━━━━━━━━━━━━━━━━━━━━━━━━━━━━━━━━━━━┩\n",
       "│ \u001b[2mstring\u001b[0m                                                 │ \u001b[2mint64\u001b[0m                                                  │\n",
       "├────────────────────────────────────────────────────────┼────────────────────────────────────────────────────────┤\n",
       "│ \u001b[32mBullet                                                \u001b[0m │                                                \u001b[1;36m1732675\u001b[0m │\n",
       "│ \u001b[32mUltraBullet                                           \u001b[0m │                                                  \u001b[1;36m52781\u001b[0m │\n",
       "│ \u001b[32mClassical                                             \u001b[0m │                                                 \u001b[1;36m183394\u001b[0m │\n",
       "│ \u001b[32mBlitz                                                 \u001b[0m │                                                \u001b[1;36m3887913\u001b[0m │\n",
       "│ \u001b[32mRapid                                                 \u001b[0m │                                                \u001b[1;36m2266641\u001b[0m │\n",
       "└────────────────────────────────────────────────────────┴────────────────────────────────────────────────────────┘\n"
      ]
     },
     "execution_count": 23,
     "metadata": {},
     "output_type": "execute_result"
    }
   ],
   "source": [
    "%%time\n",
    "event_with_rated_removed = is_rated.ifelse(games.event[len(\"Rated \") :], games.event)\n",
    "lichess_time_control_type = event_with_rated_removed.substr(\n",
    "    0, event_with_rated_removed.find(\" \")\n",
    ")\n",
    "game_level_features.append(lichess_time_control_type.name(\"lichess_time_control_type\"))\n",
    "lichess_time_control_type.value_counts().preview()"
   ]
  },
  {
   "cell_type": "markdown",
   "id": "d97d93f7-0ed3-4445-ac1c-ccc9237bd80e",
   "metadata": {},
   "source": [
    "# User features"
   ]
  },
  {
   "cell_type": "code",
   "execution_count": 24,
   "id": "afe8dc6f-651a-4c84-b2aa-21aba943bb61",
   "metadata": {},
   "outputs": [
    {
     "name": "stdout",
     "output_type": "stream",
     "text": [
      "CPU times: user 30.9 ms, sys: 11.8 ms, total: 42.7 ms\n",
      "Wall time: 8.5 ms\n"
     ]
    },
    {
     "data": {
      "text/html": [
       "<pre style=\"white-space:pre;overflow-x:auto;line-height:normal;font-family:Menlo,'DejaVu Sans Mono',consolas,'Courier New',monospace\">┏━━━━━━━━━━━━━━━━━━━━━━┓\n",
       "┃<span style=\"font-weight: bold\"> Lowercase(white)     </span>┃\n",
       "┡━━━━━━━━━━━━━━━━━━━━━━┩\n",
       "│ <span style=\"color: #7f7f7f; text-decoration-color: #7f7f7f\">string</span>               │\n",
       "├──────────────────────┤\n",
       "│ <span style=\"color: #008000; text-decoration-color: #008000\">prime55             </span> │\n",
       "│ <span style=\"color: #008000; text-decoration-color: #008000\">abhijatdutta        </span> │\n",
       "│ <span style=\"color: #008000; text-decoration-color: #008000\">mahoni_1453         </span> │\n",
       "│ <span style=\"color: #008000; text-decoration-color: #008000\">julio_wizka         </span> │\n",
       "│ <span style=\"color: #008000; text-decoration-color: #008000\">tim237              </span> │\n",
       "│ <span style=\"color: #008000; text-decoration-color: #008000\">marina_mangutova2006</span> │\n",
       "│ <span style=\"color: #008000; text-decoration-color: #008000\">hurlou              </span> │\n",
       "│ <span style=\"color: #008000; text-decoration-color: #008000\">qtasq               </span> │\n",
       "│ <span style=\"color: #008000; text-decoration-color: #008000\">babzzyy05           </span> │\n",
       "│ <span style=\"color: #008000; text-decoration-color: #008000\">believe_in_wonder   </span> │\n",
       "│ <span style=\"color: #7f7f7f; text-decoration-color: #7f7f7f\">…</span>                    │\n",
       "└──────────────────────┘\n",
       "</pre>\n"
      ],
      "text/plain": [
       "┏━━━━━━━━━━━━━━━━━━━━━━┓\n",
       "┃\u001b[1m \u001b[0m\u001b[1mLowercase(white)\u001b[0m\u001b[1m    \u001b[0m\u001b[1m \u001b[0m┃\n",
       "┡━━━━━━━━━━━━━━━━━━━━━━┩\n",
       "│ \u001b[2mstring\u001b[0m               │\n",
       "├──────────────────────┤\n",
       "│ \u001b[32mprime55             \u001b[0m │\n",
       "│ \u001b[32mabhijatdutta        \u001b[0m │\n",
       "│ \u001b[32mmahoni_1453         \u001b[0m │\n",
       "│ \u001b[32mjulio_wizka         \u001b[0m │\n",
       "│ \u001b[32mtim237              \u001b[0m │\n",
       "│ \u001b[32mmarina_mangutova2006\u001b[0m │\n",
       "│ \u001b[32mhurlou              \u001b[0m │\n",
       "│ \u001b[32mqtasq               \u001b[0m │\n",
       "│ \u001b[32mbabzzyy05           \u001b[0m │\n",
       "│ \u001b[32mbelieve_in_wonder   \u001b[0m │\n",
       "│ \u001b[2m…\u001b[0m                    │\n",
       "└──────────────────────┘\n"
      ]
     },
     "execution_count": 24,
     "metadata": {},
     "output_type": "execute_result"
    }
   ],
   "source": [
    "%%time\n",
    "white_user_id = games.white.lower()\n",
    "game_level_features.append(white_user_id.name(\"white_user_id\"))\n",
    "white_user_id.preview()"
   ]
  },
  {
   "cell_type": "code",
   "execution_count": 25,
   "id": "9fb211ea-1a65-424f-9930-cd46c0dd7a3c",
   "metadata": {},
   "outputs": [
    {
     "name": "stdout",
     "output_type": "stream",
     "text": [
      "CPU times: user 0 ns, sys: 62 ms, total: 62 ms\n",
      "Wall time: 10.6 ms\n"
     ]
    },
    {
     "data": {
      "text/html": [
       "<pre style=\"white-space:pre;overflow-x:auto;line-height:normal;font-family:Menlo,'DejaVu Sans Mono',consolas,'Courier New',monospace\">┏━━━━━━━━━━━━━━━━━━┓\n",
       "┃<span style=\"font-weight: bold\"> Lowercase(black) </span>┃\n",
       "┡━━━━━━━━━━━━━━━━━━┩\n",
       "│ <span style=\"color: #7f7f7f; text-decoration-color: #7f7f7f\">string</span>           │\n",
       "├──────────────────┤\n",
       "│ <span style=\"color: #008000; text-decoration-color: #008000\">labaguetta      </span> │\n",
       "│ <span style=\"color: #008000; text-decoration-color: #008000\">couscous55      </span> │\n",
       "│ <span style=\"color: #008000; text-decoration-color: #008000\">piink           </span> │\n",
       "│ <span style=\"color: #008000; text-decoration-color: #008000\">jasiekszach     </span> │\n",
       "│ <span style=\"color: #008000; text-decoration-color: #008000\">ragazzo-martinez</span> │\n",
       "│ <span style=\"color: #008000; text-decoration-color: #008000\">nucklan         </span> │\n",
       "│ <span style=\"color: #008000; text-decoration-color: #008000\">nagabuncit      </span> │\n",
       "│ <span style=\"color: #008000; text-decoration-color: #008000\">ryuzakisavenging</span> │\n",
       "│ <span style=\"color: #008000; text-decoration-color: #008000\">rafik1955       </span> │\n",
       "│ <span style=\"color: #008000; text-decoration-color: #008000\">boris_spassky_tm</span> │\n",
       "│ <span style=\"color: #7f7f7f; text-decoration-color: #7f7f7f\">…</span>                │\n",
       "└──────────────────┘\n",
       "</pre>\n"
      ],
      "text/plain": [
       "┏━━━━━━━━━━━━━━━━━━┓\n",
       "┃\u001b[1m \u001b[0m\u001b[1mLowercase(black)\u001b[0m\u001b[1m \u001b[0m┃\n",
       "┡━━━━━━━━━━━━━━━━━━┩\n",
       "│ \u001b[2mstring\u001b[0m           │\n",
       "├──────────────────┤\n",
       "│ \u001b[32mlabaguetta      \u001b[0m │\n",
       "│ \u001b[32mcouscous55      \u001b[0m │\n",
       "│ \u001b[32mpiink           \u001b[0m │\n",
       "│ \u001b[32mjasiekszach     \u001b[0m │\n",
       "│ \u001b[32mragazzo-martinez\u001b[0m │\n",
       "│ \u001b[32mnucklan         \u001b[0m │\n",
       "│ \u001b[32mnagabuncit      \u001b[0m │\n",
       "│ \u001b[32mryuzakisavenging\u001b[0m │\n",
       "│ \u001b[32mrafik1955       \u001b[0m │\n",
       "│ \u001b[32mboris_spassky_tm\u001b[0m │\n",
       "│ \u001b[2m…\u001b[0m                │\n",
       "└──────────────────┘\n"
      ]
     },
     "execution_count": 25,
     "metadata": {},
     "output_type": "execute_result"
    }
   ],
   "source": [
    "%%time\n",
    "black_user_id = games.black.lower()\n",
    "game_level_features.append(black_user_id.name(\"black_user_id\"))\n",
    "black_user_id.preview()"
   ]
  },
  {
   "cell_type": "markdown",
   "id": "9fedf564-c159-472b-b324-6ecdda3ab9dc",
   "metadata": {},
   "source": [
    "## Temporal features"
   ]
  },
  {
   "cell_type": "code",
   "execution_count": 26,
   "id": "505117c2-030c-46f1-8722-a8ddb584f970",
   "metadata": {},
   "outputs": [
    {
     "name": "stdout",
     "output_type": "stream",
     "text": [
      "CPU times: user 581 ms, sys: 120 ms, total: 702 ms\n",
      "Wall time: 27.9 ms\n"
     ]
    }
   ],
   "source": [
    "%%time\n",
    "assert not games.date.isnull().sum().to_pyarrow().as_py()\n",
    "assert not games.utc_date.isnull().sum().to_pyarrow().as_py()"
   ]
  },
  {
   "cell_type": "code",
   "execution_count": 27,
   "id": "abc102c6-eb97-44e3-bf17-07e15c94d6e3",
   "metadata": {},
   "outputs": [
    {
     "name": "stdout",
     "output_type": "stream",
     "text": [
      "CPU times: user 765 ms, sys: 12.5 ms, total: 777 ms\n",
      "Wall time: 31.3 ms\n"
     ]
    },
    {
     "data": {
      "text/html": [
       "<pre style=\"white-space:pre;overflow-x:auto;line-height:normal;font-family:Menlo,'DejaVu Sans Mono',consolas,'Courier New',monospace\">┏━━━━━━━━━━━━━━━━━━━━━━━━┳━━━━━━━━━━━━━━━━━━━━━━━━━━━━━━┓\n",
       "┃<span style=\"font-weight: bold\"> Equals(date, utc_date) </span>┃<span style=\"font-weight: bold\"> Equals(date, utc_date)_count </span>┃\n",
       "┡━━━━━━━━━━━━━━━━━━━━━━━━╇━━━━━━━━━━━━━━━━━━━━━━━━━━━━━━┩\n",
       "│ <span style=\"color: #7f7f7f; text-decoration-color: #7f7f7f\">boolean</span>                │ <span style=\"color: #7f7f7f; text-decoration-color: #7f7f7f\">int64</span>                        │\n",
       "├────────────────────────┼──────────────────────────────┤\n",
       "│ True                   │                      <span style=\"color: #008080; text-decoration-color: #008080; font-weight: bold\">8123404</span> │\n",
       "└────────────────────────┴──────────────────────────────┘\n",
       "</pre>\n"
      ],
      "text/plain": [
       "┏━━━━━━━━━━━━━━━━━━━━━━━━┳━━━━━━━━━━━━━━━━━━━━━━━━━━━━━━┓\n",
       "┃\u001b[1m \u001b[0m\u001b[1mEquals(date, utc_date)\u001b[0m\u001b[1m \u001b[0m┃\u001b[1m \u001b[0m\u001b[1mEquals(date, utc_date)_count\u001b[0m\u001b[1m \u001b[0m┃\n",
       "┡━━━━━━━━━━━━━━━━━━━━━━━━╇━━━━━━━━━━━━━━━━━━━━━━━━━━━━━━┩\n",
       "│ \u001b[2mboolean\u001b[0m                │ \u001b[2mint64\u001b[0m                        │\n",
       "├────────────────────────┼──────────────────────────────┤\n",
       "│ True                   │                      \u001b[1;36m8123404\u001b[0m │\n",
       "└────────────────────────┴──────────────────────────────┘\n"
      ]
     },
     "execution_count": 27,
     "metadata": {},
     "output_type": "execute_result"
    }
   ],
   "source": [
    "%%time\n",
    "(games.date == games.utc_date).value_counts().preview()"
   ]
  },
  {
   "cell_type": "code",
   "execution_count": 28,
   "id": "b8d6a14d-417e-47ce-a67b-9767671625d0",
   "metadata": {},
   "outputs": [],
   "source": [
    "# %%time\n",
    "# utc_date = games.utc_date.to_date(\"%Y.%m.%d\")\n",
    "# game_level_features.append(utc_date.name(\"utc_date\"))\n",
    "# utc_date.value_counts().preview()"
   ]
  },
  {
   "cell_type": "code",
   "execution_count": 29,
   "id": "6db7f4b1-4eca-4f8e-843e-b566471a9a65",
   "metadata": {},
   "outputs": [],
   "source": [
    "# %%time\n",
    "# utc_time = games.utc_time.cast(\"time\")\n",
    "# game_level_features.append(utc_time.name(\"utc_time\"))\n",
    "# utc_time.value_counts().preview()"
   ]
  },
  {
   "cell_type": "code",
   "execution_count": 30,
   "id": "b77e3299-a56b-44af-9d3d-c26988390b8d",
   "metadata": {},
   "outputs": [
    {
     "name": "stdout",
     "output_type": "stream",
     "text": [
      "CPU times: user 68.9 ms, sys: 4.49 ms, total: 73.4 ms\n",
      "Wall time: 14.9 ms\n"
     ]
    },
    {
     "data": {
      "text/html": [
       "<pre style=\"white-space:pre;overflow-x:auto;line-height:normal;font-family:Menlo,'DejaVu Sans Mono',consolas,'Courier New',monospace\">┏━━━━━━━━━━━━━━━━━━━━━━━━━━━━━━━━━━━━━━━━━━━━━━━━━━━━━━━━━━━━━━━━━━━━━━━━━━━━━━━━━━━━━━━━━━━━━━━━━┓\n",
       "┃<span style=\"font-weight: bold\"> StringToTimestamp(StringConcat((StringConcat((utc_date, ' ')), utc_time)), '%Y.%m.%d %H:%M:%S') </span>┃\n",
       "┡━━━━━━━━━━━━━━━━━━━━━━━━━━━━━━━━━━━━━━━━━━━━━━━━━━━━━━━━━━━━━━━━━━━━━━━━━━━━━━━━━━━━━━━━━━━━━━━━━┩\n",
       "│ <span style=\"color: #7f7f7f; text-decoration-color: #7f7f7f\">timestamp('UTC')</span>                                                                                │\n",
       "├─────────────────────────────────────────────────────────────────────────────────────────────────┤\n",
       "│ <span style=\"color: #800080; text-decoration-color: #800080\">2024-07-04 07:34:47+00:00</span>                                                                       │\n",
       "│ <span style=\"color: #800080; text-decoration-color: #800080\">2024-07-04 07:34:47+00:00</span>                                                                       │\n",
       "│ <span style=\"color: #800080; text-decoration-color: #800080\">2024-07-04 07:34:47+00:00</span>                                                                       │\n",
       "│ <span style=\"color: #800080; text-decoration-color: #800080\">2024-07-04 07:34:48+00:00</span>                                                                       │\n",
       "│ <span style=\"color: #800080; text-decoration-color: #800080\">2024-07-04 07:34:49+00:00</span>                                                                       │\n",
       "│ <span style=\"color: #800080; text-decoration-color: #800080\">2024-07-04 07:34:55+00:00</span>                                                                       │\n",
       "│ <span style=\"color: #800080; text-decoration-color: #800080\">2024-07-04 07:34:56+00:00</span>                                                                       │\n",
       "│ <span style=\"color: #800080; text-decoration-color: #800080\">2024-07-04 07:34:57+00:00</span>                                                                       │\n",
       "│ <span style=\"color: #800080; text-decoration-color: #800080\">2024-07-04 07:34:53+00:00</span>                                                                       │\n",
       "│ <span style=\"color: #800080; text-decoration-color: #800080\">2024-07-04 07:34:54+00:00</span>                                                                       │\n",
       "│ <span style=\"color: #7f7f7f; text-decoration-color: #7f7f7f\">…</span>                                                                                               │\n",
       "└─────────────────────────────────────────────────────────────────────────────────────────────────┘\n",
       "</pre>\n"
      ],
      "text/plain": [
       "┏━━━━━━━━━━━━━━━━━━━━━━━━━━━━━━━━━━━━━━━━━━━━━━━━━━━━━━━━━━━━━━━━━━━━━━━━━━━━━━━━━━━━━━━━━━━━━━━━━┓\n",
       "┃\u001b[1m \u001b[0m\u001b[1mStringToTimestamp(StringConcat((StringConcat((utc_date, ' ')), utc_time)), '%Y.%m.%d %H:%M:%S')\u001b[0m\u001b[1m \u001b[0m┃\n",
       "┡━━━━━━━━━━━━━━━━━━━━━━━━━━━━━━━━━━━━━━━━━━━━━━━━━━━━━━━━━━━━━━━━━━━━━━━━━━━━━━━━━━━━━━━━━━━━━━━━━┩\n",
       "│ \u001b[2mtimestamp('UTC')\u001b[0m                                                                                │\n",
       "├─────────────────────────────────────────────────────────────────────────────────────────────────┤\n",
       "│ \u001b[35m2024-07-04 07:34:47+00:00\u001b[0m                                                                       │\n",
       "│ \u001b[35m2024-07-04 07:34:47+00:00\u001b[0m                                                                       │\n",
       "│ \u001b[35m2024-07-04 07:34:47+00:00\u001b[0m                                                                       │\n",
       "│ \u001b[35m2024-07-04 07:34:48+00:00\u001b[0m                                                                       │\n",
       "│ \u001b[35m2024-07-04 07:34:49+00:00\u001b[0m                                                                       │\n",
       "│ \u001b[35m2024-07-04 07:34:55+00:00\u001b[0m                                                                       │\n",
       "│ \u001b[35m2024-07-04 07:34:56+00:00\u001b[0m                                                                       │\n",
       "│ \u001b[35m2024-07-04 07:34:57+00:00\u001b[0m                                                                       │\n",
       "│ \u001b[35m2024-07-04 07:34:53+00:00\u001b[0m                                                                       │\n",
       "│ \u001b[35m2024-07-04 07:34:54+00:00\u001b[0m                                                                       │\n",
       "│ \u001b[2m…\u001b[0m                                                                                               │\n",
       "└─────────────────────────────────────────────────────────────────────────────────────────────────┘\n"
      ]
     },
     "execution_count": 30,
     "metadata": {},
     "output_type": "execute_result"
    }
   ],
   "source": [
    "%%time\n",
    "utc_timestamp = (games.utc_date + \" \" + games.utc_time).to_timestamp(\n",
    "    \"%Y.%m.%d %H:%M:%S\"\n",
    ")\n",
    "game_level_features.append(utc_timestamp.name(\"utc_timestamp\"))\n",
    "utc_timestamp.preview()"
   ]
  },
  {
   "cell_type": "markdown",
   "id": "7c65d120-5de8-4c5f-8739-0f6c34442b90",
   "metadata": {},
   "source": [
    "It would be ideal if we could also compute the time since their last game finished; maybe this can be computed from clock times down the road."
   ]
  },
  {
   "cell_type": "code",
   "execution_count": 31,
   "id": "6e41cdb0-f37c-4e4e-93c0-ffd7a2af52bd",
   "metadata": {},
   "outputs": [
    {
     "name": "stdout",
     "output_type": "stream",
     "text": [
      "CPU times: user 1min 5s, sys: 1min 30s, total: 2min 35s\n",
      "Wall time: 2.95 s\n"
     ]
    },
    {
     "data": {
      "text/html": [
       "<pre style=\"white-space:pre;overflow-x:auto;line-height:normal;font-family:Menlo,'DejaVu Sans Mono',consolas,'Courier New',monospace\">┏━━━━━━━━━━━━━━━━━━━━━━━━━━━━━━━━━━━━━━━━━━━━━━━━━━━━━━━━━━━━━━━━━━━━━━━━━━━━━━━━━━━━━━━━━━━━━━━━━━━━━━━━━━━━━━━━━┓\n",
       "┃<span style=\"font-weight: bold\"> TimestampDelta('second', StringToTimestamp(StringConcat((StringConcat((utc_date, ' ')), utc_time)), '%Y.%m.%d … </span>┃\n",
       "┡━━━━━━━━━━━━━━━━━━━━━━━━━━━━━━━━━━━━━━━━━━━━━━━━━━━━━━━━━━━━━━━━━━━━━━━━━━━━━━━━━━━━━━━━━━━━━━━━━━━━━━━━━━━━━━━━━┩\n",
       "│ <span style=\"color: #7f7f7f; text-decoration-color: #7f7f7f\">int64</span>                                                                                                           │\n",
       "├─────────────────────────────────────────────────────────────────────────────────────────────────────────────────┤\n",
       "│                                                                                                           <span style=\"color: #008080; text-decoration-color: #008080; font-weight: bold\">56024</span> │\n",
       "│                                                                                                             <span style=\"color: #008080; text-decoration-color: #008080; font-weight: bold\">264</span> │\n",
       "│                                                                                                            <span style=\"color: #008080; text-decoration-color: #008080; font-weight: bold\">3773</span> │\n",
       "│                                                                                                           <span style=\"color: #008080; text-decoration-color: #008080; font-weight: bold\">51492</span> │\n",
       "│                                                                                                          <span style=\"color: #008080; text-decoration-color: #008080; font-weight: bold\">119206</span> │\n",
       "│                                                                                                           <span style=\"color: #008080; text-decoration-color: #008080; font-weight: bold\">72638</span> │\n",
       "│                                                                                                            <span style=\"color: #008080; text-decoration-color: #008080; font-weight: bold\">7088</span> │\n",
       "│                                                                                                            <span style=\"color: #008080; text-decoration-color: #008080; font-weight: bold\">8644</span> │\n",
       "│                                                                                                            <span style=\"color: #008080; text-decoration-color: #008080; font-weight: bold\">2607</span> │\n",
       "│                                                                                                             <span style=\"color: #008080; text-decoration-color: #008080; font-weight: bold\">239</span> │\n",
       "│                                                                                                               <span style=\"color: #7f7f7f; text-decoration-color: #7f7f7f\">…</span> │\n",
       "└─────────────────────────────────────────────────────────────────────────────────────────────────────────────────┘\n",
       "</pre>\n"
      ],
      "text/plain": [
       "┏━━━━━━━━━━━━━━━━━━━━━━━━━━━━━━━━━━━━━━━━━━━━━━━━━━━━━━━━━━━━━━━━━━━━━━━━━━━━━━━━━━━━━━━━━━━━━━━━━━━━━━━━━━━━━━━━━┓\n",
       "┃\u001b[1m \u001b[0m\u001b[1mTimestampDelta('second', StringToTimestamp(StringConcat((StringConcat((utc_date, ' ')), utc_time)), '%Y.%m.%d …\u001b[0m\u001b[1m \u001b[0m┃\n",
       "┡━━━━━━━━━━━━━━━━━━━━━━━━━━━━━━━━━━━━━━━━━━━━━━━━━━━━━━━━━━━━━━━━━━━━━━━━━━━━━━━━━━━━━━━━━━━━━━━━━━━━━━━━━━━━━━━━━┩\n",
       "│ \u001b[2mint64\u001b[0m                                                                                                           │\n",
       "├─────────────────────────────────────────────────────────────────────────────────────────────────────────────────┤\n",
       "│                                                                                                           \u001b[1;36m56024\u001b[0m │\n",
       "│                                                                                                             \u001b[1;36m264\u001b[0m │\n",
       "│                                                                                                            \u001b[1;36m3773\u001b[0m │\n",
       "│                                                                                                           \u001b[1;36m51492\u001b[0m │\n",
       "│                                                                                                          \u001b[1;36m119206\u001b[0m │\n",
       "│                                                                                                           \u001b[1;36m72638\u001b[0m │\n",
       "│                                                                                                            \u001b[1;36m7088\u001b[0m │\n",
       "│                                                                                                            \u001b[1;36m8644\u001b[0m │\n",
       "│                                                                                                            \u001b[1;36m2607\u001b[0m │\n",
       "│                                                                                                             \u001b[1;36m239\u001b[0m │\n",
       "│                                                                                                               \u001b[2m…\u001b[0m │\n",
       "└─────────────────────────────────────────────────────────────────────────────────────────────────────────────────┘\n"
      ]
     },
     "execution_count": 31,
     "metadata": {},
     "output_type": "execute_result"
    }
   ],
   "source": [
    "%%time\n",
    "white_seconds_since_previous_game = utc_timestamp.delta(\n",
    "    utc_timestamp.lag().over(\n",
    "        ibis.window(group_by=white_user_id, order_by=utc_timestamp)\n",
    "    ),\n",
    "    \"second\",\n",
    ")\n",
    "game_level_features.append(\n",
    "    white_seconds_since_previous_game.name(\"white_seconds_since_previous_game\")\n",
    ")\n",
    "white_seconds_since_previous_game.preview()"
   ]
  },
  {
   "cell_type": "code",
   "execution_count": 32,
   "id": "75c58b97-c284-4ed4-acf2-e6ad78a658f6",
   "metadata": {},
   "outputs": [
    {
     "name": "stdout",
     "output_type": "stream",
     "text": [
      "CPU times: user 1min 7s, sys: 1min 11s, total: 2min 19s\n",
      "Wall time: 2.34 s\n"
     ]
    },
    {
     "data": {
      "text/html": [
       "<pre style=\"white-space:pre;overflow-x:auto;line-height:normal;font-family:Menlo,'DejaVu Sans Mono',consolas,'Courier New',monospace\">┏━━━━━━━━━━━━━━━━━━━━━━━━━━━━━━━━━━━━━━━━━━━━━━━━━━━━━━━━━━━━━━━━━━━━━━━━━━━━━━━━━━━━━━━━━━━━━━━━━━━━━━━━━━━━━━━━━┓\n",
       "┃<span style=\"font-weight: bold\"> TimestampDelta('second', StringToTimestamp(StringConcat((StringConcat((utc_date, ' ')), utc_time)), '%Y.%m.%d … </span>┃\n",
       "┡━━━━━━━━━━━━━━━━━━━━━━━━━━━━━━━━━━━━━━━━━━━━━━━━━━━━━━━━━━━━━━━━━━━━━━━━━━━━━━━━━━━━━━━━━━━━━━━━━━━━━━━━━━━━━━━━━┩\n",
       "│ <span style=\"color: #7f7f7f; text-decoration-color: #7f7f7f\">int64</span>                                                                                                           │\n",
       "├─────────────────────────────────────────────────────────────────────────────────────────────────────────────────┤\n",
       "│                                                                                                             <span style=\"color: #008080; text-decoration-color: #008080; font-weight: bold\">777</span> │\n",
       "│                                                                                                            <span style=\"color: #008080; text-decoration-color: #008080; font-weight: bold\">1985</span> │\n",
       "│                                                                                                            <span style=\"color: #008080; text-decoration-color: #008080; font-weight: bold\">1076</span> │\n",
       "│                                                                                                             <span style=\"color: #008080; text-decoration-color: #008080; font-weight: bold\">396</span> │\n",
       "│                                                                                                            <span style=\"color: #008080; text-decoration-color: #008080; font-weight: bold\">3359</span> │\n",
       "│                                                                                                           <span style=\"color: #008080; text-decoration-color: #008080; font-weight: bold\">79343</span> │\n",
       "│                                                                                                            <span style=\"color: #008080; text-decoration-color: #008080; font-weight: bold\">6714</span> │\n",
       "│                                                                                                              <span style=\"color: #008080; text-decoration-color: #008080; font-weight: bold\">53</span> │\n",
       "│                                                                                                              <span style=\"color: #008080; text-decoration-color: #008080; font-weight: bold\">67</span> │\n",
       "│                                                                                                           <span style=\"color: #008080; text-decoration-color: #008080; font-weight: bold\">73335</span> │\n",
       "│                                                                                                               <span style=\"color: #7f7f7f; text-decoration-color: #7f7f7f\">…</span> │\n",
       "└─────────────────────────────────────────────────────────────────────────────────────────────────────────────────┘\n",
       "</pre>\n"
      ],
      "text/plain": [
       "┏━━━━━━━━━━━━━━━━━━━━━━━━━━━━━━━━━━━━━━━━━━━━━━━━━━━━━━━━━━━━━━━━━━━━━━━━━━━━━━━━━━━━━━━━━━━━━━━━━━━━━━━━━━━━━━━━━┓\n",
       "┃\u001b[1m \u001b[0m\u001b[1mTimestampDelta('second', StringToTimestamp(StringConcat((StringConcat((utc_date, ' ')), utc_time)), '%Y.%m.%d …\u001b[0m\u001b[1m \u001b[0m┃\n",
       "┡━━━━━━━━━━━━━━━━━━━━━━━━━━━━━━━━━━━━━━━━━━━━━━━━━━━━━━━━━━━━━━━━━━━━━━━━━━━━━━━━━━━━━━━━━━━━━━━━━━━━━━━━━━━━━━━━━┩\n",
       "│ \u001b[2mint64\u001b[0m                                                                                                           │\n",
       "├─────────────────────────────────────────────────────────────────────────────────────────────────────────────────┤\n",
       "│                                                                                                             \u001b[1;36m777\u001b[0m │\n",
       "│                                                                                                            \u001b[1;36m1985\u001b[0m │\n",
       "│                                                                                                            \u001b[1;36m1076\u001b[0m │\n",
       "│                                                                                                             \u001b[1;36m396\u001b[0m │\n",
       "│                                                                                                            \u001b[1;36m3359\u001b[0m │\n",
       "│                                                                                                           \u001b[1;36m79343\u001b[0m │\n",
       "│                                                                                                            \u001b[1;36m6714\u001b[0m │\n",
       "│                                                                                                              \u001b[1;36m53\u001b[0m │\n",
       "│                                                                                                              \u001b[1;36m67\u001b[0m │\n",
       "│                                                                                                           \u001b[1;36m73335\u001b[0m │\n",
       "│                                                                                                               \u001b[2m…\u001b[0m │\n",
       "└─────────────────────────────────────────────────────────────────────────────────────────────────────────────────┘\n"
      ]
     },
     "execution_count": 32,
     "metadata": {},
     "output_type": "execute_result"
    }
   ],
   "source": [
    "%%time\n",
    "black_seconds_since_previous_game = utc_timestamp.delta(\n",
    "    utc_timestamp.lag().over(\n",
    "        ibis.window(group_by=black_user_id, order_by=utc_timestamp)\n",
    "    ),\n",
    "    \"second\",\n",
    ")\n",
    "game_level_features.append(\n",
    "    black_seconds_since_previous_game.name(\"black_seconds_since_previous_game\")\n",
    ")\n",
    "black_seconds_since_previous_game.preview()"
   ]
  },
  {
   "cell_type": "code",
   "execution_count": 33,
   "id": "7fd3a1f0-136a-45ac-83b6-48a665a769ba",
   "metadata": {},
   "outputs": [
    {
     "name": "stdout",
     "output_type": "stream",
     "text": [
      "CPU times: user 1min 3s, sys: 1min 24s, total: 2min 27s\n",
      "Wall time: 2.12 s\n"
     ]
    },
    {
     "data": {
      "text/html": [
       "<pre style=\"white-space:pre;overflow-x:auto;line-height:normal;font-family:Menlo,'DejaVu Sans Mono',consolas,'Courier New',monospace\">┏━━━━━━━━━━━━━━━━━━━━━━━━━━━━━━━━━━━━━━━━━━━━━━━━━━┓\n",
       "┃<span style=\"font-weight: bold\"> CountStar(ibis_cache_rmsvj4nybbd2jbrmqzd5fy4plu) </span>┃\n",
       "┡━━━━━━━━━━━━━━━━━━━━━━━━━━━━━━━━━━━━━━━━━━━━━━━━━━┩\n",
       "│ <span style=\"color: #7f7f7f; text-decoration-color: #7f7f7f\">int64</span>                                            │\n",
       "├──────────────────────────────────────────────────┤\n",
       "│                                                <span style=\"color: #008080; text-decoration-color: #008080; font-weight: bold\">1</span> │\n",
       "│                                                <span style=\"color: #008080; text-decoration-color: #008080; font-weight: bold\">1</span> │\n",
       "│                                                <span style=\"color: #008080; text-decoration-color: #008080; font-weight: bold\">2</span> │\n",
       "│                                                <span style=\"color: #008080; text-decoration-color: #008080; font-weight: bold\">1</span> │\n",
       "│                                                <span style=\"color: #008080; text-decoration-color: #008080; font-weight: bold\">2</span> │\n",
       "│                                                <span style=\"color: #008080; text-decoration-color: #008080; font-weight: bold\">3</span> │\n",
       "│                                                <span style=\"color: #008080; text-decoration-color: #008080; font-weight: bold\">1</span> │\n",
       "│                                                <span style=\"color: #008080; text-decoration-color: #008080; font-weight: bold\">1</span> │\n",
       "│                                                <span style=\"color: #008080; text-decoration-color: #008080; font-weight: bold\">1</span> │\n",
       "│                                                <span style=\"color: #008080; text-decoration-color: #008080; font-weight: bold\">2</span> │\n",
       "│                                                <span style=\"color: #7f7f7f; text-decoration-color: #7f7f7f\">…</span> │\n",
       "└──────────────────────────────────────────────────┘\n",
       "</pre>\n"
      ],
      "text/plain": [
       "┏━━━━━━━━━━━━━━━━━━━━━━━━━━━━━━━━━━━━━━━━━━━━━━━━━━┓\n",
       "┃\u001b[1m \u001b[0m\u001b[1mCountStar(ibis_cache_rmsvj4nybbd2jbrmqzd5fy4plu)\u001b[0m\u001b[1m \u001b[0m┃\n",
       "┡━━━━━━━━━━━━━━━━━━━━━━━━━━━━━━━━━━━━━━━━━━━━━━━━━━┩\n",
       "│ \u001b[2mint64\u001b[0m                                            │\n",
       "├──────────────────────────────────────────────────┤\n",
       "│                                                \u001b[1;36m1\u001b[0m │\n",
       "│                                                \u001b[1;36m1\u001b[0m │\n",
       "│                                                \u001b[1;36m2\u001b[0m │\n",
       "│                                                \u001b[1;36m1\u001b[0m │\n",
       "│                                                \u001b[1;36m2\u001b[0m │\n",
       "│                                                \u001b[1;36m3\u001b[0m │\n",
       "│                                                \u001b[1;36m1\u001b[0m │\n",
       "│                                                \u001b[1;36m1\u001b[0m │\n",
       "│                                                \u001b[1;36m1\u001b[0m │\n",
       "│                                                \u001b[1;36m2\u001b[0m │\n",
       "│                                                \u001b[2m…\u001b[0m │\n",
       "└──────────────────────────────────────────────────┘\n"
      ]
     },
     "execution_count": 33,
     "metadata": {},
     "output_type": "execute_result"
    }
   ],
   "source": [
    "%%time\n",
    "white_games_in_last_hour = games.count().over(\n",
    "    range=(-ibis.interval(hours=1), 0), group_by=white_user_id, order_by=utc_timestamp\n",
    ")\n",
    "game_level_features.append(white_games_in_last_hour.name(\"white_games_in_last_hour\"))\n",
    "white_games_in_last_hour.preview()"
   ]
  },
  {
   "cell_type": "code",
   "execution_count": 34,
   "id": "ec190788-a824-40b4-835d-ad01d612b424",
   "metadata": {},
   "outputs": [
    {
     "name": "stdout",
     "output_type": "stream",
     "text": [
      "CPU times: user 58.1 s, sys: 1min 4s, total: 2min 2s\n",
      "Wall time: 1.98 s\n"
     ]
    },
    {
     "data": {
      "text/html": [
       "<pre style=\"white-space:pre;overflow-x:auto;line-height:normal;font-family:Menlo,'DejaVu Sans Mono',consolas,'Courier New',monospace\">┏━━━━━━━━━━━━━━━━━━━━━━━━━━━━━━━━━━━━━━━━━━━━━━━━━━┓\n",
       "┃<span style=\"font-weight: bold\"> CountStar(ibis_cache_rmsvj4nybbd2jbrmqzd5fy4plu) </span>┃\n",
       "┡━━━━━━━━━━━━━━━━━━━━━━━━━━━━━━━━━━━━━━━━━━━━━━━━━━┩\n",
       "│ <span style=\"color: #7f7f7f; text-decoration-color: #7f7f7f\">int64</span>                                            │\n",
       "├──────────────────────────────────────────────────┤\n",
       "│                                                <span style=\"color: #008080; text-decoration-color: #008080; font-weight: bold\">1</span> │\n",
       "│                                                <span style=\"color: #008080; text-decoration-color: #008080; font-weight: bold\">1</span> │\n",
       "│                                                <span style=\"color: #008080; text-decoration-color: #008080; font-weight: bold\">1</span> │\n",
       "│                                                <span style=\"color: #008080; text-decoration-color: #008080; font-weight: bold\">1</span> │\n",
       "│                                                <span style=\"color: #008080; text-decoration-color: #008080; font-weight: bold\">2</span> │\n",
       "│                                                <span style=\"color: #008080; text-decoration-color: #008080; font-weight: bold\">1</span> │\n",
       "│                                                <span style=\"color: #008080; text-decoration-color: #008080; font-weight: bold\">1</span> │\n",
       "│                                                <span style=\"color: #008080; text-decoration-color: #008080; font-weight: bold\">2</span> │\n",
       "│                                                <span style=\"color: #008080; text-decoration-color: #008080; font-weight: bold\">3</span> │\n",
       "│                                                <span style=\"color: #008080; text-decoration-color: #008080; font-weight: bold\">1</span> │\n",
       "│                                                <span style=\"color: #7f7f7f; text-decoration-color: #7f7f7f\">…</span> │\n",
       "└──────────────────────────────────────────────────┘\n",
       "</pre>\n"
      ],
      "text/plain": [
       "┏━━━━━━━━━━━━━━━━━━━━━━━━━━━━━━━━━━━━━━━━━━━━━━━━━━┓\n",
       "┃\u001b[1m \u001b[0m\u001b[1mCountStar(ibis_cache_rmsvj4nybbd2jbrmqzd5fy4plu)\u001b[0m\u001b[1m \u001b[0m┃\n",
       "┡━━━━━━━━━━━━━━━━━━━━━━━━━━━━━━━━━━━━━━━━━━━━━━━━━━┩\n",
       "│ \u001b[2mint64\u001b[0m                                            │\n",
       "├──────────────────────────────────────────────────┤\n",
       "│                                                \u001b[1;36m1\u001b[0m │\n",
       "│                                                \u001b[1;36m1\u001b[0m │\n",
       "│                                                \u001b[1;36m1\u001b[0m │\n",
       "│                                                \u001b[1;36m1\u001b[0m │\n",
       "│                                                \u001b[1;36m2\u001b[0m │\n",
       "│                                                \u001b[1;36m1\u001b[0m │\n",
       "│                                                \u001b[1;36m1\u001b[0m │\n",
       "│                                                \u001b[1;36m2\u001b[0m │\n",
       "│                                                \u001b[1;36m3\u001b[0m │\n",
       "│                                                \u001b[1;36m1\u001b[0m │\n",
       "│                                                \u001b[2m…\u001b[0m │\n",
       "└──────────────────────────────────────────────────┘\n"
      ]
     },
     "execution_count": 34,
     "metadata": {},
     "output_type": "execute_result"
    }
   ],
   "source": [
    "%%time\n",
    "black_games_in_last_hour = games.count().over(\n",
    "    range=(-ibis.interval(hours=1), 0), group_by=black_user_id, order_by=utc_timestamp\n",
    ")\n",
    "game_level_features.append(black_games_in_last_hour.name(\"black_games_in_last_hour\"))\n",
    "black_games_in_last_hour.preview()"
   ]
  },
  {
   "cell_type": "code",
   "execution_count": 35,
   "id": "267b0e35-f789-478c-8657-b3fb419f2ca3",
   "metadata": {},
   "outputs": [
    {
     "name": "stdout",
     "output_type": "stream",
     "text": [
      "CPU times: user 1min 1s, sys: 1min 11s, total: 2min 13s\n",
      "Wall time: 1.89 s\n"
     ]
    },
    {
     "data": {
      "text/html": [
       "<pre style=\"white-space:pre;overflow-x:auto;line-height:normal;font-family:Menlo,'DejaVu Sans Mono',consolas,'Courier New',monospace\">┏━━━━━━━━━━━━━━━━━━━━━━━━━━━━━━━━━━━━━━━━━━━━━━━━━━┓\n",
       "┃<span style=\"font-weight: bold\"> CountStar(ibis_cache_rmsvj4nybbd2jbrmqzd5fy4plu) </span>┃\n",
       "┡━━━━━━━━━━━━━━━━━━━━━━━━━━━━━━━━━━━━━━━━━━━━━━━━━━┩\n",
       "│ <span style=\"color: #7f7f7f; text-decoration-color: #7f7f7f\">int64</span>                                            │\n",
       "├──────────────────────────────────────────────────┤\n",
       "│                                                <span style=\"color: #008080; text-decoration-color: #008080; font-weight: bold\">4</span> │\n",
       "│                                                <span style=\"color: #008080; text-decoration-color: #008080; font-weight: bold\">4</span> │\n",
       "│                                                <span style=\"color: #008080; text-decoration-color: #008080; font-weight: bold\">1</span> │\n",
       "│                                                <span style=\"color: #008080; text-decoration-color: #008080; font-weight: bold\">2</span> │\n",
       "│                                                <span style=\"color: #008080; text-decoration-color: #008080; font-weight: bold\">3</span> │\n",
       "│                                                <span style=\"color: #008080; text-decoration-color: #008080; font-weight: bold\">4</span> │\n",
       "│                                                <span style=\"color: #008080; text-decoration-color: #008080; font-weight: bold\">5</span> │\n",
       "│                                                <span style=\"color: #008080; text-decoration-color: #008080; font-weight: bold\">6</span> │\n",
       "│                                                <span style=\"color: #008080; text-decoration-color: #008080; font-weight: bold\">7</span> │\n",
       "│                                                <span style=\"color: #008080; text-decoration-color: #008080; font-weight: bold\">8</span> │\n",
       "│                                                <span style=\"color: #7f7f7f; text-decoration-color: #7f7f7f\">…</span> │\n",
       "└──────────────────────────────────────────────────┘\n",
       "</pre>\n"
      ],
      "text/plain": [
       "┏━━━━━━━━━━━━━━━━━━━━━━━━━━━━━━━━━━━━━━━━━━━━━━━━━━┓\n",
       "┃\u001b[1m \u001b[0m\u001b[1mCountStar(ibis_cache_rmsvj4nybbd2jbrmqzd5fy4plu)\u001b[0m\u001b[1m \u001b[0m┃\n",
       "┡━━━━━━━━━━━━━━━━━━━━━━━━━━━━━━━━━━━━━━━━━━━━━━━━━━┩\n",
       "│ \u001b[2mint64\u001b[0m                                            │\n",
       "├──────────────────────────────────────────────────┤\n",
       "│                                                \u001b[1;36m4\u001b[0m │\n",
       "│                                                \u001b[1;36m4\u001b[0m │\n",
       "│                                                \u001b[1;36m1\u001b[0m │\n",
       "│                                                \u001b[1;36m2\u001b[0m │\n",
       "│                                                \u001b[1;36m3\u001b[0m │\n",
       "│                                                \u001b[1;36m4\u001b[0m │\n",
       "│                                                \u001b[1;36m5\u001b[0m │\n",
       "│                                                \u001b[1;36m6\u001b[0m │\n",
       "│                                                \u001b[1;36m7\u001b[0m │\n",
       "│                                                \u001b[1;36m8\u001b[0m │\n",
       "│                                                \u001b[2m…\u001b[0m │\n",
       "└──────────────────────────────────────────────────┘\n"
      ]
     },
     "execution_count": 35,
     "metadata": {},
     "output_type": "execute_result"
    }
   ],
   "source": [
    "%%time\n",
    "white_games_in_last_day = games.count().over(\n",
    "    range=(-ibis.interval(days=1), 0), group_by=white_user_id, order_by=utc_timestamp\n",
    ")\n",
    "game_level_features.append(white_games_in_last_day.name(\"white_games_in_last_day\"))\n",
    "white_games_in_last_day.preview()"
   ]
  },
  {
   "cell_type": "code",
   "execution_count": 36,
   "id": "328effbf-d213-477c-b86a-14b75e99a47d",
   "metadata": {},
   "outputs": [
    {
     "name": "stdout",
     "output_type": "stream",
     "text": [
      "CPU times: user 59.3 s, sys: 1min 7s, total: 2min 7s\n",
      "Wall time: 1.99 s\n"
     ]
    },
    {
     "data": {
      "text/html": [
       "<pre style=\"white-space:pre;overflow-x:auto;line-height:normal;font-family:Menlo,'DejaVu Sans Mono',consolas,'Courier New',monospace\">┏━━━━━━━━━━━━━━━━━━━━━━━━━━━━━━━━━━━━━━━━━━━━━━━━━━┓\n",
       "┃<span style=\"font-weight: bold\"> CountStar(ibis_cache_rmsvj4nybbd2jbrmqzd5fy4plu) </span>┃\n",
       "┡━━━━━━━━━━━━━━━━━━━━━━━━━━━━━━━━━━━━━━━━━━━━━━━━━━┩\n",
       "│ <span style=\"color: #7f7f7f; text-decoration-color: #7f7f7f\">int64</span>                                            │\n",
       "├──────────────────────────────────────────────────┤\n",
       "│                                                <span style=\"color: #008080; text-decoration-color: #008080; font-weight: bold\">2</span> │\n",
       "│                                                <span style=\"color: #008080; text-decoration-color: #008080; font-weight: bold\">1</span> │\n",
       "│                                                <span style=\"color: #008080; text-decoration-color: #008080; font-weight: bold\">1</span> │\n",
       "│                                                <span style=\"color: #008080; text-decoration-color: #008080; font-weight: bold\">2</span> │\n",
       "│                                                <span style=\"color: #008080; text-decoration-color: #008080; font-weight: bold\">1</span> │\n",
       "│                                                <span style=\"color: #008080; text-decoration-color: #008080; font-weight: bold\">2</span> │\n",
       "│                                                <span style=\"color: #008080; text-decoration-color: #008080; font-weight: bold\">3</span> │\n",
       "│                                                <span style=\"color: #008080; text-decoration-color: #008080; font-weight: bold\">4</span> │\n",
       "│                                                <span style=\"color: #008080; text-decoration-color: #008080; font-weight: bold\">5</span> │\n",
       "│                                                <span style=\"color: #008080; text-decoration-color: #008080; font-weight: bold\">6</span> │\n",
       "│                                                <span style=\"color: #7f7f7f; text-decoration-color: #7f7f7f\">…</span> │\n",
       "└──────────────────────────────────────────────────┘\n",
       "</pre>\n"
      ],
      "text/plain": [
       "┏━━━━━━━━━━━━━━━━━━━━━━━━━━━━━━━━━━━━━━━━━━━━━━━━━━┓\n",
       "┃\u001b[1m \u001b[0m\u001b[1mCountStar(ibis_cache_rmsvj4nybbd2jbrmqzd5fy4plu)\u001b[0m\u001b[1m \u001b[0m┃\n",
       "┡━━━━━━━━━━━━━━━━━━━━━━━━━━━━━━━━━━━━━━━━━━━━━━━━━━┩\n",
       "│ \u001b[2mint64\u001b[0m                                            │\n",
       "├──────────────────────────────────────────────────┤\n",
       "│                                                \u001b[1;36m2\u001b[0m │\n",
       "│                                                \u001b[1;36m1\u001b[0m │\n",
       "│                                                \u001b[1;36m1\u001b[0m │\n",
       "│                                                \u001b[1;36m2\u001b[0m │\n",
       "│                                                \u001b[1;36m1\u001b[0m │\n",
       "│                                                \u001b[1;36m2\u001b[0m │\n",
       "│                                                \u001b[1;36m3\u001b[0m │\n",
       "│                                                \u001b[1;36m4\u001b[0m │\n",
       "│                                                \u001b[1;36m5\u001b[0m │\n",
       "│                                                \u001b[1;36m6\u001b[0m │\n",
       "│                                                \u001b[2m…\u001b[0m │\n",
       "└──────────────────────────────────────────────────┘\n"
      ]
     },
     "execution_count": 36,
     "metadata": {},
     "output_type": "execute_result"
    }
   ],
   "source": [
    "%%time\n",
    "black_games_in_last_day = games.count().over(\n",
    "    range=(-ibis.interval(days=1), 0), group_by=black_user_id, order_by=utc_timestamp\n",
    ")\n",
    "game_level_features.append(black_games_in_last_day.name(\"black_games_in_last_day\"))\n",
    "black_games_in_last_day.preview()"
   ]
  },
  {
   "cell_type": "code",
   "execution_count": 37,
   "id": "c9d26f01-50d3-4603-803c-1e53295ecc46",
   "metadata": {},
   "outputs": [
    {
     "name": "stdout",
     "output_type": "stream",
     "text": [
      "CPU times: user 1min 3s, sys: 1min 15s, total: 2min 18s\n",
      "Wall time: 1.97 s\n"
     ]
    },
    {
     "data": {
      "text/html": [
       "<pre style=\"white-space:pre;overflow-x:auto;line-height:normal;font-family:Menlo,'DejaVu Sans Mono',consolas,'Courier New',monospace\">┏━━━━━━━━━━━━━━━━━━━━━━━━━━━━━━━━━━━━━━━━━━━━━━━━━━┓\n",
       "┃<span style=\"font-weight: bold\"> CountStar(ibis_cache_rmsvj4nybbd2jbrmqzd5fy4plu) </span>┃\n",
       "┡━━━━━━━━━━━━━━━━━━━━━━━━━━━━━━━━━━━━━━━━━━━━━━━━━━┩\n",
       "│ <span style=\"color: #7f7f7f; text-decoration-color: #7f7f7f\">int64</span>                                            │\n",
       "├──────────────────────────────────────────────────┤\n",
       "│                                                <span style=\"color: #008080; text-decoration-color: #008080; font-weight: bold\">1</span> │\n",
       "│                                                <span style=\"color: #008080; text-decoration-color: #008080; font-weight: bold\">2</span> │\n",
       "│                                                <span style=\"color: #008080; text-decoration-color: #008080; font-weight: bold\">3</span> │\n",
       "│                                                <span style=\"color: #008080; text-decoration-color: #008080; font-weight: bold\">4</span> │\n",
       "│                                                <span style=\"color: #008080; text-decoration-color: #008080; font-weight: bold\">5</span> │\n",
       "│                                                <span style=\"color: #008080; text-decoration-color: #008080; font-weight: bold\">6</span> │\n",
       "│                                                <span style=\"color: #008080; text-decoration-color: #008080; font-weight: bold\">1</span> │\n",
       "│                                                <span style=\"color: #008080; text-decoration-color: #008080; font-weight: bold\">2</span> │\n",
       "│                                                <span style=\"color: #008080; text-decoration-color: #008080; font-weight: bold\">3</span> │\n",
       "│                                                <span style=\"color: #008080; text-decoration-color: #008080; font-weight: bold\">4</span> │\n",
       "│                                                <span style=\"color: #7f7f7f; text-decoration-color: #7f7f7f\">…</span> │\n",
       "└──────────────────────────────────────────────────┘\n",
       "</pre>\n"
      ],
      "text/plain": [
       "┏━━━━━━━━━━━━━━━━━━━━━━━━━━━━━━━━━━━━━━━━━━━━━━━━━━┓\n",
       "┃\u001b[1m \u001b[0m\u001b[1mCountStar(ibis_cache_rmsvj4nybbd2jbrmqzd5fy4plu)\u001b[0m\u001b[1m \u001b[0m┃\n",
       "┡━━━━━━━━━━━━━━━━━━━━━━━━━━━━━━━━━━━━━━━━━━━━━━━━━━┩\n",
       "│ \u001b[2mint64\u001b[0m                                            │\n",
       "├──────────────────────────────────────────────────┤\n",
       "│                                                \u001b[1;36m1\u001b[0m │\n",
       "│                                                \u001b[1;36m2\u001b[0m │\n",
       "│                                                \u001b[1;36m3\u001b[0m │\n",
       "│                                                \u001b[1;36m4\u001b[0m │\n",
       "│                                                \u001b[1;36m5\u001b[0m │\n",
       "│                                                \u001b[1;36m6\u001b[0m │\n",
       "│                                                \u001b[1;36m1\u001b[0m │\n",
       "│                                                \u001b[1;36m2\u001b[0m │\n",
       "│                                                \u001b[1;36m3\u001b[0m │\n",
       "│                                                \u001b[1;36m4\u001b[0m │\n",
       "│                                                \u001b[2m…\u001b[0m │\n",
       "└──────────────────────────────────────────────────┘\n"
      ]
     },
     "execution_count": 37,
     "metadata": {},
     "output_type": "execute_result"
    }
   ],
   "source": [
    "%%time\n",
    "white_games_in_last_week = games.count().over(\n",
    "    range=(-ibis.interval(days=7), 0), group_by=white_user_id, order_by=utc_timestamp\n",
    ")\n",
    "game_level_features.append(white_games_in_last_week.name(\"white_games_in_last_week\"))\n",
    "white_games_in_last_week.preview()"
   ]
  },
  {
   "cell_type": "code",
   "execution_count": 38,
   "id": "58ba7b4b-43b0-4805-a4e8-1bc11655c94e",
   "metadata": {},
   "outputs": [
    {
     "name": "stdout",
     "output_type": "stream",
     "text": [
      "CPU times: user 59 s, sys: 1min 11s, total: 2min 10s\n",
      "Wall time: 1.83 s\n"
     ]
    },
    {
     "data": {
      "text/html": [
       "<pre style=\"white-space:pre;overflow-x:auto;line-height:normal;font-family:Menlo,'DejaVu Sans Mono',consolas,'Courier New',monospace\">┏━━━━━━━━━━━━━━━━━━━━━━━━━━━━━━━━━━━━━━━━━━━━━━━━━━┓\n",
       "┃<span style=\"font-weight: bold\"> CountStar(ibis_cache_rmsvj4nybbd2jbrmqzd5fy4plu) </span>┃\n",
       "┡━━━━━━━━━━━━━━━━━━━━━━━━━━━━━━━━━━━━━━━━━━━━━━━━━━┩\n",
       "│ <span style=\"color: #7f7f7f; text-decoration-color: #7f7f7f\">int64</span>                                            │\n",
       "├──────────────────────────────────────────────────┤\n",
       "│                                                <span style=\"color: #008080; text-decoration-color: #008080; font-weight: bold\">2</span> │\n",
       "│                                                <span style=\"color: #008080; text-decoration-color: #008080; font-weight: bold\">1</span> │\n",
       "│                                                <span style=\"color: #008080; text-decoration-color: #008080; font-weight: bold\">2</span> │\n",
       "│                                                <span style=\"color: #008080; text-decoration-color: #008080; font-weight: bold\">2</span> │\n",
       "│                                                <span style=\"color: #008080; text-decoration-color: #008080; font-weight: bold\">1</span> │\n",
       "│                                                <span style=\"color: #008080; text-decoration-color: #008080; font-weight: bold\">2</span> │\n",
       "│                                                <span style=\"color: #008080; text-decoration-color: #008080; font-weight: bold\">1</span> │\n",
       "│                                                <span style=\"color: #008080; text-decoration-color: #008080; font-weight: bold\">2</span> │\n",
       "│                                                <span style=\"color: #008080; text-decoration-color: #008080; font-weight: bold\">2</span> │\n",
       "│                                                <span style=\"color: #008080; text-decoration-color: #008080; font-weight: bold\">2</span> │\n",
       "│                                                <span style=\"color: #7f7f7f; text-decoration-color: #7f7f7f\">…</span> │\n",
       "└──────────────────────────────────────────────────┘\n",
       "</pre>\n"
      ],
      "text/plain": [
       "┏━━━━━━━━━━━━━━━━━━━━━━━━━━━━━━━━━━━━━━━━━━━━━━━━━━┓\n",
       "┃\u001b[1m \u001b[0m\u001b[1mCountStar(ibis_cache_rmsvj4nybbd2jbrmqzd5fy4plu)\u001b[0m\u001b[1m \u001b[0m┃\n",
       "┡━━━━━━━━━━━━━━━━━━━━━━━━━━━━━━━━━━━━━━━━━━━━━━━━━━┩\n",
       "│ \u001b[2mint64\u001b[0m                                            │\n",
       "├──────────────────────────────────────────────────┤\n",
       "│                                                \u001b[1;36m2\u001b[0m │\n",
       "│                                                \u001b[1;36m1\u001b[0m │\n",
       "│                                                \u001b[1;36m2\u001b[0m │\n",
       "│                                                \u001b[1;36m2\u001b[0m │\n",
       "│                                                \u001b[1;36m1\u001b[0m │\n",
       "│                                                \u001b[1;36m2\u001b[0m │\n",
       "│                                                \u001b[1;36m1\u001b[0m │\n",
       "│                                                \u001b[1;36m2\u001b[0m │\n",
       "│                                                \u001b[1;36m2\u001b[0m │\n",
       "│                                                \u001b[1;36m2\u001b[0m │\n",
       "│                                                \u001b[2m…\u001b[0m │\n",
       "└──────────────────────────────────────────────────┘\n"
      ]
     },
     "execution_count": 38,
     "metadata": {},
     "output_type": "execute_result"
    }
   ],
   "source": [
    "%%time\n",
    "black_games_in_last_week = games.count().over(\n",
    "    range=(-ibis.interval(days=7), 0), group_by=black_user_id, order_by=utc_timestamp\n",
    ")\n",
    "game_level_features.append(black_games_in_last_week.name(\"black_games_in_last_week\"))\n",
    "black_games_in_last_week.preview()"
   ]
  },
  {
   "cell_type": "markdown",
   "id": "abc5763b-3094-43d9-8ec5-a4575e45ba06",
   "metadata": {},
   "source": [
    "## Elo features"
   ]
  },
  {
   "cell_type": "code",
   "execution_count": 39,
   "id": "cf375507-7611-47ce-9700-96b9b1c21f0e",
   "metadata": {},
   "outputs": [
    {
     "name": "stdout",
     "output_type": "stream",
     "text": [
      "CPU times: user 56.5 ms, sys: 20.7 ms, total: 77.2 ms\n",
      "Wall time: 20.7 ms\n"
     ]
    },
    {
     "data": {
      "text/html": [
       "<pre style=\"white-space:pre;overflow-x:auto;line-height:normal;font-family:Menlo,'DejaVu Sans Mono',consolas,'Courier New',monospace\">┏━━━━━━━━━━━━━━━━━━━━━━━━┓\n",
       "┃<span style=\"font-weight: bold\"> Cast(white_elo, int64) </span>┃\n",
       "┡━━━━━━━━━━━━━━━━━━━━━━━━┩\n",
       "│ <span style=\"color: #7f7f7f; text-decoration-color: #7f7f7f\">int64</span>                  │\n",
       "├────────────────────────┤\n",
       "│                   <span style=\"color: #008080; text-decoration-color: #008080; font-weight: bold\">1519</span> │\n",
       "│                   <span style=\"color: #008080; text-decoration-color: #008080; font-weight: bold\">2035</span> │\n",
       "│                   <span style=\"color: #008080; text-decoration-color: #008080; font-weight: bold\">1468</span> │\n",
       "│                    <span style=\"color: #008080; text-decoration-color: #008080; font-weight: bold\">999</span> │\n",
       "│                    <span style=\"color: #008080; text-decoration-color: #008080; font-weight: bold\">922</span> │\n",
       "│                   <span style=\"color: #008080; text-decoration-color: #008080; font-weight: bold\">2078</span> │\n",
       "│                    <span style=\"color: #008080; text-decoration-color: #008080; font-weight: bold\">983</span> │\n",
       "│                   <span style=\"color: #008080; text-decoration-color: #008080; font-weight: bold\">1913</span> │\n",
       "│                   <span style=\"color: #008080; text-decoration-color: #008080; font-weight: bold\">1674</span> │\n",
       "│                   <span style=\"color: #008080; text-decoration-color: #008080; font-weight: bold\">2364</span> │\n",
       "│                      <span style=\"color: #7f7f7f; text-decoration-color: #7f7f7f\">…</span> │\n",
       "└────────────────────────┘\n",
       "</pre>\n"
      ],
      "text/plain": [
       "┏━━━━━━━━━━━━━━━━━━━━━━━━┓\n",
       "┃\u001b[1m \u001b[0m\u001b[1mCast(white_elo, int64)\u001b[0m\u001b[1m \u001b[0m┃\n",
       "┡━━━━━━━━━━━━━━━━━━━━━━━━┩\n",
       "│ \u001b[2mint64\u001b[0m                  │\n",
       "├────────────────────────┤\n",
       "│                   \u001b[1;36m1519\u001b[0m │\n",
       "│                   \u001b[1;36m2035\u001b[0m │\n",
       "│                   \u001b[1;36m1468\u001b[0m │\n",
       "│                    \u001b[1;36m999\u001b[0m │\n",
       "│                    \u001b[1;36m922\u001b[0m │\n",
       "│                   \u001b[1;36m2078\u001b[0m │\n",
       "│                    \u001b[1;36m983\u001b[0m │\n",
       "│                   \u001b[1;36m1913\u001b[0m │\n",
       "│                   \u001b[1;36m1674\u001b[0m │\n",
       "│                   \u001b[1;36m2364\u001b[0m │\n",
       "│                      \u001b[2m…\u001b[0m │\n",
       "└────────────────────────┘\n"
      ]
     },
     "execution_count": 39,
     "metadata": {},
     "output_type": "execute_result"
    }
   ],
   "source": [
    "%%time\n",
    "white_elo = games.white_elo.cast(int)\n",
    "game_level_features.append(white_elo.name(\"white_elo\"))\n",
    "white_elo.preview()"
   ]
  },
  {
   "cell_type": "code",
   "execution_count": 40,
   "id": "fc24647b-f1cd-44c0-9b17-751124ed0e1f",
   "metadata": {},
   "outputs": [
    {
     "name": "stdout",
     "output_type": "stream",
     "text": [
      "CPU times: user 46.2 ms, sys: 881 μs, total: 47 ms\n",
      "Wall time: 10.6 ms\n"
     ]
    },
    {
     "data": {
      "text/html": [
       "<pre style=\"white-space:pre;overflow-x:auto;line-height:normal;font-family:Menlo,'DejaVu Sans Mono',consolas,'Courier New',monospace\">┏━━━━━━━━━━━━━━━━━━━━━━━━┓\n",
       "┃<span style=\"font-weight: bold\"> Cast(black_elo, int64) </span>┃\n",
       "┡━━━━━━━━━━━━━━━━━━━━━━━━┩\n",
       "│ <span style=\"color: #7f7f7f; text-decoration-color: #7f7f7f\">int64</span>                  │\n",
       "├────────────────────────┤\n",
       "│                   <span style=\"color: #008080; text-decoration-color: #008080; font-weight: bold\">1522</span> │\n",
       "│                   <span style=\"color: #008080; text-decoration-color: #008080; font-weight: bold\">2130</span> │\n",
       "│                   <span style=\"color: #008080; text-decoration-color: #008080; font-weight: bold\">1481</span> │\n",
       "│                    <span style=\"color: #008080; text-decoration-color: #008080; font-weight: bold\">967</span> │\n",
       "│                    <span style=\"color: #008080; text-decoration-color: #008080; font-weight: bold\">814</span> │\n",
       "│                   <span style=\"color: #008080; text-decoration-color: #008080; font-weight: bold\">2290</span> │\n",
       "│                   <span style=\"color: #008080; text-decoration-color: #008080; font-weight: bold\">1000</span> │\n",
       "│                   <span style=\"color: #008080; text-decoration-color: #008080; font-weight: bold\">1907</span> │\n",
       "│                   <span style=\"color: #008080; text-decoration-color: #008080; font-weight: bold\">1607</span> │\n",
       "│                   <span style=\"color: #008080; text-decoration-color: #008080; font-weight: bold\">2410</span> │\n",
       "│                      <span style=\"color: #7f7f7f; text-decoration-color: #7f7f7f\">…</span> │\n",
       "└────────────────────────┘\n",
       "</pre>\n"
      ],
      "text/plain": [
       "┏━━━━━━━━━━━━━━━━━━━━━━━━┓\n",
       "┃\u001b[1m \u001b[0m\u001b[1mCast(black_elo, int64)\u001b[0m\u001b[1m \u001b[0m┃\n",
       "┡━━━━━━━━━━━━━━━━━━━━━━━━┩\n",
       "│ \u001b[2mint64\u001b[0m                  │\n",
       "├────────────────────────┤\n",
       "│                   \u001b[1;36m1522\u001b[0m │\n",
       "│                   \u001b[1;36m2130\u001b[0m │\n",
       "│                   \u001b[1;36m1481\u001b[0m │\n",
       "│                    \u001b[1;36m967\u001b[0m │\n",
       "│                    \u001b[1;36m814\u001b[0m │\n",
       "│                   \u001b[1;36m2290\u001b[0m │\n",
       "│                   \u001b[1;36m1000\u001b[0m │\n",
       "│                   \u001b[1;36m1907\u001b[0m │\n",
       "│                   \u001b[1;36m1607\u001b[0m │\n",
       "│                   \u001b[1;36m2410\u001b[0m │\n",
       "│                      \u001b[2m…\u001b[0m │\n",
       "└────────────────────────┘\n"
      ]
     },
     "execution_count": 40,
     "metadata": {},
     "output_type": "execute_result"
    }
   ],
   "source": [
    "%%time\n",
    "black_elo = games.black_elo.cast(int)\n",
    "game_level_features.append(black_elo.name(\"black_elo\"))\n",
    "black_elo.preview()"
   ]
  },
  {
   "cell_type": "code",
   "execution_count": 41,
   "id": "ea81f7a5-0dcf-4572-8436-d7d49cc1b476",
   "metadata": {},
   "outputs": [
    {
     "name": "stdout",
     "output_type": "stream",
     "text": [
      "CPU times: user 28 μs, sys: 1e+03 ns, total: 29 μs\n",
      "Wall time: 52.7 μs\n"
     ]
    },
    {
     "data": {
      "text/html": [
       "<pre style=\"white-space:pre;overflow-x:auto;line-height:normal;font-family:Menlo,'DejaVu Sans Mono',consolas,'Courier New',monospace\">┏━━━━━━━━━━━━━━━━━━━━━━━━━━━━━━━━━━━━━━━━━━━━━━━━━━━━━━━━━━┓\n",
       "┃<span style=\"font-weight: bold\"> Subtract(Cast(white_elo, int64), Cast(black_elo, int64)) </span>┃\n",
       "┡━━━━━━━━━━━━━━━━━━━━━━━━━━━━━━━━━━━━━━━━━━━━━━━━━━━━━━━━━━┩\n",
       "│ <span style=\"color: #7f7f7f; text-decoration-color: #7f7f7f\">int64</span>                                                    │\n",
       "├──────────────────────────────────────────────────────────┤\n",
       "│                                                       <span style=\"color: #008080; text-decoration-color: #008080; font-weight: bold\">-3</span> │\n",
       "│                                                      <span style=\"color: #008080; text-decoration-color: #008080; font-weight: bold\">-95</span> │\n",
       "│                                                      <span style=\"color: #008080; text-decoration-color: #008080; font-weight: bold\">-13</span> │\n",
       "│                                                       <span style=\"color: #008080; text-decoration-color: #008080; font-weight: bold\">32</span> │\n",
       "│                                                      <span style=\"color: #008080; text-decoration-color: #008080; font-weight: bold\">108</span> │\n",
       "│                                                     <span style=\"color: #008080; text-decoration-color: #008080; font-weight: bold\">-212</span> │\n",
       "│                                                      <span style=\"color: #008080; text-decoration-color: #008080; font-weight: bold\">-17</span> │\n",
       "│                                                        <span style=\"color: #008080; text-decoration-color: #008080; font-weight: bold\">6</span> │\n",
       "│                                                       <span style=\"color: #008080; text-decoration-color: #008080; font-weight: bold\">67</span> │\n",
       "│                                                      <span style=\"color: #008080; text-decoration-color: #008080; font-weight: bold\">-46</span> │\n",
       "│                                                        <span style=\"color: #7f7f7f; text-decoration-color: #7f7f7f\">…</span> │\n",
       "└──────────────────────────────────────────────────────────┘\n",
       "</pre>\n"
      ],
      "text/plain": [
       "┏━━━━━━━━━━━━━━━━━━━━━━━━━━━━━━━━━━━━━━━━━━━━━━━━━━━━━━━━━━┓\n",
       "┃\u001b[1m \u001b[0m\u001b[1mSubtract(Cast(white_elo, int64), Cast(black_elo, int64))\u001b[0m\u001b[1m \u001b[0m┃\n",
       "┡━━━━━━━━━━━━━━━━━━━━━━━━━━━━━━━━━━━━━━━━━━━━━━━━━━━━━━━━━━┩\n",
       "│ \u001b[2mint64\u001b[0m                                                    │\n",
       "├──────────────────────────────────────────────────────────┤\n",
       "│                                                       \u001b[1;36m-3\u001b[0m │\n",
       "│                                                      \u001b[1;36m-95\u001b[0m │\n",
       "│                                                      \u001b[1;36m-13\u001b[0m │\n",
       "│                                                       \u001b[1;36m32\u001b[0m │\n",
       "│                                                      \u001b[1;36m108\u001b[0m │\n",
       "│                                                     \u001b[1;36m-212\u001b[0m │\n",
       "│                                                      \u001b[1;36m-17\u001b[0m │\n",
       "│                                                        \u001b[1;36m6\u001b[0m │\n",
       "│                                                       \u001b[1;36m67\u001b[0m │\n",
       "│                                                      \u001b[1;36m-46\u001b[0m │\n",
       "│                                                        \u001b[2m…\u001b[0m │\n",
       "└──────────────────────────────────────────────────────────┘\n"
      ]
     },
     "execution_count": 41,
     "metadata": {},
     "output_type": "execute_result"
    }
   ],
   "source": [
    "%time\n",
    "elo_diff = white_elo - black_elo\n",
    "game_level_features.append(elo_diff.name(\"elo_diff\"))\n",
    "elo_diff.preview()"
   ]
  },
  {
   "cell_type": "code",
   "execution_count": 42,
   "id": "db699afe-116f-42d3-915c-572a250c6ee7",
   "metadata": {},
   "outputs": [
    {
     "name": "stdout",
     "output_type": "stream",
     "text": [
      "CPU times: user 1min, sys: 1min 35s, total: 2min 36s\n",
      "Wall time: 2.55 s\n"
     ]
    },
    {
     "data": {
      "text/html": [
       "<pre style=\"white-space:pre;overflow-x:auto;line-height:normal;font-family:Menlo,'DejaVu Sans Mono',consolas,'Courier New',monospace\">┏━━━━━━━━━━━━━━━━━━━━━━━━━━━━━━━━━━━━━━━━━━━━━━━━━━━━━━━━━━━━━━━┓\n",
       "┃<span style=\"font-weight: bold\"> Subtract(Cast(white_elo, int64), Lag(Cast(white_elo, int64))) </span>┃\n",
       "┡━━━━━━━━━━━━━━━━━━━━━━━━━━━━━━━━━━━━━━━━━━━━━━━━━━━━━━━━━━━━━━━┩\n",
       "│ <span style=\"color: #7f7f7f; text-decoration-color: #7f7f7f\">int64</span>                                                         │\n",
       "├───────────────────────────────────────────────────────────────┤\n",
       "│                                                          <span style=\"color: #7f7f7f; text-decoration-color: #7f7f7f\">NULL</span> │\n",
       "│                                                          <span style=\"color: #008080; text-decoration-color: #008080; font-weight: bold\">-371</span> │\n",
       "│                                                          <span style=\"color: #7f7f7f; text-decoration-color: #7f7f7f\">NULL</span> │\n",
       "│                                                             <span style=\"color: #008080; text-decoration-color: #008080; font-weight: bold\">8</span> │\n",
       "│                                                            <span style=\"color: #008080; text-decoration-color: #008080; font-weight: bold\">-7</span> │\n",
       "│                                                             <span style=\"color: #008080; text-decoration-color: #008080; font-weight: bold\">8</span> │\n",
       "│                                                            <span style=\"color: #008080; text-decoration-color: #008080; font-weight: bold\">17</span> │\n",
       "│                                                            <span style=\"color: #008080; text-decoration-color: #008080; font-weight: bold\">17</span> │\n",
       "│                                                           <span style=\"color: #008080; text-decoration-color: #008080; font-weight: bold\">-10</span> │\n",
       "│                                                           <span style=\"color: #008080; text-decoration-color: #008080; font-weight: bold\">-35</span> │\n",
       "│                                                             <span style=\"color: #7f7f7f; text-decoration-color: #7f7f7f\">…</span> │\n",
       "└───────────────────────────────────────────────────────────────┘\n",
       "</pre>\n"
      ],
      "text/plain": [
       "┏━━━━━━━━━━━━━━━━━━━━━━━━━━━━━━━━━━━━━━━━━━━━━━━━━━━━━━━━━━━━━━━┓\n",
       "┃\u001b[1m \u001b[0m\u001b[1mSubtract(Cast(white_elo, int64), Lag(Cast(white_elo, int64)))\u001b[0m\u001b[1m \u001b[0m┃\n",
       "┡━━━━━━━━━━━━━━━━━━━━━━━━━━━━━━━━━━━━━━━━━━━━━━━━━━━━━━━━━━━━━━━┩\n",
       "│ \u001b[2mint64\u001b[0m                                                         │\n",
       "├───────────────────────────────────────────────────────────────┤\n",
       "│                                                          \u001b[2mNULL\u001b[0m │\n",
       "│                                                          \u001b[1;36m-371\u001b[0m │\n",
       "│                                                          \u001b[2mNULL\u001b[0m │\n",
       "│                                                             \u001b[1;36m8\u001b[0m │\n",
       "│                                                            \u001b[1;36m-7\u001b[0m │\n",
       "│                                                             \u001b[1;36m8\u001b[0m │\n",
       "│                                                            \u001b[1;36m17\u001b[0m │\n",
       "│                                                            \u001b[1;36m17\u001b[0m │\n",
       "│                                                           \u001b[1;36m-10\u001b[0m │\n",
       "│                                                           \u001b[1;36m-35\u001b[0m │\n",
       "│                                                             \u001b[2m…\u001b[0m │\n",
       "└───────────────────────────────────────────────────────────────┘\n"
      ]
     },
     "execution_count": 42,
     "metadata": {},
     "output_type": "execute_result"
    }
   ],
   "source": [
    "%%time\n",
    "white_elo_gained_since_previous_game = white_elo - white_elo.lag().over(\n",
    "    ibis.window(\n",
    "        group_by=[white_user_id, lichess_time_control_type], order_by=utc_timestamp\n",
    "    )\n",
    ")\n",
    "game_level_features.append(\n",
    "    white_elo_gained_since_previous_game.name(\"white_elo_gained_since_previous_game\")\n",
    ")\n",
    "white_elo_gained_since_previous_game.preview()"
   ]
  },
  {
   "cell_type": "code",
   "execution_count": 43,
   "id": "e4ef42ba-ac1d-41f4-894d-bb1c0756f312",
   "metadata": {},
   "outputs": [
    {
     "data": {
      "text/html": [
       "<pre style=\"white-space:pre;overflow-x:auto;line-height:normal;font-family:Menlo,'DejaVu Sans Mono',consolas,'Courier New',monospace\">┏━━━━━━━━━━━━━━━━━━━━━━━━━━━━━━━━━━━━━━━━━━━━━━━━━━━━━━━━━━━━━━━┓\n",
       "┃<span style=\"font-weight: bold\"> Subtract(Cast(black_elo, int64), Lag(Cast(black_elo, int64))) </span>┃\n",
       "┡━━━━━━━━━━━━━━━━━━━━━━━━━━━━━━━━━━━━━━━━━━━━━━━━━━━━━━━━━━━━━━━┩\n",
       "│ <span style=\"color: #7f7f7f; text-decoration-color: #7f7f7f\">int64</span>                                                         │\n",
       "├───────────────────────────────────────────────────────────────┤\n",
       "│                                                            <span style=\"color: #008080; text-decoration-color: #008080; font-weight: bold\">56</span> │\n",
       "│                                                           <span style=\"color: #008080; text-decoration-color: #008080; font-weight: bold\">-11</span> │\n",
       "│                                                            <span style=\"color: #008080; text-decoration-color: #008080; font-weight: bold\">25</span> │\n",
       "│                                                            <span style=\"color: #008080; text-decoration-color: #008080; font-weight: bold\">14</span> │\n",
       "│                                                           <span style=\"color: #008080; text-decoration-color: #008080; font-weight: bold\">-21</span> │\n",
       "│                                                             <span style=\"color: #008080; text-decoration-color: #008080; font-weight: bold\">9</span> │\n",
       "│                                                            <span style=\"color: #008080; text-decoration-color: #008080; font-weight: bold\">19</span> │\n",
       "│                                                            <span style=\"color: #008080; text-decoration-color: #008080; font-weight: bold\">10</span> │\n",
       "│                                                             <span style=\"color: #008080; text-decoration-color: #008080; font-weight: bold\">8</span> │\n",
       "│                                                             <span style=\"color: #008080; text-decoration-color: #008080; font-weight: bold\">8</span> │\n",
       "│                                                             <span style=\"color: #7f7f7f; text-decoration-color: #7f7f7f\">…</span> │\n",
       "└───────────────────────────────────────────────────────────────┘\n",
       "</pre>\n"
      ],
      "text/plain": [
       "┏━━━━━━━━━━━━━━━━━━━━━━━━━━━━━━━━━━━━━━━━━━━━━━━━━━━━━━━━━━━━━━━┓\n",
       "┃\u001b[1m \u001b[0m\u001b[1mSubtract(Cast(black_elo, int64), Lag(Cast(black_elo, int64)))\u001b[0m\u001b[1m \u001b[0m┃\n",
       "┡━━━━━━━━━━━━━━━━━━━━━━━━━━━━━━━━━━━━━━━━━━━━━━━━━━━━━━━━━━━━━━━┩\n",
       "│ \u001b[2mint64\u001b[0m                                                         │\n",
       "├───────────────────────────────────────────────────────────────┤\n",
       "│                                                            \u001b[1;36m56\u001b[0m │\n",
       "│                                                           \u001b[1;36m-11\u001b[0m │\n",
       "│                                                            \u001b[1;36m25\u001b[0m │\n",
       "│                                                            \u001b[1;36m14\u001b[0m │\n",
       "│                                                           \u001b[1;36m-21\u001b[0m │\n",
       "│                                                             \u001b[1;36m9\u001b[0m │\n",
       "│                                                            \u001b[1;36m19\u001b[0m │\n",
       "│                                                            \u001b[1;36m10\u001b[0m │\n",
       "│                                                             \u001b[1;36m8\u001b[0m │\n",
       "│                                                             \u001b[1;36m8\u001b[0m │\n",
       "│                                                             \u001b[2m…\u001b[0m │\n",
       "└───────────────────────────────────────────────────────────────┘\n"
      ]
     },
     "execution_count": 43,
     "metadata": {},
     "output_type": "execute_result"
    }
   ],
   "source": [
    "black_elo_gained_since_previous_game = black_elo - black_elo.lag().over(\n",
    "    ibis.window(\n",
    "        group_by=[black_user_id, lichess_time_control_type], order_by=utc_timestamp\n",
    "    )\n",
    ")\n",
    "game_level_features.append(\n",
    "    black_elo_gained_since_previous_game.name(\"black_elo_gained_since_previous_game\")\n",
    ")\n",
    "black_elo_gained_since_previous_game.preview()"
   ]
  },
  {
   "cell_type": "markdown",
   "id": "0037ba02-4794-4870-8189-5795f58672c3",
   "metadata": {},
   "source": [
    "It would be interesting to compute RD to gauge the rating reliability/volatility, too."
   ]
  },
  {
   "cell_type": "markdown",
   "id": "acbb4197-f9ae-485f-b3b4-9760f4053e43",
   "metadata": {},
   "source": [
    "## Title features"
   ]
  },
  {
   "cell_type": "code",
   "execution_count": 44,
   "id": "d20b5a0c-d54f-443e-9dd5-b589a5078a28",
   "metadata": {},
   "outputs": [
    {
     "name": "stdout",
     "output_type": "stream",
     "text": [
      "CPU times: user 435 ms, sys: 315 ms, total: 750 ms\n",
      "Wall time: 44.4 ms\n"
     ]
    },
    {
     "data": {
      "text/html": [
       "<pre style=\"white-space:pre;overflow-x:auto;line-height:normal;font-family:Menlo,'DejaVu Sans Mono',consolas,'Courier New',monospace\">┏━━━━━━━━━━━━━┳━━━━━━━━━━━━━━━━━━━┓\n",
       "┃<span style=\"font-weight: bold\"> white_title </span>┃<span style=\"font-weight: bold\"> white_title_count </span>┃\n",
       "┡━━━━━━━━━━━━━╇━━━━━━━━━━━━━━━━━━━┩\n",
       "│ <span style=\"color: #7f7f7f; text-decoration-color: #7f7f7f\">string</span>      │ <span style=\"color: #7f7f7f; text-decoration-color: #7f7f7f\">int64</span>             │\n",
       "├─────────────┼───────────────────┤\n",
       "│ <span style=\"color: #008000; text-decoration-color: #008000\">WNM        </span> │                <span style=\"color: #008080; text-decoration-color: #008080; font-weight: bold\">12</span> │\n",
       "│ <span style=\"color: #008000; text-decoration-color: #008000\">FM         </span> │             <span style=\"color: #008080; text-decoration-color: #008080; font-weight: bold\">54711</span> │\n",
       "│ <span style=\"color: #008000; text-decoration-color: #008000\">WIM        </span> │              <span style=\"color: #008080; text-decoration-color: #008080; font-weight: bold\">1369</span> │\n",
       "│ <span style=\"color: #008000; text-decoration-color: #008000\">WCM        </span> │              <span style=\"color: #008080; text-decoration-color: #008080; font-weight: bold\">1292</span> │\n",
       "│ <span style=\"color: #008000; text-decoration-color: #008000\">CM         </span> │             <span style=\"color: #008080; text-decoration-color: #008080; font-weight: bold\">23990</span> │\n",
       "│ <span style=\"color: #008000; text-decoration-color: #008000\">WFM        </span> │              <span style=\"color: #008080; text-decoration-color: #008080; font-weight: bold\">3460</span> │\n",
       "│ <span style=\"color: #008000; text-decoration-color: #008000\">BOT        </span> │              <span style=\"color: #008080; text-decoration-color: #008080; font-weight: bold\">3291</span> │\n",
       "│ <span style=\"color: #008000; text-decoration-color: #008000\">WGM        </span> │               <span style=\"color: #008080; text-decoration-color: #008080; font-weight: bold\">541</span> │\n",
       "│ <span style=\"color: #008000; text-decoration-color: #008000\">NM         </span> │             <span style=\"color: #008080; text-decoration-color: #008080; font-weight: bold\">20623</span> │\n",
       "│ <span style=\"color: #7f7f7f; text-decoration-color: #7f7f7f\">NULL</span>        │           <span style=\"color: #008080; text-decoration-color: #008080; font-weight: bold\">7974195</span> │\n",
       "│ <span style=\"color: #7f7f7f; text-decoration-color: #7f7f7f\">…</span>           │                 <span style=\"color: #7f7f7f; text-decoration-color: #7f7f7f\">…</span> │\n",
       "└─────────────┴───────────────────┘\n",
       "</pre>\n"
      ],
      "text/plain": [
       "┏━━━━━━━━━━━━━┳━━━━━━━━━━━━━━━━━━━┓\n",
       "┃\u001b[1m \u001b[0m\u001b[1mwhite_title\u001b[0m\u001b[1m \u001b[0m┃\u001b[1m \u001b[0m\u001b[1mwhite_title_count\u001b[0m\u001b[1m \u001b[0m┃\n",
       "┡━━━━━━━━━━━━━╇━━━━━━━━━━━━━━━━━━━┩\n",
       "│ \u001b[2mstring\u001b[0m      │ \u001b[2mint64\u001b[0m             │\n",
       "├─────────────┼───────────────────┤\n",
       "│ \u001b[32mWNM        \u001b[0m │                \u001b[1;36m12\u001b[0m │\n",
       "│ \u001b[32mFM         \u001b[0m │             \u001b[1;36m54711\u001b[0m │\n",
       "│ \u001b[32mWIM        \u001b[0m │              \u001b[1;36m1369\u001b[0m │\n",
       "│ \u001b[32mWCM        \u001b[0m │              \u001b[1;36m1292\u001b[0m │\n",
       "│ \u001b[32mCM         \u001b[0m │             \u001b[1;36m23990\u001b[0m │\n",
       "│ \u001b[32mWFM        \u001b[0m │              \u001b[1;36m3460\u001b[0m │\n",
       "│ \u001b[32mBOT        \u001b[0m │              \u001b[1;36m3291\u001b[0m │\n",
       "│ \u001b[32mWGM        \u001b[0m │               \u001b[1;36m541\u001b[0m │\n",
       "│ \u001b[32mNM         \u001b[0m │             \u001b[1;36m20623\u001b[0m │\n",
       "│ \u001b[2mNULL\u001b[0m        │           \u001b[1;36m7974195\u001b[0m │\n",
       "│ \u001b[2m…\u001b[0m           │                 \u001b[2m…\u001b[0m │\n",
       "└─────────────┴───────────────────┘\n"
      ]
     },
     "execution_count": 44,
     "metadata": {},
     "output_type": "execute_result"
    }
   ],
   "source": [
    "%%time\n",
    "white_title = games.white_title\n",
    "game_level_features.append(white_title.name(\"white_title\"))\n",
    "white_title.value_counts().preview()"
   ]
  },
  {
   "cell_type": "code",
   "execution_count": 45,
   "id": "154f9631-26c9-4db2-99db-e8e919f5caa2",
   "metadata": {},
   "outputs": [
    {
     "name": "stdout",
     "output_type": "stream",
     "text": [
      "CPU times: user 478 ms, sys: 213 ms, total: 691 ms\n",
      "Wall time: 43.1 ms\n"
     ]
    },
    {
     "data": {
      "text/html": [
       "<pre style=\"white-space:pre;overflow-x:auto;line-height:normal;font-family:Menlo,'DejaVu Sans Mono',consolas,'Courier New',monospace\">┏━━━━━━━━━━━━━┳━━━━━━━━━━━━━━━━━━━┓\n",
       "┃<span style=\"font-weight: bold\"> black_title </span>┃<span style=\"font-weight: bold\"> black_title_count </span>┃\n",
       "┡━━━━━━━━━━━━━╇━━━━━━━━━━━━━━━━━━━┩\n",
       "│ <span style=\"color: #7f7f7f; text-decoration-color: #7f7f7f\">string</span>      │ <span style=\"color: #7f7f7f; text-decoration-color: #7f7f7f\">int64</span>             │\n",
       "├─────────────┼───────────────────┤\n",
       "│ <span style=\"color: #008000; text-decoration-color: #008000\">WNM        </span> │                 <span style=\"color: #008080; text-decoration-color: #008080; font-weight: bold\">8</span> │\n",
       "│ <span style=\"color: #008000; text-decoration-color: #008000\">CM         </span> │             <span style=\"color: #008080; text-decoration-color: #008080; font-weight: bold\">23905</span> │\n",
       "│ <span style=\"color: #7f7f7f; text-decoration-color: #7f7f7f\">NULL</span>        │           <span style=\"color: #008080; text-decoration-color: #008080; font-weight: bold\">7973251</span> │\n",
       "│ <span style=\"color: #008000; text-decoration-color: #008000\">IM         </span> │             <span style=\"color: #008080; text-decoration-color: #008080; font-weight: bold\">28102</span> │\n",
       "│ <span style=\"color: #008000; text-decoration-color: #008000\">GM         </span> │             <span style=\"color: #008080; text-decoration-color: #008080; font-weight: bold\">10569</span> │\n",
       "│ <span style=\"color: #008000; text-decoration-color: #008000\">LM         </span> │              <span style=\"color: #008080; text-decoration-color: #008080; font-weight: bold\">1278</span> │\n",
       "│ <span style=\"color: #008000; text-decoration-color: #008000\">NM         </span> │             <span style=\"color: #008080; text-decoration-color: #008080; font-weight: bold\">20766</span> │\n",
       "│ <span style=\"color: #008000; text-decoration-color: #008000\">FM         </span> │             <span style=\"color: #008080; text-decoration-color: #008080; font-weight: bold\">54826</span> │\n",
       "│ <span style=\"color: #008000; text-decoration-color: #008000\">BOT        </span> │              <span style=\"color: #008080; text-decoration-color: #008080; font-weight: bold\">4107</span> │\n",
       "│ <span style=\"color: #008000; text-decoration-color: #008000\">WCM        </span> │              <span style=\"color: #008080; text-decoration-color: #008080; font-weight: bold\">1266</span> │\n",
       "│ <span style=\"color: #7f7f7f; text-decoration-color: #7f7f7f\">…</span>           │                 <span style=\"color: #7f7f7f; text-decoration-color: #7f7f7f\">…</span> │\n",
       "└─────────────┴───────────────────┘\n",
       "</pre>\n"
      ],
      "text/plain": [
       "┏━━━━━━━━━━━━━┳━━━━━━━━━━━━━━━━━━━┓\n",
       "┃\u001b[1m \u001b[0m\u001b[1mblack_title\u001b[0m\u001b[1m \u001b[0m┃\u001b[1m \u001b[0m\u001b[1mblack_title_count\u001b[0m\u001b[1m \u001b[0m┃\n",
       "┡━━━━━━━━━━━━━╇━━━━━━━━━━━━━━━━━━━┩\n",
       "│ \u001b[2mstring\u001b[0m      │ \u001b[2mint64\u001b[0m             │\n",
       "├─────────────┼───────────────────┤\n",
       "│ \u001b[32mWNM        \u001b[0m │                 \u001b[1;36m8\u001b[0m │\n",
       "│ \u001b[32mCM         \u001b[0m │             \u001b[1;36m23905\u001b[0m │\n",
       "│ \u001b[2mNULL\u001b[0m        │           \u001b[1;36m7973251\u001b[0m │\n",
       "│ \u001b[32mIM         \u001b[0m │             \u001b[1;36m28102\u001b[0m │\n",
       "│ \u001b[32mGM         \u001b[0m │             \u001b[1;36m10569\u001b[0m │\n",
       "│ \u001b[32mLM         \u001b[0m │              \u001b[1;36m1278\u001b[0m │\n",
       "│ \u001b[32mNM         \u001b[0m │             \u001b[1;36m20766\u001b[0m │\n",
       "│ \u001b[32mFM         \u001b[0m │             \u001b[1;36m54826\u001b[0m │\n",
       "│ \u001b[32mBOT        \u001b[0m │              \u001b[1;36m4107\u001b[0m │\n",
       "│ \u001b[32mWCM        \u001b[0m │              \u001b[1;36m1266\u001b[0m │\n",
       "│ \u001b[2m…\u001b[0m           │                 \u001b[2m…\u001b[0m │\n",
       "└─────────────┴───────────────────┘\n"
      ]
     },
     "execution_count": 45,
     "metadata": {},
     "output_type": "execute_result"
    }
   ],
   "source": [
    "%%time\n",
    "black_title = games.black_title\n",
    "game_level_features.append(black_title.name(\"black_title\"))\n",
    "black_title.value_counts().preview()"
   ]
  },
  {
   "cell_type": "code",
   "execution_count": 46,
   "id": "5c142264-58fa-4ae2-9fc8-b1a113b3e23f",
   "metadata": {},
   "outputs": [
    {
     "name": "stdout",
     "output_type": "stream",
     "text": [
      "CPU times: user 5min 59s, sys: 8min 2s, total: 14min 1s\n",
      "Wall time: 15.7 s\n"
     ]
    },
    {
     "data": {
      "text/html": [
       "<pre style=\"white-space:pre;overflow-x:auto;line-height:normal;font-family:Menlo,'DejaVu Sans Mono',consolas,'Courier New',monospace\">┏━━━━━━━━━━━━┳┳┳━━━━━━━━┳┳┳━━━━━━━┳━━━━━━━━━━━━━━━┳━━━━━━━━━━━━━━━┳━━━━━━━┳━━━━━━┳━━━━━━┳━━━━━┳━━━━━━━┳━━━━━━┳┳┳┳━━━━━━━━━━━━┳━━━━━━━━━━━━┳┳┓\n",
       "┃<span style=\"font-weight: bold\"> site       </span>┃<span style=\"font-weight: bold\"></span>┃<span style=\"font-weight: bold\"></span>┃<span style=\"font-weight: bold\"> liche… </span>┃<span style=\"font-weight: bold\"></span>┃<span style=\"font-weight: bold\"></span>┃<span style=\"font-weight: bold\"> utc_… </span>┃<span style=\"font-weight: bold\"> white_second… </span>┃<span style=\"font-weight: bold\"> black_second… </span>┃<span style=\"font-weight: bold\"> whit… </span>┃<span style=\"font-weight: bold\"> bla… </span>┃<span style=\"font-weight: bold\"> whi… </span>┃<span style=\"font-weight: bold\"> bl… </span>┃<span style=\"font-weight: bold\"> whit… </span>┃<span style=\"font-weight: bold\"> bla… </span>┃<span style=\"font-weight: bold\"></span>┃<span style=\"font-weight: bold\"></span>┃<span style=\"font-weight: bold\"></span>┃<span style=\"font-weight: bold\"> white_elo… </span>┃<span style=\"font-weight: bold\"> black_elo… </span>┃<span style=\"font-weight: bold\"></span>┃<span style=\"font-weight: bold\"></span>┃\n",
       "┡━━━━━━━━━━━━╇╇╇━━━━━━━━╇╇╇━━━━━━━╇━━━━━━━━━━━━━━━╇━━━━━━━━━━━━━━━╇━━━━━━━╇━━━━━━╇━━━━━━╇━━━━━╇━━━━━━━╇━━━━━━╇╇╇╇━━━━━━━━━━━━╇━━━━━━━━━━━━╇╇┩\n",
       "│ <span style=\"color: #7f7f7f; text-decoration-color: #7f7f7f\">string</span>     │││ <span style=\"color: #7f7f7f; text-decoration-color: #7f7f7f\">string</span> │││ <span style=\"color: #7f7f7f; text-decoration-color: #7f7f7f\">time…</span> │ <span style=\"color: #7f7f7f; text-decoration-color: #7f7f7f\">int64</span>         │ <span style=\"color: #7f7f7f; text-decoration-color: #7f7f7f\">int64</span>         │ <span style=\"color: #7f7f7f; text-decoration-color: #7f7f7f\">int64</span> │ <span style=\"color: #7f7f7f; text-decoration-color: #7f7f7f\">int…</span> │ <span style=\"color: #7f7f7f; text-decoration-color: #7f7f7f\">int…</span> │ <span style=\"color: #7f7f7f; text-decoration-color: #7f7f7f\">in…</span> │ <span style=\"color: #7f7f7f; text-decoration-color: #7f7f7f\">int64</span> │ <span style=\"color: #7f7f7f; text-decoration-color: #7f7f7f\">int…</span> ││││ <span style=\"color: #7f7f7f; text-decoration-color: #7f7f7f\">int64</span>      │ <span style=\"color: #7f7f7f; text-decoration-color: #7f7f7f\">int64</span>      │││\n",
       "├────────────┼┼┼────────┼┼┼───────┼───────────────┼───────────────┼───────┼──────┼──────┼─────┼───────┼──────┼┼┼┼────────────┼────────────┼┼┤\n",
       "│ <a href=\"https://lichess.org/y7baGgpD\" target=\"_blank\"><span style=\"color: #008000; text-decoration-color: #008000\">https://l…</span></a> │││ <span style=\"color: #008000; text-decoration-color: #008000\">Rapid </span> │││ <span style=\"color: #800080; text-decoration-color: #800080\">2024…</span> │           <span style=\"color: #008080; text-decoration-color: #008080; font-weight: bold\">310</span> │        <span style=\"color: #008080; text-decoration-color: #008080; font-weight: bold\">194507</span> │     <span style=\"color: #008080; text-decoration-color: #008080; font-weight: bold\">2</span> │    <span style=\"color: #008080; text-decoration-color: #008080; font-weight: bold\">1</span> │    <span style=\"color: #008080; text-decoration-color: #008080; font-weight: bold\">4</span> │   <span style=\"color: #008080; text-decoration-color: #008080; font-weight: bold\">1</span> │     <span style=\"color: #008080; text-decoration-color: #008080; font-weight: bold\">8</span> │    <span style=\"color: #008080; text-decoration-color: #008080; font-weight: bold\">5</span> ││││         <span style=\"color: #008080; text-decoration-color: #008080; font-weight: bold\">-4</span> │         <span style=\"color: #008080; text-decoration-color: #008080; font-weight: bold\">-8</span> │││\n",
       "│ <a href=\"https://lichess.org/H3h4yGBS\" target=\"_blank\"><span style=\"color: #008000; text-decoration-color: #008000\">https://l…</span></a> │││ <span style=\"color: #008000; text-decoration-color: #008000\">Rapid </span> │││ <span style=\"color: #800080; text-decoration-color: #800080\">2024…</span> │         <span style=\"color: #008080; text-decoration-color: #008080; font-weight: bold\">75307</span> │           <span style=\"color: #008080; text-decoration-color: #008080; font-weight: bold\">279</span> │     <span style=\"color: #008080; text-decoration-color: #008080; font-weight: bold\">1</span> │    <span style=\"color: #008080; text-decoration-color: #008080; font-weight: bold\">2</span> │    <span style=\"color: #008080; text-decoration-color: #008080; font-weight: bold\">2</span> │   <span style=\"color: #008080; text-decoration-color: #008080; font-weight: bold\">2</span> │     <span style=\"color: #008080; text-decoration-color: #008080; font-weight: bold\">9</span> │    <span style=\"color: #008080; text-decoration-color: #008080; font-weight: bold\">6</span> ││││          <span style=\"color: #008080; text-decoration-color: #008080; font-weight: bold\">6</span> │          <span style=\"color: #008080; text-decoration-color: #008080; font-weight: bold\">6</span> │││\n",
       "│ <a href=\"https://lichess.org/QVXzYxSi\" target=\"_blank\"><span style=\"color: #008000; text-decoration-color: #008000\">https://l…</span></a> │││ <span style=\"color: #008000; text-decoration-color: #008000\">Rapid </span> │││ <span style=\"color: #800080; text-decoration-color: #800080\">2024…</span> │        <span style=\"color: #008080; text-decoration-color: #008080; font-weight: bold\">152165</span> │        <span style=\"color: #008080; text-decoration-color: #008080; font-weight: bold\">137902</span> │     <span style=\"color: #008080; text-decoration-color: #008080; font-weight: bold\">1</span> │    <span style=\"color: #008080; text-decoration-color: #008080; font-weight: bold\">1</span> │    <span style=\"color: #008080; text-decoration-color: #008080; font-weight: bold\">1</span> │   <span style=\"color: #008080; text-decoration-color: #008080; font-weight: bold\">1</span> │     <span style=\"color: #008080; text-decoration-color: #008080; font-weight: bold\">2</span> │    <span style=\"color: #008080; text-decoration-color: #008080; font-weight: bold\">7</span> ││││         <span style=\"color: #008080; text-decoration-color: #008080; font-weight: bold\">11</span> │         <span style=\"color: #008080; text-decoration-color: #008080; font-weight: bold\">-4</span> │││\n",
       "│ <a href=\"https://lichess.org/Wo8Zk4Uy\" target=\"_blank\"><span style=\"color: #008000; text-decoration-color: #008000\">https://l…</span></a> │││ <span style=\"color: #008000; text-decoration-color: #008000\">Rapid </span> │││ <span style=\"color: #800080; text-decoration-color: #800080\">2024…</span> │          <span style=\"color: #7f7f7f; text-decoration-color: #7f7f7f\">NULL</span> │        <span style=\"color: #008080; text-decoration-color: #008080; font-weight: bold\">812812</span> │     <span style=\"color: #008080; text-decoration-color: #008080; font-weight: bold\">1</span> │    <span style=\"color: #008080; text-decoration-color: #008080; font-weight: bold\">1</span> │    <span style=\"color: #008080; text-decoration-color: #008080; font-weight: bold\">1</span> │   <span style=\"color: #008080; text-decoration-color: #008080; font-weight: bold\">1</span> │     <span style=\"color: #008080; text-decoration-color: #008080; font-weight: bold\">1</span> │    <span style=\"color: #008080; text-decoration-color: #008080; font-weight: bold\">1</span> ││││       <span style=\"color: #7f7f7f; text-decoration-color: #7f7f7f\">NULL</span> │         <span style=\"color: #008080; text-decoration-color: #008080; font-weight: bold\">39</span> │││\n",
       "│ <a href=\"https://lichess.org/NN2b6Wae\" target=\"_blank\"><span style=\"color: #008000; text-decoration-color: #008000\">https://l…</span></a> │││ <span style=\"color: #008000; text-decoration-color: #008000\">Rapid </span> │││ <span style=\"color: #800080; text-decoration-color: #800080\">2024…</span> │          <span style=\"color: #008080; text-decoration-color: #008080; font-weight: bold\">6003</span> │        <span style=\"color: #008080; text-decoration-color: #008080; font-weight: bold\">243526</span> │     <span style=\"color: #008080; text-decoration-color: #008080; font-weight: bold\">1</span> │    <span style=\"color: #008080; text-decoration-color: #008080; font-weight: bold\">1</span> │    <span style=\"color: #008080; text-decoration-color: #008080; font-weight: bold\">2</span> │   <span style=\"color: #008080; text-decoration-color: #008080; font-weight: bold\">1</span> │     <span style=\"color: #008080; text-decoration-color: #008080; font-weight: bold\">3</span> │    <span style=\"color: #008080; text-decoration-color: #008080; font-weight: bold\">2</span> ││││        <span style=\"color: #008080; text-decoration-color: #008080; font-weight: bold\">-35</span> │         <span style=\"color: #008080; text-decoration-color: #008080; font-weight: bold\">-3</span> │││\n",
       "│ <a href=\"https://lichess.org/eE6lln5v\" target=\"_blank\"><span style=\"color: #008000; text-decoration-color: #008000\">https://l…</span></a> │││ <span style=\"color: #008000; text-decoration-color: #008000\">Rapid </span> │││ <span style=\"color: #800080; text-decoration-color: #800080\">2024…</span> │        <span style=\"color: #008080; text-decoration-color: #008080; font-weight: bold\">132370</span> │        <span style=\"color: #008080; text-decoration-color: #008080; font-weight: bold\">376678</span> │     <span style=\"color: #008080; text-decoration-color: #008080; font-weight: bold\">1</span> │    <span style=\"color: #008080; text-decoration-color: #008080; font-weight: bold\">1</span> │    <span style=\"color: #008080; text-decoration-color: #008080; font-weight: bold\">1</span> │   <span style=\"color: #008080; text-decoration-color: #008080; font-weight: bold\">1</span> │     <span style=\"color: #008080; text-decoration-color: #008080; font-weight: bold\">8</span> │    <span style=\"color: #008080; text-decoration-color: #008080; font-weight: bold\">2</span> ││││        <span style=\"color: #008080; text-decoration-color: #008080; font-weight: bold\">-17</span> │         <span style=\"color: #008080; text-decoration-color: #008080; font-weight: bold\">15</span> │││\n",
       "│ <a href=\"https://lichess.org/MpjJLz8f\" target=\"_blank\"><span style=\"color: #008000; text-decoration-color: #008000\">https://l…</span></a> │││ <span style=\"color: #008000; text-decoration-color: #008000\">Rapid </span> │││ <span style=\"color: #800080; text-decoration-color: #800080\">2024…</span> │        <span style=\"color: #008080; text-decoration-color: #008080; font-weight: bold\">449520</span> │        <span style=\"color: #008080; text-decoration-color: #008080; font-weight: bold\">588631</span> │     <span style=\"color: #008080; text-decoration-color: #008080; font-weight: bold\">1</span> │    <span style=\"color: #008080; text-decoration-color: #008080; font-weight: bold\">1</span> │    <span style=\"color: #008080; text-decoration-color: #008080; font-weight: bold\">1</span> │   <span style=\"color: #008080; text-decoration-color: #008080; font-weight: bold\">1</span> │     <span style=\"color: #008080; text-decoration-color: #008080; font-weight: bold\">2</span> │    <span style=\"color: #008080; text-decoration-color: #008080; font-weight: bold\">2</span> ││││         <span style=\"color: #008080; text-decoration-color: #008080; font-weight: bold\">14</span> │         <span style=\"color: #008080; text-decoration-color: #008080; font-weight: bold\">-6</span> │││\n",
       "│ <a href=\"https://lichess.org/yJfaQ6Ll\" target=\"_blank\"><span style=\"color: #008000; text-decoration-color: #008000\">https://l…</span></a> │││ <span style=\"color: #008000; text-decoration-color: #008000\">Blitz </span> │││ <span style=\"color: #800080; text-decoration-color: #800080\">2024…</span> │          <span style=\"color: #008080; text-decoration-color: #008080; font-weight: bold\">6035</span> │          <span style=\"color: #7f7f7f; text-decoration-color: #7f7f7f\">NULL</span> │     <span style=\"color: #008080; text-decoration-color: #008080; font-weight: bold\">1</span> │    <span style=\"color: #008080; text-decoration-color: #008080; font-weight: bold\">1</span> │   <span style=\"color: #008080; text-decoration-color: #008080; font-weight: bold\">19</span> │   <span style=\"color: #008080; text-decoration-color: #008080; font-weight: bold\">1</span> │    <span style=\"color: #008080; text-decoration-color: #008080; font-weight: bold\">20</span> │    <span style=\"color: #008080; text-decoration-color: #008080; font-weight: bold\">1</span> ││││          <span style=\"color: #008080; text-decoration-color: #008080; font-weight: bold\">4</span> │       <span style=\"color: #7f7f7f; text-decoration-color: #7f7f7f\">NULL</span> │││\n",
       "│ <a href=\"https://lichess.org/BJv1nQPb\" target=\"_blank\"><span style=\"color: #008000; text-decoration-color: #008000\">https://l…</span></a> │││ <span style=\"color: #008000; text-decoration-color: #008000\">Blitz </span> │││ <span style=\"color: #800080; text-decoration-color: #800080\">2024…</span> │       <span style=\"color: #008080; text-decoration-color: #008080; font-weight: bold\">1322108</span> │       <span style=\"color: #008080; text-decoration-color: #008080; font-weight: bold\">1451575</span> │     <span style=\"color: #008080; text-decoration-color: #008080; font-weight: bold\">1</span> │    <span style=\"color: #008080; text-decoration-color: #008080; font-weight: bold\">1</span> │    <span style=\"color: #008080; text-decoration-color: #008080; font-weight: bold\">1</span> │   <span style=\"color: #008080; text-decoration-color: #008080; font-weight: bold\">1</span> │     <span style=\"color: #008080; text-decoration-color: #008080; font-weight: bold\">1</span> │    <span style=\"color: #008080; text-decoration-color: #008080; font-weight: bold\">1</span> ││││         <span style=\"color: #008080; text-decoration-color: #008080; font-weight: bold\">27</span> │        <span style=\"color: #008080; text-decoration-color: #008080; font-weight: bold\">-34</span> │││\n",
       "│ <a href=\"https://lichess.org/Cy7hk219\" target=\"_blank\"><span style=\"color: #008000; text-decoration-color: #008000\">https://l…</span></a> │││ <span style=\"color: #008000; text-decoration-color: #008000\">Blitz </span> │││ <span style=\"color: #800080; text-decoration-color: #800080\">2024…</span> │          <span style=\"color: #008080; text-decoration-color: #008080; font-weight: bold\">1624</span> │         <span style=\"color: #008080; text-decoration-color: #008080; font-weight: bold\">80142</span> │     <span style=\"color: #008080; text-decoration-color: #008080; font-weight: bold\">2</span> │    <span style=\"color: #008080; text-decoration-color: #008080; font-weight: bold\">1</span> │    <span style=\"color: #008080; text-decoration-color: #008080; font-weight: bold\">2</span> │   <span style=\"color: #008080; text-decoration-color: #008080; font-weight: bold\">2</span> │     <span style=\"color: #008080; text-decoration-color: #008080; font-weight: bold\">2</span> │    <span style=\"color: #008080; text-decoration-color: #008080; font-weight: bold\">2</span> ││││        <span style=\"color: #008080; text-decoration-color: #008080; font-weight: bold\">644</span> │        <span style=\"color: #008080; text-decoration-color: #008080; font-weight: bold\">-29</span> │││\n",
       "│ <span style=\"color: #7f7f7f; text-decoration-color: #7f7f7f\">…</span>          │││ <span style=\"color: #7f7f7f; text-decoration-color: #7f7f7f\">…</span>      │││ <span style=\"color: #7f7f7f; text-decoration-color: #7f7f7f\">…</span>     │             <span style=\"color: #7f7f7f; text-decoration-color: #7f7f7f\">…</span> │             <span style=\"color: #7f7f7f; text-decoration-color: #7f7f7f\">…</span> │     <span style=\"color: #7f7f7f; text-decoration-color: #7f7f7f\">…</span> │    <span style=\"color: #7f7f7f; text-decoration-color: #7f7f7f\">…</span> │    <span style=\"color: #7f7f7f; text-decoration-color: #7f7f7f\">…</span> │   <span style=\"color: #7f7f7f; text-decoration-color: #7f7f7f\">…</span> │     <span style=\"color: #7f7f7f; text-decoration-color: #7f7f7f\">…</span> │    <span style=\"color: #7f7f7f; text-decoration-color: #7f7f7f\">…</span> ││││          <span style=\"color: #7f7f7f; text-decoration-color: #7f7f7f\">…</span> │          <span style=\"color: #7f7f7f; text-decoration-color: #7f7f7f\">…</span> │││\n",
       "└────────────┴┴┴────────┴┴┴───────┴───────────────┴───────────────┴───────┴──────┴──────┴─────┴───────┴──────┴┴┴┴────────────┴────────────┴┴┘\n",
       "</pre>\n"
      ],
      "text/plain": [
       "┏━━━━━━━━━━━━┳┳┳━━━━━━━━┳┳┳━━━━━━━┳━━━━━━━━━━━━━━━┳━━━━━━━━━━━━━━━┳━━━━━━━┳━━━━━━┳━━━━━━┳━━━━━┳━━━━━━━┳━━━━━━┳┳┳┳━━━━━━━━━━━━┳━━━━━━━━━━━━┳┳┓\n",
       "┃\u001b[1m \u001b[0m\u001b[1msite\u001b[0m\u001b[1m      \u001b[0m\u001b[1m \u001b[0m┃┃┃\u001b[1m \u001b[0m\u001b[1mliche…\u001b[0m\u001b[1m \u001b[0m┃┃┃\u001b[1m \u001b[0m\u001b[1mutc_…\u001b[0m\u001b[1m \u001b[0m┃\u001b[1m \u001b[0m\u001b[1mwhite_second…\u001b[0m\u001b[1m \u001b[0m┃\u001b[1m \u001b[0m\u001b[1mblack_second…\u001b[0m\u001b[1m \u001b[0m┃\u001b[1m \u001b[0m\u001b[1mwhit…\u001b[0m\u001b[1m \u001b[0m┃\u001b[1m \u001b[0m\u001b[1mbla…\u001b[0m\u001b[1m \u001b[0m┃\u001b[1m \u001b[0m\u001b[1mwhi…\u001b[0m\u001b[1m \u001b[0m┃\u001b[1m \u001b[0m\u001b[1mbl…\u001b[0m\u001b[1m \u001b[0m┃\u001b[1m \u001b[0m\u001b[1mwhit…\u001b[0m\u001b[1m \u001b[0m┃\u001b[1m \u001b[0m\u001b[1mbla…\u001b[0m\u001b[1m \u001b[0m┃┃┃┃\u001b[1m \u001b[0m\u001b[1mwhite_elo…\u001b[0m\u001b[1m \u001b[0m┃\u001b[1m \u001b[0m\u001b[1mblack_elo…\u001b[0m\u001b[1m \u001b[0m┃┃┃\n",
       "┡━━━━━━━━━━━━╇╇╇━━━━━━━━╇╇╇━━━━━━━╇━━━━━━━━━━━━━━━╇━━━━━━━━━━━━━━━╇━━━━━━━╇━━━━━━╇━━━━━━╇━━━━━╇━━━━━━━╇━━━━━━╇╇╇╇━━━━━━━━━━━━╇━━━━━━━━━━━━╇╇┩\n",
       "│ \u001b[2mstring\u001b[0m     │││ \u001b[2mstring\u001b[0m │││ \u001b[2mtime…\u001b[0m │ \u001b[2mint64\u001b[0m         │ \u001b[2mint64\u001b[0m         │ \u001b[2mint64\u001b[0m │ \u001b[2mint…\u001b[0m │ \u001b[2mint…\u001b[0m │ \u001b[2min…\u001b[0m │ \u001b[2mint64\u001b[0m │ \u001b[2mint…\u001b[0m ││││ \u001b[2mint64\u001b[0m      │ \u001b[2mint64\u001b[0m      │││\n",
       "├────────────┼┼┼────────┼┼┼───────┼───────────────┼───────────────┼───────┼──────┼──────┼─────┼───────┼──────┼┼┼┼────────────┼────────────┼┼┤\n",
       "│ \u001b]8;id=461482;https://lichess.org/y7baGgpD\u001b\\\u001b[32mhttps://l…\u001b[0m\u001b]8;;\u001b\\ │││ \u001b[32mRapid \u001b[0m │││ \u001b[35m2024…\u001b[0m │           \u001b[1;36m310\u001b[0m │        \u001b[1;36m194507\u001b[0m │     \u001b[1;36m2\u001b[0m │    \u001b[1;36m1\u001b[0m │    \u001b[1;36m4\u001b[0m │   \u001b[1;36m1\u001b[0m │     \u001b[1;36m8\u001b[0m │    \u001b[1;36m5\u001b[0m ││││         \u001b[1;36m-4\u001b[0m │         \u001b[1;36m-8\u001b[0m │││\n",
       "│ \u001b]8;id=924886;https://lichess.org/H3h4yGBS\u001b\\\u001b[32mhttps://l…\u001b[0m\u001b]8;;\u001b\\ │││ \u001b[32mRapid \u001b[0m │││ \u001b[35m2024…\u001b[0m │         \u001b[1;36m75307\u001b[0m │           \u001b[1;36m279\u001b[0m │     \u001b[1;36m1\u001b[0m │    \u001b[1;36m2\u001b[0m │    \u001b[1;36m2\u001b[0m │   \u001b[1;36m2\u001b[0m │     \u001b[1;36m9\u001b[0m │    \u001b[1;36m6\u001b[0m ││││          \u001b[1;36m6\u001b[0m │          \u001b[1;36m6\u001b[0m │││\n",
       "│ \u001b]8;id=641055;https://lichess.org/QVXzYxSi\u001b\\\u001b[32mhttps://l…\u001b[0m\u001b]8;;\u001b\\ │││ \u001b[32mRapid \u001b[0m │││ \u001b[35m2024…\u001b[0m │        \u001b[1;36m152165\u001b[0m │        \u001b[1;36m137902\u001b[0m │     \u001b[1;36m1\u001b[0m │    \u001b[1;36m1\u001b[0m │    \u001b[1;36m1\u001b[0m │   \u001b[1;36m1\u001b[0m │     \u001b[1;36m2\u001b[0m │    \u001b[1;36m7\u001b[0m ││││         \u001b[1;36m11\u001b[0m │         \u001b[1;36m-4\u001b[0m │││\n",
       "│ \u001b]8;id=47382;https://lichess.org/Wo8Zk4Uy\u001b\\\u001b[32mhttps://l…\u001b[0m\u001b]8;;\u001b\\ │││ \u001b[32mRapid \u001b[0m │││ \u001b[35m2024…\u001b[0m │          \u001b[2mNULL\u001b[0m │        \u001b[1;36m812812\u001b[0m │     \u001b[1;36m1\u001b[0m │    \u001b[1;36m1\u001b[0m │    \u001b[1;36m1\u001b[0m │   \u001b[1;36m1\u001b[0m │     \u001b[1;36m1\u001b[0m │    \u001b[1;36m1\u001b[0m ││││       \u001b[2mNULL\u001b[0m │         \u001b[1;36m39\u001b[0m │││\n",
       "│ \u001b]8;id=166016;https://lichess.org/NN2b6Wae\u001b\\\u001b[32mhttps://l…\u001b[0m\u001b]8;;\u001b\\ │││ \u001b[32mRapid \u001b[0m │││ \u001b[35m2024…\u001b[0m │          \u001b[1;36m6003\u001b[0m │        \u001b[1;36m243526\u001b[0m │     \u001b[1;36m1\u001b[0m │    \u001b[1;36m1\u001b[0m │    \u001b[1;36m2\u001b[0m │   \u001b[1;36m1\u001b[0m │     \u001b[1;36m3\u001b[0m │    \u001b[1;36m2\u001b[0m ││││        \u001b[1;36m-35\u001b[0m │         \u001b[1;36m-3\u001b[0m │││\n",
       "│ \u001b]8;id=129398;https://lichess.org/eE6lln5v\u001b\\\u001b[32mhttps://l…\u001b[0m\u001b]8;;\u001b\\ │││ \u001b[32mRapid \u001b[0m │││ \u001b[35m2024…\u001b[0m │        \u001b[1;36m132370\u001b[0m │        \u001b[1;36m376678\u001b[0m │     \u001b[1;36m1\u001b[0m │    \u001b[1;36m1\u001b[0m │    \u001b[1;36m1\u001b[0m │   \u001b[1;36m1\u001b[0m │     \u001b[1;36m8\u001b[0m │    \u001b[1;36m2\u001b[0m ││││        \u001b[1;36m-17\u001b[0m │         \u001b[1;36m15\u001b[0m │││\n",
       "│ \u001b]8;id=229947;https://lichess.org/MpjJLz8f\u001b\\\u001b[32mhttps://l…\u001b[0m\u001b]8;;\u001b\\ │││ \u001b[32mRapid \u001b[0m │││ \u001b[35m2024…\u001b[0m │        \u001b[1;36m449520\u001b[0m │        \u001b[1;36m588631\u001b[0m │     \u001b[1;36m1\u001b[0m │    \u001b[1;36m1\u001b[0m │    \u001b[1;36m1\u001b[0m │   \u001b[1;36m1\u001b[0m │     \u001b[1;36m2\u001b[0m │    \u001b[1;36m2\u001b[0m ││││         \u001b[1;36m14\u001b[0m │         \u001b[1;36m-6\u001b[0m │││\n",
       "│ \u001b]8;id=636861;https://lichess.org/yJfaQ6Ll\u001b\\\u001b[32mhttps://l…\u001b[0m\u001b]8;;\u001b\\ │││ \u001b[32mBlitz \u001b[0m │││ \u001b[35m2024…\u001b[0m │          \u001b[1;36m6035\u001b[0m │          \u001b[2mNULL\u001b[0m │     \u001b[1;36m1\u001b[0m │    \u001b[1;36m1\u001b[0m │   \u001b[1;36m19\u001b[0m │   \u001b[1;36m1\u001b[0m │    \u001b[1;36m20\u001b[0m │    \u001b[1;36m1\u001b[0m ││││          \u001b[1;36m4\u001b[0m │       \u001b[2mNULL\u001b[0m │││\n",
       "│ \u001b]8;id=358985;https://lichess.org/BJv1nQPb\u001b\\\u001b[32mhttps://l…\u001b[0m\u001b]8;;\u001b\\ │││ \u001b[32mBlitz \u001b[0m │││ \u001b[35m2024…\u001b[0m │       \u001b[1;36m1322108\u001b[0m │       \u001b[1;36m1451575\u001b[0m │     \u001b[1;36m1\u001b[0m │    \u001b[1;36m1\u001b[0m │    \u001b[1;36m1\u001b[0m │   \u001b[1;36m1\u001b[0m │     \u001b[1;36m1\u001b[0m │    \u001b[1;36m1\u001b[0m ││││         \u001b[1;36m27\u001b[0m │        \u001b[1;36m-34\u001b[0m │││\n",
       "│ \u001b]8;id=512282;https://lichess.org/Cy7hk219\u001b\\\u001b[32mhttps://l…\u001b[0m\u001b]8;;\u001b\\ │││ \u001b[32mBlitz \u001b[0m │││ \u001b[35m2024…\u001b[0m │          \u001b[1;36m1624\u001b[0m │         \u001b[1;36m80142\u001b[0m │     \u001b[1;36m2\u001b[0m │    \u001b[1;36m1\u001b[0m │    \u001b[1;36m2\u001b[0m │   \u001b[1;36m2\u001b[0m │     \u001b[1;36m2\u001b[0m │    \u001b[1;36m2\u001b[0m ││││        \u001b[1;36m644\u001b[0m │        \u001b[1;36m-29\u001b[0m │││\n",
       "│ \u001b[2m…\u001b[0m          │││ \u001b[2m…\u001b[0m      │││ \u001b[2m…\u001b[0m     │             \u001b[2m…\u001b[0m │             \u001b[2m…\u001b[0m │     \u001b[2m…\u001b[0m │    \u001b[2m…\u001b[0m │    \u001b[2m…\u001b[0m │   \u001b[2m…\u001b[0m │     \u001b[2m…\u001b[0m │    \u001b[2m…\u001b[0m ││││          \u001b[2m…\u001b[0m │          \u001b[2m…\u001b[0m │││\n",
       "└────────────┴┴┴────────┴┴┴───────┴───────────────┴───────────────┴───────┴──────┴──────┴─────┴───────┴──────┴┴┴┴────────────┴────────────┴┴┘\n"
      ]
     },
     "execution_count": 46,
     "metadata": {},
     "output_type": "execute_result"
    }
   ],
   "source": [
    "%%time\n",
    "games.select(\"site\", *game_level_features).preview()"
   ]
  },
  {
   "cell_type": "code",
   "execution_count": 47,
   "id": "972c72e4-6ed0-4b62-b712-e47e6de00b88",
   "metadata": {},
   "outputs": [
    {
     "name": "stdout",
     "output_type": "stream",
     "text": [
      "CPU times: user 6min 47s, sys: 8min 36s, total: 15min 24s\n",
      "Wall time: 16.7 s\n"
     ]
    }
   ],
   "source": [
    "%%time\n",
    "games.select(\"site\", *game_level_features).to_parquet(\n",
    "    \"../data/04_feature/game_level_features.parquet\"\n",
    ")"
   ]
  },
  {
   "cell_type": "markdown",
   "id": "69daa77e-8b24-44dd-a9a6-4f9ea19775ef",
   "metadata": {},
   "source": [
    "# Move-level features"
   ]
  },
  {
   "cell_type": "markdown",
   "id": "8707063e-d847-4660-a081-d362824cdfd3",
   "metadata": {},
   "source": [
    "## `clock`-based features"
   ]
  },
  {
   "cell_type": "code",
   "execution_count": 48,
   "id": "b9e3d80e-d7c0-4aa7-9be0-e95cb7b2460a",
   "metadata": {},
   "outputs": [],
   "source": [
    "clock_based_features = []"
   ]
  },
  {
   "cell_type": "code",
   "execution_count": 49,
   "id": "48d0357d-ad33-4159-9ffa-ec41d4485ca4",
   "metadata": {},
   "outputs": [
    {
     "name": "stdout",
     "output_type": "stream",
     "text": [
      "CPU times: user 1h 14min 49s, sys: 6.66 s, total: 1h 14min 56s\n",
      "Wall time: 19 s\n"
     ]
    },
    {
     "data": {
      "text/plain": [
       "8123404"
      ]
     },
     "execution_count": 49,
     "metadata": {},
     "output_type": "execute_result"
    }
   ],
   "source": [
    "%%time\n",
    "from chess.pgn import CLOCK_REGEX\n",
    "\n",
    "moves_with_clock = (\n",
    "    filtered_moves.alias(\"timed_games\").sql(\n",
    "        f\"\"\"\n",
    "        SELECT\n",
    "          site,\n",
    "          move_ply,\n",
    "          move_comment,\n",
    "          REGEXP_EXTRACT(\n",
    "            move_comment,\n",
    "            '{CLOCK_REGEX.pattern}',\n",
    "            ['prefix', 'hours', 'minutes', 'seconds', 'suffix']\n",
    "          ) AS clock\n",
    "        FROM timed_games\n",
    "        \"\"\"\n",
    "    )\n",
    ").unpack(\"clock\")\n",
    "moves_with_clock.site.nunique().to_pyarrow().as_py()"
   ]
  },
  {
   "cell_type": "code",
   "execution_count": 50,
   "id": "aab04e9c-7ac8-4751-bd19-554951583009",
   "metadata": {},
   "outputs": [
    {
     "name": "stdout",
     "output_type": "stream",
     "text": [
      "CPU times: user 7.47 s, sys: 6.86 s, total: 14.3 s\n",
      "Wall time: 746 ms\n"
     ]
    },
    {
     "data": {
      "text/html": [
       "<pre style=\"white-space:pre;overflow-x:auto;line-height:normal;font-family:Menlo,'DejaVu Sans Mono',consolas,'Courier New',monospace\">┏━━━━━━━━━━━━━━━━━━━━━━━━━━━━━━━━━━━━━━━━━━━━━━━━━━━━━━━━━━━━━━━━━━━━━━━━━━━━━━━━━━━━━━━━━━━━━━━━━━━━━━━━━━┓\n",
       "┃<span style=\"font-weight: bold\"> Add(Add(Multiply(Cast(hours, int64), 3600), Multiply(Cast(minutes, int64), 60)), Cast(seconds, float64)) </span>┃\n",
       "┡━━━━━━━━━━━━━━━━━━━━━━━━━━━━━━━━━━━━━━━━━━━━━━━━━━━━━━━━━━━━━━━━━━━━━━━━━━━━━━━━━━━━━━━━━━━━━━━━━━━━━━━━━━┩\n",
       "│ <span style=\"color: #7f7f7f; text-decoration-color: #7f7f7f\">float64</span>                                                                                                  │\n",
       "├──────────────────────────────────────────────────────────────────────────────────────────────────────────┤\n",
       "│                                                                                                     <span style=\"color: #008080; text-decoration-color: #008080; font-weight: bold\">60.0</span> │\n",
       "│                                                                                                     <span style=\"color: #008080; text-decoration-color: #008080; font-weight: bold\">60.0</span> │\n",
       "│                                                                                                     <span style=\"color: #008080; text-decoration-color: #008080; font-weight: bold\">59.0</span> │\n",
       "│                                                                                                     <span style=\"color: #008080; text-decoration-color: #008080; font-weight: bold\">60.0</span> │\n",
       "│                                                                                                     <span style=\"color: #008080; text-decoration-color: #008080; font-weight: bold\">59.0</span> │\n",
       "│                                                                                                     <span style=\"color: #008080; text-decoration-color: #008080; font-weight: bold\">59.0</span> │\n",
       "│                                                                                                     <span style=\"color: #008080; text-decoration-color: #008080; font-weight: bold\">57.0</span> │\n",
       "│                                                                                                     <span style=\"color: #008080; text-decoration-color: #008080; font-weight: bold\">59.0</span> │\n",
       "│                                                                                                     <span style=\"color: #008080; text-decoration-color: #008080; font-weight: bold\">57.0</span> │\n",
       "│                                                                                                     <span style=\"color: #008080; text-decoration-color: #008080; font-weight: bold\">58.0</span> │\n",
       "│                                                                                                        <span style=\"color: #7f7f7f; text-decoration-color: #7f7f7f\">…</span> │\n",
       "└──────────────────────────────────────────────────────────────────────────────────────────────────────────┘\n",
       "</pre>\n"
      ],
      "text/plain": [
       "┏━━━━━━━━━━━━━━━━━━━━━━━━━━━━━━━━━━━━━━━━━━━━━━━━━━━━━━━━━━━━━━━━━━━━━━━━━━━━━━━━━━━━━━━━━━━━━━━━━━━━━━━━━━┓\n",
       "┃\u001b[1m \u001b[0m\u001b[1mAdd(Add(Multiply(Cast(hours, int64), 3600), Multiply(Cast(minutes, int64), 60)), Cast(seconds, float64))\u001b[0m\u001b[1m \u001b[0m┃\n",
       "┡━━━━━━━━━━━━━━━━━━━━━━━━━━━━━━━━━━━━━━━━━━━━━━━━━━━━━━━━━━━━━━━━━━━━━━━━━━━━━━━━━━━━━━━━━━━━━━━━━━━━━━━━━━┩\n",
       "│ \u001b[2mfloat64\u001b[0m                                                                                                  │\n",
       "├──────────────────────────────────────────────────────────────────────────────────────────────────────────┤\n",
       "│                                                                                                     \u001b[1;36m60.0\u001b[0m │\n",
       "│                                                                                                     \u001b[1;36m60.0\u001b[0m │\n",
       "│                                                                                                     \u001b[1;36m59.0\u001b[0m │\n",
       "│                                                                                                     \u001b[1;36m60.0\u001b[0m │\n",
       "│                                                                                                     \u001b[1;36m59.0\u001b[0m │\n",
       "│                                                                                                     \u001b[1;36m59.0\u001b[0m │\n",
       "│                                                                                                     \u001b[1;36m57.0\u001b[0m │\n",
       "│                                                                                                     \u001b[1;36m59.0\u001b[0m │\n",
       "│                                                                                                     \u001b[1;36m57.0\u001b[0m │\n",
       "│                                                                                                     \u001b[1;36m58.0\u001b[0m │\n",
       "│                                                                                                        \u001b[2m…\u001b[0m │\n",
       "└──────────────────────────────────────────────────────────────────────────────────────────────────────────┘\n"
      ]
     },
     "execution_count": 50,
     "metadata": {},
     "output_type": "execute_result"
    }
   ],
   "source": [
    "%%time\n",
    "clock = (\n",
    "    moves_with_clock.hours.cast(int) * 3600\n",
    "    + moves_with_clock.minutes.cast(int) * 60\n",
    "    + moves_with_clock.seconds.cast(float)\n",
    ")\n",
    "clock_based_features.append(clock.name(\"clock\"))\n",
    "clock.preview()"
   ]
  },
  {
   "cell_type": "code",
   "execution_count": 51,
   "id": "12c26829-f3bd-404a-857c-ab5318f355bd",
   "metadata": {},
   "outputs": [
    {
     "name": "stdout",
     "output_type": "stream",
     "text": [
      "CPU times: user 4.23 ms, sys: 11 μs, total: 4.24 ms\n",
      "Wall time: 4.21 ms\n"
     ]
    },
    {
     "data": {
      "text/html": [
       "<pre style=\"white-space:pre;overflow-x:auto;line-height:normal;font-family:Menlo,'DejaVu Sans Mono',consolas,'Courier New',monospace\">┏━━━━━━━━━━━━━━━━━━━━━━━━━━━━━━┳━━━━━━━━━━┳━━━━━━━━━┓\n",
       "┃<span style=\"font-weight: bold\"> site                         </span>┃<span style=\"font-weight: bold\"> move_ply </span>┃<span style=\"font-weight: bold\"> clock   </span>┃\n",
       "┡━━━━━━━━━━━━━━━━━━━━━━━━━━━━━━╇━━━━━━━━━━╇━━━━━━━━━┩\n",
       "│ <span style=\"color: #7f7f7f; text-decoration-color: #7f7f7f\">string</span>                       │ <span style=\"color: #7f7f7f; text-decoration-color: #7f7f7f\">int64</span>    │ <span style=\"color: #7f7f7f; text-decoration-color: #7f7f7f\">float64</span> │\n",
       "├──────────────────────────────┼──────────┼─────────┤\n",
       "│ <a href=\"https://lichess.org/bA6k4nny\" target=\"_blank\"><span style=\"color: #008000; text-decoration-color: #008000\">https://lichess.org/bA6k4nny</span></a> │        <span style=\"color: #008080; text-decoration-color: #008080; font-weight: bold\">1</span> │   <span style=\"color: #008080; text-decoration-color: #008080; font-weight: bold\">300.0</span> │\n",
       "│ <a href=\"https://lichess.org/bA6k4nny\" target=\"_blank\"><span style=\"color: #008000; text-decoration-color: #008000\">https://lichess.org/bA6k4nny</span></a> │        <span style=\"color: #008080; text-decoration-color: #008080; font-weight: bold\">2</span> │   <span style=\"color: #008080; text-decoration-color: #008080; font-weight: bold\">300.0</span> │\n",
       "│ <a href=\"https://lichess.org/bA6k4nny\" target=\"_blank\"><span style=\"color: #008000; text-decoration-color: #008000\">https://lichess.org/bA6k4nny</span></a> │        <span style=\"color: #008080; text-decoration-color: #008080; font-weight: bold\">3</span> │   <span style=\"color: #008080; text-decoration-color: #008080; font-weight: bold\">294.0</span> │\n",
       "│ <a href=\"https://lichess.org/bA6k4nny\" target=\"_blank\"><span style=\"color: #008000; text-decoration-color: #008000\">https://lichess.org/bA6k4nny</span></a> │        <span style=\"color: #008080; text-decoration-color: #008080; font-weight: bold\">4</span> │   <span style=\"color: #008080; text-decoration-color: #008080; font-weight: bold\">295.0</span> │\n",
       "│ <a href=\"https://lichess.org/bA6k4nny\" target=\"_blank\"><span style=\"color: #008000; text-decoration-color: #008000\">https://lichess.org/bA6k4nny</span></a> │        <span style=\"color: #008080; text-decoration-color: #008080; font-weight: bold\">5</span> │   <span style=\"color: #008080; text-decoration-color: #008080; font-weight: bold\">290.0</span> │\n",
       "│ <a href=\"https://lichess.org/bA6k4nny\" target=\"_blank\"><span style=\"color: #008000; text-decoration-color: #008000\">https://lichess.org/bA6k4nny</span></a> │        <span style=\"color: #008080; text-decoration-color: #008080; font-weight: bold\">6</span> │   <span style=\"color: #008080; text-decoration-color: #008080; font-weight: bold\">294.0</span> │\n",
       "│ <a href=\"https://lichess.org/bA6k4nny\" target=\"_blank\"><span style=\"color: #008000; text-decoration-color: #008000\">https://lichess.org/bA6k4nny</span></a> │        <span style=\"color: #008080; text-decoration-color: #008080; font-weight: bold\">7</span> │   <span style=\"color: #008080; text-decoration-color: #008080; font-weight: bold\">286.0</span> │\n",
       "│ <a href=\"https://lichess.org/bA6k4nny\" target=\"_blank\"><span style=\"color: #008000; text-decoration-color: #008000\">https://lichess.org/bA6k4nny</span></a> │        <span style=\"color: #008080; text-decoration-color: #008080; font-weight: bold\">8</span> │   <span style=\"color: #008080; text-decoration-color: #008080; font-weight: bold\">292.0</span> │\n",
       "│ <a href=\"https://lichess.org/bA6k4nny\" target=\"_blank\"><span style=\"color: #008000; text-decoration-color: #008000\">https://lichess.org/bA6k4nny</span></a> │        <span style=\"color: #008080; text-decoration-color: #008080; font-weight: bold\">9</span> │   <span style=\"color: #008080; text-decoration-color: #008080; font-weight: bold\">285.0</span> │\n",
       "│ <a href=\"https://lichess.org/bA6k4nny\" target=\"_blank\"><span style=\"color: #008000; text-decoration-color: #008000\">https://lichess.org/bA6k4nny</span></a> │       <span style=\"color: #008080; text-decoration-color: #008080; font-weight: bold\">10</span> │   <span style=\"color: #008080; text-decoration-color: #008080; font-weight: bold\">289.0</span> │\n",
       "│ <span style=\"color: #7f7f7f; text-decoration-color: #7f7f7f\">…</span>                            │        <span style=\"color: #7f7f7f; text-decoration-color: #7f7f7f\">…</span> │       <span style=\"color: #7f7f7f; text-decoration-color: #7f7f7f\">…</span> │\n",
       "└──────────────────────────────┴──────────┴─────────┘\n",
       "</pre>\n"
      ],
      "text/plain": [
       "┏━━━━━━━━━━━━━━━━━━━━━━━━━━━━━━┳━━━━━━━━━━┳━━━━━━━━━┓\n",
       "┃\u001b[1m \u001b[0m\u001b[1msite\u001b[0m\u001b[1m                        \u001b[0m\u001b[1m \u001b[0m┃\u001b[1m \u001b[0m\u001b[1mmove_ply\u001b[0m\u001b[1m \u001b[0m┃\u001b[1m \u001b[0m\u001b[1mclock\u001b[0m\u001b[1m  \u001b[0m\u001b[1m \u001b[0m┃\n",
       "┡━━━━━━━━━━━━━━━━━━━━━━━━━━━━━━╇━━━━━━━━━━╇━━━━━━━━━┩\n",
       "│ \u001b[2mstring\u001b[0m                       │ \u001b[2mint64\u001b[0m    │ \u001b[2mfloat64\u001b[0m │\n",
       "├──────────────────────────────┼──────────┼─────────┤\n",
       "│ \u001b]8;id=188542;https://lichess.org/bA6k4nny\u001b\\\u001b[32mhttps://lichess.org/bA6k4nny\u001b[0m\u001b]8;;\u001b\\ │        \u001b[1;36m1\u001b[0m │   \u001b[1;36m300.0\u001b[0m │\n",
       "│ \u001b]8;id=926663;https://lichess.org/bA6k4nny\u001b\\\u001b[32mhttps://lichess.org/bA6k4nny\u001b[0m\u001b]8;;\u001b\\ │        \u001b[1;36m2\u001b[0m │   \u001b[1;36m300.0\u001b[0m │\n",
       "│ \u001b]8;id=299127;https://lichess.org/bA6k4nny\u001b\\\u001b[32mhttps://lichess.org/bA6k4nny\u001b[0m\u001b]8;;\u001b\\ │        \u001b[1;36m3\u001b[0m │   \u001b[1;36m294.0\u001b[0m │\n",
       "│ \u001b]8;id=923167;https://lichess.org/bA6k4nny\u001b\\\u001b[32mhttps://lichess.org/bA6k4nny\u001b[0m\u001b]8;;\u001b\\ │        \u001b[1;36m4\u001b[0m │   \u001b[1;36m295.0\u001b[0m │\n",
       "│ \u001b]8;id=55251;https://lichess.org/bA6k4nny\u001b\\\u001b[32mhttps://lichess.org/bA6k4nny\u001b[0m\u001b]8;;\u001b\\ │        \u001b[1;36m5\u001b[0m │   \u001b[1;36m290.0\u001b[0m │\n",
       "│ \u001b]8;id=92975;https://lichess.org/bA6k4nny\u001b\\\u001b[32mhttps://lichess.org/bA6k4nny\u001b[0m\u001b]8;;\u001b\\ │        \u001b[1;36m6\u001b[0m │   \u001b[1;36m294.0\u001b[0m │\n",
       "│ \u001b]8;id=828032;https://lichess.org/bA6k4nny\u001b\\\u001b[32mhttps://lichess.org/bA6k4nny\u001b[0m\u001b]8;;\u001b\\ │        \u001b[1;36m7\u001b[0m │   \u001b[1;36m286.0\u001b[0m │\n",
       "│ \u001b]8;id=8813;https://lichess.org/bA6k4nny\u001b\\\u001b[32mhttps://lichess.org/bA6k4nny\u001b[0m\u001b]8;;\u001b\\ │        \u001b[1;36m8\u001b[0m │   \u001b[1;36m292.0\u001b[0m │\n",
       "│ \u001b]8;id=337008;https://lichess.org/bA6k4nny\u001b\\\u001b[32mhttps://lichess.org/bA6k4nny\u001b[0m\u001b]8;;\u001b\\ │        \u001b[1;36m9\u001b[0m │   \u001b[1;36m285.0\u001b[0m │\n",
       "│ \u001b]8;id=724880;https://lichess.org/bA6k4nny\u001b\\\u001b[32mhttps://lichess.org/bA6k4nny\u001b[0m\u001b]8;;\u001b\\ │       \u001b[1;36m10\u001b[0m │   \u001b[1;36m289.0\u001b[0m │\n",
       "│ \u001b[2m…\u001b[0m                            │        \u001b[2m…\u001b[0m │       \u001b[2m…\u001b[0m │\n",
       "└──────────────────────────────┴──────────┴─────────┘"
      ]
     },
     "execution_count": 51,
     "metadata": {},
     "output_type": "execute_result"
    }
   ],
   "source": [
    "%%time\n",
    "moves_with_clock.select(\"site\", \"move_ply\", *clock_based_features)"
   ]
  },
  {
   "cell_type": "code",
   "execution_count": 52,
   "id": "042a7ef9-b76f-4557-9ff0-f49d574e5cfd",
   "metadata": {},
   "outputs": [
    {
     "name": "stdout",
     "output_type": "stream",
     "text": [
      "CPU times: user 1h 43min 42s, sys: 36.6 s, total: 1h 44min 18s\n",
      "Wall time: 26.8 s\n"
     ]
    }
   ],
   "source": [
    "%%time\n",
    "moves_with_clock.select(\"site\", \"move_ply\", *clock_based_features).to_parquet(\n",
    "    \"../data/04_feature/clock_based_features.parquet\"\n",
    ")"
   ]
  },
  {
   "cell_type": "markdown",
   "id": "a1bc5444-1abd-447a-8f14-9cba0b3a47b6",
   "metadata": {},
   "source": [
    "## `eval`-based features"
   ]
  },
  {
   "cell_type": "code",
   "execution_count": 53,
   "id": "ddb3a0f7-0d19-4ecf-bfdc-e12c5aeb73a8",
   "metadata": {},
   "outputs": [],
   "source": [
    "eval_based_features = []"
   ]
  },
  {
   "cell_type": "code",
   "execution_count": 54,
   "id": "280e5457-afee-4b27-995f-9babe3009664",
   "metadata": {},
   "outputs": [
    {
     "name": "stdout",
     "output_type": "stream",
     "text": [
      "CPU times: user 1h 15min 3s, sys: 5.64 s, total: 1h 15min 8s\n",
      "Wall time: 18.9 s\n"
     ]
    },
    {
     "data": {
      "text/plain": [
       "8123404"
      ]
     },
     "execution_count": 54,
     "metadata": {},
     "output_type": "execute_result"
    }
   ],
   "source": [
    "%%time\n",
    "import string\n",
    "\n",
    "from chess.pgn import EVAL_REGEX\n",
    "\n",
    "moves_with_parsed_eval = (\n",
    "    filtered_moves.alias(\"moves_with_evals\")\n",
    "    .sql(\n",
    "        f\"\"\"\n",
    "        SELECT\n",
    "          *,\n",
    "          REGEXP_EXTRACT(\n",
    "            move_comment,\n",
    "            '{EVAL_REGEX.pattern.translate(str.maketrans(\"\", \"\", string.whitespace))}',\n",
    "            ['prefix', 'mate', 'cp', 'depth', 'suffix']\n",
    "          ) AS eval\n",
    "        FROM moves_with_evals\n",
    "        \"\"\"\n",
    "    )\n",
    "    .unpack(\"eval\")\n",
    ")\n",
    "moves_with_parsed_eval.site.nunique().to_pyarrow().as_py()"
   ]
  },
  {
   "cell_type": "code",
   "execution_count": 55,
   "id": "13d04814-226f-4095-9cf7-ab18d4932950",
   "metadata": {},
   "outputs": [
    {
     "name": "stdout",
     "output_type": "stream",
     "text": [
      "CPU times: user 8.15 s, sys: 5.8 s, total: 13.9 s\n",
      "Wall time: 587 ms\n"
     ]
    },
    {
     "data": {
      "text/html": [
       "<pre style=\"white-space:pre;overflow-x:auto;line-height:normal;font-family:Menlo,'DejaVu Sans Mono',consolas,'Courier New',monospace\">┏━━━━━━━━━━━━━━━━━━━━━━━━━━━━━━━━━━━━━━━━━━━━━━━━━━━━━━━━━━━━━━━━━━━━━━━━━━━━━━━━━━━━━━━━━━━━━━━━━━━━━━━━━━━━━━━━━┓\n",
       "┃<span style=\"font-weight: bold\"> Coalesce((Round(Multiply(TryCast(cp, Float64), 100)), Subtract(Multiply(Sign(TryCast(mate, Int64)), 100000), T… </span>┃\n",
       "┡━━━━━━━━━━━━━━━━━━━━━━━━━━━━━━━━━━━━━━━━━━━━━━━━━━━━━━━━━━━━━━━━━━━━━━━━━━━━━━━━━━━━━━━━━━━━━━━━━━━━━━━━━━━━━━━━━┩\n",
       "│ <span style=\"color: #7f7f7f; text-decoration-color: #7f7f7f\">int64</span>                                                                                                           │\n",
       "├─────────────────────────────────────────────────────────────────────────────────────────────────────────────────┤\n",
       "│                                                                                                              <span style=\"color: #008080; text-decoration-color: #008080; font-weight: bold\">16</span> │\n",
       "│                                                                                                              <span style=\"color: #008080; text-decoration-color: #008080; font-weight: bold\">17</span> │\n",
       "│                                                                                                               <span style=\"color: #008080; text-decoration-color: #008080; font-weight: bold\">4</span> │\n",
       "│                                                                                                               <span style=\"color: #008080; text-decoration-color: #008080; font-weight: bold\">3</span> │\n",
       "│                                                                                                             <span style=\"color: #008080; text-decoration-color: #008080; font-weight: bold\">-15</span> │\n",
       "│                                                                                                               <span style=\"color: #008080; text-decoration-color: #008080; font-weight: bold\">4</span> │\n",
       "│                                                                                                               <span style=\"color: #008080; text-decoration-color: #008080; font-weight: bold\">0</span> │\n",
       "│                                                                                                              <span style=\"color: #008080; text-decoration-color: #008080; font-weight: bold\">23</span> │\n",
       "│                                                                                                             <span style=\"color: #008080; text-decoration-color: #008080; font-weight: bold\">-25</span> │\n",
       "│                                                                                                              <span style=\"color: #008080; text-decoration-color: #008080; font-weight: bold\">-8</span> │\n",
       "│                                                                                                               <span style=\"color: #7f7f7f; text-decoration-color: #7f7f7f\">…</span> │\n",
       "└─────────────────────────────────────────────────────────────────────────────────────────────────────────────────┘\n",
       "</pre>\n"
      ],
      "text/plain": [
       "┏━━━━━━━━━━━━━━━━━━━━━━━━━━━━━━━━━━━━━━━━━━━━━━━━━━━━━━━━━━━━━━━━━━━━━━━━━━━━━━━━━━━━━━━━━━━━━━━━━━━━━━━━━━━━━━━━━┓\n",
       "┃\u001b[1m \u001b[0m\u001b[1mCoalesce((Round(Multiply(TryCast(cp, Float64), 100)), Subtract(Multiply(Sign(TryCast(mate, Int64)), 100000), T…\u001b[0m\u001b[1m \u001b[0m┃\n",
       "┡━━━━━━━━━━━━━━━━━━━━━━━━━━━━━━━━━━━━━━━━━━━━━━━━━━━━━━━━━━━━━━━━━━━━━━━━━━━━━━━━━━━━━━━━━━━━━━━━━━━━━━━━━━━━━━━━━┩\n",
       "│ \u001b[2mint64\u001b[0m                                                                                                           │\n",
       "├─────────────────────────────────────────────────────────────────────────────────────────────────────────────────┤\n",
       "│                                                                                                              \u001b[1;36m16\u001b[0m │\n",
       "│                                                                                                              \u001b[1;36m17\u001b[0m │\n",
       "│                                                                                                               \u001b[1;36m4\u001b[0m │\n",
       "│                                                                                                               \u001b[1;36m3\u001b[0m │\n",
       "│                                                                                                             \u001b[1;36m-15\u001b[0m │\n",
       "│                                                                                                               \u001b[1;36m4\u001b[0m │\n",
       "│                                                                                                               \u001b[1;36m0\u001b[0m │\n",
       "│                                                                                                              \u001b[1;36m23\u001b[0m │\n",
       "│                                                                                                             \u001b[1;36m-25\u001b[0m │\n",
       "│                                                                                                              \u001b[1;36m-8\u001b[0m │\n",
       "│                                                                                                               \u001b[2m…\u001b[0m │\n",
       "└─────────────────────────────────────────────────────────────────────────────────────────────────────────────────┘\n"
      ]
     },
     "execution_count": 55,
     "metadata": {},
     "output_type": "execute_result"
    }
   ],
   "source": [
    "%%time\n",
    "MATE_SCORE = 100000\n",
    "\n",
    "score = ibis.coalesce(\n",
    "    (moves_with_parsed_eval.cp.try_cast(float) * 100).round(),\n",
    "    moves_with_parsed_eval.mate.try_cast(int).sign() * MATE_SCORE\n",
    "    - moves_with_parsed_eval.mate.try_cast(int),\n",
    "    moves_with_parsed_eval.result.case()\n",
    "    .when(\"1-0\", MATE_SCORE)\n",
    "    .when(\"0-1\", -MATE_SCORE)\n",
    "    .when(\"1/2-1/2\", 0)\n",
    "    .end(),\n",
    ")\n",
    "eval_based_features.append(score.name(\"score\"))\n",
    "score.preview()"
   ]
  },
  {
   "cell_type": "code",
   "execution_count": 56,
   "id": "6e1ac719-1b02-4c1a-9e63-0ad5a650e44a",
   "metadata": {},
   "outputs": [
    {
     "name": "stdout",
     "output_type": "stream",
     "text": [
      "CPU times: user 10.4 ms, sys: 94 μs, total: 10.4 ms\n",
      "Wall time: 10.1 ms\n"
     ]
    }
   ],
   "source": [
    "%%time\n",
    "CEILING = 1000\n",
    "INITIAL = 15\n",
    "\n",
    "cpl = ibis.greatest(\n",
    "    (\n",
    "        score.clip(-CEILING, CEILING)\n",
    "        - score.clip(-CEILING, CEILING)\n",
    "        .lag(default=INITIAL)\n",
    "        .over(ibis.window(group_by=\"site\", order_by=\"move_ply\"))\n",
    "    )\n",
    "    * ibis.ifelse(moves_with_parsed_eval.move_ply % 2 != 0, -1, 1),\n",
    "    0,\n",
    ")\n",
    "eval_based_features.append(cpl.name(\"cpl\"))"
   ]
  },
  {
   "cell_type": "code",
   "execution_count": 57,
   "id": "57492349-3930-4d66-b862-cf75cb0c9873",
   "metadata": {},
   "outputs": [
    {
     "name": "stdout",
     "output_type": "stream",
     "text": [
      "CPU times: user 1h 14min 15s, sys: 4.42 s, total: 1h 14min 20s\n",
      "Wall time: 18.3 s\n"
     ]
    },
    {
     "data": {
      "text/plain": [
       "534115132"
      ]
     },
     "execution_count": 57,
     "metadata": {},
     "output_type": "execute_result"
    }
   ],
   "source": [
    "%%time\n",
    "moves_with_parsed_eval.count().to_pyarrow().as_py()"
   ]
  },
  {
   "cell_type": "code",
   "execution_count": 58,
   "id": "12f3c7b5-0df5-444d-a9cc-451605272150",
   "metadata": {},
   "outputs": [
    {
     "name": "stdout",
     "output_type": "stream",
     "text": [
      "|████████████████████████████████████████| 200/200 [100%] in 1:21:35.1 (0.04/s) \n",
      "CPU times: user 12d 50min 58s, sys: 5h 13min 51s, total: 12d 6h 4min 50s\n",
      "Wall time: 1h 21min 35s\n"
     ]
    }
   ],
   "source": [
    "%%time\n",
    "from alive_progress import alive_bar\n",
    "\n",
    "NUM_PARTITIONS = 200\n",
    "\n",
    "with alive_bar(NUM_PARTITIONS) as bar:\n",
    "    for i in range(NUM_PARTITIONS):\n",
    "        moves_with_parsed_eval.filter(_.site.hash().abs() % NUM_PARTITIONS == i).select(\n",
    "            \"site\", \"move_ply\", *eval_based_features\n",
    "        ).to_parquet(f\"../data/04_feature/eval_based_features/{i}.parquet\")\n",
    "        bar()"
   ]
  },
  {
   "cell_type": "code",
   "execution_count": 59,
   "id": "898449b8-590f-482f-b720-561f45529d33",
   "metadata": {},
   "outputs": [
    {
     "name": "stdout",
     "output_type": "stream",
     "text": [
      "CPU times: user 1h 13min 42s, sys: 9.18 s, total: 1h 13min 51s\n",
      "Wall time: 20.7 s\n"
     ]
    }
   ],
   "source": [
    "%%time\n",
    "assert (\n",
    "    ibis.read_parquet(\"../data/04_feature/eval_based_features/*.parquet\")\n",
    "    .count()\n",
    "    .to_pyarrow()\n",
    "    .as_py()\n",
    "    == moves_with_parsed_eval.count().to_pyarrow().as_py()\n",
    ")"
   ]
  }
 ],
 "metadata": {
  "kernelspec": {
   "display_name": "Python 3 (ipykernel)",
   "language": "python",
   "name": "python3"
  },
  "language_info": {
   "codemirror_mode": {
    "name": "ipython",
    "version": 3
   },
   "file_extension": ".py",
   "mimetype": "text/x-python",
   "name": "python",
   "nbconvert_exporter": "python",
   "pygments_lexer": "ipython3",
   "version": "3.12.5"
  }
 },
 "nbformat": 4,
 "nbformat_minor": 5
}
